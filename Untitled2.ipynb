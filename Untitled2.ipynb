{
 "cells": [
  {
   "cell_type": "code",
   "execution_count": 2,
   "metadata": {
    "collapsed": false
   },
   "outputs": [
    {
     "name": "stderr",
     "output_type": "stream",
     "text": [
      "[INFO] graphlab.cython.cy_server: GraphLab Create v2.1 started. Logging: /tmp/graphlab_server_1546430105.log\n",
      "INFO:graphlab.cython.cy_server:GraphLab Create v2.1 started. Logging: /tmp/graphlab_server_1546430105.log\n"
     ]
    },
    {
     "name": "stdout",
     "output_type": "stream",
     "text": [
      "This non-commercial license of GraphLab Create for academic use is assigned to 1617655807@qq.com and will expire on December 26, 2019.\n",
      "Canvas is accessible via web browser at the URL: http://localhost:60891/index.html"
     ]
    },
    {
     "data": {
      "text/html": [
       "<pre>WARNING: The number of feature dimensions in this problem is very large in comparison with the number of examples. Unless an appropriate regularization value is set, this model may not provide accurate predictions for a validation/test set.</pre>"
      ],
      "text/plain": [
       "WARNING: The number of feature dimensions in this problem is very large in comparison with the number of examples. Unless an appropriate regularization value is set, this model may not provide accurate predictions for a validation/test set."
      ]
     },
     "metadata": {},
     "output_type": "display_data"
    },
    {
     "data": {
      "text/html": [
       "<pre>Logistic regression:</pre>"
      ],
      "text/plain": [
       "Logistic regression:"
      ]
     },
     "metadata": {},
     "output_type": "display_data"
    },
    {
     "data": {
      "text/html": [
       "<pre>--------------------------------------------------------</pre>"
      ],
      "text/plain": [
       "--------------------------------------------------------"
      ]
     },
     "metadata": {},
     "output_type": "display_data"
    },
    {
     "data": {
      "text/html": [
       "<pre>Number of examples          : 133448</pre>"
      ],
      "text/plain": [
       "Number of examples          : 133448"
      ]
     },
     "metadata": {},
     "output_type": "display_data"
    },
    {
     "data": {
      "text/html": [
       "<pre>Number of classes           : 2</pre>"
      ],
      "text/plain": [
       "Number of classes           : 2"
      ]
     },
     "metadata": {},
     "output_type": "display_data"
    },
    {
     "data": {
      "text/html": [
       "<pre>Number of feature columns   : 1</pre>"
      ],
      "text/plain": [
       "Number of feature columns   : 1"
      ]
     },
     "metadata": {},
     "output_type": "display_data"
    },
    {
     "data": {
      "text/html": [
       "<pre>Number of unpacked features : 219217</pre>"
      ],
      "text/plain": [
       "Number of unpacked features : 219217"
      ]
     },
     "metadata": {},
     "output_type": "display_data"
    },
    {
     "data": {
      "text/html": [
       "<pre>Number of coefficients    : 219218</pre>"
      ],
      "text/plain": [
       "Number of coefficients    : 219218"
      ]
     },
     "metadata": {},
     "output_type": "display_data"
    },
    {
     "data": {
      "text/html": [
       "<pre>Starting L-BFGS</pre>"
      ],
      "text/plain": [
       "Starting L-BFGS"
      ]
     },
     "metadata": {},
     "output_type": "display_data"
    },
    {
     "data": {
      "text/html": [
       "<pre>--------------------------------------------------------</pre>"
      ],
      "text/plain": [
       "--------------------------------------------------------"
      ]
     },
     "metadata": {},
     "output_type": "display_data"
    },
    {
     "data": {
      "text/html": [
       "<pre>+-----------+----------+-----------+--------------+-------------------+---------------------+</pre>"
      ],
      "text/plain": [
       "+-----------+----------+-----------+--------------+-------------------+---------------------+"
      ]
     },
     "metadata": {},
     "output_type": "display_data"
    },
    {
     "data": {
      "text/html": [
       "<pre>| Iteration | Passes   | Step size | Elapsed Time | Training-accuracy | Validation-accuracy |</pre>"
      ],
      "text/plain": [
       "| Iteration | Passes   | Step size | Elapsed Time | Training-accuracy | Validation-accuracy |"
      ]
     },
     "metadata": {},
     "output_type": "display_data"
    },
    {
     "data": {
      "text/html": [
       "<pre>+-----------+----------+-----------+--------------+-------------------+---------------------+</pre>"
      ],
      "text/plain": [
       "+-----------+----------+-----------+--------------+-------------------+---------------------+"
      ]
     },
     "metadata": {},
     "output_type": "display_data"
    },
    {
     "data": {
      "text/html": [
       "<pre>| 1         | 5        | 0.000002  | 4.495780     | 0.841481          | 0.839989            |</pre>"
      ],
      "text/plain": [
       "| 1         | 5        | 0.000002  | 4.495780     | 0.841481          | 0.839989            |"
      ]
     },
     "metadata": {},
     "output_type": "display_data"
    },
    {
     "data": {
      "text/html": [
       "<pre>| 2         | 9        | 3.000000  | 7.782938     | 0.947425          | 0.894877            |</pre>"
      ],
      "text/plain": [
       "| 2         | 9        | 3.000000  | 7.782938     | 0.947425          | 0.894877            |"
      ]
     },
     "metadata": {},
     "output_type": "display_data"
    },
    {
     "data": {
      "text/html": [
       "<pre>| 3         | 10       | 3.000000  | 9.008859     | 0.923768          | 0.866232            |</pre>"
      ],
      "text/plain": [
       "| 3         | 10       | 3.000000  | 9.008859     | 0.923768          | 0.866232            |"
      ]
     },
     "metadata": {},
     "output_type": "display_data"
    },
    {
     "data": {
      "text/html": [
       "<pre>| 4         | 11       | 3.000000  | 10.255891    | 0.971779          | 0.912743            |</pre>"
      ],
      "text/plain": [
       "| 4         | 11       | 3.000000  | 10.255891    | 0.971779          | 0.912743            |"
      ]
     },
     "metadata": {},
     "output_type": "display_data"
    },
    {
     "data": {
      "text/html": [
       "<pre>| 5         | 12       | 3.000000  | 11.526893    | 0.975511          | 0.908900            |</pre>"
      ],
      "text/plain": [
       "| 5         | 12       | 3.000000  | 11.526893    | 0.975511          | 0.908900            |"
      ]
     },
     "metadata": {},
     "output_type": "display_data"
    },
    {
     "data": {
      "text/html": [
       "<pre>| 6         | 13       | 3.000000  | 12.781714    | 0.899991          | 0.825967            |</pre>"
      ],
      "text/plain": [
       "| 6         | 13       | 3.000000  | 12.781714    | 0.899991          | 0.825967            |"
      ]
     },
     "metadata": {},
     "output_type": "display_data"
    },
    {
     "data": {
      "text/html": [
       "<pre>| 7         | 15       | 1.000000  | 14.724468    | 0.984548          | 0.921451            |</pre>"
      ],
      "text/plain": [
       "| 7         | 15       | 1.000000  | 14.724468    | 0.984548          | 0.921451            |"
      ]
     },
     "metadata": {},
     "output_type": "display_data"
    },
    {
     "data": {
      "text/html": [
       "<pre>| 8         | 16       | 1.000000  | 15.943446    | 0.985118          | 0.921871            |</pre>"
      ],
      "text/plain": [
       "| 8         | 16       | 1.000000  | 15.943446    | 0.985118          | 0.921871            |"
      ]
     },
     "metadata": {},
     "output_type": "display_data"
    },
    {
     "data": {
      "text/html": [
       "<pre>| 9         | 17       | 1.000000  | 17.193414    | 0.987066          | 0.919709            |</pre>"
      ],
      "text/plain": [
       "| 9         | 17       | 1.000000  | 17.193414    | 0.987066          | 0.919709            |"
      ]
     },
     "metadata": {},
     "output_type": "display_data"
    },
    {
     "data": {
      "text/html": [
       "<pre>| 10        | 18       | 1.000000  | 18.433966    | 0.988715          | 0.916256            |</pre>"
      ],
      "text/plain": [
       "| 10        | 18       | 1.000000  | 18.433966    | 0.988715          | 0.916256            |"
      ]
     },
     "metadata": {},
     "output_type": "display_data"
    },
    {
     "data": {
      "text/html": [
       "<pre>+-----------+----------+-----------+--------------+-------------------+---------------------+</pre>"
      ],
      "text/plain": [
       "+-----------+----------+-----------+--------------+-------------------+---------------------+"
      ]
     },
     "metadata": {},
     "output_type": "display_data"
    },
    {
     "data": {
      "text/html": [
       "<pre>TERMINATED: Iteration limit reached.</pre>"
      ],
      "text/plain": [
       "TERMINATED: Iteration limit reached."
      ]
     },
     "metadata": {},
     "output_type": "display_data"
    },
    {
     "data": {
      "text/html": [
       "<pre>This model may not be optimal. To improve it, consider increasing `max_iterations`.</pre>"
      ],
      "text/plain": [
       "This model may not be optimal. To improve it, consider increasing `max_iterations`."
      ]
     },
     "metadata": {},
     "output_type": "display_data"
    },
    {
     "name": "stdout",
     "output_type": "stream",
     "text": [
      "\n",
      "Opening Canvas in default web browser.\n",
      "Canvas is accessible via web browser at the URL: http://localhost:60891/index.html\n",
      "Opening Canvas in default web browser.\n"
     ]
    }
   ],
   "source": [
    "import graphlab\n",
    "products = graphlab.SFrame('amazon_baby.gl/')\n",
    "#  word count\n",
    "products['word_count'] = graphlab.text_analytics.count_words(products['review'])\n",
    "\n",
    "\n",
    "\n",
    "\n",
    "\n",
    "\n",
    "\n",
    "#  the most popular product\n",
    "giraffe_reviews = products[products['name'] == 'Vulli Sophie the Giraffe Teether']\n",
    "giraffe_reviews['rating'].show(view='Categorical')\n",
    "#  rate is the score given by customers\n",
    "\n",
    "# ignore all 3* rebiews  because it is neutral not positive and not negative\n",
    "products = products[products['rating'] != 3]\n",
    "products['sentiment'] = products['rating'] >=4\n",
    "# positive 1 not 0   ----labeled\n",
    "\n",
    "\n",
    "\n",
    "\n",
    "train_data,test_data = products.random_split(.8,seed = 0)\n",
    "\n",
    "sentiment_model = graphlab.logistic_classifier.create(train_data,target='sentiment',features=['word_count'],validation_set= test_data)\n",
    "\n",
    "\n",
    "# iteration   having validation_set\n",
    "\n",
    "sentiment_model.evaluate(test_data,metric='roc_curve')\n",
    "#  show confusion metrics\n",
    "sentiment_model.show(view='Evaluation')\n",
    "\n",
    "\n",
    "\n",
    "#  each review get a score according to its words count and weights\n",
    "#  output:socres=====over threshold is postive"
   ]
  },
  {
   "cell_type": "code",
   "execution_count": 3,
   "metadata": {
    "collapsed": true
   },
   "outputs": [],
   "source": [
    "giraffe_reviews['predict_sentiment'] = sentiment_model.predict(giraffe_reviews,output_type=\"probability\")"
   ]
  },
  {
   "cell_type": "code",
   "execution_count": 4,
   "metadata": {
    "collapsed": false
   },
   "outputs": [
    {
     "data": {
      "text/html": [
       "<div style=\"max-height:1000px;max-width:1500px;overflow:auto;\"><table frame=\"box\" rules=\"cols\">\n",
       "    <tr>\n",
       "        <th style=\"padding-left: 1em; padding-right: 1em; text-align: center\">name</th>\n",
       "        <th style=\"padding-left: 1em; padding-right: 1em; text-align: center\">review</th>\n",
       "        <th style=\"padding-left: 1em; padding-right: 1em; text-align: center\">rating</th>\n",
       "        <th style=\"padding-left: 1em; padding-right: 1em; text-align: center\">word_count</th>\n",
       "        <th style=\"padding-left: 1em; padding-right: 1em; text-align: center\">predict_sentiment</th>\n",
       "    </tr>\n",
       "    <tr>\n",
       "        <td style=\"padding-left: 1em; padding-right: 1em; text-align: center; vertical-align: top\">Vulli Sophie the Giraffe<br>Teether ...</td>\n",
       "        <td style=\"padding-left: 1em; padding-right: 1em; text-align: center; vertical-align: top\">He likes chewing on all<br>the parts especially the ...</td>\n",
       "        <td style=\"padding-left: 1em; padding-right: 1em; text-align: center; vertical-align: top\">5.0</td>\n",
       "        <td style=\"padding-left: 1em; padding-right: 1em; text-align: center; vertical-align: top\">{'and': 1, 'all': 1,<br>'because': 1, 'it': 1, ...</td>\n",
       "        <td style=\"padding-left: 1em; padding-right: 1em; text-align: center; vertical-align: top\">0.999513023521</td>\n",
       "    </tr>\n",
       "    <tr>\n",
       "        <td style=\"padding-left: 1em; padding-right: 1em; text-align: center; vertical-align: top\">Vulli Sophie the Giraffe<br>Teether ...</td>\n",
       "        <td style=\"padding-left: 1em; padding-right: 1em; text-align: center; vertical-align: top\">My son loves this toy and<br>fits great in the diaper ...</td>\n",
       "        <td style=\"padding-left: 1em; padding-right: 1em; text-align: center; vertical-align: top\">5.0</td>\n",
       "        <td style=\"padding-left: 1em; padding-right: 1em; text-align: center; vertical-align: top\">{'and': 1, 'right': 1,<br>'help': 1, 'just': 1, ...</td>\n",
       "        <td style=\"padding-left: 1em; padding-right: 1em; text-align: center; vertical-align: top\">0.999320678306</td>\n",
       "    </tr>\n",
       "    <tr>\n",
       "        <td style=\"padding-left: 1em; padding-right: 1em; text-align: center; vertical-align: top\">Vulli Sophie the Giraffe<br>Teether ...</td>\n",
       "        <td style=\"padding-left: 1em; padding-right: 1em; text-align: center; vertical-align: top\">There really should be a<br>large warning on the  ...</td>\n",
       "        <td style=\"padding-left: 1em; padding-right: 1em; text-align: center; vertical-align: top\">1.0</td>\n",
       "        <td style=\"padding-left: 1em; padding-right: 1em; text-align: center; vertical-align: top\">{'and': 2, 'all': 1,<br>'would': 1, 'latex.': 1, ...</td>\n",
       "        <td style=\"padding-left: 1em; padding-right: 1em; text-align: center; vertical-align: top\">0.013558811687</td>\n",
       "    </tr>\n",
       "    <tr>\n",
       "        <td style=\"padding-left: 1em; padding-right: 1em; text-align: center; vertical-align: top\">Vulli Sophie the Giraffe<br>Teether ...</td>\n",
       "        <td style=\"padding-left: 1em; padding-right: 1em; text-align: center; vertical-align: top\">All the moms in my moms'<br>group got Sophie for ...</td>\n",
       "        <td style=\"padding-left: 1em; padding-right: 1em; text-align: center; vertical-align: top\">5.0</td>\n",
       "        <td style=\"padding-left: 1em; padding-right: 1em; text-align: center; vertical-align: top\">{'and': 2, 'one!': 1,<br>'all': 1, 'love': 1, ...</td>\n",
       "        <td style=\"padding-left: 1em; padding-right: 1em; text-align: center; vertical-align: top\">0.995769474148</td>\n",
       "    </tr>\n",
       "    <tr>\n",
       "        <td style=\"padding-left: 1em; padding-right: 1em; text-align: center; vertical-align: top\">Vulli Sophie the Giraffe<br>Teether ...</td>\n",
       "        <td style=\"padding-left: 1em; padding-right: 1em; text-align: center; vertical-align: top\">I was a little skeptical<br>on whether Sophie was ...</td>\n",
       "        <td style=\"padding-left: 1em; padding-right: 1em; text-align: center; vertical-align: top\">5.0</td>\n",
       "        <td style=\"padding-left: 1em; padding-right: 1em; text-align: center; vertical-align: top\">{'and': 3, 'all': 1,<br>'months': 1, 'old': 1, ...</td>\n",
       "        <td style=\"padding-left: 1em; padding-right: 1em; text-align: center; vertical-align: top\">0.662374415673</td>\n",
       "    </tr>\n",
       "    <tr>\n",
       "        <td style=\"padding-left: 1em; padding-right: 1em; text-align: center; vertical-align: top\">Vulli Sophie the Giraffe<br>Teether ...</td>\n",
       "        <td style=\"padding-left: 1em; padding-right: 1em; text-align: center; vertical-align: top\">I have been reading about<br>Sophie and was going  ...</td>\n",
       "        <td style=\"padding-left: 1em; padding-right: 1em; text-align: center; vertical-align: top\">5.0</td>\n",
       "        <td style=\"padding-left: 1em; padding-right: 1em; text-align: center; vertical-align: top\">{'and': 6, 'seven': 1,<br>'already': 1, 'love': 1, ...</td>\n",
       "        <td style=\"padding-left: 1em; padding-right: 1em; text-align: center; vertical-align: top\">0.999997148186</td>\n",
       "    </tr>\n",
       "    <tr>\n",
       "        <td style=\"padding-left: 1em; padding-right: 1em; text-align: center; vertical-align: top\">Vulli Sophie the Giraffe<br>Teether ...</td>\n",
       "        <td style=\"padding-left: 1em; padding-right: 1em; text-align: center; vertical-align: top\">My neice loves her sophie<br>and has spent hours ...</td>\n",
       "        <td style=\"padding-left: 1em; padding-right: 1em; text-align: center; vertical-align: top\">5.0</td>\n",
       "        <td style=\"padding-left: 1em; padding-right: 1em; text-align: center; vertical-align: top\">{'and': 4, 'drooling,':<br>1, 'love': 1, ...</td>\n",
       "        <td style=\"padding-left: 1em; padding-right: 1em; text-align: center; vertical-align: top\">0.989190989536</td>\n",
       "    </tr>\n",
       "    <tr>\n",
       "        <td style=\"padding-left: 1em; padding-right: 1em; text-align: center; vertical-align: top\">Vulli Sophie the Giraffe<br>Teether ...</td>\n",
       "        <td style=\"padding-left: 1em; padding-right: 1em; text-align: center; vertical-align: top\">What a friendly face!<br>And those mesmerizing ...</td>\n",
       "        <td style=\"padding-left: 1em; padding-right: 1em; text-align: center; vertical-align: top\">5.0</td>\n",
       "        <td style=\"padding-left: 1em; padding-right: 1em; text-align: center; vertical-align: top\">{'and': 3, 'chew': 1,<br>'be': 1, 'is': 1, ...</td>\n",
       "        <td style=\"padding-left: 1em; padding-right: 1em; text-align: center; vertical-align: top\">0.999563518413</td>\n",
       "    </tr>\n",
       "    <tr>\n",
       "        <td style=\"padding-left: 1em; padding-right: 1em; text-align: center; vertical-align: top\">Vulli Sophie the Giraffe<br>Teether ...</td>\n",
       "        <td style=\"padding-left: 1em; padding-right: 1em; text-align: center; vertical-align: top\">We got this just for my<br>son to chew on instea ...</td>\n",
       "        <td style=\"padding-left: 1em; padding-right: 1em; text-align: center; vertical-align: top\">5.0</td>\n",
       "        <td style=\"padding-left: 1em; padding-right: 1em; text-align: center; vertical-align: top\">{'chew': 2, 'seemed': 1,<br>'because': 1, 'about.': ...</td>\n",
       "        <td style=\"padding-left: 1em; padding-right: 1em; text-align: center; vertical-align: top\">0.970160542725</td>\n",
       "    </tr>\n",
       "    <tr>\n",
       "        <td style=\"padding-left: 1em; padding-right: 1em; text-align: center; vertical-align: top\">Vulli Sophie the Giraffe<br>Teether ...</td>\n",
       "        <td style=\"padding-left: 1em; padding-right: 1em; text-align: center; vertical-align: top\">My baby seems to like<br>this toy, but I could ...</td>\n",
       "        <td style=\"padding-left: 1em; padding-right: 1em; text-align: center; vertical-align: top\">3.0</td>\n",
       "        <td style=\"padding-left: 1em; padding-right: 1em; text-align: center; vertical-align: top\">{'and': 2, 'already': 1,<br>'some': 1, 'it': 3, ...</td>\n",
       "        <td style=\"padding-left: 1em; padding-right: 1em; text-align: center; vertical-align: top\">0.195367644588</td>\n",
       "    </tr>\n",
       "</table>\n",
       "[10 rows x 5 columns]<br/>\n",
       "</div>"
      ],
      "text/plain": [
       "Columns:\n",
       "\tname\tstr\n",
       "\treview\tstr\n",
       "\trating\tfloat\n",
       "\tword_count\tdict\n",
       "\tpredict_sentiment\tfloat\n",
       "\n",
       "Rows: 10\n",
       "\n",
       "Data:\n",
       "+-------------------------------+-------------------------------+--------+\n",
       "|              name             |             review            | rating |\n",
       "+-------------------------------+-------------------------------+--------+\n",
       "| Vulli Sophie the Giraffe T... | He likes chewing on all th... |  5.0   |\n",
       "| Vulli Sophie the Giraffe T... | My son loves this toy and ... |  5.0   |\n",
       "| Vulli Sophie the Giraffe T... | There really should be a l... |  1.0   |\n",
       "| Vulli Sophie the Giraffe T... | All the moms in my moms' g... |  5.0   |\n",
       "| Vulli Sophie the Giraffe T... | I was a little skeptical o... |  5.0   |\n",
       "| Vulli Sophie the Giraffe T... | I have been reading about ... |  5.0   |\n",
       "| Vulli Sophie the Giraffe T... | My neice loves her sophie ... |  5.0   |\n",
       "| Vulli Sophie the Giraffe T... | What a friendly face!  And... |  5.0   |\n",
       "| Vulli Sophie the Giraffe T... | We got this just for my so... |  5.0   |\n",
       "| Vulli Sophie the Giraffe T... | My baby seems to like this... |  3.0   |\n",
       "+-------------------------------+-------------------------------+--------+\n",
       "+-------------------------------+-------------------+\n",
       "|           word_count          | predict_sentiment |\n",
       "+-------------------------------+-------------------+\n",
       "| {'and': 1, 'all': 1, 'beca... |   0.999513023521  |\n",
       "| {'and': 1, 'right': 1, 'he... |   0.999320678306  |\n",
       "| {'and': 2, 'all': 1, 'woul... |   0.013558811687  |\n",
       "| {'and': 2, 'one!': 1, 'all... |   0.995769474148  |\n",
       "| {'and': 3, 'all': 1, 'mont... |   0.662374415673  |\n",
       "| {'and': 6, 'seven': 1, 'al... |   0.999997148186  |\n",
       "| {'and': 4, 'drooling,': 1,... |   0.989190989536  |\n",
       "| {'and': 3, 'chew': 1, 'be'... |   0.999563518413  |\n",
       "| {'chew': 2, 'seemed': 1, '... |   0.970160542725  |\n",
       "| {'and': 2, 'already': 1, '... |   0.195367644588  |\n",
       "+-------------------------------+-------------------+\n",
       "[10 rows x 5 columns]"
      ]
     },
     "execution_count": 4,
     "metadata": {},
     "output_type": "execute_result"
    }
   ],
   "source": [
    "giraffe_reviews.head()"
   ]
  },
  {
   "cell_type": "code",
   "execution_count": 5,
   "metadata": {
    "collapsed": true
   },
   "outputs": [],
   "source": [
    " # sort the reviews"
   ]
  },
  {
   "cell_type": "code",
   "execution_count": 7,
   "metadata": {
    "collapsed": false
   },
   "outputs": [],
   "source": [
    "giraffe_reviews = giraffe_reviews.sort('predict_sentiment',ascending=False)"
   ]
  },
  {
   "cell_type": "code",
   "execution_count": 8,
   "metadata": {
    "collapsed": false
   },
   "outputs": [
    {
     "data": {
      "text/html": [
       "<div style=\"max-height:1000px;max-width:1500px;overflow:auto;\"><table frame=\"box\" rules=\"cols\">\n",
       "    <tr>\n",
       "        <th style=\"padding-left: 1em; padding-right: 1em; text-align: center\">name</th>\n",
       "        <th style=\"padding-left: 1em; padding-right: 1em; text-align: center\">review</th>\n",
       "        <th style=\"padding-left: 1em; padding-right: 1em; text-align: center\">rating</th>\n",
       "        <th style=\"padding-left: 1em; padding-right: 1em; text-align: center\">word_count</th>\n",
       "        <th style=\"padding-left: 1em; padding-right: 1em; text-align: center\">predict_sentiment</th>\n",
       "    </tr>\n",
       "    <tr>\n",
       "        <td style=\"padding-left: 1em; padding-right: 1em; text-align: center; vertical-align: top\">Vulli Sophie the Giraffe<br>Teether ...</td>\n",
       "        <td style=\"padding-left: 1em; padding-right: 1em; text-align: center; vertical-align: top\">Sophie, oh Sophie, your<br>time has come. My ...</td>\n",
       "        <td style=\"padding-left: 1em; padding-right: 1em; text-align: center; vertical-align: top\">5.0</td>\n",
       "        <td style=\"padding-left: 1em; padding-right: 1em; text-align: center; vertical-align: top\">{'giggles': 1, 'all': 1,<br>\"violet's\": 2, 'bring': ...</td>\n",
       "        <td style=\"padding-left: 1em; padding-right: 1em; text-align: center; vertical-align: top\">1.0</td>\n",
       "    </tr>\n",
       "    <tr>\n",
       "        <td style=\"padding-left: 1em; padding-right: 1em; text-align: center; vertical-align: top\">Vulli Sophie the Giraffe<br>Teether ...</td>\n",
       "        <td style=\"padding-left: 1em; padding-right: 1em; text-align: center; vertical-align: top\">I'm not sure why Sophie<br>is such a hit with the ...</td>\n",
       "        <td style=\"padding-left: 1em; padding-right: 1em; text-align: center; vertical-align: top\">4.0</td>\n",
       "        <td style=\"padding-left: 1em; padding-right: 1em; text-align: center; vertical-align: top\">{'adoring': 1, 'find': 1,<br>'month': 1, 'bright': 1, ...</td>\n",
       "        <td style=\"padding-left: 1em; padding-right: 1em; text-align: center; vertical-align: top\">0.999999999703</td>\n",
       "    </tr>\n",
       "    <tr>\n",
       "        <td style=\"padding-left: 1em; padding-right: 1em; text-align: center; vertical-align: top\">Vulli Sophie the Giraffe<br>Teether ...</td>\n",
       "        <td style=\"padding-left: 1em; padding-right: 1em; text-align: center; vertical-align: top\">I'll be honest...I bought<br>this toy because all the ...</td>\n",
       "        <td style=\"padding-left: 1em; padding-right: 1em; text-align: center; vertical-align: top\">4.0</td>\n",
       "        <td style=\"padding-left: 1em; padding-right: 1em; text-align: center; vertical-align: top\">{'all': 2, 'discovered':<br>1, 'existence.': 1, ...</td>\n",
       "        <td style=\"padding-left: 1em; padding-right: 1em; text-align: center; vertical-align: top\">0.999999999392</td>\n",
       "    </tr>\n",
       "    <tr>\n",
       "        <td style=\"padding-left: 1em; padding-right: 1em; text-align: center; vertical-align: top\">Vulli Sophie the Giraffe<br>Teether ...</td>\n",
       "        <td style=\"padding-left: 1em; padding-right: 1em; text-align: center; vertical-align: top\">We got this little<br>giraffe as a gift from a ...</td>\n",
       "        <td style=\"padding-left: 1em; padding-right: 1em; text-align: center; vertical-align: top\">5.0</td>\n",
       "        <td style=\"padding-left: 1em; padding-right: 1em; text-align: center; vertical-align: top\">{'all': 2, \"don't\": 1,<br>'(literally).so': 1, ...</td>\n",
       "        <td style=\"padding-left: 1em; padding-right: 1em; text-align: center; vertical-align: top\">0.99999999919</td>\n",
       "    </tr>\n",
       "    <tr>\n",
       "        <td style=\"padding-left: 1em; padding-right: 1em; text-align: center; vertical-align: top\">Vulli Sophie the Giraffe<br>Teether ...</td>\n",
       "        <td style=\"padding-left: 1em; padding-right: 1em; text-align: center; vertical-align: top\">As a mother of 16month<br>old twins; I bought ...</td>\n",
       "        <td style=\"padding-left: 1em; padding-right: 1em; text-align: center; vertical-align: top\">5.0</td>\n",
       "        <td style=\"padding-left: 1em; padding-right: 1em; text-align: center; vertical-align: top\">{'cute': 1, 'all': 1,<br>'reviews.': 2, 'just' ...</td>\n",
       "        <td style=\"padding-left: 1em; padding-right: 1em; text-align: center; vertical-align: top\">0.999999998657</td>\n",
       "    </tr>\n",
       "    <tr>\n",
       "        <td style=\"padding-left: 1em; padding-right: 1em; text-align: center; vertical-align: top\">Vulli Sophie the Giraffe<br>Teether ...</td>\n",
       "        <td style=\"padding-left: 1em; padding-right: 1em; text-align: center; vertical-align: top\">Sophie the Giraffe is the<br>perfect teething toy. ...</td>\n",
       "        <td style=\"padding-left: 1em; padding-right: 1em; text-align: center; vertical-align: top\">5.0</td>\n",
       "        <td style=\"padding-left: 1em; padding-right: 1em; text-align: center; vertical-align: top\">{'just': 2, 'both': 1,<br>'month': 1, 'ears,': 1, ...</td>\n",
       "        <td style=\"padding-left: 1em; padding-right: 1em; text-align: center; vertical-align: top\">0.999999997108</td>\n",
       "    </tr>\n",
       "    <tr>\n",
       "        <td style=\"padding-left: 1em; padding-right: 1em; text-align: center; vertical-align: top\">Vulli Sophie the Giraffe<br>Teether ...</td>\n",
       "        <td style=\"padding-left: 1em; padding-right: 1em; text-align: center; vertical-align: top\">Sophie la giraffe is<br>absolutely the best toy ...</td>\n",
       "        <td style=\"padding-left: 1em; padding-right: 1em; text-align: center; vertical-align: top\">5.0</td>\n",
       "        <td style=\"padding-left: 1em; padding-right: 1em; text-align: center; vertical-align: top\">{'and': 5, 'the': 1,<br>'all': 1, 'that': 2, ...</td>\n",
       "        <td style=\"padding-left: 1em; padding-right: 1em; text-align: center; vertical-align: top\">0.999999995589</td>\n",
       "    </tr>\n",
       "    <tr>\n",
       "        <td style=\"padding-left: 1em; padding-right: 1em; text-align: center; vertical-align: top\">Vulli Sophie the Giraffe<br>Teether ...</td>\n",
       "        <td style=\"padding-left: 1em; padding-right: 1em; text-align: center; vertical-align: top\">My 5-mos old son took to<br>this immediately. The ...</td>\n",
       "        <td style=\"padding-left: 1em; padding-right: 1em; text-align: center; vertical-align: top\">5.0</td>\n",
       "        <td style=\"padding-left: 1em; padding-right: 1em; text-align: center; vertical-align: top\">{'just': 1, 'shape': 2,<br>'mutt': 1, '\"dog': 1, ...</td>\n",
       "        <td style=\"padding-left: 1em; padding-right: 1em; text-align: center; vertical-align: top\">0.999999995573</td>\n",
       "    </tr>\n",
       "    <tr>\n",
       "        <td style=\"padding-left: 1em; padding-right: 1em; text-align: center; vertical-align: top\">Vulli Sophie the Giraffe<br>Teether ...</td>\n",
       "        <td style=\"padding-left: 1em; padding-right: 1em; text-align: center; vertical-align: top\">My nephews and my four<br>kids all had Sophie in ...</td>\n",
       "        <td style=\"padding-left: 1em; padding-right: 1em; text-align: center; vertical-align: top\">5.0</td>\n",
       "        <td style=\"padding-left: 1em; padding-right: 1em; text-align: center; vertical-align: top\">{'and': 4, 'chew': 1,<br>'all': 1, 'perfect;': 1, ...</td>\n",
       "        <td style=\"padding-left: 1em; padding-right: 1em; text-align: center; vertical-align: top\">0.999999989527</td>\n",
       "    </tr>\n",
       "    <tr>\n",
       "        <td style=\"padding-left: 1em; padding-right: 1em; text-align: center; vertical-align: top\">Vulli Sophie the Giraffe<br>Teether ...</td>\n",
       "        <td style=\"padding-left: 1em; padding-right: 1em; text-align: center; vertical-align: top\">Never thought I'd see my<br>son French kissing a ...</td>\n",
       "        <td style=\"padding-left: 1em; padding-right: 1em; text-align: center; vertical-align: top\">5.0</td>\n",
       "        <td style=\"padding-left: 1em; padding-right: 1em; text-align: center; vertical-align: top\">{'giggles': 1, 'all': 1,<br>'out,': 1, 'over': 1, ...</td>\n",
       "        <td style=\"padding-left: 1em; padding-right: 1em; text-align: center; vertical-align: top\">0.999999985069</td>\n",
       "    </tr>\n",
       "</table>\n",
       "[10 rows x 5 columns]<br/>\n",
       "</div>"
      ],
      "text/plain": [
       "Columns:\n",
       "\tname\tstr\n",
       "\treview\tstr\n",
       "\trating\tfloat\n",
       "\tword_count\tdict\n",
       "\tpredict_sentiment\tfloat\n",
       "\n",
       "Rows: 10\n",
       "\n",
       "Data:\n",
       "+-------------------------------+-------------------------------+--------+\n",
       "|              name             |             review            | rating |\n",
       "+-------------------------------+-------------------------------+--------+\n",
       "| Vulli Sophie the Giraffe T... | Sophie, oh Sophie, your ti... |  5.0   |\n",
       "| Vulli Sophie the Giraffe T... | I'm not sure why Sophie is... |  4.0   |\n",
       "| Vulli Sophie the Giraffe T... | I'll be honest...I bought ... |  4.0   |\n",
       "| Vulli Sophie the Giraffe T... | We got this little giraffe... |  5.0   |\n",
       "| Vulli Sophie the Giraffe T... | As a mother of 16month old... |  5.0   |\n",
       "| Vulli Sophie the Giraffe T... | Sophie the Giraffe is the ... |  5.0   |\n",
       "| Vulli Sophie the Giraffe T... | Sophie la giraffe is absol... |  5.0   |\n",
       "| Vulli Sophie the Giraffe T... | My 5-mos old son took to t... |  5.0   |\n",
       "| Vulli Sophie the Giraffe T... | My nephews and my four kid... |  5.0   |\n",
       "| Vulli Sophie the Giraffe T... | Never thought I'd see my s... |  5.0   |\n",
       "+-------------------------------+-------------------------------+--------+\n",
       "+-------------------------------+-------------------+\n",
       "|           word_count          | predict_sentiment |\n",
       "+-------------------------------+-------------------+\n",
       "| {'giggles': 1, 'all': 1, \"... |        1.0        |\n",
       "| {'adoring': 1, 'find': 1, ... |   0.999999999703  |\n",
       "| {'all': 2, 'discovered': 1... |   0.999999999392  |\n",
       "| {'all': 2, \"don't\": 1, '(l... |   0.99999999919   |\n",
       "| {'cute': 1, 'all': 1, 'rev... |   0.999999998657  |\n",
       "| {'just': 2, 'both': 1, 'mo... |   0.999999997108  |\n",
       "| {'and': 5, 'the': 1, 'all'... |   0.999999995589  |\n",
       "| {'just': 1, 'shape': 2, 'm... |   0.999999995573  |\n",
       "| {'and': 4, 'chew': 1, 'all... |   0.999999989527  |\n",
       "| {'giggles': 1, 'all': 1, '... |   0.999999985069  |\n",
       "+-------------------------------+-------------------+\n",
       "[10 rows x 5 columns]"
      ]
     },
     "execution_count": 8,
     "metadata": {},
     "output_type": "execute_result"
    }
   ],
   "source": [
    "giraffe_reviews.head()"
   ]
  },
  {
   "cell_type": "code",
   "execution_count": 9,
   "metadata": {
    "collapsed": false
   },
   "outputs": [
    {
     "data": {
      "text/plain": [
       "\"Sophie, oh Sophie, your time has come. My granddaughter, Violet is 5 months old and starting to teeth. What joy little Sophie brings to Violet. Sophie is made of a very pliable rubber that is sturdy but not tough. It is quite easy for Violet to twist Sophie into unheard of positions to get Sophie into her mouth. The little nose and hooves fit perfectly into small mouths, and the drooling has purpose. The paint on Sophie is food quality.Sophie was born in 1961 in France. The maker had wondered why there was nothing available for babies and made Sophie from the finest rubber, phthalate-free on St Sophie's Day, thus the name was born. Since that time millions of Sophie's populate the world. She is soft and for babies little hands easy to grasp. Violet especially loves the bumpy head and horns of Sophie. Sophie has a long neck that easy to grasp and twist. She has lovely, sizable spots that attract Violet's attention. Sophie has happy little squeaks that bring squeals of delight from Violet. She is able to make Sophie squeak and that brings much joy. Sophie's smooth skin is soothing to Violet's little gums. Sophie is 7 inches tall and is the exact correct size for babies to hold and love.As you well know the first thing babies grasp, goes into their mouths- how wonderful to have a toy that stimulates all of the senses and helps with the issue of teething. Sophie is small enough to fit into any size pocket or bag. Sophie is the perfect find for babies from a few months to a year old. How wonderful to hear the giggles and laughs that emanate from babies who find Sophie irresistible. Viva La Sophie!Highly Recommended.  prisrob 12-11-09\""
      ]
     },
     "execution_count": 9,
     "metadata": {},
     "output_type": "execute_result"
    }
   ],
   "source": [
    "giraffe_reviews[0]['review']"
   ]
  },
  {
   "cell_type": "code",
   "execution_count": 10,
   "metadata": {
    "collapsed": false
   },
   "outputs": [
    {
     "data": {
      "text/plain": [
       "\"I'm not sure why Sophie is such a hit with the little ones, but my 7 month old baby girl is one of her adoring fans.  The rubber is softer and more pleasant to handle, and my daughter has enjoyed chewing on her legs and the nubs on her head even before she started teething.  She also loves the squeak that Sophie makes when you squeeze her.  Not sure what it is but if Sophie is amongst a pile of her other toys, my daughter will more often than not reach for Sophie.  And I have the peace of mind of knowing that only edible and safe paints and materials have been used to make Sophie, as opposed to Bright Starts and other baby toys made in China.  Now that the research is out on phthalates and other toxic substances in baby toys, I think it's more important than ever to find good quality toys that are also safe for our babies to handle and put in their mouths.  Sophie is a must-have for every new mom in my opinion.  Even if your kid is one of the few that can take or leave her, it's worth a try.  Vulli, the makers of Sophie, also make natural rubber teething rings that my daughter loves as well.\""
      ]
     },
     "execution_count": 10,
     "metadata": {},
     "output_type": "execute_result"
    }
   ],
   "source": [
    "giraffe_reviews[1]['review']"
   ]
  },
  {
   "cell_type": "code",
   "execution_count": 11,
   "metadata": {
    "collapsed": false
   },
   "outputs": [
    {
     "data": {
      "text/plain": [
       "\"My son (now 2.5) LOVED his Sophie, and I bought one for every baby shower I've gone to. Now, my daughter (6 months) just today nearly choked on it and I will never give it to her again. Had I not been within hearing range it could have been fatal. The strange sound she was making caught my attention and when I went to her and found the front curved leg shoved well down her throat and her face a purply/blue I panicked. I pulled it out and she vomited all over the carpet before screaming her head off. I can't believe how my opinion of this toy has changed from a must-have to a must-not-use. Please don't disregard any of the choking hazard comments, they are not over exaggerated!\""
      ]
     },
     "execution_count": 11,
     "metadata": {},
     "output_type": "execute_result"
    }
   ],
   "source": [
    "giraffe_reviews[-1]['review']"
   ]
  },
  {
   "cell_type": "code",
   "execution_count": 12,
   "metadata": {
    "collapsed": false
   },
   "outputs": [
    {
     "data": {
      "text/html": [
       "<div style=\"max-height:1000px;max-width:1500px;overflow:auto;\"><table frame=\"box\" rules=\"cols\">\n",
       "    <tr>\n",
       "        <th style=\"padding-left: 1em; padding-right: 1em; text-align: center\">name</th>\n",
       "        <th style=\"padding-left: 1em; padding-right: 1em; text-align: center\">review</th>\n",
       "        <th style=\"padding-left: 1em; padding-right: 1em; text-align: center\">rating</th>\n",
       "        <th style=\"padding-left: 1em; padding-right: 1em; text-align: center\">word_count</th>\n",
       "        <th style=\"padding-left: 1em; padding-right: 1em; text-align: center\">sentiment</th>\n",
       "    </tr>\n",
       "    <tr>\n",
       "        <td style=\"padding-left: 1em; padding-right: 1em; text-align: center; vertical-align: top\">Planetwise Wipe Pouch</td>\n",
       "        <td style=\"padding-left: 1em; padding-right: 1em; text-align: center; vertical-align: top\">it came early and was not<br>disappointed. i love ...</td>\n",
       "        <td style=\"padding-left: 1em; padding-right: 1em; text-align: center; vertical-align: top\">5.0</td>\n",
       "        <td style=\"padding-left: 1em; padding-right: 1em; text-align: center; vertical-align: top\">{'and': 3, 'love': 1,<br>'it': 2, 'highly': 1, ...</td>\n",
       "        <td style=\"padding-left: 1em; padding-right: 1em; text-align: center; vertical-align: top\">1</td>\n",
       "    </tr>\n",
       "    <tr>\n",
       "        <td style=\"padding-left: 1em; padding-right: 1em; text-align: center; vertical-align: top\">Annas Dream Full Quilt<br>with 2 Shams ...</td>\n",
       "        <td style=\"padding-left: 1em; padding-right: 1em; text-align: center; vertical-align: top\">Very soft and comfortable<br>and warmer than it ...</td>\n",
       "        <td style=\"padding-left: 1em; padding-right: 1em; text-align: center; vertical-align: top\">5.0</td>\n",
       "        <td style=\"padding-left: 1em; padding-right: 1em; text-align: center; vertical-align: top\">{'and': 2, 'quilt': 1,<br>'it': 1, 'comfortable': ...</td>\n",
       "        <td style=\"padding-left: 1em; padding-right: 1em; text-align: center; vertical-align: top\">1</td>\n",
       "    </tr>\n",
       "    <tr>\n",
       "        <td style=\"padding-left: 1em; padding-right: 1em; text-align: center; vertical-align: top\">Stop Pacifier Sucking<br>without tears with ...</td>\n",
       "        <td style=\"padding-left: 1em; padding-right: 1em; text-align: center; vertical-align: top\">This is a product well<br>worth the purchase.  I ...</td>\n",
       "        <td style=\"padding-left: 1em; padding-right: 1em; text-align: center; vertical-align: top\">5.0</td>\n",
       "        <td style=\"padding-left: 1em; padding-right: 1em; text-align: center; vertical-align: top\">{'ingenious': 1, 'and':<br>3, 'love': 2, ...</td>\n",
       "        <td style=\"padding-left: 1em; padding-right: 1em; text-align: center; vertical-align: top\">1</td>\n",
       "    </tr>\n",
       "    <tr>\n",
       "        <td style=\"padding-left: 1em; padding-right: 1em; text-align: center; vertical-align: top\">Stop Pacifier Sucking<br>without tears with ...</td>\n",
       "        <td style=\"padding-left: 1em; padding-right: 1em; text-align: center; vertical-align: top\">All of my kids have cried<br>non-stop when I tried to ...</td>\n",
       "        <td style=\"padding-left: 1em; padding-right: 1em; text-align: center; vertical-align: top\">5.0</td>\n",
       "        <td style=\"padding-left: 1em; padding-right: 1em; text-align: center; vertical-align: top\">{'and': 2, 'parents!!':<br>1, 'all': 2, 'puppet.': ...</td>\n",
       "        <td style=\"padding-left: 1em; padding-right: 1em; text-align: center; vertical-align: top\">1</td>\n",
       "    </tr>\n",
       "    <tr>\n",
       "        <td style=\"padding-left: 1em; padding-right: 1em; text-align: center; vertical-align: top\">Stop Pacifier Sucking<br>without tears with ...</td>\n",
       "        <td style=\"padding-left: 1em; padding-right: 1em; text-align: center; vertical-align: top\">When the Binky Fairy came<br>to our house, we didn't ...</td>\n",
       "        <td style=\"padding-left: 1em; padding-right: 1em; text-align: center; vertical-align: top\">5.0</td>\n",
       "        <td style=\"padding-left: 1em; padding-right: 1em; text-align: center; vertical-align: top\">{'and': 2, 'this': 2,<br>'her': 1, 'help': 2, ...</td>\n",
       "        <td style=\"padding-left: 1em; padding-right: 1em; text-align: center; vertical-align: top\">1</td>\n",
       "    </tr>\n",
       "    <tr>\n",
       "        <td style=\"padding-left: 1em; padding-right: 1em; text-align: center; vertical-align: top\">A Tale of Baby's Days<br>with Peter Rabbit ...</td>\n",
       "        <td style=\"padding-left: 1em; padding-right: 1em; text-align: center; vertical-align: top\">Lovely book, it's bound<br>tightly so you may no ...</td>\n",
       "        <td style=\"padding-left: 1em; padding-right: 1em; text-align: center; vertical-align: top\">4.0</td>\n",
       "        <td style=\"padding-left: 1em; padding-right: 1em; text-align: center; vertical-align: top\">{'shop': 1, 'noble': 1,<br>'is': 1, 'it': 1, 'as': ...</td>\n",
       "        <td style=\"padding-left: 1em; padding-right: 1em; text-align: center; vertical-align: top\">1</td>\n",
       "    </tr>\n",
       "    <tr>\n",
       "        <td style=\"padding-left: 1em; padding-right: 1em; text-align: center; vertical-align: top\">Baby Tracker&amp;reg; - Daily<br>Childcare Journal, ...</td>\n",
       "        <td style=\"padding-left: 1em; padding-right: 1em; text-align: center; vertical-align: top\">Perfect for new parents.<br>We were able to keep ...</td>\n",
       "        <td style=\"padding-left: 1em; padding-right: 1em; text-align: center; vertical-align: top\">5.0</td>\n",
       "        <td style=\"padding-left: 1em; padding-right: 1em; text-align: center; vertical-align: top\">{'and': 2, 'all': 1,<br>'right': 1, 'when': 1, ...</td>\n",
       "        <td style=\"padding-left: 1em; padding-right: 1em; text-align: center; vertical-align: top\">1</td>\n",
       "    </tr>\n",
       "    <tr>\n",
       "        <td style=\"padding-left: 1em; padding-right: 1em; text-align: center; vertical-align: top\">Baby Tracker&amp;reg; - Daily<br>Childcare Journal, ...</td>\n",
       "        <td style=\"padding-left: 1em; padding-right: 1em; text-align: center; vertical-align: top\">A friend of mine pinned<br>this product on Pinte ...</td>\n",
       "        <td style=\"padding-left: 1em; padding-right: 1em; text-align: center; vertical-align: top\">5.0</td>\n",
       "        <td style=\"padding-left: 1em; padding-right: 1em; text-align: center; vertical-align: top\">{'and': 1, 'help': 1,<br>'give': 1, 'is': 1, ' ...</td>\n",
       "        <td style=\"padding-left: 1em; padding-right: 1em; text-align: center; vertical-align: top\">1</td>\n",
       "    </tr>\n",
       "    <tr>\n",
       "        <td style=\"padding-left: 1em; padding-right: 1em; text-align: center; vertical-align: top\">Baby Tracker&amp;reg; - Daily<br>Childcare Journal, ...</td>\n",
       "        <td style=\"padding-left: 1em; padding-right: 1em; text-align: center; vertical-align: top\">This has been an easy way<br>for my nanny to record ...</td>\n",
       "        <td style=\"padding-left: 1em; padding-right: 1em; text-align: center; vertical-align: top\">4.0</td>\n",
       "        <td style=\"padding-left: 1em; padding-right: 1em; text-align: center; vertical-align: top\">{'journal.': 1, 'nanny':<br>1, 'standarad': 1, ...</td>\n",
       "        <td style=\"padding-left: 1em; padding-right: 1em; text-align: center; vertical-align: top\">1</td>\n",
       "    </tr>\n",
       "    <tr>\n",
       "        <td style=\"padding-left: 1em; padding-right: 1em; text-align: center; vertical-align: top\">Baby Tracker&amp;reg; - Daily<br>Childcare Journal, ...</td>\n",
       "        <td style=\"padding-left: 1em; padding-right: 1em; text-align: center; vertical-align: top\">I love this journal and<br>our nanny uses it ...</td>\n",
       "        <td style=\"padding-left: 1em; padding-right: 1em; text-align: center; vertical-align: top\">4.0</td>\n",
       "        <td style=\"padding-left: 1em; padding-right: 1em; text-align: center; vertical-align: top\">{'all': 1, 'forget': 1,<br>'just': 1, 'food': 1, ...</td>\n",
       "        <td style=\"padding-left: 1em; padding-right: 1em; text-align: center; vertical-align: top\">1</td>\n",
       "    </tr>\n",
       "</table>\n",
       "[10 rows x 5 columns]<br/>\n",
       "</div>"
      ],
      "text/plain": [
       "Columns:\n",
       "\tname\tstr\n",
       "\treview\tstr\n",
       "\trating\tfloat\n",
       "\tword_count\tdict\n",
       "\tsentiment\tint\n",
       "\n",
       "Rows: 10\n",
       "\n",
       "Data:\n",
       "+-------------------------------+-------------------------------+--------+\n",
       "|              name             |             review            | rating |\n",
       "+-------------------------------+-------------------------------+--------+\n",
       "|     Planetwise Wipe Pouch     | it came early and was not ... |  5.0   |\n",
       "| Annas Dream Full Quilt wit... | Very soft and comfortable ... |  5.0   |\n",
       "| Stop Pacifier Sucking with... | This is a product well wor... |  5.0   |\n",
       "| Stop Pacifier Sucking with... | All of my kids have cried ... |  5.0   |\n",
       "| Stop Pacifier Sucking with... | When the Binky Fairy came ... |  5.0   |\n",
       "| A Tale of Baby's Days with... | Lovely book, it's bound ti... |  4.0   |\n",
       "| Baby Tracker&reg; - Daily ... | Perfect for new parents. W... |  5.0   |\n",
       "| Baby Tracker&reg; - Daily ... | A friend of mine pinned th... |  5.0   |\n",
       "| Baby Tracker&reg; - Daily ... | This has been an easy way ... |  4.0   |\n",
       "| Baby Tracker&reg; - Daily ... | I love this journal and ou... |  4.0   |\n",
       "+-------------------------------+-------------------------------+--------+\n",
       "+-------------------------------+-----------+\n",
       "|           word_count          | sentiment |\n",
       "+-------------------------------+-----------+\n",
       "| {'and': 3, 'love': 1, 'it'... |     1     |\n",
       "| {'and': 2, 'quilt': 1, 'it... |     1     |\n",
       "| {'ingenious': 1, 'and': 3,... |     1     |\n",
       "| {'and': 2, 'parents!!': 1,... |     1     |\n",
       "| {'and': 2, 'this': 2, 'her... |     1     |\n",
       "| {'shop': 1, 'noble': 1, 'i... |     1     |\n",
       "| {'and': 2, 'all': 1, 'righ... |     1     |\n",
       "| {'and': 1, 'help': 1, 'giv... |     1     |\n",
       "| {'journal.': 1, 'nanny': 1... |     1     |\n",
       "| {'all': 1, 'forget': 1, 'j... |     1     |\n",
       "+-------------------------------+-----------+\n",
       "[10 rows x 5 columns]"
      ]
     },
     "execution_count": 12,
     "metadata": {},
     "output_type": "execute_result"
    }
   ],
   "source": [
    "products.head()"
   ]
  },
  {
   "cell_type": "code",
   "execution_count": 14,
   "metadata": {
    "collapsed": false
   },
   "outputs": [
    {
     "ename": "KeyError",
     "evalue": "('and', 'help')",
     "output_type": "error",
     "traceback": [
      "\u001b[1;31m---------------------------------------------------------------------------\u001b[0m",
      "\u001b[1;31mKeyError\u001b[0m                                  Traceback (most recent call last)",
      "\u001b[1;32m<ipython-input-14-304af1e6c96d>\u001b[0m in \u001b[0;36m<module>\u001b[1;34m()\u001b[0m\n\u001b[1;32m----> 1\u001b[1;33m \u001b[0mproducts\u001b[0m\u001b[1;33m[\u001b[0m\u001b[1;36m0\u001b[0m\u001b[1;33m]\u001b[0m\u001b[1;33m[\u001b[0m\u001b[1;34m'word_count'\u001b[0m\u001b[1;33m]\u001b[0m\u001b[1;33m[\u001b[0m\u001b[1;34m'and'\u001b[0m\u001b[1;33m,\u001b[0m\u001b[1;34m'help'\u001b[0m\u001b[1;33m]\u001b[0m\u001b[1;33m\u001b[0m\u001b[0m\n\u001b[0m",
      "\u001b[1;31mKeyError\u001b[0m: ('and', 'help')"
     ]
    }
   ],
   "source": [
    "products[0]['word_count']['and','help']"
   ]
  },
  {
   "cell_type": "code",
   "execution_count": 15,
   "metadata": {
    "collapsed": false
   },
   "outputs": [
    {
     "ename": "TypeError",
     "evalue": "unhashable type: 'list'",
     "output_type": "error",
     "traceback": [
      "\u001b[1;31m---------------------------------------------------------------------------\u001b[0m",
      "\u001b[1;31mTypeError\u001b[0m                                 Traceback (most recent call last)",
      "\u001b[1;32m<ipython-input-15-cfc48c5de1dd>\u001b[0m in \u001b[0;36m<module>\u001b[1;34m()\u001b[0m\n\u001b[1;32m----> 1\u001b[1;33m \u001b[0mproducts\u001b[0m\u001b[1;33m[\u001b[0m\u001b[1;36m0\u001b[0m\u001b[1;33m]\u001b[0m\u001b[1;33m[\u001b[0m\u001b[1;34m'word_count'\u001b[0m\u001b[1;33m]\u001b[0m\u001b[1;33m[\u001b[0m\u001b[1;33m[\u001b[0m\u001b[1;34m'and'\u001b[0m\u001b[1;33m,\u001b[0m\u001b[1;34m'help'\u001b[0m\u001b[1;33m]\u001b[0m\u001b[1;33m]\u001b[0m\u001b[1;33m\u001b[0m\u001b[0m\n\u001b[0m",
      "\u001b[1;31mTypeError\u001b[0m: unhashable type: 'list'"
     ]
    }
   ],
   "source": [
    "products[0]['word_count'][['and','help']]"
   ]
  },
  {
   "cell_type": "code",
   "execution_count": 16,
   "metadata": {
    "collapsed": true
   },
   "outputs": [],
   "source": [
    "selected_words = ['awesome', 'great', 'fantastic', 'amazing', 'love', 'horrible', 'bad', 'terrible', 'awful', 'wow', 'hate']"
   ]
  },
  {
   "cell_type": "code",
   "execution_count": 29,
   "metadata": {
    "collapsed": false
   },
   "outputs": [
    {
     "ename": "TypeError",
     "evalue": "unhashable type: 'list'",
     "output_type": "error",
     "traceback": [
      "\u001b[1;31m---------------------------------------------------------------------------\u001b[0m",
      "\u001b[1;31mTypeError\u001b[0m                                 Traceback (most recent call last)",
      "\u001b[1;32m<ipython-input-29-161dea91ad27>\u001b[0m in \u001b[0;36m<module>\u001b[1;34m()\u001b[0m\n\u001b[0;32m      1\u001b[0m \u001b[1;32mfor\u001b[0m \u001b[0mword\u001b[0m \u001b[1;32min\u001b[0m \u001b[0mselected_words\u001b[0m\u001b[1;33m:\u001b[0m\u001b[1;33m\u001b[0m\u001b[0m\n\u001b[1;32m----> 2\u001b[1;33m     \u001b[0mproducts\u001b[0m\u001b[1;33m[\u001b[0m\u001b[0mword\u001b[0m\u001b[1;33m]\u001b[0m \u001b[1;33m=\u001b[0m \u001b[0mproducts\u001b[0m\u001b[1;33m[\u001b[0m\u001b[1;34m'word_count'\u001b[0m\u001b[1;33m]\u001b[0m\u001b[1;33m.\u001b[0m\u001b[0mapply\u001b[0m\u001b[1;33m(\u001b[0m\u001b[1;32mlambda\u001b[0m \u001b[0mx\u001b[0m \u001b[1;33m:\u001b[0m \u001b[0mx\u001b[0m\u001b[1;33m[\u001b[0m\u001b[1;33m[\u001b[0m\u001b[0mword\u001b[0m\u001b[1;33m]\u001b[0m\u001b[1;33m]\u001b[0m\u001b[1;33m)\u001b[0m\u001b[1;33m\u001b[0m\u001b[0m\n\u001b[0m",
      "\u001b[1;32m/opt/anaconda/anaconda2/lib/python2.7/site-packages/graphlab/data_structures/sarray.pyc\u001b[0m in \u001b[0;36mapply\u001b[1;34m(self, fn, dtype, skip_undefined, seed)\u001b[0m\n\u001b[0;32m   1868\u001b[0m         \u001b[1;32massert\u001b[0m \u001b[0mcallable\u001b[0m\u001b[1;33m(\u001b[0m\u001b[0mfn\u001b[0m\u001b[1;33m)\u001b[0m\u001b[1;33m,\u001b[0m \u001b[1;34m\"Input function must be callable.\"\u001b[0m\u001b[1;33m\u001b[0m\u001b[0m\n\u001b[0;32m   1869\u001b[0m \u001b[1;33m\u001b[0m\u001b[0m\n\u001b[1;32m-> 1870\u001b[1;33m         \u001b[0mdryrun\u001b[0m \u001b[1;33m=\u001b[0m \u001b[1;33m[\u001b[0m\u001b[0mfn\u001b[0m\u001b[1;33m(\u001b[0m\u001b[0mi\u001b[0m\u001b[1;33m)\u001b[0m \u001b[1;32mfor\u001b[0m \u001b[0mi\u001b[0m \u001b[1;32min\u001b[0m \u001b[0mself\u001b[0m\u001b[1;33m.\u001b[0m\u001b[0mhead\u001b[0m\u001b[1;33m(\u001b[0m\u001b[1;36m100\u001b[0m\u001b[1;33m)\u001b[0m \u001b[1;32mif\u001b[0m \u001b[0mi\u001b[0m \u001b[1;32mis\u001b[0m \u001b[1;32mnot\u001b[0m \u001b[0mNone\u001b[0m\u001b[1;33m]\u001b[0m\u001b[1;33m\u001b[0m\u001b[0m\n\u001b[0m\u001b[0;32m   1871\u001b[0m         \u001b[1;32mif\u001b[0m \u001b[0mdtype\u001b[0m \u001b[1;33m==\u001b[0m \u001b[0mNone\u001b[0m\u001b[1;33m:\u001b[0m\u001b[1;33m\u001b[0m\u001b[0m\n\u001b[0;32m   1872\u001b[0m             \u001b[0mdtype\u001b[0m \u001b[1;33m=\u001b[0m \u001b[0minfer_type_of_list\u001b[0m\u001b[1;33m(\u001b[0m\u001b[0mdryrun\u001b[0m\u001b[1;33m)\u001b[0m\u001b[1;33m\u001b[0m\u001b[0m\n",
      "\u001b[1;32m<ipython-input-29-161dea91ad27>\u001b[0m in \u001b[0;36m<lambda>\u001b[1;34m(x)\u001b[0m\n\u001b[0;32m      1\u001b[0m \u001b[1;32mfor\u001b[0m \u001b[0mword\u001b[0m \u001b[1;32min\u001b[0m \u001b[0mselected_words\u001b[0m\u001b[1;33m:\u001b[0m\u001b[1;33m\u001b[0m\u001b[0m\n\u001b[1;32m----> 2\u001b[1;33m     \u001b[0mproducts\u001b[0m\u001b[1;33m[\u001b[0m\u001b[0mword\u001b[0m\u001b[1;33m]\u001b[0m \u001b[1;33m=\u001b[0m \u001b[0mproducts\u001b[0m\u001b[1;33m[\u001b[0m\u001b[1;34m'word_count'\u001b[0m\u001b[1;33m]\u001b[0m\u001b[1;33m.\u001b[0m\u001b[0mapply\u001b[0m\u001b[1;33m(\u001b[0m\u001b[1;32mlambda\u001b[0m \u001b[0mx\u001b[0m \u001b[1;33m:\u001b[0m \u001b[0mx\u001b[0m\u001b[1;33m[\u001b[0m\u001b[1;33m[\u001b[0m\u001b[0mword\u001b[0m\u001b[1;33m]\u001b[0m\u001b[1;33m]\u001b[0m\u001b[1;33m)\u001b[0m\u001b[1;33m\u001b[0m\u001b[0m\n\u001b[0m",
      "\u001b[1;31mTypeError\u001b[0m: unhashable type: 'list'"
     ]
    }
   ],
   "source": [
    "for word in selected_words:\n",
    "    products[word] = products['word_count'].apply(lambda x : x[[word]])"
   ]
  },
  {
   "cell_type": "code",
   "execution_count": 18,
   "metadata": {
    "collapsed": false
   },
   "outputs": [
    {
     "data": {
      "text/plain": [
       "dtype: dict\n",
       "Rows: 10\n",
       "[{'and': 3, 'love': 1, 'it': 2, 'highly': 1, 'osocozy': 1, 'bags': 1, 'holder.': 1, 'moist': 1, 'does': 1, 'recommend': 1, 'was': 1, 'wipes': 1, 'it.': 1, 'early': 1, 'disappointed.': 1, 'not': 2, 'now': 1, 'wipe': 1, 'keps': 1, 'wise': 1, 'i': 1, 'leak.': 1, 'planet': 1, 'my': 2, 'came': 1}, {'and': 2, 'quilt': 1, 'it': 1, 'comfortable': 1, 'warmer': 1, 'size': 1, 'anyone': 1, 'for': 1, 'looking': 1, 'to': 1, 'recommend': 1, 'type': 1, 'full': 1, 'very': 1, 'looks...fit': 1, 'than': 1, 'perfectly...would': 1, 'this': 1, 'of': 1, 'bed': 1, 'the': 1, 'soft': 1}, {'ingenious': 1, 'and': 3, 'love': 2, 'positive,': 1, 'what': 1, 'is': 4, 'it': 1, 'not': 1, 'fairy.': 1, 'have': 1, 'in': 2, 'rid': 1, 'she': 1, 'little': 1, 'her': 1, 'to': 1, 'how': 1, 'much': 1, 'has': 1, 'approach': 2, 'worth': 1, 'herself,': 1, 'tool.': 1, 'product': 2, 'clever': 1, 'chart': 1, 'else': 1, 'most': 1, 'artwork,': 1, 'ownership': 1, 'losing': 1, 'purchase.': 1, 'a': 2, 'about': 1, 'daughter': 1, 'like': 1, 'anything': 1, 'getting': 1, 'this': 3, 'of': 3, 'proud': 1, 'well': 1, 'this,': 1, 'i': 3, 'back,': 1, 'so': 1, 'binky.': 2, 'loves': 1, 'found': 1, 'the': 7, 'my': 1}, {'and': 2, 'parents!!': 1, 'all': 2, 'puppet.': 1, 'help': 1, 'cried': 1, 'is': 3, 'easy': 1, 'it': 1, 'soo': 1, 'rock!!': 1, 'have': 1, 'pacifier': 1, 'where': 1, 'your': 1, 'tried': 1, 'from': 1, 'for': 2, 'to': 5, 'when': 1, 'their': 2, 'going': 1, 'way': 1, 'pacifier,': 1, 'you': 2, 'save': 1, 'until': 1, \"love's\": 1, 'book!': 1, 'them': 4, 'buy': 1, 'ween': 1, 'book,': 1, 'part': 1, 'understand': 1, 'binky': 1, 'an': 1, 'with': 1, 'must': 1, 'a': 2, 'great': 1, 'kids': 2, 'off': 1, 'gift': 1, 'it.this': 1, 'many': 1, 'work': 1, 'this': 1, 'non-stop': 1, 'thumbuddy': 1, 'will': 1, 'i': 2, 'expecting': 1, 'allow': 1, 'of': 1, 'found': 1, 'fairy': 1, 'my': 1, 'headaches.thanks': 1}, {'and': 2, 'this': 2, 'her': 1, 'help': 2, 'doll': 1, 'is': 2, \"didn't\": 1, 'it': 1, 'house,': 1, 'highly': 1, 'have': 1, 'pacifier': 1, 'comes.': 1, 'any': 2, 'special': 1, 'happens': 1, 'what': 1, 'thumb': 1, 'would': 1, 'their': 1, 'lots': 1, 'explain': 1, 'when': 2, 'habit.': 1, 'your': 1, 'to': 6, 'book': 2, 'item.': 1, 'recommend': 1, 'pacifier.': 1, 'adorable': 1, 'product': 1, 'sucking': 1, 'parent': 1, 'our': 2, 'stop': 1, 'great': 1, 'break': 1, 'how': 1, 'job': 1, 'important': 1, 'we': 2, 'child': 1, 'telling': 1, 'using': 1, 'binky': 3, 'trying': 1, 'with': 1, 'fairy': 3, 'a': 2, 'loss': 1, 'about': 2, 'made': 1, 'daughter': 1, 'for': 2, 'gift': 1, 'i': 1, 'of': 2, 'favorite': 1, 'movies': 1, 'prepare': 1, 'cute': 1, 'does': 1, 'the': 6, 'or': 1, 'came': 1}, {'shop': 1, 'noble': 1, 'is': 1, 'it': 1, 'as': 1, 'spaces': 1, 'at': 1, 'in': 1, 'before': 1, 'from': 1, 'for': 1, '&': 1, '29.95!': 1, 'barnes': 1, 'currently': 1, 'able': 1, 'aside': 1, 'tightly': 1, 'to': 1, 'add': 1, 'listed': 1, 'you': 2, 'lovely': 1, 'be': 1, 'photos/cards': 1, 'around': 1, 'may': 1, 'designated': 1, 'book,': 1, 'book.': 1, 'bound': 1, 'not': 1, 'purchase,': 1, 'of': 1, 'so': 1, 'alot': 1, \"it's\": 1, 'the': 2}, {'and': 2, 'all': 1, 'right': 1, 'when': 1, 'able': 1, 'we': 2, 'there!': 1, 'because': 1, 'sleep': 1, 'questions': 1, 'perfect': 1, 'her': 1, 'doctor': 1, 'feeding,': 1, \"baby's\": 1, 'two': 1, 'for': 2, 'to': 1, 'new': 1, 'easier': 1, 'life': 1, 'schedule': 1, 'track': 1, 'it': 1, 'diaper': 1, 'half': 1, 'ask': 1, 'change': 1, 'had': 1, 'a': 1, 'about': 1, 'made': 1, 'would': 1, 'of': 2, 'months': 1, 'keep': 1, 'habits': 1, 'were': 1, 'life.': 1, 'the': 2, 'first': 1, 'parents.': 1}, {'and': 1, 'help': 1, 'give': 1, 'is': 1, 'it': 2, 'decided': 1, 'are': 1, 'if': 1, 'pinterest': 1, 'pinned': 1, 'to': 1, 'feedings,': 1, 'new': 1, 'you': 2, 'friend': 1, 'product': 1, 'like!': 1, 'track': 1, 'fantastic!': 1, 'whirl!': 1, 'mine': 1, 'diaper': 1, 'a': 3, 'on': 1, 'this': 2, 'of': 2, 'parent,': 1, 'keep': 1, 'will': 1, 'i': 1, 'so': 1, 'the': 1, 'changes': 1}, {'journal.': 1, 'nanny': 1, 'standarad': 1, 'another': 1, 'when': 2, 'is': 2, 'some': 1, 'it': 1, 'one': 1, 'baby': 2, 'because': 1, 'at': 1, 'have': 1, 'in': 1, 'happen': 1, 'your': 1, 'out': 1, 'options.i': 1, \"you're\": 1, 'what': 1, 'would': 1, 'record': 1, 'ordering': 1, 'there': 1, 'informed': 1, 'while': 1, 'been': 2, 'the': 1, 'to': 4, 'only': 1, '5': 1, 'easy': 1, 'recommend': 1, 'for': 1, 'has': 1, 'home.': 1, 'events': 1, 'more': 1, 'wants': 1, 'we': 1, 'someone': 1, 'run': 1, 'way': 1, 'that': 1, 'who': 1, 'stay': 1, 'highly': 1, 'reason': 1, 'pre-printed': 1, 'key': 1, 'not': 2, 'an': 1, 'with': 1, 'pages': 1, 'a': 1, 'on': 1, 'all': 1, 'this': 3, 'of': 2, 'could': 1, 'up': 1, 'i': 1, 'home.the': 1, \"i'm\": 1, 'my': 2, 'think': 1, \"isn't\": 1, 'plan': 1}, {'all': 1, 'forget': 1, 'just': 1, 'food': 1, \"daughter's\": 1, 'sleep': 1, 'milk': 1, 'weekly': 1, 'layout': 1, 'had': 1, 'nap': 1, 'to': 11, 'only': 1, 'easy': 1, 'has': 2, 'real': 1, 'complaint': 1, 'etc.)': 1, 'very': 1, 'overall': 1, 'took,': 1, 'sleep,': 1, 'nanny,': 1, 'now': 1, 'older).my': 1, 'today)': 1, 'instructions': 1, 'notes': 1, 'all,': 1, 'leave': 1, 'she': 3, 'night': 1, 'often': 1, 'back': 1, 'design': 1, 'our': 2, 'out': 1, 'what': 1, 'and/or': 1, 'for': 2, 'space': 1, 'sun': 1, 'comments': 2, 'time,': 1, \"nanny's\": 1, 'day,': 1, 'reply': 1, 'previous': 1, 'journal': 1, 'knowing': 1, 'we': 1, 'eating': 1, 'schedule': 1, 'screen': 1, 'communicate': 1, 'nanny': 2, 'rash,': 1, 'ask': 1, 'on': 3, 'about': 1, '(please': 1, 'column': 1, 'of': 4, 'amount': 1, 'changes': 1, 'or': 2, 'love': 2, \"baby's\": 2, 'time--tummy': 1, 'highly': 1, 'specifics': 1, 'morning.': 1, 'use': 2, 'notes.': 1, 'her': 2, \"it's\": 1, 'there': 1, 'add': 1, 'quickly': 1, 'patterns': 1, 'recommend': 1, 'tracker.': 1, '(i.e.': 3, 'naturally': 1, 'that': 2, 'moved': 1, 'stick': 1, 'baby': 4, 'with': 1, 'specify': 1, 'rush': 1, 'this': 2, 'tell': 1, 'etc)': 1, 'my': 2, 'and': 5, 'activities.': 1, 'is': 2, 'post-its': 1, \"didn't\": 1, 'it': 3, 'as': 2, 'want': 1, 'in': 5, 'everyday': 1, 'fill': 1, 'no': 1, 'make': 1, '-': 1, 'walk': 1, 'also': 1, 'hot': 1, 'other': 2, 'details': 2, 'gets': 1, 'play': 1, 'track': 2, 'uses': 1, 'lunch,': 1, 'a': 1, 'i': 7, 'sometimes': 1, 'well': 1, 'park,': 1, 'time': 1, 'the': 9}]"
      ]
     },
     "execution_count": 18,
     "metadata": {},
     "output_type": "execute_result"
    }
   ],
   "source": [
    " products['word_count'].head()"
   ]
  },
  {
   "cell_type": "code",
   "execution_count": 19,
   "metadata": {
    "collapsed": false
   },
   "outputs": [
    {
     "ename": "SyntaxError",
     "evalue": "invalid syntax (<ipython-input-19-00d582a16106>, line 1)",
     "output_type": "error",
     "traceback": [
      "\u001b[1;36m  File \u001b[1;32m\"<ipython-input-19-00d582a16106>\"\u001b[1;36m, line \u001b[1;32m1\u001b[0m\n\u001b[1;33m    products['word_count'].head().apply(x:print x)\u001b[0m\n\u001b[1;37m                                         ^\u001b[0m\n\u001b[1;31mSyntaxError\u001b[0m\u001b[1;31m:\u001b[0m invalid syntax\n"
     ]
    }
   ],
   "source": [
    " products['word_count'].head().apply(x:print x)"
   ]
  },
  {
   "cell_type": "code",
   "execution_count": 20,
   "metadata": {
    "collapsed": true
   },
   "outputs": [],
   "source": [
    " a = products['word_count'].head()"
   ]
  },
  {
   "cell_type": "code",
   "execution_count": 21,
   "metadata": {
    "collapsed": false
   },
   "outputs": [
    {
     "data": {
      "text/plain": [
       "dtype: dict\n",
       "Rows: 10\n",
       "[{'and': 3, 'love': 1, 'it': 2, 'highly': 1, 'osocozy': 1, 'bags': 1, 'holder.': 1, 'moist': 1, 'does': 1, 'recommend': 1, 'was': 1, 'wipes': 1, 'it.': 1, 'early': 1, 'disappointed.': 1, 'not': 2, 'now': 1, 'wipe': 1, 'keps': 1, 'wise': 1, 'i': 1, 'leak.': 1, 'planet': 1, 'my': 2, 'came': 1}, {'and': 2, 'quilt': 1, 'it': 1, 'comfortable': 1, 'warmer': 1, 'size': 1, 'anyone': 1, 'for': 1, 'looking': 1, 'to': 1, 'recommend': 1, 'type': 1, 'full': 1, 'very': 1, 'looks...fit': 1, 'than': 1, 'perfectly...would': 1, 'this': 1, 'of': 1, 'bed': 1, 'the': 1, 'soft': 1}, {'ingenious': 1, 'and': 3, 'love': 2, 'positive,': 1, 'what': 1, 'is': 4, 'it': 1, 'not': 1, 'fairy.': 1, 'have': 1, 'in': 2, 'rid': 1, 'she': 1, 'little': 1, 'her': 1, 'to': 1, 'how': 1, 'much': 1, 'has': 1, 'approach': 2, 'worth': 1, 'herself,': 1, 'tool.': 1, 'product': 2, 'clever': 1, 'chart': 1, 'else': 1, 'most': 1, 'artwork,': 1, 'ownership': 1, 'losing': 1, 'purchase.': 1, 'a': 2, 'about': 1, 'daughter': 1, 'like': 1, 'anything': 1, 'getting': 1, 'this': 3, 'of': 3, 'proud': 1, 'well': 1, 'this,': 1, 'i': 3, 'back,': 1, 'so': 1, 'binky.': 2, 'loves': 1, 'found': 1, 'the': 7, 'my': 1}, {'and': 2, 'parents!!': 1, 'all': 2, 'puppet.': 1, 'help': 1, 'cried': 1, 'is': 3, 'easy': 1, 'it': 1, 'soo': 1, 'rock!!': 1, 'have': 1, 'pacifier': 1, 'where': 1, 'your': 1, 'tried': 1, 'from': 1, 'for': 2, 'to': 5, 'when': 1, 'their': 2, 'going': 1, 'way': 1, 'pacifier,': 1, 'you': 2, 'save': 1, 'until': 1, \"love's\": 1, 'book!': 1, 'them': 4, 'buy': 1, 'ween': 1, 'book,': 1, 'part': 1, 'understand': 1, 'binky': 1, 'an': 1, 'with': 1, 'must': 1, 'a': 2, 'great': 1, 'kids': 2, 'off': 1, 'gift': 1, 'it.this': 1, 'many': 1, 'work': 1, 'this': 1, 'non-stop': 1, 'thumbuddy': 1, 'will': 1, 'i': 2, 'expecting': 1, 'allow': 1, 'of': 1, 'found': 1, 'fairy': 1, 'my': 1, 'headaches.thanks': 1}, {'and': 2, 'this': 2, 'her': 1, 'help': 2, 'doll': 1, 'is': 2, \"didn't\": 1, 'it': 1, 'house,': 1, 'highly': 1, 'have': 1, 'pacifier': 1, 'comes.': 1, 'any': 2, 'special': 1, 'happens': 1, 'what': 1, 'thumb': 1, 'would': 1, 'their': 1, 'lots': 1, 'explain': 1, 'when': 2, 'habit.': 1, 'your': 1, 'to': 6, 'book': 2, 'item.': 1, 'recommend': 1, 'pacifier.': 1, 'adorable': 1, 'product': 1, 'sucking': 1, 'parent': 1, 'our': 2, 'stop': 1, 'great': 1, 'break': 1, 'how': 1, 'job': 1, 'important': 1, 'we': 2, 'child': 1, 'telling': 1, 'using': 1, 'binky': 3, 'trying': 1, 'with': 1, 'fairy': 3, 'a': 2, 'loss': 1, 'about': 2, 'made': 1, 'daughter': 1, 'for': 2, 'gift': 1, 'i': 1, 'of': 2, 'favorite': 1, 'movies': 1, 'prepare': 1, 'cute': 1, 'does': 1, 'the': 6, 'or': 1, 'came': 1}, {'shop': 1, 'noble': 1, 'is': 1, 'it': 1, 'as': 1, 'spaces': 1, 'at': 1, 'in': 1, 'before': 1, 'from': 1, 'for': 1, '&': 1, '29.95!': 1, 'barnes': 1, 'currently': 1, 'able': 1, 'aside': 1, 'tightly': 1, 'to': 1, 'add': 1, 'listed': 1, 'you': 2, 'lovely': 1, 'be': 1, 'photos/cards': 1, 'around': 1, 'may': 1, 'designated': 1, 'book,': 1, 'book.': 1, 'bound': 1, 'not': 1, 'purchase,': 1, 'of': 1, 'so': 1, 'alot': 1, \"it's\": 1, 'the': 2}, {'and': 2, 'all': 1, 'right': 1, 'when': 1, 'able': 1, 'we': 2, 'there!': 1, 'because': 1, 'sleep': 1, 'questions': 1, 'perfect': 1, 'her': 1, 'doctor': 1, 'feeding,': 1, \"baby's\": 1, 'two': 1, 'for': 2, 'to': 1, 'new': 1, 'easier': 1, 'life': 1, 'schedule': 1, 'track': 1, 'it': 1, 'diaper': 1, 'half': 1, 'ask': 1, 'change': 1, 'had': 1, 'a': 1, 'about': 1, 'made': 1, 'would': 1, 'of': 2, 'months': 1, 'keep': 1, 'habits': 1, 'were': 1, 'life.': 1, 'the': 2, 'first': 1, 'parents.': 1}, {'and': 1, 'help': 1, 'give': 1, 'is': 1, 'it': 2, 'decided': 1, 'are': 1, 'if': 1, 'pinterest': 1, 'pinned': 1, 'to': 1, 'feedings,': 1, 'new': 1, 'you': 2, 'friend': 1, 'product': 1, 'like!': 1, 'track': 1, 'fantastic!': 1, 'whirl!': 1, 'mine': 1, 'diaper': 1, 'a': 3, 'on': 1, 'this': 2, 'of': 2, 'parent,': 1, 'keep': 1, 'will': 1, 'i': 1, 'so': 1, 'the': 1, 'changes': 1}, {'journal.': 1, 'nanny': 1, 'standarad': 1, 'another': 1, 'when': 2, 'is': 2, 'some': 1, 'it': 1, 'one': 1, 'baby': 2, 'because': 1, 'at': 1, 'have': 1, 'in': 1, 'happen': 1, 'your': 1, 'out': 1, 'options.i': 1, \"you're\": 1, 'what': 1, 'would': 1, 'record': 1, 'ordering': 1, 'there': 1, 'informed': 1, 'while': 1, 'been': 2, 'the': 1, 'to': 4, 'only': 1, '5': 1, 'easy': 1, 'recommend': 1, 'for': 1, 'has': 1, 'home.': 1, 'events': 1, 'more': 1, 'wants': 1, 'we': 1, 'someone': 1, 'run': 1, 'way': 1, 'that': 1, 'who': 1, 'stay': 1, 'highly': 1, 'reason': 1, 'pre-printed': 1, 'key': 1, 'not': 2, 'an': 1, 'with': 1, 'pages': 1, 'a': 1, 'on': 1, 'all': 1, 'this': 3, 'of': 2, 'could': 1, 'up': 1, 'i': 1, 'home.the': 1, \"i'm\": 1, 'my': 2, 'think': 1, \"isn't\": 1, 'plan': 1}, {'all': 1, 'forget': 1, 'just': 1, 'food': 1, \"daughter's\": 1, 'sleep': 1, 'milk': 1, 'weekly': 1, 'layout': 1, 'had': 1, 'nap': 1, 'to': 11, 'only': 1, 'easy': 1, 'has': 2, 'real': 1, 'complaint': 1, 'etc.)': 1, 'very': 1, 'overall': 1, 'took,': 1, 'sleep,': 1, 'nanny,': 1, 'now': 1, 'older).my': 1, 'today)': 1, 'instructions': 1, 'notes': 1, 'all,': 1, 'leave': 1, 'she': 3, 'night': 1, 'often': 1, 'back': 1, 'design': 1, 'our': 2, 'out': 1, 'what': 1, 'and/or': 1, 'for': 2, 'space': 1, 'sun': 1, 'comments': 2, 'time,': 1, \"nanny's\": 1, 'day,': 1, 'reply': 1, 'previous': 1, 'journal': 1, 'knowing': 1, 'we': 1, 'eating': 1, 'schedule': 1, 'screen': 1, 'communicate': 1, 'nanny': 2, 'rash,': 1, 'ask': 1, 'on': 3, 'about': 1, '(please': 1, 'column': 1, 'of': 4, 'amount': 1, 'changes': 1, 'or': 2, 'love': 2, \"baby's\": 2, 'time--tummy': 1, 'highly': 1, 'specifics': 1, 'morning.': 1, 'use': 2, 'notes.': 1, 'her': 2, \"it's\": 1, 'there': 1, 'add': 1, 'quickly': 1, 'patterns': 1, 'recommend': 1, 'tracker.': 1, '(i.e.': 3, 'naturally': 1, 'that': 2, 'moved': 1, 'stick': 1, 'baby': 4, 'with': 1, 'specify': 1, 'rush': 1, 'this': 2, 'tell': 1, 'etc)': 1, 'my': 2, 'and': 5, 'activities.': 1, 'is': 2, 'post-its': 1, \"didn't\": 1, 'it': 3, 'as': 2, 'want': 1, 'in': 5, 'everyday': 1, 'fill': 1, 'no': 1, 'make': 1, '-': 1, 'walk': 1, 'also': 1, 'hot': 1, 'other': 2, 'details': 2, 'gets': 1, 'play': 1, 'track': 2, 'uses': 1, 'lunch,': 1, 'a': 1, 'i': 7, 'sometimes': 1, 'well': 1, 'park,': 1, 'time': 1, 'the': 9}]"
      ]
     },
     "execution_count": 21,
     "metadata": {},
     "output_type": "execute_result"
    }
   ],
   "source": [
    "a"
   ]
  },
  {
   "cell_type": "code",
   "execution_count": 22,
   "metadata": {
    "collapsed": false
   },
   "outputs": [
    {
     "ename": "SyntaxError",
     "evalue": "invalid syntax (<ipython-input-22-55c5b2736341>, line 1)",
     "output_type": "error",
     "traceback": [
      "\u001b[1;36m  File \u001b[1;32m\"<ipython-input-22-55c5b2736341>\"\u001b[1;36m, line \u001b[1;32m1\u001b[0m\n\u001b[1;33m    a.apply(lambda x : print x)\u001b[0m\n\u001b[1;37m                           ^\u001b[0m\n\u001b[1;31mSyntaxError\u001b[0m\u001b[1;31m:\u001b[0m invalid syntax\n"
     ]
    }
   ],
   "source": [
    "a.apply(lambda x : print x)"
   ]
  },
  {
   "cell_type": "code",
   "execution_count": 23,
   "metadata": {
    "collapsed": false
   },
   "outputs": [
    {
     "ename": "KeyError",
     "evalue": "'and'",
     "output_type": "error",
     "traceback": [
      "\u001b[1;31m---------------------------------------------------------------------------\u001b[0m",
      "\u001b[1;31mKeyError\u001b[0m                                  Traceback (most recent call last)",
      "\u001b[1;32m<ipython-input-23-1bf078147136>\u001b[0m in \u001b[0;36m<module>\u001b[1;34m()\u001b[0m\n\u001b[1;32m----> 1\u001b[1;33m \u001b[0ma\u001b[0m\u001b[1;33m.\u001b[0m\u001b[0mapply\u001b[0m\u001b[1;33m(\u001b[0m\u001b[1;32mlambda\u001b[0m \u001b[0mx\u001b[0m \u001b[1;33m:\u001b[0m \u001b[0mx\u001b[0m\u001b[1;33m[\u001b[0m\u001b[1;34m'and'\u001b[0m\u001b[1;33m]\u001b[0m\u001b[1;33m)\u001b[0m\u001b[1;33m\u001b[0m\u001b[0m\n\u001b[0m",
      "\u001b[1;32m/opt/anaconda/anaconda2/lib/python2.7/site-packages/graphlab/data_structures/sarray.pyc\u001b[0m in \u001b[0;36mapply\u001b[1;34m(self, fn, dtype, skip_undefined, seed)\u001b[0m\n\u001b[0;32m   1868\u001b[0m         \u001b[1;32massert\u001b[0m \u001b[0mcallable\u001b[0m\u001b[1;33m(\u001b[0m\u001b[0mfn\u001b[0m\u001b[1;33m)\u001b[0m\u001b[1;33m,\u001b[0m \u001b[1;34m\"Input function must be callable.\"\u001b[0m\u001b[1;33m\u001b[0m\u001b[0m\n\u001b[0;32m   1869\u001b[0m \u001b[1;33m\u001b[0m\u001b[0m\n\u001b[1;32m-> 1870\u001b[1;33m         \u001b[0mdryrun\u001b[0m \u001b[1;33m=\u001b[0m \u001b[1;33m[\u001b[0m\u001b[0mfn\u001b[0m\u001b[1;33m(\u001b[0m\u001b[0mi\u001b[0m\u001b[1;33m)\u001b[0m \u001b[1;32mfor\u001b[0m \u001b[0mi\u001b[0m \u001b[1;32min\u001b[0m \u001b[0mself\u001b[0m\u001b[1;33m.\u001b[0m\u001b[0mhead\u001b[0m\u001b[1;33m(\u001b[0m\u001b[1;36m100\u001b[0m\u001b[1;33m)\u001b[0m \u001b[1;32mif\u001b[0m \u001b[0mi\u001b[0m \u001b[1;32mis\u001b[0m \u001b[1;32mnot\u001b[0m \u001b[0mNone\u001b[0m\u001b[1;33m]\u001b[0m\u001b[1;33m\u001b[0m\u001b[0m\n\u001b[0m\u001b[0;32m   1871\u001b[0m         \u001b[1;32mif\u001b[0m \u001b[0mdtype\u001b[0m \u001b[1;33m==\u001b[0m \u001b[0mNone\u001b[0m\u001b[1;33m:\u001b[0m\u001b[1;33m\u001b[0m\u001b[0m\n\u001b[0;32m   1872\u001b[0m             \u001b[0mdtype\u001b[0m \u001b[1;33m=\u001b[0m \u001b[0minfer_type_of_list\u001b[0m\u001b[1;33m(\u001b[0m\u001b[0mdryrun\u001b[0m\u001b[1;33m)\u001b[0m\u001b[1;33m\u001b[0m\u001b[0m\n",
      "\u001b[1;32m<ipython-input-23-1bf078147136>\u001b[0m in \u001b[0;36m<lambda>\u001b[1;34m(x)\u001b[0m\n\u001b[1;32m----> 1\u001b[1;33m \u001b[0ma\u001b[0m\u001b[1;33m.\u001b[0m\u001b[0mapply\u001b[0m\u001b[1;33m(\u001b[0m\u001b[1;32mlambda\u001b[0m \u001b[0mx\u001b[0m \u001b[1;33m:\u001b[0m \u001b[0mx\u001b[0m\u001b[1;33m[\u001b[0m\u001b[1;34m'and'\u001b[0m\u001b[1;33m]\u001b[0m\u001b[1;33m)\u001b[0m\u001b[1;33m\u001b[0m\u001b[0m\n\u001b[0m",
      "\u001b[1;31mKeyError\u001b[0m: 'and'"
     ]
    }
   ],
   "source": [
    "a.apply(lambda x : x['and'])"
   ]
  },
  {
   "cell_type": "code",
   "execution_count": 25,
   "metadata": {
    "collapsed": false
   },
   "outputs": [
    {
     "data": {
      "text/plain": [
       "dtype: dict\n",
       "Rows: 1\n",
       "[{'and': 3, 'love': 1, 'it': 2, 'highly': 1, 'osocozy': 1, 'bags': 1, 'holder.': 1, 'moist': 1, 'does': 1, 'recommend': 1, 'was': 1, 'wipes': 1, 'it.': 1, 'early': 1, 'disappointed.': 1, 'not': 2, 'now': 1, 'wipe': 1, 'keps': 1, 'wise': 1, 'i': 1, 'leak.': 1, 'planet': 1, 'my': 2, 'came': 1}]"
      ]
     },
     "execution_count": 25,
     "metadata": {},
     "output_type": "execute_result"
    }
   ],
   "source": [
    "a.apply(lambda x :x).head(1)"
   ]
  },
  {
   "cell_type": "code",
   "execution_count": 26,
   "metadata": {
    "collapsed": false
   },
   "outputs": [
    {
     "data": {
      "text/plain": [
       "dtype: list\n",
       "Rows: 1\n",
       "[['and', 'love', 'it', 'highly', 'osocozy', 'bags', 'holder.', 'moist', 'does', 'recommend', 'was', 'wipes', 'it.', 'early', 'disappointed.', 'not', 'now', 'wipe', 'keps', 'wise', 'i', 'leak.', 'planet', 'my', 'came']]"
      ]
     },
     "execution_count": 26,
     "metadata": {},
     "output_type": "execute_result"
    }
   ],
   "source": [
    "a.apply(lambda x :x.keys()).head(1)"
   ]
  },
  {
   "cell_type": "code",
   "execution_count": 27,
   "metadata": {
    "collapsed": false
   },
   "outputs": [
    {
     "data": {
      "text/plain": [
       "dtype: int\n",
       "Rows: 1\n",
       "[3]"
      ]
     },
     "execution_count": 27,
     "metadata": {},
     "output_type": "execute_result"
    }
   ],
   "source": [
    "a.apply(lambda x :x[x.keys()[0]]).head(1)"
   ]
  },
  {
   "cell_type": "code",
   "execution_count": 28,
   "metadata": {
    "collapsed": false
   },
   "outputs": [
    {
     "data": {
      "text/plain": [
       "dtype: str\n",
       "Rows: 1\n",
       "['and']"
      ]
     },
     "execution_count": 28,
     "metadata": {},
     "output_type": "execute_result"
    }
   ],
   "source": [
    "a.apply(lambda x :x.keys()[0]).head(1)"
   ]
  },
  {
   "cell_type": "code",
   "execution_count": 30,
   "metadata": {
    "collapsed": false
   },
   "outputs": [
    {
     "ename": "TypeError",
     "evalue": "unhashable type: 'list'",
     "output_type": "error",
     "traceback": [
      "\u001b[1;31m---------------------------------------------------------------------------\u001b[0m",
      "\u001b[1;31mTypeError\u001b[0m                                 Traceback (most recent call last)",
      "\u001b[1;32m<ipython-input-30-161dea91ad27>\u001b[0m in \u001b[0;36m<module>\u001b[1;34m()\u001b[0m\n\u001b[0;32m      1\u001b[0m \u001b[1;32mfor\u001b[0m \u001b[0mword\u001b[0m \u001b[1;32min\u001b[0m \u001b[0mselected_words\u001b[0m\u001b[1;33m:\u001b[0m\u001b[1;33m\u001b[0m\u001b[0m\n\u001b[1;32m----> 2\u001b[1;33m     \u001b[0mproducts\u001b[0m\u001b[1;33m[\u001b[0m\u001b[0mword\u001b[0m\u001b[1;33m]\u001b[0m \u001b[1;33m=\u001b[0m \u001b[0mproducts\u001b[0m\u001b[1;33m[\u001b[0m\u001b[1;34m'word_count'\u001b[0m\u001b[1;33m]\u001b[0m\u001b[1;33m.\u001b[0m\u001b[0mapply\u001b[0m\u001b[1;33m(\u001b[0m\u001b[1;32mlambda\u001b[0m \u001b[0mx\u001b[0m \u001b[1;33m:\u001b[0m \u001b[0mx\u001b[0m\u001b[1;33m[\u001b[0m\u001b[1;33m[\u001b[0m\u001b[0mword\u001b[0m\u001b[1;33m]\u001b[0m\u001b[1;33m]\u001b[0m\u001b[1;33m)\u001b[0m\u001b[1;33m\u001b[0m\u001b[0m\n\u001b[0m",
      "\u001b[1;32m/opt/anaconda/anaconda2/lib/python2.7/site-packages/graphlab/data_structures/sarray.pyc\u001b[0m in \u001b[0;36mapply\u001b[1;34m(self, fn, dtype, skip_undefined, seed)\u001b[0m\n\u001b[0;32m   1868\u001b[0m         \u001b[1;32massert\u001b[0m \u001b[0mcallable\u001b[0m\u001b[1;33m(\u001b[0m\u001b[0mfn\u001b[0m\u001b[1;33m)\u001b[0m\u001b[1;33m,\u001b[0m \u001b[1;34m\"Input function must be callable.\"\u001b[0m\u001b[1;33m\u001b[0m\u001b[0m\n\u001b[0;32m   1869\u001b[0m \u001b[1;33m\u001b[0m\u001b[0m\n\u001b[1;32m-> 1870\u001b[1;33m         \u001b[0mdryrun\u001b[0m \u001b[1;33m=\u001b[0m \u001b[1;33m[\u001b[0m\u001b[0mfn\u001b[0m\u001b[1;33m(\u001b[0m\u001b[0mi\u001b[0m\u001b[1;33m)\u001b[0m \u001b[1;32mfor\u001b[0m \u001b[0mi\u001b[0m \u001b[1;32min\u001b[0m \u001b[0mself\u001b[0m\u001b[1;33m.\u001b[0m\u001b[0mhead\u001b[0m\u001b[1;33m(\u001b[0m\u001b[1;36m100\u001b[0m\u001b[1;33m)\u001b[0m \u001b[1;32mif\u001b[0m \u001b[0mi\u001b[0m \u001b[1;32mis\u001b[0m \u001b[1;32mnot\u001b[0m \u001b[0mNone\u001b[0m\u001b[1;33m]\u001b[0m\u001b[1;33m\u001b[0m\u001b[0m\n\u001b[0m\u001b[0;32m   1871\u001b[0m         \u001b[1;32mif\u001b[0m \u001b[0mdtype\u001b[0m \u001b[1;33m==\u001b[0m \u001b[0mNone\u001b[0m\u001b[1;33m:\u001b[0m\u001b[1;33m\u001b[0m\u001b[0m\n\u001b[0;32m   1872\u001b[0m             \u001b[0mdtype\u001b[0m \u001b[1;33m=\u001b[0m \u001b[0minfer_type_of_list\u001b[0m\u001b[1;33m(\u001b[0m\u001b[0mdryrun\u001b[0m\u001b[1;33m)\u001b[0m\u001b[1;33m\u001b[0m\u001b[0m\n",
      "\u001b[1;32m<ipython-input-30-161dea91ad27>\u001b[0m in \u001b[0;36m<lambda>\u001b[1;34m(x)\u001b[0m\n\u001b[0;32m      1\u001b[0m \u001b[1;32mfor\u001b[0m \u001b[0mword\u001b[0m \u001b[1;32min\u001b[0m \u001b[0mselected_words\u001b[0m\u001b[1;33m:\u001b[0m\u001b[1;33m\u001b[0m\u001b[0m\n\u001b[1;32m----> 2\u001b[1;33m     \u001b[0mproducts\u001b[0m\u001b[1;33m[\u001b[0m\u001b[0mword\u001b[0m\u001b[1;33m]\u001b[0m \u001b[1;33m=\u001b[0m \u001b[0mproducts\u001b[0m\u001b[1;33m[\u001b[0m\u001b[1;34m'word_count'\u001b[0m\u001b[1;33m]\u001b[0m\u001b[1;33m.\u001b[0m\u001b[0mapply\u001b[0m\u001b[1;33m(\u001b[0m\u001b[1;32mlambda\u001b[0m \u001b[0mx\u001b[0m \u001b[1;33m:\u001b[0m \u001b[0mx\u001b[0m\u001b[1;33m[\u001b[0m\u001b[1;33m[\u001b[0m\u001b[0mword\u001b[0m\u001b[1;33m]\u001b[0m\u001b[1;33m]\u001b[0m\u001b[1;33m)\u001b[0m\u001b[1;33m\u001b[0m\u001b[0m\n\u001b[0m",
      "\u001b[1;31mTypeError\u001b[0m: unhashable type: 'list'"
     ]
    }
   ],
   "source": [
    "for word in selected_words:\n",
    "    products[word] = products['word_count'].apply(lambda x : x[[word]])"
   ]
  },
  {
   "cell_type": "code",
   "execution_count": 31,
   "metadata": {
    "collapsed": false
   },
   "outputs": [
    {
     "name": "stdout",
     "output_type": "stream",
     "text": [
      "awesome\n",
      "great\n",
      "fantastic\n",
      "amazing\n",
      "love\n",
      "horrible\n",
      "bad\n",
      "terrible\n",
      "awful\n",
      "wow\n",
      "hate\n"
     ]
    }
   ],
   "source": [
    "for word in selected_words:\n",
    "    print word\n",
    "    products[word] = products['word_count'].apply(lambda x : x)"
   ]
  },
  {
   "cell_type": "code",
   "execution_count": 32,
   "metadata": {
    "collapsed": false
   },
   "outputs": [
    {
     "data": {
      "text/html": [
       "<div style=\"max-height:1000px;max-width:1500px;overflow:auto;\"><table frame=\"box\" rules=\"cols\">\n",
       "    <tr>\n",
       "        <th style=\"padding-left: 1em; padding-right: 1em; text-align: center\">name</th>\n",
       "        <th style=\"padding-left: 1em; padding-right: 1em; text-align: center\">review</th>\n",
       "        <th style=\"padding-left: 1em; padding-right: 1em; text-align: center\">rating</th>\n",
       "        <th style=\"padding-left: 1em; padding-right: 1em; text-align: center\">word_count</th>\n",
       "        <th style=\"padding-left: 1em; padding-right: 1em; text-align: center\">sentiment</th>\n",
       "    </tr>\n",
       "    <tr>\n",
       "        <td style=\"padding-left: 1em; padding-right: 1em; text-align: center; vertical-align: top\">Planetwise Wipe Pouch</td>\n",
       "        <td style=\"padding-left: 1em; padding-right: 1em; text-align: center; vertical-align: top\">it came early and was not<br>disappointed. i love ...</td>\n",
       "        <td style=\"padding-left: 1em; padding-right: 1em; text-align: center; vertical-align: top\">5.0</td>\n",
       "        <td style=\"padding-left: 1em; padding-right: 1em; text-align: center; vertical-align: top\">{'and': 3, 'love': 1,<br>'it': 2, 'highly': 1, ...</td>\n",
       "        <td style=\"padding-left: 1em; padding-right: 1em; text-align: center; vertical-align: top\">1</td>\n",
       "    </tr>\n",
       "    <tr>\n",
       "        <td style=\"padding-left: 1em; padding-right: 1em; text-align: center; vertical-align: top\">Annas Dream Full Quilt<br>with 2 Shams ...</td>\n",
       "        <td style=\"padding-left: 1em; padding-right: 1em; text-align: center; vertical-align: top\">Very soft and comfortable<br>and warmer than it ...</td>\n",
       "        <td style=\"padding-left: 1em; padding-right: 1em; text-align: center; vertical-align: top\">5.0</td>\n",
       "        <td style=\"padding-left: 1em; padding-right: 1em; text-align: center; vertical-align: top\">{'and': 2, 'quilt': 1,<br>'it': 1, 'comfortable': ...</td>\n",
       "        <td style=\"padding-left: 1em; padding-right: 1em; text-align: center; vertical-align: top\">1</td>\n",
       "    </tr>\n",
       "    <tr>\n",
       "        <td style=\"padding-left: 1em; padding-right: 1em; text-align: center; vertical-align: top\">Stop Pacifier Sucking<br>without tears with ...</td>\n",
       "        <td style=\"padding-left: 1em; padding-right: 1em; text-align: center; vertical-align: top\">This is a product well<br>worth the purchase.  I ...</td>\n",
       "        <td style=\"padding-left: 1em; padding-right: 1em; text-align: center; vertical-align: top\">5.0</td>\n",
       "        <td style=\"padding-left: 1em; padding-right: 1em; text-align: center; vertical-align: top\">{'ingenious': 1, 'and':<br>3, 'love': 2, ...</td>\n",
       "        <td style=\"padding-left: 1em; padding-right: 1em; text-align: center; vertical-align: top\">1</td>\n",
       "    </tr>\n",
       "    <tr>\n",
       "        <td style=\"padding-left: 1em; padding-right: 1em; text-align: center; vertical-align: top\">Stop Pacifier Sucking<br>without tears with ...</td>\n",
       "        <td style=\"padding-left: 1em; padding-right: 1em; text-align: center; vertical-align: top\">All of my kids have cried<br>non-stop when I tried to ...</td>\n",
       "        <td style=\"padding-left: 1em; padding-right: 1em; text-align: center; vertical-align: top\">5.0</td>\n",
       "        <td style=\"padding-left: 1em; padding-right: 1em; text-align: center; vertical-align: top\">{'and': 2, 'parents!!':<br>1, 'all': 2, 'puppet.': ...</td>\n",
       "        <td style=\"padding-left: 1em; padding-right: 1em; text-align: center; vertical-align: top\">1</td>\n",
       "    </tr>\n",
       "    <tr>\n",
       "        <td style=\"padding-left: 1em; padding-right: 1em; text-align: center; vertical-align: top\">Stop Pacifier Sucking<br>without tears with ...</td>\n",
       "        <td style=\"padding-left: 1em; padding-right: 1em; text-align: center; vertical-align: top\">When the Binky Fairy came<br>to our house, we didn't ...</td>\n",
       "        <td style=\"padding-left: 1em; padding-right: 1em; text-align: center; vertical-align: top\">5.0</td>\n",
       "        <td style=\"padding-left: 1em; padding-right: 1em; text-align: center; vertical-align: top\">{'and': 2, 'this': 2,<br>'her': 1, 'help': 2, ...</td>\n",
       "        <td style=\"padding-left: 1em; padding-right: 1em; text-align: center; vertical-align: top\">1</td>\n",
       "    </tr>\n",
       "    <tr>\n",
       "        <td style=\"padding-left: 1em; padding-right: 1em; text-align: center; vertical-align: top\">A Tale of Baby's Days<br>with Peter Rabbit ...</td>\n",
       "        <td style=\"padding-left: 1em; padding-right: 1em; text-align: center; vertical-align: top\">Lovely book, it's bound<br>tightly so you may no ...</td>\n",
       "        <td style=\"padding-left: 1em; padding-right: 1em; text-align: center; vertical-align: top\">4.0</td>\n",
       "        <td style=\"padding-left: 1em; padding-right: 1em; text-align: center; vertical-align: top\">{'shop': 1, 'noble': 1,<br>'is': 1, 'it': 1, 'as': ...</td>\n",
       "        <td style=\"padding-left: 1em; padding-right: 1em; text-align: center; vertical-align: top\">1</td>\n",
       "    </tr>\n",
       "    <tr>\n",
       "        <td style=\"padding-left: 1em; padding-right: 1em; text-align: center; vertical-align: top\">Baby Tracker&amp;reg; - Daily<br>Childcare Journal, ...</td>\n",
       "        <td style=\"padding-left: 1em; padding-right: 1em; text-align: center; vertical-align: top\">Perfect for new parents.<br>We were able to keep ...</td>\n",
       "        <td style=\"padding-left: 1em; padding-right: 1em; text-align: center; vertical-align: top\">5.0</td>\n",
       "        <td style=\"padding-left: 1em; padding-right: 1em; text-align: center; vertical-align: top\">{'and': 2, 'all': 1,<br>'right': 1, 'when': 1, ...</td>\n",
       "        <td style=\"padding-left: 1em; padding-right: 1em; text-align: center; vertical-align: top\">1</td>\n",
       "    </tr>\n",
       "    <tr>\n",
       "        <td style=\"padding-left: 1em; padding-right: 1em; text-align: center; vertical-align: top\">Baby Tracker&amp;reg; - Daily<br>Childcare Journal, ...</td>\n",
       "        <td style=\"padding-left: 1em; padding-right: 1em; text-align: center; vertical-align: top\">A friend of mine pinned<br>this product on Pinte ...</td>\n",
       "        <td style=\"padding-left: 1em; padding-right: 1em; text-align: center; vertical-align: top\">5.0</td>\n",
       "        <td style=\"padding-left: 1em; padding-right: 1em; text-align: center; vertical-align: top\">{'and': 1, 'help': 1,<br>'give': 1, 'is': 1, ' ...</td>\n",
       "        <td style=\"padding-left: 1em; padding-right: 1em; text-align: center; vertical-align: top\">1</td>\n",
       "    </tr>\n",
       "    <tr>\n",
       "        <td style=\"padding-left: 1em; padding-right: 1em; text-align: center; vertical-align: top\">Baby Tracker&amp;reg; - Daily<br>Childcare Journal, ...</td>\n",
       "        <td style=\"padding-left: 1em; padding-right: 1em; text-align: center; vertical-align: top\">This has been an easy way<br>for my nanny to record ...</td>\n",
       "        <td style=\"padding-left: 1em; padding-right: 1em; text-align: center; vertical-align: top\">4.0</td>\n",
       "        <td style=\"padding-left: 1em; padding-right: 1em; text-align: center; vertical-align: top\">{'journal.': 1, 'nanny':<br>1, 'standarad': 1, ...</td>\n",
       "        <td style=\"padding-left: 1em; padding-right: 1em; text-align: center; vertical-align: top\">1</td>\n",
       "    </tr>\n",
       "    <tr>\n",
       "        <td style=\"padding-left: 1em; padding-right: 1em; text-align: center; vertical-align: top\">Baby Tracker&amp;reg; - Daily<br>Childcare Journal, ...</td>\n",
       "        <td style=\"padding-left: 1em; padding-right: 1em; text-align: center; vertical-align: top\">I love this journal and<br>our nanny uses it ...</td>\n",
       "        <td style=\"padding-left: 1em; padding-right: 1em; text-align: center; vertical-align: top\">4.0</td>\n",
       "        <td style=\"padding-left: 1em; padding-right: 1em; text-align: center; vertical-align: top\">{'all': 1, 'forget': 1,<br>'just': 1, 'food': 1, ...</td>\n",
       "        <td style=\"padding-left: 1em; padding-right: 1em; text-align: center; vertical-align: top\">1</td>\n",
       "    </tr>\n",
       "</table>\n",
       "<table frame=\"box\" rules=\"cols\">\n",
       "    <tr>\n",
       "        <th style=\"padding-left: 1em; padding-right: 1em; text-align: center\">awesome</th>\n",
       "        <th style=\"padding-left: 1em; padding-right: 1em; text-align: center\">great</th>\n",
       "        <th style=\"padding-left: 1em; padding-right: 1em; text-align: center\">fantastic</th>\n",
       "        <th style=\"padding-left: 1em; padding-right: 1em; text-align: center\">amazing</th>\n",
       "    </tr>\n",
       "    <tr>\n",
       "        <td style=\"padding-left: 1em; padding-right: 1em; text-align: center; vertical-align: top\">{'and': 3, 'love': 1,<br>'it': 2, 'highly': 1, ...</td>\n",
       "        <td style=\"padding-left: 1em; padding-right: 1em; text-align: center; vertical-align: top\">{'and': 3, 'love': 1,<br>'it': 2, 'highly': 1, ...</td>\n",
       "        <td style=\"padding-left: 1em; padding-right: 1em; text-align: center; vertical-align: top\">{'and': 3, 'love': 1,<br>'it': 2, 'highly': 1, ...</td>\n",
       "        <td style=\"padding-left: 1em; padding-right: 1em; text-align: center; vertical-align: top\">{'and': 3, 'love': 1,<br>'it': 2, 'highly': 1, ...</td>\n",
       "    </tr>\n",
       "    <tr>\n",
       "        <td style=\"padding-left: 1em; padding-right: 1em; text-align: center; vertical-align: top\">{'and': 2, 'quilt': 1,<br>'it': 1, 'comfortable': ...</td>\n",
       "        <td style=\"padding-left: 1em; padding-right: 1em; text-align: center; vertical-align: top\">{'and': 2, 'quilt': 1,<br>'it': 1, 'comfortable': ...</td>\n",
       "        <td style=\"padding-left: 1em; padding-right: 1em; text-align: center; vertical-align: top\">{'and': 2, 'quilt': 1,<br>'it': 1, 'comfortable': ...</td>\n",
       "        <td style=\"padding-left: 1em; padding-right: 1em; text-align: center; vertical-align: top\">{'and': 2, 'quilt': 1,<br>'it': 1, 'comfortable': ...</td>\n",
       "    </tr>\n",
       "    <tr>\n",
       "        <td style=\"padding-left: 1em; padding-right: 1em; text-align: center; vertical-align: top\">{'ingenious': 1, 'and':<br>3, 'love': 2, ...</td>\n",
       "        <td style=\"padding-left: 1em; padding-right: 1em; text-align: center; vertical-align: top\">{'ingenious': 1, 'and':<br>3, 'love': 2, ...</td>\n",
       "        <td style=\"padding-left: 1em; padding-right: 1em; text-align: center; vertical-align: top\">{'ingenious': 1, 'and':<br>3, 'love': 2, ...</td>\n",
       "        <td style=\"padding-left: 1em; padding-right: 1em; text-align: center; vertical-align: top\">{'ingenious': 1, 'and':<br>3, 'love': 2, ...</td>\n",
       "    </tr>\n",
       "    <tr>\n",
       "        <td style=\"padding-left: 1em; padding-right: 1em; text-align: center; vertical-align: top\">{'and': 2, \"love's\": 1,<br>'all': 2, 'help': 1, ...</td>\n",
       "        <td style=\"padding-left: 1em; padding-right: 1em; text-align: center; vertical-align: top\">{'and': 2, \"love's\": 1,<br>'all': 2, 'help': 1, ...</td>\n",
       "        <td style=\"padding-left: 1em; padding-right: 1em; text-align: center; vertical-align: top\">{'and': 2, \"love's\": 1,<br>'all': 2, 'help': 1, ...</td>\n",
       "        <td style=\"padding-left: 1em; padding-right: 1em; text-align: center; vertical-align: top\">{'and': 2, \"love's\": 1,<br>'all': 2, 'help': 1, ...</td>\n",
       "    </tr>\n",
       "    <tr>\n",
       "        <td style=\"padding-left: 1em; padding-right: 1em; text-align: center; vertical-align: top\">{'and': 2, 'cute': 1,<br>'help': 2, 'doll': 1, ...</td>\n",
       "        <td style=\"padding-left: 1em; padding-right: 1em; text-align: center; vertical-align: top\">{'and': 2, 'cute': 1,<br>'help': 2, 'doll': 1, ...</td>\n",
       "        <td style=\"padding-left: 1em; padding-right: 1em; text-align: center; vertical-align: top\">{'and': 2, 'cute': 1,<br>'help': 2, 'doll': 1, ...</td>\n",
       "        <td style=\"padding-left: 1em; padding-right: 1em; text-align: center; vertical-align: top\">{'and': 2, 'cute': 1,<br>'help': 2, 'doll': 1, ...</td>\n",
       "    </tr>\n",
       "    <tr>\n",
       "        <td style=\"padding-left: 1em; padding-right: 1em; text-align: center; vertical-align: top\">{'shop': 1, 'be': 1,<br>'is': 1, 'it': 1, 'as': ...</td>\n",
       "        <td style=\"padding-left: 1em; padding-right: 1em; text-align: center; vertical-align: top\">{'shop': 1, 'be': 1,<br>'is': 1, 'it': 1, 'as': ...</td>\n",
       "        <td style=\"padding-left: 1em; padding-right: 1em; text-align: center; vertical-align: top\">{'shop': 1, 'be': 1,<br>'is': 1, 'it': 1, 'as': ...</td>\n",
       "        <td style=\"padding-left: 1em; padding-right: 1em; text-align: center; vertical-align: top\">{'shop': 1, 'be': 1,<br>'is': 1, 'it': 1, 'as': ...</td>\n",
       "    </tr>\n",
       "    <tr>\n",
       "        <td style=\"padding-left: 1em; padding-right: 1em; text-align: center; vertical-align: top\">{'and': 2, 'all': 1,<br>'right': 1, 'when': 1, ...</td>\n",
       "        <td style=\"padding-left: 1em; padding-right: 1em; text-align: center; vertical-align: top\">{'and': 2, 'all': 1,<br>'right': 1, 'when': 1, ...</td>\n",
       "        <td style=\"padding-left: 1em; padding-right: 1em; text-align: center; vertical-align: top\">{'and': 2, 'all': 1,<br>'right': 1, 'when': 1, ...</td>\n",
       "        <td style=\"padding-left: 1em; padding-right: 1em; text-align: center; vertical-align: top\">{'and': 2, 'all': 1,<br>'right': 1, 'when': 1, ...</td>\n",
       "    </tr>\n",
       "    <tr>\n",
       "        <td style=\"padding-left: 1em; padding-right: 1em; text-align: center; vertical-align: top\">{'and': 1, 'help': 1,<br>'give': 1, 'is': 1, ' ...</td>\n",
       "        <td style=\"padding-left: 1em; padding-right: 1em; text-align: center; vertical-align: top\">{'and': 1, 'help': 1,<br>'give': 1, 'is': 1, ' ...</td>\n",
       "        <td style=\"padding-left: 1em; padding-right: 1em; text-align: center; vertical-align: top\">{'and': 1, 'help': 1,<br>'give': 1, 'is': 1, ' ...</td>\n",
       "        <td style=\"padding-left: 1em; padding-right: 1em; text-align: center; vertical-align: top\">{'and': 1, 'help': 1,<br>'give': 1, 'is': 1, ' ...</td>\n",
       "    </tr>\n",
       "    <tr>\n",
       "        <td style=\"padding-left: 1em; padding-right: 1em; text-align: center; vertical-align: top\">{'journal.': 1, 'all': 1,<br>'because': 1, 'another': ...</td>\n",
       "        <td style=\"padding-left: 1em; padding-right: 1em; text-align: center; vertical-align: top\">{'journal.': 1, 'all': 1,<br>'because': 1, 'another': ...</td>\n",
       "        <td style=\"padding-left: 1em; padding-right: 1em; text-align: center; vertical-align: top\">{'journal.': 1, 'all': 1,<br>'because': 1, 'another': ...</td>\n",
       "        <td style=\"padding-left: 1em; padding-right: 1em; text-align: center; vertical-align: top\">{'journal.': 1, 'all': 1,<br>'because': 1, 'another': ...</td>\n",
       "    </tr>\n",
       "    <tr>\n",
       "        <td style=\"padding-left: 1em; padding-right: 1em; text-align: center; vertical-align: top\">{'all': 1, 'forget': 1,<br>'just': 1, \"daughter's\": ...</td>\n",
       "        <td style=\"padding-left: 1em; padding-right: 1em; text-align: center; vertical-align: top\">{'all': 1, 'forget': 1,<br>'just': 1, \"daughter's\": ...</td>\n",
       "        <td style=\"padding-left: 1em; padding-right: 1em; text-align: center; vertical-align: top\">{'all': 1, 'forget': 1,<br>'just': 1, \"daughter's\": ...</td>\n",
       "        <td style=\"padding-left: 1em; padding-right: 1em; text-align: center; vertical-align: top\">{'all': 1, 'forget': 1,<br>'just': 1, \"daughter's\": ...</td>\n",
       "    </tr>\n",
       "</table>\n",
       "<table frame=\"box\" rules=\"cols\">\n",
       "    <tr>\n",
       "        <th style=\"padding-left: 1em; padding-right: 1em; text-align: center\">love</th>\n",
       "        <th style=\"padding-left: 1em; padding-right: 1em; text-align: center\">horrible</th>\n",
       "        <th style=\"padding-left: 1em; padding-right: 1em; text-align: center\">bad</th>\n",
       "        <th style=\"padding-left: 1em; padding-right: 1em; text-align: center\">terrible</th>\n",
       "    </tr>\n",
       "    <tr>\n",
       "        <td style=\"padding-left: 1em; padding-right: 1em; text-align: center; vertical-align: top\">{'and': 3, 'love': 1,<br>'it': 2, 'highly': 1, ...</td>\n",
       "        <td style=\"padding-left: 1em; padding-right: 1em; text-align: center; vertical-align: top\">{'and': 3, 'love': 1,<br>'it': 2, 'highly': 1, ...</td>\n",
       "        <td style=\"padding-left: 1em; padding-right: 1em; text-align: center; vertical-align: top\">{'and': 3, 'love': 1,<br>'it': 2, 'highly': 1, ...</td>\n",
       "        <td style=\"padding-left: 1em; padding-right: 1em; text-align: center; vertical-align: top\">{'and': 3, 'love': 1,<br>'it': 2, 'highly': 1, ...</td>\n",
       "    </tr>\n",
       "    <tr>\n",
       "        <td style=\"padding-left: 1em; padding-right: 1em; text-align: center; vertical-align: top\">{'and': 2, 'quilt': 1,<br>'it': 1, 'comfortable': ...</td>\n",
       "        <td style=\"padding-left: 1em; padding-right: 1em; text-align: center; vertical-align: top\">{'and': 2, 'quilt': 1,<br>'it': 1, 'comfortable': ...</td>\n",
       "        <td style=\"padding-left: 1em; padding-right: 1em; text-align: center; vertical-align: top\">{'and': 2, 'quilt': 1,<br>'it': 1, 'comfortable': ...</td>\n",
       "        <td style=\"padding-left: 1em; padding-right: 1em; text-align: center; vertical-align: top\">{'and': 2, 'quilt': 1,<br>'it': 1, 'comfortable': ...</td>\n",
       "    </tr>\n",
       "    <tr>\n",
       "        <td style=\"padding-left: 1em; padding-right: 1em; text-align: center; vertical-align: top\">{'ingenious': 1, 'and':<br>3, 'love': 2, ...</td>\n",
       "        <td style=\"padding-left: 1em; padding-right: 1em; text-align: center; vertical-align: top\">{'ingenious': 1, 'and':<br>3, 'love': 2, ...</td>\n",
       "        <td style=\"padding-left: 1em; padding-right: 1em; text-align: center; vertical-align: top\">{'ingenious': 1, 'and':<br>3, 'love': 2, ...</td>\n",
       "        <td style=\"padding-left: 1em; padding-right: 1em; text-align: center; vertical-align: top\">{'ingenious': 1, 'and':<br>3, 'love': 2, ...</td>\n",
       "    </tr>\n",
       "    <tr>\n",
       "        <td style=\"padding-left: 1em; padding-right: 1em; text-align: center; vertical-align: top\">{'and': 2, \"love's\": 1,<br>'all': 2, 'help': 1, ...</td>\n",
       "        <td style=\"padding-left: 1em; padding-right: 1em; text-align: center; vertical-align: top\">{'and': 2, \"love's\": 1,<br>'all': 2, 'help': 1, ...</td>\n",
       "        <td style=\"padding-left: 1em; padding-right: 1em; text-align: center; vertical-align: top\">{'and': 2, \"love's\": 1,<br>'all': 2, 'help': 1, ...</td>\n",
       "        <td style=\"padding-left: 1em; padding-right: 1em; text-align: center; vertical-align: top\">{'and': 2, \"love's\": 1,<br>'all': 2, 'help': 1, ...</td>\n",
       "    </tr>\n",
       "    <tr>\n",
       "        <td style=\"padding-left: 1em; padding-right: 1em; text-align: center; vertical-align: top\">{'and': 2, 'cute': 1,<br>'help': 2, 'doll': 1, ...</td>\n",
       "        <td style=\"padding-left: 1em; padding-right: 1em; text-align: center; vertical-align: top\">{'and': 2, 'cute': 1,<br>'help': 2, 'doll': 1, ...</td>\n",
       "        <td style=\"padding-left: 1em; padding-right: 1em; text-align: center; vertical-align: top\">{'and': 2, 'cute': 1,<br>'help': 2, 'doll': 1, ...</td>\n",
       "        <td style=\"padding-left: 1em; padding-right: 1em; text-align: center; vertical-align: top\">{'and': 2, 'cute': 1,<br>'help': 2, 'doll': 1, ...</td>\n",
       "    </tr>\n",
       "    <tr>\n",
       "        <td style=\"padding-left: 1em; padding-right: 1em; text-align: center; vertical-align: top\">{'shop': 1, 'be': 1,<br>'is': 1, 'it': 1, 'as': ...</td>\n",
       "        <td style=\"padding-left: 1em; padding-right: 1em; text-align: center; vertical-align: top\">{'shop': 1, 'be': 1,<br>'is': 1, 'it': 1, 'as': ...</td>\n",
       "        <td style=\"padding-left: 1em; padding-right: 1em; text-align: center; vertical-align: top\">{'shop': 1, 'be': 1,<br>'is': 1, 'it': 1, 'as': ...</td>\n",
       "        <td style=\"padding-left: 1em; padding-right: 1em; text-align: center; vertical-align: top\">{'shop': 1, 'be': 1,<br>'is': 1, 'it': 1, 'as': ...</td>\n",
       "    </tr>\n",
       "    <tr>\n",
       "        <td style=\"padding-left: 1em; padding-right: 1em; text-align: center; vertical-align: top\">{'and': 2, 'all': 1,<br>'right': 1, 'when': 1, ...</td>\n",
       "        <td style=\"padding-left: 1em; padding-right: 1em; text-align: center; vertical-align: top\">{'and': 2, 'all': 1,<br>'right': 1, 'when': 1, ...</td>\n",
       "        <td style=\"padding-left: 1em; padding-right: 1em; text-align: center; vertical-align: top\">{'and': 2, 'all': 1,<br>'right': 1, 'when': 1, ...</td>\n",
       "        <td style=\"padding-left: 1em; padding-right: 1em; text-align: center; vertical-align: top\">{'and': 2, 'all': 1,<br>'right': 1, 'when': 1, ...</td>\n",
       "    </tr>\n",
       "    <tr>\n",
       "        <td style=\"padding-left: 1em; padding-right: 1em; text-align: center; vertical-align: top\">{'and': 1, 'help': 1,<br>'give': 1, 'is': 1, ' ...</td>\n",
       "        <td style=\"padding-left: 1em; padding-right: 1em; text-align: center; vertical-align: top\">{'and': 1, 'help': 1,<br>'give': 1, 'is': 1, ' ...</td>\n",
       "        <td style=\"padding-left: 1em; padding-right: 1em; text-align: center; vertical-align: top\">{'and': 1, 'help': 1,<br>'give': 1, 'is': 1, ' ...</td>\n",
       "        <td style=\"padding-left: 1em; padding-right: 1em; text-align: center; vertical-align: top\">{'and': 1, 'help': 1,<br>'give': 1, 'is': 1, ' ...</td>\n",
       "    </tr>\n",
       "    <tr>\n",
       "        <td style=\"padding-left: 1em; padding-right: 1em; text-align: center; vertical-align: top\">{'journal.': 1, 'all': 1,<br>'because': 1, 'another': ...</td>\n",
       "        <td style=\"padding-left: 1em; padding-right: 1em; text-align: center; vertical-align: top\">{'journal.': 1, 'all': 1,<br>'because': 1, 'another': ...</td>\n",
       "        <td style=\"padding-left: 1em; padding-right: 1em; text-align: center; vertical-align: top\">{'journal.': 1, 'all': 1,<br>'because': 1, 'another': ...</td>\n",
       "        <td style=\"padding-left: 1em; padding-right: 1em; text-align: center; vertical-align: top\">{'journal.': 1, 'all': 1,<br>'because': 1, 'another': ...</td>\n",
       "    </tr>\n",
       "    <tr>\n",
       "        <td style=\"padding-left: 1em; padding-right: 1em; text-align: center; vertical-align: top\">{'all': 1, 'forget': 1,<br>'just': 1, \"daughter's\": ...</td>\n",
       "        <td style=\"padding-left: 1em; padding-right: 1em; text-align: center; vertical-align: top\">{'all': 1, 'forget': 1,<br>'just': 1, \"daughter's\": ...</td>\n",
       "        <td style=\"padding-left: 1em; padding-right: 1em; text-align: center; vertical-align: top\">{'all': 1, 'forget': 1,<br>'just': 1, \"daughter's\": ...</td>\n",
       "        <td style=\"padding-left: 1em; padding-right: 1em; text-align: center; vertical-align: top\">{'all': 1, 'forget': 1,<br>'just': 1, \"daughter's\": ...</td>\n",
       "    </tr>\n",
       "</table>\n",
       "<table frame=\"box\" rules=\"cols\">\n",
       "    <tr>\n",
       "        <th style=\"padding-left: 1em; padding-right: 1em; text-align: center\">awful</th>\n",
       "        <th style=\"padding-left: 1em; padding-right: 1em; text-align: center\">wow</th>\n",
       "        <th style=\"padding-left: 1em; padding-right: 1em; text-align: center\">hate</th>\n",
       "    </tr>\n",
       "    <tr>\n",
       "        <td style=\"padding-left: 1em; padding-right: 1em; text-align: center; vertical-align: top\">{'and': 3, 'love': 1,<br>'it': 2, 'highly': 1, ...</td>\n",
       "        <td style=\"padding-left: 1em; padding-right: 1em; text-align: center; vertical-align: top\">{'and': 3, 'love': 1,<br>'it': 2, 'highly': 1, ...</td>\n",
       "        <td style=\"padding-left: 1em; padding-right: 1em; text-align: center; vertical-align: top\">{'and': 3, 'love': 1,<br>'it': 2, 'highly': 1, ...</td>\n",
       "    </tr>\n",
       "    <tr>\n",
       "        <td style=\"padding-left: 1em; padding-right: 1em; text-align: center; vertical-align: top\">{'and': 2, 'quilt': 1,<br>'it': 1, 'comfortable': ...</td>\n",
       "        <td style=\"padding-left: 1em; padding-right: 1em; text-align: center; vertical-align: top\">{'and': 2, 'quilt': 1,<br>'it': 1, 'comfortable': ...</td>\n",
       "        <td style=\"padding-left: 1em; padding-right: 1em; text-align: center; vertical-align: top\">{'and': 2, 'quilt': 1,<br>'it': 1, 'comfortable': ...</td>\n",
       "    </tr>\n",
       "    <tr>\n",
       "        <td style=\"padding-left: 1em; padding-right: 1em; text-align: center; vertical-align: top\">{'ingenious': 1, 'and':<br>3, 'love': 2, ...</td>\n",
       "        <td style=\"padding-left: 1em; padding-right: 1em; text-align: center; vertical-align: top\">{'ingenious': 1, 'and':<br>3, 'love': 2, ...</td>\n",
       "        <td style=\"padding-left: 1em; padding-right: 1em; text-align: center; vertical-align: top\">{'ingenious': 1, 'and':<br>3, 'love': 2, ...</td>\n",
       "    </tr>\n",
       "    <tr>\n",
       "        <td style=\"padding-left: 1em; padding-right: 1em; text-align: center; vertical-align: top\">{'and': 2, \"love's\": 1,<br>'all': 2, 'help': 1, ...</td>\n",
       "        <td style=\"padding-left: 1em; padding-right: 1em; text-align: center; vertical-align: top\">{'and': 2, \"love's\": 1,<br>'all': 2, 'help': 1, ...</td>\n",
       "        <td style=\"padding-left: 1em; padding-right: 1em; text-align: center; vertical-align: top\">{'and': 2, \"love's\": 1,<br>'all': 2, 'help': 1, ...</td>\n",
       "    </tr>\n",
       "    <tr>\n",
       "        <td style=\"padding-left: 1em; padding-right: 1em; text-align: center; vertical-align: top\">{'and': 2, 'cute': 1,<br>'help': 2, 'doll': 1, ...</td>\n",
       "        <td style=\"padding-left: 1em; padding-right: 1em; text-align: center; vertical-align: top\">{'and': 2, 'cute': 1,<br>'help': 2, 'doll': 1, ...</td>\n",
       "        <td style=\"padding-left: 1em; padding-right: 1em; text-align: center; vertical-align: top\">{'and': 2, 'cute': 1,<br>'help': 2, 'doll': 1, ...</td>\n",
       "    </tr>\n",
       "    <tr>\n",
       "        <td style=\"padding-left: 1em; padding-right: 1em; text-align: center; vertical-align: top\">{'shop': 1, 'be': 1,<br>'is': 1, 'it': 1, 'as': ...</td>\n",
       "        <td style=\"padding-left: 1em; padding-right: 1em; text-align: center; vertical-align: top\">{'shop': 1, 'be': 1,<br>'is': 1, 'it': 1, 'as': ...</td>\n",
       "        <td style=\"padding-left: 1em; padding-right: 1em; text-align: center; vertical-align: top\">{'shop': 1, 'be': 1,<br>'is': 1, 'it': 1, 'as': ...</td>\n",
       "    </tr>\n",
       "    <tr>\n",
       "        <td style=\"padding-left: 1em; padding-right: 1em; text-align: center; vertical-align: top\">{'and': 2, 'all': 1,<br>'right': 1, 'when': 1, ...</td>\n",
       "        <td style=\"padding-left: 1em; padding-right: 1em; text-align: center; vertical-align: top\">{'and': 2, 'all': 1,<br>'right': 1, 'when': 1, ...</td>\n",
       "        <td style=\"padding-left: 1em; padding-right: 1em; text-align: center; vertical-align: top\">{'and': 2, 'all': 1,<br>'right': 1, 'when': 1, ...</td>\n",
       "    </tr>\n",
       "    <tr>\n",
       "        <td style=\"padding-left: 1em; padding-right: 1em; text-align: center; vertical-align: top\">{'and': 1, 'help': 1,<br>'give': 1, 'is': 1, ' ...</td>\n",
       "        <td style=\"padding-left: 1em; padding-right: 1em; text-align: center; vertical-align: top\">{'and': 1, 'help': 1,<br>'give': 1, 'is': 1, ' ...</td>\n",
       "        <td style=\"padding-left: 1em; padding-right: 1em; text-align: center; vertical-align: top\">{'and': 1, 'help': 1,<br>'give': 1, 'is': 1, ' ...</td>\n",
       "    </tr>\n",
       "    <tr>\n",
       "        <td style=\"padding-left: 1em; padding-right: 1em; text-align: center; vertical-align: top\">{'journal.': 1, 'all': 1,<br>'because': 1, 'another': ...</td>\n",
       "        <td style=\"padding-left: 1em; padding-right: 1em; text-align: center; vertical-align: top\">{'journal.': 1, 'all': 1,<br>'because': 1, 'another': ...</td>\n",
       "        <td style=\"padding-left: 1em; padding-right: 1em; text-align: center; vertical-align: top\">{'journal.': 1, 'all': 1,<br>'because': 1, 'another': ...</td>\n",
       "    </tr>\n",
       "    <tr>\n",
       "        <td style=\"padding-left: 1em; padding-right: 1em; text-align: center; vertical-align: top\">{'all': 1, 'forget': 1,<br>'just': 1, \"daughter's\": ...</td>\n",
       "        <td style=\"padding-left: 1em; padding-right: 1em; text-align: center; vertical-align: top\">{'all': 1, 'forget': 1,<br>'just': 1, \"daughter's\": ...</td>\n",
       "        <td style=\"padding-left: 1em; padding-right: 1em; text-align: center; vertical-align: top\">{'all': 1, 'forget': 1,<br>'just': 1, \"daughter's\": ...</td>\n",
       "    </tr>\n",
       "</table>\n",
       "[10 rows x 16 columns]<br/>\n",
       "</div>"
      ],
      "text/plain": [
       "Columns:\n",
       "\tname\tstr\n",
       "\treview\tstr\n",
       "\trating\tfloat\n",
       "\tword_count\tdict\n",
       "\tsentiment\tint\n",
       "\tawesome\tdict\n",
       "\tgreat\tdict\n",
       "\tfantastic\tdict\n",
       "\tamazing\tdict\n",
       "\tlove\tdict\n",
       "\thorrible\tdict\n",
       "\tbad\tdict\n",
       "\tterrible\tdict\n",
       "\tawful\tdict\n",
       "\twow\tdict\n",
       "\thate\tdict\n",
       "\n",
       "Rows: 10\n",
       "\n",
       "Data:\n",
       "+-------------------------------+-------------------------------+--------+\n",
       "|              name             |             review            | rating |\n",
       "+-------------------------------+-------------------------------+--------+\n",
       "|     Planetwise Wipe Pouch     | it came early and was not ... |  5.0   |\n",
       "| Annas Dream Full Quilt wit... | Very soft and comfortable ... |  5.0   |\n",
       "| Stop Pacifier Sucking with... | This is a product well wor... |  5.0   |\n",
       "| Stop Pacifier Sucking with... | All of my kids have cried ... |  5.0   |\n",
       "| Stop Pacifier Sucking with... | When the Binky Fairy came ... |  5.0   |\n",
       "| A Tale of Baby's Days with... | Lovely book, it's bound ti... |  4.0   |\n",
       "| Baby Tracker&reg; - Daily ... | Perfect for new parents. W... |  5.0   |\n",
       "| Baby Tracker&reg; - Daily ... | A friend of mine pinned th... |  5.0   |\n",
       "| Baby Tracker&reg; - Daily ... | This has been an easy way ... |  4.0   |\n",
       "| Baby Tracker&reg; - Daily ... | I love this journal and ou... |  4.0   |\n",
       "+-------------------------------+-------------------------------+--------+\n",
       "+-------------------------------+-----------+-------------------------------+\n",
       "|           word_count          | sentiment |            awesome            |\n",
       "+-------------------------------+-----------+-------------------------------+\n",
       "| {'and': 3, 'love': 1, 'it'... |     1     | {'and': 3, 'love': 1, 'it'... |\n",
       "| {'and': 2, 'quilt': 1, 'it... |     1     | {'and': 2, 'quilt': 1, 'it... |\n",
       "| {'ingenious': 1, 'and': 3,... |     1     | {'ingenious': 1, 'and': 3,... |\n",
       "| {'and': 2, 'parents!!': 1,... |     1     | {'and': 2, \"love's\": 1, 'a... |\n",
       "| {'and': 2, 'this': 2, 'her... |     1     | {'and': 2, 'cute': 1, 'hel... |\n",
       "| {'shop': 1, 'noble': 1, 'i... |     1     | {'shop': 1, 'be': 1, 'is':... |\n",
       "| {'and': 2, 'all': 1, 'righ... |     1     | {'and': 2, 'all': 1, 'righ... |\n",
       "| {'and': 1, 'help': 1, 'giv... |     1     | {'and': 1, 'help': 1, 'giv... |\n",
       "| {'journal.': 1, 'nanny': 1... |     1     | {'journal.': 1, 'all': 1, ... |\n",
       "| {'all': 1, 'forget': 1, 'j... |     1     | {'all': 1, 'forget': 1, 'j... |\n",
       "+-------------------------------+-----------+-------------------------------+\n",
       "+-------------------------------+-------------------------------+\n",
       "|             great             |           fantastic           |\n",
       "+-------------------------------+-------------------------------+\n",
       "| {'and': 3, 'love': 1, 'it'... | {'and': 3, 'love': 1, 'it'... |\n",
       "| {'and': 2, 'quilt': 1, 'it... | {'and': 2, 'quilt': 1, 'it... |\n",
       "| {'ingenious': 1, 'and': 3,... | {'ingenious': 1, 'and': 3,... |\n",
       "| {'and': 2, \"love's\": 1, 'a... | {'and': 2, \"love's\": 1, 'a... |\n",
       "| {'and': 2, 'cute': 1, 'hel... | {'and': 2, 'cute': 1, 'hel... |\n",
       "| {'shop': 1, 'be': 1, 'is':... | {'shop': 1, 'be': 1, 'is':... |\n",
       "| {'and': 2, 'all': 1, 'righ... | {'and': 2, 'all': 1, 'righ... |\n",
       "| {'and': 1, 'help': 1, 'giv... | {'and': 1, 'help': 1, 'giv... |\n",
       "| {'journal.': 1, 'all': 1, ... | {'journal.': 1, 'all': 1, ... |\n",
       "| {'all': 1, 'forget': 1, 'j... | {'all': 1, 'forget': 1, 'j... |\n",
       "+-------------------------------+-------------------------------+\n",
       "+-------------------------------+-------------------------------+\n",
       "|            amazing            |              love             |\n",
       "+-------------------------------+-------------------------------+\n",
       "| {'and': 3, 'love': 1, 'it'... | {'and': 3, 'love': 1, 'it'... |\n",
       "| {'and': 2, 'quilt': 1, 'it... | {'and': 2, 'quilt': 1, 'it... |\n",
       "| {'ingenious': 1, 'and': 3,... | {'ingenious': 1, 'and': 3,... |\n",
       "| {'and': 2, \"love's\": 1, 'a... | {'and': 2, \"love's\": 1, 'a... |\n",
       "| {'and': 2, 'cute': 1, 'hel... | {'and': 2, 'cute': 1, 'hel... |\n",
       "| {'shop': 1, 'be': 1, 'is':... | {'shop': 1, 'be': 1, 'is':... |\n",
       "| {'and': 2, 'all': 1, 'righ... | {'and': 2, 'all': 1, 'righ... |\n",
       "| {'and': 1, 'help': 1, 'giv... | {'and': 1, 'help': 1, 'giv... |\n",
       "| {'journal.': 1, 'all': 1, ... | {'journal.': 1, 'all': 1, ... |\n",
       "| {'all': 1, 'forget': 1, 'j... | {'all': 1, 'forget': 1, 'j... |\n",
       "+-------------------------------+-------------------------------+\n",
       "+-------------------------------+-------------------------------+\n",
       "|            horrible           |              bad              |\n",
       "+-------------------------------+-------------------------------+\n",
       "| {'and': 3, 'love': 1, 'it'... | {'and': 3, 'love': 1, 'it'... |\n",
       "| {'and': 2, 'quilt': 1, 'it... | {'and': 2, 'quilt': 1, 'it... |\n",
       "| {'ingenious': 1, 'and': 3,... | {'ingenious': 1, 'and': 3,... |\n",
       "| {'and': 2, \"love's\": 1, 'a... | {'and': 2, \"love's\": 1, 'a... |\n",
       "| {'and': 2, 'cute': 1, 'hel... | {'and': 2, 'cute': 1, 'hel... |\n",
       "| {'shop': 1, 'be': 1, 'is':... | {'shop': 1, 'be': 1, 'is':... |\n",
       "| {'and': 2, 'all': 1, 'righ... | {'and': 2, 'all': 1, 'righ... |\n",
       "| {'and': 1, 'help': 1, 'giv... | {'and': 1, 'help': 1, 'giv... |\n",
       "| {'journal.': 1, 'all': 1, ... | {'journal.': 1, 'all': 1, ... |\n",
       "| {'all': 1, 'forget': 1, 'j... | {'all': 1, 'forget': 1, 'j... |\n",
       "+-------------------------------+-------------------------------+\n",
       "+-------------------------------+-------------------------------+\n",
       "|            terrible           |             awful             |\n",
       "+-------------------------------+-------------------------------+\n",
       "| {'and': 3, 'love': 1, 'it'... | {'and': 3, 'love': 1, 'it'... |\n",
       "| {'and': 2, 'quilt': 1, 'it... | {'and': 2, 'quilt': 1, 'it... |\n",
       "| {'ingenious': 1, 'and': 3,... | {'ingenious': 1, 'and': 3,... |\n",
       "| {'and': 2, \"love's\": 1, 'a... | {'and': 2, \"love's\": 1, 'a... |\n",
       "| {'and': 2, 'cute': 1, 'hel... | {'and': 2, 'cute': 1, 'hel... |\n",
       "| {'shop': 1, 'be': 1, 'is':... | {'shop': 1, 'be': 1, 'is':... |\n",
       "| {'and': 2, 'all': 1, 'righ... | {'and': 2, 'all': 1, 'righ... |\n",
       "| {'and': 1, 'help': 1, 'giv... | {'and': 1, 'help': 1, 'giv... |\n",
       "| {'journal.': 1, 'all': 1, ... | {'journal.': 1, 'all': 1, ... |\n",
       "| {'all': 1, 'forget': 1, 'j... | {'all': 1, 'forget': 1, 'j... |\n",
       "+-------------------------------+-------------------------------+\n",
       "+-------------------------------+-------------------------------+\n",
       "|              wow              |              hate             |\n",
       "+-------------------------------+-------------------------------+\n",
       "| {'and': 3, 'love': 1, 'it'... | {'and': 3, 'love': 1, 'it'... |\n",
       "| {'and': 2, 'quilt': 1, 'it... | {'and': 2, 'quilt': 1, 'it... |\n",
       "| {'ingenious': 1, 'and': 3,... | {'ingenious': 1, 'and': 3,... |\n",
       "| {'and': 2, \"love's\": 1, 'a... | {'and': 2, \"love's\": 1, 'a... |\n",
       "| {'and': 2, 'cute': 1, 'hel... | {'and': 2, 'cute': 1, 'hel... |\n",
       "| {'shop': 1, 'be': 1, 'is':... | {'shop': 1, 'be': 1, 'is':... |\n",
       "| {'and': 2, 'all': 1, 'righ... | {'and': 2, 'all': 1, 'righ... |\n",
       "| {'and': 1, 'help': 1, 'giv... | {'and': 1, 'help': 1, 'giv... |\n",
       "| {'journal.': 1, 'all': 1, ... | {'journal.': 1, 'all': 1, ... |\n",
       "| {'all': 1, 'forget': 1, 'j... | {'all': 1, 'forget': 1, 'j... |\n",
       "+-------------------------------+-------------------------------+\n",
       "[10 rows x 16 columns]"
      ]
     },
     "execution_count": 32,
     "metadata": {},
     "output_type": "execute_result"
    }
   ],
   "source": [
    "products.head()"
   ]
  },
  {
   "cell_type": "code",
   "execution_count": 33,
   "metadata": {
    "collapsed": false
   },
   "outputs": [
    {
     "data": {
      "text/html": [
       "<div style=\"max-height:1000px;max-width:1500px;overflow:auto;\"><table frame=\"box\" rules=\"cols\">\n",
       "    <tr>\n",
       "        <th style=\"padding-left: 1em; padding-right: 1em; text-align: center\">name</th>\n",
       "        <th style=\"padding-left: 1em; padding-right: 1em; text-align: center\">review</th>\n",
       "        <th style=\"padding-left: 1em; padding-right: 1em; text-align: center\">rating</th>\n",
       "        <th style=\"padding-left: 1em; padding-right: 1em; text-align: center\">word_count</th>\n",
       "        <th style=\"padding-left: 1em; padding-right: 1em; text-align: center\">sentiment</th>\n",
       "    </tr>\n",
       "    <tr>\n",
       "        <td style=\"padding-left: 1em; padding-right: 1em; text-align: center; vertical-align: top\">Planetwise Wipe Pouch</td>\n",
       "        <td style=\"padding-left: 1em; padding-right: 1em; text-align: center; vertical-align: top\">it came early and was not<br>disappointed. i love ...</td>\n",
       "        <td style=\"padding-left: 1em; padding-right: 1em; text-align: center; vertical-align: top\">5.0</td>\n",
       "        <td style=\"padding-left: 1em; padding-right: 1em; text-align: center; vertical-align: top\">{'and': 3, 'love': 1,<br>'it': 2, 'highly': 1, ...</td>\n",
       "        <td style=\"padding-left: 1em; padding-right: 1em; text-align: center; vertical-align: top\">1</td>\n",
       "    </tr>\n",
       "    <tr>\n",
       "        <td style=\"padding-left: 1em; padding-right: 1em; text-align: center; vertical-align: top\">Annas Dream Full Quilt<br>with 2 Shams ...</td>\n",
       "        <td style=\"padding-left: 1em; padding-right: 1em; text-align: center; vertical-align: top\">Very soft and comfortable<br>and warmer than it ...</td>\n",
       "        <td style=\"padding-left: 1em; padding-right: 1em; text-align: center; vertical-align: top\">5.0</td>\n",
       "        <td style=\"padding-left: 1em; padding-right: 1em; text-align: center; vertical-align: top\">{'and': 2, 'quilt': 1,<br>'it': 1, 'comfortable': ...</td>\n",
       "        <td style=\"padding-left: 1em; padding-right: 1em; text-align: center; vertical-align: top\">1</td>\n",
       "    </tr>\n",
       "    <tr>\n",
       "        <td style=\"padding-left: 1em; padding-right: 1em; text-align: center; vertical-align: top\">Stop Pacifier Sucking<br>without tears with ...</td>\n",
       "        <td style=\"padding-left: 1em; padding-right: 1em; text-align: center; vertical-align: top\">This is a product well<br>worth the purchase.  I ...</td>\n",
       "        <td style=\"padding-left: 1em; padding-right: 1em; text-align: center; vertical-align: top\">5.0</td>\n",
       "        <td style=\"padding-left: 1em; padding-right: 1em; text-align: center; vertical-align: top\">{'ingenious': 1, 'and':<br>3, 'love': 2, ...</td>\n",
       "        <td style=\"padding-left: 1em; padding-right: 1em; text-align: center; vertical-align: top\">1</td>\n",
       "    </tr>\n",
       "    <tr>\n",
       "        <td style=\"padding-left: 1em; padding-right: 1em; text-align: center; vertical-align: top\">Stop Pacifier Sucking<br>without tears with ...</td>\n",
       "        <td style=\"padding-left: 1em; padding-right: 1em; text-align: center; vertical-align: top\">All of my kids have cried<br>non-stop when I tried to ...</td>\n",
       "        <td style=\"padding-left: 1em; padding-right: 1em; text-align: center; vertical-align: top\">5.0</td>\n",
       "        <td style=\"padding-left: 1em; padding-right: 1em; text-align: center; vertical-align: top\">{'and': 2, 'parents!!':<br>1, 'all': 2, 'puppet.': ...</td>\n",
       "        <td style=\"padding-left: 1em; padding-right: 1em; text-align: center; vertical-align: top\">1</td>\n",
       "    </tr>\n",
       "    <tr>\n",
       "        <td style=\"padding-left: 1em; padding-right: 1em; text-align: center; vertical-align: top\">Stop Pacifier Sucking<br>without tears with ...</td>\n",
       "        <td style=\"padding-left: 1em; padding-right: 1em; text-align: center; vertical-align: top\">When the Binky Fairy came<br>to our house, we didn't ...</td>\n",
       "        <td style=\"padding-left: 1em; padding-right: 1em; text-align: center; vertical-align: top\">5.0</td>\n",
       "        <td style=\"padding-left: 1em; padding-right: 1em; text-align: center; vertical-align: top\">{'and': 2, 'this': 2,<br>'her': 1, 'help': 2, ...</td>\n",
       "        <td style=\"padding-left: 1em; padding-right: 1em; text-align: center; vertical-align: top\">1</td>\n",
       "    </tr>\n",
       "    <tr>\n",
       "        <td style=\"padding-left: 1em; padding-right: 1em; text-align: center; vertical-align: top\">A Tale of Baby's Days<br>with Peter Rabbit ...</td>\n",
       "        <td style=\"padding-left: 1em; padding-right: 1em; text-align: center; vertical-align: top\">Lovely book, it's bound<br>tightly so you may no ...</td>\n",
       "        <td style=\"padding-left: 1em; padding-right: 1em; text-align: center; vertical-align: top\">4.0</td>\n",
       "        <td style=\"padding-left: 1em; padding-right: 1em; text-align: center; vertical-align: top\">{'shop': 1, 'noble': 1,<br>'is': 1, 'it': 1, 'as': ...</td>\n",
       "        <td style=\"padding-left: 1em; padding-right: 1em; text-align: center; vertical-align: top\">1</td>\n",
       "    </tr>\n",
       "    <tr>\n",
       "        <td style=\"padding-left: 1em; padding-right: 1em; text-align: center; vertical-align: top\">Baby Tracker&amp;reg; - Daily<br>Childcare Journal, ...</td>\n",
       "        <td style=\"padding-left: 1em; padding-right: 1em; text-align: center; vertical-align: top\">Perfect for new parents.<br>We were able to keep ...</td>\n",
       "        <td style=\"padding-left: 1em; padding-right: 1em; text-align: center; vertical-align: top\">5.0</td>\n",
       "        <td style=\"padding-left: 1em; padding-right: 1em; text-align: center; vertical-align: top\">{'and': 2, 'all': 1,<br>'right': 1, 'when': 1, ...</td>\n",
       "        <td style=\"padding-left: 1em; padding-right: 1em; text-align: center; vertical-align: top\">1</td>\n",
       "    </tr>\n",
       "    <tr>\n",
       "        <td style=\"padding-left: 1em; padding-right: 1em; text-align: center; vertical-align: top\">Baby Tracker&amp;reg; - Daily<br>Childcare Journal, ...</td>\n",
       "        <td style=\"padding-left: 1em; padding-right: 1em; text-align: center; vertical-align: top\">A friend of mine pinned<br>this product on Pinte ...</td>\n",
       "        <td style=\"padding-left: 1em; padding-right: 1em; text-align: center; vertical-align: top\">5.0</td>\n",
       "        <td style=\"padding-left: 1em; padding-right: 1em; text-align: center; vertical-align: top\">{'and': 1, 'help': 1,<br>'give': 1, 'is': 1, ' ...</td>\n",
       "        <td style=\"padding-left: 1em; padding-right: 1em; text-align: center; vertical-align: top\">1</td>\n",
       "    </tr>\n",
       "    <tr>\n",
       "        <td style=\"padding-left: 1em; padding-right: 1em; text-align: center; vertical-align: top\">Baby Tracker&amp;reg; - Daily<br>Childcare Journal, ...</td>\n",
       "        <td style=\"padding-left: 1em; padding-right: 1em; text-align: center; vertical-align: top\">This has been an easy way<br>for my nanny to record ...</td>\n",
       "        <td style=\"padding-left: 1em; padding-right: 1em; text-align: center; vertical-align: top\">4.0</td>\n",
       "        <td style=\"padding-left: 1em; padding-right: 1em; text-align: center; vertical-align: top\">{'journal.': 1, 'nanny':<br>1, 'standarad': 1, ...</td>\n",
       "        <td style=\"padding-left: 1em; padding-right: 1em; text-align: center; vertical-align: top\">1</td>\n",
       "    </tr>\n",
       "    <tr>\n",
       "        <td style=\"padding-left: 1em; padding-right: 1em; text-align: center; vertical-align: top\">Baby Tracker&amp;reg; - Daily<br>Childcare Journal, ...</td>\n",
       "        <td style=\"padding-left: 1em; padding-right: 1em; text-align: center; vertical-align: top\">I love this journal and<br>our nanny uses it ...</td>\n",
       "        <td style=\"padding-left: 1em; padding-right: 1em; text-align: center; vertical-align: top\">4.0</td>\n",
       "        <td style=\"padding-left: 1em; padding-right: 1em; text-align: center; vertical-align: top\">{'all': 1, 'forget': 1,<br>'just': 1, 'food': 1, ...</td>\n",
       "        <td style=\"padding-left: 1em; padding-right: 1em; text-align: center; vertical-align: top\">1</td>\n",
       "    </tr>\n",
       "</table>\n",
       "[166752 rows x 5 columns]<br/>Note: Only the head of the SFrame is printed.<br/>You can use print_rows(num_rows=m, num_columns=n) to print more rows and columns.\n",
       "</div>"
      ],
      "text/plain": [
       "Columns:\n",
       "\tname\tstr\n",
       "\treview\tstr\n",
       "\trating\tfloat\n",
       "\tword_count\tdict\n",
       "\tsentiment\tint\n",
       "\n",
       "Rows: 166752\n",
       "\n",
       "Data:\n",
       "+-------------------------------+-------------------------------+--------+\n",
       "|              name             |             review            | rating |\n",
       "+-------------------------------+-------------------------------+--------+\n",
       "|     Planetwise Wipe Pouch     | it came early and was not ... |  5.0   |\n",
       "| Annas Dream Full Quilt wit... | Very soft and comfortable ... |  5.0   |\n",
       "| Stop Pacifier Sucking with... | This is a product well wor... |  5.0   |\n",
       "| Stop Pacifier Sucking with... | All of my kids have cried ... |  5.0   |\n",
       "| Stop Pacifier Sucking with... | When the Binky Fairy came ... |  5.0   |\n",
       "| A Tale of Baby's Days with... | Lovely book, it's bound ti... |  4.0   |\n",
       "| Baby Tracker&reg; - Daily ... | Perfect for new parents. W... |  5.0   |\n",
       "| Baby Tracker&reg; - Daily ... | A friend of mine pinned th... |  5.0   |\n",
       "| Baby Tracker&reg; - Daily ... | This has been an easy way ... |  4.0   |\n",
       "| Baby Tracker&reg; - Daily ... | I love this journal and ou... |  4.0   |\n",
       "+-------------------------------+-------------------------------+--------+\n",
       "+-------------------------------+-----------+\n",
       "|           word_count          | sentiment |\n",
       "+-------------------------------+-----------+\n",
       "| {'and': 3, 'love': 1, 'it'... |     1     |\n",
       "| {'and': 2, 'quilt': 1, 'it... |     1     |\n",
       "| {'ingenious': 1, 'and': 3,... |     1     |\n",
       "| {'and': 2, 'parents!!': 1,... |     1     |\n",
       "| {'and': 2, 'this': 2, 'her... |     1     |\n",
       "| {'shop': 1, 'noble': 1, 'i... |     1     |\n",
       "| {'and': 2, 'all': 1, 'righ... |     1     |\n",
       "| {'and': 1, 'help': 1, 'giv... |     1     |\n",
       "| {'journal.': 1, 'nanny': 1... |     1     |\n",
       "| {'all': 1, 'forget': 1, 'j... |     1     |\n",
       "+-------------------------------+-----------+\n",
       "[166752 rows x 5 columns]\n",
       "Note: Only the head of the SFrame is printed.\n",
       "You can use print_rows(num_rows=m, num_columns=n) to print more rows and columns."
      ]
     },
     "execution_count": 33,
     "metadata": {},
     "output_type": "execute_result"
    }
   ],
   "source": [
    "products.remove_columns(selected_words)"
   ]
  },
  {
   "cell_type": "code",
   "execution_count": 34,
   "metadata": {
    "collapsed": false
   },
   "outputs": [
    {
     "ename": "AttributeError",
     "evalue": "'SArray' object has no attribute 'map'",
     "output_type": "error",
     "traceback": [
      "\u001b[1;31m---------------------------------------------------------------------------\u001b[0m",
      "\u001b[1;31mAttributeError\u001b[0m                            Traceback (most recent call last)",
      "\u001b[1;32m<ipython-input-34-b93eeee6ff69>\u001b[0m in \u001b[0;36m<module>\u001b[1;34m()\u001b[0m\n\u001b[0;32m      1\u001b[0m \u001b[1;32mfor\u001b[0m \u001b[0mword\u001b[0m \u001b[1;32min\u001b[0m \u001b[0mselected_words\u001b[0m\u001b[1;33m:\u001b[0m\u001b[1;33m\u001b[0m\u001b[0m\n\u001b[1;32m----> 2\u001b[1;33m     \u001b[0mproducts\u001b[0m\u001b[1;33m[\u001b[0m\u001b[0mword\u001b[0m\u001b[1;33m]\u001b[0m \u001b[1;33m=\u001b[0m \u001b[0mproducts\u001b[0m\u001b[1;33m[\u001b[0m\u001b[1;34m'word_count'\u001b[0m\u001b[1;33m]\u001b[0m\u001b[1;33m.\u001b[0m\u001b[0mmap\u001b[0m\u001b[1;33m(\u001b[0m\u001b[1;32mlambda\u001b[0m \u001b[0mx\u001b[0m \u001b[1;33m:\u001b[0m \u001b[0mx\u001b[0m\u001b[1;33m[\u001b[0m\u001b[0mword\u001b[0m\u001b[1;33m]\u001b[0m\u001b[1;33m)\u001b[0m\u001b[1;33m\u001b[0m\u001b[0m\n\u001b[0m",
      "\u001b[1;31mAttributeError\u001b[0m: 'SArray' object has no attribute 'map'"
     ]
    }
   ],
   "source": [
    "for word in selected_words:\n",
    "    products[word] = products['word_count'].map(lambda x : x[word])"
   ]
  },
  {
   "cell_type": "code",
   "execution_count": 35,
   "metadata": {
    "collapsed": false
   },
   "outputs": [
    {
     "ename": "AttributeError",
     "evalue": "'SArray' object has no attribute 'array'",
     "output_type": "error",
     "traceback": [
      "\u001b[1;31m---------------------------------------------------------------------------\u001b[0m",
      "\u001b[1;31mAttributeError\u001b[0m                            Traceback (most recent call last)",
      "\u001b[1;32m<ipython-input-35-7003826f4b6e>\u001b[0m in \u001b[0;36m<module>\u001b[1;34m()\u001b[0m\n\u001b[0;32m      1\u001b[0m \u001b[1;32mfor\u001b[0m \u001b[0mword\u001b[0m \u001b[1;32min\u001b[0m \u001b[0mselected_words\u001b[0m\u001b[1;33m:\u001b[0m\u001b[1;33m\u001b[0m\u001b[0m\n\u001b[1;32m----> 2\u001b[1;33m     \u001b[0mproducts\u001b[0m\u001b[1;33m[\u001b[0m\u001b[0mword\u001b[0m\u001b[1;33m]\u001b[0m \u001b[1;33m=\u001b[0m \u001b[0mproducts\u001b[0m\u001b[1;33m[\u001b[0m\u001b[1;34m'word_count'\u001b[0m\u001b[1;33m]\u001b[0m\u001b[1;33m.\u001b[0m\u001b[0marray\u001b[0m\u001b[1;33m(\u001b[0m\u001b[1;32mlambda\u001b[0m \u001b[0mx\u001b[0m \u001b[1;33m:\u001b[0m \u001b[0mx\u001b[0m\u001b[1;33m[\u001b[0m\u001b[0mword\u001b[0m\u001b[1;33m]\u001b[0m \u001b[1;32mif\u001b[0m \u001b[0mword\u001b[0m \u001b[1;32min\u001b[0m \u001b[0mx\u001b[0m \u001b[1;32melse\u001b[0m \u001b[1;36m0\u001b[0m\u001b[1;33m)\u001b[0m\u001b[1;33m\u001b[0m\u001b[0m\n\u001b[0m",
      "\u001b[1;31mAttributeError\u001b[0m: 'SArray' object has no attribute 'array'"
     ]
    }
   ],
   "source": [
    "for word in selected_words:\n",
    "    products[word] = products['word_count'].array(lambda x : x[word] if word in x else 0)"
   ]
  },
  {
   "cell_type": "code",
   "execution_count": 36,
   "metadata": {
    "collapsed": true
   },
   "outputs": [],
   "source": [
    "for word in selected_words:\n",
    "    products[word] = products['word_count'].apply(lambda x : x[word] if word in x else 0)"
   ]
  },
  {
   "cell_type": "code",
   "execution_count": 38,
   "metadata": {
    "collapsed": false
   },
   "outputs": [
    {
     "data": {
      "text/html": [
       "<div style=\"max-height:1000px;max-width:1500px;overflow:auto;\"><table frame=\"box\" rules=\"cols\">\n",
       "    <tr>\n",
       "        <th style=\"padding-left: 1em; padding-right: 1em; text-align: center\">name</th>\n",
       "        <th style=\"padding-left: 1em; padding-right: 1em; text-align: center\">review</th>\n",
       "        <th style=\"padding-left: 1em; padding-right: 1em; text-align: center\">rating</th>\n",
       "        <th style=\"padding-left: 1em; padding-right: 1em; text-align: center\">word_count</th>\n",
       "        <th style=\"padding-left: 1em; padding-right: 1em; text-align: center\">sentiment</th>\n",
       "        <th style=\"padding-left: 1em; padding-right: 1em; text-align: center\">awesome</th>\n",
       "    </tr>\n",
       "    <tr>\n",
       "        <td style=\"padding-left: 1em; padding-right: 1em; text-align: center; vertical-align: top\">Planetwise Wipe Pouch</td>\n",
       "        <td style=\"padding-left: 1em; padding-right: 1em; text-align: center; vertical-align: top\">it came early and was not<br>disappointed. i love ...</td>\n",
       "        <td style=\"padding-left: 1em; padding-right: 1em; text-align: center; vertical-align: top\">5.0</td>\n",
       "        <td style=\"padding-left: 1em; padding-right: 1em; text-align: center; vertical-align: top\">{'and': 3, 'love': 1,<br>'it': 2, 'highly': 1, ...</td>\n",
       "        <td style=\"padding-left: 1em; padding-right: 1em; text-align: center; vertical-align: top\">1</td>\n",
       "        <td style=\"padding-left: 1em; padding-right: 1em; text-align: center; vertical-align: top\">0</td>\n",
       "    </tr>\n",
       "    <tr>\n",
       "        <td style=\"padding-left: 1em; padding-right: 1em; text-align: center; vertical-align: top\">Annas Dream Full Quilt<br>with 2 Shams ...</td>\n",
       "        <td style=\"padding-left: 1em; padding-right: 1em; text-align: center; vertical-align: top\">Very soft and comfortable<br>and warmer than it ...</td>\n",
       "        <td style=\"padding-left: 1em; padding-right: 1em; text-align: center; vertical-align: top\">5.0</td>\n",
       "        <td style=\"padding-left: 1em; padding-right: 1em; text-align: center; vertical-align: top\">{'and': 2, 'quilt': 1,<br>'it': 1, 'comfortable': ...</td>\n",
       "        <td style=\"padding-left: 1em; padding-right: 1em; text-align: center; vertical-align: top\">1</td>\n",
       "        <td style=\"padding-left: 1em; padding-right: 1em; text-align: center; vertical-align: top\">0</td>\n",
       "    </tr>\n",
       "    <tr>\n",
       "        <td style=\"padding-left: 1em; padding-right: 1em; text-align: center; vertical-align: top\">Stop Pacifier Sucking<br>without tears with ...</td>\n",
       "        <td style=\"padding-left: 1em; padding-right: 1em; text-align: center; vertical-align: top\">This is a product well<br>worth the purchase.  I ...</td>\n",
       "        <td style=\"padding-left: 1em; padding-right: 1em; text-align: center; vertical-align: top\">5.0</td>\n",
       "        <td style=\"padding-left: 1em; padding-right: 1em; text-align: center; vertical-align: top\">{'ingenious': 1, 'and':<br>3, 'love': 2, ...</td>\n",
       "        <td style=\"padding-left: 1em; padding-right: 1em; text-align: center; vertical-align: top\">1</td>\n",
       "        <td style=\"padding-left: 1em; padding-right: 1em; text-align: center; vertical-align: top\">0</td>\n",
       "    </tr>\n",
       "    <tr>\n",
       "        <td style=\"padding-left: 1em; padding-right: 1em; text-align: center; vertical-align: top\">Stop Pacifier Sucking<br>without tears with ...</td>\n",
       "        <td style=\"padding-left: 1em; padding-right: 1em; text-align: center; vertical-align: top\">All of my kids have cried<br>non-stop when I tried to ...</td>\n",
       "        <td style=\"padding-left: 1em; padding-right: 1em; text-align: center; vertical-align: top\">5.0</td>\n",
       "        <td style=\"padding-left: 1em; padding-right: 1em; text-align: center; vertical-align: top\">{'and': 2, 'parents!!':<br>1, 'all': 2, 'puppet.': ...</td>\n",
       "        <td style=\"padding-left: 1em; padding-right: 1em; text-align: center; vertical-align: top\">1</td>\n",
       "        <td style=\"padding-left: 1em; padding-right: 1em; text-align: center; vertical-align: top\">0</td>\n",
       "    </tr>\n",
       "    <tr>\n",
       "        <td style=\"padding-left: 1em; padding-right: 1em; text-align: center; vertical-align: top\">Stop Pacifier Sucking<br>without tears with ...</td>\n",
       "        <td style=\"padding-left: 1em; padding-right: 1em; text-align: center; vertical-align: top\">When the Binky Fairy came<br>to our house, we didn't ...</td>\n",
       "        <td style=\"padding-left: 1em; padding-right: 1em; text-align: center; vertical-align: top\">5.0</td>\n",
       "        <td style=\"padding-left: 1em; padding-right: 1em; text-align: center; vertical-align: top\">{'and': 2, 'this': 2,<br>'her': 1, 'help': 2, ...</td>\n",
       "        <td style=\"padding-left: 1em; padding-right: 1em; text-align: center; vertical-align: top\">1</td>\n",
       "        <td style=\"padding-left: 1em; padding-right: 1em; text-align: center; vertical-align: top\">0</td>\n",
       "    </tr>\n",
       "    <tr>\n",
       "        <td style=\"padding-left: 1em; padding-right: 1em; text-align: center; vertical-align: top\">A Tale of Baby's Days<br>with Peter Rabbit ...</td>\n",
       "        <td style=\"padding-left: 1em; padding-right: 1em; text-align: center; vertical-align: top\">Lovely book, it's bound<br>tightly so you may no ...</td>\n",
       "        <td style=\"padding-left: 1em; padding-right: 1em; text-align: center; vertical-align: top\">4.0</td>\n",
       "        <td style=\"padding-left: 1em; padding-right: 1em; text-align: center; vertical-align: top\">{'shop': 1, 'noble': 1,<br>'is': 1, 'it': 1, 'as': ...</td>\n",
       "        <td style=\"padding-left: 1em; padding-right: 1em; text-align: center; vertical-align: top\">1</td>\n",
       "        <td style=\"padding-left: 1em; padding-right: 1em; text-align: center; vertical-align: top\">0</td>\n",
       "    </tr>\n",
       "    <tr>\n",
       "        <td style=\"padding-left: 1em; padding-right: 1em; text-align: center; vertical-align: top\">Baby Tracker&amp;reg; - Daily<br>Childcare Journal, ...</td>\n",
       "        <td style=\"padding-left: 1em; padding-right: 1em; text-align: center; vertical-align: top\">Perfect for new parents.<br>We were able to keep ...</td>\n",
       "        <td style=\"padding-left: 1em; padding-right: 1em; text-align: center; vertical-align: top\">5.0</td>\n",
       "        <td style=\"padding-left: 1em; padding-right: 1em; text-align: center; vertical-align: top\">{'and': 2, 'all': 1,<br>'right': 1, 'when': 1, ...</td>\n",
       "        <td style=\"padding-left: 1em; padding-right: 1em; text-align: center; vertical-align: top\">1</td>\n",
       "        <td style=\"padding-left: 1em; padding-right: 1em; text-align: center; vertical-align: top\">0</td>\n",
       "    </tr>\n",
       "    <tr>\n",
       "        <td style=\"padding-left: 1em; padding-right: 1em; text-align: center; vertical-align: top\">Baby Tracker&amp;reg; - Daily<br>Childcare Journal, ...</td>\n",
       "        <td style=\"padding-left: 1em; padding-right: 1em; text-align: center; vertical-align: top\">A friend of mine pinned<br>this product on Pinte ...</td>\n",
       "        <td style=\"padding-left: 1em; padding-right: 1em; text-align: center; vertical-align: top\">5.0</td>\n",
       "        <td style=\"padding-left: 1em; padding-right: 1em; text-align: center; vertical-align: top\">{'and': 1, 'help': 1,<br>'give': 1, 'is': 1, ' ...</td>\n",
       "        <td style=\"padding-left: 1em; padding-right: 1em; text-align: center; vertical-align: top\">1</td>\n",
       "        <td style=\"padding-left: 1em; padding-right: 1em; text-align: center; vertical-align: top\">0</td>\n",
       "    </tr>\n",
       "    <tr>\n",
       "        <td style=\"padding-left: 1em; padding-right: 1em; text-align: center; vertical-align: top\">Baby Tracker&amp;reg; - Daily<br>Childcare Journal, ...</td>\n",
       "        <td style=\"padding-left: 1em; padding-right: 1em; text-align: center; vertical-align: top\">This has been an easy way<br>for my nanny to record ...</td>\n",
       "        <td style=\"padding-left: 1em; padding-right: 1em; text-align: center; vertical-align: top\">4.0</td>\n",
       "        <td style=\"padding-left: 1em; padding-right: 1em; text-align: center; vertical-align: top\">{'journal.': 1, 'nanny':<br>1, 'standarad': 1, ...</td>\n",
       "        <td style=\"padding-left: 1em; padding-right: 1em; text-align: center; vertical-align: top\">1</td>\n",
       "        <td style=\"padding-left: 1em; padding-right: 1em; text-align: center; vertical-align: top\">0</td>\n",
       "    </tr>\n",
       "    <tr>\n",
       "        <td style=\"padding-left: 1em; padding-right: 1em; text-align: center; vertical-align: top\">Baby Tracker&amp;reg; - Daily<br>Childcare Journal, ...</td>\n",
       "        <td style=\"padding-left: 1em; padding-right: 1em; text-align: center; vertical-align: top\">I love this journal and<br>our nanny uses it ...</td>\n",
       "        <td style=\"padding-left: 1em; padding-right: 1em; text-align: center; vertical-align: top\">4.0</td>\n",
       "        <td style=\"padding-left: 1em; padding-right: 1em; text-align: center; vertical-align: top\">{'all': 1, 'forget': 1,<br>'just': 1, 'food': 1, ...</td>\n",
       "        <td style=\"padding-left: 1em; padding-right: 1em; text-align: center; vertical-align: top\">1</td>\n",
       "        <td style=\"padding-left: 1em; padding-right: 1em; text-align: center; vertical-align: top\">0</td>\n",
       "    </tr>\n",
       "</table>\n",
       "<table frame=\"box\" rules=\"cols\">\n",
       "    <tr>\n",
       "        <th style=\"padding-left: 1em; padding-right: 1em; text-align: center\">great</th>\n",
       "        <th style=\"padding-left: 1em; padding-right: 1em; text-align: center\">fantastic</th>\n",
       "        <th style=\"padding-left: 1em; padding-right: 1em; text-align: center\">amazing</th>\n",
       "        <th style=\"padding-left: 1em; padding-right: 1em; text-align: center\">love</th>\n",
       "        <th style=\"padding-left: 1em; padding-right: 1em; text-align: center\">horrible</th>\n",
       "        <th style=\"padding-left: 1em; padding-right: 1em; text-align: center\">bad</th>\n",
       "        <th style=\"padding-left: 1em; padding-right: 1em; text-align: center\">terrible</th>\n",
       "        <th style=\"padding-left: 1em; padding-right: 1em; text-align: center\">awful</th>\n",
       "        <th style=\"padding-left: 1em; padding-right: 1em; text-align: center\">wow</th>\n",
       "        <th style=\"padding-left: 1em; padding-right: 1em; text-align: center\">hate</th>\n",
       "    </tr>\n",
       "    <tr>\n",
       "        <td style=\"padding-left: 1em; padding-right: 1em; text-align: center; vertical-align: top\">0</td>\n",
       "        <td style=\"padding-left: 1em; padding-right: 1em; text-align: center; vertical-align: top\">0</td>\n",
       "        <td style=\"padding-left: 1em; padding-right: 1em; text-align: center; vertical-align: top\">0</td>\n",
       "        <td style=\"padding-left: 1em; padding-right: 1em; text-align: center; vertical-align: top\">1</td>\n",
       "        <td style=\"padding-left: 1em; padding-right: 1em; text-align: center; vertical-align: top\">0</td>\n",
       "        <td style=\"padding-left: 1em; padding-right: 1em; text-align: center; vertical-align: top\">0</td>\n",
       "        <td style=\"padding-left: 1em; padding-right: 1em; text-align: center; vertical-align: top\">0</td>\n",
       "        <td style=\"padding-left: 1em; padding-right: 1em; text-align: center; vertical-align: top\">0</td>\n",
       "        <td style=\"padding-left: 1em; padding-right: 1em; text-align: center; vertical-align: top\">0</td>\n",
       "        <td style=\"padding-left: 1em; padding-right: 1em; text-align: center; vertical-align: top\">0</td>\n",
       "    </tr>\n",
       "    <tr>\n",
       "        <td style=\"padding-left: 1em; padding-right: 1em; text-align: center; vertical-align: top\">0</td>\n",
       "        <td style=\"padding-left: 1em; padding-right: 1em; text-align: center; vertical-align: top\">0</td>\n",
       "        <td style=\"padding-left: 1em; padding-right: 1em; text-align: center; vertical-align: top\">0</td>\n",
       "        <td style=\"padding-left: 1em; padding-right: 1em; text-align: center; vertical-align: top\">0</td>\n",
       "        <td style=\"padding-left: 1em; padding-right: 1em; text-align: center; vertical-align: top\">0</td>\n",
       "        <td style=\"padding-left: 1em; padding-right: 1em; text-align: center; vertical-align: top\">0</td>\n",
       "        <td style=\"padding-left: 1em; padding-right: 1em; text-align: center; vertical-align: top\">0</td>\n",
       "        <td style=\"padding-left: 1em; padding-right: 1em; text-align: center; vertical-align: top\">0</td>\n",
       "        <td style=\"padding-left: 1em; padding-right: 1em; text-align: center; vertical-align: top\">0</td>\n",
       "        <td style=\"padding-left: 1em; padding-right: 1em; text-align: center; vertical-align: top\">0</td>\n",
       "    </tr>\n",
       "    <tr>\n",
       "        <td style=\"padding-left: 1em; padding-right: 1em; text-align: center; vertical-align: top\">0</td>\n",
       "        <td style=\"padding-left: 1em; padding-right: 1em; text-align: center; vertical-align: top\">0</td>\n",
       "        <td style=\"padding-left: 1em; padding-right: 1em; text-align: center; vertical-align: top\">0</td>\n",
       "        <td style=\"padding-left: 1em; padding-right: 1em; text-align: center; vertical-align: top\">2</td>\n",
       "        <td style=\"padding-left: 1em; padding-right: 1em; text-align: center; vertical-align: top\">0</td>\n",
       "        <td style=\"padding-left: 1em; padding-right: 1em; text-align: center; vertical-align: top\">0</td>\n",
       "        <td style=\"padding-left: 1em; padding-right: 1em; text-align: center; vertical-align: top\">0</td>\n",
       "        <td style=\"padding-left: 1em; padding-right: 1em; text-align: center; vertical-align: top\">0</td>\n",
       "        <td style=\"padding-left: 1em; padding-right: 1em; text-align: center; vertical-align: top\">0</td>\n",
       "        <td style=\"padding-left: 1em; padding-right: 1em; text-align: center; vertical-align: top\">0</td>\n",
       "    </tr>\n",
       "    <tr>\n",
       "        <td style=\"padding-left: 1em; padding-right: 1em; text-align: center; vertical-align: top\">1</td>\n",
       "        <td style=\"padding-left: 1em; padding-right: 1em; text-align: center; vertical-align: top\">0</td>\n",
       "        <td style=\"padding-left: 1em; padding-right: 1em; text-align: center; vertical-align: top\">0</td>\n",
       "        <td style=\"padding-left: 1em; padding-right: 1em; text-align: center; vertical-align: top\">0</td>\n",
       "        <td style=\"padding-left: 1em; padding-right: 1em; text-align: center; vertical-align: top\">0</td>\n",
       "        <td style=\"padding-left: 1em; padding-right: 1em; text-align: center; vertical-align: top\">0</td>\n",
       "        <td style=\"padding-left: 1em; padding-right: 1em; text-align: center; vertical-align: top\">0</td>\n",
       "        <td style=\"padding-left: 1em; padding-right: 1em; text-align: center; vertical-align: top\">0</td>\n",
       "        <td style=\"padding-left: 1em; padding-right: 1em; text-align: center; vertical-align: top\">0</td>\n",
       "        <td style=\"padding-left: 1em; padding-right: 1em; text-align: center; vertical-align: top\">0</td>\n",
       "    </tr>\n",
       "    <tr>\n",
       "        <td style=\"padding-left: 1em; padding-right: 1em; text-align: center; vertical-align: top\">1</td>\n",
       "        <td style=\"padding-left: 1em; padding-right: 1em; text-align: center; vertical-align: top\">0</td>\n",
       "        <td style=\"padding-left: 1em; padding-right: 1em; text-align: center; vertical-align: top\">0</td>\n",
       "        <td style=\"padding-left: 1em; padding-right: 1em; text-align: center; vertical-align: top\">0</td>\n",
       "        <td style=\"padding-left: 1em; padding-right: 1em; text-align: center; vertical-align: top\">0</td>\n",
       "        <td style=\"padding-left: 1em; padding-right: 1em; text-align: center; vertical-align: top\">0</td>\n",
       "        <td style=\"padding-left: 1em; padding-right: 1em; text-align: center; vertical-align: top\">0</td>\n",
       "        <td style=\"padding-left: 1em; padding-right: 1em; text-align: center; vertical-align: top\">0</td>\n",
       "        <td style=\"padding-left: 1em; padding-right: 1em; text-align: center; vertical-align: top\">0</td>\n",
       "        <td style=\"padding-left: 1em; padding-right: 1em; text-align: center; vertical-align: top\">0</td>\n",
       "    </tr>\n",
       "    <tr>\n",
       "        <td style=\"padding-left: 1em; padding-right: 1em; text-align: center; vertical-align: top\">0</td>\n",
       "        <td style=\"padding-left: 1em; padding-right: 1em; text-align: center; vertical-align: top\">0</td>\n",
       "        <td style=\"padding-left: 1em; padding-right: 1em; text-align: center; vertical-align: top\">0</td>\n",
       "        <td style=\"padding-left: 1em; padding-right: 1em; text-align: center; vertical-align: top\">0</td>\n",
       "        <td style=\"padding-left: 1em; padding-right: 1em; text-align: center; vertical-align: top\">0</td>\n",
       "        <td style=\"padding-left: 1em; padding-right: 1em; text-align: center; vertical-align: top\">0</td>\n",
       "        <td style=\"padding-left: 1em; padding-right: 1em; text-align: center; vertical-align: top\">0</td>\n",
       "        <td style=\"padding-left: 1em; padding-right: 1em; text-align: center; vertical-align: top\">0</td>\n",
       "        <td style=\"padding-left: 1em; padding-right: 1em; text-align: center; vertical-align: top\">0</td>\n",
       "        <td style=\"padding-left: 1em; padding-right: 1em; text-align: center; vertical-align: top\">0</td>\n",
       "    </tr>\n",
       "    <tr>\n",
       "        <td style=\"padding-left: 1em; padding-right: 1em; text-align: center; vertical-align: top\">0</td>\n",
       "        <td style=\"padding-left: 1em; padding-right: 1em; text-align: center; vertical-align: top\">0</td>\n",
       "        <td style=\"padding-left: 1em; padding-right: 1em; text-align: center; vertical-align: top\">0</td>\n",
       "        <td style=\"padding-left: 1em; padding-right: 1em; text-align: center; vertical-align: top\">0</td>\n",
       "        <td style=\"padding-left: 1em; padding-right: 1em; text-align: center; vertical-align: top\">0</td>\n",
       "        <td style=\"padding-left: 1em; padding-right: 1em; text-align: center; vertical-align: top\">0</td>\n",
       "        <td style=\"padding-left: 1em; padding-right: 1em; text-align: center; vertical-align: top\">0</td>\n",
       "        <td style=\"padding-left: 1em; padding-right: 1em; text-align: center; vertical-align: top\">0</td>\n",
       "        <td style=\"padding-left: 1em; padding-right: 1em; text-align: center; vertical-align: top\">0</td>\n",
       "        <td style=\"padding-left: 1em; padding-right: 1em; text-align: center; vertical-align: top\">0</td>\n",
       "    </tr>\n",
       "    <tr>\n",
       "        <td style=\"padding-left: 1em; padding-right: 1em; text-align: center; vertical-align: top\">0</td>\n",
       "        <td style=\"padding-left: 1em; padding-right: 1em; text-align: center; vertical-align: top\">0</td>\n",
       "        <td style=\"padding-left: 1em; padding-right: 1em; text-align: center; vertical-align: top\">0</td>\n",
       "        <td style=\"padding-left: 1em; padding-right: 1em; text-align: center; vertical-align: top\">0</td>\n",
       "        <td style=\"padding-left: 1em; padding-right: 1em; text-align: center; vertical-align: top\">0</td>\n",
       "        <td style=\"padding-left: 1em; padding-right: 1em; text-align: center; vertical-align: top\">0</td>\n",
       "        <td style=\"padding-left: 1em; padding-right: 1em; text-align: center; vertical-align: top\">0</td>\n",
       "        <td style=\"padding-left: 1em; padding-right: 1em; text-align: center; vertical-align: top\">0</td>\n",
       "        <td style=\"padding-left: 1em; padding-right: 1em; text-align: center; vertical-align: top\">0</td>\n",
       "        <td style=\"padding-left: 1em; padding-right: 1em; text-align: center; vertical-align: top\">0</td>\n",
       "    </tr>\n",
       "    <tr>\n",
       "        <td style=\"padding-left: 1em; padding-right: 1em; text-align: center; vertical-align: top\">0</td>\n",
       "        <td style=\"padding-left: 1em; padding-right: 1em; text-align: center; vertical-align: top\">0</td>\n",
       "        <td style=\"padding-left: 1em; padding-right: 1em; text-align: center; vertical-align: top\">0</td>\n",
       "        <td style=\"padding-left: 1em; padding-right: 1em; text-align: center; vertical-align: top\">0</td>\n",
       "        <td style=\"padding-left: 1em; padding-right: 1em; text-align: center; vertical-align: top\">0</td>\n",
       "        <td style=\"padding-left: 1em; padding-right: 1em; text-align: center; vertical-align: top\">0</td>\n",
       "        <td style=\"padding-left: 1em; padding-right: 1em; text-align: center; vertical-align: top\">0</td>\n",
       "        <td style=\"padding-left: 1em; padding-right: 1em; text-align: center; vertical-align: top\">0</td>\n",
       "        <td style=\"padding-left: 1em; padding-right: 1em; text-align: center; vertical-align: top\">0</td>\n",
       "        <td style=\"padding-left: 1em; padding-right: 1em; text-align: center; vertical-align: top\">0</td>\n",
       "    </tr>\n",
       "    <tr>\n",
       "        <td style=\"padding-left: 1em; padding-right: 1em; text-align: center; vertical-align: top\">0</td>\n",
       "        <td style=\"padding-left: 1em; padding-right: 1em; text-align: center; vertical-align: top\">0</td>\n",
       "        <td style=\"padding-left: 1em; padding-right: 1em; text-align: center; vertical-align: top\">0</td>\n",
       "        <td style=\"padding-left: 1em; padding-right: 1em; text-align: center; vertical-align: top\">2</td>\n",
       "        <td style=\"padding-left: 1em; padding-right: 1em; text-align: center; vertical-align: top\">0</td>\n",
       "        <td style=\"padding-left: 1em; padding-right: 1em; text-align: center; vertical-align: top\">0</td>\n",
       "        <td style=\"padding-left: 1em; padding-right: 1em; text-align: center; vertical-align: top\">0</td>\n",
       "        <td style=\"padding-left: 1em; padding-right: 1em; text-align: center; vertical-align: top\">0</td>\n",
       "        <td style=\"padding-left: 1em; padding-right: 1em; text-align: center; vertical-align: top\">0</td>\n",
       "        <td style=\"padding-left: 1em; padding-right: 1em; text-align: center; vertical-align: top\">0</td>\n",
       "    </tr>\n",
       "</table>\n",
       "[100 rows x 16 columns]<br/>Note: Only the head of the SFrame is printed.<br/>You can use print_rows(num_rows=m, num_columns=n) to print more rows and columns.\n",
       "</div>"
      ],
      "text/plain": [
       "Columns:\n",
       "\tname\tstr\n",
       "\treview\tstr\n",
       "\trating\tfloat\n",
       "\tword_count\tdict\n",
       "\tsentiment\tint\n",
       "\tawesome\tint\n",
       "\tgreat\tint\n",
       "\tfantastic\tint\n",
       "\tamazing\tint\n",
       "\tlove\tint\n",
       "\thorrible\tint\n",
       "\tbad\tint\n",
       "\tterrible\tint\n",
       "\tawful\tint\n",
       "\twow\tint\n",
       "\thate\tint\n",
       "\n",
       "Rows: 100\n",
       "\n",
       "Data:\n",
       "+-------------------------------+-------------------------------+--------+\n",
       "|              name             |             review            | rating |\n",
       "+-------------------------------+-------------------------------+--------+\n",
       "|     Planetwise Wipe Pouch     | it came early and was not ... |  5.0   |\n",
       "| Annas Dream Full Quilt wit... | Very soft and comfortable ... |  5.0   |\n",
       "| Stop Pacifier Sucking with... | This is a product well wor... |  5.0   |\n",
       "| Stop Pacifier Sucking with... | All of my kids have cried ... |  5.0   |\n",
       "| Stop Pacifier Sucking with... | When the Binky Fairy came ... |  5.0   |\n",
       "| A Tale of Baby's Days with... | Lovely book, it's bound ti... |  4.0   |\n",
       "| Baby Tracker&reg; - Daily ... | Perfect for new parents. W... |  5.0   |\n",
       "| Baby Tracker&reg; - Daily ... | A friend of mine pinned th... |  5.0   |\n",
       "| Baby Tracker&reg; - Daily ... | This has been an easy way ... |  4.0   |\n",
       "| Baby Tracker&reg; - Daily ... | I love this journal and ou... |  4.0   |\n",
       "+-------------------------------+-------------------------------+--------+\n",
       "+-------------------------------+-----------+---------+-------+-----------+---------+\n",
       "|           word_count          | sentiment | awesome | great | fantastic | amazing |\n",
       "+-------------------------------+-----------+---------+-------+-----------+---------+\n",
       "| {'and': 3, 'love': 1, 'it'... |     1     |    0    |   0   |     0     |    0    |\n",
       "| {'and': 2, 'quilt': 1, 'it... |     1     |    0    |   0   |     0     |    0    |\n",
       "| {'ingenious': 1, 'and': 3,... |     1     |    0    |   0   |     0     |    0    |\n",
       "| {'and': 2, 'parents!!': 1,... |     1     |    0    |   1   |     0     |    0    |\n",
       "| {'and': 2, 'this': 2, 'her... |     1     |    0    |   1   |     0     |    0    |\n",
       "| {'shop': 1, 'noble': 1, 'i... |     1     |    0    |   0   |     0     |    0    |\n",
       "| {'and': 2, 'all': 1, 'righ... |     1     |    0    |   0   |     0     |    0    |\n",
       "| {'and': 1, 'help': 1, 'giv... |     1     |    0    |   0   |     0     |    0    |\n",
       "| {'journal.': 1, 'nanny': 1... |     1     |    0    |   0   |     0     |    0    |\n",
       "| {'all': 1, 'forget': 1, 'j... |     1     |    0    |   0   |     0     |    0    |\n",
       "+-------------------------------+-----------+---------+-------+-----------+---------+\n",
       "+------+----------+-----+----------+-------+-----+------+\n",
       "| love | horrible | bad | terrible | awful | wow | hate |\n",
       "+------+----------+-----+----------+-------+-----+------+\n",
       "|  1   |    0     |  0  |    0     |   0   |  0  |  0   |\n",
       "|  0   |    0     |  0  |    0     |   0   |  0  |  0   |\n",
       "|  2   |    0     |  0  |    0     |   0   |  0  |  0   |\n",
       "|  0   |    0     |  0  |    0     |   0   |  0  |  0   |\n",
       "|  0   |    0     |  0  |    0     |   0   |  0  |  0   |\n",
       "|  0   |    0     |  0  |    0     |   0   |  0  |  0   |\n",
       "|  0   |    0     |  0  |    0     |   0   |  0  |  0   |\n",
       "|  0   |    0     |  0  |    0     |   0   |  0  |  0   |\n",
       "|  0   |    0     |  0  |    0     |   0   |  0  |  0   |\n",
       "|  2   |    0     |  0  |    0     |   0   |  0  |  0   |\n",
       "+------+----------+-----+----------+-------+-----+------+\n",
       "[100 rows x 16 columns]\n",
       "Note: Only the head of the SFrame is printed.\n",
       "You can use print_rows(num_rows=m, num_columns=n) to print more rows and columns."
      ]
     },
     "execution_count": 38,
     "metadata": {},
     "output_type": "execute_result"
    }
   ],
   "source": [
    "products.head(100)"
   ]
  },
  {
   "cell_type": "code",
   "execution_count": 39,
   "metadata": {
    "collapsed": false
   },
   "outputs": [
    {
     "ename": "ToolkitError",
     "evalue": "The following columns were expected but are missing: ['great', 'love', 'hate', 'awesome', 'fantastic', 'terrible', 'bad', 'horrible', 'awful', 'amazing', 'wow']",
     "output_type": "error",
     "traceback": [
      "\u001b[1;31m---------------------------------------------------------------------------\u001b[0m",
      "\u001b[1;31mToolkitError\u001b[0m                              Traceback (most recent call last)",
      "\u001b[1;32m<ipython-input-39-835f91e5220b>\u001b[0m in \u001b[0;36m<module>\u001b[1;34m()\u001b[0m\n\u001b[1;32m----> 1\u001b[1;33m \u001b[0msentiment_model_se\u001b[0m \u001b[1;33m=\u001b[0m \u001b[0mgraphlab\u001b[0m\u001b[1;33m.\u001b[0m\u001b[0mlogistic_classifier\u001b[0m\u001b[1;33m.\u001b[0m\u001b[0mcreate\u001b[0m\u001b[1;33m(\u001b[0m\u001b[0mtrain_data\u001b[0m\u001b[1;33m,\u001b[0m\u001b[0mtarget\u001b[0m\u001b[1;33m=\u001b[0m\u001b[1;34m'sentiment'\u001b[0m\u001b[1;33m,\u001b[0m\u001b[0mfeatures\u001b[0m\u001b[1;33m=\u001b[0m\u001b[0mselected_words\u001b[0m\u001b[1;33m,\u001b[0m\u001b[0mvalidation_set\u001b[0m\u001b[1;33m=\u001b[0m \u001b[0mtest_data\u001b[0m\u001b[1;33m)\u001b[0m\u001b[1;33m\u001b[0m\u001b[0m\n\u001b[0m",
      "\u001b[1;32m/opt/anaconda/anaconda2/lib/python2.7/site-packages/graphlab/toolkits/classifier/logistic_classifier.pyc\u001b[0m in \u001b[0;36mcreate\u001b[1;34m(dataset, target, features, l2_penalty, l1_penalty, solver, feature_rescaling, convergence_threshold, step_size, lbfgs_memory_level, max_iterations, class_weights, validation_set, verbose)\u001b[0m\n\u001b[0;32m    306\u001b[0m                         \u001b[0mlbfgs_memory_level\u001b[0m \u001b[1;33m=\u001b[0m \u001b[0mlbfgs_memory_level\u001b[0m\u001b[1;33m,\u001b[0m\u001b[1;33m\u001b[0m\u001b[0m\n\u001b[0;32m    307\u001b[0m                         \u001b[0mmax_iterations\u001b[0m \u001b[1;33m=\u001b[0m \u001b[0mmax_iterations\u001b[0m\u001b[1;33m,\u001b[0m\u001b[1;33m\u001b[0m\u001b[0m\n\u001b[1;32m--> 308\u001b[1;33m                         class_weights = class_weights)\n\u001b[0m\u001b[0;32m    309\u001b[0m \u001b[1;33m\u001b[0m\u001b[0m\n\u001b[0;32m    310\u001b[0m     \u001b[1;32mreturn\u001b[0m \u001b[0mLogisticClassifier\u001b[0m\u001b[1;33m(\u001b[0m\u001b[0mmodel\u001b[0m\u001b[1;33m.\u001b[0m\u001b[0m__proxy__\u001b[0m\u001b[1;33m)\u001b[0m\u001b[1;33m\u001b[0m\u001b[0m\n",
      "\u001b[1;32m/opt/anaconda/anaconda2/lib/python2.7/site-packages/graphlab/toolkits/_supervised_learning.pyc\u001b[0m in \u001b[0;36mcreate\u001b[1;34m(dataset, target, model_name, features, validation_set, verbose, distributed, **kwargs)\u001b[0m\n\u001b[0;32m    408\u001b[0m     \u001b[1;32mif\u001b[0m \u001b[1;32mnot\u001b[0m \u001b[0mall\u001b[0m\u001b[1;33m(\u001b[0m\u001b[1;33m[\u001b[0m\u001b[0misinstance\u001b[0m\u001b[1;33m(\u001b[0m\u001b[0mx\u001b[0m\u001b[1;33m,\u001b[0m \u001b[0mstr\u001b[0m\u001b[1;33m)\u001b[0m \u001b[1;32mfor\u001b[0m \u001b[0mx\u001b[0m \u001b[1;32min\u001b[0m \u001b[0mfeatures\u001b[0m\u001b[1;33m]\u001b[0m\u001b[1;33m)\u001b[0m\u001b[1;33m:\u001b[0m\u001b[1;33m\u001b[0m\u001b[0m\n\u001b[0;32m    409\u001b[0m         \u001b[1;32mraise\u001b[0m \u001b[0mTypeError\u001b[0m\u001b[1;33m(\u001b[0m\u001b[1;34m\"Invalid feature %s: Feature names must be of type str\"\u001b[0m \u001b[1;33m%\u001b[0m \u001b[0mx\u001b[0m\u001b[1;33m)\u001b[0m\u001b[1;33m\u001b[0m\u001b[0m\n\u001b[1;32m--> 410\u001b[1;33m     \u001b[0mfeatures_sframe\u001b[0m \u001b[1;33m=\u001b[0m \u001b[0m_toolkits_select_columns\u001b[0m\u001b[1;33m(\u001b[0m\u001b[0mdataset\u001b[0m\u001b[1;33m,\u001b[0m \u001b[0mfeatures\u001b[0m\u001b[1;33m)\u001b[0m\u001b[1;33m\u001b[0m\u001b[0m\n\u001b[0m\u001b[0;32m    411\u001b[0m \u001b[1;33m\u001b[0m\u001b[0m\n\u001b[0;32m    412\u001b[0m \u001b[1;33m\u001b[0m\u001b[0m\n",
      "\u001b[1;32m/opt/anaconda/anaconda2/lib/python2.7/site-packages/graphlab/toolkits/_internal_utils.pyc\u001b[0m in \u001b[0;36m_toolkits_select_columns\u001b[1;34m(dataset, columns)\u001b[0m\n\u001b[0;32m    352\u001b[0m         \u001b[0mmissing_features\u001b[0m \u001b[1;33m=\u001b[0m \u001b[0mlist\u001b[0m\u001b[1;33m(\u001b[0m\u001b[0mset\u001b[0m\u001b[1;33m(\u001b[0m\u001b[0mcolumns\u001b[0m\u001b[1;33m)\u001b[0m\u001b[1;33m.\u001b[0m\u001b[0mdifference\u001b[0m\u001b[1;33m(\u001b[0m\u001b[0mset\u001b[0m\u001b[1;33m(\u001b[0m\u001b[0mdataset\u001b[0m\u001b[1;33m.\u001b[0m\u001b[0mcolumn_names\u001b[0m\u001b[1;33m(\u001b[0m\u001b[1;33m)\u001b[0m\u001b[1;33m)\u001b[0m\u001b[1;33m)\u001b[0m\u001b[1;33m)\u001b[0m\u001b[1;33m\u001b[0m\u001b[0m\n\u001b[0;32m    353\u001b[0m         raise ToolkitError(\"The following columns were expected but are \" +\n\u001b[1;32m--> 354\u001b[1;33m                            \"missing: {}\".format(missing_features))\n\u001b[0m\u001b[0;32m    355\u001b[0m \u001b[1;33m\u001b[0m\u001b[0m\n\u001b[0;32m    356\u001b[0m def _raise_error_if_column_exists(dataset, column_name = 'dataset',\n",
      "\u001b[1;31mToolkitError\u001b[0m: The following columns were expected but are missing: ['great', 'love', 'hate', 'awesome', 'fantastic', 'terrible', 'bad', 'horrible', 'awful', 'amazing', 'wow']"
     ]
    }
   ],
   "source": [
    "sentiment_model_se = graphlab.logistic_classifier.create(train_data,target='sentiment',features=selected_words,validation_set= test_data)\n"
   ]
  },
  {
   "cell_type": "code",
   "execution_count": 40,
   "metadata": {
    "collapsed": true
   },
   "outputs": [],
   "source": [
    "train_data,test_data = products.random_split(.8, seed=0)"
   ]
  },
  {
   "cell_type": "code",
   "execution_count": 41,
   "metadata": {
    "collapsed": false
   },
   "outputs": [
    {
     "data": {
      "text/html": [
       "<pre>Logistic regression:</pre>"
      ],
      "text/plain": [
       "Logistic regression:"
      ]
     },
     "metadata": {},
     "output_type": "display_data"
    },
    {
     "data": {
      "text/html": [
       "<pre>--------------------------------------------------------</pre>"
      ],
      "text/plain": [
       "--------------------------------------------------------"
      ]
     },
     "metadata": {},
     "output_type": "display_data"
    },
    {
     "data": {
      "text/html": [
       "<pre>Number of examples          : 133448</pre>"
      ],
      "text/plain": [
       "Number of examples          : 133448"
      ]
     },
     "metadata": {},
     "output_type": "display_data"
    },
    {
     "data": {
      "text/html": [
       "<pre>Number of classes           : 2</pre>"
      ],
      "text/plain": [
       "Number of classes           : 2"
      ]
     },
     "metadata": {},
     "output_type": "display_data"
    },
    {
     "data": {
      "text/html": [
       "<pre>Number of feature columns   : 11</pre>"
      ],
      "text/plain": [
       "Number of feature columns   : 11"
      ]
     },
     "metadata": {},
     "output_type": "display_data"
    },
    {
     "data": {
      "text/html": [
       "<pre>Number of unpacked features : 11</pre>"
      ],
      "text/plain": [
       "Number of unpacked features : 11"
      ]
     },
     "metadata": {},
     "output_type": "display_data"
    },
    {
     "data": {
      "text/html": [
       "<pre>Number of coefficients    : 12</pre>"
      ],
      "text/plain": [
       "Number of coefficients    : 12"
      ]
     },
     "metadata": {},
     "output_type": "display_data"
    },
    {
     "data": {
      "text/html": [
       "<pre>Starting Newton Method</pre>"
      ],
      "text/plain": [
       "Starting Newton Method"
      ]
     },
     "metadata": {},
     "output_type": "display_data"
    },
    {
     "data": {
      "text/html": [
       "<pre>--------------------------------------------------------</pre>"
      ],
      "text/plain": [
       "--------------------------------------------------------"
      ]
     },
     "metadata": {},
     "output_type": "display_data"
    },
    {
     "data": {
      "text/html": [
       "<pre>+-----------+----------+--------------+-------------------+---------------------+</pre>"
      ],
      "text/plain": [
       "+-----------+----------+--------------+-------------------+---------------------+"
      ]
     },
     "metadata": {},
     "output_type": "display_data"
    },
    {
     "data": {
      "text/html": [
       "<pre>| Iteration | Passes   | Elapsed Time | Training-accuracy | Validation-accuracy |</pre>"
      ],
      "text/plain": [
       "| Iteration | Passes   | Elapsed Time | Training-accuracy | Validation-accuracy |"
      ]
     },
     "metadata": {},
     "output_type": "display_data"
    },
    {
     "data": {
      "text/html": [
       "<pre>+-----------+----------+--------------+-------------------+---------------------+</pre>"
      ],
      "text/plain": [
       "+-----------+----------+--------------+-------------------+---------------------+"
      ]
     },
     "metadata": {},
     "output_type": "display_data"
    },
    {
     "data": {
      "text/html": [
       "<pre>| 1         | 2        | 0.416809     | 0.844299          | 0.842842            |</pre>"
      ],
      "text/plain": [
       "| 1         | 2        | 0.416809     | 0.844299          | 0.842842            |"
      ]
     },
     "metadata": {},
     "output_type": "display_data"
    },
    {
     "data": {
      "text/html": [
       "<pre>| 2         | 3        | 0.689802     | 0.844186          | 0.842842            |</pre>"
      ],
      "text/plain": [
       "| 2         | 3        | 0.689802     | 0.844186          | 0.842842            |"
      ]
     },
     "metadata": {},
     "output_type": "display_data"
    },
    {
     "data": {
      "text/html": [
       "<pre>| 3         | 4        | 0.950520     | 0.844276          | 0.843142            |</pre>"
      ],
      "text/plain": [
       "| 3         | 4        | 0.950520     | 0.844276          | 0.843142            |"
      ]
     },
     "metadata": {},
     "output_type": "display_data"
    },
    {
     "data": {
      "text/html": [
       "<pre>| 4         | 5        | 1.211172     | 0.844269          | 0.843142            |</pre>"
      ],
      "text/plain": [
       "| 4         | 5        | 1.211172     | 0.844269          | 0.843142            |"
      ]
     },
     "metadata": {},
     "output_type": "display_data"
    },
    {
     "data": {
      "text/html": [
       "<pre>| 5         | 6        | 1.471082     | 0.844269          | 0.843142            |</pre>"
      ],
      "text/plain": [
       "| 5         | 6        | 1.471082     | 0.844269          | 0.843142            |"
      ]
     },
     "metadata": {},
     "output_type": "display_data"
    },
    {
     "data": {
      "text/html": [
       "<pre>| 6         | 7        | 1.728617     | 0.844269          | 0.843142            |</pre>"
      ],
      "text/plain": [
       "| 6         | 7        | 1.728617     | 0.844269          | 0.843142            |"
      ]
     },
     "metadata": {},
     "output_type": "display_data"
    },
    {
     "data": {
      "text/html": [
       "<pre>+-----------+----------+--------------+-------------------+---------------------+</pre>"
      ],
      "text/plain": [
       "+-----------+----------+--------------+-------------------+---------------------+"
      ]
     },
     "metadata": {},
     "output_type": "display_data"
    },
    {
     "data": {
      "text/html": [
       "<pre>SUCCESS: Optimal solution found.</pre>"
      ],
      "text/plain": [
       "SUCCESS: Optimal solution found."
      ]
     },
     "metadata": {},
     "output_type": "display_data"
    },
    {
     "data": {
      "text/html": [
       "<pre></pre>"
      ],
      "text/plain": []
     },
     "metadata": {},
     "output_type": "display_data"
    }
   ],
   "source": [
    "sentiment_model_se = graphlab.logistic_classifier.create(train_data,target='sentiment',features=selected_words,validation_set= test_data)\n"
   ]
  },
  {
   "cell_type": "code",
   "execution_count": 42,
   "metadata": {
    "collapsed": false
   },
   "outputs": [
    {
     "data": {
      "text/plain": [
       "{'roc_curve': Columns:\n",
       " \tthreshold\tfloat\n",
       " \tfpr\tfloat\n",
       " \ttpr\tfloat\n",
       " \tp\tint\n",
       " \tn\tint\n",
       " \n",
       " Rows: 100001\n",
       " \n",
       " Data:\n",
       " +-----------+-----+-----+-------+------+\n",
       " | threshold | fpr | tpr |   p   |  n   |\n",
       " +-----------+-----+-----+-------+------+\n",
       " |    0.0    | 1.0 | 1.0 | 27976 | 5328 |\n",
       " |   1e-05   | 1.0 | 1.0 | 27976 | 5328 |\n",
       " |   2e-05   | 1.0 | 1.0 | 27976 | 5328 |\n",
       " |   3e-05   | 1.0 | 1.0 | 27976 | 5328 |\n",
       " |   4e-05   | 1.0 | 1.0 | 27976 | 5328 |\n",
       " |   5e-05   | 1.0 | 1.0 | 27976 | 5328 |\n",
       " |   6e-05   | 1.0 | 1.0 | 27976 | 5328 |\n",
       " |   7e-05   | 1.0 | 1.0 | 27976 | 5328 |\n",
       " |   8e-05   | 1.0 | 1.0 | 27976 | 5328 |\n",
       " |   9e-05   | 1.0 | 1.0 | 27976 | 5328 |\n",
       " +-----------+-----+-----+-------+------+\n",
       " [100001 rows x 5 columns]\n",
       " Note: Only the head of the SFrame is printed.\n",
       " You can use print_rows(num_rows=m, num_columns=n) to print more rows and columns.}"
      ]
     },
     "execution_count": 42,
     "metadata": {},
     "output_type": "execute_result"
    }
   ],
   "source": [
    "sentiment_model_se.evaluate(test_data,metric='roc_curve')"
   ]
  },
  {
   "cell_type": "code",
   "execution_count": 43,
   "metadata": {
    "collapsed": false
   },
   "outputs": [
    {
     "data": {
      "text/html": [
       "<div style=\"max-height:1000px;max-width:1500px;overflow:auto;\"><table frame=\"box\" rules=\"cols\">\n",
       "    <tr>\n",
       "        <th style=\"padding-left: 1em; padding-right: 1em; text-align: center\">name</th>\n",
       "        <th style=\"padding-left: 1em; padding-right: 1em; text-align: center\">index</th>\n",
       "        <th style=\"padding-left: 1em; padding-right: 1em; text-align: center\">class</th>\n",
       "        <th style=\"padding-left: 1em; padding-right: 1em; text-align: center\">value</th>\n",
       "        <th style=\"padding-left: 1em; padding-right: 1em; text-align: center\">stderr</th>\n",
       "    </tr>\n",
       "    <tr>\n",
       "        <td style=\"padding-left: 1em; padding-right: 1em; text-align: center; vertical-align: top\">(intercept)</td>\n",
       "        <td style=\"padding-left: 1em; padding-right: 1em; text-align: center; vertical-align: top\">None</td>\n",
       "        <td style=\"padding-left: 1em; padding-right: 1em; text-align: center; vertical-align: top\">1</td>\n",
       "        <td style=\"padding-left: 1em; padding-right: 1em; text-align: center; vertical-align: top\">1.36728315229</td>\n",
       "        <td style=\"padding-left: 1em; padding-right: 1em; text-align: center; vertical-align: top\">0.00861805467825</td>\n",
       "    </tr>\n",
       "    <tr>\n",
       "        <td style=\"padding-left: 1em; padding-right: 1em; text-align: center; vertical-align: top\">awesome</td>\n",
       "        <td style=\"padding-left: 1em; padding-right: 1em; text-align: center; vertical-align: top\">None</td>\n",
       "        <td style=\"padding-left: 1em; padding-right: 1em; text-align: center; vertical-align: top\">1</td>\n",
       "        <td style=\"padding-left: 1em; padding-right: 1em; text-align: center; vertical-align: top\">1.05800888878</td>\n",
       "        <td style=\"padding-left: 1em; padding-right: 1em; text-align: center; vertical-align: top\">0.110865296265</td>\n",
       "    </tr>\n",
       "    <tr>\n",
       "        <td style=\"padding-left: 1em; padding-right: 1em; text-align: center; vertical-align: top\">great</td>\n",
       "        <td style=\"padding-left: 1em; padding-right: 1em; text-align: center; vertical-align: top\">None</td>\n",
       "        <td style=\"padding-left: 1em; padding-right: 1em; text-align: center; vertical-align: top\">1</td>\n",
       "        <td style=\"padding-left: 1em; padding-right: 1em; text-align: center; vertical-align: top\">0.883937894898</td>\n",
       "        <td style=\"padding-left: 1em; padding-right: 1em; text-align: center; vertical-align: top\">0.0217379527921</td>\n",
       "    </tr>\n",
       "    <tr>\n",
       "        <td style=\"padding-left: 1em; padding-right: 1em; text-align: center; vertical-align: top\">fantastic</td>\n",
       "        <td style=\"padding-left: 1em; padding-right: 1em; text-align: center; vertical-align: top\">None</td>\n",
       "        <td style=\"padding-left: 1em; padding-right: 1em; text-align: center; vertical-align: top\">1</td>\n",
       "        <td style=\"padding-left: 1em; padding-right: 1em; text-align: center; vertical-align: top\">0.891303090304</td>\n",
       "        <td style=\"padding-left: 1em; padding-right: 1em; text-align: center; vertical-align: top\">0.154532343591</td>\n",
       "    </tr>\n",
       "    <tr>\n",
       "        <td style=\"padding-left: 1em; padding-right: 1em; text-align: center; vertical-align: top\">amazing</td>\n",
       "        <td style=\"padding-left: 1em; padding-right: 1em; text-align: center; vertical-align: top\">None</td>\n",
       "        <td style=\"padding-left: 1em; padding-right: 1em; text-align: center; vertical-align: top\">1</td>\n",
       "        <td style=\"padding-left: 1em; padding-right: 1em; text-align: center; vertical-align: top\">0.892802422508</td>\n",
       "        <td style=\"padding-left: 1em; padding-right: 1em; text-align: center; vertical-align: top\">0.127989503231</td>\n",
       "    </tr>\n",
       "    <tr>\n",
       "        <td style=\"padding-left: 1em; padding-right: 1em; text-align: center; vertical-align: top\">love</td>\n",
       "        <td style=\"padding-left: 1em; padding-right: 1em; text-align: center; vertical-align: top\">None</td>\n",
       "        <td style=\"padding-left: 1em; padding-right: 1em; text-align: center; vertical-align: top\">1</td>\n",
       "        <td style=\"padding-left: 1em; padding-right: 1em; text-align: center; vertical-align: top\">1.39989834302</td>\n",
       "        <td style=\"padding-left: 1em; padding-right: 1em; text-align: center; vertical-align: top\">0.0287147460124</td>\n",
       "    </tr>\n",
       "    <tr>\n",
       "        <td style=\"padding-left: 1em; padding-right: 1em; text-align: center; vertical-align: top\">horrible</td>\n",
       "        <td style=\"padding-left: 1em; padding-right: 1em; text-align: center; vertical-align: top\">None</td>\n",
       "        <td style=\"padding-left: 1em; padding-right: 1em; text-align: center; vertical-align: top\">1</td>\n",
       "        <td style=\"padding-left: 1em; padding-right: 1em; text-align: center; vertical-align: top\">-1.99651800559</td>\n",
       "        <td style=\"padding-left: 1em; padding-right: 1em; text-align: center; vertical-align: top\">0.0973584169028</td>\n",
       "    </tr>\n",
       "    <tr>\n",
       "        <td style=\"padding-left: 1em; padding-right: 1em; text-align: center; vertical-align: top\">bad</td>\n",
       "        <td style=\"padding-left: 1em; padding-right: 1em; text-align: center; vertical-align: top\">None</td>\n",
       "        <td style=\"padding-left: 1em; padding-right: 1em; text-align: center; vertical-align: top\">1</td>\n",
       "        <td style=\"padding-left: 1em; padding-right: 1em; text-align: center; vertical-align: top\">-0.985827369929</td>\n",
       "        <td style=\"padding-left: 1em; padding-right: 1em; text-align: center; vertical-align: top\">0.0433603009142</td>\n",
       "    </tr>\n",
       "    <tr>\n",
       "        <td style=\"padding-left: 1em; padding-right: 1em; text-align: center; vertical-align: top\">terrible</td>\n",
       "        <td style=\"padding-left: 1em; padding-right: 1em; text-align: center; vertical-align: top\">None</td>\n",
       "        <td style=\"padding-left: 1em; padding-right: 1em; text-align: center; vertical-align: top\">1</td>\n",
       "        <td style=\"padding-left: 1em; padding-right: 1em; text-align: center; vertical-align: top\">-2.09049998487</td>\n",
       "        <td style=\"padding-left: 1em; padding-right: 1em; text-align: center; vertical-align: top\">0.0967241912229</td>\n",
       "    </tr>\n",
       "    <tr>\n",
       "        <td style=\"padding-left: 1em; padding-right: 1em; text-align: center; vertical-align: top\">awful</td>\n",
       "        <td style=\"padding-left: 1em; padding-right: 1em; text-align: center; vertical-align: top\">None</td>\n",
       "        <td style=\"padding-left: 1em; padding-right: 1em; text-align: center; vertical-align: top\">1</td>\n",
       "        <td style=\"padding-left: 1em; padding-right: 1em; text-align: center; vertical-align: top\">-1.76469955631</td>\n",
       "        <td style=\"padding-left: 1em; padding-right: 1em; text-align: center; vertical-align: top\">0.134679803365</td>\n",
       "    </tr>\n",
       "</table>\n",
       "[12 rows x 5 columns]<br/>Note: Only the head of the SFrame is printed.<br/>You can use print_rows(num_rows=m, num_columns=n) to print more rows and columns.\n",
       "</div>"
      ],
      "text/plain": [
       "Columns:\n",
       "\tname\tstr\n",
       "\tindex\tstr\n",
       "\tclass\tint\n",
       "\tvalue\tfloat\n",
       "\tstderr\tfloat\n",
       "\n",
       "Rows: 12\n",
       "\n",
       "Data:\n",
       "+-------------+-------+-------+-----------------+------------------+\n",
       "|     name    | index | class |      value      |      stderr      |\n",
       "+-------------+-------+-------+-----------------+------------------+\n",
       "| (intercept) |  None |   1   |  1.36728315229  | 0.00861805467825 |\n",
       "|   awesome   |  None |   1   |  1.05800888878  |  0.110865296265  |\n",
       "|    great    |  None |   1   |  0.883937894898 | 0.0217379527921  |\n",
       "|  fantastic  |  None |   1   |  0.891303090304 |  0.154532343591  |\n",
       "|   amazing   |  None |   1   |  0.892802422508 |  0.127989503231  |\n",
       "|     love    |  None |   1   |  1.39989834302  | 0.0287147460124  |\n",
       "|   horrible  |  None |   1   |  -1.99651800559 | 0.0973584169028  |\n",
       "|     bad     |  None |   1   | -0.985827369929 | 0.0433603009142  |\n",
       "|   terrible  |  None |   1   |  -2.09049998487 | 0.0967241912229  |\n",
       "|    awful    |  None |   1   |  -1.76469955631 |  0.134679803365  |\n",
       "+-------------+-------+-------+-----------------+------------------+\n",
       "[12 rows x 5 columns]\n",
       "Note: Only the head of the SFrame is printed.\n",
       "You can use print_rows(num_rows=m, num_columns=n) to print more rows and columns."
      ]
     },
     "execution_count": 43,
     "metadata": {},
     "output_type": "execute_result"
    }
   ],
   "source": [
    "sentiment_model_se['coefficients']"
   ]
  },
  {
   "cell_type": "code",
   "execution_count": 44,
   "metadata": {
    "collapsed": false
   },
   "outputs": [
    {
     "data": {
      "text/plain": [
       "{'accuracy': 0.8431419649291376,\n",
       " 'auc': 0.6648096413721418,\n",
       " 'confusion_matrix': Columns:\n",
       " \ttarget_label\tint\n",
       " \tpredicted_label\tint\n",
       " \tcount\tint\n",
       " \n",
       " Rows: 4\n",
       " \n",
       " Data:\n",
       " +--------------+-----------------+-------+\n",
       " | target_label | predicted_label | count |\n",
       " +--------------+-----------------+-------+\n",
       " |      0       |        0        |  234  |\n",
       " |      0       |        1        |  5094 |\n",
       " |      1       |        1        | 27846 |\n",
       " |      1       |        0        |  130  |\n",
       " +--------------+-----------------+-------+\n",
       " [4 rows x 3 columns],\n",
       " 'f1_score': 0.914242563530107,\n",
       " 'log_loss': 0.40547471103673566,\n",
       " 'precision': 0.8453551912568306,\n",
       " 'recall': 0.9953531598513011,\n",
       " 'roc_curve': Columns:\n",
       " \tthreshold\tfloat\n",
       " \tfpr\tfloat\n",
       " \ttpr\tfloat\n",
       " \tp\tint\n",
       " \tn\tint\n",
       " \n",
       " Rows: 100001\n",
       " \n",
       " Data:\n",
       " +-----------+-----+-----+-------+------+\n",
       " | threshold | fpr | tpr |   p   |  n   |\n",
       " +-----------+-----+-----+-------+------+\n",
       " |    0.0    | 1.0 | 1.0 | 27976 | 5328 |\n",
       " |   1e-05   | 1.0 | 1.0 | 27976 | 5328 |\n",
       " |   2e-05   | 1.0 | 1.0 | 27976 | 5328 |\n",
       " |   3e-05   | 1.0 | 1.0 | 27976 | 5328 |\n",
       " |   4e-05   | 1.0 | 1.0 | 27976 | 5328 |\n",
       " |   5e-05   | 1.0 | 1.0 | 27976 | 5328 |\n",
       " |   6e-05   | 1.0 | 1.0 | 27976 | 5328 |\n",
       " |   7e-05   | 1.0 | 1.0 | 27976 | 5328 |\n",
       " |   8e-05   | 1.0 | 1.0 | 27976 | 5328 |\n",
       " |   9e-05   | 1.0 | 1.0 | 27976 | 5328 |\n",
       " +-----------+-----+-----+-------+------+\n",
       " [100001 rows x 5 columns]\n",
       " Note: Only the head of the SFrame is printed.\n",
       " You can use print_rows(num_rows=m, num_columns=n) to print more rows and columns.}"
      ]
     },
     "execution_count": 44,
     "metadata": {},
     "output_type": "execute_result"
    }
   ],
   "source": [
    "sentiment_model_se.evaluate(test_data)"
   ]
  },
  {
   "cell_type": "code",
   "execution_count": 45,
   "metadata": {
    "collapsed": true
   },
   "outputs": [],
   "source": [
    "diaper_champ_reviews = products[products['name'] == 'Baby Trend Diaper Champ']"
   ]
  },
  {
   "cell_type": "code",
   "execution_count": 46,
   "metadata": {
    "collapsed": true
   },
   "outputs": [],
   "source": [
    "diaper_champ_reviews['predict_sentiment'] = sentiment_model.predict(diaper_champ_reviews,output_type=\"probability\")"
   ]
  },
  {
   "cell_type": "code",
   "execution_count": 47,
   "metadata": {
    "collapsed": false
   },
   "outputs": [
    {
     "ename": "TypeError",
     "evalue": "sort() got multiple values for keyword argument 'ascending'",
     "output_type": "error",
     "traceback": [
      "\u001b[1;31m---------------------------------------------------------------------------\u001b[0m",
      "\u001b[1;31mTypeError\u001b[0m                                 Traceback (most recent call last)",
      "\u001b[1;32m<ipython-input-47-2e7d8b5c306f>\u001b[0m in \u001b[0;36m<module>\u001b[1;34m()\u001b[0m\n\u001b[1;32m----> 1\u001b[1;33m \u001b[0mdiaper_champ_reviews\u001b[0m\u001b[1;33m[\u001b[0m\u001b[1;34m'predict_sentiment'\u001b[0m\u001b[1;33m]\u001b[0m\u001b[1;33m.\u001b[0m\u001b[0msort\u001b[0m\u001b[1;33m(\u001b[0m\u001b[1;34m'predict_sentiment'\u001b[0m\u001b[1;33m,\u001b[0m\u001b[0mascending\u001b[0m\u001b[1;33m=\u001b[0m\u001b[0mFalse\u001b[0m\u001b[1;33m)\u001b[0m\u001b[1;33m\u001b[0m\u001b[0m\n\u001b[0m",
      "\u001b[1;31mTypeError\u001b[0m: sort() got multiple values for keyword argument 'ascending'"
     ]
    }
   ],
   "source": [
    "diaper_champ_reviews['predict_sentiment'].sort('predict_sentiment',ascending=False)"
   ]
  },
  {
   "cell_type": "code",
   "execution_count": 48,
   "metadata": {
    "collapsed": false
   },
   "outputs": [
    {
     "ename": "TypeError",
     "evalue": "sort() got multiple values for keyword argument 'ascending'",
     "output_type": "error",
     "traceback": [
      "\u001b[1;31m---------------------------------------------------------------------------\u001b[0m",
      "\u001b[1;31mTypeError\u001b[0m                                 Traceback (most recent call last)",
      "\u001b[1;32m<ipython-input-48-2e7d8b5c306f>\u001b[0m in \u001b[0;36m<module>\u001b[1;34m()\u001b[0m\n\u001b[1;32m----> 1\u001b[1;33m \u001b[0mdiaper_champ_reviews\u001b[0m\u001b[1;33m[\u001b[0m\u001b[1;34m'predict_sentiment'\u001b[0m\u001b[1;33m]\u001b[0m\u001b[1;33m.\u001b[0m\u001b[0msort\u001b[0m\u001b[1;33m(\u001b[0m\u001b[1;34m'predict_sentiment'\u001b[0m\u001b[1;33m,\u001b[0m\u001b[0mascending\u001b[0m\u001b[1;33m=\u001b[0m\u001b[0mFalse\u001b[0m\u001b[1;33m)\u001b[0m\u001b[1;33m\u001b[0m\u001b[0m\n\u001b[0m",
      "\u001b[1;31mTypeError\u001b[0m: sort() got multiple values for keyword argument 'ascending'"
     ]
    }
   ],
   "source": [
    "diaper_champ_reviews['predict_sentiment'].sort('predict_sentiment',ascending=False)"
   ]
  },
  {
   "cell_type": "code",
   "execution_count": 49,
   "metadata": {
    "collapsed": false
   },
   "outputs": [
    {
     "data": {
      "text/html": [
       "<div style=\"max-height:1000px;max-width:1500px;overflow:auto;\"><table frame=\"box\" rules=\"cols\">\n",
       "    <tr>\n",
       "        <th style=\"padding-left: 1em; padding-right: 1em; text-align: center\">name</th>\n",
       "        <th style=\"padding-left: 1em; padding-right: 1em; text-align: center\">review</th>\n",
       "        <th style=\"padding-left: 1em; padding-right: 1em; text-align: center\">rating</th>\n",
       "        <th style=\"padding-left: 1em; padding-right: 1em; text-align: center\">word_count</th>\n",
       "        <th style=\"padding-left: 1em; padding-right: 1em; text-align: center\">sentiment</th>\n",
       "        <th style=\"padding-left: 1em; padding-right: 1em; text-align: center\">awesome</th>\n",
       "    </tr>\n",
       "    <tr>\n",
       "        <td style=\"padding-left: 1em; padding-right: 1em; text-align: center; vertical-align: top\">Baby Trend Diaper Champ</td>\n",
       "        <td style=\"padding-left: 1em; padding-right: 1em; text-align: center; vertical-align: top\">Baby Luke can turn a<br>clean diaper to a dirty ...</td>\n",
       "        <td style=\"padding-left: 1em; padding-right: 1em; text-align: center; vertical-align: top\">5.0</td>\n",
       "        <td style=\"padding-left: 1em; padding-right: 1em; text-align: center; vertical-align: top\">{'all': 1, 'less': 1,<br>\"friend's\": 1, '(which': ...</td>\n",
       "        <td style=\"padding-left: 1em; padding-right: 1em; text-align: center; vertical-align: top\">1</td>\n",
       "        <td style=\"padding-left: 1em; padding-right: 1em; text-align: center; vertical-align: top\">0</td>\n",
       "    </tr>\n",
       "    <tr>\n",
       "        <td style=\"padding-left: 1em; padding-right: 1em; text-align: center; vertical-align: top\">Baby Trend Diaper Champ</td>\n",
       "        <td style=\"padding-left: 1em; padding-right: 1em; text-align: center; vertical-align: top\">I LOOOVE this diaper<br>pail!  Its the easies ...</td>\n",
       "        <td style=\"padding-left: 1em; padding-right: 1em; text-align: center; vertical-align: top\">5.0</td>\n",
       "        <td style=\"padding-left: 1em; padding-right: 1em; text-align: center; vertical-align: top\">{'just': 1, 'over': 1,<br>'rweek': 1, 'sooo': 1, ...</td>\n",
       "        <td style=\"padding-left: 1em; padding-right: 1em; text-align: center; vertical-align: top\">1</td>\n",
       "        <td style=\"padding-left: 1em; padding-right: 1em; text-align: center; vertical-align: top\">0</td>\n",
       "    </tr>\n",
       "    <tr>\n",
       "        <td style=\"padding-left: 1em; padding-right: 1em; text-align: center; vertical-align: top\">Baby Trend Diaper Champ</td>\n",
       "        <td style=\"padding-left: 1em; padding-right: 1em; text-align: center; vertical-align: top\">We researched all of the<br>different types of di ...</td>\n",
       "        <td style=\"padding-left: 1em; padding-right: 1em; text-align: center; vertical-align: top\">4.0</td>\n",
       "        <td style=\"padding-left: 1em; padding-right: 1em; text-align: center; vertical-align: top\">{'all': 2, 'just': 4,<br>\"don't\": 2, 'one,': 1, ...</td>\n",
       "        <td style=\"padding-left: 1em; padding-right: 1em; text-align: center; vertical-align: top\">1</td>\n",
       "        <td style=\"padding-left: 1em; padding-right: 1em; text-align: center; vertical-align: top\">0</td>\n",
       "    </tr>\n",
       "    <tr>\n",
       "        <td style=\"padding-left: 1em; padding-right: 1em; text-align: center; vertical-align: top\">Baby Trend Diaper Champ</td>\n",
       "        <td style=\"padding-left: 1em; padding-right: 1em; text-align: center; vertical-align: top\">My baby is now 8 months<br>and the can has been ...</td>\n",
       "        <td style=\"padding-left: 1em; padding-right: 1em; text-align: center; vertical-align: top\">5.0</td>\n",
       "        <td style=\"padding-left: 1em; padding-right: 1em; text-align: center; vertical-align: top\">{\"don't\": 1, 'able': 2,<br>'over': 1, 'soon': 1, ...</td>\n",
       "        <td style=\"padding-left: 1em; padding-right: 1em; text-align: center; vertical-align: top\">1</td>\n",
       "        <td style=\"padding-left: 1em; padding-right: 1em; text-align: center; vertical-align: top\">0</td>\n",
       "    </tr>\n",
       "    <tr>\n",
       "        <td style=\"padding-left: 1em; padding-right: 1em; text-align: center; vertical-align: top\">Baby Trend Diaper Champ</td>\n",
       "        <td style=\"padding-left: 1em; padding-right: 1em; text-align: center; vertical-align: top\">This is absolutely, by<br>far, the best diaper  ...</td>\n",
       "        <td style=\"padding-left: 1em; padding-right: 1em; text-align: center; vertical-align: top\">5.0</td>\n",
       "        <td style=\"padding-left: 1em; padding-right: 1em; text-align: center; vertical-align: top\">{'just': 3, 'money': 1,<br>'still': 3, 'fine': 1, ...</td>\n",
       "        <td style=\"padding-left: 1em; padding-right: 1em; text-align: center; vertical-align: top\">1</td>\n",
       "        <td style=\"padding-left: 1em; padding-right: 1em; text-align: center; vertical-align: top\">0</td>\n",
       "    </tr>\n",
       "    <tr>\n",
       "        <td style=\"padding-left: 1em; padding-right: 1em; text-align: center; vertical-align: top\">Baby Trend Diaper Champ</td>\n",
       "        <td style=\"padding-left: 1em; padding-right: 1em; text-align: center; vertical-align: top\">Diaper Champ or Diaper<br>Genie? That was my ...</td>\n",
       "        <td style=\"padding-left: 1em; padding-right: 1em; text-align: center; vertical-align: top\">5.0</td>\n",
       "        <td style=\"padding-left: 1em; padding-right: 1em; text-align: center; vertical-align: top\">{'son': 2, 'all': 1,<br>'bags.': 1, 'son,': 1, ...</td>\n",
       "        <td style=\"padding-left: 1em; padding-right: 1em; text-align: center; vertical-align: top\">1</td>\n",
       "        <td style=\"padding-left: 1em; padding-right: 1em; text-align: center; vertical-align: top\">0</td>\n",
       "    </tr>\n",
       "    <tr>\n",
       "        <td style=\"padding-left: 1em; padding-right: 1em; text-align: center; vertical-align: top\">Baby Trend Diaper Champ</td>\n",
       "        <td style=\"padding-left: 1em; padding-right: 1em; text-align: center; vertical-align: top\">Wow!  This is fabulous.<br>It was a toss-up between ...</td>\n",
       "        <td style=\"padding-left: 1em; padding-right: 1em; text-align: center; vertical-align: top\">5.0</td>\n",
       "        <td style=\"padding-left: 1em; padding-right: 1em; text-align: center; vertical-align: top\">{'and': 4, 'this': 3,<br>'stink': 1, 'garbage' ...</td>\n",
       "        <td style=\"padding-left: 1em; padding-right: 1em; text-align: center; vertical-align: top\">1</td>\n",
       "        <td style=\"padding-left: 1em; padding-right: 1em; text-align: center; vertical-align: top\">0</td>\n",
       "    </tr>\n",
       "    <tr>\n",
       "        <td style=\"padding-left: 1em; padding-right: 1em; text-align: center; vertical-align: top\">Baby Trend Diaper Champ</td>\n",
       "        <td style=\"padding-left: 1em; padding-right: 1em; text-align: center; vertical-align: top\">I originally put this<br>item on my baby registry ...</td>\n",
       "        <td style=\"padding-left: 1em; padding-right: 1em; text-align: center; vertical-align: top\">5.0</td>\n",
       "        <td style=\"padding-left: 1em; padding-right: 1em; text-align: center; vertical-align: top\">{'lysol': 1, 'all': 2,<br>'bags.': 1, 'feedback': ...</td>\n",
       "        <td style=\"padding-left: 1em; padding-right: 1em; text-align: center; vertical-align: top\">1</td>\n",
       "        <td style=\"padding-left: 1em; padding-right: 1em; text-align: center; vertical-align: top\">0</td>\n",
       "    </tr>\n",
       "    <tr>\n",
       "        <td style=\"padding-left: 1em; padding-right: 1em; text-align: center; vertical-align: top\">Baby Trend Diaper Champ</td>\n",
       "        <td style=\"padding-left: 1em; padding-right: 1em; text-align: center; vertical-align: top\">Two girlfriends and two<br>family members put me ...</td>\n",
       "        <td style=\"padding-left: 1em; padding-right: 1em; text-align: center; vertical-align: top\">5.0</td>\n",
       "        <td style=\"padding-left: 1em; padding-right: 1em; text-align: center; vertical-align: top\">{'just': 1, '-': 3,<br>'both': 1, 'results': 1, ...</td>\n",
       "        <td style=\"padding-left: 1em; padding-right: 1em; text-align: center; vertical-align: top\">1</td>\n",
       "        <td style=\"padding-left: 1em; padding-right: 1em; text-align: center; vertical-align: top\">0</td>\n",
       "    </tr>\n",
       "    <tr>\n",
       "        <td style=\"padding-left: 1em; padding-right: 1em; text-align: center; vertical-align: top\">Baby Trend Diaper Champ</td>\n",
       "        <td style=\"padding-left: 1em; padding-right: 1em; text-align: center; vertical-align: top\">I am one of those super-<br>critical shoppers who ...</td>\n",
       "        <td style=\"padding-left: 1em; padding-right: 1em; text-align: center; vertical-align: top\">5.0</td>\n",
       "        <td style=\"padding-left: 1em; padding-right: 1em; text-align: center; vertical-align: top\">{'all': 1, 'humid': 1,<br>'just': 1, 'less': 1, ...</td>\n",
       "        <td style=\"padding-left: 1em; padding-right: 1em; text-align: center; vertical-align: top\">1</td>\n",
       "        <td style=\"padding-left: 1em; padding-right: 1em; text-align: center; vertical-align: top\">0</td>\n",
       "    </tr>\n",
       "</table>\n",
       "<table frame=\"box\" rules=\"cols\">\n",
       "    <tr>\n",
       "        <th style=\"padding-left: 1em; padding-right: 1em; text-align: center\">great</th>\n",
       "        <th style=\"padding-left: 1em; padding-right: 1em; text-align: center\">fantastic</th>\n",
       "        <th style=\"padding-left: 1em; padding-right: 1em; text-align: center\">amazing</th>\n",
       "        <th style=\"padding-left: 1em; padding-right: 1em; text-align: center\">love</th>\n",
       "        <th style=\"padding-left: 1em; padding-right: 1em; text-align: center\">horrible</th>\n",
       "        <th style=\"padding-left: 1em; padding-right: 1em; text-align: center\">bad</th>\n",
       "        <th style=\"padding-left: 1em; padding-right: 1em; text-align: center\">terrible</th>\n",
       "        <th style=\"padding-left: 1em; padding-right: 1em; text-align: center\">awful</th>\n",
       "        <th style=\"padding-left: 1em; padding-right: 1em; text-align: center\">wow</th>\n",
       "        <th style=\"padding-left: 1em; padding-right: 1em; text-align: center\">hate</th>\n",
       "        <th style=\"padding-left: 1em; padding-right: 1em; text-align: center\">predict_sentiment</th>\n",
       "    </tr>\n",
       "    <tr>\n",
       "        <td style=\"padding-left: 1em; padding-right: 1em; text-align: center; vertical-align: top\">0</td>\n",
       "        <td style=\"padding-left: 1em; padding-right: 1em; text-align: center; vertical-align: top\">0</td>\n",
       "        <td style=\"padding-left: 1em; padding-right: 1em; text-align: center; vertical-align: top\">0</td>\n",
       "        <td style=\"padding-left: 1em; padding-right: 1em; text-align: center; vertical-align: top\">0</td>\n",
       "        <td style=\"padding-left: 1em; padding-right: 1em; text-align: center; vertical-align: top\">0</td>\n",
       "        <td style=\"padding-left: 1em; padding-right: 1em; text-align: center; vertical-align: top\">0</td>\n",
       "        <td style=\"padding-left: 1em; padding-right: 1em; text-align: center; vertical-align: top\">0</td>\n",
       "        <td style=\"padding-left: 1em; padding-right: 1em; text-align: center; vertical-align: top\">0</td>\n",
       "        <td style=\"padding-left: 1em; padding-right: 1em; text-align: center; vertical-align: top\">0</td>\n",
       "        <td style=\"padding-left: 1em; padding-right: 1em; text-align: center; vertical-align: top\">0</td>\n",
       "        <td style=\"padding-left: 1em; padding-right: 1em; text-align: center; vertical-align: top\">0.999999937267</td>\n",
       "    </tr>\n",
       "    <tr>\n",
       "        <td style=\"padding-left: 1em; padding-right: 1em; text-align: center; vertical-align: top\">0</td>\n",
       "        <td style=\"padding-left: 1em; padding-right: 1em; text-align: center; vertical-align: top\">0</td>\n",
       "        <td style=\"padding-left: 1em; padding-right: 1em; text-align: center; vertical-align: top\">0</td>\n",
       "        <td style=\"padding-left: 1em; padding-right: 1em; text-align: center; vertical-align: top\">1</td>\n",
       "        <td style=\"padding-left: 1em; padding-right: 1em; text-align: center; vertical-align: top\">0</td>\n",
       "        <td style=\"padding-left: 1em; padding-right: 1em; text-align: center; vertical-align: top\">0</td>\n",
       "        <td style=\"padding-left: 1em; padding-right: 1em; text-align: center; vertical-align: top\">0</td>\n",
       "        <td style=\"padding-left: 1em; padding-right: 1em; text-align: center; vertical-align: top\">0</td>\n",
       "        <td style=\"padding-left: 1em; padding-right: 1em; text-align: center; vertical-align: top\">0</td>\n",
       "        <td style=\"padding-left: 1em; padding-right: 1em; text-align: center; vertical-align: top\">0</td>\n",
       "        <td style=\"padding-left: 1em; padding-right: 1em; text-align: center; vertical-align: top\">0.999999917406</td>\n",
       "    </tr>\n",
       "    <tr>\n",
       "        <td style=\"padding-left: 1em; padding-right: 1em; text-align: center; vertical-align: top\">0</td>\n",
       "        <td style=\"padding-left: 1em; padding-right: 1em; text-align: center; vertical-align: top\">0</td>\n",
       "        <td style=\"padding-left: 1em; padding-right: 1em; text-align: center; vertical-align: top\">0</td>\n",
       "        <td style=\"padding-left: 1em; padding-right: 1em; text-align: center; vertical-align: top\">0</td>\n",
       "        <td style=\"padding-left: 1em; padding-right: 1em; text-align: center; vertical-align: top\">0</td>\n",
       "        <td style=\"padding-left: 1em; padding-right: 1em; text-align: center; vertical-align: top\">1</td>\n",
       "        <td style=\"padding-left: 1em; padding-right: 1em; text-align: center; vertical-align: top\">0</td>\n",
       "        <td style=\"padding-left: 1em; padding-right: 1em; text-align: center; vertical-align: top\">0</td>\n",
       "        <td style=\"padding-left: 1em; padding-right: 1em; text-align: center; vertical-align: top\">0</td>\n",
       "        <td style=\"padding-left: 1em; padding-right: 1em; text-align: center; vertical-align: top\">0</td>\n",
       "        <td style=\"padding-left: 1em; padding-right: 1em; text-align: center; vertical-align: top\">0.999999899509</td>\n",
       "    </tr>\n",
       "    <tr>\n",
       "        <td style=\"padding-left: 1em; padding-right: 1em; text-align: center; vertical-align: top\">2</td>\n",
       "        <td style=\"padding-left: 1em; padding-right: 1em; text-align: center; vertical-align: top\">0</td>\n",
       "        <td style=\"padding-left: 1em; padding-right: 1em; text-align: center; vertical-align: top\">0</td>\n",
       "        <td style=\"padding-left: 1em; padding-right: 1em; text-align: center; vertical-align: top\">0</td>\n",
       "        <td style=\"padding-left: 1em; padding-right: 1em; text-align: center; vertical-align: top\">0</td>\n",
       "        <td style=\"padding-left: 1em; padding-right: 1em; text-align: center; vertical-align: top\">1</td>\n",
       "        <td style=\"padding-left: 1em; padding-right: 1em; text-align: center; vertical-align: top\">0</td>\n",
       "        <td style=\"padding-left: 1em; padding-right: 1em; text-align: center; vertical-align: top\">0</td>\n",
       "        <td style=\"padding-left: 1em; padding-right: 1em; text-align: center; vertical-align: top\">0</td>\n",
       "        <td style=\"padding-left: 1em; padding-right: 1em; text-align: center; vertical-align: top\">0</td>\n",
       "        <td style=\"padding-left: 1em; padding-right: 1em; text-align: center; vertical-align: top\">0.999999836182</td>\n",
       "    </tr>\n",
       "    <tr>\n",
       "        <td style=\"padding-left: 1em; padding-right: 1em; text-align: center; vertical-align: top\">0</td>\n",
       "        <td style=\"padding-left: 1em; padding-right: 1em; text-align: center; vertical-align: top\">0</td>\n",
       "        <td style=\"padding-left: 1em; padding-right: 1em; text-align: center; vertical-align: top\">0</td>\n",
       "        <td style=\"padding-left: 1em; padding-right: 1em; text-align: center; vertical-align: top\">2</td>\n",
       "        <td style=\"padding-left: 1em; padding-right: 1em; text-align: center; vertical-align: top\">0</td>\n",
       "        <td style=\"padding-left: 1em; padding-right: 1em; text-align: center; vertical-align: top\">0</td>\n",
       "        <td style=\"padding-left: 1em; padding-right: 1em; text-align: center; vertical-align: top\">0</td>\n",
       "        <td style=\"padding-left: 1em; padding-right: 1em; text-align: center; vertical-align: top\">0</td>\n",
       "        <td style=\"padding-left: 1em; padding-right: 1em; text-align: center; vertical-align: top\">0</td>\n",
       "        <td style=\"padding-left: 1em; padding-right: 1em; text-align: center; vertical-align: top\">0</td>\n",
       "        <td style=\"padding-left: 1em; padding-right: 1em; text-align: center; vertical-align: top\">0.999999824745</td>\n",
       "    </tr>\n",
       "    <tr>\n",
       "        <td style=\"padding-left: 1em; padding-right: 1em; text-align: center; vertical-align: top\">0</td>\n",
       "        <td style=\"padding-left: 1em; padding-right: 1em; text-align: center; vertical-align: top\">0</td>\n",
       "        <td style=\"padding-left: 1em; padding-right: 1em; text-align: center; vertical-align: top\">0</td>\n",
       "        <td style=\"padding-left: 1em; padding-right: 1em; text-align: center; vertical-align: top\">0</td>\n",
       "        <td style=\"padding-left: 1em; padding-right: 1em; text-align: center; vertical-align: top\">0</td>\n",
       "        <td style=\"padding-left: 1em; padding-right: 1em; text-align: center; vertical-align: top\">0</td>\n",
       "        <td style=\"padding-left: 1em; padding-right: 1em; text-align: center; vertical-align: top\">0</td>\n",
       "        <td style=\"padding-left: 1em; padding-right: 1em; text-align: center; vertical-align: top\">0</td>\n",
       "        <td style=\"padding-left: 1em; padding-right: 1em; text-align: center; vertical-align: top\">0</td>\n",
       "        <td style=\"padding-left: 1em; padding-right: 1em; text-align: center; vertical-align: top\">0</td>\n",
       "        <td style=\"padding-left: 1em; padding-right: 1em; text-align: center; vertical-align: top\">0.999999759315</td>\n",
       "    </tr>\n",
       "    <tr>\n",
       "        <td style=\"padding-left: 1em; padding-right: 1em; text-align: center; vertical-align: top\">0</td>\n",
       "        <td style=\"padding-left: 1em; padding-right: 1em; text-align: center; vertical-align: top\">0</td>\n",
       "        <td style=\"padding-left: 1em; padding-right: 1em; text-align: center; vertical-align: top\">0</td>\n",
       "        <td style=\"padding-left: 1em; padding-right: 1em; text-align: center; vertical-align: top\">0</td>\n",
       "        <td style=\"padding-left: 1em; padding-right: 1em; text-align: center; vertical-align: top\">0</td>\n",
       "        <td style=\"padding-left: 1em; padding-right: 1em; text-align: center; vertical-align: top\">0</td>\n",
       "        <td style=\"padding-left: 1em; padding-right: 1em; text-align: center; vertical-align: top\">0</td>\n",
       "        <td style=\"padding-left: 1em; padding-right: 1em; text-align: center; vertical-align: top\">0</td>\n",
       "        <td style=\"padding-left: 1em; padding-right: 1em; text-align: center; vertical-align: top\">0</td>\n",
       "        <td style=\"padding-left: 1em; padding-right: 1em; text-align: center; vertical-align: top\">0</td>\n",
       "        <td style=\"padding-left: 1em; padding-right: 1em; text-align: center; vertical-align: top\">0.999999692111</td>\n",
       "    </tr>\n",
       "    <tr>\n",
       "        <td style=\"padding-left: 1em; padding-right: 1em; text-align: center; vertical-align: top\">0</td>\n",
       "        <td style=\"padding-left: 1em; padding-right: 1em; text-align: center; vertical-align: top\">0</td>\n",
       "        <td style=\"padding-left: 1em; padding-right: 1em; text-align: center; vertical-align: top\">0</td>\n",
       "        <td style=\"padding-left: 1em; padding-right: 1em; text-align: center; vertical-align: top\">0</td>\n",
       "        <td style=\"padding-left: 1em; padding-right: 1em; text-align: center; vertical-align: top\">0</td>\n",
       "        <td style=\"padding-left: 1em; padding-right: 1em; text-align: center; vertical-align: top\">0</td>\n",
       "        <td style=\"padding-left: 1em; padding-right: 1em; text-align: center; vertical-align: top\">0</td>\n",
       "        <td style=\"padding-left: 1em; padding-right: 1em; text-align: center; vertical-align: top\">0</td>\n",
       "        <td style=\"padding-left: 1em; padding-right: 1em; text-align: center; vertical-align: top\">0</td>\n",
       "        <td style=\"padding-left: 1em; padding-right: 1em; text-align: center; vertical-align: top\">0</td>\n",
       "        <td style=\"padding-left: 1em; padding-right: 1em; text-align: center; vertical-align: top\">0.999999642488</td>\n",
       "    </tr>\n",
       "    <tr>\n",
       "        <td style=\"padding-left: 1em; padding-right: 1em; text-align: center; vertical-align: top\">0</td>\n",
       "        <td style=\"padding-left: 1em; padding-right: 1em; text-align: center; vertical-align: top\">0</td>\n",
       "        <td style=\"padding-left: 1em; padding-right: 1em; text-align: center; vertical-align: top\">0</td>\n",
       "        <td style=\"padding-left: 1em; padding-right: 1em; text-align: center; vertical-align: top\">0</td>\n",
       "        <td style=\"padding-left: 1em; padding-right: 1em; text-align: center; vertical-align: top\">1</td>\n",
       "        <td style=\"padding-left: 1em; padding-right: 1em; text-align: center; vertical-align: top\">0</td>\n",
       "        <td style=\"padding-left: 1em; padding-right: 1em; text-align: center; vertical-align: top\">0</td>\n",
       "        <td style=\"padding-left: 1em; padding-right: 1em; text-align: center; vertical-align: top\">0</td>\n",
       "        <td style=\"padding-left: 1em; padding-right: 1em; text-align: center; vertical-align: top\">0</td>\n",
       "        <td style=\"padding-left: 1em; padding-right: 1em; text-align: center; vertical-align: top\">0</td>\n",
       "        <td style=\"padding-left: 1em; padding-right: 1em; text-align: center; vertical-align: top\">0.999999604504</td>\n",
       "    </tr>\n",
       "    <tr>\n",
       "        <td style=\"padding-left: 1em; padding-right: 1em; text-align: center; vertical-align: top\">0</td>\n",
       "        <td style=\"padding-left: 1em; padding-right: 1em; text-align: center; vertical-align: top\">0</td>\n",
       "        <td style=\"padding-left: 1em; padding-right: 1em; text-align: center; vertical-align: top\">0</td>\n",
       "        <td style=\"padding-left: 1em; padding-right: 1em; text-align: center; vertical-align: top\">1</td>\n",
       "        <td style=\"padding-left: 1em; padding-right: 1em; text-align: center; vertical-align: top\">0</td>\n",
       "        <td style=\"padding-left: 1em; padding-right: 1em; text-align: center; vertical-align: top\">0</td>\n",
       "        <td style=\"padding-left: 1em; padding-right: 1em; text-align: center; vertical-align: top\">0</td>\n",
       "        <td style=\"padding-left: 1em; padding-right: 1em; text-align: center; vertical-align: top\">0</td>\n",
       "        <td style=\"padding-left: 1em; padding-right: 1em; text-align: center; vertical-align: top\">0</td>\n",
       "        <td style=\"padding-left: 1em; padding-right: 1em; text-align: center; vertical-align: top\">0</td>\n",
       "        <td style=\"padding-left: 1em; padding-right: 1em; text-align: center; vertical-align: top\">0.999999486804</td>\n",
       "    </tr>\n",
       "</table>\n",
       "[298 rows x 17 columns]<br/>Note: Only the head of the SFrame is printed.<br/>You can use print_rows(num_rows=m, num_columns=n) to print more rows and columns.\n",
       "</div>"
      ],
      "text/plain": [
       "Columns:\n",
       "\tname\tstr\n",
       "\treview\tstr\n",
       "\trating\tfloat\n",
       "\tword_count\tdict\n",
       "\tsentiment\tint\n",
       "\tawesome\tint\n",
       "\tgreat\tint\n",
       "\tfantastic\tint\n",
       "\tamazing\tint\n",
       "\tlove\tint\n",
       "\thorrible\tint\n",
       "\tbad\tint\n",
       "\tterrible\tint\n",
       "\tawful\tint\n",
       "\twow\tint\n",
       "\thate\tint\n",
       "\tpredict_sentiment\tfloat\n",
       "\n",
       "Rows: 298\n",
       "\n",
       "Data:\n",
       "+-------------------------+-------------------------------+--------+\n",
       "|           name          |             review            | rating |\n",
       "+-------------------------+-------------------------------+--------+\n",
       "| Baby Trend Diaper Champ | Baby Luke can turn a clean... |  5.0   |\n",
       "| Baby Trend Diaper Champ | I LOOOVE this diaper pail!... |  5.0   |\n",
       "| Baby Trend Diaper Champ | We researched all of the d... |  4.0   |\n",
       "| Baby Trend Diaper Champ | My baby is now 8 months an... |  5.0   |\n",
       "| Baby Trend Diaper Champ | This is absolutely, by far... |  5.0   |\n",
       "| Baby Trend Diaper Champ | Diaper Champ or Diaper Gen... |  5.0   |\n",
       "| Baby Trend Diaper Champ | Wow!  This is fabulous.  I... |  5.0   |\n",
       "| Baby Trend Diaper Champ | I originally put this item... |  5.0   |\n",
       "| Baby Trend Diaper Champ | Two girlfriends and two fa... |  5.0   |\n",
       "| Baby Trend Diaper Champ | I am one of those super-cr... |  5.0   |\n",
       "+-------------------------+-------------------------------+--------+\n",
       "+-------------------------------+-----------+---------+-------+-----------+---------+\n",
       "|           word_count          | sentiment | awesome | great | fantastic | amazing |\n",
       "+-------------------------------+-----------+---------+-------+-----------+---------+\n",
       "| {'all': 1, 'less': 1, \"fri... |     1     |    0    |   0   |     0     |    0    |\n",
       "| {'just': 1, 'over': 1, 'rw... |     1     |    0    |   0   |     0     |    0    |\n",
       "| {'all': 2, 'just': 4, \"don... |     1     |    0    |   0   |     0     |    0    |\n",
       "| {\"don't\": 1, 'able': 2, 'o... |     1     |    0    |   2   |     0     |    0    |\n",
       "| {'just': 3, 'money': 1, 's... |     1     |    0    |   0   |     0     |    0    |\n",
       "| {'son': 2, 'all': 1, 'bags... |     1     |    0    |   0   |     0     |    0    |\n",
       "| {'and': 4, 'this': 3, 'sti... |     1     |    0    |   0   |     0     |    0    |\n",
       "| {'lysol': 1, 'all': 2, 'ba... |     1     |    0    |   0   |     0     |    0    |\n",
       "| {'just': 1, '-': 3, 'both'... |     1     |    0    |   0   |     0     |    0    |\n",
       "| {'all': 1, 'humid': 1, 'ju... |     1     |    0    |   0   |     0     |    0    |\n",
       "+-------------------------------+-----------+---------+-------+-----------+---------+\n",
       "+------+----------+-----+----------+-------+-----+------+-------------------+\n",
       "| love | horrible | bad | terrible | awful | wow | hate | predict_sentiment |\n",
       "+------+----------+-----+----------+-------+-----+------+-------------------+\n",
       "|  0   |    0     |  0  |    0     |   0   |  0  |  0   |   0.999999937267  |\n",
       "|  1   |    0     |  0  |    0     |   0   |  0  |  0   |   0.999999917406  |\n",
       "|  0   |    0     |  1  |    0     |   0   |  0  |  0   |   0.999999899509  |\n",
       "|  0   |    0     |  1  |    0     |   0   |  0  |  0   |   0.999999836182  |\n",
       "|  2   |    0     |  0  |    0     |   0   |  0  |  0   |   0.999999824745  |\n",
       "|  0   |    0     |  0  |    0     |   0   |  0  |  0   |   0.999999759315  |\n",
       "|  0   |    0     |  0  |    0     |   0   |  0  |  0   |   0.999999692111  |\n",
       "|  0   |    0     |  0  |    0     |   0   |  0  |  0   |   0.999999642488  |\n",
       "|  0   |    1     |  0  |    0     |   0   |  0  |  0   |   0.999999604504  |\n",
       "|  1   |    0     |  0  |    0     |   0   |  0  |  0   |   0.999999486804  |\n",
       "+------+----------+-----+----------+-------+-----+------+-------------------+\n",
       "[298 rows x 17 columns]\n",
       "Note: Only the head of the SFrame is printed.\n",
       "You can use print_rows(num_rows=m, num_columns=n) to print more rows and columns."
      ]
     },
     "execution_count": 49,
     "metadata": {},
     "output_type": "execute_result"
    }
   ],
   "source": [
    "diaper_champ_reviews.sort('predict_sentiment',ascending=False)"
   ]
  },
  {
   "cell_type": "code",
   "execution_count": 51,
   "metadata": {
    "collapsed": false
   },
   "outputs": [
    {
     "data": {
      "text/plain": [
       "dtype: float\n",
       "Rows: 1\n",
       "[0.7969408512906704]"
      ]
     },
     "execution_count": 51,
     "metadata": {},
     "output_type": "execute_result"
    }
   ],
   "source": [
    "sentiment_model_se.predict(diaper_champ_reviews[0:1],output_type=\"probability\")"
   ]
  },
  {
   "cell_type": "code",
   "execution_count": 52,
   "metadata": {
    "collapsed": false
   },
   "outputs": [
    {
     "ename": "RuntimeError",
     "evalue": "Runtime Exception. Canceled by user",
     "output_type": "error",
     "traceback": [
      "\u001b[1;31m---------------------------------------------------------------------------\u001b[0m",
      "\u001b[1;31mRuntimeError\u001b[0m                              Traceback (most recent call last)",
      "\u001b[1;32m<ipython-input-52-f9c47bd16652>\u001b[0m in \u001b[0;36m<module>\u001b[1;34m()\u001b[0m\n\u001b[0;32m      1\u001b[0m \u001b[0ma\u001b[0m \u001b[1;33m=\u001b[0m \u001b[1;33m{\u001b[0m\u001b[1;33m}\u001b[0m\u001b[1;33m\u001b[0m\u001b[0m\n\u001b[0;32m      2\u001b[0m \u001b[1;32mfor\u001b[0m \u001b[0mword\u001b[0m \u001b[1;32min\u001b[0m \u001b[0mselected_words\u001b[0m\u001b[1;33m:\u001b[0m\u001b[1;33m\u001b[0m\u001b[0m\n\u001b[1;32m----> 3\u001b[1;33m     \u001b[0ma\u001b[0m\u001b[1;33m[\u001b[0m\u001b[0mword\u001b[0m\u001b[1;33m]\u001b[0m \u001b[1;33m=\u001b[0m \u001b[0mproducts\u001b[0m\u001b[1;33m[\u001b[0m\u001b[0mword\u001b[0m\u001b[1;33m]\u001b[0m\u001b[1;33m.\u001b[0m\u001b[0msum\u001b[0m\u001b[1;33m(\u001b[0m\u001b[1;33m)\u001b[0m\u001b[1;33m\u001b[0m\u001b[0m\n\u001b[0m",
      "\u001b[1;32m/opt/anaconda/anaconda2/lib/python2.7/site-packages/graphlab/data_structures/sarray.pyc\u001b[0m in \u001b[0;36msum\u001b[1;34m(self)\u001b[0m\n\u001b[0;32m   2216\u001b[0m         \"\"\"\n\u001b[0;32m   2217\u001b[0m         \u001b[1;32mwith\u001b[0m \u001b[0mcython_context\u001b[0m\u001b[1;33m(\u001b[0m\u001b[1;33m)\u001b[0m\u001b[1;33m:\u001b[0m\u001b[1;33m\u001b[0m\u001b[0m\n\u001b[1;32m-> 2218\u001b[1;33m             \u001b[1;32mreturn\u001b[0m \u001b[0mself\u001b[0m\u001b[1;33m.\u001b[0m\u001b[0m__proxy__\u001b[0m\u001b[1;33m.\u001b[0m\u001b[0msum\u001b[0m\u001b[1;33m(\u001b[0m\u001b[1;33m)\u001b[0m\u001b[1;33m\u001b[0m\u001b[0m\n\u001b[0m\u001b[0;32m   2219\u001b[0m \u001b[1;33m\u001b[0m\u001b[0m\n\u001b[0;32m   2220\u001b[0m     \u001b[1;32mdef\u001b[0m \u001b[0mmean\u001b[0m\u001b[1;33m(\u001b[0m\u001b[0mself\u001b[0m\u001b[1;33m)\u001b[0m\u001b[1;33m:\u001b[0m\u001b[1;33m\u001b[0m\u001b[0m\n",
      "\u001b[1;32m/opt/anaconda/anaconda2/lib/python2.7/site-packages/graphlab/cython/context.pyc\u001b[0m in \u001b[0;36m__exit__\u001b[1;34m(self, exc_type, exc_value, traceback)\u001b[0m\n\u001b[0;32m     47\u001b[0m             \u001b[1;32mif\u001b[0m \u001b[1;32mnot\u001b[0m \u001b[0mself\u001b[0m\u001b[1;33m.\u001b[0m\u001b[0mshow_cython_trace\u001b[0m\u001b[1;33m:\u001b[0m\u001b[1;33m\u001b[0m\u001b[0m\n\u001b[0;32m     48\u001b[0m                 \u001b[1;31m# To hide cython trace, we re-raise from here\u001b[0m\u001b[1;33m\u001b[0m\u001b[1;33m\u001b[0m\u001b[0m\n\u001b[1;32m---> 49\u001b[1;33m                 \u001b[1;32mraise\u001b[0m \u001b[0mexc_type\u001b[0m\u001b[1;33m(\u001b[0m\u001b[0mexc_value\u001b[0m\u001b[1;33m)\u001b[0m\u001b[1;33m\u001b[0m\u001b[0m\n\u001b[0m\u001b[0;32m     50\u001b[0m             \u001b[1;32melse\u001b[0m\u001b[1;33m:\u001b[0m\u001b[1;33m\u001b[0m\u001b[0m\n\u001b[0;32m     51\u001b[0m                 \u001b[1;31m# To show the full trace, we do nothing and let exception propagate\u001b[0m\u001b[1;33m\u001b[0m\u001b[1;33m\u001b[0m\u001b[0m\n",
      "\u001b[1;31mRuntimeError\u001b[0m: Runtime Exception. Canceled by user"
     ]
    }
   ],
   "source": [
    "a = {}\n",
    "for word in selected_words:\n",
    "    a[word] = products[word].sum()"
   ]
  },
  {
   "cell_type": "code",
   "execution_count": null,
   "metadata": {
    "collapsed": true
   },
   "outputs": [],
   "source": [
    "a"
   ]
  },
  {
   "cell_type": "code",
   "execution_count": 53,
   "metadata": {
    "collapsed": false
   },
   "outputs": [
    {
     "ename": "AttributeError",
     "evalue": "'int' object has no attribute 'sort'",
     "output_type": "error",
     "traceback": [
      "\u001b[1;31m---------------------------------------------------------------------------\u001b[0m",
      "\u001b[1;31mAttributeError\u001b[0m                            Traceback (most recent call last)",
      "\u001b[1;32m<ipython-input-53-a8e9f07bfc76>\u001b[0m in \u001b[0;36m<module>\u001b[1;34m()\u001b[0m\n\u001b[1;32m----> 1\u001b[1;33m \u001b[0mproducts\u001b[0m\u001b[1;33m[\u001b[0m\u001b[0mword\u001b[0m\u001b[1;33m]\u001b[0m\u001b[1;33m.\u001b[0m\u001b[0msum\u001b[0m\u001b[1;33m(\u001b[0m\u001b[1;33m)\u001b[0m\u001b[1;33m.\u001b[0m\u001b[0msort\u001b[0m\u001b[1;33m(\u001b[0m\u001b[1;33m)\u001b[0m\u001b[1;33m\u001b[0m\u001b[0m\n\u001b[0m",
      "\u001b[1;31mAttributeError\u001b[0m: 'int' object has no attribute 'sort'"
     ]
    }
   ],
   "source": [
    "products[word].sum().sort()"
   ]
  },
  {
   "cell_type": "code",
   "execution_count": 54,
   "metadata": {
    "collapsed": false
   },
   "outputs": [
    {
     "data": {
      "text/plain": [
       "2002"
      ]
     },
     "execution_count": 54,
     "metadata": {},
     "output_type": "execute_result"
    }
   ],
   "source": [
    "products['awesome'].sum()"
   ]
  },
  {
   "cell_type": "code",
   "execution_count": 55,
   "metadata": {
    "collapsed": true
   },
   "outputs": [],
   "source": [
    "for word in selected_words:\n",
    "    products[word].sum()"
   ]
  },
  {
   "cell_type": "code",
   "execution_count": 56,
   "metadata": {
    "collapsed": true
   },
   "outputs": [],
   "source": [
    "a = {}\n",
    "for word in selected_words:\n",
    "    a[word] = products[word].sum()"
   ]
  },
  {
   "cell_type": "code",
   "execution_count": 57,
   "metadata": {
    "collapsed": false
   },
   "outputs": [
    {
     "data": {
      "text/plain": [
       "{'accuracy': 0.916256305548883,\n",
       " 'auc': 0.9446492867438502,\n",
       " 'confusion_matrix': Columns:\n",
       " \ttarget_label\tint\n",
       " \tpredicted_label\tint\n",
       " \tcount\tint\n",
       " \n",
       " Rows: 4\n",
       " \n",
       " Data:\n",
       " +--------------+-----------------+-------+\n",
       " | target_label | predicted_label | count |\n",
       " +--------------+-----------------+-------+\n",
       " |      0       |        1        |  1328 |\n",
       " |      0       |        0        |  4000 |\n",
       " |      1       |        1        | 26515 |\n",
       " |      1       |        0        |  1461 |\n",
       " +--------------+-----------------+-------+\n",
       " [4 rows x 3 columns],\n",
       " 'f1_score': 0.9500349343413533,\n",
       " 'log_loss': 0.26106698432422204,\n",
       " 'precision': 0.9523039902309378,\n",
       " 'recall': 0.9477766657134686,\n",
       " 'roc_curve': Columns:\n",
       " \tthreshold\tfloat\n",
       " \tfpr\tfloat\n",
       " \ttpr\tfloat\n",
       " \tp\tint\n",
       " \tn\tint\n",
       " \n",
       " Rows: 100001\n",
       " \n",
       " Data:\n",
       " +-----------+----------------+----------------+-------+------+\n",
       " | threshold |      fpr       |      tpr       |   p   |  n   |\n",
       " +-----------+----------------+----------------+-------+------+\n",
       " |    0.0    |      1.0       |      1.0       | 27976 | 5328 |\n",
       " |   1e-05   | 0.909346846847 | 0.998856162425 | 27976 | 5328 |\n",
       " |   2e-05   | 0.896021021021 | 0.998748927652 | 27976 | 5328 |\n",
       " |   3e-05   | 0.886448948949 | 0.998462968259 | 27976 | 5328 |\n",
       " |   4e-05   | 0.879692192192 | 0.998284243637 | 27976 | 5328 |\n",
       " |   5e-05   | 0.875187687688 | 0.998212753789 | 27976 | 5328 |\n",
       " |   6e-05   | 0.872184684685 | 0.998177008865 | 27976 | 5328 |\n",
       " |   7e-05   | 0.868618618619 | 0.998034029168 | 27976 | 5328 |\n",
       " |   8e-05   | 0.864677177177 | 0.997998284244 | 27976 | 5328 |\n",
       " |   9e-05   | 0.860735735736 | 0.997962539319 | 27976 | 5328 |\n",
       " +-----------+----------------+----------------+-------+------+\n",
       " [100001 rows x 5 columns]\n",
       " Note: Only the head of the SFrame is printed.\n",
       " You can use print_rows(num_rows=m, num_columns=n) to print more rows and columns.}"
      ]
     },
     "execution_count": 57,
     "metadata": {},
     "output_type": "execute_result"
    }
   ],
   "source": [
    "sentiment_model.evaluate(test_data)"
   ]
  },
  {
   "cell_type": "code",
   "execution_count": 58,
   "metadata": {
    "collapsed": false
   },
   "outputs": [
    {
     "data": {
      "text/plain": [
       "{'amazing': 1305,\n",
       " 'awesome': 2002,\n",
       " 'awful': 345,\n",
       " 'bad': 3197,\n",
       " 'fantastic': 873,\n",
       " 'great': 42420,\n",
       " 'hate': 1057,\n",
       " 'horrible': 659,\n",
       " 'love': 40277,\n",
       " 'terrible': 673,\n",
       " 'wow': 131}"
      ]
     },
     "execution_count": 58,
     "metadata": {},
     "output_type": "execute_result"
    }
   ],
   "source": [
    "a"
   ]
  },
  {
   "cell_type": "code",
   "execution_count": 59,
   "metadata": {
    "collapsed": false
   },
   "outputs": [
    {
     "name": "stdout",
     "output_type": "stream",
     "text": [
      "Canvas is accessible via web browser at the URL: http://localhost:60891/index.html\n",
      "Opening Canvas in default web browser.\n"
     ]
    }
   ],
   "source": [
    "sentiment_model_se.show()"
   ]
  },
  {
   "cell_type": "code",
   "execution_count": 60,
   "metadata": {
    "collapsed": false
   },
   "outputs": [
    {
     "name": "stdout",
     "output_type": "stream",
     "text": [
      "Canvas is accessible via web browser at the URL: http://localhost:60891/index.html\n",
      "Opening Canvas in default web browser.\n"
     ]
    }
   ],
   "source": [
    "sentiment_model_se.show(view='Evaluation')"
   ]
  },
  {
   "cell_type": "code",
   "execution_count": 61,
   "metadata": {
    "collapsed": false
   },
   "outputs": [
    {
     "ename": "TypeError",
     "evalue": "'LogisticClassifier' object is not callable",
     "output_type": "error",
     "traceback": [
      "\u001b[1;31m---------------------------------------------------------------------------\u001b[0m",
      "\u001b[1;31mTypeError\u001b[0m                                 Traceback (most recent call last)",
      "\u001b[1;32m<ipython-input-61-b0381c169909>\u001b[0m in \u001b[0;36m<module>\u001b[1;34m()\u001b[0m\n\u001b[1;32m----> 1\u001b[1;33m \u001b[0msentiment_model_se\u001b[0m\u001b[1;33m(\u001b[0m\u001b[0mtest_data\u001b[0m\u001b[1;33m,\u001b[0m\u001b[0mmetric\u001b[0m\u001b[1;33m=\u001b[0m\u001b[1;34m'roc_curve'\u001b[0m\u001b[1;33m)\u001b[0m\u001b[1;33m\u001b[0m\u001b[0m\n\u001b[0m",
      "\u001b[1;31mTypeError\u001b[0m: 'LogisticClassifier' object is not callable"
     ]
    }
   ],
   "source": [
    "sentiment_model_se(test_data,metric='roc_curve')"
   ]
  },
  {
   "cell_type": "code",
   "execution_count": 62,
   "metadata": {
    "collapsed": false
   },
   "outputs": [
    {
     "data": {
      "text/plain": [
       "{'roc_curve': Columns:\n",
       " \tthreshold\tfloat\n",
       " \tfpr\tfloat\n",
       " \ttpr\tfloat\n",
       " \tp\tint\n",
       " \tn\tint\n",
       " \n",
       " Rows: 100001\n",
       " \n",
       " Data:\n",
       " +-----------+-----+-----+-------+------+\n",
       " | threshold | fpr | tpr |   p   |  n   |\n",
       " +-----------+-----+-----+-------+------+\n",
       " |    0.0    | 1.0 | 1.0 | 27976 | 5328 |\n",
       " |   1e-05   | 1.0 | 1.0 | 27976 | 5328 |\n",
       " |   2e-05   | 1.0 | 1.0 | 27976 | 5328 |\n",
       " |   3e-05   | 1.0 | 1.0 | 27976 | 5328 |\n",
       " |   4e-05   | 1.0 | 1.0 | 27976 | 5328 |\n",
       " |   5e-05   | 1.0 | 1.0 | 27976 | 5328 |\n",
       " |   6e-05   | 1.0 | 1.0 | 27976 | 5328 |\n",
       " |   7e-05   | 1.0 | 1.0 | 27976 | 5328 |\n",
       " |   8e-05   | 1.0 | 1.0 | 27976 | 5328 |\n",
       " |   9e-05   | 1.0 | 1.0 | 27976 | 5328 |\n",
       " +-----------+-----+-----+-------+------+\n",
       " [100001 rows x 5 columns]\n",
       " Note: Only the head of the SFrame is printed.\n",
       " You can use print_rows(num_rows=m, num_columns=n) to print more rows and columns.}"
      ]
     },
     "execution_count": 62,
     "metadata": {},
     "output_type": "execute_result"
    }
   ],
   "source": [
    "sentiment_model_se.evaluate(test_data,metric='roc_curve')"
   ]
  },
  {
   "cell_type": "code",
   "execution_count": 63,
   "metadata": {
    "collapsed": false
   },
   "outputs": [
    {
     "name": "stdout",
     "output_type": "stream",
     "text": [
      "Canvas is accessible via web browser at the URL: http://localhost:60891/index.html\n",
      "Opening Canvas in default web browser.\n"
     ]
    }
   ],
   "source": [
    "sentiment_model_se.show()"
   ]
  },
  {
   "cell_type": "code",
   "execution_count": 64,
   "metadata": {
    "collapsed": true
   },
   "outputs": [],
   "source": [
    "graphlab.canvas.set_target('ipynb')  "
   ]
  },
  {
   "cell_type": "code",
   "execution_count": 65,
   "metadata": {
    "collapsed": false
   },
   "outputs": [
    {
     "data": {
      "application/javascript": [
       "$(\"head\").append($(\"<link/>\").attr({\n",
       "  rel:  \"stylesheet\",\n",
       "  type: \"text/css\",\n",
       "  href: \"//cdnjs.cloudflare.com/ajax/libs/font-awesome/4.1.0/css/font-awesome.min.css\"\n",
       "}));\n",
       "$(\"head\").append($(\"<link/>\").attr({\n",
       "  rel:  \"stylesheet\",\n",
       "  type: \"text/css\",\n",
       "  href: \"https://static.turi.com/products/graphlab-create/2.1/canvas/css/canvas.css\"\n",
       "}));\n",
       "\n",
       "            (function(){\n",
       "\n",
       "                var e = null;\n",
       "                if (typeof element == 'undefined') {\n",
       "                    var scripts = document.getElementsByTagName('script');\n",
       "                    var thisScriptTag = scripts[scripts.length-1];\n",
       "                    var parentDiv = thisScriptTag.parentNode;\n",
       "                    e = document.createElement('div');\n",
       "                    parentDiv.appendChild(e);\n",
       "                } else {\n",
       "                    e = element[0];\n",
       "                }\n",
       "\n",
       "                if (typeof requirejs !== 'undefined') {\n",
       "                    // disable load timeout; ipython_app.js is large and can take a while to load.\n",
       "                    requirejs.config({waitSeconds: 0});\n",
       "                }\n",
       "\n",
       "                require(['https://static.turi.com/products/graphlab-create/2.1/canvas/js/ipython_app.js'], function(IPythonApp){\n",
       "                    var app = new IPythonApp();\n",
       "                    app.attachView('model','Summary', {\"comparison\": null, \"selected_variable\": {\"comparison\": null, \"name\": [\"sentiment_model_se\"], \"view_file\": \"model\", \"view_component\": \"Summary\", \"view_params\": {\"model_type\": \"regression\", \"view\": \"Summary\"}, \"view_components\": [\"Summary\", \"Evaluation\", \"Comparison\"], \"model_type\": \"regression\", \"attributes\": {\"section_titles\": [\"Schema\", \"Hyperparameters\", \"Training Summary\", \"Settings\", \"Highest Positive Coefficients\", \"Lowest Negative Coefficients\"], \"sections\": [[[\"Number of coefficients\", 12], [\"Number of examples\", 133448], [\"Number of classes\", 2], [\"Number of feature columns\", 11], [\"Number of unpacked features\", 11]], [[\"L1 penalty\", 0.0], [\"L2 penalty\", 0.01]], [[\"Solver\", \"newton\"], [\"Solver iterations\", 6], [\"Solver status\", \"SUCCESS: Optimal solution found.\"], [\"Training time (sec)\", 1.784]], [[\"Log-likelihood\", 54057.6401]], [[\"love\", 1.3999], [\"(intercept)\", 1.3673], [\"awesome\", 1.058], [\"amazing\", 0.8928], [\"fantastic\", 0.8913]], [[\"terrible\", -2.0905], [\"horrible\", -1.9965], [\"awful\", -1.7647], [\"hate\", -1.4092], [\"bad\", -0.9858]]]}, \"evaluations\": [[\"test_data\", {\"roc_curve\": [{\"threshold\": 0.0, \"p\": 27976, \"fpr\": 1.0, \"tpr\": 1.0, \"n\": 5328}, {\"threshold\": 0.001, \"p\": 27976, \"fpr\": 0.9998123123123123, \"tpr\": 1.0, \"n\": 5328}, {\"threshold\": 0.002, \"p\": 27976, \"fpr\": 0.9996246246246246, \"tpr\": 1.0, \"n\": 5328}, {\"threshold\": 0.003, \"p\": 27976, \"fpr\": 0.9996246246246246, \"tpr\": 1.0, \"n\": 5328}, {\"threshold\": 0.004, \"p\": 27976, \"fpr\": 0.9994369369369369, \"tpr\": 1.0, \"n\": 5328}, {\"threshold\": 0.005, \"p\": 27976, \"fpr\": 0.9994369369369369, \"tpr\": 1.0, \"n\": 5328}, {\"threshold\": 0.006, \"p\": 27976, \"fpr\": 0.9992492492492493, \"tpr\": 1.0, \"n\": 5328}, {\"threshold\": 0.007, \"p\": 27976, \"fpr\": 0.9992492492492493, \"tpr\": 1.0, \"n\": 5328}, {\"threshold\": 0.008, \"p\": 27976, \"fpr\": 0.9992492492492493, \"tpr\": 1.0, \"n\": 5328}, {\"threshold\": 0.009, \"p\": 27976, \"fpr\": 0.9992492492492493, \"tpr\": 1.0, \"n\": 5328}, {\"threshold\": 0.01, \"p\": 27976, \"fpr\": 0.9990615615615616, \"tpr\": 1.0, \"n\": 5328}, {\"threshold\": 0.011, \"p\": 27976, \"fpr\": 0.9990615615615616, \"tpr\": 1.0, \"n\": 5328}, {\"threshold\": 0.012, \"p\": 27976, \"fpr\": 0.9990615615615616, \"tpr\": 1.0, \"n\": 5328}, {\"threshold\": 0.013, \"p\": 27976, \"fpr\": 0.9990615615615616, \"tpr\": 1.0, \"n\": 5328}, {\"threshold\": 0.014, \"p\": 27976, \"fpr\": 0.9990615615615616, \"tpr\": 1.0, \"n\": 5328}, {\"threshold\": 0.015, \"p\": 27976, \"fpr\": 0.9990615615615616, \"tpr\": 1.0, \"n\": 5328}, {\"threshold\": 0.016, \"p\": 27976, \"fpr\": 0.9990615615615616, \"tpr\": 1.0, \"n\": 5328}, {\"threshold\": 0.017, \"p\": 27976, \"fpr\": 0.9990615615615616, \"tpr\": 1.0, \"n\": 5328}, {\"threshold\": 0.018, \"p\": 27976, \"fpr\": 0.9990615615615616, \"tpr\": 1.0, \"n\": 5328}, {\"threshold\": 0.019, \"p\": 27976, \"fpr\": 0.9990615615615616, \"tpr\": 1.0, \"n\": 5328}, {\"threshold\": 0.02, \"p\": 27976, \"fpr\": 0.9988738738738738, \"tpr\": 1.0, \"n\": 5328}, {\"threshold\": 0.021, \"p\": 27976, \"fpr\": 0.9988738738738738, \"tpr\": 1.0, \"n\": 5328}, {\"threshold\": 0.022, \"p\": 27976, \"fpr\": 0.9988738738738738, \"tpr\": 1.0, \"n\": 5328}, {\"threshold\": 0.023, \"p\": 27976, \"fpr\": 0.9988738738738738, \"tpr\": 1.0, \"n\": 5328}, {\"threshold\": 0.024, \"p\": 27976, \"fpr\": 0.9988738738738738, \"tpr\": 1.0, \"n\": 5328}, {\"threshold\": 0.025, \"p\": 27976, \"fpr\": 0.9988738738738738, \"tpr\": 1.0, \"n\": 5328}, {\"threshold\": 0.026, \"p\": 27976, \"fpr\": 0.9988738738738738, \"tpr\": 1.0, \"n\": 5328}, {\"threshold\": 0.027, \"p\": 27976, \"fpr\": 0.9988738738738738, \"tpr\": 1.0, \"n\": 5328}, {\"threshold\": 0.028, \"p\": 27976, \"fpr\": 0.9988738738738738, \"tpr\": 1.0, \"n\": 5328}, {\"threshold\": 0.029, \"p\": 27976, \"fpr\": 0.9988738738738738, \"tpr\": 1.0, \"n\": 5328}, {\"threshold\": 0.03, \"p\": 27976, \"fpr\": 0.9988738738738738, \"tpr\": 1.0, \"n\": 5328}, {\"threshold\": 0.031, \"p\": 27976, \"fpr\": 0.9986861861861862, \"tpr\": 1.0, \"n\": 5328}, {\"threshold\": 0.032, \"p\": 27976, \"fpr\": 0.9986861861861862, \"tpr\": 1.0, \"n\": 5328}, {\"threshold\": 0.033, \"p\": 27976, \"fpr\": 0.9986861861861862, \"tpr\": 1.0, \"n\": 5328}, {\"threshold\": 0.034, \"p\": 27976, \"fpr\": 0.9986861861861862, \"tpr\": 1.0, \"n\": 5328}, {\"threshold\": 0.035, \"p\": 27976, \"fpr\": 0.9986861861861862, \"tpr\": 1.0, \"n\": 5328}, {\"threshold\": 0.036, \"p\": 27976, \"fpr\": 0.9986861861861862, \"tpr\": 1.0, \"n\": 5328}, {\"threshold\": 0.037, \"p\": 27976, \"fpr\": 0.9986861861861862, \"tpr\": 1.0, \"n\": 5328}, {\"threshold\": 0.038, \"p\": 27976, \"fpr\": 0.9986861861861862, \"tpr\": 1.0, \"n\": 5328}, {\"threshold\": 0.039, \"p\": 27976, \"fpr\": 0.9986861861861862, \"tpr\": 1.0, \"n\": 5328}, {\"threshold\": 0.04, \"p\": 27976, \"fpr\": 0.9986861861861862, \"tpr\": 1.0, \"n\": 5328}, {\"threshold\": 0.041, \"p\": 27976, \"fpr\": 0.9986861861861862, \"tpr\": 1.0, \"n\": 5328}, {\"threshold\": 0.042, \"p\": 27976, \"fpr\": 0.9986861861861862, \"tpr\": 1.0, \"n\": 5328}, {\"threshold\": 0.043, \"p\": 27976, \"fpr\": 0.9986861861861862, \"tpr\": 1.0, \"n\": 5328}, {\"threshold\": 0.044, \"p\": 27976, \"fpr\": 0.9986861861861862, \"tpr\": 1.0, \"n\": 5328}, {\"threshold\": 0.045, \"p\": 27976, \"fpr\": 0.9986861861861862, \"tpr\": 1.0, \"n\": 5328}, {\"threshold\": 0.046, \"p\": 27976, \"fpr\": 0.9986861861861862, \"tpr\": 1.0, \"n\": 5328}, {\"threshold\": 0.047, \"p\": 27976, \"fpr\": 0.9986861861861862, \"tpr\": 1.0, \"n\": 5328}, {\"threshold\": 0.048, \"p\": 27976, \"fpr\": 0.9986861861861862, \"tpr\": 1.0, \"n\": 5328}, {\"threshold\": 0.049, \"p\": 27976, \"fpr\": 0.9986861861861862, \"tpr\": 1.0, \"n\": 5328}, {\"threshold\": 0.05, \"p\": 27976, \"fpr\": 0.9986861861861862, \"tpr\": 1.0, \"n\": 5328}, {\"threshold\": 0.051, \"p\": 27976, \"fpr\": 0.9986861861861862, \"tpr\": 1.0, \"n\": 5328}, {\"threshold\": 0.052, \"p\": 27976, \"fpr\": 0.9986861861861862, \"tpr\": 1.0, \"n\": 5328}, {\"threshold\": 0.053, \"p\": 27976, \"fpr\": 0.9986861861861862, \"tpr\": 1.0, \"n\": 5328}, {\"threshold\": 0.054, \"p\": 27976, \"fpr\": 0.9986861861861862, \"tpr\": 1.0, \"n\": 5328}, {\"threshold\": 0.055, \"p\": 27976, \"fpr\": 0.9986861861861862, \"tpr\": 1.0, \"n\": 5328}, {\"threshold\": 0.056, \"p\": 27976, \"fpr\": 0.9986861861861862, \"tpr\": 1.0, \"n\": 5328}, {\"threshold\": 0.057, \"p\": 27976, \"fpr\": 0.9984984984984985, \"tpr\": 0.9999642550757792, \"n\": 5328}, {\"threshold\": 0.058, \"p\": 27976, \"fpr\": 0.9984984984984985, \"tpr\": 0.9999642550757792, \"n\": 5328}, {\"threshold\": 0.059, \"p\": 27976, \"fpr\": 0.9984984984984985, \"tpr\": 0.9999642550757792, \"n\": 5328}, {\"threshold\": 0.06, \"p\": 27976, \"fpr\": 0.9984984984984985, \"tpr\": 0.9999642550757792, \"n\": 5328}, {\"threshold\": 0.061, \"p\": 27976, \"fpr\": 0.9984984984984985, \"tpr\": 0.9999642550757792, \"n\": 5328}, {\"threshold\": 0.062, \"p\": 27976, \"fpr\": 0.9979354354354354, \"tpr\": 0.9999642550757792, \"n\": 5328}, {\"threshold\": 0.063, \"p\": 27976, \"fpr\": 0.9979354354354354, \"tpr\": 0.9999642550757792, \"n\": 5328}, {\"threshold\": 0.064, \"p\": 27976, \"fpr\": 0.9977477477477478, \"tpr\": 0.9999642550757792, \"n\": 5328}, {\"threshold\": 0.065, \"p\": 27976, \"fpr\": 0.9977477477477478, \"tpr\": 0.9999642550757792, \"n\": 5328}, {\"threshold\": 0.066, \"p\": 27976, \"fpr\": 0.9977477477477478, \"tpr\": 0.9999642550757792, \"n\": 5328}, {\"threshold\": 0.067, \"p\": 27976, \"fpr\": 0.9977477477477478, \"tpr\": 0.9999642550757792, \"n\": 5328}, {\"threshold\": 0.068, \"p\": 27976, \"fpr\": 0.9973723723723724, \"tpr\": 0.9999642550757792, \"n\": 5328}, {\"threshold\": 0.069, \"p\": 27976, \"fpr\": 0.9973723723723724, \"tpr\": 0.9999642550757792, \"n\": 5328}, {\"threshold\": 0.07, \"p\": 27976, \"fpr\": 0.9973723723723724, \"tpr\": 0.9999285101515585, \"n\": 5328}, {\"threshold\": 0.071, \"p\": 27976, \"fpr\": 0.9973723723723724, \"tpr\": 0.9999285101515585, \"n\": 5328}, {\"threshold\": 0.072, \"p\": 27976, \"fpr\": 0.9973723723723724, \"tpr\": 0.9999285101515585, \"n\": 5328}, {\"threshold\": 0.073, \"p\": 27976, \"fpr\": 0.9973723723723724, \"tpr\": 0.9999285101515585, \"n\": 5328}, {\"threshold\": 0.074, \"p\": 27976, \"fpr\": 0.9973723723723724, \"tpr\": 0.9999285101515585, \"n\": 5328}, {\"threshold\": 0.075, \"p\": 27976, \"fpr\": 0.9973723723723724, \"tpr\": 0.9999285101515585, \"n\": 5328}, {\"threshold\": 0.076, \"p\": 27976, \"fpr\": 0.9973723723723724, \"tpr\": 0.9999285101515585, \"n\": 5328}, {\"threshold\": 0.077, \"p\": 27976, \"fpr\": 0.9973723723723724, \"tpr\": 0.9999285101515585, \"n\": 5328}, {\"threshold\": 0.078, \"p\": 27976, \"fpr\": 0.9973723723723724, \"tpr\": 0.9999285101515585, \"n\": 5328}, {\"threshold\": 0.079, \"p\": 27976, \"fpr\": 0.9973723723723724, \"tpr\": 0.9999285101515585, \"n\": 5328}, {\"threshold\": 0.08, \"p\": 27976, \"fpr\": 0.9973723723723724, \"tpr\": 0.9999285101515585, \"n\": 5328}, {\"threshold\": 0.081, \"p\": 27976, \"fpr\": 0.9973723723723724, \"tpr\": 0.9999285101515585, \"n\": 5328}, {\"threshold\": 0.082, \"p\": 27976, \"fpr\": 0.9973723723723724, \"tpr\": 0.9999285101515585, \"n\": 5328}, {\"threshold\": 0.083, \"p\": 27976, \"fpr\": 0.9973723723723724, \"tpr\": 0.9999285101515585, \"n\": 5328}, {\"threshold\": 0.084, \"p\": 27976, \"fpr\": 0.9971846846846847, \"tpr\": 0.9998927652273377, \"n\": 5328}, {\"threshold\": 0.085, \"p\": 27976, \"fpr\": 0.9971846846846847, \"tpr\": 0.9998927652273377, \"n\": 5328}, {\"threshold\": 0.086, \"p\": 27976, \"fpr\": 0.9971846846846847, \"tpr\": 0.9998927652273377, \"n\": 5328}, {\"threshold\": 0.087, \"p\": 27976, \"fpr\": 0.9971846846846847, \"tpr\": 0.9998927652273377, \"n\": 5328}, {\"threshold\": 0.088, \"p\": 27976, \"fpr\": 0.9971846846846847, \"tpr\": 0.9998927652273377, \"n\": 5328}, {\"threshold\": 0.089, \"p\": 27976, \"fpr\": 0.9971846846846847, \"tpr\": 0.9998927652273377, \"n\": 5328}, {\"threshold\": 0.09, \"p\": 27976, \"fpr\": 0.9971846846846847, \"tpr\": 0.9998927652273377, \"n\": 5328}, {\"threshold\": 0.091, \"p\": 27976, \"fpr\": 0.9971846846846847, \"tpr\": 0.9998927652273377, \"n\": 5328}, {\"threshold\": 0.092, \"p\": 27976, \"fpr\": 0.9971846846846847, \"tpr\": 0.9998927652273377, \"n\": 5328}, {\"threshold\": 0.093, \"p\": 27976, \"fpr\": 0.9971846846846847, \"tpr\": 0.9998927652273377, \"n\": 5328}, {\"threshold\": 0.094, \"p\": 27976, \"fpr\": 0.9971846846846847, \"tpr\": 0.9998927652273377, \"n\": 5328}, {\"threshold\": 0.095, \"p\": 27976, \"fpr\": 0.9971846846846847, \"tpr\": 0.9998927652273377, \"n\": 5328}, {\"threshold\": 0.096, \"p\": 27976, \"fpr\": 0.9971846846846847, \"tpr\": 0.9998927652273377, \"n\": 5328}, {\"threshold\": 0.097, \"p\": 27976, \"fpr\": 0.9971846846846847, \"tpr\": 0.9998927652273377, \"n\": 5328}, {\"threshold\": 0.098, \"p\": 27976, \"fpr\": 0.9971846846846847, \"tpr\": 0.9998927652273377, \"n\": 5328}, {\"threshold\": 0.099, \"p\": 27976, \"fpr\": 0.9971846846846847, \"tpr\": 0.9998927652273377, \"n\": 5328}, {\"threshold\": 0.1, \"p\": 27976, \"fpr\": 0.9971846846846847, \"tpr\": 0.9998927652273377, \"n\": 5328}, {\"threshold\": 0.101, \"p\": 27976, \"fpr\": 0.9971846846846847, \"tpr\": 0.9998927652273377, \"n\": 5328}, {\"threshold\": 0.102, \"p\": 27976, \"fpr\": 0.9971846846846847, \"tpr\": 0.9998927652273377, \"n\": 5328}, {\"threshold\": 0.103, \"p\": 27976, \"fpr\": 0.9971846846846847, \"tpr\": 0.9998927652273377, \"n\": 5328}, {\"threshold\": 0.104, \"p\": 27976, \"fpr\": 0.9971846846846847, \"tpr\": 0.9998927652273377, \"n\": 5328}, {\"threshold\": 0.105, \"p\": 27976, \"fpr\": 0.9971846846846847, \"tpr\": 0.9998927652273377, \"n\": 5328}, {\"threshold\": 0.106, \"p\": 27976, \"fpr\": 0.9971846846846847, \"tpr\": 0.9998927652273377, \"n\": 5328}, {\"threshold\": 0.107, \"p\": 27976, \"fpr\": 0.9971846846846847, \"tpr\": 0.9998927652273377, \"n\": 5328}, {\"threshold\": 0.108, \"p\": 27976, \"fpr\": 0.9971846846846847, \"tpr\": 0.9998927652273377, \"n\": 5328}, {\"threshold\": 0.109, \"p\": 27976, \"fpr\": 0.9971846846846847, \"tpr\": 0.9998927652273377, \"n\": 5328}, {\"threshold\": 0.11, \"p\": 27976, \"fpr\": 0.9971846846846847, \"tpr\": 0.9998927652273377, \"n\": 5328}, {\"threshold\": 0.111, \"p\": 27976, \"fpr\": 0.9971846846846847, \"tpr\": 0.9998927652273377, \"n\": 5328}, {\"threshold\": 0.112, \"p\": 27976, \"fpr\": 0.9971846846846847, \"tpr\": 0.9998927652273377, \"n\": 5328}, {\"threshold\": 0.113, \"p\": 27976, \"fpr\": 0.9971846846846847, \"tpr\": 0.9998927652273377, \"n\": 5328}, {\"threshold\": 0.114, \"p\": 27976, \"fpr\": 0.9971846846846847, \"tpr\": 0.9998927652273377, \"n\": 5328}, {\"threshold\": 0.115, \"p\": 27976, \"fpr\": 0.9971846846846847, \"tpr\": 0.9998927652273377, \"n\": 5328}, {\"threshold\": 0.116, \"p\": 27976, \"fpr\": 0.9971846846846847, \"tpr\": 0.9998927652273377, \"n\": 5328}, {\"threshold\": 0.117, \"p\": 27976, \"fpr\": 0.9971846846846847, \"tpr\": 0.9998927652273377, \"n\": 5328}, {\"threshold\": 0.118, \"p\": 27976, \"fpr\": 0.9971846846846847, \"tpr\": 0.9998927652273377, \"n\": 5328}, {\"threshold\": 0.119, \"p\": 27976, \"fpr\": 0.9971846846846847, \"tpr\": 0.9998927652273377, \"n\": 5328}, {\"threshold\": 0.12, \"p\": 27976, \"fpr\": 0.9971846846846847, \"tpr\": 0.9998927652273377, \"n\": 5328}, {\"threshold\": 0.121, \"p\": 27976, \"fpr\": 0.9971846846846847, \"tpr\": 0.9998927652273377, \"n\": 5328}, {\"threshold\": 0.122, \"p\": 27976, \"fpr\": 0.9971846846846847, \"tpr\": 0.9998927652273377, \"n\": 5328}, {\"threshold\": 0.123, \"p\": 27976, \"fpr\": 0.9971846846846847, \"tpr\": 0.9998927652273377, \"n\": 5328}, {\"threshold\": 0.124, \"p\": 27976, \"fpr\": 0.9971846846846847, \"tpr\": 0.9998927652273377, \"n\": 5328}, {\"threshold\": 0.125, \"p\": 27976, \"fpr\": 0.9971846846846847, \"tpr\": 0.9998927652273377, \"n\": 5328}, {\"threshold\": 0.126, \"p\": 27976, \"fpr\": 0.9971846846846847, \"tpr\": 0.9998927652273377, \"n\": 5328}, {\"threshold\": 0.127, \"p\": 27976, \"fpr\": 0.9971846846846847, \"tpr\": 0.9998927652273377, \"n\": 5328}, {\"threshold\": 0.128, \"p\": 27976, \"fpr\": 0.9971846846846847, \"tpr\": 0.9998927652273377, \"n\": 5328}, {\"threshold\": 0.129, \"p\": 27976, \"fpr\": 0.9971846846846847, \"tpr\": 0.9998927652273377, \"n\": 5328}, {\"threshold\": 0.13, \"p\": 27976, \"fpr\": 0.9971846846846847, \"tpr\": 0.9998927652273377, \"n\": 5328}, {\"threshold\": 0.131, \"p\": 27976, \"fpr\": 0.9971846846846847, \"tpr\": 0.9998927652273377, \"n\": 5328}, {\"threshold\": 0.132, \"p\": 27976, \"fpr\": 0.9971846846846847, \"tpr\": 0.9998927652273377, \"n\": 5328}, {\"threshold\": 0.133, \"p\": 27976, \"fpr\": 0.9971846846846847, \"tpr\": 0.9998927652273377, \"n\": 5328}, {\"threshold\": 0.134, \"p\": 27976, \"fpr\": 0.9971846846846847, \"tpr\": 0.9998927652273377, \"n\": 5328}, {\"threshold\": 0.135, \"p\": 27976, \"fpr\": 0.9971846846846847, \"tpr\": 0.9998927652273377, \"n\": 5328}, {\"threshold\": 0.136, \"p\": 27976, \"fpr\": 0.9971846846846847, \"tpr\": 0.9998927652273377, \"n\": 5328}, {\"threshold\": 0.137, \"p\": 27976, \"fpr\": 0.9971846846846847, \"tpr\": 0.9998927652273377, \"n\": 5328}, {\"threshold\": 0.138, \"p\": 27976, \"fpr\": 0.9971846846846847, \"tpr\": 0.9998927652273377, \"n\": 5328}, {\"threshold\": 0.139, \"p\": 27976, \"fpr\": 0.9971846846846847, \"tpr\": 0.9998927652273377, \"n\": 5328}, {\"threshold\": 0.14, \"p\": 27976, \"fpr\": 0.9971846846846847, \"tpr\": 0.9998927652273377, \"n\": 5328}, {\"threshold\": 0.141, \"p\": 27976, \"fpr\": 0.9971846846846847, \"tpr\": 0.9998927652273377, \"n\": 5328}, {\"threshold\": 0.142, \"p\": 27976, \"fpr\": 0.996996996996997, \"tpr\": 0.9998927652273377, \"n\": 5328}, {\"threshold\": 0.143, \"p\": 27976, \"fpr\": 0.996996996996997, \"tpr\": 0.9998927652273377, \"n\": 5328}, {\"threshold\": 0.144, \"p\": 27976, \"fpr\": 0.996996996996997, \"tpr\": 0.9998927652273377, \"n\": 5328}, {\"threshold\": 0.145, \"p\": 27976, \"fpr\": 0.996996996996997, \"tpr\": 0.9998927652273377, \"n\": 5328}, {\"threshold\": 0.146, \"p\": 27976, \"fpr\": 0.996996996996997, \"tpr\": 0.9998927652273377, \"n\": 5328}, {\"threshold\": 0.147, \"p\": 27976, \"fpr\": 0.996996996996997, \"tpr\": 0.9998927652273377, \"n\": 5328}, {\"threshold\": 0.148, \"p\": 27976, \"fpr\": 0.996996996996997, \"tpr\": 0.9998927652273377, \"n\": 5328}, {\"threshold\": 0.149, \"p\": 27976, \"fpr\": 0.996996996996997, \"tpr\": 0.9998927652273377, \"n\": 5328}, {\"threshold\": 0.15, \"p\": 27976, \"fpr\": 0.996996996996997, \"tpr\": 0.9998927652273377, \"n\": 5328}, {\"threshold\": 0.151, \"p\": 27976, \"fpr\": 0.996996996996997, \"tpr\": 0.9998927652273377, \"n\": 5328}, {\"threshold\": 0.152, \"p\": 27976, \"fpr\": 0.996996996996997, \"tpr\": 0.9998927652273377, \"n\": 5328}, {\"threshold\": 0.153, \"p\": 27976, \"fpr\": 0.996996996996997, \"tpr\": 0.9998927652273377, \"n\": 5328}, {\"threshold\": 0.154, \"p\": 27976, \"fpr\": 0.996433933933934, \"tpr\": 0.999857020303117, \"n\": 5328}, {\"threshold\": 0.155, \"p\": 27976, \"fpr\": 0.996433933933934, \"tpr\": 0.999857020303117, \"n\": 5328}, {\"threshold\": 0.156, \"p\": 27976, \"fpr\": 0.996433933933934, \"tpr\": 0.999857020303117, \"n\": 5328}, {\"threshold\": 0.157, \"p\": 27976, \"fpr\": 0.996433933933934, \"tpr\": 0.999857020303117, \"n\": 5328}, {\"threshold\": 0.158, \"p\": 27976, \"fpr\": 0.996433933933934, \"tpr\": 0.999857020303117, \"n\": 5328}, {\"threshold\": 0.159, \"p\": 27976, \"fpr\": 0.996433933933934, \"tpr\": 0.999857020303117, \"n\": 5328}, {\"threshold\": 0.16, \"p\": 27976, \"fpr\": 0.996433933933934, \"tpr\": 0.999857020303117, \"n\": 5328}, {\"threshold\": 0.161, \"p\": 27976, \"fpr\": 0.996433933933934, \"tpr\": 0.999857020303117, \"n\": 5328}, {\"threshold\": 0.162, \"p\": 27976, \"fpr\": 0.996433933933934, \"tpr\": 0.999857020303117, \"n\": 5328}, {\"threshold\": 0.163, \"p\": 27976, \"fpr\": 0.996433933933934, \"tpr\": 0.999857020303117, \"n\": 5328}, {\"threshold\": 0.164, \"p\": 27976, \"fpr\": 0.996433933933934, \"tpr\": 0.999857020303117, \"n\": 5328}, {\"threshold\": 0.165, \"p\": 27976, \"fpr\": 0.996433933933934, \"tpr\": 0.999857020303117, \"n\": 5328}, {\"threshold\": 0.166, \"p\": 27976, \"fpr\": 0.9958708708708709, \"tpr\": 0.999857020303117, \"n\": 5328}, {\"threshold\": 0.167, \"p\": 27976, \"fpr\": 0.9958708708708709, \"tpr\": 0.999857020303117, \"n\": 5328}, {\"threshold\": 0.168, \"p\": 27976, \"fpr\": 0.9958708708708709, \"tpr\": 0.999857020303117, \"n\": 5328}, {\"threshold\": 0.169, \"p\": 27976, \"fpr\": 0.9958708708708709, \"tpr\": 0.999857020303117, \"n\": 5328}, {\"threshold\": 0.17, \"p\": 27976, \"fpr\": 0.9958708708708709, \"tpr\": 0.999857020303117, \"n\": 5328}, {\"threshold\": 0.171, \"p\": 27976, \"fpr\": 0.9958708708708709, \"tpr\": 0.999857020303117, \"n\": 5328}, {\"threshold\": 0.172, \"p\": 27976, \"fpr\": 0.9958708708708709, \"tpr\": 0.999857020303117, \"n\": 5328}, {\"threshold\": 0.173, \"p\": 27976, \"fpr\": 0.9958708708708709, \"tpr\": 0.999857020303117, \"n\": 5328}, {\"threshold\": 0.174, \"p\": 27976, \"fpr\": 0.9958708708708709, \"tpr\": 0.999857020303117, \"n\": 5328}, {\"threshold\": 0.175, \"p\": 27976, \"fpr\": 0.9958708708708709, \"tpr\": 0.999857020303117, \"n\": 5328}, {\"threshold\": 0.176, \"p\": 27976, \"fpr\": 0.9958708708708709, \"tpr\": 0.999857020303117, \"n\": 5328}, {\"threshold\": 0.177, \"p\": 27976, \"fpr\": 0.9958708708708709, \"tpr\": 0.999857020303117, \"n\": 5328}, {\"threshold\": 0.178, \"p\": 27976, \"fpr\": 0.9958708708708709, \"tpr\": 0.999857020303117, \"n\": 5328}, {\"threshold\": 0.179, \"p\": 27976, \"fpr\": 0.9958708708708709, \"tpr\": 0.999857020303117, \"n\": 5328}, {\"threshold\": 0.18, \"p\": 27976, \"fpr\": 0.9958708708708709, \"tpr\": 0.999857020303117, \"n\": 5328}, {\"threshold\": 0.181, \"p\": 27976, \"fpr\": 0.9958708708708709, \"tpr\": 0.999857020303117, \"n\": 5328}, {\"threshold\": 0.182, \"p\": 27976, \"fpr\": 0.9958708708708709, \"tpr\": 0.999857020303117, \"n\": 5328}, {\"threshold\": 0.183, \"p\": 27976, \"fpr\": 0.9958708708708709, \"tpr\": 0.999857020303117, \"n\": 5328}, {\"threshold\": 0.184, \"p\": 27976, \"fpr\": 0.9958708708708709, \"tpr\": 0.999857020303117, \"n\": 5328}, {\"threshold\": 0.185, \"p\": 27976, \"fpr\": 0.9958708708708709, \"tpr\": 0.999857020303117, \"n\": 5328}, {\"threshold\": 0.186, \"p\": 27976, \"fpr\": 0.9958708708708709, \"tpr\": 0.999857020303117, \"n\": 5328}, {\"threshold\": 0.187, \"p\": 27976, \"fpr\": 0.9958708708708709, \"tpr\": 0.999857020303117, \"n\": 5328}, {\"threshold\": 0.188, \"p\": 27976, \"fpr\": 0.9958708708708709, \"tpr\": 0.999857020303117, \"n\": 5328}, {\"threshold\": 0.189, \"p\": 27976, \"fpr\": 0.9958708708708709, \"tpr\": 0.999857020303117, \"n\": 5328}, {\"threshold\": 0.19, \"p\": 27976, \"fpr\": 0.9949324324324325, \"tpr\": 0.9998212753788962, \"n\": 5328}, {\"threshold\": 0.191, \"p\": 27976, \"fpr\": 0.9949324324324325, \"tpr\": 0.9998212753788962, \"n\": 5328}, {\"threshold\": 0.192, \"p\": 27976, \"fpr\": 0.9949324324324325, \"tpr\": 0.9998212753788962, \"n\": 5328}, {\"threshold\": 0.193, \"p\": 27976, \"fpr\": 0.9949324324324325, \"tpr\": 0.9998212753788962, \"n\": 5328}, {\"threshold\": 0.194, \"p\": 27976, \"fpr\": 0.9949324324324325, \"tpr\": 0.9998212753788962, \"n\": 5328}, {\"threshold\": 0.195, \"p\": 27976, \"fpr\": 0.9949324324324325, \"tpr\": 0.9998212753788962, \"n\": 5328}, {\"threshold\": 0.196, \"p\": 27976, \"fpr\": 0.9949324324324325, \"tpr\": 0.9997855304546754, \"n\": 5328}, {\"threshold\": 0.197, \"p\": 27976, \"fpr\": 0.9949324324324325, \"tpr\": 0.9997855304546754, \"n\": 5328}, {\"threshold\": 0.198, \"p\": 27976, \"fpr\": 0.9949324324324325, \"tpr\": 0.9997855304546754, \"n\": 5328}, {\"threshold\": 0.199, \"p\": 27976, \"fpr\": 0.9949324324324325, \"tpr\": 0.9997855304546754, \"n\": 5328}, {\"threshold\": 0.2, \"p\": 27976, \"fpr\": 0.9949324324324325, \"tpr\": 0.9997855304546754, \"n\": 5328}, {\"threshold\": 0.201, \"p\": 27976, \"fpr\": 0.9945570570570571, \"tpr\": 0.9997497855304547, \"n\": 5328}, {\"threshold\": 0.202, \"p\": 27976, \"fpr\": 0.9945570570570571, \"tpr\": 0.9997497855304547, \"n\": 5328}, {\"threshold\": 0.203, \"p\": 27976, \"fpr\": 0.9945570570570571, \"tpr\": 0.9997497855304547, \"n\": 5328}, {\"threshold\": 0.204, \"p\": 27976, \"fpr\": 0.9945570570570571, \"tpr\": 0.9997497855304547, \"n\": 5328}, {\"threshold\": 0.205, \"p\": 27976, \"fpr\": 0.9945570570570571, \"tpr\": 0.9997497855304547, \"n\": 5328}, {\"threshold\": 0.206, \"p\": 27976, \"fpr\": 0.9945570570570571, \"tpr\": 0.9997497855304547, \"n\": 5328}, {\"threshold\": 0.207, \"p\": 27976, \"fpr\": 0.9945570570570571, \"tpr\": 0.9997497855304547, \"n\": 5328}, {\"threshold\": 0.208, \"p\": 27976, \"fpr\": 0.9945570570570571, \"tpr\": 0.9997497855304547, \"n\": 5328}, {\"threshold\": 0.209, \"p\": 27976, \"fpr\": 0.9945570570570571, \"tpr\": 0.9997497855304547, \"n\": 5328}, {\"threshold\": 0.21, \"p\": 27976, \"fpr\": 0.9945570570570571, \"tpr\": 0.9997497855304547, \"n\": 5328}, {\"threshold\": 0.211, \"p\": 27976, \"fpr\": 0.9945570570570571, \"tpr\": 0.9997140406062339, \"n\": 5328}, {\"threshold\": 0.212, \"p\": 27976, \"fpr\": 0.9945570570570571, \"tpr\": 0.9997140406062339, \"n\": 5328}, {\"threshold\": 0.213, \"p\": 27976, \"fpr\": 0.9945570570570571, \"tpr\": 0.9997140406062339, \"n\": 5328}, {\"threshold\": 0.214, \"p\": 27976, \"fpr\": 0.9945570570570571, \"tpr\": 0.9997140406062339, \"n\": 5328}, {\"threshold\": 0.215, \"p\": 27976, \"fpr\": 0.9945570570570571, \"tpr\": 0.9997140406062339, \"n\": 5328}, {\"threshold\": 0.216, \"p\": 27976, \"fpr\": 0.9945570570570571, \"tpr\": 0.9997140406062339, \"n\": 5328}, {\"threshold\": 0.217, \"p\": 27976, \"fpr\": 0.9945570570570571, \"tpr\": 0.9997140406062339, \"n\": 5328}, {\"threshold\": 0.218, \"p\": 27976, \"fpr\": 0.9945570570570571, \"tpr\": 0.9996782956820132, \"n\": 5328}, {\"threshold\": 0.219, \"p\": 27976, \"fpr\": 0.9945570570570571, \"tpr\": 0.9996782956820132, \"n\": 5328}, {\"threshold\": 0.22, \"p\": 27976, \"fpr\": 0.9945570570570571, \"tpr\": 0.9996425507577924, \"n\": 5328}, {\"threshold\": 0.221, \"p\": 27976, \"fpr\": 0.9945570570570571, \"tpr\": 0.9996425507577924, \"n\": 5328}, {\"threshold\": 0.222, \"p\": 27976, \"fpr\": 0.9945570570570571, \"tpr\": 0.9996425507577924, \"n\": 5328}, {\"threshold\": 0.223, \"p\": 27976, \"fpr\": 0.9945570570570571, \"tpr\": 0.9996425507577924, \"n\": 5328}, {\"threshold\": 0.224, \"p\": 27976, \"fpr\": 0.9945570570570571, \"tpr\": 0.9996425507577924, \"n\": 5328}, {\"threshold\": 0.225, \"p\": 27976, \"fpr\": 0.9945570570570571, \"tpr\": 0.9996425507577924, \"n\": 5328}, {\"threshold\": 0.226, \"p\": 27976, \"fpr\": 0.9945570570570571, \"tpr\": 0.9996425507577924, \"n\": 5328}, {\"threshold\": 0.227, \"p\": 27976, \"fpr\": 0.9945570570570571, \"tpr\": 0.9996425507577924, \"n\": 5328}, {\"threshold\": 0.228, \"p\": 27976, \"fpr\": 0.9945570570570571, \"tpr\": 0.9996425507577924, \"n\": 5328}, {\"threshold\": 0.229, \"p\": 27976, \"fpr\": 0.9945570570570571, \"tpr\": 0.9996425507577924, \"n\": 5328}, {\"threshold\": 0.23, \"p\": 27976, \"fpr\": 0.9945570570570571, \"tpr\": 0.9996425507577924, \"n\": 5328}, {\"threshold\": 0.231, \"p\": 27976, \"fpr\": 0.9945570570570571, \"tpr\": 0.9996425507577924, \"n\": 5328}, {\"threshold\": 0.232, \"p\": 27976, \"fpr\": 0.9945570570570571, \"tpr\": 0.9996425507577924, \"n\": 5328}, {\"threshold\": 0.233, \"p\": 27976, \"fpr\": 0.9945570570570571, \"tpr\": 0.9996425507577924, \"n\": 5328}, {\"threshold\": 0.234, \"p\": 27976, \"fpr\": 0.9945570570570571, \"tpr\": 0.9996425507577924, \"n\": 5328}, {\"threshold\": 0.235, \"p\": 27976, \"fpr\": 0.9945570570570571, \"tpr\": 0.9996425507577924, \"n\": 5328}, {\"threshold\": 0.236, \"p\": 27976, \"fpr\": 0.9945570570570571, \"tpr\": 0.9996425507577924, \"n\": 5328}, {\"threshold\": 0.237, \"p\": 27976, \"fpr\": 0.9945570570570571, \"tpr\": 0.9996425507577924, \"n\": 5328}, {\"threshold\": 0.238, \"p\": 27976, \"fpr\": 0.9945570570570571, \"tpr\": 0.9996425507577924, \"n\": 5328}, {\"threshold\": 0.239, \"p\": 27976, \"fpr\": 0.9945570570570571, \"tpr\": 0.9996425507577924, \"n\": 5328}, {\"threshold\": 0.24, \"p\": 27976, \"fpr\": 0.9945570570570571, \"tpr\": 0.9996425507577924, \"n\": 5328}, {\"threshold\": 0.241, \"p\": 27976, \"fpr\": 0.9945570570570571, \"tpr\": 0.9996425507577924, \"n\": 5328}, {\"threshold\": 0.242, \"p\": 27976, \"fpr\": 0.9945570570570571, \"tpr\": 0.9996425507577924, \"n\": 5328}, {\"threshold\": 0.243, \"p\": 27976, \"fpr\": 0.9945570570570571, \"tpr\": 0.9996425507577924, \"n\": 5328}, {\"threshold\": 0.244, \"p\": 27976, \"fpr\": 0.9945570570570571, \"tpr\": 0.9996425507577924, \"n\": 5328}, {\"threshold\": 0.245, \"p\": 27976, \"fpr\": 0.9945570570570571, \"tpr\": 0.9996425507577924, \"n\": 5328}, {\"threshold\": 0.246, \"p\": 27976, \"fpr\": 0.9945570570570571, \"tpr\": 0.9996425507577924, \"n\": 5328}, {\"threshold\": 0.247, \"p\": 27976, \"fpr\": 0.9945570570570571, \"tpr\": 0.9996425507577924, \"n\": 5328}, {\"threshold\": 0.248, \"p\": 27976, \"fpr\": 0.9945570570570571, \"tpr\": 0.9996425507577924, \"n\": 5328}, {\"threshold\": 0.249, \"p\": 27976, \"fpr\": 0.9945570570570571, \"tpr\": 0.9996425507577924, \"n\": 5328}, {\"threshold\": 0.25, \"p\": 27976, \"fpr\": 0.9945570570570571, \"tpr\": 0.9996425507577924, \"n\": 5328}, {\"threshold\": 0.251, \"p\": 27976, \"fpr\": 0.9945570570570571, \"tpr\": 0.9996425507577924, \"n\": 5328}, {\"threshold\": 0.252, \"p\": 27976, \"fpr\": 0.9945570570570571, \"tpr\": 0.9996425507577924, \"n\": 5328}, {\"threshold\": 0.253, \"p\": 27976, \"fpr\": 0.9945570570570571, \"tpr\": 0.9996425507577924, \"n\": 5328}, {\"threshold\": 0.254, \"p\": 27976, \"fpr\": 0.9945570570570571, \"tpr\": 0.9996425507577924, \"n\": 5328}, {\"threshold\": 0.255, \"p\": 27976, \"fpr\": 0.9945570570570571, \"tpr\": 0.9996425507577924, \"n\": 5328}, {\"threshold\": 0.256, \"p\": 27976, \"fpr\": 0.9945570570570571, \"tpr\": 0.9996425507577924, \"n\": 5328}, {\"threshold\": 0.257, \"p\": 27976, \"fpr\": 0.9945570570570571, \"tpr\": 0.9996425507577924, \"n\": 5328}, {\"threshold\": 0.258, \"p\": 27976, \"fpr\": 0.9945570570570571, \"tpr\": 0.9996425507577924, \"n\": 5328}, {\"threshold\": 0.259, \"p\": 27976, \"fpr\": 0.9945570570570571, \"tpr\": 0.9996425507577924, \"n\": 5328}, {\"threshold\": 0.26, \"p\": 27976, \"fpr\": 0.9945570570570571, \"tpr\": 0.9996425507577924, \"n\": 5328}, {\"threshold\": 0.261, \"p\": 27976, \"fpr\": 0.9945570570570571, \"tpr\": 0.9996425507577924, \"n\": 5328}, {\"threshold\": 0.262, \"p\": 27976, \"fpr\": 0.9945570570570571, \"tpr\": 0.9996425507577924, \"n\": 5328}, {\"threshold\": 0.263, \"p\": 27976, \"fpr\": 0.9945570570570571, \"tpr\": 0.9996425507577924, \"n\": 5328}, {\"threshold\": 0.264, \"p\": 27976, \"fpr\": 0.9938063063063063, \"tpr\": 0.9996068058335716, \"n\": 5328}, {\"threshold\": 0.265, \"p\": 27976, \"fpr\": 0.9938063063063063, \"tpr\": 0.9996068058335716, \"n\": 5328}, {\"threshold\": 0.266, \"p\": 27976, \"fpr\": 0.9938063063063063, \"tpr\": 0.9996068058335716, \"n\": 5328}, {\"threshold\": 0.267, \"p\": 27976, \"fpr\": 0.9938063063063063, \"tpr\": 0.9996068058335716, \"n\": 5328}, {\"threshold\": 0.268, \"p\": 27976, \"fpr\": 0.9938063063063063, \"tpr\": 0.9996068058335716, \"n\": 5328}, {\"threshold\": 0.269, \"p\": 27976, \"fpr\": 0.9938063063063063, \"tpr\": 0.9996068058335716, \"n\": 5328}, {\"threshold\": 0.27, \"p\": 27976, \"fpr\": 0.9938063063063063, \"tpr\": 0.9996068058335716, \"n\": 5328}, {\"threshold\": 0.271, \"p\": 27976, \"fpr\": 0.9938063063063063, \"tpr\": 0.9996068058335716, \"n\": 5328}, {\"threshold\": 0.272, \"p\": 27976, \"fpr\": 0.9938063063063063, \"tpr\": 0.9996068058335716, \"n\": 5328}, {\"threshold\": 0.273, \"p\": 27976, \"fpr\": 0.9938063063063063, \"tpr\": 0.9996068058335716, \"n\": 5328}, {\"threshold\": 0.274, \"p\": 27976, \"fpr\": 0.9938063063063063, \"tpr\": 0.9996068058335716, \"n\": 5328}, {\"threshold\": 0.275, \"p\": 27976, \"fpr\": 0.9938063063063063, \"tpr\": 0.9996068058335716, \"n\": 5328}, {\"threshold\": 0.276, \"p\": 27976, \"fpr\": 0.9938063063063063, \"tpr\": 0.9996068058335716, \"n\": 5328}, {\"threshold\": 0.277, \"p\": 27976, \"fpr\": 0.9938063063063063, \"tpr\": 0.9996068058335716, \"n\": 5328}, {\"threshold\": 0.278, \"p\": 27976, \"fpr\": 0.9938063063063063, \"tpr\": 0.9996068058335716, \"n\": 5328}, {\"threshold\": 0.279, \"p\": 27976, \"fpr\": 0.9938063063063063, \"tpr\": 0.9996068058335716, \"n\": 5328}, {\"threshold\": 0.28, \"p\": 27976, \"fpr\": 0.9938063063063063, \"tpr\": 0.9996068058335716, \"n\": 5328}, {\"threshold\": 0.281, \"p\": 27976, \"fpr\": 0.9938063063063063, \"tpr\": 0.9996068058335716, \"n\": 5328}, {\"threshold\": 0.282, \"p\": 27976, \"fpr\": 0.9938063063063063, \"tpr\": 0.9996068058335716, \"n\": 5328}, {\"threshold\": 0.283, \"p\": 27976, \"fpr\": 0.9938063063063063, \"tpr\": 0.9996068058335716, \"n\": 5328}, {\"threshold\": 0.284, \"p\": 27976, \"fpr\": 0.9938063063063063, \"tpr\": 0.9996068058335716, \"n\": 5328}, {\"threshold\": 0.285, \"p\": 27976, \"fpr\": 0.9938063063063063, \"tpr\": 0.9996068058335716, \"n\": 5328}, {\"threshold\": 0.286, \"p\": 27976, \"fpr\": 0.9938063063063063, \"tpr\": 0.9996068058335716, \"n\": 5328}, {\"threshold\": 0.287, \"p\": 27976, \"fpr\": 0.9938063063063063, \"tpr\": 0.9996068058335716, \"n\": 5328}, {\"threshold\": 0.288, \"p\": 27976, \"fpr\": 0.9938063063063063, \"tpr\": 0.9996068058335716, \"n\": 5328}, {\"threshold\": 0.289, \"p\": 27976, \"fpr\": 0.9938063063063063, \"tpr\": 0.9996068058335716, \"n\": 5328}, {\"threshold\": 0.29, \"p\": 27976, \"fpr\": 0.9938063063063063, \"tpr\": 0.9996068058335716, \"n\": 5328}, {\"threshold\": 0.291, \"p\": 27976, \"fpr\": 0.9938063063063063, \"tpr\": 0.9996068058335716, \"n\": 5328}, {\"threshold\": 0.292, \"p\": 27976, \"fpr\": 0.9938063063063063, \"tpr\": 0.9996068058335716, \"n\": 5328}, {\"threshold\": 0.293, \"p\": 27976, \"fpr\": 0.9938063063063063, \"tpr\": 0.9996068058335716, \"n\": 5328}, {\"threshold\": 0.294, \"p\": 27976, \"fpr\": 0.9938063063063063, \"tpr\": 0.9996068058335716, \"n\": 5328}, {\"threshold\": 0.295, \"p\": 27976, \"fpr\": 0.9938063063063063, \"tpr\": 0.9996068058335716, \"n\": 5328}, {\"threshold\": 0.296, \"p\": 27976, \"fpr\": 0.9938063063063063, \"tpr\": 0.9996068058335716, \"n\": 5328}, {\"threshold\": 0.297, \"p\": 27976, \"fpr\": 0.9938063063063063, \"tpr\": 0.9996068058335716, \"n\": 5328}, {\"threshold\": 0.298, \"p\": 27976, \"fpr\": 0.9938063063063063, \"tpr\": 0.9996068058335716, \"n\": 5328}, {\"threshold\": 0.299, \"p\": 27976, \"fpr\": 0.9938063063063063, \"tpr\": 0.9996068058335716, \"n\": 5328}, {\"threshold\": 0.3, \"p\": 27976, \"fpr\": 0.9938063063063063, \"tpr\": 0.9996068058335716, \"n\": 5328}, {\"threshold\": 0.301, \"p\": 27976, \"fpr\": 0.9938063063063063, \"tpr\": 0.9996068058335716, \"n\": 5328}, {\"threshold\": 0.302, \"p\": 27976, \"fpr\": 0.9938063063063063, \"tpr\": 0.9996068058335716, \"n\": 5328}, {\"threshold\": 0.303, \"p\": 27976, \"fpr\": 0.9938063063063063, \"tpr\": 0.9996068058335716, \"n\": 5328}, {\"threshold\": 0.304, \"p\": 27976, \"fpr\": 0.9938063063063063, \"tpr\": 0.9996068058335716, \"n\": 5328}, {\"threshold\": 0.305, \"p\": 27976, \"fpr\": 0.9938063063063063, \"tpr\": 0.9996068058335716, \"n\": 5328}, {\"threshold\": 0.306, \"p\": 27976, \"fpr\": 0.9938063063063063, \"tpr\": 0.9996068058335716, \"n\": 5328}, {\"threshold\": 0.307, \"p\": 27976, \"fpr\": 0.9938063063063063, \"tpr\": 0.9996068058335716, \"n\": 5328}, {\"threshold\": 0.308, \"p\": 27976, \"fpr\": 0.9938063063063063, \"tpr\": 0.9996068058335716, \"n\": 5328}, {\"threshold\": 0.309, \"p\": 27976, \"fpr\": 0.9938063063063063, \"tpr\": 0.9996068058335716, \"n\": 5328}, {\"threshold\": 0.31, \"p\": 27976, \"fpr\": 0.9938063063063063, \"tpr\": 0.9996068058335716, \"n\": 5328}, {\"threshold\": 0.311, \"p\": 27976, \"fpr\": 0.9938063063063063, \"tpr\": 0.9996068058335716, \"n\": 5328}, {\"threshold\": 0.312, \"p\": 27976, \"fpr\": 0.9938063063063063, \"tpr\": 0.9996068058335716, \"n\": 5328}, {\"threshold\": 0.313, \"p\": 27976, \"fpr\": 0.9938063063063063, \"tpr\": 0.9996068058335716, \"n\": 5328}, {\"threshold\": 0.314, \"p\": 27976, \"fpr\": 0.9938063063063063, \"tpr\": 0.9996068058335716, \"n\": 5328}, {\"threshold\": 0.315, \"p\": 27976, \"fpr\": 0.9938063063063063, \"tpr\": 0.9996068058335716, \"n\": 5328}, {\"threshold\": 0.316, \"p\": 27976, \"fpr\": 0.9938063063063063, \"tpr\": 0.9996068058335716, \"n\": 5328}, {\"threshold\": 0.317, \"p\": 27976, \"fpr\": 0.9938063063063063, \"tpr\": 0.9996068058335716, \"n\": 5328}, {\"threshold\": 0.318, \"p\": 27976, \"fpr\": 0.9938063063063063, \"tpr\": 0.9996068058335716, \"n\": 5328}, {\"threshold\": 0.319, \"p\": 27976, \"fpr\": 0.9938063063063063, \"tpr\": 0.9996068058335716, \"n\": 5328}, {\"threshold\": 0.32, \"p\": 27976, \"fpr\": 0.9938063063063063, \"tpr\": 0.9996068058335716, \"n\": 5328}, {\"threshold\": 0.321, \"p\": 27976, \"fpr\": 0.9938063063063063, \"tpr\": 0.9996068058335716, \"n\": 5328}, {\"threshold\": 0.322, \"p\": 27976, \"fpr\": 0.9938063063063063, \"tpr\": 0.9996068058335716, \"n\": 5328}, {\"threshold\": 0.323, \"p\": 27976, \"fpr\": 0.9938063063063063, \"tpr\": 0.9996068058335716, \"n\": 5328}, {\"threshold\": 0.324, \"p\": 27976, \"fpr\": 0.9938063063063063, \"tpr\": 0.9996068058335716, \"n\": 5328}, {\"threshold\": 0.325, \"p\": 27976, \"fpr\": 0.9938063063063063, \"tpr\": 0.9996068058335716, \"n\": 5328}, {\"threshold\": 0.326, \"p\": 27976, \"fpr\": 0.9938063063063063, \"tpr\": 0.9996068058335716, \"n\": 5328}, {\"threshold\": 0.327, \"p\": 27976, \"fpr\": 0.9840465465465466, \"tpr\": 0.9987846725764942, \"n\": 5328}, {\"threshold\": 0.328, \"p\": 27976, \"fpr\": 0.9840465465465466, \"tpr\": 0.9987846725764942, \"n\": 5328}, {\"threshold\": 0.329, \"p\": 27976, \"fpr\": 0.9840465465465466, \"tpr\": 0.9987846725764942, \"n\": 5328}, {\"threshold\": 0.33, \"p\": 27976, \"fpr\": 0.9840465465465466, \"tpr\": 0.9987846725764942, \"n\": 5328}, {\"threshold\": 0.331, \"p\": 27976, \"fpr\": 0.9840465465465466, \"tpr\": 0.9987846725764942, \"n\": 5328}, {\"threshold\": 0.332, \"p\": 27976, \"fpr\": 0.9840465465465466, \"tpr\": 0.9987846725764942, \"n\": 5328}, {\"threshold\": 0.333, \"p\": 27976, \"fpr\": 0.9840465465465466, \"tpr\": 0.9987846725764942, \"n\": 5328}, {\"threshold\": 0.334, \"p\": 27976, \"fpr\": 0.9840465465465466, \"tpr\": 0.9987846725764942, \"n\": 5328}, {\"threshold\": 0.335, \"p\": 27976, \"fpr\": 0.9840465465465466, \"tpr\": 0.9987846725764942, \"n\": 5328}, {\"threshold\": 0.336, \"p\": 27976, \"fpr\": 0.9840465465465466, \"tpr\": 0.9987846725764942, \"n\": 5328}, {\"threshold\": 0.337, \"p\": 27976, \"fpr\": 0.9840465465465466, \"tpr\": 0.9987846725764942, \"n\": 5328}, {\"threshold\": 0.338, \"p\": 27976, \"fpr\": 0.9840465465465466, \"tpr\": 0.9987846725764942, \"n\": 5328}, {\"threshold\": 0.339, \"p\": 27976, \"fpr\": 0.9840465465465466, \"tpr\": 0.9987846725764942, \"n\": 5328}, {\"threshold\": 0.34, \"p\": 27976, \"fpr\": 0.9840465465465466, \"tpr\": 0.9987846725764942, \"n\": 5328}, {\"threshold\": 0.341, \"p\": 27976, \"fpr\": 0.9840465465465466, \"tpr\": 0.9987846725764942, \"n\": 5328}, {\"threshold\": 0.342, \"p\": 27976, \"fpr\": 0.9840465465465466, \"tpr\": 0.9987846725764942, \"n\": 5328}, {\"threshold\": 0.343, \"p\": 27976, \"fpr\": 0.9840465465465466, \"tpr\": 0.9987846725764942, \"n\": 5328}, {\"threshold\": 0.344, \"p\": 27976, \"fpr\": 0.9840465465465466, \"tpr\": 0.9987846725764942, \"n\": 5328}, {\"threshold\": 0.345, \"p\": 27976, \"fpr\": 0.9840465465465466, \"tpr\": 0.9987846725764942, \"n\": 5328}, {\"threshold\": 0.346, \"p\": 27976, \"fpr\": 0.9840465465465466, \"tpr\": 0.9987846725764942, \"n\": 5328}, {\"threshold\": 0.347, \"p\": 27976, \"fpr\": 0.9840465465465466, \"tpr\": 0.9987846725764942, \"n\": 5328}, {\"threshold\": 0.348, \"p\": 27976, \"fpr\": 0.9750375375375375, \"tpr\": 0.998069774092079, \"n\": 5328}, {\"threshold\": 0.349, \"p\": 27976, \"fpr\": 0.9750375375375375, \"tpr\": 0.998069774092079, \"n\": 5328}, {\"threshold\": 0.35, \"p\": 27976, \"fpr\": 0.9750375375375375, \"tpr\": 0.998069774092079, \"n\": 5328}, {\"threshold\": 0.351, \"p\": 27976, \"fpr\": 0.9750375375375375, \"tpr\": 0.998069774092079, \"n\": 5328}, {\"threshold\": 0.352, \"p\": 27976, \"fpr\": 0.9750375375375375, \"tpr\": 0.998069774092079, \"n\": 5328}, {\"threshold\": 0.353, \"p\": 27976, \"fpr\": 0.9750375375375375, \"tpr\": 0.998069774092079, \"n\": 5328}, {\"threshold\": 0.354, \"p\": 27976, \"fpr\": 0.972972972972973, \"tpr\": 0.997748069774092, \"n\": 5328}, {\"threshold\": 0.355, \"p\": 27976, \"fpr\": 0.972972972972973, \"tpr\": 0.997748069774092, \"n\": 5328}, {\"threshold\": 0.356, \"p\": 27976, \"fpr\": 0.972972972972973, \"tpr\": 0.997748069774092, \"n\": 5328}, {\"threshold\": 0.357, \"p\": 27976, \"fpr\": 0.972972972972973, \"tpr\": 0.997748069774092, \"n\": 5328}, {\"threshold\": 0.358, \"p\": 27976, \"fpr\": 0.972972972972973, \"tpr\": 0.997748069774092, \"n\": 5328}, {\"threshold\": 0.359, \"p\": 27976, \"fpr\": 0.972972972972973, \"tpr\": 0.997748069774092, \"n\": 5328}, {\"threshold\": 0.36, \"p\": 27976, \"fpr\": 0.972972972972973, \"tpr\": 0.997748069774092, \"n\": 5328}, {\"threshold\": 0.361, \"p\": 27976, \"fpr\": 0.972972972972973, \"tpr\": 0.997748069774092, \"n\": 5328}, {\"threshold\": 0.362, \"p\": 27976, \"fpr\": 0.9727852852852853, \"tpr\": 0.997748069774092, \"n\": 5328}, {\"threshold\": 0.363, \"p\": 27976, \"fpr\": 0.9727852852852853, \"tpr\": 0.997748069774092, \"n\": 5328}, {\"threshold\": 0.364, \"p\": 27976, \"fpr\": 0.9727852852852853, \"tpr\": 0.997748069774092, \"n\": 5328}, {\"threshold\": 0.365, \"p\": 27976, \"fpr\": 0.9727852852852853, \"tpr\": 0.997748069774092, \"n\": 5328}, {\"threshold\": 0.366, \"p\": 27976, \"fpr\": 0.9727852852852853, \"tpr\": 0.997748069774092, \"n\": 5328}, {\"threshold\": 0.367, \"p\": 27976, \"fpr\": 0.9727852852852853, \"tpr\": 0.997748069774092, \"n\": 5328}, {\"threshold\": 0.368, \"p\": 27976, \"fpr\": 0.9727852852852853, \"tpr\": 0.997748069774092, \"n\": 5328}, {\"threshold\": 0.369, \"p\": 27976, \"fpr\": 0.9727852852852853, \"tpr\": 0.997748069774092, \"n\": 5328}, {\"threshold\": 0.37, \"p\": 27976, \"fpr\": 0.9727852852852853, \"tpr\": 0.997748069774092, \"n\": 5328}, {\"threshold\": 0.371, \"p\": 27976, \"fpr\": 0.9727852852852853, \"tpr\": 0.997748069774092, \"n\": 5328}, {\"threshold\": 0.372, \"p\": 27976, \"fpr\": 0.9727852852852853, \"tpr\": 0.997748069774092, \"n\": 5328}, {\"threshold\": 0.373, \"p\": 27976, \"fpr\": 0.9727852852852853, \"tpr\": 0.997748069774092, \"n\": 5328}, {\"threshold\": 0.374, \"p\": 27976, \"fpr\": 0.9727852852852853, \"tpr\": 0.997748069774092, \"n\": 5328}, {\"threshold\": 0.375, \"p\": 27976, \"fpr\": 0.9727852852852853, \"tpr\": 0.997748069774092, \"n\": 5328}, {\"threshold\": 0.376, \"p\": 27976, \"fpr\": 0.9727852852852853, \"tpr\": 0.997748069774092, \"n\": 5328}, {\"threshold\": 0.377, \"p\": 27976, \"fpr\": 0.9727852852852853, \"tpr\": 0.997748069774092, \"n\": 5328}, {\"threshold\": 0.378, \"p\": 27976, \"fpr\": 0.9727852852852853, \"tpr\": 0.997748069774092, \"n\": 5328}, {\"threshold\": 0.379, \"p\": 27976, \"fpr\": 0.9727852852852853, \"tpr\": 0.997748069774092, \"n\": 5328}, {\"threshold\": 0.38, \"p\": 27976, \"fpr\": 0.9727852852852853, \"tpr\": 0.997748069774092, \"n\": 5328}, {\"threshold\": 0.381, \"p\": 27976, \"fpr\": 0.9727852852852853, \"tpr\": 0.997748069774092, \"n\": 5328}, {\"threshold\": 0.382, \"p\": 27976, \"fpr\": 0.9727852852852853, \"tpr\": 0.997748069774092, \"n\": 5328}, {\"threshold\": 0.383, \"p\": 27976, \"fpr\": 0.9727852852852853, \"tpr\": 0.997748069774092, \"n\": 5328}, {\"threshold\": 0.384, \"p\": 27976, \"fpr\": 0.9727852852852853, \"tpr\": 0.997748069774092, \"n\": 5328}, {\"threshold\": 0.385, \"p\": 27976, \"fpr\": 0.9727852852852853, \"tpr\": 0.997748069774092, \"n\": 5328}, {\"threshold\": 0.386, \"p\": 27976, \"fpr\": 0.9727852852852853, \"tpr\": 0.997748069774092, \"n\": 5328}, {\"threshold\": 0.387, \"p\": 27976, \"fpr\": 0.9727852852852853, \"tpr\": 0.997748069774092, \"n\": 5328}, {\"threshold\": 0.388, \"p\": 27976, \"fpr\": 0.9727852852852853, \"tpr\": 0.997748069774092, \"n\": 5328}, {\"threshold\": 0.389, \"p\": 27976, \"fpr\": 0.9727852852852853, \"tpr\": 0.997748069774092, \"n\": 5328}, {\"threshold\": 0.39, \"p\": 27976, \"fpr\": 0.9727852852852853, \"tpr\": 0.997748069774092, \"n\": 5328}, {\"threshold\": 0.391, \"p\": 27976, \"fpr\": 0.9727852852852853, \"tpr\": 0.997748069774092, \"n\": 5328}, {\"threshold\": 0.392, \"p\": 27976, \"fpr\": 0.9727852852852853, \"tpr\": 0.997748069774092, \"n\": 5328}, {\"threshold\": 0.393, \"p\": 27976, \"fpr\": 0.9727852852852853, \"tpr\": 0.997748069774092, \"n\": 5328}, {\"threshold\": 0.394, \"p\": 27976, \"fpr\": 0.9727852852852853, \"tpr\": 0.997748069774092, \"n\": 5328}, {\"threshold\": 0.395, \"p\": 27976, \"fpr\": 0.9727852852852853, \"tpr\": 0.997748069774092, \"n\": 5328}, {\"threshold\": 0.396, \"p\": 27976, \"fpr\": 0.9727852852852853, \"tpr\": 0.997748069774092, \"n\": 5328}, {\"threshold\": 0.397, \"p\": 27976, \"fpr\": 0.9727852852852853, \"tpr\": 0.997748069774092, \"n\": 5328}, {\"threshold\": 0.398, \"p\": 27976, \"fpr\": 0.9727852852852853, \"tpr\": 0.997748069774092, \"n\": 5328}, {\"threshold\": 0.399, \"p\": 27976, \"fpr\": 0.9727852852852853, \"tpr\": 0.997748069774092, \"n\": 5328}, {\"threshold\": 0.4, \"p\": 27976, \"fpr\": 0.9727852852852853, \"tpr\": 0.997748069774092, \"n\": 5328}, {\"threshold\": 0.401, \"p\": 27976, \"fpr\": 0.9727852852852853, \"tpr\": 0.997748069774092, \"n\": 5328}, {\"threshold\": 0.402, \"p\": 27976, \"fpr\": 0.9680930930930931, \"tpr\": 0.9972476408350014, \"n\": 5328}, {\"threshold\": 0.403, \"p\": 27976, \"fpr\": 0.9680930930930931, \"tpr\": 0.9972476408350014, \"n\": 5328}, {\"threshold\": 0.404, \"p\": 27976, \"fpr\": 0.9680930930930931, \"tpr\": 0.9972476408350014, \"n\": 5328}, {\"threshold\": 0.405, \"p\": 27976, \"fpr\": 0.9680930930930931, \"tpr\": 0.9972476408350014, \"n\": 5328}, {\"threshold\": 0.406, \"p\": 27976, \"fpr\": 0.9680930930930931, \"tpr\": 0.9972476408350014, \"n\": 5328}, {\"threshold\": 0.407, \"p\": 27976, \"fpr\": 0.9680930930930931, \"tpr\": 0.9972476408350014, \"n\": 5328}, {\"threshold\": 0.408, \"p\": 27976, \"fpr\": 0.9680930930930931, \"tpr\": 0.9972476408350014, \"n\": 5328}, {\"threshold\": 0.409, \"p\": 27976, \"fpr\": 0.9680930930930931, \"tpr\": 0.9972476408350014, \"n\": 5328}, {\"threshold\": 0.41, \"p\": 27976, \"fpr\": 0.9680930930930931, \"tpr\": 0.9972476408350014, \"n\": 5328}, {\"threshold\": 0.411, \"p\": 27976, \"fpr\": 0.9680930930930931, \"tpr\": 0.9972476408350014, \"n\": 5328}, {\"threshold\": 0.412, \"p\": 27976, \"fpr\": 0.9680930930930931, \"tpr\": 0.9972476408350014, \"n\": 5328}, {\"threshold\": 0.413, \"p\": 27976, \"fpr\": 0.9680930930930931, \"tpr\": 0.9972476408350014, \"n\": 5328}, {\"threshold\": 0.414, \"p\": 27976, \"fpr\": 0.9680930930930931, \"tpr\": 0.9972476408350014, \"n\": 5328}, {\"threshold\": 0.415, \"p\": 27976, \"fpr\": 0.9680930930930931, \"tpr\": 0.9972476408350014, \"n\": 5328}, {\"threshold\": 0.416, \"p\": 27976, \"fpr\": 0.9680930930930931, \"tpr\": 0.9972476408350014, \"n\": 5328}, {\"threshold\": 0.417, \"p\": 27976, \"fpr\": 0.9680930930930931, \"tpr\": 0.9972476408350014, \"n\": 5328}, {\"threshold\": 0.418, \"p\": 27976, \"fpr\": 0.9680930930930931, \"tpr\": 0.9972476408350014, \"n\": 5328}, {\"threshold\": 0.419, \"p\": 27976, \"fpr\": 0.9680930930930931, \"tpr\": 0.9972476408350014, \"n\": 5328}, {\"threshold\": 0.42, \"p\": 27976, \"fpr\": 0.9680930930930931, \"tpr\": 0.9972476408350014, \"n\": 5328}, {\"threshold\": 0.421, \"p\": 27976, \"fpr\": 0.9680930930930931, \"tpr\": 0.9972476408350014, \"n\": 5328}, {\"threshold\": 0.422, \"p\": 27976, \"fpr\": 0.9680930930930931, \"tpr\": 0.9972476408350014, \"n\": 5328}, {\"threshold\": 0.423, \"p\": 27976, \"fpr\": 0.9680930930930931, \"tpr\": 0.9972476408350014, \"n\": 5328}, {\"threshold\": 0.424, \"p\": 27976, \"fpr\": 0.9680930930930931, \"tpr\": 0.9972476408350014, \"n\": 5328}, {\"threshold\": 0.425, \"p\": 27976, \"fpr\": 0.9680930930930931, \"tpr\": 0.9972476408350014, \"n\": 5328}, {\"threshold\": 0.426, \"p\": 27976, \"fpr\": 0.9680930930930931, \"tpr\": 0.9972476408350014, \"n\": 5328}, {\"threshold\": 0.427, \"p\": 27976, \"fpr\": 0.9680930930930931, \"tpr\": 0.9972476408350014, \"n\": 5328}, {\"threshold\": 0.428, \"p\": 27976, \"fpr\": 0.9680930930930931, \"tpr\": 0.9972476408350014, \"n\": 5328}, {\"threshold\": 0.429, \"p\": 27976, \"fpr\": 0.9680930930930931, \"tpr\": 0.9972476408350014, \"n\": 5328}, {\"threshold\": 0.43, \"p\": 27976, \"fpr\": 0.9680930930930931, \"tpr\": 0.9972476408350014, \"n\": 5328}, {\"threshold\": 0.431, \"p\": 27976, \"fpr\": 0.9680930930930931, \"tpr\": 0.9972476408350014, \"n\": 5328}, {\"threshold\": 0.432, \"p\": 27976, \"fpr\": 0.9680930930930931, \"tpr\": 0.9972476408350014, \"n\": 5328}, {\"threshold\": 0.433, \"p\": 27976, \"fpr\": 0.9680930930930931, \"tpr\": 0.9972476408350014, \"n\": 5328}, {\"threshold\": 0.434, \"p\": 27976, \"fpr\": 0.9680930930930931, \"tpr\": 0.9972476408350014, \"n\": 5328}, {\"threshold\": 0.435, \"p\": 27976, \"fpr\": 0.9680930930930931, \"tpr\": 0.9972476408350014, \"n\": 5328}, {\"threshold\": 0.436, \"p\": 27976, \"fpr\": 0.9680930930930931, \"tpr\": 0.9972476408350014, \"n\": 5328}, {\"threshold\": 0.437, \"p\": 27976, \"fpr\": 0.9680930930930931, \"tpr\": 0.9972476408350014, \"n\": 5328}, {\"threshold\": 0.438, \"p\": 27976, \"fpr\": 0.9680930930930931, \"tpr\": 0.9972476408350014, \"n\": 5328}, {\"threshold\": 0.439, \"p\": 27976, \"fpr\": 0.9680930930930931, \"tpr\": 0.9972476408350014, \"n\": 5328}, {\"threshold\": 0.44, \"p\": 27976, \"fpr\": 0.9680930930930931, \"tpr\": 0.9972476408350014, \"n\": 5328}, {\"threshold\": 0.441, \"p\": 27976, \"fpr\": 0.9680930930930931, \"tpr\": 0.9972476408350014, \"n\": 5328}, {\"threshold\": 0.442, \"p\": 27976, \"fpr\": 0.9680930930930931, \"tpr\": 0.9972476408350014, \"n\": 5328}, {\"threshold\": 0.443, \"p\": 27976, \"fpr\": 0.9680930930930931, \"tpr\": 0.9972476408350014, \"n\": 5328}, {\"threshold\": 0.444, \"p\": 27976, \"fpr\": 0.9680930930930931, \"tpr\": 0.9972476408350014, \"n\": 5328}, {\"threshold\": 0.445, \"p\": 27976, \"fpr\": 0.9680930930930931, \"tpr\": 0.9972476408350014, \"n\": 5328}, {\"threshold\": 0.446, \"p\": 27976, \"fpr\": 0.9680930930930931, \"tpr\": 0.9972476408350014, \"n\": 5328}, {\"threshold\": 0.447, \"p\": 27976, \"fpr\": 0.9680930930930931, \"tpr\": 0.9972476408350014, \"n\": 5328}, {\"threshold\": 0.448, \"p\": 27976, \"fpr\": 0.9680930930930931, \"tpr\": 0.9972476408350014, \"n\": 5328}, {\"threshold\": 0.449, \"p\": 27976, \"fpr\": 0.9680930930930931, \"tpr\": 0.9972476408350014, \"n\": 5328}, {\"threshold\": 0.45, \"p\": 27976, \"fpr\": 0.9680930930930931, \"tpr\": 0.9972476408350014, \"n\": 5328}, {\"threshold\": 0.451, \"p\": 27976, \"fpr\": 0.9680930930930931, \"tpr\": 0.9972476408350014, \"n\": 5328}, {\"threshold\": 0.452, \"p\": 27976, \"fpr\": 0.9680930930930931, \"tpr\": 0.9972476408350014, \"n\": 5328}, {\"threshold\": 0.453, \"p\": 27976, \"fpr\": 0.9680930930930931, \"tpr\": 0.9972476408350014, \"n\": 5328}, {\"threshold\": 0.454, \"p\": 27976, \"fpr\": 0.9680930930930931, \"tpr\": 0.9972476408350014, \"n\": 5328}, {\"threshold\": 0.455, \"p\": 27976, \"fpr\": 0.9680930930930931, \"tpr\": 0.9972476408350014, \"n\": 5328}, {\"threshold\": 0.456, \"p\": 27976, \"fpr\": 0.9680930930930931, \"tpr\": 0.9972476408350014, \"n\": 5328}, {\"threshold\": 0.457, \"p\": 27976, \"fpr\": 0.9680930930930931, \"tpr\": 0.9972476408350014, \"n\": 5328}, {\"threshold\": 0.458, \"p\": 27976, \"fpr\": 0.9680930930930931, \"tpr\": 0.9972476408350014, \"n\": 5328}, {\"threshold\": 0.459, \"p\": 27976, \"fpr\": 0.9680930930930931, \"tpr\": 0.9972476408350014, \"n\": 5328}, {\"threshold\": 0.46, \"p\": 27976, \"fpr\": 0.9680930930930931, \"tpr\": 0.9972476408350014, \"n\": 5328}, {\"threshold\": 0.461, \"p\": 27976, \"fpr\": 0.9680930930930931, \"tpr\": 0.9972476408350014, \"n\": 5328}, {\"threshold\": 0.462, \"p\": 27976, \"fpr\": 0.9680930930930931, \"tpr\": 0.9972118959107806, \"n\": 5328}, {\"threshold\": 0.463, \"p\": 27976, \"fpr\": 0.9680930930930931, \"tpr\": 0.9972118959107806, \"n\": 5328}, {\"threshold\": 0.464, \"p\": 27976, \"fpr\": 0.9680930930930931, \"tpr\": 0.9972118959107806, \"n\": 5328}, {\"threshold\": 0.465, \"p\": 27976, \"fpr\": 0.9680930930930931, \"tpr\": 0.9971761509865599, \"n\": 5328}, {\"threshold\": 0.466, \"p\": 27976, \"fpr\": 0.9680930930930931, \"tpr\": 0.9971761509865599, \"n\": 5328}, {\"threshold\": 0.467, \"p\": 27976, \"fpr\": 0.9680930930930931, \"tpr\": 0.9971761509865599, \"n\": 5328}, {\"threshold\": 0.468, \"p\": 27976, \"fpr\": 0.9679054054054054, \"tpr\": 0.9971761509865599, \"n\": 5328}, {\"threshold\": 0.469, \"p\": 27976, \"fpr\": 0.9679054054054054, \"tpr\": 0.9971761509865599, \"n\": 5328}, {\"threshold\": 0.47, \"p\": 27976, \"fpr\": 0.9679054054054054, \"tpr\": 0.9971761509865599, \"n\": 5328}, {\"threshold\": 0.471, \"p\": 27976, \"fpr\": 0.9679054054054054, \"tpr\": 0.9971761509865599, \"n\": 5328}, {\"threshold\": 0.472, \"p\": 27976, \"fpr\": 0.9679054054054054, \"tpr\": 0.9971761509865599, \"n\": 5328}, {\"threshold\": 0.473, \"p\": 27976, \"fpr\": 0.9679054054054054, \"tpr\": 0.9971761509865599, \"n\": 5328}, {\"threshold\": 0.474, \"p\": 27976, \"fpr\": 0.9679054054054054, \"tpr\": 0.9971761509865599, \"n\": 5328}, {\"threshold\": 0.475, \"p\": 27976, \"fpr\": 0.9679054054054054, \"tpr\": 0.9971761509865599, \"n\": 5328}, {\"threshold\": 0.476, \"p\": 27976, \"fpr\": 0.9679054054054054, \"tpr\": 0.9971761509865599, \"n\": 5328}, {\"threshold\": 0.477, \"p\": 27976, \"fpr\": 0.9679054054054054, \"tpr\": 0.9971761509865599, \"n\": 5328}, {\"threshold\": 0.478, \"p\": 27976, \"fpr\": 0.9679054054054054, \"tpr\": 0.9971761509865599, \"n\": 5328}, {\"threshold\": 0.479, \"p\": 27976, \"fpr\": 0.9679054054054054, \"tpr\": 0.9971761509865599, \"n\": 5328}, {\"threshold\": 0.48, \"p\": 27976, \"fpr\": 0.9679054054054054, \"tpr\": 0.9971761509865599, \"n\": 5328}, {\"threshold\": 0.481, \"p\": 27976, \"fpr\": 0.9679054054054054, \"tpr\": 0.9971761509865599, \"n\": 5328}, {\"threshold\": 0.482, \"p\": 27976, \"fpr\": 0.9679054054054054, \"tpr\": 0.9971761509865599, \"n\": 5328}, {\"threshold\": 0.483, \"p\": 27976, \"fpr\": 0.9679054054054054, \"tpr\": 0.9971761509865599, \"n\": 5328}, {\"threshold\": 0.484, \"p\": 27976, \"fpr\": 0.9679054054054054, \"tpr\": 0.9971761509865599, \"n\": 5328}, {\"threshold\": 0.485, \"p\": 27976, \"fpr\": 0.9679054054054054, \"tpr\": 0.9971761509865599, \"n\": 5328}, {\"threshold\": 0.486, \"p\": 27976, \"fpr\": 0.9679054054054054, \"tpr\": 0.9971761509865599, \"n\": 5328}, {\"threshold\": 0.487, \"p\": 27976, \"fpr\": 0.9679054054054054, \"tpr\": 0.9971761509865599, \"n\": 5328}, {\"threshold\": 0.488, \"p\": 27976, \"fpr\": 0.9673423423423423, \"tpr\": 0.9971046611381184, \"n\": 5328}, {\"threshold\": 0.489, \"p\": 27976, \"fpr\": 0.9673423423423423, \"tpr\": 0.9971046611381184, \"n\": 5328}, {\"threshold\": 0.49, \"p\": 27976, \"fpr\": 0.9562687687687688, \"tpr\": 0.9953531598513011, \"n\": 5328}, {\"threshold\": 0.491, \"p\": 27976, \"fpr\": 0.9562687687687688, \"tpr\": 0.9953531598513011, \"n\": 5328}, {\"threshold\": 0.492, \"p\": 27976, \"fpr\": 0.9562687687687688, \"tpr\": 0.9953531598513011, \"n\": 5328}, {\"threshold\": 0.493, \"p\": 27976, \"fpr\": 0.9562687687687688, \"tpr\": 0.9953531598513011, \"n\": 5328}, {\"threshold\": 0.494, \"p\": 27976, \"fpr\": 0.9562687687687688, \"tpr\": 0.9953531598513011, \"n\": 5328}, {\"threshold\": 0.495, \"p\": 27976, \"fpr\": 0.9562687687687688, \"tpr\": 0.9953531598513011, \"n\": 5328}, {\"threshold\": 0.496, \"p\": 27976, \"fpr\": 0.9562687687687688, \"tpr\": 0.9953531598513011, \"n\": 5328}, {\"threshold\": 0.497, \"p\": 27976, \"fpr\": 0.956081081081081, \"tpr\": 0.9953531598513011, \"n\": 5328}, {\"threshold\": 0.498, \"p\": 27976, \"fpr\": 0.956081081081081, \"tpr\": 0.9953531598513011, \"n\": 5328}, {\"threshold\": 0.499, \"p\": 27976, \"fpr\": 0.956081081081081, \"tpr\": 0.9953531598513011, \"n\": 5328}, {\"threshold\": 0.5, \"p\": 27976, \"fpr\": 0.956081081081081, \"tpr\": 0.9953531598513011, \"n\": 5328}, {\"threshold\": 0.501, \"p\": 27976, \"fpr\": 0.956081081081081, \"tpr\": 0.9953531598513011, \"n\": 5328}, {\"threshold\": 0.502, \"p\": 27976, \"fpr\": 0.956081081081081, \"tpr\": 0.9953531598513011, \"n\": 5328}, {\"threshold\": 0.503, \"p\": 27976, \"fpr\": 0.956081081081081, \"tpr\": 0.9953531598513011, \"n\": 5328}, {\"threshold\": 0.504, \"p\": 27976, \"fpr\": 0.956081081081081, \"tpr\": 0.9953531598513011, \"n\": 5328}, {\"threshold\": 0.505, \"p\": 27976, \"fpr\": 0.956081081081081, \"tpr\": 0.9953531598513011, \"n\": 5328}, {\"threshold\": 0.506, \"p\": 27976, \"fpr\": 0.956081081081081, \"tpr\": 0.9953531598513011, \"n\": 5328}, {\"threshold\": 0.507, \"p\": 27976, \"fpr\": 0.956081081081081, \"tpr\": 0.9953531598513011, \"n\": 5328}, {\"threshold\": 0.508, \"p\": 27976, \"fpr\": 0.956081081081081, \"tpr\": 0.9953531598513011, \"n\": 5328}, {\"threshold\": 0.509, \"p\": 27976, \"fpr\": 0.956081081081081, \"tpr\": 0.9953531598513011, \"n\": 5328}, {\"threshold\": 0.51, \"p\": 27976, \"fpr\": 0.956081081081081, \"tpr\": 0.9953531598513011, \"n\": 5328}, {\"threshold\": 0.511, \"p\": 27976, \"fpr\": 0.956081081081081, \"tpr\": 0.9953531598513011, \"n\": 5328}, {\"threshold\": 0.512, \"p\": 27976, \"fpr\": 0.956081081081081, \"tpr\": 0.9953531598513011, \"n\": 5328}, {\"threshold\": 0.513, \"p\": 27976, \"fpr\": 0.956081081081081, \"tpr\": 0.9953531598513011, \"n\": 5328}, {\"threshold\": 0.514, \"p\": 27976, \"fpr\": 0.956081081081081, \"tpr\": 0.9953531598513011, \"n\": 5328}, {\"threshold\": 0.515, \"p\": 27976, \"fpr\": 0.956081081081081, \"tpr\": 0.9953531598513011, \"n\": 5328}, {\"threshold\": 0.516, \"p\": 27976, \"fpr\": 0.956081081081081, \"tpr\": 0.9953531598513011, \"n\": 5328}, {\"threshold\": 0.517, \"p\": 27976, \"fpr\": 0.956081081081081, \"tpr\": 0.9953531598513011, \"n\": 5328}, {\"threshold\": 0.518, \"p\": 27976, \"fpr\": 0.956081081081081, \"tpr\": 0.9953531598513011, \"n\": 5328}, {\"threshold\": 0.519, \"p\": 27976, \"fpr\": 0.956081081081081, \"tpr\": 0.9953531598513011, \"n\": 5328}, {\"threshold\": 0.52, \"p\": 27976, \"fpr\": 0.956081081081081, \"tpr\": 0.9953531598513011, \"n\": 5328}, {\"threshold\": 0.521, \"p\": 27976, \"fpr\": 0.956081081081081, \"tpr\": 0.9953531598513011, \"n\": 5328}, {\"threshold\": 0.522, \"p\": 27976, \"fpr\": 0.956081081081081, \"tpr\": 0.9953531598513011, \"n\": 5328}, {\"threshold\": 0.523, \"p\": 27976, \"fpr\": 0.956081081081081, \"tpr\": 0.9953531598513011, \"n\": 5328}, {\"threshold\": 0.524, \"p\": 27976, \"fpr\": 0.956081081081081, \"tpr\": 0.9953531598513011, \"n\": 5328}, {\"threshold\": 0.525, \"p\": 27976, \"fpr\": 0.956081081081081, \"tpr\": 0.9953531598513011, \"n\": 5328}, {\"threshold\": 0.526, \"p\": 27976, \"fpr\": 0.956081081081081, \"tpr\": 0.9953531598513011, \"n\": 5328}, {\"threshold\": 0.527, \"p\": 27976, \"fpr\": 0.956081081081081, \"tpr\": 0.9953531598513011, \"n\": 5328}, {\"threshold\": 0.528, \"p\": 27976, \"fpr\": 0.956081081081081, \"tpr\": 0.9953531598513011, \"n\": 5328}, {\"threshold\": 0.529, \"p\": 27976, \"fpr\": 0.956081081081081, \"tpr\": 0.9953531598513011, \"n\": 5328}, {\"threshold\": 0.53, \"p\": 27976, \"fpr\": 0.956081081081081, \"tpr\": 0.9953531598513011, \"n\": 5328}, {\"threshold\": 0.531, \"p\": 27976, \"fpr\": 0.956081081081081, \"tpr\": 0.9953531598513011, \"n\": 5328}, {\"threshold\": 0.532, \"p\": 27976, \"fpr\": 0.956081081081081, \"tpr\": 0.9953531598513011, \"n\": 5328}, {\"threshold\": 0.533, \"p\": 27976, \"fpr\": 0.956081081081081, \"tpr\": 0.9953531598513011, \"n\": 5328}, {\"threshold\": 0.534, \"p\": 27976, \"fpr\": 0.956081081081081, \"tpr\": 0.9953531598513011, \"n\": 5328}, {\"threshold\": 0.535, \"p\": 27976, \"fpr\": 0.956081081081081, \"tpr\": 0.9953531598513011, \"n\": 5328}, {\"threshold\": 0.536, \"p\": 27976, \"fpr\": 0.956081081081081, \"tpr\": 0.9953531598513011, \"n\": 5328}, {\"threshold\": 0.537, \"p\": 27976, \"fpr\": 0.956081081081081, \"tpr\": 0.9953531598513011, \"n\": 5328}, {\"threshold\": 0.538, \"p\": 27976, \"fpr\": 0.956081081081081, \"tpr\": 0.9953531598513011, \"n\": 5328}, {\"threshold\": 0.539, \"p\": 27976, \"fpr\": 0.956081081081081, \"tpr\": 0.9953531598513011, \"n\": 5328}, {\"threshold\": 0.54, \"p\": 27976, \"fpr\": 0.956081081081081, \"tpr\": 0.9953531598513011, \"n\": 5328}, {\"threshold\": 0.541, \"p\": 27976, \"fpr\": 0.954954954954955, \"tpr\": 0.9951744352301973, \"n\": 5328}, {\"threshold\": 0.542, \"p\": 27976, \"fpr\": 0.954954954954955, \"tpr\": 0.9951744352301973, \"n\": 5328}, {\"threshold\": 0.543, \"p\": 27976, \"fpr\": 0.954954954954955, \"tpr\": 0.9951386903059766, \"n\": 5328}, {\"threshold\": 0.544, \"p\": 27976, \"fpr\": 0.954954954954955, \"tpr\": 0.9951386903059766, \"n\": 5328}, {\"threshold\": 0.545, \"p\": 27976, \"fpr\": 0.954954954954955, \"tpr\": 0.9951386903059766, \"n\": 5328}, {\"threshold\": 0.546, \"p\": 27976, \"fpr\": 0.954954954954955, \"tpr\": 0.9951386903059766, \"n\": 5328}, {\"threshold\": 0.547, \"p\": 27976, \"fpr\": 0.954954954954955, \"tpr\": 0.9951386903059766, \"n\": 5328}, {\"threshold\": 0.548, \"p\": 27976, \"fpr\": 0.954954954954955, \"tpr\": 0.9951386903059766, \"n\": 5328}, {\"threshold\": 0.549, \"p\": 27976, \"fpr\": 0.954954954954955, \"tpr\": 0.9951386903059766, \"n\": 5328}, {\"threshold\": 0.55, \"p\": 27976, \"fpr\": 0.954954954954955, \"tpr\": 0.9951386903059766, \"n\": 5328}, {\"threshold\": 0.551, \"p\": 27976, \"fpr\": 0.954954954954955, \"tpr\": 0.9951386903059766, \"n\": 5328}, {\"threshold\": 0.552, \"p\": 27976, \"fpr\": 0.954954954954955, \"tpr\": 0.9951386903059766, \"n\": 5328}, {\"threshold\": 0.553, \"p\": 27976, \"fpr\": 0.954954954954955, \"tpr\": 0.9951386903059766, \"n\": 5328}, {\"threshold\": 0.554, \"p\": 27976, \"fpr\": 0.954954954954955, \"tpr\": 0.9951386903059766, \"n\": 5328}, {\"threshold\": 0.555, \"p\": 27976, \"fpr\": 0.954954954954955, \"tpr\": 0.9951386903059766, \"n\": 5328}, {\"threshold\": 0.556, \"p\": 27976, \"fpr\": 0.954954954954955, \"tpr\": 0.9951386903059766, \"n\": 5328}, {\"threshold\": 0.557, \"p\": 27976, \"fpr\": 0.954954954954955, \"tpr\": 0.9951386903059766, \"n\": 5328}, {\"threshold\": 0.558, \"p\": 27976, \"fpr\": 0.954954954954955, \"tpr\": 0.9951386903059766, \"n\": 5328}, {\"threshold\": 0.559, \"p\": 27976, \"fpr\": 0.954954954954955, \"tpr\": 0.9951386903059766, \"n\": 5328}, {\"threshold\": 0.56, \"p\": 27976, \"fpr\": 0.954954954954955, \"tpr\": 0.9951386903059766, \"n\": 5328}, {\"threshold\": 0.561, \"p\": 27976, \"fpr\": 0.954954954954955, \"tpr\": 0.9951386903059766, \"n\": 5328}, {\"threshold\": 0.562, \"p\": 27976, \"fpr\": 0.954954954954955, \"tpr\": 0.9951386903059766, \"n\": 5328}, {\"threshold\": 0.563, \"p\": 27976, \"fpr\": 0.954954954954955, \"tpr\": 0.9951386903059766, \"n\": 5328}, {\"threshold\": 0.564, \"p\": 27976, \"fpr\": 0.9538288288288288, \"tpr\": 0.9949957106090935, \"n\": 5328}, {\"threshold\": 0.565, \"p\": 27976, \"fpr\": 0.9538288288288288, \"tpr\": 0.9949957106090935, \"n\": 5328}, {\"threshold\": 0.566, \"p\": 27976, \"fpr\": 0.9538288288288288, \"tpr\": 0.9949599656848728, \"n\": 5328}, {\"threshold\": 0.567, \"p\": 27976, \"fpr\": 0.9538288288288288, \"tpr\": 0.9949599656848728, \"n\": 5328}, {\"threshold\": 0.568, \"p\": 27976, \"fpr\": 0.9538288288288288, \"tpr\": 0.9949599656848728, \"n\": 5328}, {\"threshold\": 0.569, \"p\": 27976, \"fpr\": 0.9538288288288288, \"tpr\": 0.9949599656848728, \"n\": 5328}, {\"threshold\": 0.57, \"p\": 27976, \"fpr\": 0.9538288288288288, \"tpr\": 0.9948527309122105, \"n\": 5328}, {\"threshold\": 0.571, \"p\": 27976, \"fpr\": 0.9538288288288288, \"tpr\": 0.9948527309122105, \"n\": 5328}, {\"threshold\": 0.572, \"p\": 27976, \"fpr\": 0.9538288288288288, \"tpr\": 0.9948527309122105, \"n\": 5328}, {\"threshold\": 0.573, \"p\": 27976, \"fpr\": 0.9538288288288288, \"tpr\": 0.9948527309122105, \"n\": 5328}, {\"threshold\": 0.574, \"p\": 27976, \"fpr\": 0.9538288288288288, \"tpr\": 0.9948527309122105, \"n\": 5328}, {\"threshold\": 0.575, \"p\": 27976, \"fpr\": 0.9538288288288288, \"tpr\": 0.9948527309122105, \"n\": 5328}, {\"threshold\": 0.576, \"p\": 27976, \"fpr\": 0.9538288288288288, \"tpr\": 0.9948527309122105, \"n\": 5328}, {\"threshold\": 0.577, \"p\": 27976, \"fpr\": 0.9538288288288288, \"tpr\": 0.9948527309122105, \"n\": 5328}, {\"threshold\": 0.578, \"p\": 27976, \"fpr\": 0.9538288288288288, \"tpr\": 0.9948527309122105, \"n\": 5328}, {\"threshold\": 0.579, \"p\": 27976, \"fpr\": 0.9538288288288288, \"tpr\": 0.9948527309122105, \"n\": 5328}, {\"threshold\": 0.58, \"p\": 27976, \"fpr\": 0.9538288288288288, \"tpr\": 0.9948527309122105, \"n\": 5328}, {\"threshold\": 0.581, \"p\": 27976, \"fpr\": 0.9538288288288288, \"tpr\": 0.9948527309122105, \"n\": 5328}, {\"threshold\": 0.582, \"p\": 27976, \"fpr\": 0.9538288288288288, \"tpr\": 0.9948169859879897, \"n\": 5328}, {\"threshold\": 0.583, \"p\": 27976, \"fpr\": 0.9538288288288288, \"tpr\": 0.9948169859879897, \"n\": 5328}, {\"threshold\": 0.584, \"p\": 27976, \"fpr\": 0.9538288288288288, \"tpr\": 0.9948169859879897, \"n\": 5328}, {\"threshold\": 0.585, \"p\": 27976, \"fpr\": 0.9538288288288288, \"tpr\": 0.9948169859879897, \"n\": 5328}, {\"threshold\": 0.586, \"p\": 27976, \"fpr\": 0.9538288288288288, \"tpr\": 0.9948169859879897, \"n\": 5328}, {\"threshold\": 0.587, \"p\": 27976, \"fpr\": 0.9538288288288288, \"tpr\": 0.9948169859879897, \"n\": 5328}, {\"threshold\": 0.588, \"p\": 27976, \"fpr\": 0.9538288288288288, \"tpr\": 0.9948169859879897, \"n\": 5328}, {\"threshold\": 0.589, \"p\": 27976, \"fpr\": 0.9538288288288288, \"tpr\": 0.9948169859879897, \"n\": 5328}, {\"threshold\": 0.59, \"p\": 27976, \"fpr\": 0.9538288288288288, \"tpr\": 0.9948169859879897, \"n\": 5328}, {\"threshold\": 0.591, \"p\": 27976, \"fpr\": 0.9538288288288288, \"tpr\": 0.9948169859879897, \"n\": 5328}, {\"threshold\": 0.592, \"p\": 27976, \"fpr\": 0.9536411411411412, \"tpr\": 0.994781241063769, \"n\": 5328}, {\"threshold\": 0.593, \"p\": 27976, \"fpr\": 0.9536411411411412, \"tpr\": 0.994781241063769, \"n\": 5328}, {\"threshold\": 0.594, \"p\": 27976, \"fpr\": 0.9536411411411412, \"tpr\": 0.994781241063769, \"n\": 5328}, {\"threshold\": 0.595, \"p\": 27976, \"fpr\": 0.9294294294294294, \"tpr\": 0.9873820417500715, \"n\": 5328}, {\"threshold\": 0.596, \"p\": 27976, \"fpr\": 0.9294294294294294, \"tpr\": 0.9873820417500715, \"n\": 5328}, {\"threshold\": 0.597, \"p\": 27976, \"fpr\": 0.9294294294294294, \"tpr\": 0.9873820417500715, \"n\": 5328}, {\"threshold\": 0.598, \"p\": 27976, \"fpr\": 0.9294294294294294, \"tpr\": 0.9873820417500715, \"n\": 5328}, {\"threshold\": 0.599, \"p\": 27976, \"fpr\": 0.9294294294294294, \"tpr\": 0.9873820417500715, \"n\": 5328}, {\"threshold\": 0.6, \"p\": 27976, \"fpr\": 0.9294294294294294, \"tpr\": 0.9873820417500715, \"n\": 5328}, {\"threshold\": 0.601, \"p\": 27976, \"fpr\": 0.9294294294294294, \"tpr\": 0.9873820417500715, \"n\": 5328}, {\"threshold\": 0.602, \"p\": 27976, \"fpr\": 0.9294294294294294, \"tpr\": 0.9873820417500715, \"n\": 5328}, {\"threshold\": 0.603, \"p\": 27976, \"fpr\": 0.9294294294294294, \"tpr\": 0.9873820417500715, \"n\": 5328}, {\"threshold\": 0.604, \"p\": 27976, \"fpr\": 0.9294294294294294, \"tpr\": 0.9873820417500715, \"n\": 5328}, {\"threshold\": 0.605, \"p\": 27976, \"fpr\": 0.9294294294294294, \"tpr\": 0.9873820417500715, \"n\": 5328}, {\"threshold\": 0.606, \"p\": 27976, \"fpr\": 0.9294294294294294, \"tpr\": 0.9873820417500715, \"n\": 5328}, {\"threshold\": 0.607, \"p\": 27976, \"fpr\": 0.9294294294294294, \"tpr\": 0.9873820417500715, \"n\": 5328}, {\"threshold\": 0.608, \"p\": 27976, \"fpr\": 0.9294294294294294, \"tpr\": 0.9873820417500715, \"n\": 5328}, {\"threshold\": 0.609, \"p\": 27976, \"fpr\": 0.9294294294294294, \"tpr\": 0.9873820417500715, \"n\": 5328}, {\"threshold\": 0.61, \"p\": 27976, \"fpr\": 0.9294294294294294, \"tpr\": 0.9873820417500715, \"n\": 5328}, {\"threshold\": 0.611, \"p\": 27976, \"fpr\": 0.9294294294294294, \"tpr\": 0.9873820417500715, \"n\": 5328}, {\"threshold\": 0.612, \"p\": 27976, \"fpr\": 0.9294294294294294, \"tpr\": 0.9873820417500715, \"n\": 5328}, {\"threshold\": 0.613, \"p\": 27976, \"fpr\": 0.9294294294294294, \"tpr\": 0.9873820417500715, \"n\": 5328}, {\"threshold\": 0.614, \"p\": 27976, \"fpr\": 0.9294294294294294, \"tpr\": 0.9873820417500715, \"n\": 5328}, {\"threshold\": 0.615, \"p\": 27976, \"fpr\": 0.9294294294294294, \"tpr\": 0.9873820417500715, \"n\": 5328}, {\"threshold\": 0.616, \"p\": 27976, \"fpr\": 0.9294294294294294, \"tpr\": 0.9873820417500715, \"n\": 5328}, {\"threshold\": 0.617, \"p\": 27976, \"fpr\": 0.9294294294294294, \"tpr\": 0.9873820417500715, \"n\": 5328}, {\"threshold\": 0.618, \"p\": 27976, \"fpr\": 0.9294294294294294, \"tpr\": 0.9873820417500715, \"n\": 5328}, {\"threshold\": 0.619, \"p\": 27976, \"fpr\": 0.9294294294294294, \"tpr\": 0.9873820417500715, \"n\": 5328}, {\"threshold\": 0.62, \"p\": 27976, \"fpr\": 0.9294294294294294, \"tpr\": 0.9872390620531885, \"n\": 5328}, {\"threshold\": 0.621, \"p\": 27976, \"fpr\": 0.9294294294294294, \"tpr\": 0.9872390620531885, \"n\": 5328}, {\"threshold\": 0.622, \"p\": 27976, \"fpr\": 0.9294294294294294, \"tpr\": 0.9871675722047469, \"n\": 5328}, {\"threshold\": 0.623, \"p\": 27976, \"fpr\": 0.9294294294294294, \"tpr\": 0.9871675722047469, \"n\": 5328}, {\"threshold\": 0.624, \"p\": 27976, \"fpr\": 0.9294294294294294, \"tpr\": 0.9871675722047469, \"n\": 5328}, {\"threshold\": 0.625, \"p\": 27976, \"fpr\": 0.9294294294294294, \"tpr\": 0.9871675722047469, \"n\": 5328}, {\"threshold\": 0.626, \"p\": 27976, \"fpr\": 0.9294294294294294, \"tpr\": 0.9871675722047469, \"n\": 5328}, {\"threshold\": 0.627, \"p\": 27976, \"fpr\": 0.9294294294294294, \"tpr\": 0.9871675722047469, \"n\": 5328}, {\"threshold\": 0.628, \"p\": 27976, \"fpr\": 0.9294294294294294, \"tpr\": 0.9871675722047469, \"n\": 5328}, {\"threshold\": 0.629, \"p\": 27976, \"fpr\": 0.9294294294294294, \"tpr\": 0.9871675722047469, \"n\": 5328}, {\"threshold\": 0.63, \"p\": 27976, \"fpr\": 0.9294294294294294, \"tpr\": 0.9871675722047469, \"n\": 5328}, {\"threshold\": 0.631, \"p\": 27976, \"fpr\": 0.9294294294294294, \"tpr\": 0.9871675722047469, \"n\": 5328}, {\"threshold\": 0.632, \"p\": 27976, \"fpr\": 0.9294294294294294, \"tpr\": 0.9871675722047469, \"n\": 5328}, {\"threshold\": 0.633, \"p\": 27976, \"fpr\": 0.9294294294294294, \"tpr\": 0.9871675722047469, \"n\": 5328}, {\"threshold\": 0.634, \"p\": 27976, \"fpr\": 0.9294294294294294, \"tpr\": 0.9871675722047469, \"n\": 5328}, {\"threshold\": 0.635, \"p\": 27976, \"fpr\": 0.9294294294294294, \"tpr\": 0.9871675722047469, \"n\": 5328}, {\"threshold\": 0.636, \"p\": 27976, \"fpr\": 0.9294294294294294, \"tpr\": 0.9871675722047469, \"n\": 5328}, {\"threshold\": 0.637, \"p\": 27976, \"fpr\": 0.9294294294294294, \"tpr\": 0.9871675722047469, \"n\": 5328}, {\"threshold\": 0.638, \"p\": 27976, \"fpr\": 0.9294294294294294, \"tpr\": 0.9871675722047469, \"n\": 5328}, {\"threshold\": 0.639, \"p\": 27976, \"fpr\": 0.9294294294294294, \"tpr\": 0.9871675722047469, \"n\": 5328}, {\"threshold\": 0.64, \"p\": 27976, \"fpr\": 0.9294294294294294, \"tpr\": 0.9871675722047469, \"n\": 5328}, {\"threshold\": 0.641, \"p\": 27976, \"fpr\": 0.9294294294294294, \"tpr\": 0.9871675722047469, \"n\": 5328}, {\"threshold\": 0.642, \"p\": 27976, \"fpr\": 0.9294294294294294, \"tpr\": 0.9871675722047469, \"n\": 5328}, {\"threshold\": 0.643, \"p\": 27976, \"fpr\": 0.9294294294294294, \"tpr\": 0.9871675722047469, \"n\": 5328}, {\"threshold\": 0.644, \"p\": 27976, \"fpr\": 0.9294294294294294, \"tpr\": 0.9871675722047469, \"n\": 5328}, {\"threshold\": 0.645, \"p\": 27976, \"fpr\": 0.9294294294294294, \"tpr\": 0.9871675722047469, \"n\": 5328}, {\"threshold\": 0.646, \"p\": 27976, \"fpr\": 0.9294294294294294, \"tpr\": 0.9871675722047469, \"n\": 5328}, {\"threshold\": 0.647, \"p\": 27976, \"fpr\": 0.9294294294294294, \"tpr\": 0.9871675722047469, \"n\": 5328}, {\"threshold\": 0.648, \"p\": 27976, \"fpr\": 0.9294294294294294, \"tpr\": 0.9871675722047469, \"n\": 5328}, {\"threshold\": 0.649, \"p\": 27976, \"fpr\": 0.9294294294294294, \"tpr\": 0.9871675722047469, \"n\": 5328}, {\"threshold\": 0.65, \"p\": 27976, \"fpr\": 0.9294294294294294, \"tpr\": 0.9871675722047469, \"n\": 5328}, {\"threshold\": 0.651, \"p\": 27976, \"fpr\": 0.9294294294294294, \"tpr\": 0.9871675722047469, \"n\": 5328}, {\"threshold\": 0.652, \"p\": 27976, \"fpr\": 0.9294294294294294, \"tpr\": 0.9871675722047469, \"n\": 5328}, {\"threshold\": 0.653, \"p\": 27976, \"fpr\": 0.9294294294294294, \"tpr\": 0.9871675722047469, \"n\": 5328}, {\"threshold\": 0.654, \"p\": 27976, \"fpr\": 0.9294294294294294, \"tpr\": 0.9871675722047469, \"n\": 5328}, {\"threshold\": 0.655, \"p\": 27976, \"fpr\": 0.9294294294294294, \"tpr\": 0.9871675722047469, \"n\": 5328}, {\"threshold\": 0.656, \"p\": 27976, \"fpr\": 0.9294294294294294, \"tpr\": 0.9871675722047469, \"n\": 5328}, {\"threshold\": 0.657, \"p\": 27976, \"fpr\": 0.9294294294294294, \"tpr\": 0.9871675722047469, \"n\": 5328}, {\"threshold\": 0.658, \"p\": 27976, \"fpr\": 0.9294294294294294, \"tpr\": 0.9871675722047469, \"n\": 5328}, {\"threshold\": 0.659, \"p\": 27976, \"fpr\": 0.9294294294294294, \"tpr\": 0.9871675722047469, \"n\": 5328}, {\"threshold\": 0.66, \"p\": 27976, \"fpr\": 0.9294294294294294, \"tpr\": 0.9871318272805262, \"n\": 5328}, {\"threshold\": 0.661, \"p\": 27976, \"fpr\": 0.9294294294294294, \"tpr\": 0.9871318272805262, \"n\": 5328}, {\"threshold\": 0.662, \"p\": 27976, \"fpr\": 0.9294294294294294, \"tpr\": 0.9871318272805262, \"n\": 5328}, {\"threshold\": 0.663, \"p\": 27976, \"fpr\": 0.9290540540540541, \"tpr\": 0.9868458678867601, \"n\": 5328}, {\"threshold\": 0.664, \"p\": 27976, \"fpr\": 0.9290540540540541, \"tpr\": 0.9868458678867601, \"n\": 5328}, {\"threshold\": 0.665, \"p\": 27976, \"fpr\": 0.9290540540540541, \"tpr\": 0.9868458678867601, \"n\": 5328}, {\"threshold\": 0.666, \"p\": 27976, \"fpr\": 0.9290540540540541, \"tpr\": 0.9868458678867601, \"n\": 5328}, {\"threshold\": 0.667, \"p\": 27976, \"fpr\": 0.9290540540540541, \"tpr\": 0.9868458678867601, \"n\": 5328}, {\"threshold\": 0.668, \"p\": 27976, \"fpr\": 0.9290540540540541, \"tpr\": 0.9868458678867601, \"n\": 5328}, {\"threshold\": 0.669, \"p\": 27976, \"fpr\": 0.9290540540540541, \"tpr\": 0.9868101229625393, \"n\": 5328}, {\"threshold\": 0.67, \"p\": 27976, \"fpr\": 0.9290540540540541, \"tpr\": 0.9868101229625393, \"n\": 5328}, {\"threshold\": 0.671, \"p\": 27976, \"fpr\": 0.9290540540540541, \"tpr\": 0.9868101229625393, \"n\": 5328}, {\"threshold\": 0.672, \"p\": 27976, \"fpr\": 0.9290540540540541, \"tpr\": 0.9867743780383186, \"n\": 5328}, {\"threshold\": 0.673, \"p\": 27976, \"fpr\": 0.9290540540540541, \"tpr\": 0.9867743780383186, \"n\": 5328}, {\"threshold\": 0.674, \"p\": 27976, \"fpr\": 0.9290540540540541, \"tpr\": 0.9867743780383186, \"n\": 5328}, {\"threshold\": 0.675, \"p\": 27976, \"fpr\": 0.9290540540540541, \"tpr\": 0.9867743780383186, \"n\": 5328}, {\"threshold\": 0.676, \"p\": 27976, \"fpr\": 0.9290540540540541, \"tpr\": 0.9867743780383186, \"n\": 5328}, {\"threshold\": 0.677, \"p\": 27976, \"fpr\": 0.9290540540540541, \"tpr\": 0.9867743780383186, \"n\": 5328}, {\"threshold\": 0.678, \"p\": 27976, \"fpr\": 0.9290540540540541, \"tpr\": 0.9867743780383186, \"n\": 5328}, {\"threshold\": 0.679, \"p\": 27976, \"fpr\": 0.9290540540540541, \"tpr\": 0.9867743780383186, \"n\": 5328}, {\"threshold\": 0.68, \"p\": 27976, \"fpr\": 0.9290540540540541, \"tpr\": 0.9867743780383186, \"n\": 5328}, {\"threshold\": 0.681, \"p\": 27976, \"fpr\": 0.9290540540540541, \"tpr\": 0.9867743780383186, \"n\": 5328}, {\"threshold\": 0.682, \"p\": 27976, \"fpr\": 0.9290540540540541, \"tpr\": 0.9867743780383186, \"n\": 5328}, {\"threshold\": 0.683, \"p\": 27976, \"fpr\": 0.9290540540540541, \"tpr\": 0.9867743780383186, \"n\": 5328}, {\"threshold\": 0.684, \"p\": 27976, \"fpr\": 0.9290540540540541, \"tpr\": 0.9866313983414355, \"n\": 5328}, {\"threshold\": 0.685, \"p\": 27976, \"fpr\": 0.9290540540540541, \"tpr\": 0.9866313983414355, \"n\": 5328}, {\"threshold\": 0.686, \"p\": 27976, \"fpr\": 0.9290540540540541, \"tpr\": 0.9866313983414355, \"n\": 5328}, {\"threshold\": 0.687, \"p\": 27976, \"fpr\": 0.9290540540540541, \"tpr\": 0.9866313983414355, \"n\": 5328}, {\"threshold\": 0.688, \"p\": 27976, \"fpr\": 0.9290540540540541, \"tpr\": 0.9866313983414355, \"n\": 5328}, {\"threshold\": 0.689, \"p\": 27976, \"fpr\": 0.9290540540540541, \"tpr\": 0.9866313983414355, \"n\": 5328}, {\"threshold\": 0.69, \"p\": 27976, \"fpr\": 0.9290540540540541, \"tpr\": 0.986559908492994, \"n\": 5328}, {\"threshold\": 0.691, \"p\": 27976, \"fpr\": 0.9290540540540541, \"tpr\": 0.986559908492994, \"n\": 5328}, {\"threshold\": 0.692, \"p\": 27976, \"fpr\": 0.9290540540540541, \"tpr\": 0.986559908492994, \"n\": 5328}, {\"threshold\": 0.693, \"p\": 27976, \"fpr\": 0.9290540540540541, \"tpr\": 0.986559908492994, \"n\": 5328}, {\"threshold\": 0.694, \"p\": 27976, \"fpr\": 0.9290540540540541, \"tpr\": 0.986559908492994, \"n\": 5328}, {\"threshold\": 0.695, \"p\": 27976, \"fpr\": 0.9290540540540541, \"tpr\": 0.986559908492994, \"n\": 5328}, {\"threshold\": 0.696, \"p\": 27976, \"fpr\": 0.9290540540540541, \"tpr\": 0.986559908492994, \"n\": 5328}, {\"threshold\": 0.697, \"p\": 27976, \"fpr\": 0.9290540540540541, \"tpr\": 0.986559908492994, \"n\": 5328}, {\"threshold\": 0.698, \"p\": 27976, \"fpr\": 0.9290540540540541, \"tpr\": 0.986559908492994, \"n\": 5328}, {\"threshold\": 0.699, \"p\": 27976, \"fpr\": 0.9271771771771772, \"tpr\": 0.9861309694023449, \"n\": 5328}, {\"threshold\": 0.7, \"p\": 27976, \"fpr\": 0.9271771771771772, \"tpr\": 0.9861309694023449, \"n\": 5328}, {\"threshold\": 0.701, \"p\": 27976, \"fpr\": 0.9271771771771772, \"tpr\": 0.9860594795539034, \"n\": 5328}, {\"threshold\": 0.702, \"p\": 27976, \"fpr\": 0.9271771771771772, \"tpr\": 0.9860594795539034, \"n\": 5328}, {\"threshold\": 0.703, \"p\": 27976, \"fpr\": 0.9271771771771772, \"tpr\": 0.9860594795539034, \"n\": 5328}, {\"threshold\": 0.704, \"p\": 27976, \"fpr\": 0.9271771771771772, \"tpr\": 0.9860594795539034, \"n\": 5328}, {\"threshold\": 0.705, \"p\": 27976, \"fpr\": 0.9271771771771772, \"tpr\": 0.9860594795539034, \"n\": 5328}, {\"threshold\": 0.706, \"p\": 27976, \"fpr\": 0.9271771771771772, \"tpr\": 0.9860594795539034, \"n\": 5328}, {\"threshold\": 0.707, \"p\": 27976, \"fpr\": 0.9271771771771772, \"tpr\": 0.9860594795539034, \"n\": 5328}, {\"threshold\": 0.708, \"p\": 27976, \"fpr\": 0.9271771771771772, \"tpr\": 0.9860594795539034, \"n\": 5328}, {\"threshold\": 0.709, \"p\": 27976, \"fpr\": 0.9271771771771772, \"tpr\": 0.9860594795539034, \"n\": 5328}, {\"threshold\": 0.71, \"p\": 27976, \"fpr\": 0.9271771771771772, \"tpr\": 0.9860594795539034, \"n\": 5328}, {\"threshold\": 0.711, \"p\": 27976, \"fpr\": 0.9271771771771772, \"tpr\": 0.9860594795539034, \"n\": 5328}, {\"threshold\": 0.712, \"p\": 27976, \"fpr\": 0.9271771771771772, \"tpr\": 0.9860594795539034, \"n\": 5328}, {\"threshold\": 0.713, \"p\": 27976, \"fpr\": 0.9271771771771772, \"tpr\": 0.9860594795539034, \"n\": 5328}, {\"threshold\": 0.714, \"p\": 27976, \"fpr\": 0.9271771771771772, \"tpr\": 0.9860594795539034, \"n\": 5328}, {\"threshold\": 0.715, \"p\": 27976, \"fpr\": 0.9271771771771772, \"tpr\": 0.9860594795539034, \"n\": 5328}, {\"threshold\": 0.716, \"p\": 27976, \"fpr\": 0.9271771771771772, \"tpr\": 0.9860594795539034, \"n\": 5328}, {\"threshold\": 0.717, \"p\": 27976, \"fpr\": 0.9271771771771772, \"tpr\": 0.9860594795539034, \"n\": 5328}, {\"threshold\": 0.718, \"p\": 27976, \"fpr\": 0.9271771771771772, \"tpr\": 0.9860594795539034, \"n\": 5328}, {\"threshold\": 0.719, \"p\": 27976, \"fpr\": 0.9271771771771772, \"tpr\": 0.9860594795539034, \"n\": 5328}, {\"threshold\": 0.72, \"p\": 27976, \"fpr\": 0.9271771771771772, \"tpr\": 0.9860594795539034, \"n\": 5328}, {\"threshold\": 0.721, \"p\": 27976, \"fpr\": 0.9271771771771772, \"tpr\": 0.9860594795539034, \"n\": 5328}, {\"threshold\": 0.722, \"p\": 27976, \"fpr\": 0.9271771771771772, \"tpr\": 0.9860594795539034, \"n\": 5328}, {\"threshold\": 0.723, \"p\": 27976, \"fpr\": 0.9271771771771772, \"tpr\": 0.9860594795539034, \"n\": 5328}, {\"threshold\": 0.724, \"p\": 27976, \"fpr\": 0.9271771771771772, \"tpr\": 0.9860594795539034, \"n\": 5328}, {\"threshold\": 0.725, \"p\": 27976, \"fpr\": 0.9271771771771772, \"tpr\": 0.9860594795539034, \"n\": 5328}, {\"threshold\": 0.726, \"p\": 27976, \"fpr\": 0.9271771771771772, \"tpr\": 0.9860594795539034, \"n\": 5328}, {\"threshold\": 0.727, \"p\": 27976, \"fpr\": 0.9271771771771772, \"tpr\": 0.9860594795539034, \"n\": 5328}, {\"threshold\": 0.728, \"p\": 27976, \"fpr\": 0.9271771771771772, \"tpr\": 0.9860594795539034, \"n\": 5328}, {\"threshold\": 0.729, \"p\": 27976, \"fpr\": 0.9271771771771772, \"tpr\": 0.9860594795539034, \"n\": 5328}, {\"threshold\": 0.73, \"p\": 27976, \"fpr\": 0.9271771771771772, \"tpr\": 0.9860594795539034, \"n\": 5328}, {\"threshold\": 0.731, \"p\": 27976, \"fpr\": 0.9271771771771772, \"tpr\": 0.9860594795539034, \"n\": 5328}, {\"threshold\": 0.732, \"p\": 27976, \"fpr\": 0.9271771771771772, \"tpr\": 0.9859879897054619, \"n\": 5328}, {\"threshold\": 0.733, \"p\": 27976, \"fpr\": 0.9271771771771772, \"tpr\": 0.9859879897054619, \"n\": 5328}, {\"threshold\": 0.734, \"p\": 27976, \"fpr\": 0.9271771771771772, \"tpr\": 0.9859879897054619, \"n\": 5328}, {\"threshold\": 0.735, \"p\": 27976, \"fpr\": 0.9269894894894894, \"tpr\": 0.9859522447812411, \"n\": 5328}, {\"threshold\": 0.736, \"p\": 27976, \"fpr\": 0.9269894894894894, \"tpr\": 0.9859522447812411, \"n\": 5328}, {\"threshold\": 0.737, \"p\": 27976, \"fpr\": 0.9269894894894894, \"tpr\": 0.9859522447812411, \"n\": 5328}, {\"threshold\": 0.738, \"p\": 27976, \"fpr\": 0.9269894894894894, \"tpr\": 0.9859522447812411, \"n\": 5328}, {\"threshold\": 0.739, \"p\": 27976, \"fpr\": 0.9269894894894894, \"tpr\": 0.9859522447812411, \"n\": 5328}, {\"threshold\": 0.74, \"p\": 27976, \"fpr\": 0.9268018018018018, \"tpr\": 0.9858807549327996, \"n\": 5328}, {\"threshold\": 0.741, \"p\": 27976, \"fpr\": 0.9268018018018018, \"tpr\": 0.9858807549327996, \"n\": 5328}, {\"threshold\": 0.742, \"p\": 27976, \"fpr\": 0.9268018018018018, \"tpr\": 0.9858807549327996, \"n\": 5328}, {\"threshold\": 0.743, \"p\": 27976, \"fpr\": 0.9268018018018018, \"tpr\": 0.9858807549327996, \"n\": 5328}, {\"threshold\": 0.744, \"p\": 27976, \"fpr\": 0.9268018018018018, \"tpr\": 0.9858807549327996, \"n\": 5328}, {\"threshold\": 0.745, \"p\": 27976, \"fpr\": 0.9268018018018018, \"tpr\": 0.9858807549327996, \"n\": 5328}, {\"threshold\": 0.746, \"p\": 27976, \"fpr\": 0.9268018018018018, \"tpr\": 0.9858807549327996, \"n\": 5328}, {\"threshold\": 0.747, \"p\": 27976, \"fpr\": 0.9268018018018018, \"tpr\": 0.9858807549327996, \"n\": 5328}, {\"threshold\": 0.748, \"p\": 27976, \"fpr\": 0.9268018018018018, \"tpr\": 0.9858807549327996, \"n\": 5328}, {\"threshold\": 0.749, \"p\": 27976, \"fpr\": 0.9268018018018018, \"tpr\": 0.9858807549327996, \"n\": 5328}, {\"threshold\": 0.75, \"p\": 27976, \"fpr\": 0.9268018018018018, \"tpr\": 0.9858807549327996, \"n\": 5328}, {\"threshold\": 0.751, \"p\": 27976, \"fpr\": 0.9268018018018018, \"tpr\": 0.9858807549327996, \"n\": 5328}, {\"threshold\": 0.752, \"p\": 27976, \"fpr\": 0.9268018018018018, \"tpr\": 0.9858807549327996, \"n\": 5328}, {\"threshold\": 0.753, \"p\": 27976, \"fpr\": 0.9268018018018018, \"tpr\": 0.9858807549327996, \"n\": 5328}, {\"threshold\": 0.754, \"p\": 27976, \"fpr\": 0.9268018018018018, \"tpr\": 0.9858807549327996, \"n\": 5328}, {\"threshold\": 0.755, \"p\": 27976, \"fpr\": 0.9268018018018018, \"tpr\": 0.9858807549327996, \"n\": 5328}, {\"threshold\": 0.756, \"p\": 27976, \"fpr\": 0.9268018018018018, \"tpr\": 0.9858807549327996, \"n\": 5328}, {\"threshold\": 0.757, \"p\": 27976, \"fpr\": 0.9268018018018018, \"tpr\": 0.9858807549327996, \"n\": 5328}, {\"threshold\": 0.758, \"p\": 27976, \"fpr\": 0.9268018018018018, \"tpr\": 0.9858450100085788, \"n\": 5328}, {\"threshold\": 0.759, \"p\": 27976, \"fpr\": 0.9268018018018018, \"tpr\": 0.9858450100085788, \"n\": 5328}, {\"threshold\": 0.76, \"p\": 27976, \"fpr\": 0.9268018018018018, \"tpr\": 0.9858450100085788, \"n\": 5328}, {\"threshold\": 0.761, \"p\": 27976, \"fpr\": 0.9268018018018018, \"tpr\": 0.9858450100085788, \"n\": 5328}, {\"threshold\": 0.762, \"p\": 27976, \"fpr\": 0.9268018018018018, \"tpr\": 0.9857735201601373, \"n\": 5328}, {\"threshold\": 0.763, \"p\": 27976, \"fpr\": 0.9268018018018018, \"tpr\": 0.9857735201601373, \"n\": 5328}, {\"threshold\": 0.764, \"p\": 27976, \"fpr\": 0.9268018018018018, \"tpr\": 0.9857735201601373, \"n\": 5328}, {\"threshold\": 0.765, \"p\": 27976, \"fpr\": 0.9268018018018018, \"tpr\": 0.9857735201601373, \"n\": 5328}, {\"threshold\": 0.766, \"p\": 27976, \"fpr\": 0.9268018018018018, \"tpr\": 0.9857735201601373, \"n\": 5328}, {\"threshold\": 0.767, \"p\": 27976, \"fpr\": 0.9268018018018018, \"tpr\": 0.9857735201601373, \"n\": 5328}, {\"threshold\": 0.768, \"p\": 27976, \"fpr\": 0.9268018018018018, \"tpr\": 0.9857735201601373, \"n\": 5328}, {\"threshold\": 0.769, \"p\": 27976, \"fpr\": 0.9268018018018018, \"tpr\": 0.9857735201601373, \"n\": 5328}, {\"threshold\": 0.77, \"p\": 27976, \"fpr\": 0.9268018018018018, \"tpr\": 0.9857735201601373, \"n\": 5328}, {\"threshold\": 0.771, \"p\": 27976, \"fpr\": 0.9268018018018018, \"tpr\": 0.9857735201601373, \"n\": 5328}, {\"threshold\": 0.772, \"p\": 27976, \"fpr\": 0.9268018018018018, \"tpr\": 0.9857377752359165, \"n\": 5328}, {\"threshold\": 0.773, \"p\": 27976, \"fpr\": 0.9268018018018018, \"tpr\": 0.9857377752359165, \"n\": 5328}, {\"threshold\": 0.774, \"p\": 27976, \"fpr\": 0.9268018018018018, \"tpr\": 0.9857377752359165, \"n\": 5328}, {\"threshold\": 0.775, \"p\": 27976, \"fpr\": 0.9268018018018018, \"tpr\": 0.9857377752359165, \"n\": 5328}, {\"threshold\": 0.776, \"p\": 27976, \"fpr\": 0.9268018018018018, \"tpr\": 0.9857377752359165, \"n\": 5328}, {\"threshold\": 0.777, \"p\": 27976, \"fpr\": 0.9268018018018018, \"tpr\": 0.9857377752359165, \"n\": 5328}, {\"threshold\": 0.778, \"p\": 27976, \"fpr\": 0.9268018018018018, \"tpr\": 0.9857377752359165, \"n\": 5328}, {\"threshold\": 0.779, \"p\": 27976, \"fpr\": 0.9268018018018018, \"tpr\": 0.9857377752359165, \"n\": 5328}, {\"threshold\": 0.78, \"p\": 27976, \"fpr\": 0.9234234234234234, \"tpr\": 0.9838432942522162, \"n\": 5328}, {\"threshold\": 0.781, \"p\": 27976, \"fpr\": 0.9234234234234234, \"tpr\": 0.9838432942522162, \"n\": 5328}, {\"threshold\": 0.782, \"p\": 27976, \"fpr\": 0.9234234234234234, \"tpr\": 0.9837718044037747, \"n\": 5328}, {\"threshold\": 0.783, \"p\": 27976, \"fpr\": 0.9234234234234234, \"tpr\": 0.9837718044037747, \"n\": 5328}, {\"threshold\": 0.784, \"p\": 27976, \"fpr\": 0.9234234234234234, \"tpr\": 0.9837718044037747, \"n\": 5328}, {\"threshold\": 0.785, \"p\": 27976, \"fpr\": 0.9234234234234234, \"tpr\": 0.9837718044037747, \"n\": 5328}, {\"threshold\": 0.786, \"p\": 27976, \"fpr\": 0.9234234234234234, \"tpr\": 0.9837718044037747, \"n\": 5328}, {\"threshold\": 0.787, \"p\": 27976, \"fpr\": 0.9234234234234234, \"tpr\": 0.9837718044037747, \"n\": 5328}, {\"threshold\": 0.788, \"p\": 27976, \"fpr\": 0.9234234234234234, \"tpr\": 0.9837718044037747, \"n\": 5328}, {\"threshold\": 0.789, \"p\": 27976, \"fpr\": 0.9232357357357357, \"tpr\": 0.9835573348584501, \"n\": 5328}, {\"threshold\": 0.79, \"p\": 27976, \"fpr\": 0.9232357357357357, \"tpr\": 0.9835573348584501, \"n\": 5328}, {\"threshold\": 0.791, \"p\": 27976, \"fpr\": 0.9232357357357357, \"tpr\": 0.9835573348584501, \"n\": 5328}, {\"threshold\": 0.792, \"p\": 27976, \"fpr\": 0.9232357357357357, \"tpr\": 0.9835573348584501, \"n\": 5328}, {\"threshold\": 0.793, \"p\": 27976, \"fpr\": 0.9232357357357357, \"tpr\": 0.9835573348584501, \"n\": 5328}, {\"threshold\": 0.794, \"p\": 27976, \"fpr\": 0.9232357357357357, \"tpr\": 0.9835573348584501, \"n\": 5328}, {\"threshold\": 0.795, \"p\": 27976, \"fpr\": 0.9232357357357357, \"tpr\": 0.9835573348584501, \"n\": 5328}, {\"threshold\": 0.796, \"p\": 27976, \"fpr\": 0.9222972972972973, \"tpr\": 0.9829496711466972, \"n\": 5328}, {\"threshold\": 0.797, \"p\": 27976, \"fpr\": 0.1313813813813814, \"tpr\": 0.41446239633971976, \"n\": 5328}, {\"threshold\": 0.798, \"p\": 27976, \"fpr\": 0.1313813813813814, \"tpr\": 0.41446239633971976, \"n\": 5328}, {\"threshold\": 0.799, \"p\": 27976, \"fpr\": 0.1313813813813814, \"tpr\": 0.41446239633971976, \"n\": 5328}, {\"threshold\": 0.8, \"p\": 27976, \"fpr\": 0.1313813813813814, \"tpr\": 0.41446239633971976, \"n\": 5328}, {\"threshold\": 0.801, \"p\": 27976, \"fpr\": 0.1313813813813814, \"tpr\": 0.41446239633971976, \"n\": 5328}, {\"threshold\": 0.802, \"p\": 27976, \"fpr\": 0.1313813813813814, \"tpr\": 0.41446239633971976, \"n\": 5328}, {\"threshold\": 0.803, \"p\": 27976, \"fpr\": 0.1313813813813814, \"tpr\": 0.41446239633971976, \"n\": 5328}, {\"threshold\": 0.804, \"p\": 27976, \"fpr\": 0.1313813813813814, \"tpr\": 0.41446239633971976, \"n\": 5328}, {\"threshold\": 0.805, \"p\": 27976, \"fpr\": 0.1313813813813814, \"tpr\": 0.41446239633971976, \"n\": 5328}, {\"threshold\": 0.806, \"p\": 27976, \"fpr\": 0.1313813813813814, \"tpr\": 0.41446239633971976, \"n\": 5328}, {\"threshold\": 0.807, \"p\": 27976, \"fpr\": 0.1313813813813814, \"tpr\": 0.41446239633971976, \"n\": 5328}, {\"threshold\": 0.808, \"p\": 27976, \"fpr\": 0.1313813813813814, \"tpr\": 0.41446239633971976, \"n\": 5328}, {\"threshold\": 0.809, \"p\": 27976, \"fpr\": 0.131006006006006, \"tpr\": 0.41428367171861596, \"n\": 5328}, {\"threshold\": 0.81, \"p\": 27976, \"fpr\": 0.131006006006006, \"tpr\": 0.41428367171861596, \"n\": 5328}, {\"threshold\": 0.811, \"p\": 27976, \"fpr\": 0.131006006006006, \"tpr\": 0.41428367171861596, \"n\": 5328}, {\"threshold\": 0.812, \"p\": 27976, \"fpr\": 0.131006006006006, \"tpr\": 0.41428367171861596, \"n\": 5328}, {\"threshold\": 0.813, \"p\": 27976, \"fpr\": 0.131006006006006, \"tpr\": 0.41428367171861596, \"n\": 5328}, {\"threshold\": 0.814, \"p\": 27976, \"fpr\": 0.131006006006006, \"tpr\": 0.41428367171861596, \"n\": 5328}, {\"threshold\": 0.815, \"p\": 27976, \"fpr\": 0.131006006006006, \"tpr\": 0.41428367171861596, \"n\": 5328}, {\"threshold\": 0.816, \"p\": 27976, \"fpr\": 0.131006006006006, \"tpr\": 0.41428367171861596, \"n\": 5328}, {\"threshold\": 0.817, \"p\": 27976, \"fpr\": 0.131006006006006, \"tpr\": 0.41428367171861596, \"n\": 5328}, {\"threshold\": 0.818, \"p\": 27976, \"fpr\": 0.131006006006006, \"tpr\": 0.41428367171861596, \"n\": 5328}, {\"threshold\": 0.819, \"p\": 27976, \"fpr\": 0.131006006006006, \"tpr\": 0.41428367171861596, \"n\": 5328}, {\"threshold\": 0.82, \"p\": 27976, \"fpr\": 0.131006006006006, \"tpr\": 0.41428367171861596, \"n\": 5328}, {\"threshold\": 0.821, \"p\": 27976, \"fpr\": 0.131006006006006, \"tpr\": 0.41428367171861596, \"n\": 5328}, {\"threshold\": 0.822, \"p\": 27976, \"fpr\": 0.131006006006006, \"tpr\": 0.41428367171861596, \"n\": 5328}, {\"threshold\": 0.823, \"p\": 27976, \"fpr\": 0.131006006006006, \"tpr\": 0.41428367171861596, \"n\": 5328}, {\"threshold\": 0.824, \"p\": 27976, \"fpr\": 0.131006006006006, \"tpr\": 0.41428367171861596, \"n\": 5328}, {\"threshold\": 0.825, \"p\": 27976, \"fpr\": 0.131006006006006, \"tpr\": 0.41428367171861596, \"n\": 5328}, {\"threshold\": 0.826, \"p\": 27976, \"fpr\": 0.131006006006006, \"tpr\": 0.41428367171861596, \"n\": 5328}, {\"threshold\": 0.827, \"p\": 27976, \"fpr\": 0.1308183183183183, \"tpr\": 0.4141764369459537, \"n\": 5328}, {\"threshold\": 0.828, \"p\": 27976, \"fpr\": 0.1308183183183183, \"tpr\": 0.4141764369459537, \"n\": 5328}, {\"threshold\": 0.829, \"p\": 27976, \"fpr\": 0.1308183183183183, \"tpr\": 0.4141764369459537, \"n\": 5328}, {\"threshold\": 0.83, \"p\": 27976, \"fpr\": 0.1308183183183183, \"tpr\": 0.4141764369459537, \"n\": 5328}, {\"threshold\": 0.831, \"p\": 27976, \"fpr\": 0.1308183183183183, \"tpr\": 0.4141764369459537, \"n\": 5328}, {\"threshold\": 0.832, \"p\": 27976, \"fpr\": 0.1308183183183183, \"tpr\": 0.4141764369459537, \"n\": 5328}, {\"threshold\": 0.833, \"p\": 27976, \"fpr\": 0.1308183183183183, \"tpr\": 0.4141764369459537, \"n\": 5328}, {\"threshold\": 0.834, \"p\": 27976, \"fpr\": 0.1308183183183183, \"tpr\": 0.4141764369459537, \"n\": 5328}, {\"threshold\": 0.835, \"p\": 27976, \"fpr\": 0.1308183183183183, \"tpr\": 0.4141764369459537, \"n\": 5328}, {\"threshold\": 0.836, \"p\": 27976, \"fpr\": 0.1308183183183183, \"tpr\": 0.4141764369459537, \"n\": 5328}, {\"threshold\": 0.837, \"p\": 27976, \"fpr\": 0.1308183183183183, \"tpr\": 0.4141764369459537, \"n\": 5328}, {\"threshold\": 0.838, \"p\": 27976, \"fpr\": 0.1308183183183183, \"tpr\": 0.4141764369459537, \"n\": 5328}, {\"threshold\": 0.839, \"p\": 27976, \"fpr\": 0.1308183183183183, \"tpr\": 0.4141764369459537, \"n\": 5328}, {\"threshold\": 0.84, \"p\": 27976, \"fpr\": 0.13063063063063063, \"tpr\": 0.41410494709751217, \"n\": 5328}, {\"threshold\": 0.841, \"p\": 27976, \"fpr\": 0.13063063063063063, \"tpr\": 0.4140692021732914, \"n\": 5328}, {\"threshold\": 0.842, \"p\": 27976, \"fpr\": 0.13063063063063063, \"tpr\": 0.4140692021732914, \"n\": 5328}, {\"threshold\": 0.843, \"p\": 27976, \"fpr\": 0.13044294294294295, \"tpr\": 0.41403345724907065, \"n\": 5328}, {\"threshold\": 0.844, \"p\": 27976, \"fpr\": 0.13044294294294295, \"tpr\": 0.41403345724907065, \"n\": 5328}, {\"threshold\": 0.845, \"p\": 27976, \"fpr\": 0.13044294294294295, \"tpr\": 0.41403345724907065, \"n\": 5328}, {\"threshold\": 0.846, \"p\": 27976, \"fpr\": 0.13044294294294295, \"tpr\": 0.41403345724907065, \"n\": 5328}, {\"threshold\": 0.847, \"p\": 27976, \"fpr\": 0.13044294294294295, \"tpr\": 0.41403345724907065, \"n\": 5328}, {\"threshold\": 0.848, \"p\": 27976, \"fpr\": 0.13044294294294295, \"tpr\": 0.4139977123248499, \"n\": 5328}, {\"threshold\": 0.849, \"p\": 27976, \"fpr\": 0.13044294294294295, \"tpr\": 0.41385473262796685, \"n\": 5328}, {\"threshold\": 0.85, \"p\": 27976, \"fpr\": 0.13044294294294295, \"tpr\": 0.41385473262796685, \"n\": 5328}, {\"threshold\": 0.851, \"p\": 27976, \"fpr\": 0.13044294294294295, \"tpr\": 0.41385473262796685, \"n\": 5328}, {\"threshold\": 0.852, \"p\": 27976, \"fpr\": 0.13044294294294295, \"tpr\": 0.41385473262796685, \"n\": 5328}, {\"threshold\": 0.853, \"p\": 27976, \"fpr\": 0.13044294294294295, \"tpr\": 0.41385473262796685, \"n\": 5328}, {\"threshold\": 0.854, \"p\": 27976, \"fpr\": 0.13044294294294295, \"tpr\": 0.41385473262796685, \"n\": 5328}, {\"threshold\": 0.855, \"p\": 27976, \"fpr\": 0.13044294294294295, \"tpr\": 0.4138189877037461, \"n\": 5328}, {\"threshold\": 0.856, \"p\": 27976, \"fpr\": 0.12894144144144143, \"tpr\": 0.41149556762939665, \"n\": 5328}, {\"threshold\": 0.857, \"p\": 27976, \"fpr\": 0.12894144144144143, \"tpr\": 0.41149556762939665, \"n\": 5328}, {\"threshold\": 0.858, \"p\": 27976, \"fpr\": 0.12894144144144143, \"tpr\": 0.41149556762939665, \"n\": 5328}, {\"threshold\": 0.859, \"p\": 27976, \"fpr\": 0.12894144144144143, \"tpr\": 0.41149556762939665, \"n\": 5328}, {\"threshold\": 0.86, \"p\": 27976, \"fpr\": 0.12894144144144143, \"tpr\": 0.41149556762939665, \"n\": 5328}, {\"threshold\": 0.861, \"p\": 27976, \"fpr\": 0.12894144144144143, \"tpr\": 0.41149556762939665, \"n\": 5328}, {\"threshold\": 0.862, \"p\": 27976, \"fpr\": 0.12894144144144143, \"tpr\": 0.4114598227051759, \"n\": 5328}, {\"threshold\": 0.863, \"p\": 27976, \"fpr\": 0.12894144144144143, \"tpr\": 0.4114598227051759, \"n\": 5328}, {\"threshold\": 0.864, \"p\": 27976, \"fpr\": 0.12894144144144143, \"tpr\": 0.4114598227051759, \"n\": 5328}, {\"threshold\": 0.865, \"p\": 27976, \"fpr\": 0.12894144144144143, \"tpr\": 0.4114598227051759, \"n\": 5328}, {\"threshold\": 0.866, \"p\": 27976, \"fpr\": 0.12894144144144143, \"tpr\": 0.4114598227051759, \"n\": 5328}, {\"threshold\": 0.867, \"p\": 27976, \"fpr\": 0.12894144144144143, \"tpr\": 0.4114598227051759, \"n\": 5328}, {\"threshold\": 0.868, \"p\": 27976, \"fpr\": 0.12894144144144143, \"tpr\": 0.4114598227051759, \"n\": 5328}, {\"threshold\": 0.869, \"p\": 27976, \"fpr\": 0.12875375375375375, \"tpr\": 0.4114598227051759, \"n\": 5328}, {\"threshold\": 0.87, \"p\": 27976, \"fpr\": 0.12875375375375375, \"tpr\": 0.4114598227051759, \"n\": 5328}, {\"threshold\": 0.871, \"p\": 27976, \"fpr\": 0.12875375375375375, \"tpr\": 0.4114598227051759, \"n\": 5328}, {\"threshold\": 0.872, \"p\": 27976, \"fpr\": 0.12875375375375375, \"tpr\": 0.4114598227051759, \"n\": 5328}, {\"threshold\": 0.873, \"p\": 27976, \"fpr\": 0.12875375375375375, \"tpr\": 0.4114598227051759, \"n\": 5328}, {\"threshold\": 0.874, \"p\": 27976, \"fpr\": 0.12875375375375375, \"tpr\": 0.4114598227051759, \"n\": 5328}, {\"threshold\": 0.875, \"p\": 27976, \"fpr\": 0.12875375375375375, \"tpr\": 0.4114598227051759, \"n\": 5328}, {\"threshold\": 0.876, \"p\": 27976, \"fpr\": 0.12875375375375375, \"tpr\": 0.4114598227051759, \"n\": 5328}, {\"threshold\": 0.877, \"p\": 27976, \"fpr\": 0.12875375375375375, \"tpr\": 0.4114598227051759, \"n\": 5328}, {\"threshold\": 0.878, \"p\": 27976, \"fpr\": 0.12875375375375375, \"tpr\": 0.4114598227051759, \"n\": 5328}, {\"threshold\": 0.879, \"p\": 27976, \"fpr\": 0.12875375375375375, \"tpr\": 0.4114598227051759, \"n\": 5328}, {\"threshold\": 0.88, \"p\": 27976, \"fpr\": 0.12875375375375375, \"tpr\": 0.4114598227051759, \"n\": 5328}, {\"threshold\": 0.881, \"p\": 27976, \"fpr\": 0.12875375375375375, \"tpr\": 0.4114598227051759, \"n\": 5328}, {\"threshold\": 0.882, \"p\": 27976, \"fpr\": 0.12875375375375375, \"tpr\": 0.4114598227051759, \"n\": 5328}, {\"threshold\": 0.883, \"p\": 27976, \"fpr\": 0.12875375375375375, \"tpr\": 0.4114598227051759, \"n\": 5328}, {\"threshold\": 0.884, \"p\": 27976, \"fpr\": 0.12875375375375375, \"tpr\": 0.4114598227051759, \"n\": 5328}, {\"threshold\": 0.885, \"p\": 27976, \"fpr\": 0.12875375375375375, \"tpr\": 0.4114598227051759, \"n\": 5328}, {\"threshold\": 0.886, \"p\": 27976, \"fpr\": 0.12875375375375375, \"tpr\": 0.4114598227051759, \"n\": 5328}, {\"threshold\": 0.887, \"p\": 27976, \"fpr\": 0.12875375375375375, \"tpr\": 0.4114598227051759, \"n\": 5328}, {\"threshold\": 0.888, \"p\": 27976, \"fpr\": 0.12875375375375375, \"tpr\": 0.4114598227051759, \"n\": 5328}, {\"threshold\": 0.889, \"p\": 27976, \"fpr\": 0.12875375375375375, \"tpr\": 0.4113883328567343, \"n\": 5328}, {\"threshold\": 0.89, \"p\": 27976, \"fpr\": 0.12875375375375375, \"tpr\": 0.4113883328567343, \"n\": 5328}, {\"threshold\": 0.891, \"p\": 27976, \"fpr\": 0.12875375375375375, \"tpr\": 0.4113883328567343, \"n\": 5328}, {\"threshold\": 0.892, \"p\": 27976, \"fpr\": 0.12875375375375375, \"tpr\": 0.4113883328567343, \"n\": 5328}, {\"threshold\": 0.893, \"p\": 27976, \"fpr\": 0.12875375375375375, \"tpr\": 0.4113883328567343, \"n\": 5328}, {\"threshold\": 0.894, \"p\": 27976, \"fpr\": 0.12875375375375375, \"tpr\": 0.4113883328567343, \"n\": 5328}, {\"threshold\": 0.895, \"p\": 27976, \"fpr\": 0.12875375375375375, \"tpr\": 0.4113883328567343, \"n\": 5328}, {\"threshold\": 0.896, \"p\": 27976, \"fpr\": 0.12856606606606608, \"tpr\": 0.41099513869030596, \"n\": 5328}, {\"threshold\": 0.897, \"p\": 27976, \"fpr\": 0.12856606606606608, \"tpr\": 0.4109593937660852, \"n\": 5328}, {\"threshold\": 0.898, \"p\": 27976, \"fpr\": 0.12837837837837837, \"tpr\": 0.41081641406920216, \"n\": 5328}, {\"threshold\": 0.899, \"p\": 27976, \"fpr\": 0.12837837837837837, \"tpr\": 0.41081641406920216, \"n\": 5328}, {\"threshold\": 0.9, \"p\": 27976, \"fpr\": 0.1281906906906907, \"tpr\": 0.41074492422076064, \"n\": 5328}, {\"threshold\": 0.901, \"p\": 27976, \"fpr\": 0.1281906906906907, \"tpr\": 0.4107091792965399, \"n\": 5328}, {\"threshold\": 0.902, \"p\": 27976, \"fpr\": 0.1281906906906907, \"tpr\": 0.4107091792965399, \"n\": 5328}, {\"threshold\": 0.903, \"p\": 27976, \"fpr\": 0.1281906906906907, \"tpr\": 0.4107091792965399, \"n\": 5328}, {\"threshold\": 0.904, \"p\": 27976, \"fpr\": 0.1281906906906907, \"tpr\": 0.41056619959965684, \"n\": 5328}, {\"threshold\": 0.905, \"p\": 27976, \"fpr\": 0.05442942942942943, \"tpr\": 0.26594223620245927, \"n\": 5328}, {\"threshold\": 0.906, \"p\": 27976, \"fpr\": 0.05105105105105105, \"tpr\": 0.2600800686302545, \"n\": 5328}, {\"threshold\": 0.907, \"p\": 27976, \"fpr\": 0.05105105105105105, \"tpr\": 0.2600800686302545, \"n\": 5328}, {\"threshold\": 0.908, \"p\": 27976, \"fpr\": 0.05105105105105105, \"tpr\": 0.2600800686302545, \"n\": 5328}, {\"threshold\": 0.909, \"p\": 27976, \"fpr\": 0.05105105105105105, \"tpr\": 0.2600800686302545, \"n\": 5328}, {\"threshold\": 0.91, \"p\": 27976, \"fpr\": 0.05105105105105105, \"tpr\": 0.2600800686302545, \"n\": 5328}, {\"threshold\": 0.911, \"p\": 27976, \"fpr\": 0.05105105105105105, \"tpr\": 0.260008578781813, \"n\": 5328}, {\"threshold\": 0.912, \"p\": 27976, \"fpr\": 0.05105105105105105, \"tpr\": 0.260008578781813, \"n\": 5328}, {\"threshold\": 0.913, \"p\": 27976, \"fpr\": 0.05105105105105105, \"tpr\": 0.260008578781813, \"n\": 5328}, {\"threshold\": 0.914, \"p\": 27976, \"fpr\": 0.05105105105105105, \"tpr\": 0.260008578781813, \"n\": 5328}, {\"threshold\": 0.915, \"p\": 27976, \"fpr\": 0.05105105105105105, \"tpr\": 0.260008578781813, \"n\": 5328}, {\"threshold\": 0.916, \"p\": 27976, \"fpr\": 0.05105105105105105, \"tpr\": 0.260008578781813, \"n\": 5328}, {\"threshold\": 0.917, \"p\": 27976, \"fpr\": 0.05105105105105105, \"tpr\": 0.260008578781813, \"n\": 5328}, {\"threshold\": 0.918, \"p\": 27976, \"fpr\": 0.05105105105105105, \"tpr\": 0.260008578781813, \"n\": 5328}, {\"threshold\": 0.919, \"p\": 27976, \"fpr\": 0.04973723723723724, \"tpr\": 0.25439662567915355, \"n\": 5328}, {\"threshold\": 0.92, \"p\": 27976, \"fpr\": 0.04973723723723724, \"tpr\": 0.25439662567915355, \"n\": 5328}, {\"threshold\": 0.921, \"p\": 27976, \"fpr\": 0.04973723723723724, \"tpr\": 0.2543608807549328, \"n\": 5328}, {\"threshold\": 0.922, \"p\": 27976, \"fpr\": 0.04973723723723724, \"tpr\": 0.2543608807549328, \"n\": 5328}, {\"threshold\": 0.923, \"p\": 27976, \"fpr\": 0.04973723723723724, \"tpr\": 0.2543608807549328, \"n\": 5328}, {\"threshold\": 0.924, \"p\": 27976, \"fpr\": 0.04973723723723724, \"tpr\": 0.2543608807549328, \"n\": 5328}, {\"threshold\": 0.925, \"p\": 27976, \"fpr\": 0.04973723723723724, \"tpr\": 0.2543608807549328, \"n\": 5328}, {\"threshold\": 0.926, \"p\": 27976, \"fpr\": 0.04973723723723724, \"tpr\": 0.2543608807549328, \"n\": 5328}, {\"threshold\": 0.927, \"p\": 27976, \"fpr\": 0.04973723723723724, \"tpr\": 0.2543608807549328, \"n\": 5328}, {\"threshold\": 0.928, \"p\": 27976, \"fpr\": 0.04973723723723724, \"tpr\": 0.2543608807549328, \"n\": 5328}, {\"threshold\": 0.929, \"p\": 27976, \"fpr\": 0.04973723723723724, \"tpr\": 0.2543608807549328, \"n\": 5328}, {\"threshold\": 0.93, \"p\": 27976, \"fpr\": 0.04973723723723724, \"tpr\": 0.2543608807549328, \"n\": 5328}, {\"threshold\": 0.931, \"p\": 27976, \"fpr\": 0.04973723723723724, \"tpr\": 0.2543608807549328, \"n\": 5328}, {\"threshold\": 0.932, \"p\": 27976, \"fpr\": 0.04954954954954955, \"tpr\": 0.2543608807549328, \"n\": 5328}, {\"threshold\": 0.933, \"p\": 27976, \"fpr\": 0.04954954954954955, \"tpr\": 0.2543608807549328, \"n\": 5328}, {\"threshold\": 0.934, \"p\": 27976, \"fpr\": 0.04954954954954955, \"tpr\": 0.2543608807549328, \"n\": 5328}, {\"threshold\": 0.935, \"p\": 27976, \"fpr\": 0.048986486486486486, \"tpr\": 0.2538961967400629, \"n\": 5328}, {\"threshold\": 0.936, \"p\": 27976, \"fpr\": 0.048986486486486486, \"tpr\": 0.2538247068916214, \"n\": 5328}, {\"threshold\": 0.937, \"p\": 27976, \"fpr\": 0.048986486486486486, \"tpr\": 0.2538247068916214, \"n\": 5328}, {\"threshold\": 0.938, \"p\": 27976, \"fpr\": 0.048986486486486486, \"tpr\": 0.2536459822705176, \"n\": 5328}, {\"threshold\": 0.939, \"p\": 27976, \"fpr\": 0.048986486486486486, \"tpr\": 0.2536459822705176, \"n\": 5328}, {\"threshold\": 0.94, \"p\": 27976, \"fpr\": 0.048986486486486486, \"tpr\": 0.2536459822705176, \"n\": 5328}, {\"threshold\": 0.941, \"p\": 27976, \"fpr\": 0.016516516516516516, \"tpr\": 0.11749356591364027, \"n\": 5328}, {\"threshold\": 0.942, \"p\": 27976, \"fpr\": 0.016516516516516516, \"tpr\": 0.11749356591364027, \"n\": 5328}, {\"threshold\": 0.943, \"p\": 27976, \"fpr\": 0.016516516516516516, \"tpr\": 0.11749356591364027, \"n\": 5328}, {\"threshold\": 0.944, \"p\": 27976, \"fpr\": 0.016516516516516516, \"tpr\": 0.11749356591364027, \"n\": 5328}, {\"threshold\": 0.945, \"p\": 27976, \"fpr\": 0.016516516516516516, \"tpr\": 0.11749356591364027, \"n\": 5328}, {\"threshold\": 0.946, \"p\": 27976, \"fpr\": 0.016516516516516516, \"tpr\": 0.11749356591364027, \"n\": 5328}, {\"threshold\": 0.947, \"p\": 27976, \"fpr\": 0.016516516516516516, \"tpr\": 0.11749356591364027, \"n\": 5328}, {\"threshold\": 0.948, \"p\": 27976, \"fpr\": 0.016516516516516516, \"tpr\": 0.11749356591364027, \"n\": 5328}, {\"threshold\": 0.949, \"p\": 27976, \"fpr\": 0.016516516516516516, \"tpr\": 0.11749356591364027, \"n\": 5328}, {\"threshold\": 0.95, \"p\": 27976, \"fpr\": 0.016516516516516516, \"tpr\": 0.11749356591364027, \"n\": 5328}, {\"threshold\": 0.951, \"p\": 27976, \"fpr\": 0.016516516516516516, \"tpr\": 0.11749356591364027, \"n\": 5328}, {\"threshold\": 0.952, \"p\": 27976, \"fpr\": 0.016516516516516516, \"tpr\": 0.11749356591364027, \"n\": 5328}, {\"threshold\": 0.953, \"p\": 27976, \"fpr\": 0.016516516516516516, \"tpr\": 0.11749356591364027, \"n\": 5328}, {\"threshold\": 0.954, \"p\": 27976, \"fpr\": 0.016516516516516516, \"tpr\": 0.11749356591364027, \"n\": 5328}, {\"threshold\": 0.955, \"p\": 27976, \"fpr\": 0.01632882882882883, \"tpr\": 0.11738633114097798, \"n\": 5328}, {\"threshold\": 0.956, \"p\": 27976, \"fpr\": 0.01632882882882883, \"tpr\": 0.11738633114097798, \"n\": 5328}, {\"threshold\": 0.957, \"p\": 27976, \"fpr\": 0.01632882882882883, \"tpr\": 0.11738633114097798, \"n\": 5328}, {\"threshold\": 0.958, \"p\": 27976, \"fpr\": 0.01632882882882883, \"tpr\": 0.11735058621675722, \"n\": 5328}, {\"threshold\": 0.959, \"p\": 27976, \"fpr\": 0.01126126126126126, \"tpr\": 0.09318701744352302, \"n\": 5328}, {\"threshold\": 0.96, \"p\": 27976, \"fpr\": 0.011073573573573574, \"tpr\": 0.09307978267086074, \"n\": 5328}, {\"threshold\": 0.961, \"p\": 27976, \"fpr\": 0.011073573573573574, \"tpr\": 0.09265084358021161, \"n\": 5328}, {\"threshold\": 0.962, \"p\": 27976, \"fpr\": 0.011073573573573574, \"tpr\": 0.09261509865599085, \"n\": 5328}, {\"threshold\": 0.963, \"p\": 27976, \"fpr\": 0.011073573573573574, \"tpr\": 0.09261509865599085, \"n\": 5328}, {\"threshold\": 0.964, \"p\": 27976, \"fpr\": 0.011073573573573574, \"tpr\": 0.09261509865599085, \"n\": 5328}, {\"threshold\": 0.965, \"p\": 27976, \"fpr\": 0.010885885885885885, \"tpr\": 0.0905776379754075, \"n\": 5328}, {\"threshold\": 0.966, \"p\": 27976, \"fpr\": 0.010885885885885885, \"tpr\": 0.09043465827852445, \"n\": 5328}, {\"threshold\": 0.967, \"p\": 27976, \"fpr\": 0.010885885885885885, \"tpr\": 0.09043465827852445, \"n\": 5328}, {\"threshold\": 0.968, \"p\": 27976, \"fpr\": 0.010885885885885885, \"tpr\": 0.09043465827852445, \"n\": 5328}, {\"threshold\": 0.969, \"p\": 27976, \"fpr\": 0.010885885885885885, \"tpr\": 0.09043465827852445, \"n\": 5328}, {\"threshold\": 0.97, \"p\": 27976, \"fpr\": 0.010885885885885885, \"tpr\": 0.0903989133543037, \"n\": 5328}, {\"threshold\": 0.971, \"p\": 27976, \"fpr\": 0.010885885885885885, \"tpr\": 0.0902916785816414, \"n\": 5328}, {\"threshold\": 0.972, \"p\": 27976, \"fpr\": 0.010885885885885885, \"tpr\": 0.09025593365742064, \"n\": 5328}, {\"threshold\": 0.973, \"p\": 27976, \"fpr\": 0.010698198198198198, \"tpr\": 0.0901129539605376, \"n\": 5328}, {\"threshold\": 0.974, \"p\": 27976, \"fpr\": 0.010698198198198198, \"tpr\": 0.0901129539605376, \"n\": 5328}, {\"threshold\": 0.975, \"p\": 27976, \"fpr\": 0.00487987987987988, \"tpr\": 0.05461824420932228, \"n\": 5328}, {\"threshold\": 0.976, \"p\": 27976, \"fpr\": 0.00487987987987988, \"tpr\": 0.05461824420932228, \"n\": 5328}, {\"threshold\": 0.977, \"p\": 27976, \"fpr\": 0.00487987987987988, \"tpr\": 0.05458249928510152, \"n\": 5328}, {\"threshold\": 0.978, \"p\": 27976, \"fpr\": 0.00487987987987988, \"tpr\": 0.05458249928510152, \"n\": 5328}, {\"threshold\": 0.979, \"p\": 27976, \"fpr\": 0.004316816816816817, \"tpr\": 0.052294824134972835, \"n\": 5328}, {\"threshold\": 0.98, \"p\": 27976, \"fpr\": 0.004316816816816817, \"tpr\": 0.052294824134972835, \"n\": 5328}, {\"threshold\": 0.981, \"p\": 27976, \"fpr\": 0.004316816816816817, \"tpr\": 0.052223334286531316, \"n\": 5328}, {\"threshold\": 0.982, \"p\": 27976, \"fpr\": 0.004316816816816817, \"tpr\": 0.052223334286531316, \"n\": 5328}, {\"threshold\": 0.983, \"p\": 27976, \"fpr\": 0.003941441441441441, \"tpr\": 0.04818415784958536, \"n\": 5328}, {\"threshold\": 0.984, \"p\": 27976, \"fpr\": 0.003941441441441441, \"tpr\": 0.0481484129253646, \"n\": 5328}, {\"threshold\": 0.985, \"p\": 27976, \"fpr\": 0.0018768768768768769, \"tpr\": 0.02802402058907635, \"n\": 5328}, {\"threshold\": 0.986, \"p\": 27976, \"fpr\": 0.0016891891891891893, \"tpr\": 0.027630826422647983, \"n\": 5328}, {\"threshold\": 0.987, \"p\": 27976, \"fpr\": 0.0016891891891891893, \"tpr\": 0.027595081498427224, \"n\": 5328}, {\"threshold\": 0.988, \"p\": 27976, \"fpr\": 0.0016891891891891893, \"tpr\": 0.027559336574206464, \"n\": 5328}, {\"threshold\": 0.989, \"p\": 27976, \"fpr\": 0.0016891891891891893, \"tpr\": 0.027559336574206464, \"n\": 5328}, {\"threshold\": 0.99, \"p\": 27976, \"fpr\": 0.001313813813813814, \"tpr\": 0.021053760366028025, \"n\": 5328}, {\"threshold\": 0.991, \"p\": 27976, \"fpr\": 0.001313813813813814, \"tpr\": 0.021018015441807262, \"n\": 5328}, {\"threshold\": 0.992, \"p\": 27976, \"fpr\": 0.001313813813813814, \"tpr\": 0.020589076351158135, \"n\": 5328}, {\"threshold\": 0.993, \"p\": 27976, \"fpr\": 0.0009384384384384384, \"tpr\": 0.019909922790963683, \"n\": 5328}, {\"threshold\": 0.994, \"p\": 27976, \"fpr\": 0.0005630630630630631, \"tpr\": 0.013046897340577637, \"n\": 5328}, {\"threshold\": 0.995, \"p\": 27976, \"fpr\": 0.0005630630630630631, \"tpr\": 0.01254646840148699, \"n\": 5328}, {\"threshold\": 0.996, \"p\": 27976, \"fpr\": 0.00037537537537537537, \"tpr\": 0.011402630826422648, \"n\": 5328}, {\"threshold\": 0.997, \"p\": 27976, \"fpr\": 0.00037537537537537537, \"tpr\": 0.007041750071489848, \"n\": 5328}, {\"threshold\": 0.998, \"p\": 27976, \"fpr\": 0.00018768768768768769, \"tpr\": 0.00546897340577638, \"n\": 5328}, {\"threshold\": 0.999, \"p\": 27976, \"fpr\": 0.00018768768768768769, \"tpr\": 0.0030383185587646556, \"n\": 5328}, {\"threshold\": 1.0, \"p\": 27976, \"fpr\": 0.0, \"tpr\": 0.0, \"n\": 5328}]}]], \"type\": \"Model\"}, \"ipython\": true, \"view_params\": {\"model_type\": \"regression\", \"view\": \"Summary\"}, \"model_type\": \"regression\", \"attributes\": {\"section_titles\": [\"Schema\", \"Hyperparameters\", \"Training Summary\", \"Settings\", \"Highest Positive Coefficients\", \"Lowest Negative Coefficients\"], \"sections\": [[[\"Number of coefficients\", 12], [\"Number of examples\", 133448], [\"Number of classes\", 2], [\"Number of feature columns\", 11], [\"Number of unpacked features\", 11]], [[\"L1 penalty\", 0.0], [\"L2 penalty\", 0.01]], [[\"Solver\", \"newton\"], [\"Solver iterations\", 6], [\"Solver status\", \"SUCCESS: Optimal solution found.\"], [\"Training time (sec)\", 1.784]], [[\"Log-likelihood\", 54057.6401]], [[\"love\", 1.3999], [\"(intercept)\", 1.3673], [\"awesome\", 1.058], [\"amazing\", 0.8928], [\"fantastic\", 0.8913]], [[\"terrible\", -2.0905], [\"horrible\", -1.9965], [\"awful\", -1.7647], [\"hate\", -1.4092], [\"bad\", -0.9858]]]}, \"evaluations\": [[\"test_data\", {\"roc_curve\": [{\"threshold\": 0.0, \"p\": 27976, \"fpr\": 1.0, \"tpr\": 1.0, \"n\": 5328}, {\"threshold\": 0.001, \"p\": 27976, \"fpr\": 0.9998123123123123, \"tpr\": 1.0, \"n\": 5328}, {\"threshold\": 0.002, \"p\": 27976, \"fpr\": 0.9996246246246246, \"tpr\": 1.0, \"n\": 5328}, {\"threshold\": 0.003, \"p\": 27976, \"fpr\": 0.9996246246246246, \"tpr\": 1.0, \"n\": 5328}, {\"threshold\": 0.004, \"p\": 27976, \"fpr\": 0.9994369369369369, \"tpr\": 1.0, \"n\": 5328}, {\"threshold\": 0.005, \"p\": 27976, \"fpr\": 0.9994369369369369, \"tpr\": 1.0, \"n\": 5328}, {\"threshold\": 0.006, \"p\": 27976, \"fpr\": 0.9992492492492493, \"tpr\": 1.0, \"n\": 5328}, {\"threshold\": 0.007, \"p\": 27976, \"fpr\": 0.9992492492492493, \"tpr\": 1.0, \"n\": 5328}, {\"threshold\": 0.008, \"p\": 27976, \"fpr\": 0.9992492492492493, \"tpr\": 1.0, \"n\": 5328}, {\"threshold\": 0.009, \"p\": 27976, \"fpr\": 0.9992492492492493, \"tpr\": 1.0, \"n\": 5328}, {\"threshold\": 0.01, \"p\": 27976, \"fpr\": 0.9990615615615616, \"tpr\": 1.0, \"n\": 5328}, {\"threshold\": 0.011, \"p\": 27976, \"fpr\": 0.9990615615615616, \"tpr\": 1.0, \"n\": 5328}, {\"threshold\": 0.012, \"p\": 27976, \"fpr\": 0.9990615615615616, \"tpr\": 1.0, \"n\": 5328}, {\"threshold\": 0.013, \"p\": 27976, \"fpr\": 0.9990615615615616, \"tpr\": 1.0, \"n\": 5328}, {\"threshold\": 0.014, \"p\": 27976, \"fpr\": 0.9990615615615616, \"tpr\": 1.0, \"n\": 5328}, {\"threshold\": 0.015, \"p\": 27976, \"fpr\": 0.9990615615615616, \"tpr\": 1.0, \"n\": 5328}, {\"threshold\": 0.016, \"p\": 27976, \"fpr\": 0.9990615615615616, \"tpr\": 1.0, \"n\": 5328}, {\"threshold\": 0.017, \"p\": 27976, \"fpr\": 0.9990615615615616, \"tpr\": 1.0, \"n\": 5328}, {\"threshold\": 0.018, \"p\": 27976, \"fpr\": 0.9990615615615616, \"tpr\": 1.0, \"n\": 5328}, {\"threshold\": 0.019, \"p\": 27976, \"fpr\": 0.9990615615615616, \"tpr\": 1.0, \"n\": 5328}, {\"threshold\": 0.02, \"p\": 27976, \"fpr\": 0.9988738738738738, \"tpr\": 1.0, \"n\": 5328}, {\"threshold\": 0.021, \"p\": 27976, \"fpr\": 0.9988738738738738, \"tpr\": 1.0, \"n\": 5328}, {\"threshold\": 0.022, \"p\": 27976, \"fpr\": 0.9988738738738738, \"tpr\": 1.0, \"n\": 5328}, {\"threshold\": 0.023, \"p\": 27976, \"fpr\": 0.9988738738738738, \"tpr\": 1.0, \"n\": 5328}, {\"threshold\": 0.024, \"p\": 27976, \"fpr\": 0.9988738738738738, \"tpr\": 1.0, \"n\": 5328}, {\"threshold\": 0.025, \"p\": 27976, \"fpr\": 0.9988738738738738, \"tpr\": 1.0, \"n\": 5328}, {\"threshold\": 0.026, \"p\": 27976, \"fpr\": 0.9988738738738738, \"tpr\": 1.0, \"n\": 5328}, {\"threshold\": 0.027, \"p\": 27976, \"fpr\": 0.9988738738738738, \"tpr\": 1.0, \"n\": 5328}, {\"threshold\": 0.028, \"p\": 27976, \"fpr\": 0.9988738738738738, \"tpr\": 1.0, \"n\": 5328}, {\"threshold\": 0.029, \"p\": 27976, \"fpr\": 0.9988738738738738, \"tpr\": 1.0, \"n\": 5328}, {\"threshold\": 0.03, \"p\": 27976, \"fpr\": 0.9988738738738738, \"tpr\": 1.0, \"n\": 5328}, {\"threshold\": 0.031, \"p\": 27976, \"fpr\": 0.9986861861861862, \"tpr\": 1.0, \"n\": 5328}, {\"threshold\": 0.032, \"p\": 27976, \"fpr\": 0.9986861861861862, \"tpr\": 1.0, \"n\": 5328}, {\"threshold\": 0.033, \"p\": 27976, \"fpr\": 0.9986861861861862, \"tpr\": 1.0, \"n\": 5328}, {\"threshold\": 0.034, \"p\": 27976, \"fpr\": 0.9986861861861862, \"tpr\": 1.0, \"n\": 5328}, {\"threshold\": 0.035, \"p\": 27976, \"fpr\": 0.9986861861861862, \"tpr\": 1.0, \"n\": 5328}, {\"threshold\": 0.036, \"p\": 27976, \"fpr\": 0.9986861861861862, \"tpr\": 1.0, \"n\": 5328}, {\"threshold\": 0.037, \"p\": 27976, \"fpr\": 0.9986861861861862, \"tpr\": 1.0, \"n\": 5328}, {\"threshold\": 0.038, \"p\": 27976, \"fpr\": 0.9986861861861862, \"tpr\": 1.0, \"n\": 5328}, {\"threshold\": 0.039, \"p\": 27976, \"fpr\": 0.9986861861861862, \"tpr\": 1.0, \"n\": 5328}, {\"threshold\": 0.04, \"p\": 27976, \"fpr\": 0.9986861861861862, \"tpr\": 1.0, \"n\": 5328}, {\"threshold\": 0.041, \"p\": 27976, \"fpr\": 0.9986861861861862, \"tpr\": 1.0, \"n\": 5328}, {\"threshold\": 0.042, \"p\": 27976, \"fpr\": 0.9986861861861862, \"tpr\": 1.0, \"n\": 5328}, {\"threshold\": 0.043, \"p\": 27976, \"fpr\": 0.9986861861861862, \"tpr\": 1.0, \"n\": 5328}, {\"threshold\": 0.044, \"p\": 27976, \"fpr\": 0.9986861861861862, \"tpr\": 1.0, \"n\": 5328}, {\"threshold\": 0.045, \"p\": 27976, \"fpr\": 0.9986861861861862, \"tpr\": 1.0, \"n\": 5328}, {\"threshold\": 0.046, \"p\": 27976, \"fpr\": 0.9986861861861862, \"tpr\": 1.0, \"n\": 5328}, {\"threshold\": 0.047, \"p\": 27976, \"fpr\": 0.9986861861861862, \"tpr\": 1.0, \"n\": 5328}, {\"threshold\": 0.048, \"p\": 27976, \"fpr\": 0.9986861861861862, \"tpr\": 1.0, \"n\": 5328}, {\"threshold\": 0.049, \"p\": 27976, \"fpr\": 0.9986861861861862, \"tpr\": 1.0, \"n\": 5328}, {\"threshold\": 0.05, \"p\": 27976, \"fpr\": 0.9986861861861862, \"tpr\": 1.0, \"n\": 5328}, {\"threshold\": 0.051, \"p\": 27976, \"fpr\": 0.9986861861861862, \"tpr\": 1.0, \"n\": 5328}, {\"threshold\": 0.052, \"p\": 27976, \"fpr\": 0.9986861861861862, \"tpr\": 1.0, \"n\": 5328}, {\"threshold\": 0.053, \"p\": 27976, \"fpr\": 0.9986861861861862, \"tpr\": 1.0, \"n\": 5328}, {\"threshold\": 0.054, \"p\": 27976, \"fpr\": 0.9986861861861862, \"tpr\": 1.0, \"n\": 5328}, {\"threshold\": 0.055, \"p\": 27976, \"fpr\": 0.9986861861861862, \"tpr\": 1.0, \"n\": 5328}, {\"threshold\": 0.056, \"p\": 27976, \"fpr\": 0.9986861861861862, \"tpr\": 1.0, \"n\": 5328}, {\"threshold\": 0.057, \"p\": 27976, \"fpr\": 0.9984984984984985, \"tpr\": 0.9999642550757792, \"n\": 5328}, {\"threshold\": 0.058, \"p\": 27976, \"fpr\": 0.9984984984984985, \"tpr\": 0.9999642550757792, \"n\": 5328}, {\"threshold\": 0.059, \"p\": 27976, \"fpr\": 0.9984984984984985, \"tpr\": 0.9999642550757792, \"n\": 5328}, {\"threshold\": 0.06, \"p\": 27976, \"fpr\": 0.9984984984984985, \"tpr\": 0.9999642550757792, \"n\": 5328}, {\"threshold\": 0.061, \"p\": 27976, \"fpr\": 0.9984984984984985, \"tpr\": 0.9999642550757792, \"n\": 5328}, {\"threshold\": 0.062, \"p\": 27976, \"fpr\": 0.9979354354354354, \"tpr\": 0.9999642550757792, \"n\": 5328}, {\"threshold\": 0.063, \"p\": 27976, \"fpr\": 0.9979354354354354, \"tpr\": 0.9999642550757792, \"n\": 5328}, {\"threshold\": 0.064, \"p\": 27976, \"fpr\": 0.9977477477477478, \"tpr\": 0.9999642550757792, \"n\": 5328}, {\"threshold\": 0.065, \"p\": 27976, \"fpr\": 0.9977477477477478, \"tpr\": 0.9999642550757792, \"n\": 5328}, {\"threshold\": 0.066, \"p\": 27976, \"fpr\": 0.9977477477477478, \"tpr\": 0.9999642550757792, \"n\": 5328}, {\"threshold\": 0.067, \"p\": 27976, \"fpr\": 0.9977477477477478, \"tpr\": 0.9999642550757792, \"n\": 5328}, {\"threshold\": 0.068, \"p\": 27976, \"fpr\": 0.9973723723723724, \"tpr\": 0.9999642550757792, \"n\": 5328}, {\"threshold\": 0.069, \"p\": 27976, \"fpr\": 0.9973723723723724, \"tpr\": 0.9999642550757792, \"n\": 5328}, {\"threshold\": 0.07, \"p\": 27976, \"fpr\": 0.9973723723723724, \"tpr\": 0.9999285101515585, \"n\": 5328}, {\"threshold\": 0.071, \"p\": 27976, \"fpr\": 0.9973723723723724, \"tpr\": 0.9999285101515585, \"n\": 5328}, {\"threshold\": 0.072, \"p\": 27976, \"fpr\": 0.9973723723723724, \"tpr\": 0.9999285101515585, \"n\": 5328}, {\"threshold\": 0.073, \"p\": 27976, \"fpr\": 0.9973723723723724, \"tpr\": 0.9999285101515585, \"n\": 5328}, {\"threshold\": 0.074, \"p\": 27976, \"fpr\": 0.9973723723723724, \"tpr\": 0.9999285101515585, \"n\": 5328}, {\"threshold\": 0.075, \"p\": 27976, \"fpr\": 0.9973723723723724, \"tpr\": 0.9999285101515585, \"n\": 5328}, {\"threshold\": 0.076, \"p\": 27976, \"fpr\": 0.9973723723723724, \"tpr\": 0.9999285101515585, \"n\": 5328}, {\"threshold\": 0.077, \"p\": 27976, \"fpr\": 0.9973723723723724, \"tpr\": 0.9999285101515585, \"n\": 5328}, {\"threshold\": 0.078, \"p\": 27976, \"fpr\": 0.9973723723723724, \"tpr\": 0.9999285101515585, \"n\": 5328}, {\"threshold\": 0.079, \"p\": 27976, \"fpr\": 0.9973723723723724, \"tpr\": 0.9999285101515585, \"n\": 5328}, {\"threshold\": 0.08, \"p\": 27976, \"fpr\": 0.9973723723723724, \"tpr\": 0.9999285101515585, \"n\": 5328}, {\"threshold\": 0.081, \"p\": 27976, \"fpr\": 0.9973723723723724, \"tpr\": 0.9999285101515585, \"n\": 5328}, {\"threshold\": 0.082, \"p\": 27976, \"fpr\": 0.9973723723723724, \"tpr\": 0.9999285101515585, \"n\": 5328}, {\"threshold\": 0.083, \"p\": 27976, \"fpr\": 0.9973723723723724, \"tpr\": 0.9999285101515585, \"n\": 5328}, {\"threshold\": 0.084, \"p\": 27976, \"fpr\": 0.9971846846846847, \"tpr\": 0.9998927652273377, \"n\": 5328}, {\"threshold\": 0.085, \"p\": 27976, \"fpr\": 0.9971846846846847, \"tpr\": 0.9998927652273377, \"n\": 5328}, {\"threshold\": 0.086, \"p\": 27976, \"fpr\": 0.9971846846846847, \"tpr\": 0.9998927652273377, \"n\": 5328}, {\"threshold\": 0.087, \"p\": 27976, \"fpr\": 0.9971846846846847, \"tpr\": 0.9998927652273377, \"n\": 5328}, {\"threshold\": 0.088, \"p\": 27976, \"fpr\": 0.9971846846846847, \"tpr\": 0.9998927652273377, \"n\": 5328}, {\"threshold\": 0.089, \"p\": 27976, \"fpr\": 0.9971846846846847, \"tpr\": 0.9998927652273377, \"n\": 5328}, {\"threshold\": 0.09, \"p\": 27976, \"fpr\": 0.9971846846846847, \"tpr\": 0.9998927652273377, \"n\": 5328}, {\"threshold\": 0.091, \"p\": 27976, \"fpr\": 0.9971846846846847, \"tpr\": 0.9998927652273377, \"n\": 5328}, {\"threshold\": 0.092, \"p\": 27976, \"fpr\": 0.9971846846846847, \"tpr\": 0.9998927652273377, \"n\": 5328}, {\"threshold\": 0.093, \"p\": 27976, \"fpr\": 0.9971846846846847, \"tpr\": 0.9998927652273377, \"n\": 5328}, {\"threshold\": 0.094, \"p\": 27976, \"fpr\": 0.9971846846846847, \"tpr\": 0.9998927652273377, \"n\": 5328}, {\"threshold\": 0.095, \"p\": 27976, \"fpr\": 0.9971846846846847, \"tpr\": 0.9998927652273377, \"n\": 5328}, {\"threshold\": 0.096, \"p\": 27976, \"fpr\": 0.9971846846846847, \"tpr\": 0.9998927652273377, \"n\": 5328}, {\"threshold\": 0.097, \"p\": 27976, \"fpr\": 0.9971846846846847, \"tpr\": 0.9998927652273377, \"n\": 5328}, {\"threshold\": 0.098, \"p\": 27976, \"fpr\": 0.9971846846846847, \"tpr\": 0.9998927652273377, \"n\": 5328}, {\"threshold\": 0.099, \"p\": 27976, \"fpr\": 0.9971846846846847, \"tpr\": 0.9998927652273377, \"n\": 5328}, {\"threshold\": 0.1, \"p\": 27976, \"fpr\": 0.9971846846846847, \"tpr\": 0.9998927652273377, \"n\": 5328}, {\"threshold\": 0.101, \"p\": 27976, \"fpr\": 0.9971846846846847, \"tpr\": 0.9998927652273377, \"n\": 5328}, {\"threshold\": 0.102, \"p\": 27976, \"fpr\": 0.9971846846846847, \"tpr\": 0.9998927652273377, \"n\": 5328}, {\"threshold\": 0.103, \"p\": 27976, \"fpr\": 0.9971846846846847, \"tpr\": 0.9998927652273377, \"n\": 5328}, {\"threshold\": 0.104, \"p\": 27976, \"fpr\": 0.9971846846846847, \"tpr\": 0.9998927652273377, \"n\": 5328}, {\"threshold\": 0.105, \"p\": 27976, \"fpr\": 0.9971846846846847, \"tpr\": 0.9998927652273377, \"n\": 5328}, {\"threshold\": 0.106, \"p\": 27976, \"fpr\": 0.9971846846846847, \"tpr\": 0.9998927652273377, \"n\": 5328}, {\"threshold\": 0.107, \"p\": 27976, \"fpr\": 0.9971846846846847, \"tpr\": 0.9998927652273377, \"n\": 5328}, {\"threshold\": 0.108, \"p\": 27976, \"fpr\": 0.9971846846846847, \"tpr\": 0.9998927652273377, \"n\": 5328}, {\"threshold\": 0.109, \"p\": 27976, \"fpr\": 0.9971846846846847, \"tpr\": 0.9998927652273377, \"n\": 5328}, {\"threshold\": 0.11, \"p\": 27976, \"fpr\": 0.9971846846846847, \"tpr\": 0.9998927652273377, \"n\": 5328}, {\"threshold\": 0.111, \"p\": 27976, \"fpr\": 0.9971846846846847, \"tpr\": 0.9998927652273377, \"n\": 5328}, {\"threshold\": 0.112, \"p\": 27976, \"fpr\": 0.9971846846846847, \"tpr\": 0.9998927652273377, \"n\": 5328}, {\"threshold\": 0.113, \"p\": 27976, \"fpr\": 0.9971846846846847, \"tpr\": 0.9998927652273377, \"n\": 5328}, {\"threshold\": 0.114, \"p\": 27976, \"fpr\": 0.9971846846846847, \"tpr\": 0.9998927652273377, \"n\": 5328}, {\"threshold\": 0.115, \"p\": 27976, \"fpr\": 0.9971846846846847, \"tpr\": 0.9998927652273377, \"n\": 5328}, {\"threshold\": 0.116, \"p\": 27976, \"fpr\": 0.9971846846846847, \"tpr\": 0.9998927652273377, \"n\": 5328}, {\"threshold\": 0.117, \"p\": 27976, \"fpr\": 0.9971846846846847, \"tpr\": 0.9998927652273377, \"n\": 5328}, {\"threshold\": 0.118, \"p\": 27976, \"fpr\": 0.9971846846846847, \"tpr\": 0.9998927652273377, \"n\": 5328}, {\"threshold\": 0.119, \"p\": 27976, \"fpr\": 0.9971846846846847, \"tpr\": 0.9998927652273377, \"n\": 5328}, {\"threshold\": 0.12, \"p\": 27976, \"fpr\": 0.9971846846846847, \"tpr\": 0.9998927652273377, \"n\": 5328}, {\"threshold\": 0.121, \"p\": 27976, \"fpr\": 0.9971846846846847, \"tpr\": 0.9998927652273377, \"n\": 5328}, {\"threshold\": 0.122, \"p\": 27976, \"fpr\": 0.9971846846846847, \"tpr\": 0.9998927652273377, \"n\": 5328}, {\"threshold\": 0.123, \"p\": 27976, \"fpr\": 0.9971846846846847, \"tpr\": 0.9998927652273377, \"n\": 5328}, {\"threshold\": 0.124, \"p\": 27976, \"fpr\": 0.9971846846846847, \"tpr\": 0.9998927652273377, \"n\": 5328}, {\"threshold\": 0.125, \"p\": 27976, \"fpr\": 0.9971846846846847, \"tpr\": 0.9998927652273377, \"n\": 5328}, {\"threshold\": 0.126, \"p\": 27976, \"fpr\": 0.9971846846846847, \"tpr\": 0.9998927652273377, \"n\": 5328}, {\"threshold\": 0.127, \"p\": 27976, \"fpr\": 0.9971846846846847, \"tpr\": 0.9998927652273377, \"n\": 5328}, {\"threshold\": 0.128, \"p\": 27976, \"fpr\": 0.9971846846846847, \"tpr\": 0.9998927652273377, \"n\": 5328}, {\"threshold\": 0.129, \"p\": 27976, \"fpr\": 0.9971846846846847, \"tpr\": 0.9998927652273377, \"n\": 5328}, {\"threshold\": 0.13, \"p\": 27976, \"fpr\": 0.9971846846846847, \"tpr\": 0.9998927652273377, \"n\": 5328}, {\"threshold\": 0.131, \"p\": 27976, \"fpr\": 0.9971846846846847, \"tpr\": 0.9998927652273377, \"n\": 5328}, {\"threshold\": 0.132, \"p\": 27976, \"fpr\": 0.9971846846846847, \"tpr\": 0.9998927652273377, \"n\": 5328}, {\"threshold\": 0.133, \"p\": 27976, \"fpr\": 0.9971846846846847, \"tpr\": 0.9998927652273377, \"n\": 5328}, {\"threshold\": 0.134, \"p\": 27976, \"fpr\": 0.9971846846846847, \"tpr\": 0.9998927652273377, \"n\": 5328}, {\"threshold\": 0.135, \"p\": 27976, \"fpr\": 0.9971846846846847, \"tpr\": 0.9998927652273377, \"n\": 5328}, {\"threshold\": 0.136, \"p\": 27976, \"fpr\": 0.9971846846846847, \"tpr\": 0.9998927652273377, \"n\": 5328}, {\"threshold\": 0.137, \"p\": 27976, \"fpr\": 0.9971846846846847, \"tpr\": 0.9998927652273377, \"n\": 5328}, {\"threshold\": 0.138, \"p\": 27976, \"fpr\": 0.9971846846846847, \"tpr\": 0.9998927652273377, \"n\": 5328}, {\"threshold\": 0.139, \"p\": 27976, \"fpr\": 0.9971846846846847, \"tpr\": 0.9998927652273377, \"n\": 5328}, {\"threshold\": 0.14, \"p\": 27976, \"fpr\": 0.9971846846846847, \"tpr\": 0.9998927652273377, \"n\": 5328}, {\"threshold\": 0.141, \"p\": 27976, \"fpr\": 0.9971846846846847, \"tpr\": 0.9998927652273377, \"n\": 5328}, {\"threshold\": 0.142, \"p\": 27976, \"fpr\": 0.996996996996997, \"tpr\": 0.9998927652273377, \"n\": 5328}, {\"threshold\": 0.143, \"p\": 27976, \"fpr\": 0.996996996996997, \"tpr\": 0.9998927652273377, \"n\": 5328}, {\"threshold\": 0.144, \"p\": 27976, \"fpr\": 0.996996996996997, \"tpr\": 0.9998927652273377, \"n\": 5328}, {\"threshold\": 0.145, \"p\": 27976, \"fpr\": 0.996996996996997, \"tpr\": 0.9998927652273377, \"n\": 5328}, {\"threshold\": 0.146, \"p\": 27976, \"fpr\": 0.996996996996997, \"tpr\": 0.9998927652273377, \"n\": 5328}, {\"threshold\": 0.147, \"p\": 27976, \"fpr\": 0.996996996996997, \"tpr\": 0.9998927652273377, \"n\": 5328}, {\"threshold\": 0.148, \"p\": 27976, \"fpr\": 0.996996996996997, \"tpr\": 0.9998927652273377, \"n\": 5328}, {\"threshold\": 0.149, \"p\": 27976, \"fpr\": 0.996996996996997, \"tpr\": 0.9998927652273377, \"n\": 5328}, {\"threshold\": 0.15, \"p\": 27976, \"fpr\": 0.996996996996997, \"tpr\": 0.9998927652273377, \"n\": 5328}, {\"threshold\": 0.151, \"p\": 27976, \"fpr\": 0.996996996996997, \"tpr\": 0.9998927652273377, \"n\": 5328}, {\"threshold\": 0.152, \"p\": 27976, \"fpr\": 0.996996996996997, \"tpr\": 0.9998927652273377, \"n\": 5328}, {\"threshold\": 0.153, \"p\": 27976, \"fpr\": 0.996996996996997, \"tpr\": 0.9998927652273377, \"n\": 5328}, {\"threshold\": 0.154, \"p\": 27976, \"fpr\": 0.996433933933934, \"tpr\": 0.999857020303117, \"n\": 5328}, {\"threshold\": 0.155, \"p\": 27976, \"fpr\": 0.996433933933934, \"tpr\": 0.999857020303117, \"n\": 5328}, {\"threshold\": 0.156, \"p\": 27976, \"fpr\": 0.996433933933934, \"tpr\": 0.999857020303117, \"n\": 5328}, {\"threshold\": 0.157, \"p\": 27976, \"fpr\": 0.996433933933934, \"tpr\": 0.999857020303117, \"n\": 5328}, {\"threshold\": 0.158, \"p\": 27976, \"fpr\": 0.996433933933934, \"tpr\": 0.999857020303117, \"n\": 5328}, {\"threshold\": 0.159, \"p\": 27976, \"fpr\": 0.996433933933934, \"tpr\": 0.999857020303117, \"n\": 5328}, {\"threshold\": 0.16, \"p\": 27976, \"fpr\": 0.996433933933934, \"tpr\": 0.999857020303117, \"n\": 5328}, {\"threshold\": 0.161, \"p\": 27976, \"fpr\": 0.996433933933934, \"tpr\": 0.999857020303117, \"n\": 5328}, {\"threshold\": 0.162, \"p\": 27976, \"fpr\": 0.996433933933934, \"tpr\": 0.999857020303117, \"n\": 5328}, {\"threshold\": 0.163, \"p\": 27976, \"fpr\": 0.996433933933934, \"tpr\": 0.999857020303117, \"n\": 5328}, {\"threshold\": 0.164, \"p\": 27976, \"fpr\": 0.996433933933934, \"tpr\": 0.999857020303117, \"n\": 5328}, {\"threshold\": 0.165, \"p\": 27976, \"fpr\": 0.996433933933934, \"tpr\": 0.999857020303117, \"n\": 5328}, {\"threshold\": 0.166, \"p\": 27976, \"fpr\": 0.9958708708708709, \"tpr\": 0.999857020303117, \"n\": 5328}, {\"threshold\": 0.167, \"p\": 27976, \"fpr\": 0.9958708708708709, \"tpr\": 0.999857020303117, \"n\": 5328}, {\"threshold\": 0.168, \"p\": 27976, \"fpr\": 0.9958708708708709, \"tpr\": 0.999857020303117, \"n\": 5328}, {\"threshold\": 0.169, \"p\": 27976, \"fpr\": 0.9958708708708709, \"tpr\": 0.999857020303117, \"n\": 5328}, {\"threshold\": 0.17, \"p\": 27976, \"fpr\": 0.9958708708708709, \"tpr\": 0.999857020303117, \"n\": 5328}, {\"threshold\": 0.171, \"p\": 27976, \"fpr\": 0.9958708708708709, \"tpr\": 0.999857020303117, \"n\": 5328}, {\"threshold\": 0.172, \"p\": 27976, \"fpr\": 0.9958708708708709, \"tpr\": 0.999857020303117, \"n\": 5328}, {\"threshold\": 0.173, \"p\": 27976, \"fpr\": 0.9958708708708709, \"tpr\": 0.999857020303117, \"n\": 5328}, {\"threshold\": 0.174, \"p\": 27976, \"fpr\": 0.9958708708708709, \"tpr\": 0.999857020303117, \"n\": 5328}, {\"threshold\": 0.175, \"p\": 27976, \"fpr\": 0.9958708708708709, \"tpr\": 0.999857020303117, \"n\": 5328}, {\"threshold\": 0.176, \"p\": 27976, \"fpr\": 0.9958708708708709, \"tpr\": 0.999857020303117, \"n\": 5328}, {\"threshold\": 0.177, \"p\": 27976, \"fpr\": 0.9958708708708709, \"tpr\": 0.999857020303117, \"n\": 5328}, {\"threshold\": 0.178, \"p\": 27976, \"fpr\": 0.9958708708708709, \"tpr\": 0.999857020303117, \"n\": 5328}, {\"threshold\": 0.179, \"p\": 27976, \"fpr\": 0.9958708708708709, \"tpr\": 0.999857020303117, \"n\": 5328}, {\"threshold\": 0.18, \"p\": 27976, \"fpr\": 0.9958708708708709, \"tpr\": 0.999857020303117, \"n\": 5328}, {\"threshold\": 0.181, \"p\": 27976, \"fpr\": 0.9958708708708709, \"tpr\": 0.999857020303117, \"n\": 5328}, {\"threshold\": 0.182, \"p\": 27976, \"fpr\": 0.9958708708708709, \"tpr\": 0.999857020303117, \"n\": 5328}, {\"threshold\": 0.183, \"p\": 27976, \"fpr\": 0.9958708708708709, \"tpr\": 0.999857020303117, \"n\": 5328}, {\"threshold\": 0.184, \"p\": 27976, \"fpr\": 0.9958708708708709, \"tpr\": 0.999857020303117, \"n\": 5328}, {\"threshold\": 0.185, \"p\": 27976, \"fpr\": 0.9958708708708709, \"tpr\": 0.999857020303117, \"n\": 5328}, {\"threshold\": 0.186, \"p\": 27976, \"fpr\": 0.9958708708708709, \"tpr\": 0.999857020303117, \"n\": 5328}, {\"threshold\": 0.187, \"p\": 27976, \"fpr\": 0.9958708708708709, \"tpr\": 0.999857020303117, \"n\": 5328}, {\"threshold\": 0.188, \"p\": 27976, \"fpr\": 0.9958708708708709, \"tpr\": 0.999857020303117, \"n\": 5328}, {\"threshold\": 0.189, \"p\": 27976, \"fpr\": 0.9958708708708709, \"tpr\": 0.999857020303117, \"n\": 5328}, {\"threshold\": 0.19, \"p\": 27976, \"fpr\": 0.9949324324324325, \"tpr\": 0.9998212753788962, \"n\": 5328}, {\"threshold\": 0.191, \"p\": 27976, \"fpr\": 0.9949324324324325, \"tpr\": 0.9998212753788962, \"n\": 5328}, {\"threshold\": 0.192, \"p\": 27976, \"fpr\": 0.9949324324324325, \"tpr\": 0.9998212753788962, \"n\": 5328}, {\"threshold\": 0.193, \"p\": 27976, \"fpr\": 0.9949324324324325, \"tpr\": 0.9998212753788962, \"n\": 5328}, {\"threshold\": 0.194, \"p\": 27976, \"fpr\": 0.9949324324324325, \"tpr\": 0.9998212753788962, \"n\": 5328}, {\"threshold\": 0.195, \"p\": 27976, \"fpr\": 0.9949324324324325, \"tpr\": 0.9998212753788962, \"n\": 5328}, {\"threshold\": 0.196, \"p\": 27976, \"fpr\": 0.9949324324324325, \"tpr\": 0.9997855304546754, \"n\": 5328}, {\"threshold\": 0.197, \"p\": 27976, \"fpr\": 0.9949324324324325, \"tpr\": 0.9997855304546754, \"n\": 5328}, {\"threshold\": 0.198, \"p\": 27976, \"fpr\": 0.9949324324324325, \"tpr\": 0.9997855304546754, \"n\": 5328}, {\"threshold\": 0.199, \"p\": 27976, \"fpr\": 0.9949324324324325, \"tpr\": 0.9997855304546754, \"n\": 5328}, {\"threshold\": 0.2, \"p\": 27976, \"fpr\": 0.9949324324324325, \"tpr\": 0.9997855304546754, \"n\": 5328}, {\"threshold\": 0.201, \"p\": 27976, \"fpr\": 0.9945570570570571, \"tpr\": 0.9997497855304547, \"n\": 5328}, {\"threshold\": 0.202, \"p\": 27976, \"fpr\": 0.9945570570570571, \"tpr\": 0.9997497855304547, \"n\": 5328}, {\"threshold\": 0.203, \"p\": 27976, \"fpr\": 0.9945570570570571, \"tpr\": 0.9997497855304547, \"n\": 5328}, {\"threshold\": 0.204, \"p\": 27976, \"fpr\": 0.9945570570570571, \"tpr\": 0.9997497855304547, \"n\": 5328}, {\"threshold\": 0.205, \"p\": 27976, \"fpr\": 0.9945570570570571, \"tpr\": 0.9997497855304547, \"n\": 5328}, {\"threshold\": 0.206, \"p\": 27976, \"fpr\": 0.9945570570570571, \"tpr\": 0.9997497855304547, \"n\": 5328}, {\"threshold\": 0.207, \"p\": 27976, \"fpr\": 0.9945570570570571, \"tpr\": 0.9997497855304547, \"n\": 5328}, {\"threshold\": 0.208, \"p\": 27976, \"fpr\": 0.9945570570570571, \"tpr\": 0.9997497855304547, \"n\": 5328}, {\"threshold\": 0.209, \"p\": 27976, \"fpr\": 0.9945570570570571, \"tpr\": 0.9997497855304547, \"n\": 5328}, {\"threshold\": 0.21, \"p\": 27976, \"fpr\": 0.9945570570570571, \"tpr\": 0.9997497855304547, \"n\": 5328}, {\"threshold\": 0.211, \"p\": 27976, \"fpr\": 0.9945570570570571, \"tpr\": 0.9997140406062339, \"n\": 5328}, {\"threshold\": 0.212, \"p\": 27976, \"fpr\": 0.9945570570570571, \"tpr\": 0.9997140406062339, \"n\": 5328}, {\"threshold\": 0.213, \"p\": 27976, \"fpr\": 0.9945570570570571, \"tpr\": 0.9997140406062339, \"n\": 5328}, {\"threshold\": 0.214, \"p\": 27976, \"fpr\": 0.9945570570570571, \"tpr\": 0.9997140406062339, \"n\": 5328}, {\"threshold\": 0.215, \"p\": 27976, \"fpr\": 0.9945570570570571, \"tpr\": 0.9997140406062339, \"n\": 5328}, {\"threshold\": 0.216, \"p\": 27976, \"fpr\": 0.9945570570570571, \"tpr\": 0.9997140406062339, \"n\": 5328}, {\"threshold\": 0.217, \"p\": 27976, \"fpr\": 0.9945570570570571, \"tpr\": 0.9997140406062339, \"n\": 5328}, {\"threshold\": 0.218, \"p\": 27976, \"fpr\": 0.9945570570570571, \"tpr\": 0.9996782956820132, \"n\": 5328}, {\"threshold\": 0.219, \"p\": 27976, \"fpr\": 0.9945570570570571, \"tpr\": 0.9996782956820132, \"n\": 5328}, {\"threshold\": 0.22, \"p\": 27976, \"fpr\": 0.9945570570570571, \"tpr\": 0.9996425507577924, \"n\": 5328}, {\"threshold\": 0.221, \"p\": 27976, \"fpr\": 0.9945570570570571, \"tpr\": 0.9996425507577924, \"n\": 5328}, {\"threshold\": 0.222, \"p\": 27976, \"fpr\": 0.9945570570570571, \"tpr\": 0.9996425507577924, \"n\": 5328}, {\"threshold\": 0.223, \"p\": 27976, \"fpr\": 0.9945570570570571, \"tpr\": 0.9996425507577924, \"n\": 5328}, {\"threshold\": 0.224, \"p\": 27976, \"fpr\": 0.9945570570570571, \"tpr\": 0.9996425507577924, \"n\": 5328}, {\"threshold\": 0.225, \"p\": 27976, \"fpr\": 0.9945570570570571, \"tpr\": 0.9996425507577924, \"n\": 5328}, {\"threshold\": 0.226, \"p\": 27976, \"fpr\": 0.9945570570570571, \"tpr\": 0.9996425507577924, \"n\": 5328}, {\"threshold\": 0.227, \"p\": 27976, \"fpr\": 0.9945570570570571, \"tpr\": 0.9996425507577924, \"n\": 5328}, {\"threshold\": 0.228, \"p\": 27976, \"fpr\": 0.9945570570570571, \"tpr\": 0.9996425507577924, \"n\": 5328}, {\"threshold\": 0.229, \"p\": 27976, \"fpr\": 0.9945570570570571, \"tpr\": 0.9996425507577924, \"n\": 5328}, {\"threshold\": 0.23, \"p\": 27976, \"fpr\": 0.9945570570570571, \"tpr\": 0.9996425507577924, \"n\": 5328}, {\"threshold\": 0.231, \"p\": 27976, \"fpr\": 0.9945570570570571, \"tpr\": 0.9996425507577924, \"n\": 5328}, {\"threshold\": 0.232, \"p\": 27976, \"fpr\": 0.9945570570570571, \"tpr\": 0.9996425507577924, \"n\": 5328}, {\"threshold\": 0.233, \"p\": 27976, \"fpr\": 0.9945570570570571, \"tpr\": 0.9996425507577924, \"n\": 5328}, {\"threshold\": 0.234, \"p\": 27976, \"fpr\": 0.9945570570570571, \"tpr\": 0.9996425507577924, \"n\": 5328}, {\"threshold\": 0.235, \"p\": 27976, \"fpr\": 0.9945570570570571, \"tpr\": 0.9996425507577924, \"n\": 5328}, {\"threshold\": 0.236, \"p\": 27976, \"fpr\": 0.9945570570570571, \"tpr\": 0.9996425507577924, \"n\": 5328}, {\"threshold\": 0.237, \"p\": 27976, \"fpr\": 0.9945570570570571, \"tpr\": 0.9996425507577924, \"n\": 5328}, {\"threshold\": 0.238, \"p\": 27976, \"fpr\": 0.9945570570570571, \"tpr\": 0.9996425507577924, \"n\": 5328}, {\"threshold\": 0.239, \"p\": 27976, \"fpr\": 0.9945570570570571, \"tpr\": 0.9996425507577924, \"n\": 5328}, {\"threshold\": 0.24, \"p\": 27976, \"fpr\": 0.9945570570570571, \"tpr\": 0.9996425507577924, \"n\": 5328}, {\"threshold\": 0.241, \"p\": 27976, \"fpr\": 0.9945570570570571, \"tpr\": 0.9996425507577924, \"n\": 5328}, {\"threshold\": 0.242, \"p\": 27976, \"fpr\": 0.9945570570570571, \"tpr\": 0.9996425507577924, \"n\": 5328}, {\"threshold\": 0.243, \"p\": 27976, \"fpr\": 0.9945570570570571, \"tpr\": 0.9996425507577924, \"n\": 5328}, {\"threshold\": 0.244, \"p\": 27976, \"fpr\": 0.9945570570570571, \"tpr\": 0.9996425507577924, \"n\": 5328}, {\"threshold\": 0.245, \"p\": 27976, \"fpr\": 0.9945570570570571, \"tpr\": 0.9996425507577924, \"n\": 5328}, {\"threshold\": 0.246, \"p\": 27976, \"fpr\": 0.9945570570570571, \"tpr\": 0.9996425507577924, \"n\": 5328}, {\"threshold\": 0.247, \"p\": 27976, \"fpr\": 0.9945570570570571, \"tpr\": 0.9996425507577924, \"n\": 5328}, {\"threshold\": 0.248, \"p\": 27976, \"fpr\": 0.9945570570570571, \"tpr\": 0.9996425507577924, \"n\": 5328}, {\"threshold\": 0.249, \"p\": 27976, \"fpr\": 0.9945570570570571, \"tpr\": 0.9996425507577924, \"n\": 5328}, {\"threshold\": 0.25, \"p\": 27976, \"fpr\": 0.9945570570570571, \"tpr\": 0.9996425507577924, \"n\": 5328}, {\"threshold\": 0.251, \"p\": 27976, \"fpr\": 0.9945570570570571, \"tpr\": 0.9996425507577924, \"n\": 5328}, {\"threshold\": 0.252, \"p\": 27976, \"fpr\": 0.9945570570570571, \"tpr\": 0.9996425507577924, \"n\": 5328}, {\"threshold\": 0.253, \"p\": 27976, \"fpr\": 0.9945570570570571, \"tpr\": 0.9996425507577924, \"n\": 5328}, {\"threshold\": 0.254, \"p\": 27976, \"fpr\": 0.9945570570570571, \"tpr\": 0.9996425507577924, \"n\": 5328}, {\"threshold\": 0.255, \"p\": 27976, \"fpr\": 0.9945570570570571, \"tpr\": 0.9996425507577924, \"n\": 5328}, {\"threshold\": 0.256, \"p\": 27976, \"fpr\": 0.9945570570570571, \"tpr\": 0.9996425507577924, \"n\": 5328}, {\"threshold\": 0.257, \"p\": 27976, \"fpr\": 0.9945570570570571, \"tpr\": 0.9996425507577924, \"n\": 5328}, {\"threshold\": 0.258, \"p\": 27976, \"fpr\": 0.9945570570570571, \"tpr\": 0.9996425507577924, \"n\": 5328}, {\"threshold\": 0.259, \"p\": 27976, \"fpr\": 0.9945570570570571, \"tpr\": 0.9996425507577924, \"n\": 5328}, {\"threshold\": 0.26, \"p\": 27976, \"fpr\": 0.9945570570570571, \"tpr\": 0.9996425507577924, \"n\": 5328}, {\"threshold\": 0.261, \"p\": 27976, \"fpr\": 0.9945570570570571, \"tpr\": 0.9996425507577924, \"n\": 5328}, {\"threshold\": 0.262, \"p\": 27976, \"fpr\": 0.9945570570570571, \"tpr\": 0.9996425507577924, \"n\": 5328}, {\"threshold\": 0.263, \"p\": 27976, \"fpr\": 0.9945570570570571, \"tpr\": 0.9996425507577924, \"n\": 5328}, {\"threshold\": 0.264, \"p\": 27976, \"fpr\": 0.9938063063063063, \"tpr\": 0.9996068058335716, \"n\": 5328}, {\"threshold\": 0.265, \"p\": 27976, \"fpr\": 0.9938063063063063, \"tpr\": 0.9996068058335716, \"n\": 5328}, {\"threshold\": 0.266, \"p\": 27976, \"fpr\": 0.9938063063063063, \"tpr\": 0.9996068058335716, \"n\": 5328}, {\"threshold\": 0.267, \"p\": 27976, \"fpr\": 0.9938063063063063, \"tpr\": 0.9996068058335716, \"n\": 5328}, {\"threshold\": 0.268, \"p\": 27976, \"fpr\": 0.9938063063063063, \"tpr\": 0.9996068058335716, \"n\": 5328}, {\"threshold\": 0.269, \"p\": 27976, \"fpr\": 0.9938063063063063, \"tpr\": 0.9996068058335716, \"n\": 5328}, {\"threshold\": 0.27, \"p\": 27976, \"fpr\": 0.9938063063063063, \"tpr\": 0.9996068058335716, \"n\": 5328}, {\"threshold\": 0.271, \"p\": 27976, \"fpr\": 0.9938063063063063, \"tpr\": 0.9996068058335716, \"n\": 5328}, {\"threshold\": 0.272, \"p\": 27976, \"fpr\": 0.9938063063063063, \"tpr\": 0.9996068058335716, \"n\": 5328}, {\"threshold\": 0.273, \"p\": 27976, \"fpr\": 0.9938063063063063, \"tpr\": 0.9996068058335716, \"n\": 5328}, {\"threshold\": 0.274, \"p\": 27976, \"fpr\": 0.9938063063063063, \"tpr\": 0.9996068058335716, \"n\": 5328}, {\"threshold\": 0.275, \"p\": 27976, \"fpr\": 0.9938063063063063, \"tpr\": 0.9996068058335716, \"n\": 5328}, {\"threshold\": 0.276, \"p\": 27976, \"fpr\": 0.9938063063063063, \"tpr\": 0.9996068058335716, \"n\": 5328}, {\"threshold\": 0.277, \"p\": 27976, \"fpr\": 0.9938063063063063, \"tpr\": 0.9996068058335716, \"n\": 5328}, {\"threshold\": 0.278, \"p\": 27976, \"fpr\": 0.9938063063063063, \"tpr\": 0.9996068058335716, \"n\": 5328}, {\"threshold\": 0.279, \"p\": 27976, \"fpr\": 0.9938063063063063, \"tpr\": 0.9996068058335716, \"n\": 5328}, {\"threshold\": 0.28, \"p\": 27976, \"fpr\": 0.9938063063063063, \"tpr\": 0.9996068058335716, \"n\": 5328}, {\"threshold\": 0.281, \"p\": 27976, \"fpr\": 0.9938063063063063, \"tpr\": 0.9996068058335716, \"n\": 5328}, {\"threshold\": 0.282, \"p\": 27976, \"fpr\": 0.9938063063063063, \"tpr\": 0.9996068058335716, \"n\": 5328}, {\"threshold\": 0.283, \"p\": 27976, \"fpr\": 0.9938063063063063, \"tpr\": 0.9996068058335716, \"n\": 5328}, {\"threshold\": 0.284, \"p\": 27976, \"fpr\": 0.9938063063063063, \"tpr\": 0.9996068058335716, \"n\": 5328}, {\"threshold\": 0.285, \"p\": 27976, \"fpr\": 0.9938063063063063, \"tpr\": 0.9996068058335716, \"n\": 5328}, {\"threshold\": 0.286, \"p\": 27976, \"fpr\": 0.9938063063063063, \"tpr\": 0.9996068058335716, \"n\": 5328}, {\"threshold\": 0.287, \"p\": 27976, \"fpr\": 0.9938063063063063, \"tpr\": 0.9996068058335716, \"n\": 5328}, {\"threshold\": 0.288, \"p\": 27976, \"fpr\": 0.9938063063063063, \"tpr\": 0.9996068058335716, \"n\": 5328}, {\"threshold\": 0.289, \"p\": 27976, \"fpr\": 0.9938063063063063, \"tpr\": 0.9996068058335716, \"n\": 5328}, {\"threshold\": 0.29, \"p\": 27976, \"fpr\": 0.9938063063063063, \"tpr\": 0.9996068058335716, \"n\": 5328}, {\"threshold\": 0.291, \"p\": 27976, \"fpr\": 0.9938063063063063, \"tpr\": 0.9996068058335716, \"n\": 5328}, {\"threshold\": 0.292, \"p\": 27976, \"fpr\": 0.9938063063063063, \"tpr\": 0.9996068058335716, \"n\": 5328}, {\"threshold\": 0.293, \"p\": 27976, \"fpr\": 0.9938063063063063, \"tpr\": 0.9996068058335716, \"n\": 5328}, {\"threshold\": 0.294, \"p\": 27976, \"fpr\": 0.9938063063063063, \"tpr\": 0.9996068058335716, \"n\": 5328}, {\"threshold\": 0.295, \"p\": 27976, \"fpr\": 0.9938063063063063, \"tpr\": 0.9996068058335716, \"n\": 5328}, {\"threshold\": 0.296, \"p\": 27976, \"fpr\": 0.9938063063063063, \"tpr\": 0.9996068058335716, \"n\": 5328}, {\"threshold\": 0.297, \"p\": 27976, \"fpr\": 0.9938063063063063, \"tpr\": 0.9996068058335716, \"n\": 5328}, {\"threshold\": 0.298, \"p\": 27976, \"fpr\": 0.9938063063063063, \"tpr\": 0.9996068058335716, \"n\": 5328}, {\"threshold\": 0.299, \"p\": 27976, \"fpr\": 0.9938063063063063, \"tpr\": 0.9996068058335716, \"n\": 5328}, {\"threshold\": 0.3, \"p\": 27976, \"fpr\": 0.9938063063063063, \"tpr\": 0.9996068058335716, \"n\": 5328}, {\"threshold\": 0.301, \"p\": 27976, \"fpr\": 0.9938063063063063, \"tpr\": 0.9996068058335716, \"n\": 5328}, {\"threshold\": 0.302, \"p\": 27976, \"fpr\": 0.9938063063063063, \"tpr\": 0.9996068058335716, \"n\": 5328}, {\"threshold\": 0.303, \"p\": 27976, \"fpr\": 0.9938063063063063, \"tpr\": 0.9996068058335716, \"n\": 5328}, {\"threshold\": 0.304, \"p\": 27976, \"fpr\": 0.9938063063063063, \"tpr\": 0.9996068058335716, \"n\": 5328}, {\"threshold\": 0.305, \"p\": 27976, \"fpr\": 0.9938063063063063, \"tpr\": 0.9996068058335716, \"n\": 5328}, {\"threshold\": 0.306, \"p\": 27976, \"fpr\": 0.9938063063063063, \"tpr\": 0.9996068058335716, \"n\": 5328}, {\"threshold\": 0.307, \"p\": 27976, \"fpr\": 0.9938063063063063, \"tpr\": 0.9996068058335716, \"n\": 5328}, {\"threshold\": 0.308, \"p\": 27976, \"fpr\": 0.9938063063063063, \"tpr\": 0.9996068058335716, \"n\": 5328}, {\"threshold\": 0.309, \"p\": 27976, \"fpr\": 0.9938063063063063, \"tpr\": 0.9996068058335716, \"n\": 5328}, {\"threshold\": 0.31, \"p\": 27976, \"fpr\": 0.9938063063063063, \"tpr\": 0.9996068058335716, \"n\": 5328}, {\"threshold\": 0.311, \"p\": 27976, \"fpr\": 0.9938063063063063, \"tpr\": 0.9996068058335716, \"n\": 5328}, {\"threshold\": 0.312, \"p\": 27976, \"fpr\": 0.9938063063063063, \"tpr\": 0.9996068058335716, \"n\": 5328}, {\"threshold\": 0.313, \"p\": 27976, \"fpr\": 0.9938063063063063, \"tpr\": 0.9996068058335716, \"n\": 5328}, {\"threshold\": 0.314, \"p\": 27976, \"fpr\": 0.9938063063063063, \"tpr\": 0.9996068058335716, \"n\": 5328}, {\"threshold\": 0.315, \"p\": 27976, \"fpr\": 0.9938063063063063, \"tpr\": 0.9996068058335716, \"n\": 5328}, {\"threshold\": 0.316, \"p\": 27976, \"fpr\": 0.9938063063063063, \"tpr\": 0.9996068058335716, \"n\": 5328}, {\"threshold\": 0.317, \"p\": 27976, \"fpr\": 0.9938063063063063, \"tpr\": 0.9996068058335716, \"n\": 5328}, {\"threshold\": 0.318, \"p\": 27976, \"fpr\": 0.9938063063063063, \"tpr\": 0.9996068058335716, \"n\": 5328}, {\"threshold\": 0.319, \"p\": 27976, \"fpr\": 0.9938063063063063, \"tpr\": 0.9996068058335716, \"n\": 5328}, {\"threshold\": 0.32, \"p\": 27976, \"fpr\": 0.9938063063063063, \"tpr\": 0.9996068058335716, \"n\": 5328}, {\"threshold\": 0.321, \"p\": 27976, \"fpr\": 0.9938063063063063, \"tpr\": 0.9996068058335716, \"n\": 5328}, {\"threshold\": 0.322, \"p\": 27976, \"fpr\": 0.9938063063063063, \"tpr\": 0.9996068058335716, \"n\": 5328}, {\"threshold\": 0.323, \"p\": 27976, \"fpr\": 0.9938063063063063, \"tpr\": 0.9996068058335716, \"n\": 5328}, {\"threshold\": 0.324, \"p\": 27976, \"fpr\": 0.9938063063063063, \"tpr\": 0.9996068058335716, \"n\": 5328}, {\"threshold\": 0.325, \"p\": 27976, \"fpr\": 0.9938063063063063, \"tpr\": 0.9996068058335716, \"n\": 5328}, {\"threshold\": 0.326, \"p\": 27976, \"fpr\": 0.9938063063063063, \"tpr\": 0.9996068058335716, \"n\": 5328}, {\"threshold\": 0.327, \"p\": 27976, \"fpr\": 0.9840465465465466, \"tpr\": 0.9987846725764942, \"n\": 5328}, {\"threshold\": 0.328, \"p\": 27976, \"fpr\": 0.9840465465465466, \"tpr\": 0.9987846725764942, \"n\": 5328}, {\"threshold\": 0.329, \"p\": 27976, \"fpr\": 0.9840465465465466, \"tpr\": 0.9987846725764942, \"n\": 5328}, {\"threshold\": 0.33, \"p\": 27976, \"fpr\": 0.9840465465465466, \"tpr\": 0.9987846725764942, \"n\": 5328}, {\"threshold\": 0.331, \"p\": 27976, \"fpr\": 0.9840465465465466, \"tpr\": 0.9987846725764942, \"n\": 5328}, {\"threshold\": 0.332, \"p\": 27976, \"fpr\": 0.9840465465465466, \"tpr\": 0.9987846725764942, \"n\": 5328}, {\"threshold\": 0.333, \"p\": 27976, \"fpr\": 0.9840465465465466, \"tpr\": 0.9987846725764942, \"n\": 5328}, {\"threshold\": 0.334, \"p\": 27976, \"fpr\": 0.9840465465465466, \"tpr\": 0.9987846725764942, \"n\": 5328}, {\"threshold\": 0.335, \"p\": 27976, \"fpr\": 0.9840465465465466, \"tpr\": 0.9987846725764942, \"n\": 5328}, {\"threshold\": 0.336, \"p\": 27976, \"fpr\": 0.9840465465465466, \"tpr\": 0.9987846725764942, \"n\": 5328}, {\"threshold\": 0.337, \"p\": 27976, \"fpr\": 0.9840465465465466, \"tpr\": 0.9987846725764942, \"n\": 5328}, {\"threshold\": 0.338, \"p\": 27976, \"fpr\": 0.9840465465465466, \"tpr\": 0.9987846725764942, \"n\": 5328}, {\"threshold\": 0.339, \"p\": 27976, \"fpr\": 0.9840465465465466, \"tpr\": 0.9987846725764942, \"n\": 5328}, {\"threshold\": 0.34, \"p\": 27976, \"fpr\": 0.9840465465465466, \"tpr\": 0.9987846725764942, \"n\": 5328}, {\"threshold\": 0.341, \"p\": 27976, \"fpr\": 0.9840465465465466, \"tpr\": 0.9987846725764942, \"n\": 5328}, {\"threshold\": 0.342, \"p\": 27976, \"fpr\": 0.9840465465465466, \"tpr\": 0.9987846725764942, \"n\": 5328}, {\"threshold\": 0.343, \"p\": 27976, \"fpr\": 0.9840465465465466, \"tpr\": 0.9987846725764942, \"n\": 5328}, {\"threshold\": 0.344, \"p\": 27976, \"fpr\": 0.9840465465465466, \"tpr\": 0.9987846725764942, \"n\": 5328}, {\"threshold\": 0.345, \"p\": 27976, \"fpr\": 0.9840465465465466, \"tpr\": 0.9987846725764942, \"n\": 5328}, {\"threshold\": 0.346, \"p\": 27976, \"fpr\": 0.9840465465465466, \"tpr\": 0.9987846725764942, \"n\": 5328}, {\"threshold\": 0.347, \"p\": 27976, \"fpr\": 0.9840465465465466, \"tpr\": 0.9987846725764942, \"n\": 5328}, {\"threshold\": 0.348, \"p\": 27976, \"fpr\": 0.9750375375375375, \"tpr\": 0.998069774092079, \"n\": 5328}, {\"threshold\": 0.349, \"p\": 27976, \"fpr\": 0.9750375375375375, \"tpr\": 0.998069774092079, \"n\": 5328}, {\"threshold\": 0.35, \"p\": 27976, \"fpr\": 0.9750375375375375, \"tpr\": 0.998069774092079, \"n\": 5328}, {\"threshold\": 0.351, \"p\": 27976, \"fpr\": 0.9750375375375375, \"tpr\": 0.998069774092079, \"n\": 5328}, {\"threshold\": 0.352, \"p\": 27976, \"fpr\": 0.9750375375375375, \"tpr\": 0.998069774092079, \"n\": 5328}, {\"threshold\": 0.353, \"p\": 27976, \"fpr\": 0.9750375375375375, \"tpr\": 0.998069774092079, \"n\": 5328}, {\"threshold\": 0.354, \"p\": 27976, \"fpr\": 0.972972972972973, \"tpr\": 0.997748069774092, \"n\": 5328}, {\"threshold\": 0.355, \"p\": 27976, \"fpr\": 0.972972972972973, \"tpr\": 0.997748069774092, \"n\": 5328}, {\"threshold\": 0.356, \"p\": 27976, \"fpr\": 0.972972972972973, \"tpr\": 0.997748069774092, \"n\": 5328}, {\"threshold\": 0.357, \"p\": 27976, \"fpr\": 0.972972972972973, \"tpr\": 0.997748069774092, \"n\": 5328}, {\"threshold\": 0.358, \"p\": 27976, \"fpr\": 0.972972972972973, \"tpr\": 0.997748069774092, \"n\": 5328}, {\"threshold\": 0.359, \"p\": 27976, \"fpr\": 0.972972972972973, \"tpr\": 0.997748069774092, \"n\": 5328}, {\"threshold\": 0.36, \"p\": 27976, \"fpr\": 0.972972972972973, \"tpr\": 0.997748069774092, \"n\": 5328}, {\"threshold\": 0.361, \"p\": 27976, \"fpr\": 0.972972972972973, \"tpr\": 0.997748069774092, \"n\": 5328}, {\"threshold\": 0.362, \"p\": 27976, \"fpr\": 0.9727852852852853, \"tpr\": 0.997748069774092, \"n\": 5328}, {\"threshold\": 0.363, \"p\": 27976, \"fpr\": 0.9727852852852853, \"tpr\": 0.997748069774092, \"n\": 5328}, {\"threshold\": 0.364, \"p\": 27976, \"fpr\": 0.9727852852852853, \"tpr\": 0.997748069774092, \"n\": 5328}, {\"threshold\": 0.365, \"p\": 27976, \"fpr\": 0.9727852852852853, \"tpr\": 0.997748069774092, \"n\": 5328}, {\"threshold\": 0.366, \"p\": 27976, \"fpr\": 0.9727852852852853, \"tpr\": 0.997748069774092, \"n\": 5328}, {\"threshold\": 0.367, \"p\": 27976, \"fpr\": 0.9727852852852853, \"tpr\": 0.997748069774092, \"n\": 5328}, {\"threshold\": 0.368, \"p\": 27976, \"fpr\": 0.9727852852852853, \"tpr\": 0.997748069774092, \"n\": 5328}, {\"threshold\": 0.369, \"p\": 27976, \"fpr\": 0.9727852852852853, \"tpr\": 0.997748069774092, \"n\": 5328}, {\"threshold\": 0.37, \"p\": 27976, \"fpr\": 0.9727852852852853, \"tpr\": 0.997748069774092, \"n\": 5328}, {\"threshold\": 0.371, \"p\": 27976, \"fpr\": 0.9727852852852853, \"tpr\": 0.997748069774092, \"n\": 5328}, {\"threshold\": 0.372, \"p\": 27976, \"fpr\": 0.9727852852852853, \"tpr\": 0.997748069774092, \"n\": 5328}, {\"threshold\": 0.373, \"p\": 27976, \"fpr\": 0.9727852852852853, \"tpr\": 0.997748069774092, \"n\": 5328}, {\"threshold\": 0.374, \"p\": 27976, \"fpr\": 0.9727852852852853, \"tpr\": 0.997748069774092, \"n\": 5328}, {\"threshold\": 0.375, \"p\": 27976, \"fpr\": 0.9727852852852853, \"tpr\": 0.997748069774092, \"n\": 5328}, {\"threshold\": 0.376, \"p\": 27976, \"fpr\": 0.9727852852852853, \"tpr\": 0.997748069774092, \"n\": 5328}, {\"threshold\": 0.377, \"p\": 27976, \"fpr\": 0.9727852852852853, \"tpr\": 0.997748069774092, \"n\": 5328}, {\"threshold\": 0.378, \"p\": 27976, \"fpr\": 0.9727852852852853, \"tpr\": 0.997748069774092, \"n\": 5328}, {\"threshold\": 0.379, \"p\": 27976, \"fpr\": 0.9727852852852853, \"tpr\": 0.997748069774092, \"n\": 5328}, {\"threshold\": 0.38, \"p\": 27976, \"fpr\": 0.9727852852852853, \"tpr\": 0.997748069774092, \"n\": 5328}, {\"threshold\": 0.381, \"p\": 27976, \"fpr\": 0.9727852852852853, \"tpr\": 0.997748069774092, \"n\": 5328}, {\"threshold\": 0.382, \"p\": 27976, \"fpr\": 0.9727852852852853, \"tpr\": 0.997748069774092, \"n\": 5328}, {\"threshold\": 0.383, \"p\": 27976, \"fpr\": 0.9727852852852853, \"tpr\": 0.997748069774092, \"n\": 5328}, {\"threshold\": 0.384, \"p\": 27976, \"fpr\": 0.9727852852852853, \"tpr\": 0.997748069774092, \"n\": 5328}, {\"threshold\": 0.385, \"p\": 27976, \"fpr\": 0.9727852852852853, \"tpr\": 0.997748069774092, \"n\": 5328}, {\"threshold\": 0.386, \"p\": 27976, \"fpr\": 0.9727852852852853, \"tpr\": 0.997748069774092, \"n\": 5328}, {\"threshold\": 0.387, \"p\": 27976, \"fpr\": 0.9727852852852853, \"tpr\": 0.997748069774092, \"n\": 5328}, {\"threshold\": 0.388, \"p\": 27976, \"fpr\": 0.9727852852852853, \"tpr\": 0.997748069774092, \"n\": 5328}, {\"threshold\": 0.389, \"p\": 27976, \"fpr\": 0.9727852852852853, \"tpr\": 0.997748069774092, \"n\": 5328}, {\"threshold\": 0.39, \"p\": 27976, \"fpr\": 0.9727852852852853, \"tpr\": 0.997748069774092, \"n\": 5328}, {\"threshold\": 0.391, \"p\": 27976, \"fpr\": 0.9727852852852853, \"tpr\": 0.997748069774092, \"n\": 5328}, {\"threshold\": 0.392, \"p\": 27976, \"fpr\": 0.9727852852852853, \"tpr\": 0.997748069774092, \"n\": 5328}, {\"threshold\": 0.393, \"p\": 27976, \"fpr\": 0.9727852852852853, \"tpr\": 0.997748069774092, \"n\": 5328}, {\"threshold\": 0.394, \"p\": 27976, \"fpr\": 0.9727852852852853, \"tpr\": 0.997748069774092, \"n\": 5328}, {\"threshold\": 0.395, \"p\": 27976, \"fpr\": 0.9727852852852853, \"tpr\": 0.997748069774092, \"n\": 5328}, {\"threshold\": 0.396, \"p\": 27976, \"fpr\": 0.9727852852852853, \"tpr\": 0.997748069774092, \"n\": 5328}, {\"threshold\": 0.397, \"p\": 27976, \"fpr\": 0.9727852852852853, \"tpr\": 0.997748069774092, \"n\": 5328}, {\"threshold\": 0.398, \"p\": 27976, \"fpr\": 0.9727852852852853, \"tpr\": 0.997748069774092, \"n\": 5328}, {\"threshold\": 0.399, \"p\": 27976, \"fpr\": 0.9727852852852853, \"tpr\": 0.997748069774092, \"n\": 5328}, {\"threshold\": 0.4, \"p\": 27976, \"fpr\": 0.9727852852852853, \"tpr\": 0.997748069774092, \"n\": 5328}, {\"threshold\": 0.401, \"p\": 27976, \"fpr\": 0.9727852852852853, \"tpr\": 0.997748069774092, \"n\": 5328}, {\"threshold\": 0.402, \"p\": 27976, \"fpr\": 0.9680930930930931, \"tpr\": 0.9972476408350014, \"n\": 5328}, {\"threshold\": 0.403, \"p\": 27976, \"fpr\": 0.9680930930930931, \"tpr\": 0.9972476408350014, \"n\": 5328}, {\"threshold\": 0.404, \"p\": 27976, \"fpr\": 0.9680930930930931, \"tpr\": 0.9972476408350014, \"n\": 5328}, {\"threshold\": 0.405, \"p\": 27976, \"fpr\": 0.9680930930930931, \"tpr\": 0.9972476408350014, \"n\": 5328}, {\"threshold\": 0.406, \"p\": 27976, \"fpr\": 0.9680930930930931, \"tpr\": 0.9972476408350014, \"n\": 5328}, {\"threshold\": 0.407, \"p\": 27976, \"fpr\": 0.9680930930930931, \"tpr\": 0.9972476408350014, \"n\": 5328}, {\"threshold\": 0.408, \"p\": 27976, \"fpr\": 0.9680930930930931, \"tpr\": 0.9972476408350014, \"n\": 5328}, {\"threshold\": 0.409, \"p\": 27976, \"fpr\": 0.9680930930930931, \"tpr\": 0.9972476408350014, \"n\": 5328}, {\"threshold\": 0.41, \"p\": 27976, \"fpr\": 0.9680930930930931, \"tpr\": 0.9972476408350014, \"n\": 5328}, {\"threshold\": 0.411, \"p\": 27976, \"fpr\": 0.9680930930930931, \"tpr\": 0.9972476408350014, \"n\": 5328}, {\"threshold\": 0.412, \"p\": 27976, \"fpr\": 0.9680930930930931, \"tpr\": 0.9972476408350014, \"n\": 5328}, {\"threshold\": 0.413, \"p\": 27976, \"fpr\": 0.9680930930930931, \"tpr\": 0.9972476408350014, \"n\": 5328}, {\"threshold\": 0.414, \"p\": 27976, \"fpr\": 0.9680930930930931, \"tpr\": 0.9972476408350014, \"n\": 5328}, {\"threshold\": 0.415, \"p\": 27976, \"fpr\": 0.9680930930930931, \"tpr\": 0.9972476408350014, \"n\": 5328}, {\"threshold\": 0.416, \"p\": 27976, \"fpr\": 0.9680930930930931, \"tpr\": 0.9972476408350014, \"n\": 5328}, {\"threshold\": 0.417, \"p\": 27976, \"fpr\": 0.9680930930930931, \"tpr\": 0.9972476408350014, \"n\": 5328}, {\"threshold\": 0.418, \"p\": 27976, \"fpr\": 0.9680930930930931, \"tpr\": 0.9972476408350014, \"n\": 5328}, {\"threshold\": 0.419, \"p\": 27976, \"fpr\": 0.9680930930930931, \"tpr\": 0.9972476408350014, \"n\": 5328}, {\"threshold\": 0.42, \"p\": 27976, \"fpr\": 0.9680930930930931, \"tpr\": 0.9972476408350014, \"n\": 5328}, {\"threshold\": 0.421, \"p\": 27976, \"fpr\": 0.9680930930930931, \"tpr\": 0.9972476408350014, \"n\": 5328}, {\"threshold\": 0.422, \"p\": 27976, \"fpr\": 0.9680930930930931, \"tpr\": 0.9972476408350014, \"n\": 5328}, {\"threshold\": 0.423, \"p\": 27976, \"fpr\": 0.9680930930930931, \"tpr\": 0.9972476408350014, \"n\": 5328}, {\"threshold\": 0.424, \"p\": 27976, \"fpr\": 0.9680930930930931, \"tpr\": 0.9972476408350014, \"n\": 5328}, {\"threshold\": 0.425, \"p\": 27976, \"fpr\": 0.9680930930930931, \"tpr\": 0.9972476408350014, \"n\": 5328}, {\"threshold\": 0.426, \"p\": 27976, \"fpr\": 0.9680930930930931, \"tpr\": 0.9972476408350014, \"n\": 5328}, {\"threshold\": 0.427, \"p\": 27976, \"fpr\": 0.9680930930930931, \"tpr\": 0.9972476408350014, \"n\": 5328}, {\"threshold\": 0.428, \"p\": 27976, \"fpr\": 0.9680930930930931, \"tpr\": 0.9972476408350014, \"n\": 5328}, {\"threshold\": 0.429, \"p\": 27976, \"fpr\": 0.9680930930930931, \"tpr\": 0.9972476408350014, \"n\": 5328}, {\"threshold\": 0.43, \"p\": 27976, \"fpr\": 0.9680930930930931, \"tpr\": 0.9972476408350014, \"n\": 5328}, {\"threshold\": 0.431, \"p\": 27976, \"fpr\": 0.9680930930930931, \"tpr\": 0.9972476408350014, \"n\": 5328}, {\"threshold\": 0.432, \"p\": 27976, \"fpr\": 0.9680930930930931, \"tpr\": 0.9972476408350014, \"n\": 5328}, {\"threshold\": 0.433, \"p\": 27976, \"fpr\": 0.9680930930930931, \"tpr\": 0.9972476408350014, \"n\": 5328}, {\"threshold\": 0.434, \"p\": 27976, \"fpr\": 0.9680930930930931, \"tpr\": 0.9972476408350014, \"n\": 5328}, {\"threshold\": 0.435, \"p\": 27976, \"fpr\": 0.9680930930930931, \"tpr\": 0.9972476408350014, \"n\": 5328}, {\"threshold\": 0.436, \"p\": 27976, \"fpr\": 0.9680930930930931, \"tpr\": 0.9972476408350014, \"n\": 5328}, {\"threshold\": 0.437, \"p\": 27976, \"fpr\": 0.9680930930930931, \"tpr\": 0.9972476408350014, \"n\": 5328}, {\"threshold\": 0.438, \"p\": 27976, \"fpr\": 0.9680930930930931, \"tpr\": 0.9972476408350014, \"n\": 5328}, {\"threshold\": 0.439, \"p\": 27976, \"fpr\": 0.9680930930930931, \"tpr\": 0.9972476408350014, \"n\": 5328}, {\"threshold\": 0.44, \"p\": 27976, \"fpr\": 0.9680930930930931, \"tpr\": 0.9972476408350014, \"n\": 5328}, {\"threshold\": 0.441, \"p\": 27976, \"fpr\": 0.9680930930930931, \"tpr\": 0.9972476408350014, \"n\": 5328}, {\"threshold\": 0.442, \"p\": 27976, \"fpr\": 0.9680930930930931, \"tpr\": 0.9972476408350014, \"n\": 5328}, {\"threshold\": 0.443, \"p\": 27976, \"fpr\": 0.9680930930930931, \"tpr\": 0.9972476408350014, \"n\": 5328}, {\"threshold\": 0.444, \"p\": 27976, \"fpr\": 0.9680930930930931, \"tpr\": 0.9972476408350014, \"n\": 5328}, {\"threshold\": 0.445, \"p\": 27976, \"fpr\": 0.9680930930930931, \"tpr\": 0.9972476408350014, \"n\": 5328}, {\"threshold\": 0.446, \"p\": 27976, \"fpr\": 0.9680930930930931, \"tpr\": 0.9972476408350014, \"n\": 5328}, {\"threshold\": 0.447, \"p\": 27976, \"fpr\": 0.9680930930930931, \"tpr\": 0.9972476408350014, \"n\": 5328}, {\"threshold\": 0.448, \"p\": 27976, \"fpr\": 0.9680930930930931, \"tpr\": 0.9972476408350014, \"n\": 5328}, {\"threshold\": 0.449, \"p\": 27976, \"fpr\": 0.9680930930930931, \"tpr\": 0.9972476408350014, \"n\": 5328}, {\"threshold\": 0.45, \"p\": 27976, \"fpr\": 0.9680930930930931, \"tpr\": 0.9972476408350014, \"n\": 5328}, {\"threshold\": 0.451, \"p\": 27976, \"fpr\": 0.9680930930930931, \"tpr\": 0.9972476408350014, \"n\": 5328}, {\"threshold\": 0.452, \"p\": 27976, \"fpr\": 0.9680930930930931, \"tpr\": 0.9972476408350014, \"n\": 5328}, {\"threshold\": 0.453, \"p\": 27976, \"fpr\": 0.9680930930930931, \"tpr\": 0.9972476408350014, \"n\": 5328}, {\"threshold\": 0.454, \"p\": 27976, \"fpr\": 0.9680930930930931, \"tpr\": 0.9972476408350014, \"n\": 5328}, {\"threshold\": 0.455, \"p\": 27976, \"fpr\": 0.9680930930930931, \"tpr\": 0.9972476408350014, \"n\": 5328}, {\"threshold\": 0.456, \"p\": 27976, \"fpr\": 0.9680930930930931, \"tpr\": 0.9972476408350014, \"n\": 5328}, {\"threshold\": 0.457, \"p\": 27976, \"fpr\": 0.9680930930930931, \"tpr\": 0.9972476408350014, \"n\": 5328}, {\"threshold\": 0.458, \"p\": 27976, \"fpr\": 0.9680930930930931, \"tpr\": 0.9972476408350014, \"n\": 5328}, {\"threshold\": 0.459, \"p\": 27976, \"fpr\": 0.9680930930930931, \"tpr\": 0.9972476408350014, \"n\": 5328}, {\"threshold\": 0.46, \"p\": 27976, \"fpr\": 0.9680930930930931, \"tpr\": 0.9972476408350014, \"n\": 5328}, {\"threshold\": 0.461, \"p\": 27976, \"fpr\": 0.9680930930930931, \"tpr\": 0.9972476408350014, \"n\": 5328}, {\"threshold\": 0.462, \"p\": 27976, \"fpr\": 0.9680930930930931, \"tpr\": 0.9972118959107806, \"n\": 5328}, {\"threshold\": 0.463, \"p\": 27976, \"fpr\": 0.9680930930930931, \"tpr\": 0.9972118959107806, \"n\": 5328}, {\"threshold\": 0.464, \"p\": 27976, \"fpr\": 0.9680930930930931, \"tpr\": 0.9972118959107806, \"n\": 5328}, {\"threshold\": 0.465, \"p\": 27976, \"fpr\": 0.9680930930930931, \"tpr\": 0.9971761509865599, \"n\": 5328}, {\"threshold\": 0.466, \"p\": 27976, \"fpr\": 0.9680930930930931, \"tpr\": 0.9971761509865599, \"n\": 5328}, {\"threshold\": 0.467, \"p\": 27976, \"fpr\": 0.9680930930930931, \"tpr\": 0.9971761509865599, \"n\": 5328}, {\"threshold\": 0.468, \"p\": 27976, \"fpr\": 0.9679054054054054, \"tpr\": 0.9971761509865599, \"n\": 5328}, {\"threshold\": 0.469, \"p\": 27976, \"fpr\": 0.9679054054054054, \"tpr\": 0.9971761509865599, \"n\": 5328}, {\"threshold\": 0.47, \"p\": 27976, \"fpr\": 0.9679054054054054, \"tpr\": 0.9971761509865599, \"n\": 5328}, {\"threshold\": 0.471, \"p\": 27976, \"fpr\": 0.9679054054054054, \"tpr\": 0.9971761509865599, \"n\": 5328}, {\"threshold\": 0.472, \"p\": 27976, \"fpr\": 0.9679054054054054, \"tpr\": 0.9971761509865599, \"n\": 5328}, {\"threshold\": 0.473, \"p\": 27976, \"fpr\": 0.9679054054054054, \"tpr\": 0.9971761509865599, \"n\": 5328}, {\"threshold\": 0.474, \"p\": 27976, \"fpr\": 0.9679054054054054, \"tpr\": 0.9971761509865599, \"n\": 5328}, {\"threshold\": 0.475, \"p\": 27976, \"fpr\": 0.9679054054054054, \"tpr\": 0.9971761509865599, \"n\": 5328}, {\"threshold\": 0.476, \"p\": 27976, \"fpr\": 0.9679054054054054, \"tpr\": 0.9971761509865599, \"n\": 5328}, {\"threshold\": 0.477, \"p\": 27976, \"fpr\": 0.9679054054054054, \"tpr\": 0.9971761509865599, \"n\": 5328}, {\"threshold\": 0.478, \"p\": 27976, \"fpr\": 0.9679054054054054, \"tpr\": 0.9971761509865599, \"n\": 5328}, {\"threshold\": 0.479, \"p\": 27976, \"fpr\": 0.9679054054054054, \"tpr\": 0.9971761509865599, \"n\": 5328}, {\"threshold\": 0.48, \"p\": 27976, \"fpr\": 0.9679054054054054, \"tpr\": 0.9971761509865599, \"n\": 5328}, {\"threshold\": 0.481, \"p\": 27976, \"fpr\": 0.9679054054054054, \"tpr\": 0.9971761509865599, \"n\": 5328}, {\"threshold\": 0.482, \"p\": 27976, \"fpr\": 0.9679054054054054, \"tpr\": 0.9971761509865599, \"n\": 5328}, {\"threshold\": 0.483, \"p\": 27976, \"fpr\": 0.9679054054054054, \"tpr\": 0.9971761509865599, \"n\": 5328}, {\"threshold\": 0.484, \"p\": 27976, \"fpr\": 0.9679054054054054, \"tpr\": 0.9971761509865599, \"n\": 5328}, {\"threshold\": 0.485, \"p\": 27976, \"fpr\": 0.9679054054054054, \"tpr\": 0.9971761509865599, \"n\": 5328}, {\"threshold\": 0.486, \"p\": 27976, \"fpr\": 0.9679054054054054, \"tpr\": 0.9971761509865599, \"n\": 5328}, {\"threshold\": 0.487, \"p\": 27976, \"fpr\": 0.9679054054054054, \"tpr\": 0.9971761509865599, \"n\": 5328}, {\"threshold\": 0.488, \"p\": 27976, \"fpr\": 0.9673423423423423, \"tpr\": 0.9971046611381184, \"n\": 5328}, {\"threshold\": 0.489, \"p\": 27976, \"fpr\": 0.9673423423423423, \"tpr\": 0.9971046611381184, \"n\": 5328}, {\"threshold\": 0.49, \"p\": 27976, \"fpr\": 0.9562687687687688, \"tpr\": 0.9953531598513011, \"n\": 5328}, {\"threshold\": 0.491, \"p\": 27976, \"fpr\": 0.9562687687687688, \"tpr\": 0.9953531598513011, \"n\": 5328}, {\"threshold\": 0.492, \"p\": 27976, \"fpr\": 0.9562687687687688, \"tpr\": 0.9953531598513011, \"n\": 5328}, {\"threshold\": 0.493, \"p\": 27976, \"fpr\": 0.9562687687687688, \"tpr\": 0.9953531598513011, \"n\": 5328}, {\"threshold\": 0.494, \"p\": 27976, \"fpr\": 0.9562687687687688, \"tpr\": 0.9953531598513011, \"n\": 5328}, {\"threshold\": 0.495, \"p\": 27976, \"fpr\": 0.9562687687687688, \"tpr\": 0.9953531598513011, \"n\": 5328}, {\"threshold\": 0.496, \"p\": 27976, \"fpr\": 0.9562687687687688, \"tpr\": 0.9953531598513011, \"n\": 5328}, {\"threshold\": 0.497, \"p\": 27976, \"fpr\": 0.956081081081081, \"tpr\": 0.9953531598513011, \"n\": 5328}, {\"threshold\": 0.498, \"p\": 27976, \"fpr\": 0.956081081081081, \"tpr\": 0.9953531598513011, \"n\": 5328}, {\"threshold\": 0.499, \"p\": 27976, \"fpr\": 0.956081081081081, \"tpr\": 0.9953531598513011, \"n\": 5328}, {\"threshold\": 0.5, \"p\": 27976, \"fpr\": 0.956081081081081, \"tpr\": 0.9953531598513011, \"n\": 5328}, {\"threshold\": 0.501, \"p\": 27976, \"fpr\": 0.956081081081081, \"tpr\": 0.9953531598513011, \"n\": 5328}, {\"threshold\": 0.502, \"p\": 27976, \"fpr\": 0.956081081081081, \"tpr\": 0.9953531598513011, \"n\": 5328}, {\"threshold\": 0.503, \"p\": 27976, \"fpr\": 0.956081081081081, \"tpr\": 0.9953531598513011, \"n\": 5328}, {\"threshold\": 0.504, \"p\": 27976, \"fpr\": 0.956081081081081, \"tpr\": 0.9953531598513011, \"n\": 5328}, {\"threshold\": 0.505, \"p\": 27976, \"fpr\": 0.956081081081081, \"tpr\": 0.9953531598513011, \"n\": 5328}, {\"threshold\": 0.506, \"p\": 27976, \"fpr\": 0.956081081081081, \"tpr\": 0.9953531598513011, \"n\": 5328}, {\"threshold\": 0.507, \"p\": 27976, \"fpr\": 0.956081081081081, \"tpr\": 0.9953531598513011, \"n\": 5328}, {\"threshold\": 0.508, \"p\": 27976, \"fpr\": 0.956081081081081, \"tpr\": 0.9953531598513011, \"n\": 5328}, {\"threshold\": 0.509, \"p\": 27976, \"fpr\": 0.956081081081081, \"tpr\": 0.9953531598513011, \"n\": 5328}, {\"threshold\": 0.51, \"p\": 27976, \"fpr\": 0.956081081081081, \"tpr\": 0.9953531598513011, \"n\": 5328}, {\"threshold\": 0.511, \"p\": 27976, \"fpr\": 0.956081081081081, \"tpr\": 0.9953531598513011, \"n\": 5328}, {\"threshold\": 0.512, \"p\": 27976, \"fpr\": 0.956081081081081, \"tpr\": 0.9953531598513011, \"n\": 5328}, {\"threshold\": 0.513, \"p\": 27976, \"fpr\": 0.956081081081081, \"tpr\": 0.9953531598513011, \"n\": 5328}, {\"threshold\": 0.514, \"p\": 27976, \"fpr\": 0.956081081081081, \"tpr\": 0.9953531598513011, \"n\": 5328}, {\"threshold\": 0.515, \"p\": 27976, \"fpr\": 0.956081081081081, \"tpr\": 0.9953531598513011, \"n\": 5328}, {\"threshold\": 0.516, \"p\": 27976, \"fpr\": 0.956081081081081, \"tpr\": 0.9953531598513011, \"n\": 5328}, {\"threshold\": 0.517, \"p\": 27976, \"fpr\": 0.956081081081081, \"tpr\": 0.9953531598513011, \"n\": 5328}, {\"threshold\": 0.518, \"p\": 27976, \"fpr\": 0.956081081081081, \"tpr\": 0.9953531598513011, \"n\": 5328}, {\"threshold\": 0.519, \"p\": 27976, \"fpr\": 0.956081081081081, \"tpr\": 0.9953531598513011, \"n\": 5328}, {\"threshold\": 0.52, \"p\": 27976, \"fpr\": 0.956081081081081, \"tpr\": 0.9953531598513011, \"n\": 5328}, {\"threshold\": 0.521, \"p\": 27976, \"fpr\": 0.956081081081081, \"tpr\": 0.9953531598513011, \"n\": 5328}, {\"threshold\": 0.522, \"p\": 27976, \"fpr\": 0.956081081081081, \"tpr\": 0.9953531598513011, \"n\": 5328}, {\"threshold\": 0.523, \"p\": 27976, \"fpr\": 0.956081081081081, \"tpr\": 0.9953531598513011, \"n\": 5328}, {\"threshold\": 0.524, \"p\": 27976, \"fpr\": 0.956081081081081, \"tpr\": 0.9953531598513011, \"n\": 5328}, {\"threshold\": 0.525, \"p\": 27976, \"fpr\": 0.956081081081081, \"tpr\": 0.9953531598513011, \"n\": 5328}, {\"threshold\": 0.526, \"p\": 27976, \"fpr\": 0.956081081081081, \"tpr\": 0.9953531598513011, \"n\": 5328}, {\"threshold\": 0.527, \"p\": 27976, \"fpr\": 0.956081081081081, \"tpr\": 0.9953531598513011, \"n\": 5328}, {\"threshold\": 0.528, \"p\": 27976, \"fpr\": 0.956081081081081, \"tpr\": 0.9953531598513011, \"n\": 5328}, {\"threshold\": 0.529, \"p\": 27976, \"fpr\": 0.956081081081081, \"tpr\": 0.9953531598513011, \"n\": 5328}, {\"threshold\": 0.53, \"p\": 27976, \"fpr\": 0.956081081081081, \"tpr\": 0.9953531598513011, \"n\": 5328}, {\"threshold\": 0.531, \"p\": 27976, \"fpr\": 0.956081081081081, \"tpr\": 0.9953531598513011, \"n\": 5328}, {\"threshold\": 0.532, \"p\": 27976, \"fpr\": 0.956081081081081, \"tpr\": 0.9953531598513011, \"n\": 5328}, {\"threshold\": 0.533, \"p\": 27976, \"fpr\": 0.956081081081081, \"tpr\": 0.9953531598513011, \"n\": 5328}, {\"threshold\": 0.534, \"p\": 27976, \"fpr\": 0.956081081081081, \"tpr\": 0.9953531598513011, \"n\": 5328}, {\"threshold\": 0.535, \"p\": 27976, \"fpr\": 0.956081081081081, \"tpr\": 0.9953531598513011, \"n\": 5328}, {\"threshold\": 0.536, \"p\": 27976, \"fpr\": 0.956081081081081, \"tpr\": 0.9953531598513011, \"n\": 5328}, {\"threshold\": 0.537, \"p\": 27976, \"fpr\": 0.956081081081081, \"tpr\": 0.9953531598513011, \"n\": 5328}, {\"threshold\": 0.538, \"p\": 27976, \"fpr\": 0.956081081081081, \"tpr\": 0.9953531598513011, \"n\": 5328}, {\"threshold\": 0.539, \"p\": 27976, \"fpr\": 0.956081081081081, \"tpr\": 0.9953531598513011, \"n\": 5328}, {\"threshold\": 0.54, \"p\": 27976, \"fpr\": 0.956081081081081, \"tpr\": 0.9953531598513011, \"n\": 5328}, {\"threshold\": 0.541, \"p\": 27976, \"fpr\": 0.954954954954955, \"tpr\": 0.9951744352301973, \"n\": 5328}, {\"threshold\": 0.542, \"p\": 27976, \"fpr\": 0.954954954954955, \"tpr\": 0.9951744352301973, \"n\": 5328}, {\"threshold\": 0.543, \"p\": 27976, \"fpr\": 0.954954954954955, \"tpr\": 0.9951386903059766, \"n\": 5328}, {\"threshold\": 0.544, \"p\": 27976, \"fpr\": 0.954954954954955, \"tpr\": 0.9951386903059766, \"n\": 5328}, {\"threshold\": 0.545, \"p\": 27976, \"fpr\": 0.954954954954955, \"tpr\": 0.9951386903059766, \"n\": 5328}, {\"threshold\": 0.546, \"p\": 27976, \"fpr\": 0.954954954954955, \"tpr\": 0.9951386903059766, \"n\": 5328}, {\"threshold\": 0.547, \"p\": 27976, \"fpr\": 0.954954954954955, \"tpr\": 0.9951386903059766, \"n\": 5328}, {\"threshold\": 0.548, \"p\": 27976, \"fpr\": 0.954954954954955, \"tpr\": 0.9951386903059766, \"n\": 5328}, {\"threshold\": 0.549, \"p\": 27976, \"fpr\": 0.954954954954955, \"tpr\": 0.9951386903059766, \"n\": 5328}, {\"threshold\": 0.55, \"p\": 27976, \"fpr\": 0.954954954954955, \"tpr\": 0.9951386903059766, \"n\": 5328}, {\"threshold\": 0.551, \"p\": 27976, \"fpr\": 0.954954954954955, \"tpr\": 0.9951386903059766, \"n\": 5328}, {\"threshold\": 0.552, \"p\": 27976, \"fpr\": 0.954954954954955, \"tpr\": 0.9951386903059766, \"n\": 5328}, {\"threshold\": 0.553, \"p\": 27976, \"fpr\": 0.954954954954955, \"tpr\": 0.9951386903059766, \"n\": 5328}, {\"threshold\": 0.554, \"p\": 27976, \"fpr\": 0.954954954954955, \"tpr\": 0.9951386903059766, \"n\": 5328}, {\"threshold\": 0.555, \"p\": 27976, \"fpr\": 0.954954954954955, \"tpr\": 0.9951386903059766, \"n\": 5328}, {\"threshold\": 0.556, \"p\": 27976, \"fpr\": 0.954954954954955, \"tpr\": 0.9951386903059766, \"n\": 5328}, {\"threshold\": 0.557, \"p\": 27976, \"fpr\": 0.954954954954955, \"tpr\": 0.9951386903059766, \"n\": 5328}, {\"threshold\": 0.558, \"p\": 27976, \"fpr\": 0.954954954954955, \"tpr\": 0.9951386903059766, \"n\": 5328}, {\"threshold\": 0.559, \"p\": 27976, \"fpr\": 0.954954954954955, \"tpr\": 0.9951386903059766, \"n\": 5328}, {\"threshold\": 0.56, \"p\": 27976, \"fpr\": 0.954954954954955, \"tpr\": 0.9951386903059766, \"n\": 5328}, {\"threshold\": 0.561, \"p\": 27976, \"fpr\": 0.954954954954955, \"tpr\": 0.9951386903059766, \"n\": 5328}, {\"threshold\": 0.562, \"p\": 27976, \"fpr\": 0.954954954954955, \"tpr\": 0.9951386903059766, \"n\": 5328}, {\"threshold\": 0.563, \"p\": 27976, \"fpr\": 0.954954954954955, \"tpr\": 0.9951386903059766, \"n\": 5328}, {\"threshold\": 0.564, \"p\": 27976, \"fpr\": 0.9538288288288288, \"tpr\": 0.9949957106090935, \"n\": 5328}, {\"threshold\": 0.565, \"p\": 27976, \"fpr\": 0.9538288288288288, \"tpr\": 0.9949957106090935, \"n\": 5328}, {\"threshold\": 0.566, \"p\": 27976, \"fpr\": 0.9538288288288288, \"tpr\": 0.9949599656848728, \"n\": 5328}, {\"threshold\": 0.567, \"p\": 27976, \"fpr\": 0.9538288288288288, \"tpr\": 0.9949599656848728, \"n\": 5328}, {\"threshold\": 0.568, \"p\": 27976, \"fpr\": 0.9538288288288288, \"tpr\": 0.9949599656848728, \"n\": 5328}, {\"threshold\": 0.569, \"p\": 27976, \"fpr\": 0.9538288288288288, \"tpr\": 0.9949599656848728, \"n\": 5328}, {\"threshold\": 0.57, \"p\": 27976, \"fpr\": 0.9538288288288288, \"tpr\": 0.9948527309122105, \"n\": 5328}, {\"threshold\": 0.571, \"p\": 27976, \"fpr\": 0.9538288288288288, \"tpr\": 0.9948527309122105, \"n\": 5328}, {\"threshold\": 0.572, \"p\": 27976, \"fpr\": 0.9538288288288288, \"tpr\": 0.9948527309122105, \"n\": 5328}, {\"threshold\": 0.573, \"p\": 27976, \"fpr\": 0.9538288288288288, \"tpr\": 0.9948527309122105, \"n\": 5328}, {\"threshold\": 0.574, \"p\": 27976, \"fpr\": 0.9538288288288288, \"tpr\": 0.9948527309122105, \"n\": 5328}, {\"threshold\": 0.575, \"p\": 27976, \"fpr\": 0.9538288288288288, \"tpr\": 0.9948527309122105, \"n\": 5328}, {\"threshold\": 0.576, \"p\": 27976, \"fpr\": 0.9538288288288288, \"tpr\": 0.9948527309122105, \"n\": 5328}, {\"threshold\": 0.577, \"p\": 27976, \"fpr\": 0.9538288288288288, \"tpr\": 0.9948527309122105, \"n\": 5328}, {\"threshold\": 0.578, \"p\": 27976, \"fpr\": 0.9538288288288288, \"tpr\": 0.9948527309122105, \"n\": 5328}, {\"threshold\": 0.579, \"p\": 27976, \"fpr\": 0.9538288288288288, \"tpr\": 0.9948527309122105, \"n\": 5328}, {\"threshold\": 0.58, \"p\": 27976, \"fpr\": 0.9538288288288288, \"tpr\": 0.9948527309122105, \"n\": 5328}, {\"threshold\": 0.581, \"p\": 27976, \"fpr\": 0.9538288288288288, \"tpr\": 0.9948527309122105, \"n\": 5328}, {\"threshold\": 0.582, \"p\": 27976, \"fpr\": 0.9538288288288288, \"tpr\": 0.9948169859879897, \"n\": 5328}, {\"threshold\": 0.583, \"p\": 27976, \"fpr\": 0.9538288288288288, \"tpr\": 0.9948169859879897, \"n\": 5328}, {\"threshold\": 0.584, \"p\": 27976, \"fpr\": 0.9538288288288288, \"tpr\": 0.9948169859879897, \"n\": 5328}, {\"threshold\": 0.585, \"p\": 27976, \"fpr\": 0.9538288288288288, \"tpr\": 0.9948169859879897, \"n\": 5328}, {\"threshold\": 0.586, \"p\": 27976, \"fpr\": 0.9538288288288288, \"tpr\": 0.9948169859879897, \"n\": 5328}, {\"threshold\": 0.587, \"p\": 27976, \"fpr\": 0.9538288288288288, \"tpr\": 0.9948169859879897, \"n\": 5328}, {\"threshold\": 0.588, \"p\": 27976, \"fpr\": 0.9538288288288288, \"tpr\": 0.9948169859879897, \"n\": 5328}, {\"threshold\": 0.589, \"p\": 27976, \"fpr\": 0.9538288288288288, \"tpr\": 0.9948169859879897, \"n\": 5328}, {\"threshold\": 0.59, \"p\": 27976, \"fpr\": 0.9538288288288288, \"tpr\": 0.9948169859879897, \"n\": 5328}, {\"threshold\": 0.591, \"p\": 27976, \"fpr\": 0.9538288288288288, \"tpr\": 0.9948169859879897, \"n\": 5328}, {\"threshold\": 0.592, \"p\": 27976, \"fpr\": 0.9536411411411412, \"tpr\": 0.994781241063769, \"n\": 5328}, {\"threshold\": 0.593, \"p\": 27976, \"fpr\": 0.9536411411411412, \"tpr\": 0.994781241063769, \"n\": 5328}, {\"threshold\": 0.594, \"p\": 27976, \"fpr\": 0.9536411411411412, \"tpr\": 0.994781241063769, \"n\": 5328}, {\"threshold\": 0.595, \"p\": 27976, \"fpr\": 0.9294294294294294, \"tpr\": 0.9873820417500715, \"n\": 5328}, {\"threshold\": 0.596, \"p\": 27976, \"fpr\": 0.9294294294294294, \"tpr\": 0.9873820417500715, \"n\": 5328}, {\"threshold\": 0.597, \"p\": 27976, \"fpr\": 0.9294294294294294, \"tpr\": 0.9873820417500715, \"n\": 5328}, {\"threshold\": 0.598, \"p\": 27976, \"fpr\": 0.9294294294294294, \"tpr\": 0.9873820417500715, \"n\": 5328}, {\"threshold\": 0.599, \"p\": 27976, \"fpr\": 0.9294294294294294, \"tpr\": 0.9873820417500715, \"n\": 5328}, {\"threshold\": 0.6, \"p\": 27976, \"fpr\": 0.9294294294294294, \"tpr\": 0.9873820417500715, \"n\": 5328}, {\"threshold\": 0.601, \"p\": 27976, \"fpr\": 0.9294294294294294, \"tpr\": 0.9873820417500715, \"n\": 5328}, {\"threshold\": 0.602, \"p\": 27976, \"fpr\": 0.9294294294294294, \"tpr\": 0.9873820417500715, \"n\": 5328}, {\"threshold\": 0.603, \"p\": 27976, \"fpr\": 0.9294294294294294, \"tpr\": 0.9873820417500715, \"n\": 5328}, {\"threshold\": 0.604, \"p\": 27976, \"fpr\": 0.9294294294294294, \"tpr\": 0.9873820417500715, \"n\": 5328}, {\"threshold\": 0.605, \"p\": 27976, \"fpr\": 0.9294294294294294, \"tpr\": 0.9873820417500715, \"n\": 5328}, {\"threshold\": 0.606, \"p\": 27976, \"fpr\": 0.9294294294294294, \"tpr\": 0.9873820417500715, \"n\": 5328}, {\"threshold\": 0.607, \"p\": 27976, \"fpr\": 0.9294294294294294, \"tpr\": 0.9873820417500715, \"n\": 5328}, {\"threshold\": 0.608, \"p\": 27976, \"fpr\": 0.9294294294294294, \"tpr\": 0.9873820417500715, \"n\": 5328}, {\"threshold\": 0.609, \"p\": 27976, \"fpr\": 0.9294294294294294, \"tpr\": 0.9873820417500715, \"n\": 5328}, {\"threshold\": 0.61, \"p\": 27976, \"fpr\": 0.9294294294294294, \"tpr\": 0.9873820417500715, \"n\": 5328}, {\"threshold\": 0.611, \"p\": 27976, \"fpr\": 0.9294294294294294, \"tpr\": 0.9873820417500715, \"n\": 5328}, {\"threshold\": 0.612, \"p\": 27976, \"fpr\": 0.9294294294294294, \"tpr\": 0.9873820417500715, \"n\": 5328}, {\"threshold\": 0.613, \"p\": 27976, \"fpr\": 0.9294294294294294, \"tpr\": 0.9873820417500715, \"n\": 5328}, {\"threshold\": 0.614, \"p\": 27976, \"fpr\": 0.9294294294294294, \"tpr\": 0.9873820417500715, \"n\": 5328}, {\"threshold\": 0.615, \"p\": 27976, \"fpr\": 0.9294294294294294, \"tpr\": 0.9873820417500715, \"n\": 5328}, {\"threshold\": 0.616, \"p\": 27976, \"fpr\": 0.9294294294294294, \"tpr\": 0.9873820417500715, \"n\": 5328}, {\"threshold\": 0.617, \"p\": 27976, \"fpr\": 0.9294294294294294, \"tpr\": 0.9873820417500715, \"n\": 5328}, {\"threshold\": 0.618, \"p\": 27976, \"fpr\": 0.9294294294294294, \"tpr\": 0.9873820417500715, \"n\": 5328}, {\"threshold\": 0.619, \"p\": 27976, \"fpr\": 0.9294294294294294, \"tpr\": 0.9873820417500715, \"n\": 5328}, {\"threshold\": 0.62, \"p\": 27976, \"fpr\": 0.9294294294294294, \"tpr\": 0.9872390620531885, \"n\": 5328}, {\"threshold\": 0.621, \"p\": 27976, \"fpr\": 0.9294294294294294, \"tpr\": 0.9872390620531885, \"n\": 5328}, {\"threshold\": 0.622, \"p\": 27976, \"fpr\": 0.9294294294294294, \"tpr\": 0.9871675722047469, \"n\": 5328}, {\"threshold\": 0.623, \"p\": 27976, \"fpr\": 0.9294294294294294, \"tpr\": 0.9871675722047469, \"n\": 5328}, {\"threshold\": 0.624, \"p\": 27976, \"fpr\": 0.9294294294294294, \"tpr\": 0.9871675722047469, \"n\": 5328}, {\"threshold\": 0.625, \"p\": 27976, \"fpr\": 0.9294294294294294, \"tpr\": 0.9871675722047469, \"n\": 5328}, {\"threshold\": 0.626, \"p\": 27976, \"fpr\": 0.9294294294294294, \"tpr\": 0.9871675722047469, \"n\": 5328}, {\"threshold\": 0.627, \"p\": 27976, \"fpr\": 0.9294294294294294, \"tpr\": 0.9871675722047469, \"n\": 5328}, {\"threshold\": 0.628, \"p\": 27976, \"fpr\": 0.9294294294294294, \"tpr\": 0.9871675722047469, \"n\": 5328}, {\"threshold\": 0.629, \"p\": 27976, \"fpr\": 0.9294294294294294, \"tpr\": 0.9871675722047469, \"n\": 5328}, {\"threshold\": 0.63, \"p\": 27976, \"fpr\": 0.9294294294294294, \"tpr\": 0.9871675722047469, \"n\": 5328}, {\"threshold\": 0.631, \"p\": 27976, \"fpr\": 0.9294294294294294, \"tpr\": 0.9871675722047469, \"n\": 5328}, {\"threshold\": 0.632, \"p\": 27976, \"fpr\": 0.9294294294294294, \"tpr\": 0.9871675722047469, \"n\": 5328}, {\"threshold\": 0.633, \"p\": 27976, \"fpr\": 0.9294294294294294, \"tpr\": 0.9871675722047469, \"n\": 5328}, {\"threshold\": 0.634, \"p\": 27976, \"fpr\": 0.9294294294294294, \"tpr\": 0.9871675722047469, \"n\": 5328}, {\"threshold\": 0.635, \"p\": 27976, \"fpr\": 0.9294294294294294, \"tpr\": 0.9871675722047469, \"n\": 5328}, {\"threshold\": 0.636, \"p\": 27976, \"fpr\": 0.9294294294294294, \"tpr\": 0.9871675722047469, \"n\": 5328}, {\"threshold\": 0.637, \"p\": 27976, \"fpr\": 0.9294294294294294, \"tpr\": 0.9871675722047469, \"n\": 5328}, {\"threshold\": 0.638, \"p\": 27976, \"fpr\": 0.9294294294294294, \"tpr\": 0.9871675722047469, \"n\": 5328}, {\"threshold\": 0.639, \"p\": 27976, \"fpr\": 0.9294294294294294, \"tpr\": 0.9871675722047469, \"n\": 5328}, {\"threshold\": 0.64, \"p\": 27976, \"fpr\": 0.9294294294294294, \"tpr\": 0.9871675722047469, \"n\": 5328}, {\"threshold\": 0.641, \"p\": 27976, \"fpr\": 0.9294294294294294, \"tpr\": 0.9871675722047469, \"n\": 5328}, {\"threshold\": 0.642, \"p\": 27976, \"fpr\": 0.9294294294294294, \"tpr\": 0.9871675722047469, \"n\": 5328}, {\"threshold\": 0.643, \"p\": 27976, \"fpr\": 0.9294294294294294, \"tpr\": 0.9871675722047469, \"n\": 5328}, {\"threshold\": 0.644, \"p\": 27976, \"fpr\": 0.9294294294294294, \"tpr\": 0.9871675722047469, \"n\": 5328}, {\"threshold\": 0.645, \"p\": 27976, \"fpr\": 0.9294294294294294, \"tpr\": 0.9871675722047469, \"n\": 5328}, {\"threshold\": 0.646, \"p\": 27976, \"fpr\": 0.9294294294294294, \"tpr\": 0.9871675722047469, \"n\": 5328}, {\"threshold\": 0.647, \"p\": 27976, \"fpr\": 0.9294294294294294, \"tpr\": 0.9871675722047469, \"n\": 5328}, {\"threshold\": 0.648, \"p\": 27976, \"fpr\": 0.9294294294294294, \"tpr\": 0.9871675722047469, \"n\": 5328}, {\"threshold\": 0.649, \"p\": 27976, \"fpr\": 0.9294294294294294, \"tpr\": 0.9871675722047469, \"n\": 5328}, {\"threshold\": 0.65, \"p\": 27976, \"fpr\": 0.9294294294294294, \"tpr\": 0.9871675722047469, \"n\": 5328}, {\"threshold\": 0.651, \"p\": 27976, \"fpr\": 0.9294294294294294, \"tpr\": 0.9871675722047469, \"n\": 5328}, {\"threshold\": 0.652, \"p\": 27976, \"fpr\": 0.9294294294294294, \"tpr\": 0.9871675722047469, \"n\": 5328}, {\"threshold\": 0.653, \"p\": 27976, \"fpr\": 0.9294294294294294, \"tpr\": 0.9871675722047469, \"n\": 5328}, {\"threshold\": 0.654, \"p\": 27976, \"fpr\": 0.9294294294294294, \"tpr\": 0.9871675722047469, \"n\": 5328}, {\"threshold\": 0.655, \"p\": 27976, \"fpr\": 0.9294294294294294, \"tpr\": 0.9871675722047469, \"n\": 5328}, {\"threshold\": 0.656, \"p\": 27976, \"fpr\": 0.9294294294294294, \"tpr\": 0.9871675722047469, \"n\": 5328}, {\"threshold\": 0.657, \"p\": 27976, \"fpr\": 0.9294294294294294, \"tpr\": 0.9871675722047469, \"n\": 5328}, {\"threshold\": 0.658, \"p\": 27976, \"fpr\": 0.9294294294294294, \"tpr\": 0.9871675722047469, \"n\": 5328}, {\"threshold\": 0.659, \"p\": 27976, \"fpr\": 0.9294294294294294, \"tpr\": 0.9871675722047469, \"n\": 5328}, {\"threshold\": 0.66, \"p\": 27976, \"fpr\": 0.9294294294294294, \"tpr\": 0.9871318272805262, \"n\": 5328}, {\"threshold\": 0.661, \"p\": 27976, \"fpr\": 0.9294294294294294, \"tpr\": 0.9871318272805262, \"n\": 5328}, {\"threshold\": 0.662, \"p\": 27976, \"fpr\": 0.9294294294294294, \"tpr\": 0.9871318272805262, \"n\": 5328}, {\"threshold\": 0.663, \"p\": 27976, \"fpr\": 0.9290540540540541, \"tpr\": 0.9868458678867601, \"n\": 5328}, {\"threshold\": 0.664, \"p\": 27976, \"fpr\": 0.9290540540540541, \"tpr\": 0.9868458678867601, \"n\": 5328}, {\"threshold\": 0.665, \"p\": 27976, \"fpr\": 0.9290540540540541, \"tpr\": 0.9868458678867601, \"n\": 5328}, {\"threshold\": 0.666, \"p\": 27976, \"fpr\": 0.9290540540540541, \"tpr\": 0.9868458678867601, \"n\": 5328}, {\"threshold\": 0.667, \"p\": 27976, \"fpr\": 0.9290540540540541, \"tpr\": 0.9868458678867601, \"n\": 5328}, {\"threshold\": 0.668, \"p\": 27976, \"fpr\": 0.9290540540540541, \"tpr\": 0.9868458678867601, \"n\": 5328}, {\"threshold\": 0.669, \"p\": 27976, \"fpr\": 0.9290540540540541, \"tpr\": 0.9868101229625393, \"n\": 5328}, {\"threshold\": 0.67, \"p\": 27976, \"fpr\": 0.9290540540540541, \"tpr\": 0.9868101229625393, \"n\": 5328}, {\"threshold\": 0.671, \"p\": 27976, \"fpr\": 0.9290540540540541, \"tpr\": 0.9868101229625393, \"n\": 5328}, {\"threshold\": 0.672, \"p\": 27976, \"fpr\": 0.9290540540540541, \"tpr\": 0.9867743780383186, \"n\": 5328}, {\"threshold\": 0.673, \"p\": 27976, \"fpr\": 0.9290540540540541, \"tpr\": 0.9867743780383186, \"n\": 5328}, {\"threshold\": 0.674, \"p\": 27976, \"fpr\": 0.9290540540540541, \"tpr\": 0.9867743780383186, \"n\": 5328}, {\"threshold\": 0.675, \"p\": 27976, \"fpr\": 0.9290540540540541, \"tpr\": 0.9867743780383186, \"n\": 5328}, {\"threshold\": 0.676, \"p\": 27976, \"fpr\": 0.9290540540540541, \"tpr\": 0.9867743780383186, \"n\": 5328}, {\"threshold\": 0.677, \"p\": 27976, \"fpr\": 0.9290540540540541, \"tpr\": 0.9867743780383186, \"n\": 5328}, {\"threshold\": 0.678, \"p\": 27976, \"fpr\": 0.9290540540540541, \"tpr\": 0.9867743780383186, \"n\": 5328}, {\"threshold\": 0.679, \"p\": 27976, \"fpr\": 0.9290540540540541, \"tpr\": 0.9867743780383186, \"n\": 5328}, {\"threshold\": 0.68, \"p\": 27976, \"fpr\": 0.9290540540540541, \"tpr\": 0.9867743780383186, \"n\": 5328}, {\"threshold\": 0.681, \"p\": 27976, \"fpr\": 0.9290540540540541, \"tpr\": 0.9867743780383186, \"n\": 5328}, {\"threshold\": 0.682, \"p\": 27976, \"fpr\": 0.9290540540540541, \"tpr\": 0.9867743780383186, \"n\": 5328}, {\"threshold\": 0.683, \"p\": 27976, \"fpr\": 0.9290540540540541, \"tpr\": 0.9867743780383186, \"n\": 5328}, {\"threshold\": 0.684, \"p\": 27976, \"fpr\": 0.9290540540540541, \"tpr\": 0.9866313983414355, \"n\": 5328}, {\"threshold\": 0.685, \"p\": 27976, \"fpr\": 0.9290540540540541, \"tpr\": 0.9866313983414355, \"n\": 5328}, {\"threshold\": 0.686, \"p\": 27976, \"fpr\": 0.9290540540540541, \"tpr\": 0.9866313983414355, \"n\": 5328}, {\"threshold\": 0.687, \"p\": 27976, \"fpr\": 0.9290540540540541, \"tpr\": 0.9866313983414355, \"n\": 5328}, {\"threshold\": 0.688, \"p\": 27976, \"fpr\": 0.9290540540540541, \"tpr\": 0.9866313983414355, \"n\": 5328}, {\"threshold\": 0.689, \"p\": 27976, \"fpr\": 0.9290540540540541, \"tpr\": 0.9866313983414355, \"n\": 5328}, {\"threshold\": 0.69, \"p\": 27976, \"fpr\": 0.9290540540540541, \"tpr\": 0.986559908492994, \"n\": 5328}, {\"threshold\": 0.691, \"p\": 27976, \"fpr\": 0.9290540540540541, \"tpr\": 0.986559908492994, \"n\": 5328}, {\"threshold\": 0.692, \"p\": 27976, \"fpr\": 0.9290540540540541, \"tpr\": 0.986559908492994, \"n\": 5328}, {\"threshold\": 0.693, \"p\": 27976, \"fpr\": 0.9290540540540541, \"tpr\": 0.986559908492994, \"n\": 5328}, {\"threshold\": 0.694, \"p\": 27976, \"fpr\": 0.9290540540540541, \"tpr\": 0.986559908492994, \"n\": 5328}, {\"threshold\": 0.695, \"p\": 27976, \"fpr\": 0.9290540540540541, \"tpr\": 0.986559908492994, \"n\": 5328}, {\"threshold\": 0.696, \"p\": 27976, \"fpr\": 0.9290540540540541, \"tpr\": 0.986559908492994, \"n\": 5328}, {\"threshold\": 0.697, \"p\": 27976, \"fpr\": 0.9290540540540541, \"tpr\": 0.986559908492994, \"n\": 5328}, {\"threshold\": 0.698, \"p\": 27976, \"fpr\": 0.9290540540540541, \"tpr\": 0.986559908492994, \"n\": 5328}, {\"threshold\": 0.699, \"p\": 27976, \"fpr\": 0.9271771771771772, \"tpr\": 0.9861309694023449, \"n\": 5328}, {\"threshold\": 0.7, \"p\": 27976, \"fpr\": 0.9271771771771772, \"tpr\": 0.9861309694023449, \"n\": 5328}, {\"threshold\": 0.701, \"p\": 27976, \"fpr\": 0.9271771771771772, \"tpr\": 0.9860594795539034, \"n\": 5328}, {\"threshold\": 0.702, \"p\": 27976, \"fpr\": 0.9271771771771772, \"tpr\": 0.9860594795539034, \"n\": 5328}, {\"threshold\": 0.703, \"p\": 27976, \"fpr\": 0.9271771771771772, \"tpr\": 0.9860594795539034, \"n\": 5328}, {\"threshold\": 0.704, \"p\": 27976, \"fpr\": 0.9271771771771772, \"tpr\": 0.9860594795539034, \"n\": 5328}, {\"threshold\": 0.705, \"p\": 27976, \"fpr\": 0.9271771771771772, \"tpr\": 0.9860594795539034, \"n\": 5328}, {\"threshold\": 0.706, \"p\": 27976, \"fpr\": 0.9271771771771772, \"tpr\": 0.9860594795539034, \"n\": 5328}, {\"threshold\": 0.707, \"p\": 27976, \"fpr\": 0.9271771771771772, \"tpr\": 0.9860594795539034, \"n\": 5328}, {\"threshold\": 0.708, \"p\": 27976, \"fpr\": 0.9271771771771772, \"tpr\": 0.9860594795539034, \"n\": 5328}, {\"threshold\": 0.709, \"p\": 27976, \"fpr\": 0.9271771771771772, \"tpr\": 0.9860594795539034, \"n\": 5328}, {\"threshold\": 0.71, \"p\": 27976, \"fpr\": 0.9271771771771772, \"tpr\": 0.9860594795539034, \"n\": 5328}, {\"threshold\": 0.711, \"p\": 27976, \"fpr\": 0.9271771771771772, \"tpr\": 0.9860594795539034, \"n\": 5328}, {\"threshold\": 0.712, \"p\": 27976, \"fpr\": 0.9271771771771772, \"tpr\": 0.9860594795539034, \"n\": 5328}, {\"threshold\": 0.713, \"p\": 27976, \"fpr\": 0.9271771771771772, \"tpr\": 0.9860594795539034, \"n\": 5328}, {\"threshold\": 0.714, \"p\": 27976, \"fpr\": 0.9271771771771772, \"tpr\": 0.9860594795539034, \"n\": 5328}, {\"threshold\": 0.715, \"p\": 27976, \"fpr\": 0.9271771771771772, \"tpr\": 0.9860594795539034, \"n\": 5328}, {\"threshold\": 0.716, \"p\": 27976, \"fpr\": 0.9271771771771772, \"tpr\": 0.9860594795539034, \"n\": 5328}, {\"threshold\": 0.717, \"p\": 27976, \"fpr\": 0.9271771771771772, \"tpr\": 0.9860594795539034, \"n\": 5328}, {\"threshold\": 0.718, \"p\": 27976, \"fpr\": 0.9271771771771772, \"tpr\": 0.9860594795539034, \"n\": 5328}, {\"threshold\": 0.719, \"p\": 27976, \"fpr\": 0.9271771771771772, \"tpr\": 0.9860594795539034, \"n\": 5328}, {\"threshold\": 0.72, \"p\": 27976, \"fpr\": 0.9271771771771772, \"tpr\": 0.9860594795539034, \"n\": 5328}, {\"threshold\": 0.721, \"p\": 27976, \"fpr\": 0.9271771771771772, \"tpr\": 0.9860594795539034, \"n\": 5328}, {\"threshold\": 0.722, \"p\": 27976, \"fpr\": 0.9271771771771772, \"tpr\": 0.9860594795539034, \"n\": 5328}, {\"threshold\": 0.723, \"p\": 27976, \"fpr\": 0.9271771771771772, \"tpr\": 0.9860594795539034, \"n\": 5328}, {\"threshold\": 0.724, \"p\": 27976, \"fpr\": 0.9271771771771772, \"tpr\": 0.9860594795539034, \"n\": 5328}, {\"threshold\": 0.725, \"p\": 27976, \"fpr\": 0.9271771771771772, \"tpr\": 0.9860594795539034, \"n\": 5328}, {\"threshold\": 0.726, \"p\": 27976, \"fpr\": 0.9271771771771772, \"tpr\": 0.9860594795539034, \"n\": 5328}, {\"threshold\": 0.727, \"p\": 27976, \"fpr\": 0.9271771771771772, \"tpr\": 0.9860594795539034, \"n\": 5328}, {\"threshold\": 0.728, \"p\": 27976, \"fpr\": 0.9271771771771772, \"tpr\": 0.9860594795539034, \"n\": 5328}, {\"threshold\": 0.729, \"p\": 27976, \"fpr\": 0.9271771771771772, \"tpr\": 0.9860594795539034, \"n\": 5328}, {\"threshold\": 0.73, \"p\": 27976, \"fpr\": 0.9271771771771772, \"tpr\": 0.9860594795539034, \"n\": 5328}, {\"threshold\": 0.731, \"p\": 27976, \"fpr\": 0.9271771771771772, \"tpr\": 0.9860594795539034, \"n\": 5328}, {\"threshold\": 0.732, \"p\": 27976, \"fpr\": 0.9271771771771772, \"tpr\": 0.9859879897054619, \"n\": 5328}, {\"threshold\": 0.733, \"p\": 27976, \"fpr\": 0.9271771771771772, \"tpr\": 0.9859879897054619, \"n\": 5328}, {\"threshold\": 0.734, \"p\": 27976, \"fpr\": 0.9271771771771772, \"tpr\": 0.9859879897054619, \"n\": 5328}, {\"threshold\": 0.735, \"p\": 27976, \"fpr\": 0.9269894894894894, \"tpr\": 0.9859522447812411, \"n\": 5328}, {\"threshold\": 0.736, \"p\": 27976, \"fpr\": 0.9269894894894894, \"tpr\": 0.9859522447812411, \"n\": 5328}, {\"threshold\": 0.737, \"p\": 27976, \"fpr\": 0.9269894894894894, \"tpr\": 0.9859522447812411, \"n\": 5328}, {\"threshold\": 0.738, \"p\": 27976, \"fpr\": 0.9269894894894894, \"tpr\": 0.9859522447812411, \"n\": 5328}, {\"threshold\": 0.739, \"p\": 27976, \"fpr\": 0.9269894894894894, \"tpr\": 0.9859522447812411, \"n\": 5328}, {\"threshold\": 0.74, \"p\": 27976, \"fpr\": 0.9268018018018018, \"tpr\": 0.9858807549327996, \"n\": 5328}, {\"threshold\": 0.741, \"p\": 27976, \"fpr\": 0.9268018018018018, \"tpr\": 0.9858807549327996, \"n\": 5328}, {\"threshold\": 0.742, \"p\": 27976, \"fpr\": 0.9268018018018018, \"tpr\": 0.9858807549327996, \"n\": 5328}, {\"threshold\": 0.743, \"p\": 27976, \"fpr\": 0.9268018018018018, \"tpr\": 0.9858807549327996, \"n\": 5328}, {\"threshold\": 0.744, \"p\": 27976, \"fpr\": 0.9268018018018018, \"tpr\": 0.9858807549327996, \"n\": 5328}, {\"threshold\": 0.745, \"p\": 27976, \"fpr\": 0.9268018018018018, \"tpr\": 0.9858807549327996, \"n\": 5328}, {\"threshold\": 0.746, \"p\": 27976, \"fpr\": 0.9268018018018018, \"tpr\": 0.9858807549327996, \"n\": 5328}, {\"threshold\": 0.747, \"p\": 27976, \"fpr\": 0.9268018018018018, \"tpr\": 0.9858807549327996, \"n\": 5328}, {\"threshold\": 0.748, \"p\": 27976, \"fpr\": 0.9268018018018018, \"tpr\": 0.9858807549327996, \"n\": 5328}, {\"threshold\": 0.749, \"p\": 27976, \"fpr\": 0.9268018018018018, \"tpr\": 0.9858807549327996, \"n\": 5328}, {\"threshold\": 0.75, \"p\": 27976, \"fpr\": 0.9268018018018018, \"tpr\": 0.9858807549327996, \"n\": 5328}, {\"threshold\": 0.751, \"p\": 27976, \"fpr\": 0.9268018018018018, \"tpr\": 0.9858807549327996, \"n\": 5328}, {\"threshold\": 0.752, \"p\": 27976, \"fpr\": 0.9268018018018018, \"tpr\": 0.9858807549327996, \"n\": 5328}, {\"threshold\": 0.753, \"p\": 27976, \"fpr\": 0.9268018018018018, \"tpr\": 0.9858807549327996, \"n\": 5328}, {\"threshold\": 0.754, \"p\": 27976, \"fpr\": 0.9268018018018018, \"tpr\": 0.9858807549327996, \"n\": 5328}, {\"threshold\": 0.755, \"p\": 27976, \"fpr\": 0.9268018018018018, \"tpr\": 0.9858807549327996, \"n\": 5328}, {\"threshold\": 0.756, \"p\": 27976, \"fpr\": 0.9268018018018018, \"tpr\": 0.9858807549327996, \"n\": 5328}, {\"threshold\": 0.757, \"p\": 27976, \"fpr\": 0.9268018018018018, \"tpr\": 0.9858807549327996, \"n\": 5328}, {\"threshold\": 0.758, \"p\": 27976, \"fpr\": 0.9268018018018018, \"tpr\": 0.9858450100085788, \"n\": 5328}, {\"threshold\": 0.759, \"p\": 27976, \"fpr\": 0.9268018018018018, \"tpr\": 0.9858450100085788, \"n\": 5328}, {\"threshold\": 0.76, \"p\": 27976, \"fpr\": 0.9268018018018018, \"tpr\": 0.9858450100085788, \"n\": 5328}, {\"threshold\": 0.761, \"p\": 27976, \"fpr\": 0.9268018018018018, \"tpr\": 0.9858450100085788, \"n\": 5328}, {\"threshold\": 0.762, \"p\": 27976, \"fpr\": 0.9268018018018018, \"tpr\": 0.9857735201601373, \"n\": 5328}, {\"threshold\": 0.763, \"p\": 27976, \"fpr\": 0.9268018018018018, \"tpr\": 0.9857735201601373, \"n\": 5328}, {\"threshold\": 0.764, \"p\": 27976, \"fpr\": 0.9268018018018018, \"tpr\": 0.9857735201601373, \"n\": 5328}, {\"threshold\": 0.765, \"p\": 27976, \"fpr\": 0.9268018018018018, \"tpr\": 0.9857735201601373, \"n\": 5328}, {\"threshold\": 0.766, \"p\": 27976, \"fpr\": 0.9268018018018018, \"tpr\": 0.9857735201601373, \"n\": 5328}, {\"threshold\": 0.767, \"p\": 27976, \"fpr\": 0.9268018018018018, \"tpr\": 0.9857735201601373, \"n\": 5328}, {\"threshold\": 0.768, \"p\": 27976, \"fpr\": 0.9268018018018018, \"tpr\": 0.9857735201601373, \"n\": 5328}, {\"threshold\": 0.769, \"p\": 27976, \"fpr\": 0.9268018018018018, \"tpr\": 0.9857735201601373, \"n\": 5328}, {\"threshold\": 0.77, \"p\": 27976, \"fpr\": 0.9268018018018018, \"tpr\": 0.9857735201601373, \"n\": 5328}, {\"threshold\": 0.771, \"p\": 27976, \"fpr\": 0.9268018018018018, \"tpr\": 0.9857735201601373, \"n\": 5328}, {\"threshold\": 0.772, \"p\": 27976, \"fpr\": 0.9268018018018018, \"tpr\": 0.9857377752359165, \"n\": 5328}, {\"threshold\": 0.773, \"p\": 27976, \"fpr\": 0.9268018018018018, \"tpr\": 0.9857377752359165, \"n\": 5328}, {\"threshold\": 0.774, \"p\": 27976, \"fpr\": 0.9268018018018018, \"tpr\": 0.9857377752359165, \"n\": 5328}, {\"threshold\": 0.775, \"p\": 27976, \"fpr\": 0.9268018018018018, \"tpr\": 0.9857377752359165, \"n\": 5328}, {\"threshold\": 0.776, \"p\": 27976, \"fpr\": 0.9268018018018018, \"tpr\": 0.9857377752359165, \"n\": 5328}, {\"threshold\": 0.777, \"p\": 27976, \"fpr\": 0.9268018018018018, \"tpr\": 0.9857377752359165, \"n\": 5328}, {\"threshold\": 0.778, \"p\": 27976, \"fpr\": 0.9268018018018018, \"tpr\": 0.9857377752359165, \"n\": 5328}, {\"threshold\": 0.779, \"p\": 27976, \"fpr\": 0.9268018018018018, \"tpr\": 0.9857377752359165, \"n\": 5328}, {\"threshold\": 0.78, \"p\": 27976, \"fpr\": 0.9234234234234234, \"tpr\": 0.9838432942522162, \"n\": 5328}, {\"threshold\": 0.781, \"p\": 27976, \"fpr\": 0.9234234234234234, \"tpr\": 0.9838432942522162, \"n\": 5328}, {\"threshold\": 0.782, \"p\": 27976, \"fpr\": 0.9234234234234234, \"tpr\": 0.9837718044037747, \"n\": 5328}, {\"threshold\": 0.783, \"p\": 27976, \"fpr\": 0.9234234234234234, \"tpr\": 0.9837718044037747, \"n\": 5328}, {\"threshold\": 0.784, \"p\": 27976, \"fpr\": 0.9234234234234234, \"tpr\": 0.9837718044037747, \"n\": 5328}, {\"threshold\": 0.785, \"p\": 27976, \"fpr\": 0.9234234234234234, \"tpr\": 0.9837718044037747, \"n\": 5328}, {\"threshold\": 0.786, \"p\": 27976, \"fpr\": 0.9234234234234234, \"tpr\": 0.9837718044037747, \"n\": 5328}, {\"threshold\": 0.787, \"p\": 27976, \"fpr\": 0.9234234234234234, \"tpr\": 0.9837718044037747, \"n\": 5328}, {\"threshold\": 0.788, \"p\": 27976, \"fpr\": 0.9234234234234234, \"tpr\": 0.9837718044037747, \"n\": 5328}, {\"threshold\": 0.789, \"p\": 27976, \"fpr\": 0.9232357357357357, \"tpr\": 0.9835573348584501, \"n\": 5328}, {\"threshold\": 0.79, \"p\": 27976, \"fpr\": 0.9232357357357357, \"tpr\": 0.9835573348584501, \"n\": 5328}, {\"threshold\": 0.791, \"p\": 27976, \"fpr\": 0.9232357357357357, \"tpr\": 0.9835573348584501, \"n\": 5328}, {\"threshold\": 0.792, \"p\": 27976, \"fpr\": 0.9232357357357357, \"tpr\": 0.9835573348584501, \"n\": 5328}, {\"threshold\": 0.793, \"p\": 27976, \"fpr\": 0.9232357357357357, \"tpr\": 0.9835573348584501, \"n\": 5328}, {\"threshold\": 0.794, \"p\": 27976, \"fpr\": 0.9232357357357357, \"tpr\": 0.9835573348584501, \"n\": 5328}, {\"threshold\": 0.795, \"p\": 27976, \"fpr\": 0.9232357357357357, \"tpr\": 0.9835573348584501, \"n\": 5328}, {\"threshold\": 0.796, \"p\": 27976, \"fpr\": 0.9222972972972973, \"tpr\": 0.9829496711466972, \"n\": 5328}, {\"threshold\": 0.797, \"p\": 27976, \"fpr\": 0.1313813813813814, \"tpr\": 0.41446239633971976, \"n\": 5328}, {\"threshold\": 0.798, \"p\": 27976, \"fpr\": 0.1313813813813814, \"tpr\": 0.41446239633971976, \"n\": 5328}, {\"threshold\": 0.799, \"p\": 27976, \"fpr\": 0.1313813813813814, \"tpr\": 0.41446239633971976, \"n\": 5328}, {\"threshold\": 0.8, \"p\": 27976, \"fpr\": 0.1313813813813814, \"tpr\": 0.41446239633971976, \"n\": 5328}, {\"threshold\": 0.801, \"p\": 27976, \"fpr\": 0.1313813813813814, \"tpr\": 0.41446239633971976, \"n\": 5328}, {\"threshold\": 0.802, \"p\": 27976, \"fpr\": 0.1313813813813814, \"tpr\": 0.41446239633971976, \"n\": 5328}, {\"threshold\": 0.803, \"p\": 27976, \"fpr\": 0.1313813813813814, \"tpr\": 0.41446239633971976, \"n\": 5328}, {\"threshold\": 0.804, \"p\": 27976, \"fpr\": 0.1313813813813814, \"tpr\": 0.41446239633971976, \"n\": 5328}, {\"threshold\": 0.805, \"p\": 27976, \"fpr\": 0.1313813813813814, \"tpr\": 0.41446239633971976, \"n\": 5328}, {\"threshold\": 0.806, \"p\": 27976, \"fpr\": 0.1313813813813814, \"tpr\": 0.41446239633971976, \"n\": 5328}, {\"threshold\": 0.807, \"p\": 27976, \"fpr\": 0.1313813813813814, \"tpr\": 0.41446239633971976, \"n\": 5328}, {\"threshold\": 0.808, \"p\": 27976, \"fpr\": 0.1313813813813814, \"tpr\": 0.41446239633971976, \"n\": 5328}, {\"threshold\": 0.809, \"p\": 27976, \"fpr\": 0.131006006006006, \"tpr\": 0.41428367171861596, \"n\": 5328}, {\"threshold\": 0.81, \"p\": 27976, \"fpr\": 0.131006006006006, \"tpr\": 0.41428367171861596, \"n\": 5328}, {\"threshold\": 0.811, \"p\": 27976, \"fpr\": 0.131006006006006, \"tpr\": 0.41428367171861596, \"n\": 5328}, {\"threshold\": 0.812, \"p\": 27976, \"fpr\": 0.131006006006006, \"tpr\": 0.41428367171861596, \"n\": 5328}, {\"threshold\": 0.813, \"p\": 27976, \"fpr\": 0.131006006006006, \"tpr\": 0.41428367171861596, \"n\": 5328}, {\"threshold\": 0.814, \"p\": 27976, \"fpr\": 0.131006006006006, \"tpr\": 0.41428367171861596, \"n\": 5328}, {\"threshold\": 0.815, \"p\": 27976, \"fpr\": 0.131006006006006, \"tpr\": 0.41428367171861596, \"n\": 5328}, {\"threshold\": 0.816, \"p\": 27976, \"fpr\": 0.131006006006006, \"tpr\": 0.41428367171861596, \"n\": 5328}, {\"threshold\": 0.817, \"p\": 27976, \"fpr\": 0.131006006006006, \"tpr\": 0.41428367171861596, \"n\": 5328}, {\"threshold\": 0.818, \"p\": 27976, \"fpr\": 0.131006006006006, \"tpr\": 0.41428367171861596, \"n\": 5328}, {\"threshold\": 0.819, \"p\": 27976, \"fpr\": 0.131006006006006, \"tpr\": 0.41428367171861596, \"n\": 5328}, {\"threshold\": 0.82, \"p\": 27976, \"fpr\": 0.131006006006006, \"tpr\": 0.41428367171861596, \"n\": 5328}, {\"threshold\": 0.821, \"p\": 27976, \"fpr\": 0.131006006006006, \"tpr\": 0.41428367171861596, \"n\": 5328}, {\"threshold\": 0.822, \"p\": 27976, \"fpr\": 0.131006006006006, \"tpr\": 0.41428367171861596, \"n\": 5328}, {\"threshold\": 0.823, \"p\": 27976, \"fpr\": 0.131006006006006, \"tpr\": 0.41428367171861596, \"n\": 5328}, {\"threshold\": 0.824, \"p\": 27976, \"fpr\": 0.131006006006006, \"tpr\": 0.41428367171861596, \"n\": 5328}, {\"threshold\": 0.825, \"p\": 27976, \"fpr\": 0.131006006006006, \"tpr\": 0.41428367171861596, \"n\": 5328}, {\"threshold\": 0.826, \"p\": 27976, \"fpr\": 0.131006006006006, \"tpr\": 0.41428367171861596, \"n\": 5328}, {\"threshold\": 0.827, \"p\": 27976, \"fpr\": 0.1308183183183183, \"tpr\": 0.4141764369459537, \"n\": 5328}, {\"threshold\": 0.828, \"p\": 27976, \"fpr\": 0.1308183183183183, \"tpr\": 0.4141764369459537, \"n\": 5328}, {\"threshold\": 0.829, \"p\": 27976, \"fpr\": 0.1308183183183183, \"tpr\": 0.4141764369459537, \"n\": 5328}, {\"threshold\": 0.83, \"p\": 27976, \"fpr\": 0.1308183183183183, \"tpr\": 0.4141764369459537, \"n\": 5328}, {\"threshold\": 0.831, \"p\": 27976, \"fpr\": 0.1308183183183183, \"tpr\": 0.4141764369459537, \"n\": 5328}, {\"threshold\": 0.832, \"p\": 27976, \"fpr\": 0.1308183183183183, \"tpr\": 0.4141764369459537, \"n\": 5328}, {\"threshold\": 0.833, \"p\": 27976, \"fpr\": 0.1308183183183183, \"tpr\": 0.4141764369459537, \"n\": 5328}, {\"threshold\": 0.834, \"p\": 27976, \"fpr\": 0.1308183183183183, \"tpr\": 0.4141764369459537, \"n\": 5328}, {\"threshold\": 0.835, \"p\": 27976, \"fpr\": 0.1308183183183183, \"tpr\": 0.4141764369459537, \"n\": 5328}, {\"threshold\": 0.836, \"p\": 27976, \"fpr\": 0.1308183183183183, \"tpr\": 0.4141764369459537, \"n\": 5328}, {\"threshold\": 0.837, \"p\": 27976, \"fpr\": 0.1308183183183183, \"tpr\": 0.4141764369459537, \"n\": 5328}, {\"threshold\": 0.838, \"p\": 27976, \"fpr\": 0.1308183183183183, \"tpr\": 0.4141764369459537, \"n\": 5328}, {\"threshold\": 0.839, \"p\": 27976, \"fpr\": 0.1308183183183183, \"tpr\": 0.4141764369459537, \"n\": 5328}, {\"threshold\": 0.84, \"p\": 27976, \"fpr\": 0.13063063063063063, \"tpr\": 0.41410494709751217, \"n\": 5328}, {\"threshold\": 0.841, \"p\": 27976, \"fpr\": 0.13063063063063063, \"tpr\": 0.4140692021732914, \"n\": 5328}, {\"threshold\": 0.842, \"p\": 27976, \"fpr\": 0.13063063063063063, \"tpr\": 0.4140692021732914, \"n\": 5328}, {\"threshold\": 0.843, \"p\": 27976, \"fpr\": 0.13044294294294295, \"tpr\": 0.41403345724907065, \"n\": 5328}, {\"threshold\": 0.844, \"p\": 27976, \"fpr\": 0.13044294294294295, \"tpr\": 0.41403345724907065, \"n\": 5328}, {\"threshold\": 0.845, \"p\": 27976, \"fpr\": 0.13044294294294295, \"tpr\": 0.41403345724907065, \"n\": 5328}, {\"threshold\": 0.846, \"p\": 27976, \"fpr\": 0.13044294294294295, \"tpr\": 0.41403345724907065, \"n\": 5328}, {\"threshold\": 0.847, \"p\": 27976, \"fpr\": 0.13044294294294295, \"tpr\": 0.41403345724907065, \"n\": 5328}, {\"threshold\": 0.848, \"p\": 27976, \"fpr\": 0.13044294294294295, \"tpr\": 0.4139977123248499, \"n\": 5328}, {\"threshold\": 0.849, \"p\": 27976, \"fpr\": 0.13044294294294295, \"tpr\": 0.41385473262796685, \"n\": 5328}, {\"threshold\": 0.85, \"p\": 27976, \"fpr\": 0.13044294294294295, \"tpr\": 0.41385473262796685, \"n\": 5328}, {\"threshold\": 0.851, \"p\": 27976, \"fpr\": 0.13044294294294295, \"tpr\": 0.41385473262796685, \"n\": 5328}, {\"threshold\": 0.852, \"p\": 27976, \"fpr\": 0.13044294294294295, \"tpr\": 0.41385473262796685, \"n\": 5328}, {\"threshold\": 0.853, \"p\": 27976, \"fpr\": 0.13044294294294295, \"tpr\": 0.41385473262796685, \"n\": 5328}, {\"threshold\": 0.854, \"p\": 27976, \"fpr\": 0.13044294294294295, \"tpr\": 0.41385473262796685, \"n\": 5328}, {\"threshold\": 0.855, \"p\": 27976, \"fpr\": 0.13044294294294295, \"tpr\": 0.4138189877037461, \"n\": 5328}, {\"threshold\": 0.856, \"p\": 27976, \"fpr\": 0.12894144144144143, \"tpr\": 0.41149556762939665, \"n\": 5328}, {\"threshold\": 0.857, \"p\": 27976, \"fpr\": 0.12894144144144143, \"tpr\": 0.41149556762939665, \"n\": 5328}, {\"threshold\": 0.858, \"p\": 27976, \"fpr\": 0.12894144144144143, \"tpr\": 0.41149556762939665, \"n\": 5328}, {\"threshold\": 0.859, \"p\": 27976, \"fpr\": 0.12894144144144143, \"tpr\": 0.41149556762939665, \"n\": 5328}, {\"threshold\": 0.86, \"p\": 27976, \"fpr\": 0.12894144144144143, \"tpr\": 0.41149556762939665, \"n\": 5328}, {\"threshold\": 0.861, \"p\": 27976, \"fpr\": 0.12894144144144143, \"tpr\": 0.41149556762939665, \"n\": 5328}, {\"threshold\": 0.862, \"p\": 27976, \"fpr\": 0.12894144144144143, \"tpr\": 0.4114598227051759, \"n\": 5328}, {\"threshold\": 0.863, \"p\": 27976, \"fpr\": 0.12894144144144143, \"tpr\": 0.4114598227051759, \"n\": 5328}, {\"threshold\": 0.864, \"p\": 27976, \"fpr\": 0.12894144144144143, \"tpr\": 0.4114598227051759, \"n\": 5328}, {\"threshold\": 0.865, \"p\": 27976, \"fpr\": 0.12894144144144143, \"tpr\": 0.4114598227051759, \"n\": 5328}, {\"threshold\": 0.866, \"p\": 27976, \"fpr\": 0.12894144144144143, \"tpr\": 0.4114598227051759, \"n\": 5328}, {\"threshold\": 0.867, \"p\": 27976, \"fpr\": 0.12894144144144143, \"tpr\": 0.4114598227051759, \"n\": 5328}, {\"threshold\": 0.868, \"p\": 27976, \"fpr\": 0.12894144144144143, \"tpr\": 0.4114598227051759, \"n\": 5328}, {\"threshold\": 0.869, \"p\": 27976, \"fpr\": 0.12875375375375375, \"tpr\": 0.4114598227051759, \"n\": 5328}, {\"threshold\": 0.87, \"p\": 27976, \"fpr\": 0.12875375375375375, \"tpr\": 0.4114598227051759, \"n\": 5328}, {\"threshold\": 0.871, \"p\": 27976, \"fpr\": 0.12875375375375375, \"tpr\": 0.4114598227051759, \"n\": 5328}, {\"threshold\": 0.872, \"p\": 27976, \"fpr\": 0.12875375375375375, \"tpr\": 0.4114598227051759, \"n\": 5328}, {\"threshold\": 0.873, \"p\": 27976, \"fpr\": 0.12875375375375375, \"tpr\": 0.4114598227051759, \"n\": 5328}, {\"threshold\": 0.874, \"p\": 27976, \"fpr\": 0.12875375375375375, \"tpr\": 0.4114598227051759, \"n\": 5328}, {\"threshold\": 0.875, \"p\": 27976, \"fpr\": 0.12875375375375375, \"tpr\": 0.4114598227051759, \"n\": 5328}, {\"threshold\": 0.876, \"p\": 27976, \"fpr\": 0.12875375375375375, \"tpr\": 0.4114598227051759, \"n\": 5328}, {\"threshold\": 0.877, \"p\": 27976, \"fpr\": 0.12875375375375375, \"tpr\": 0.4114598227051759, \"n\": 5328}, {\"threshold\": 0.878, \"p\": 27976, \"fpr\": 0.12875375375375375, \"tpr\": 0.4114598227051759, \"n\": 5328}, {\"threshold\": 0.879, \"p\": 27976, \"fpr\": 0.12875375375375375, \"tpr\": 0.4114598227051759, \"n\": 5328}, {\"threshold\": 0.88, \"p\": 27976, \"fpr\": 0.12875375375375375, \"tpr\": 0.4114598227051759, \"n\": 5328}, {\"threshold\": 0.881, \"p\": 27976, \"fpr\": 0.12875375375375375, \"tpr\": 0.4114598227051759, \"n\": 5328}, {\"threshold\": 0.882, \"p\": 27976, \"fpr\": 0.12875375375375375, \"tpr\": 0.4114598227051759, \"n\": 5328}, {\"threshold\": 0.883, \"p\": 27976, \"fpr\": 0.12875375375375375, \"tpr\": 0.4114598227051759, \"n\": 5328}, {\"threshold\": 0.884, \"p\": 27976, \"fpr\": 0.12875375375375375, \"tpr\": 0.4114598227051759, \"n\": 5328}, {\"threshold\": 0.885, \"p\": 27976, \"fpr\": 0.12875375375375375, \"tpr\": 0.4114598227051759, \"n\": 5328}, {\"threshold\": 0.886, \"p\": 27976, \"fpr\": 0.12875375375375375, \"tpr\": 0.4114598227051759, \"n\": 5328}, {\"threshold\": 0.887, \"p\": 27976, \"fpr\": 0.12875375375375375, \"tpr\": 0.4114598227051759, \"n\": 5328}, {\"threshold\": 0.888, \"p\": 27976, \"fpr\": 0.12875375375375375, \"tpr\": 0.4114598227051759, \"n\": 5328}, {\"threshold\": 0.889, \"p\": 27976, \"fpr\": 0.12875375375375375, \"tpr\": 0.4113883328567343, \"n\": 5328}, {\"threshold\": 0.89, \"p\": 27976, \"fpr\": 0.12875375375375375, \"tpr\": 0.4113883328567343, \"n\": 5328}, {\"threshold\": 0.891, \"p\": 27976, \"fpr\": 0.12875375375375375, \"tpr\": 0.4113883328567343, \"n\": 5328}, {\"threshold\": 0.892, \"p\": 27976, \"fpr\": 0.12875375375375375, \"tpr\": 0.4113883328567343, \"n\": 5328}, {\"threshold\": 0.893, \"p\": 27976, \"fpr\": 0.12875375375375375, \"tpr\": 0.4113883328567343, \"n\": 5328}, {\"threshold\": 0.894, \"p\": 27976, \"fpr\": 0.12875375375375375, \"tpr\": 0.4113883328567343, \"n\": 5328}, {\"threshold\": 0.895, \"p\": 27976, \"fpr\": 0.12875375375375375, \"tpr\": 0.4113883328567343, \"n\": 5328}, {\"threshold\": 0.896, \"p\": 27976, \"fpr\": 0.12856606606606608, \"tpr\": 0.41099513869030596, \"n\": 5328}, {\"threshold\": 0.897, \"p\": 27976, \"fpr\": 0.12856606606606608, \"tpr\": 0.4109593937660852, \"n\": 5328}, {\"threshold\": 0.898, \"p\": 27976, \"fpr\": 0.12837837837837837, \"tpr\": 0.41081641406920216, \"n\": 5328}, {\"threshold\": 0.899, \"p\": 27976, \"fpr\": 0.12837837837837837, \"tpr\": 0.41081641406920216, \"n\": 5328}, {\"threshold\": 0.9, \"p\": 27976, \"fpr\": 0.1281906906906907, \"tpr\": 0.41074492422076064, \"n\": 5328}, {\"threshold\": 0.901, \"p\": 27976, \"fpr\": 0.1281906906906907, \"tpr\": 0.4107091792965399, \"n\": 5328}, {\"threshold\": 0.902, \"p\": 27976, \"fpr\": 0.1281906906906907, \"tpr\": 0.4107091792965399, \"n\": 5328}, {\"threshold\": 0.903, \"p\": 27976, \"fpr\": 0.1281906906906907, \"tpr\": 0.4107091792965399, \"n\": 5328}, {\"threshold\": 0.904, \"p\": 27976, \"fpr\": 0.1281906906906907, \"tpr\": 0.41056619959965684, \"n\": 5328}, {\"threshold\": 0.905, \"p\": 27976, \"fpr\": 0.05442942942942943, \"tpr\": 0.26594223620245927, \"n\": 5328}, {\"threshold\": 0.906, \"p\": 27976, \"fpr\": 0.05105105105105105, \"tpr\": 0.2600800686302545, \"n\": 5328}, {\"threshold\": 0.907, \"p\": 27976, \"fpr\": 0.05105105105105105, \"tpr\": 0.2600800686302545, \"n\": 5328}, {\"threshold\": 0.908, \"p\": 27976, \"fpr\": 0.05105105105105105, \"tpr\": 0.2600800686302545, \"n\": 5328}, {\"threshold\": 0.909, \"p\": 27976, \"fpr\": 0.05105105105105105, \"tpr\": 0.2600800686302545, \"n\": 5328}, {\"threshold\": 0.91, \"p\": 27976, \"fpr\": 0.05105105105105105, \"tpr\": 0.2600800686302545, \"n\": 5328}, {\"threshold\": 0.911, \"p\": 27976, \"fpr\": 0.05105105105105105, \"tpr\": 0.260008578781813, \"n\": 5328}, {\"threshold\": 0.912, \"p\": 27976, \"fpr\": 0.05105105105105105, \"tpr\": 0.260008578781813, \"n\": 5328}, {\"threshold\": 0.913, \"p\": 27976, \"fpr\": 0.05105105105105105, \"tpr\": 0.260008578781813, \"n\": 5328}, {\"threshold\": 0.914, \"p\": 27976, \"fpr\": 0.05105105105105105, \"tpr\": 0.260008578781813, \"n\": 5328}, {\"threshold\": 0.915, \"p\": 27976, \"fpr\": 0.05105105105105105, \"tpr\": 0.260008578781813, \"n\": 5328}, {\"threshold\": 0.916, \"p\": 27976, \"fpr\": 0.05105105105105105, \"tpr\": 0.260008578781813, \"n\": 5328}, {\"threshold\": 0.917, \"p\": 27976, \"fpr\": 0.05105105105105105, \"tpr\": 0.260008578781813, \"n\": 5328}, {\"threshold\": 0.918, \"p\": 27976, \"fpr\": 0.05105105105105105, \"tpr\": 0.260008578781813, \"n\": 5328}, {\"threshold\": 0.919, \"p\": 27976, \"fpr\": 0.04973723723723724, \"tpr\": 0.25439662567915355, \"n\": 5328}, {\"threshold\": 0.92, \"p\": 27976, \"fpr\": 0.04973723723723724, \"tpr\": 0.25439662567915355, \"n\": 5328}, {\"threshold\": 0.921, \"p\": 27976, \"fpr\": 0.04973723723723724, \"tpr\": 0.2543608807549328, \"n\": 5328}, {\"threshold\": 0.922, \"p\": 27976, \"fpr\": 0.04973723723723724, \"tpr\": 0.2543608807549328, \"n\": 5328}, {\"threshold\": 0.923, \"p\": 27976, \"fpr\": 0.04973723723723724, \"tpr\": 0.2543608807549328, \"n\": 5328}, {\"threshold\": 0.924, \"p\": 27976, \"fpr\": 0.04973723723723724, \"tpr\": 0.2543608807549328, \"n\": 5328}, {\"threshold\": 0.925, \"p\": 27976, \"fpr\": 0.04973723723723724, \"tpr\": 0.2543608807549328, \"n\": 5328}, {\"threshold\": 0.926, \"p\": 27976, \"fpr\": 0.04973723723723724, \"tpr\": 0.2543608807549328, \"n\": 5328}, {\"threshold\": 0.927, \"p\": 27976, \"fpr\": 0.04973723723723724, \"tpr\": 0.2543608807549328, \"n\": 5328}, {\"threshold\": 0.928, \"p\": 27976, \"fpr\": 0.04973723723723724, \"tpr\": 0.2543608807549328, \"n\": 5328}, {\"threshold\": 0.929, \"p\": 27976, \"fpr\": 0.04973723723723724, \"tpr\": 0.2543608807549328, \"n\": 5328}, {\"threshold\": 0.93, \"p\": 27976, \"fpr\": 0.04973723723723724, \"tpr\": 0.2543608807549328, \"n\": 5328}, {\"threshold\": 0.931, \"p\": 27976, \"fpr\": 0.04973723723723724, \"tpr\": 0.2543608807549328, \"n\": 5328}, {\"threshold\": 0.932, \"p\": 27976, \"fpr\": 0.04954954954954955, \"tpr\": 0.2543608807549328, \"n\": 5328}, {\"threshold\": 0.933, \"p\": 27976, \"fpr\": 0.04954954954954955, \"tpr\": 0.2543608807549328, \"n\": 5328}, {\"threshold\": 0.934, \"p\": 27976, \"fpr\": 0.04954954954954955, \"tpr\": 0.2543608807549328, \"n\": 5328}, {\"threshold\": 0.935, \"p\": 27976, \"fpr\": 0.048986486486486486, \"tpr\": 0.2538961967400629, \"n\": 5328}, {\"threshold\": 0.936, \"p\": 27976, \"fpr\": 0.048986486486486486, \"tpr\": 0.2538247068916214, \"n\": 5328}, {\"threshold\": 0.937, \"p\": 27976, \"fpr\": 0.048986486486486486, \"tpr\": 0.2538247068916214, \"n\": 5328}, {\"threshold\": 0.938, \"p\": 27976, \"fpr\": 0.048986486486486486, \"tpr\": 0.2536459822705176, \"n\": 5328}, {\"threshold\": 0.939, \"p\": 27976, \"fpr\": 0.048986486486486486, \"tpr\": 0.2536459822705176, \"n\": 5328}, {\"threshold\": 0.94, \"p\": 27976, \"fpr\": 0.048986486486486486, \"tpr\": 0.2536459822705176, \"n\": 5328}, {\"threshold\": 0.941, \"p\": 27976, \"fpr\": 0.016516516516516516, \"tpr\": 0.11749356591364027, \"n\": 5328}, {\"threshold\": 0.942, \"p\": 27976, \"fpr\": 0.016516516516516516, \"tpr\": 0.11749356591364027, \"n\": 5328}, {\"threshold\": 0.943, \"p\": 27976, \"fpr\": 0.016516516516516516, \"tpr\": 0.11749356591364027, \"n\": 5328}, {\"threshold\": 0.944, \"p\": 27976, \"fpr\": 0.016516516516516516, \"tpr\": 0.11749356591364027, \"n\": 5328}, {\"threshold\": 0.945, \"p\": 27976, \"fpr\": 0.016516516516516516, \"tpr\": 0.11749356591364027, \"n\": 5328}, {\"threshold\": 0.946, \"p\": 27976, \"fpr\": 0.016516516516516516, \"tpr\": 0.11749356591364027, \"n\": 5328}, {\"threshold\": 0.947, \"p\": 27976, \"fpr\": 0.016516516516516516, \"tpr\": 0.11749356591364027, \"n\": 5328}, {\"threshold\": 0.948, \"p\": 27976, \"fpr\": 0.016516516516516516, \"tpr\": 0.11749356591364027, \"n\": 5328}, {\"threshold\": 0.949, \"p\": 27976, \"fpr\": 0.016516516516516516, \"tpr\": 0.11749356591364027, \"n\": 5328}, {\"threshold\": 0.95, \"p\": 27976, \"fpr\": 0.016516516516516516, \"tpr\": 0.11749356591364027, \"n\": 5328}, {\"threshold\": 0.951, \"p\": 27976, \"fpr\": 0.016516516516516516, \"tpr\": 0.11749356591364027, \"n\": 5328}, {\"threshold\": 0.952, \"p\": 27976, \"fpr\": 0.016516516516516516, \"tpr\": 0.11749356591364027, \"n\": 5328}, {\"threshold\": 0.953, \"p\": 27976, \"fpr\": 0.016516516516516516, \"tpr\": 0.11749356591364027, \"n\": 5328}, {\"threshold\": 0.954, \"p\": 27976, \"fpr\": 0.016516516516516516, \"tpr\": 0.11749356591364027, \"n\": 5328}, {\"threshold\": 0.955, \"p\": 27976, \"fpr\": 0.01632882882882883, \"tpr\": 0.11738633114097798, \"n\": 5328}, {\"threshold\": 0.956, \"p\": 27976, \"fpr\": 0.01632882882882883, \"tpr\": 0.11738633114097798, \"n\": 5328}, {\"threshold\": 0.957, \"p\": 27976, \"fpr\": 0.01632882882882883, \"tpr\": 0.11738633114097798, \"n\": 5328}, {\"threshold\": 0.958, \"p\": 27976, \"fpr\": 0.01632882882882883, \"tpr\": 0.11735058621675722, \"n\": 5328}, {\"threshold\": 0.959, \"p\": 27976, \"fpr\": 0.01126126126126126, \"tpr\": 0.09318701744352302, \"n\": 5328}, {\"threshold\": 0.96, \"p\": 27976, \"fpr\": 0.011073573573573574, \"tpr\": 0.09307978267086074, \"n\": 5328}, {\"threshold\": 0.961, \"p\": 27976, \"fpr\": 0.011073573573573574, \"tpr\": 0.09265084358021161, \"n\": 5328}, {\"threshold\": 0.962, \"p\": 27976, \"fpr\": 0.011073573573573574, \"tpr\": 0.09261509865599085, \"n\": 5328}, {\"threshold\": 0.963, \"p\": 27976, \"fpr\": 0.011073573573573574, \"tpr\": 0.09261509865599085, \"n\": 5328}, {\"threshold\": 0.964, \"p\": 27976, \"fpr\": 0.011073573573573574, \"tpr\": 0.09261509865599085, \"n\": 5328}, {\"threshold\": 0.965, \"p\": 27976, \"fpr\": 0.010885885885885885, \"tpr\": 0.0905776379754075, \"n\": 5328}, {\"threshold\": 0.966, \"p\": 27976, \"fpr\": 0.010885885885885885, \"tpr\": 0.09043465827852445, \"n\": 5328}, {\"threshold\": 0.967, \"p\": 27976, \"fpr\": 0.010885885885885885, \"tpr\": 0.09043465827852445, \"n\": 5328}, {\"threshold\": 0.968, \"p\": 27976, \"fpr\": 0.010885885885885885, \"tpr\": 0.09043465827852445, \"n\": 5328}, {\"threshold\": 0.969, \"p\": 27976, \"fpr\": 0.010885885885885885, \"tpr\": 0.09043465827852445, \"n\": 5328}, {\"threshold\": 0.97, \"p\": 27976, \"fpr\": 0.010885885885885885, \"tpr\": 0.0903989133543037, \"n\": 5328}, {\"threshold\": 0.971, \"p\": 27976, \"fpr\": 0.010885885885885885, \"tpr\": 0.0902916785816414, \"n\": 5328}, {\"threshold\": 0.972, \"p\": 27976, \"fpr\": 0.010885885885885885, \"tpr\": 0.09025593365742064, \"n\": 5328}, {\"threshold\": 0.973, \"p\": 27976, \"fpr\": 0.010698198198198198, \"tpr\": 0.0901129539605376, \"n\": 5328}, {\"threshold\": 0.974, \"p\": 27976, \"fpr\": 0.010698198198198198, \"tpr\": 0.0901129539605376, \"n\": 5328}, {\"threshold\": 0.975, \"p\": 27976, \"fpr\": 0.00487987987987988, \"tpr\": 0.05461824420932228, \"n\": 5328}, {\"threshold\": 0.976, \"p\": 27976, \"fpr\": 0.00487987987987988, \"tpr\": 0.05461824420932228, \"n\": 5328}, {\"threshold\": 0.977, \"p\": 27976, \"fpr\": 0.00487987987987988, \"tpr\": 0.05458249928510152, \"n\": 5328}, {\"threshold\": 0.978, \"p\": 27976, \"fpr\": 0.00487987987987988, \"tpr\": 0.05458249928510152, \"n\": 5328}, {\"threshold\": 0.979, \"p\": 27976, \"fpr\": 0.004316816816816817, \"tpr\": 0.052294824134972835, \"n\": 5328}, {\"threshold\": 0.98, \"p\": 27976, \"fpr\": 0.004316816816816817, \"tpr\": 0.052294824134972835, \"n\": 5328}, {\"threshold\": 0.981, \"p\": 27976, \"fpr\": 0.004316816816816817, \"tpr\": 0.052223334286531316, \"n\": 5328}, {\"threshold\": 0.982, \"p\": 27976, \"fpr\": 0.004316816816816817, \"tpr\": 0.052223334286531316, \"n\": 5328}, {\"threshold\": 0.983, \"p\": 27976, \"fpr\": 0.003941441441441441, \"tpr\": 0.04818415784958536, \"n\": 5328}, {\"threshold\": 0.984, \"p\": 27976, \"fpr\": 0.003941441441441441, \"tpr\": 0.0481484129253646, \"n\": 5328}, {\"threshold\": 0.985, \"p\": 27976, \"fpr\": 0.0018768768768768769, \"tpr\": 0.02802402058907635, \"n\": 5328}, {\"threshold\": 0.986, \"p\": 27976, \"fpr\": 0.0016891891891891893, \"tpr\": 0.027630826422647983, \"n\": 5328}, {\"threshold\": 0.987, \"p\": 27976, \"fpr\": 0.0016891891891891893, \"tpr\": 0.027595081498427224, \"n\": 5328}, {\"threshold\": 0.988, \"p\": 27976, \"fpr\": 0.0016891891891891893, \"tpr\": 0.027559336574206464, \"n\": 5328}, {\"threshold\": 0.989, \"p\": 27976, \"fpr\": 0.0016891891891891893, \"tpr\": 0.027559336574206464, \"n\": 5328}, {\"threshold\": 0.99, \"p\": 27976, \"fpr\": 0.001313813813813814, \"tpr\": 0.021053760366028025, \"n\": 5328}, {\"threshold\": 0.991, \"p\": 27976, \"fpr\": 0.001313813813813814, \"tpr\": 0.021018015441807262, \"n\": 5328}, {\"threshold\": 0.992, \"p\": 27976, \"fpr\": 0.001313813813813814, \"tpr\": 0.020589076351158135, \"n\": 5328}, {\"threshold\": 0.993, \"p\": 27976, \"fpr\": 0.0009384384384384384, \"tpr\": 0.019909922790963683, \"n\": 5328}, {\"threshold\": 0.994, \"p\": 27976, \"fpr\": 0.0005630630630630631, \"tpr\": 0.013046897340577637, \"n\": 5328}, {\"threshold\": 0.995, \"p\": 27976, \"fpr\": 0.0005630630630630631, \"tpr\": 0.01254646840148699, \"n\": 5328}, {\"threshold\": 0.996, \"p\": 27976, \"fpr\": 0.00037537537537537537, \"tpr\": 0.011402630826422648, \"n\": 5328}, {\"threshold\": 0.997, \"p\": 27976, \"fpr\": 0.00037537537537537537, \"tpr\": 0.007041750071489848, \"n\": 5328}, {\"threshold\": 0.998, \"p\": 27976, \"fpr\": 0.00018768768768768769, \"tpr\": 0.00546897340577638, \"n\": 5328}, {\"threshold\": 0.999, \"p\": 27976, \"fpr\": 0.00018768768768768769, \"tpr\": 0.0030383185587646556, \"n\": 5328}, {\"threshold\": 1.0, \"p\": 27976, \"fpr\": 0.0, \"tpr\": 0.0, \"n\": 5328}]}]]}, e);\n",
       "                });\n",
       "            })();\n",
       "        "
      ]
     },
     "metadata": {},
     "output_type": "display_data"
    }
   ],
   "source": [
    "sentiment_model_se.show()"
   ]
  },
  {
   "cell_type": "code",
   "execution_count": 66,
   "metadata": {
    "collapsed": false
   },
   "outputs": [
    {
     "data": {
      "text/plain": [
       "{'roc_curve': Columns:\n",
       " \tthreshold\tfloat\n",
       " \tfpr\tfloat\n",
       " \ttpr\tfloat\n",
       " \tp\tint\n",
       " \tn\tint\n",
       " \n",
       " Rows: 100001\n",
       " \n",
       " Data:\n",
       " +-----------+-----+-----+-------+------+\n",
       " | threshold | fpr | tpr |   p   |  n   |\n",
       " +-----------+-----+-----+-------+------+\n",
       " |    0.0    | 1.0 | 1.0 | 27976 | 5328 |\n",
       " |   1e-05   | 1.0 | 1.0 | 27976 | 5328 |\n",
       " |   2e-05   | 1.0 | 1.0 | 27976 | 5328 |\n",
       " |   3e-05   | 1.0 | 1.0 | 27976 | 5328 |\n",
       " |   4e-05   | 1.0 | 1.0 | 27976 | 5328 |\n",
       " |   5e-05   | 1.0 | 1.0 | 27976 | 5328 |\n",
       " |   6e-05   | 1.0 | 1.0 | 27976 | 5328 |\n",
       " |   7e-05   | 1.0 | 1.0 | 27976 | 5328 |\n",
       " |   8e-05   | 1.0 | 1.0 | 27976 | 5328 |\n",
       " |   9e-05   | 1.0 | 1.0 | 27976 | 5328 |\n",
       " +-----------+-----+-----+-------+------+\n",
       " [100001 rows x 5 columns]\n",
       " Note: Only the head of the SFrame is printed.\n",
       " You can use print_rows(num_rows=m, num_columns=n) to print more rows and columns.}"
      ]
     },
     "execution_count": 66,
     "metadata": {},
     "output_type": "execute_result"
    }
   ],
   "source": [
    "sentiment_model_se.evaluate(test_data,metric='roc_curve')"
   ]
  },
  {
   "cell_type": "code",
   "execution_count": 67,
   "metadata": {
    "collapsed": false
   },
   "outputs": [
    {
     "data": {
      "application/javascript": [
       "$(\"head\").append($(\"<link/>\").attr({\n",
       "  rel:  \"stylesheet\",\n",
       "  type: \"text/css\",\n",
       "  href: \"//cdnjs.cloudflare.com/ajax/libs/font-awesome/4.1.0/css/font-awesome.min.css\"\n",
       "}));\n",
       "$(\"head\").append($(\"<link/>\").attr({\n",
       "  rel:  \"stylesheet\",\n",
       "  type: \"text/css\",\n",
       "  href: \"https://static.turi.com/products/graphlab-create/2.1/canvas/css/canvas.css\"\n",
       "}));\n",
       "\n",
       "            (function(){\n",
       "\n",
       "                var e = null;\n",
       "                if (typeof element == 'undefined') {\n",
       "                    var scripts = document.getElementsByTagName('script');\n",
       "                    var thisScriptTag = scripts[scripts.length-1];\n",
       "                    var parentDiv = thisScriptTag.parentNode;\n",
       "                    e = document.createElement('div');\n",
       "                    parentDiv.appendChild(e);\n",
       "                } else {\n",
       "                    e = element[0];\n",
       "                }\n",
       "\n",
       "                if (typeof requirejs !== 'undefined') {\n",
       "                    // disable load timeout; ipython_app.js is large and can take a while to load.\n",
       "                    requirejs.config({waitSeconds: 0});\n",
       "                }\n",
       "\n",
       "                require(['https://static.turi.com/products/graphlab-create/2.1/canvas/js/ipython_app.js'], function(IPythonApp){\n",
       "                    var app = new IPythonApp();\n",
       "                    app.attachView('model','Evaluation', {\"comparison\": null, \"selected_variable\": {\"comparison\": null, \"name\": [\"sentiment_model_se\"], \"view_file\": \"model\", \"view_component\": \"Evaluation\", \"view_params\": {\"model_type\": \"regression\", \"view\": \"Evaluation\"}, \"view_components\": [\"Summary\", \"Evaluation\", \"Comparison\"], \"model_type\": \"regression\", \"attributes\": {\"section_titles\": [\"Schema\", \"Hyperparameters\", \"Training Summary\", \"Settings\", \"Highest Positive Coefficients\", \"Lowest Negative Coefficients\"], \"sections\": [[[\"Number of coefficients\", 12], [\"Number of examples\", 133448], [\"Number of classes\", 2], [\"Number of feature columns\", 11], [\"Number of unpacked features\", 11]], [[\"L1 penalty\", 0.0], [\"L2 penalty\", 0.01]], [[\"Solver\", \"newton\"], [\"Solver iterations\", 6], [\"Solver status\", \"SUCCESS: Optimal solution found.\"], [\"Training time (sec)\", 1.784]], [[\"Log-likelihood\", 54057.6401]], [[\"love\", 1.3999], [\"(intercept)\", 1.3673], [\"awesome\", 1.058], [\"amazing\", 0.8928], [\"fantastic\", 0.8913]], [[\"terrible\", -2.0905], [\"horrible\", -1.9965], [\"awful\", -1.7647], [\"hate\", -1.4092], [\"bad\", -0.9858]]]}, \"evaluations\": [[\"test_data\", {\"roc_curve\": [{\"threshold\": 0.0, \"p\": 27976, \"fpr\": 1.0, \"tpr\": 1.0, \"n\": 5328}, {\"threshold\": 0.001, \"p\": 27976, \"fpr\": 0.9998123123123123, \"tpr\": 1.0, \"n\": 5328}, {\"threshold\": 0.002, \"p\": 27976, \"fpr\": 0.9996246246246246, \"tpr\": 1.0, \"n\": 5328}, {\"threshold\": 0.003, \"p\": 27976, \"fpr\": 0.9996246246246246, \"tpr\": 1.0, \"n\": 5328}, {\"threshold\": 0.004, \"p\": 27976, \"fpr\": 0.9994369369369369, \"tpr\": 1.0, \"n\": 5328}, {\"threshold\": 0.005, \"p\": 27976, \"fpr\": 0.9994369369369369, \"tpr\": 1.0, \"n\": 5328}, {\"threshold\": 0.006, \"p\": 27976, \"fpr\": 0.9992492492492493, \"tpr\": 1.0, \"n\": 5328}, {\"threshold\": 0.007, \"p\": 27976, \"fpr\": 0.9992492492492493, \"tpr\": 1.0, \"n\": 5328}, {\"threshold\": 0.008, \"p\": 27976, \"fpr\": 0.9992492492492493, \"tpr\": 1.0, \"n\": 5328}, {\"threshold\": 0.009, \"p\": 27976, \"fpr\": 0.9992492492492493, \"tpr\": 1.0, \"n\": 5328}, {\"threshold\": 0.01, \"p\": 27976, \"fpr\": 0.9990615615615616, \"tpr\": 1.0, \"n\": 5328}, {\"threshold\": 0.011, \"p\": 27976, \"fpr\": 0.9990615615615616, \"tpr\": 1.0, \"n\": 5328}, {\"threshold\": 0.012, \"p\": 27976, \"fpr\": 0.9990615615615616, \"tpr\": 1.0, \"n\": 5328}, {\"threshold\": 0.013, \"p\": 27976, \"fpr\": 0.9990615615615616, \"tpr\": 1.0, \"n\": 5328}, {\"threshold\": 0.014, \"p\": 27976, \"fpr\": 0.9990615615615616, \"tpr\": 1.0, \"n\": 5328}, {\"threshold\": 0.015, \"p\": 27976, \"fpr\": 0.9990615615615616, \"tpr\": 1.0, \"n\": 5328}, {\"threshold\": 0.016, \"p\": 27976, \"fpr\": 0.9990615615615616, \"tpr\": 1.0, \"n\": 5328}, {\"threshold\": 0.017, \"p\": 27976, \"fpr\": 0.9990615615615616, \"tpr\": 1.0, \"n\": 5328}, {\"threshold\": 0.018, \"p\": 27976, \"fpr\": 0.9990615615615616, \"tpr\": 1.0, \"n\": 5328}, {\"threshold\": 0.019, \"p\": 27976, \"fpr\": 0.9990615615615616, \"tpr\": 1.0, \"n\": 5328}, {\"threshold\": 0.02, \"p\": 27976, \"fpr\": 0.9988738738738738, \"tpr\": 1.0, \"n\": 5328}, {\"threshold\": 0.021, \"p\": 27976, \"fpr\": 0.9988738738738738, \"tpr\": 1.0, \"n\": 5328}, {\"threshold\": 0.022, \"p\": 27976, \"fpr\": 0.9988738738738738, \"tpr\": 1.0, \"n\": 5328}, {\"threshold\": 0.023, \"p\": 27976, \"fpr\": 0.9988738738738738, \"tpr\": 1.0, \"n\": 5328}, {\"threshold\": 0.024, \"p\": 27976, \"fpr\": 0.9988738738738738, \"tpr\": 1.0, \"n\": 5328}, {\"threshold\": 0.025, \"p\": 27976, \"fpr\": 0.9988738738738738, \"tpr\": 1.0, \"n\": 5328}, {\"threshold\": 0.026, \"p\": 27976, \"fpr\": 0.9988738738738738, \"tpr\": 1.0, \"n\": 5328}, {\"threshold\": 0.027, \"p\": 27976, \"fpr\": 0.9988738738738738, \"tpr\": 1.0, \"n\": 5328}, {\"threshold\": 0.028, \"p\": 27976, \"fpr\": 0.9988738738738738, \"tpr\": 1.0, \"n\": 5328}, {\"threshold\": 0.029, \"p\": 27976, \"fpr\": 0.9988738738738738, \"tpr\": 1.0, \"n\": 5328}, {\"threshold\": 0.03, \"p\": 27976, \"fpr\": 0.9988738738738738, \"tpr\": 1.0, \"n\": 5328}, {\"threshold\": 0.031, \"p\": 27976, \"fpr\": 0.9986861861861862, \"tpr\": 1.0, \"n\": 5328}, {\"threshold\": 0.032, \"p\": 27976, \"fpr\": 0.9986861861861862, \"tpr\": 1.0, \"n\": 5328}, {\"threshold\": 0.033, \"p\": 27976, \"fpr\": 0.9986861861861862, \"tpr\": 1.0, \"n\": 5328}, {\"threshold\": 0.034, \"p\": 27976, \"fpr\": 0.9986861861861862, \"tpr\": 1.0, \"n\": 5328}, {\"threshold\": 0.035, \"p\": 27976, \"fpr\": 0.9986861861861862, \"tpr\": 1.0, \"n\": 5328}, {\"threshold\": 0.036, \"p\": 27976, \"fpr\": 0.9986861861861862, \"tpr\": 1.0, \"n\": 5328}, {\"threshold\": 0.037, \"p\": 27976, \"fpr\": 0.9986861861861862, \"tpr\": 1.0, \"n\": 5328}, {\"threshold\": 0.038, \"p\": 27976, \"fpr\": 0.9986861861861862, \"tpr\": 1.0, \"n\": 5328}, {\"threshold\": 0.039, \"p\": 27976, \"fpr\": 0.9986861861861862, \"tpr\": 1.0, \"n\": 5328}, {\"threshold\": 0.04, \"p\": 27976, \"fpr\": 0.9986861861861862, \"tpr\": 1.0, \"n\": 5328}, {\"threshold\": 0.041, \"p\": 27976, \"fpr\": 0.9986861861861862, \"tpr\": 1.0, \"n\": 5328}, {\"threshold\": 0.042, \"p\": 27976, \"fpr\": 0.9986861861861862, \"tpr\": 1.0, \"n\": 5328}, {\"threshold\": 0.043, \"p\": 27976, \"fpr\": 0.9986861861861862, \"tpr\": 1.0, \"n\": 5328}, {\"threshold\": 0.044, \"p\": 27976, \"fpr\": 0.9986861861861862, \"tpr\": 1.0, \"n\": 5328}, {\"threshold\": 0.045, \"p\": 27976, \"fpr\": 0.9986861861861862, \"tpr\": 1.0, \"n\": 5328}, {\"threshold\": 0.046, \"p\": 27976, \"fpr\": 0.9986861861861862, \"tpr\": 1.0, \"n\": 5328}, {\"threshold\": 0.047, \"p\": 27976, \"fpr\": 0.9986861861861862, \"tpr\": 1.0, \"n\": 5328}, {\"threshold\": 0.048, \"p\": 27976, \"fpr\": 0.9986861861861862, \"tpr\": 1.0, \"n\": 5328}, {\"threshold\": 0.049, \"p\": 27976, \"fpr\": 0.9986861861861862, \"tpr\": 1.0, \"n\": 5328}, {\"threshold\": 0.05, \"p\": 27976, \"fpr\": 0.9986861861861862, \"tpr\": 1.0, \"n\": 5328}, {\"threshold\": 0.051, \"p\": 27976, \"fpr\": 0.9986861861861862, \"tpr\": 1.0, \"n\": 5328}, {\"threshold\": 0.052, \"p\": 27976, \"fpr\": 0.9986861861861862, \"tpr\": 1.0, \"n\": 5328}, {\"threshold\": 0.053, \"p\": 27976, \"fpr\": 0.9986861861861862, \"tpr\": 1.0, \"n\": 5328}, {\"threshold\": 0.054, \"p\": 27976, \"fpr\": 0.9986861861861862, \"tpr\": 1.0, \"n\": 5328}, {\"threshold\": 0.055, \"p\": 27976, \"fpr\": 0.9986861861861862, \"tpr\": 1.0, \"n\": 5328}, {\"threshold\": 0.056, \"p\": 27976, \"fpr\": 0.9986861861861862, \"tpr\": 1.0, \"n\": 5328}, {\"threshold\": 0.057, \"p\": 27976, \"fpr\": 0.9984984984984985, \"tpr\": 0.9999642550757792, \"n\": 5328}, {\"threshold\": 0.058, \"p\": 27976, \"fpr\": 0.9984984984984985, \"tpr\": 0.9999642550757792, \"n\": 5328}, {\"threshold\": 0.059, \"p\": 27976, \"fpr\": 0.9984984984984985, \"tpr\": 0.9999642550757792, \"n\": 5328}, {\"threshold\": 0.06, \"p\": 27976, \"fpr\": 0.9984984984984985, \"tpr\": 0.9999642550757792, \"n\": 5328}, {\"threshold\": 0.061, \"p\": 27976, \"fpr\": 0.9984984984984985, \"tpr\": 0.9999642550757792, \"n\": 5328}, {\"threshold\": 0.062, \"p\": 27976, \"fpr\": 0.9979354354354354, \"tpr\": 0.9999642550757792, \"n\": 5328}, {\"threshold\": 0.063, \"p\": 27976, \"fpr\": 0.9979354354354354, \"tpr\": 0.9999642550757792, \"n\": 5328}, {\"threshold\": 0.064, \"p\": 27976, \"fpr\": 0.9977477477477478, \"tpr\": 0.9999642550757792, \"n\": 5328}, {\"threshold\": 0.065, \"p\": 27976, \"fpr\": 0.9977477477477478, \"tpr\": 0.9999642550757792, \"n\": 5328}, {\"threshold\": 0.066, \"p\": 27976, \"fpr\": 0.9977477477477478, \"tpr\": 0.9999642550757792, \"n\": 5328}, {\"threshold\": 0.067, \"p\": 27976, \"fpr\": 0.9977477477477478, \"tpr\": 0.9999642550757792, \"n\": 5328}, {\"threshold\": 0.068, \"p\": 27976, \"fpr\": 0.9973723723723724, \"tpr\": 0.9999642550757792, \"n\": 5328}, {\"threshold\": 0.069, \"p\": 27976, \"fpr\": 0.9973723723723724, \"tpr\": 0.9999642550757792, \"n\": 5328}, {\"threshold\": 0.07, \"p\": 27976, \"fpr\": 0.9973723723723724, \"tpr\": 0.9999285101515585, \"n\": 5328}, {\"threshold\": 0.071, \"p\": 27976, \"fpr\": 0.9973723723723724, \"tpr\": 0.9999285101515585, \"n\": 5328}, {\"threshold\": 0.072, \"p\": 27976, \"fpr\": 0.9973723723723724, \"tpr\": 0.9999285101515585, \"n\": 5328}, {\"threshold\": 0.073, \"p\": 27976, \"fpr\": 0.9973723723723724, \"tpr\": 0.9999285101515585, \"n\": 5328}, {\"threshold\": 0.074, \"p\": 27976, \"fpr\": 0.9973723723723724, \"tpr\": 0.9999285101515585, \"n\": 5328}, {\"threshold\": 0.075, \"p\": 27976, \"fpr\": 0.9973723723723724, \"tpr\": 0.9999285101515585, \"n\": 5328}, {\"threshold\": 0.076, \"p\": 27976, \"fpr\": 0.9973723723723724, \"tpr\": 0.9999285101515585, \"n\": 5328}, {\"threshold\": 0.077, \"p\": 27976, \"fpr\": 0.9973723723723724, \"tpr\": 0.9999285101515585, \"n\": 5328}, {\"threshold\": 0.078, \"p\": 27976, \"fpr\": 0.9973723723723724, \"tpr\": 0.9999285101515585, \"n\": 5328}, {\"threshold\": 0.079, \"p\": 27976, \"fpr\": 0.9973723723723724, \"tpr\": 0.9999285101515585, \"n\": 5328}, {\"threshold\": 0.08, \"p\": 27976, \"fpr\": 0.9973723723723724, \"tpr\": 0.9999285101515585, \"n\": 5328}, {\"threshold\": 0.081, \"p\": 27976, \"fpr\": 0.9973723723723724, \"tpr\": 0.9999285101515585, \"n\": 5328}, {\"threshold\": 0.082, \"p\": 27976, \"fpr\": 0.9973723723723724, \"tpr\": 0.9999285101515585, \"n\": 5328}, {\"threshold\": 0.083, \"p\": 27976, \"fpr\": 0.9973723723723724, \"tpr\": 0.9999285101515585, \"n\": 5328}, {\"threshold\": 0.084, \"p\": 27976, \"fpr\": 0.9971846846846847, \"tpr\": 0.9998927652273377, \"n\": 5328}, {\"threshold\": 0.085, \"p\": 27976, \"fpr\": 0.9971846846846847, \"tpr\": 0.9998927652273377, \"n\": 5328}, {\"threshold\": 0.086, \"p\": 27976, \"fpr\": 0.9971846846846847, \"tpr\": 0.9998927652273377, \"n\": 5328}, {\"threshold\": 0.087, \"p\": 27976, \"fpr\": 0.9971846846846847, \"tpr\": 0.9998927652273377, \"n\": 5328}, {\"threshold\": 0.088, \"p\": 27976, \"fpr\": 0.9971846846846847, \"tpr\": 0.9998927652273377, \"n\": 5328}, {\"threshold\": 0.089, \"p\": 27976, \"fpr\": 0.9971846846846847, \"tpr\": 0.9998927652273377, \"n\": 5328}, {\"threshold\": 0.09, \"p\": 27976, \"fpr\": 0.9971846846846847, \"tpr\": 0.9998927652273377, \"n\": 5328}, {\"threshold\": 0.091, \"p\": 27976, \"fpr\": 0.9971846846846847, \"tpr\": 0.9998927652273377, \"n\": 5328}, {\"threshold\": 0.092, \"p\": 27976, \"fpr\": 0.9971846846846847, \"tpr\": 0.9998927652273377, \"n\": 5328}, {\"threshold\": 0.093, \"p\": 27976, \"fpr\": 0.9971846846846847, \"tpr\": 0.9998927652273377, \"n\": 5328}, {\"threshold\": 0.094, \"p\": 27976, \"fpr\": 0.9971846846846847, \"tpr\": 0.9998927652273377, \"n\": 5328}, {\"threshold\": 0.095, \"p\": 27976, \"fpr\": 0.9971846846846847, \"tpr\": 0.9998927652273377, \"n\": 5328}, {\"threshold\": 0.096, \"p\": 27976, \"fpr\": 0.9971846846846847, \"tpr\": 0.9998927652273377, \"n\": 5328}, {\"threshold\": 0.097, \"p\": 27976, \"fpr\": 0.9971846846846847, \"tpr\": 0.9998927652273377, \"n\": 5328}, {\"threshold\": 0.098, \"p\": 27976, \"fpr\": 0.9971846846846847, \"tpr\": 0.9998927652273377, \"n\": 5328}, {\"threshold\": 0.099, \"p\": 27976, \"fpr\": 0.9971846846846847, \"tpr\": 0.9998927652273377, \"n\": 5328}, {\"threshold\": 0.1, \"p\": 27976, \"fpr\": 0.9971846846846847, \"tpr\": 0.9998927652273377, \"n\": 5328}, {\"threshold\": 0.101, \"p\": 27976, \"fpr\": 0.9971846846846847, \"tpr\": 0.9998927652273377, \"n\": 5328}, {\"threshold\": 0.102, \"p\": 27976, \"fpr\": 0.9971846846846847, \"tpr\": 0.9998927652273377, \"n\": 5328}, {\"threshold\": 0.103, \"p\": 27976, \"fpr\": 0.9971846846846847, \"tpr\": 0.9998927652273377, \"n\": 5328}, {\"threshold\": 0.104, \"p\": 27976, \"fpr\": 0.9971846846846847, \"tpr\": 0.9998927652273377, \"n\": 5328}, {\"threshold\": 0.105, \"p\": 27976, \"fpr\": 0.9971846846846847, \"tpr\": 0.9998927652273377, \"n\": 5328}, {\"threshold\": 0.106, \"p\": 27976, \"fpr\": 0.9971846846846847, \"tpr\": 0.9998927652273377, \"n\": 5328}, {\"threshold\": 0.107, \"p\": 27976, \"fpr\": 0.9971846846846847, \"tpr\": 0.9998927652273377, \"n\": 5328}, {\"threshold\": 0.108, \"p\": 27976, \"fpr\": 0.9971846846846847, \"tpr\": 0.9998927652273377, \"n\": 5328}, {\"threshold\": 0.109, \"p\": 27976, \"fpr\": 0.9971846846846847, \"tpr\": 0.9998927652273377, \"n\": 5328}, {\"threshold\": 0.11, \"p\": 27976, \"fpr\": 0.9971846846846847, \"tpr\": 0.9998927652273377, \"n\": 5328}, {\"threshold\": 0.111, \"p\": 27976, \"fpr\": 0.9971846846846847, \"tpr\": 0.9998927652273377, \"n\": 5328}, {\"threshold\": 0.112, \"p\": 27976, \"fpr\": 0.9971846846846847, \"tpr\": 0.9998927652273377, \"n\": 5328}, {\"threshold\": 0.113, \"p\": 27976, \"fpr\": 0.9971846846846847, \"tpr\": 0.9998927652273377, \"n\": 5328}, {\"threshold\": 0.114, \"p\": 27976, \"fpr\": 0.9971846846846847, \"tpr\": 0.9998927652273377, \"n\": 5328}, {\"threshold\": 0.115, \"p\": 27976, \"fpr\": 0.9971846846846847, \"tpr\": 0.9998927652273377, \"n\": 5328}, {\"threshold\": 0.116, \"p\": 27976, \"fpr\": 0.9971846846846847, \"tpr\": 0.9998927652273377, \"n\": 5328}, {\"threshold\": 0.117, \"p\": 27976, \"fpr\": 0.9971846846846847, \"tpr\": 0.9998927652273377, \"n\": 5328}, {\"threshold\": 0.118, \"p\": 27976, \"fpr\": 0.9971846846846847, \"tpr\": 0.9998927652273377, \"n\": 5328}, {\"threshold\": 0.119, \"p\": 27976, \"fpr\": 0.9971846846846847, \"tpr\": 0.9998927652273377, \"n\": 5328}, {\"threshold\": 0.12, \"p\": 27976, \"fpr\": 0.9971846846846847, \"tpr\": 0.9998927652273377, \"n\": 5328}, {\"threshold\": 0.121, \"p\": 27976, \"fpr\": 0.9971846846846847, \"tpr\": 0.9998927652273377, \"n\": 5328}, {\"threshold\": 0.122, \"p\": 27976, \"fpr\": 0.9971846846846847, \"tpr\": 0.9998927652273377, \"n\": 5328}, {\"threshold\": 0.123, \"p\": 27976, \"fpr\": 0.9971846846846847, \"tpr\": 0.9998927652273377, \"n\": 5328}, {\"threshold\": 0.124, \"p\": 27976, \"fpr\": 0.9971846846846847, \"tpr\": 0.9998927652273377, \"n\": 5328}, {\"threshold\": 0.125, \"p\": 27976, \"fpr\": 0.9971846846846847, \"tpr\": 0.9998927652273377, \"n\": 5328}, {\"threshold\": 0.126, \"p\": 27976, \"fpr\": 0.9971846846846847, \"tpr\": 0.9998927652273377, \"n\": 5328}, {\"threshold\": 0.127, \"p\": 27976, \"fpr\": 0.9971846846846847, \"tpr\": 0.9998927652273377, \"n\": 5328}, {\"threshold\": 0.128, \"p\": 27976, \"fpr\": 0.9971846846846847, \"tpr\": 0.9998927652273377, \"n\": 5328}, {\"threshold\": 0.129, \"p\": 27976, \"fpr\": 0.9971846846846847, \"tpr\": 0.9998927652273377, \"n\": 5328}, {\"threshold\": 0.13, \"p\": 27976, \"fpr\": 0.9971846846846847, \"tpr\": 0.9998927652273377, \"n\": 5328}, {\"threshold\": 0.131, \"p\": 27976, \"fpr\": 0.9971846846846847, \"tpr\": 0.9998927652273377, \"n\": 5328}, {\"threshold\": 0.132, \"p\": 27976, \"fpr\": 0.9971846846846847, \"tpr\": 0.9998927652273377, \"n\": 5328}, {\"threshold\": 0.133, \"p\": 27976, \"fpr\": 0.9971846846846847, \"tpr\": 0.9998927652273377, \"n\": 5328}, {\"threshold\": 0.134, \"p\": 27976, \"fpr\": 0.9971846846846847, \"tpr\": 0.9998927652273377, \"n\": 5328}, {\"threshold\": 0.135, \"p\": 27976, \"fpr\": 0.9971846846846847, \"tpr\": 0.9998927652273377, \"n\": 5328}, {\"threshold\": 0.136, \"p\": 27976, \"fpr\": 0.9971846846846847, \"tpr\": 0.9998927652273377, \"n\": 5328}, {\"threshold\": 0.137, \"p\": 27976, \"fpr\": 0.9971846846846847, \"tpr\": 0.9998927652273377, \"n\": 5328}, {\"threshold\": 0.138, \"p\": 27976, \"fpr\": 0.9971846846846847, \"tpr\": 0.9998927652273377, \"n\": 5328}, {\"threshold\": 0.139, \"p\": 27976, \"fpr\": 0.9971846846846847, \"tpr\": 0.9998927652273377, \"n\": 5328}, {\"threshold\": 0.14, \"p\": 27976, \"fpr\": 0.9971846846846847, \"tpr\": 0.9998927652273377, \"n\": 5328}, {\"threshold\": 0.141, \"p\": 27976, \"fpr\": 0.9971846846846847, \"tpr\": 0.9998927652273377, \"n\": 5328}, {\"threshold\": 0.142, \"p\": 27976, \"fpr\": 0.996996996996997, \"tpr\": 0.9998927652273377, \"n\": 5328}, {\"threshold\": 0.143, \"p\": 27976, \"fpr\": 0.996996996996997, \"tpr\": 0.9998927652273377, \"n\": 5328}, {\"threshold\": 0.144, \"p\": 27976, \"fpr\": 0.996996996996997, \"tpr\": 0.9998927652273377, \"n\": 5328}, {\"threshold\": 0.145, \"p\": 27976, \"fpr\": 0.996996996996997, \"tpr\": 0.9998927652273377, \"n\": 5328}, {\"threshold\": 0.146, \"p\": 27976, \"fpr\": 0.996996996996997, \"tpr\": 0.9998927652273377, \"n\": 5328}, {\"threshold\": 0.147, \"p\": 27976, \"fpr\": 0.996996996996997, \"tpr\": 0.9998927652273377, \"n\": 5328}, {\"threshold\": 0.148, \"p\": 27976, \"fpr\": 0.996996996996997, \"tpr\": 0.9998927652273377, \"n\": 5328}, {\"threshold\": 0.149, \"p\": 27976, \"fpr\": 0.996996996996997, \"tpr\": 0.9998927652273377, \"n\": 5328}, {\"threshold\": 0.15, \"p\": 27976, \"fpr\": 0.996996996996997, \"tpr\": 0.9998927652273377, \"n\": 5328}, {\"threshold\": 0.151, \"p\": 27976, \"fpr\": 0.996996996996997, \"tpr\": 0.9998927652273377, \"n\": 5328}, {\"threshold\": 0.152, \"p\": 27976, \"fpr\": 0.996996996996997, \"tpr\": 0.9998927652273377, \"n\": 5328}, {\"threshold\": 0.153, \"p\": 27976, \"fpr\": 0.996996996996997, \"tpr\": 0.9998927652273377, \"n\": 5328}, {\"threshold\": 0.154, \"p\": 27976, \"fpr\": 0.996433933933934, \"tpr\": 0.999857020303117, \"n\": 5328}, {\"threshold\": 0.155, \"p\": 27976, \"fpr\": 0.996433933933934, \"tpr\": 0.999857020303117, \"n\": 5328}, {\"threshold\": 0.156, \"p\": 27976, \"fpr\": 0.996433933933934, \"tpr\": 0.999857020303117, \"n\": 5328}, {\"threshold\": 0.157, \"p\": 27976, \"fpr\": 0.996433933933934, \"tpr\": 0.999857020303117, \"n\": 5328}, {\"threshold\": 0.158, \"p\": 27976, \"fpr\": 0.996433933933934, \"tpr\": 0.999857020303117, \"n\": 5328}, {\"threshold\": 0.159, \"p\": 27976, \"fpr\": 0.996433933933934, \"tpr\": 0.999857020303117, \"n\": 5328}, {\"threshold\": 0.16, \"p\": 27976, \"fpr\": 0.996433933933934, \"tpr\": 0.999857020303117, \"n\": 5328}, {\"threshold\": 0.161, \"p\": 27976, \"fpr\": 0.996433933933934, \"tpr\": 0.999857020303117, \"n\": 5328}, {\"threshold\": 0.162, \"p\": 27976, \"fpr\": 0.996433933933934, \"tpr\": 0.999857020303117, \"n\": 5328}, {\"threshold\": 0.163, \"p\": 27976, \"fpr\": 0.996433933933934, \"tpr\": 0.999857020303117, \"n\": 5328}, {\"threshold\": 0.164, \"p\": 27976, \"fpr\": 0.996433933933934, \"tpr\": 0.999857020303117, \"n\": 5328}, {\"threshold\": 0.165, \"p\": 27976, \"fpr\": 0.996433933933934, \"tpr\": 0.999857020303117, \"n\": 5328}, {\"threshold\": 0.166, \"p\": 27976, \"fpr\": 0.9958708708708709, \"tpr\": 0.999857020303117, \"n\": 5328}, {\"threshold\": 0.167, \"p\": 27976, \"fpr\": 0.9958708708708709, \"tpr\": 0.999857020303117, \"n\": 5328}, {\"threshold\": 0.168, \"p\": 27976, \"fpr\": 0.9958708708708709, \"tpr\": 0.999857020303117, \"n\": 5328}, {\"threshold\": 0.169, \"p\": 27976, \"fpr\": 0.9958708708708709, \"tpr\": 0.999857020303117, \"n\": 5328}, {\"threshold\": 0.17, \"p\": 27976, \"fpr\": 0.9958708708708709, \"tpr\": 0.999857020303117, \"n\": 5328}, {\"threshold\": 0.171, \"p\": 27976, \"fpr\": 0.9958708708708709, \"tpr\": 0.999857020303117, \"n\": 5328}, {\"threshold\": 0.172, \"p\": 27976, \"fpr\": 0.9958708708708709, \"tpr\": 0.999857020303117, \"n\": 5328}, {\"threshold\": 0.173, \"p\": 27976, \"fpr\": 0.9958708708708709, \"tpr\": 0.999857020303117, \"n\": 5328}, {\"threshold\": 0.174, \"p\": 27976, \"fpr\": 0.9958708708708709, \"tpr\": 0.999857020303117, \"n\": 5328}, {\"threshold\": 0.175, \"p\": 27976, \"fpr\": 0.9958708708708709, \"tpr\": 0.999857020303117, \"n\": 5328}, {\"threshold\": 0.176, \"p\": 27976, \"fpr\": 0.9958708708708709, \"tpr\": 0.999857020303117, \"n\": 5328}, {\"threshold\": 0.177, \"p\": 27976, \"fpr\": 0.9958708708708709, \"tpr\": 0.999857020303117, \"n\": 5328}, {\"threshold\": 0.178, \"p\": 27976, \"fpr\": 0.9958708708708709, \"tpr\": 0.999857020303117, \"n\": 5328}, {\"threshold\": 0.179, \"p\": 27976, \"fpr\": 0.9958708708708709, \"tpr\": 0.999857020303117, \"n\": 5328}, {\"threshold\": 0.18, \"p\": 27976, \"fpr\": 0.9958708708708709, \"tpr\": 0.999857020303117, \"n\": 5328}, {\"threshold\": 0.181, \"p\": 27976, \"fpr\": 0.9958708708708709, \"tpr\": 0.999857020303117, \"n\": 5328}, {\"threshold\": 0.182, \"p\": 27976, \"fpr\": 0.9958708708708709, \"tpr\": 0.999857020303117, \"n\": 5328}, {\"threshold\": 0.183, \"p\": 27976, \"fpr\": 0.9958708708708709, \"tpr\": 0.999857020303117, \"n\": 5328}, {\"threshold\": 0.184, \"p\": 27976, \"fpr\": 0.9958708708708709, \"tpr\": 0.999857020303117, \"n\": 5328}, {\"threshold\": 0.185, \"p\": 27976, \"fpr\": 0.9958708708708709, \"tpr\": 0.999857020303117, \"n\": 5328}, {\"threshold\": 0.186, \"p\": 27976, \"fpr\": 0.9958708708708709, \"tpr\": 0.999857020303117, \"n\": 5328}, {\"threshold\": 0.187, \"p\": 27976, \"fpr\": 0.9958708708708709, \"tpr\": 0.999857020303117, \"n\": 5328}, {\"threshold\": 0.188, \"p\": 27976, \"fpr\": 0.9958708708708709, \"tpr\": 0.999857020303117, \"n\": 5328}, {\"threshold\": 0.189, \"p\": 27976, \"fpr\": 0.9958708708708709, \"tpr\": 0.999857020303117, \"n\": 5328}, {\"threshold\": 0.19, \"p\": 27976, \"fpr\": 0.9949324324324325, \"tpr\": 0.9998212753788962, \"n\": 5328}, {\"threshold\": 0.191, \"p\": 27976, \"fpr\": 0.9949324324324325, \"tpr\": 0.9998212753788962, \"n\": 5328}, {\"threshold\": 0.192, \"p\": 27976, \"fpr\": 0.9949324324324325, \"tpr\": 0.9998212753788962, \"n\": 5328}, {\"threshold\": 0.193, \"p\": 27976, \"fpr\": 0.9949324324324325, \"tpr\": 0.9998212753788962, \"n\": 5328}, {\"threshold\": 0.194, \"p\": 27976, \"fpr\": 0.9949324324324325, \"tpr\": 0.9998212753788962, \"n\": 5328}, {\"threshold\": 0.195, \"p\": 27976, \"fpr\": 0.9949324324324325, \"tpr\": 0.9998212753788962, \"n\": 5328}, {\"threshold\": 0.196, \"p\": 27976, \"fpr\": 0.9949324324324325, \"tpr\": 0.9997855304546754, \"n\": 5328}, {\"threshold\": 0.197, \"p\": 27976, \"fpr\": 0.9949324324324325, \"tpr\": 0.9997855304546754, \"n\": 5328}, {\"threshold\": 0.198, \"p\": 27976, \"fpr\": 0.9949324324324325, \"tpr\": 0.9997855304546754, \"n\": 5328}, {\"threshold\": 0.199, \"p\": 27976, \"fpr\": 0.9949324324324325, \"tpr\": 0.9997855304546754, \"n\": 5328}, {\"threshold\": 0.2, \"p\": 27976, \"fpr\": 0.9949324324324325, \"tpr\": 0.9997855304546754, \"n\": 5328}, {\"threshold\": 0.201, \"p\": 27976, \"fpr\": 0.9945570570570571, \"tpr\": 0.9997497855304547, \"n\": 5328}, {\"threshold\": 0.202, \"p\": 27976, \"fpr\": 0.9945570570570571, \"tpr\": 0.9997497855304547, \"n\": 5328}, {\"threshold\": 0.203, \"p\": 27976, \"fpr\": 0.9945570570570571, \"tpr\": 0.9997497855304547, \"n\": 5328}, {\"threshold\": 0.204, \"p\": 27976, \"fpr\": 0.9945570570570571, \"tpr\": 0.9997497855304547, \"n\": 5328}, {\"threshold\": 0.205, \"p\": 27976, \"fpr\": 0.9945570570570571, \"tpr\": 0.9997497855304547, \"n\": 5328}, {\"threshold\": 0.206, \"p\": 27976, \"fpr\": 0.9945570570570571, \"tpr\": 0.9997497855304547, \"n\": 5328}, {\"threshold\": 0.207, \"p\": 27976, \"fpr\": 0.9945570570570571, \"tpr\": 0.9997497855304547, \"n\": 5328}, {\"threshold\": 0.208, \"p\": 27976, \"fpr\": 0.9945570570570571, \"tpr\": 0.9997497855304547, \"n\": 5328}, {\"threshold\": 0.209, \"p\": 27976, \"fpr\": 0.9945570570570571, \"tpr\": 0.9997497855304547, \"n\": 5328}, {\"threshold\": 0.21, \"p\": 27976, \"fpr\": 0.9945570570570571, \"tpr\": 0.9997497855304547, \"n\": 5328}, {\"threshold\": 0.211, \"p\": 27976, \"fpr\": 0.9945570570570571, \"tpr\": 0.9997140406062339, \"n\": 5328}, {\"threshold\": 0.212, \"p\": 27976, \"fpr\": 0.9945570570570571, \"tpr\": 0.9997140406062339, \"n\": 5328}, {\"threshold\": 0.213, \"p\": 27976, \"fpr\": 0.9945570570570571, \"tpr\": 0.9997140406062339, \"n\": 5328}, {\"threshold\": 0.214, \"p\": 27976, \"fpr\": 0.9945570570570571, \"tpr\": 0.9997140406062339, \"n\": 5328}, {\"threshold\": 0.215, \"p\": 27976, \"fpr\": 0.9945570570570571, \"tpr\": 0.9997140406062339, \"n\": 5328}, {\"threshold\": 0.216, \"p\": 27976, \"fpr\": 0.9945570570570571, \"tpr\": 0.9997140406062339, \"n\": 5328}, {\"threshold\": 0.217, \"p\": 27976, \"fpr\": 0.9945570570570571, \"tpr\": 0.9997140406062339, \"n\": 5328}, {\"threshold\": 0.218, \"p\": 27976, \"fpr\": 0.9945570570570571, \"tpr\": 0.9996782956820132, \"n\": 5328}, {\"threshold\": 0.219, \"p\": 27976, \"fpr\": 0.9945570570570571, \"tpr\": 0.9996782956820132, \"n\": 5328}, {\"threshold\": 0.22, \"p\": 27976, \"fpr\": 0.9945570570570571, \"tpr\": 0.9996425507577924, \"n\": 5328}, {\"threshold\": 0.221, \"p\": 27976, \"fpr\": 0.9945570570570571, \"tpr\": 0.9996425507577924, \"n\": 5328}, {\"threshold\": 0.222, \"p\": 27976, \"fpr\": 0.9945570570570571, \"tpr\": 0.9996425507577924, \"n\": 5328}, {\"threshold\": 0.223, \"p\": 27976, \"fpr\": 0.9945570570570571, \"tpr\": 0.9996425507577924, \"n\": 5328}, {\"threshold\": 0.224, \"p\": 27976, \"fpr\": 0.9945570570570571, \"tpr\": 0.9996425507577924, \"n\": 5328}, {\"threshold\": 0.225, \"p\": 27976, \"fpr\": 0.9945570570570571, \"tpr\": 0.9996425507577924, \"n\": 5328}, {\"threshold\": 0.226, \"p\": 27976, \"fpr\": 0.9945570570570571, \"tpr\": 0.9996425507577924, \"n\": 5328}, {\"threshold\": 0.227, \"p\": 27976, \"fpr\": 0.9945570570570571, \"tpr\": 0.9996425507577924, \"n\": 5328}, {\"threshold\": 0.228, \"p\": 27976, \"fpr\": 0.9945570570570571, \"tpr\": 0.9996425507577924, \"n\": 5328}, {\"threshold\": 0.229, \"p\": 27976, \"fpr\": 0.9945570570570571, \"tpr\": 0.9996425507577924, \"n\": 5328}, {\"threshold\": 0.23, \"p\": 27976, \"fpr\": 0.9945570570570571, \"tpr\": 0.9996425507577924, \"n\": 5328}, {\"threshold\": 0.231, \"p\": 27976, \"fpr\": 0.9945570570570571, \"tpr\": 0.9996425507577924, \"n\": 5328}, {\"threshold\": 0.232, \"p\": 27976, \"fpr\": 0.9945570570570571, \"tpr\": 0.9996425507577924, \"n\": 5328}, {\"threshold\": 0.233, \"p\": 27976, \"fpr\": 0.9945570570570571, \"tpr\": 0.9996425507577924, \"n\": 5328}, {\"threshold\": 0.234, \"p\": 27976, \"fpr\": 0.9945570570570571, \"tpr\": 0.9996425507577924, \"n\": 5328}, {\"threshold\": 0.235, \"p\": 27976, \"fpr\": 0.9945570570570571, \"tpr\": 0.9996425507577924, \"n\": 5328}, {\"threshold\": 0.236, \"p\": 27976, \"fpr\": 0.9945570570570571, \"tpr\": 0.9996425507577924, \"n\": 5328}, {\"threshold\": 0.237, \"p\": 27976, \"fpr\": 0.9945570570570571, \"tpr\": 0.9996425507577924, \"n\": 5328}, {\"threshold\": 0.238, \"p\": 27976, \"fpr\": 0.9945570570570571, \"tpr\": 0.9996425507577924, \"n\": 5328}, {\"threshold\": 0.239, \"p\": 27976, \"fpr\": 0.9945570570570571, \"tpr\": 0.9996425507577924, \"n\": 5328}, {\"threshold\": 0.24, \"p\": 27976, \"fpr\": 0.9945570570570571, \"tpr\": 0.9996425507577924, \"n\": 5328}, {\"threshold\": 0.241, \"p\": 27976, \"fpr\": 0.9945570570570571, \"tpr\": 0.9996425507577924, \"n\": 5328}, {\"threshold\": 0.242, \"p\": 27976, \"fpr\": 0.9945570570570571, \"tpr\": 0.9996425507577924, \"n\": 5328}, {\"threshold\": 0.243, \"p\": 27976, \"fpr\": 0.9945570570570571, \"tpr\": 0.9996425507577924, \"n\": 5328}, {\"threshold\": 0.244, \"p\": 27976, \"fpr\": 0.9945570570570571, \"tpr\": 0.9996425507577924, \"n\": 5328}, {\"threshold\": 0.245, \"p\": 27976, \"fpr\": 0.9945570570570571, \"tpr\": 0.9996425507577924, \"n\": 5328}, {\"threshold\": 0.246, \"p\": 27976, \"fpr\": 0.9945570570570571, \"tpr\": 0.9996425507577924, \"n\": 5328}, {\"threshold\": 0.247, \"p\": 27976, \"fpr\": 0.9945570570570571, \"tpr\": 0.9996425507577924, \"n\": 5328}, {\"threshold\": 0.248, \"p\": 27976, \"fpr\": 0.9945570570570571, \"tpr\": 0.9996425507577924, \"n\": 5328}, {\"threshold\": 0.249, \"p\": 27976, \"fpr\": 0.9945570570570571, \"tpr\": 0.9996425507577924, \"n\": 5328}, {\"threshold\": 0.25, \"p\": 27976, \"fpr\": 0.9945570570570571, \"tpr\": 0.9996425507577924, \"n\": 5328}, {\"threshold\": 0.251, \"p\": 27976, \"fpr\": 0.9945570570570571, \"tpr\": 0.9996425507577924, \"n\": 5328}, {\"threshold\": 0.252, \"p\": 27976, \"fpr\": 0.9945570570570571, \"tpr\": 0.9996425507577924, \"n\": 5328}, {\"threshold\": 0.253, \"p\": 27976, \"fpr\": 0.9945570570570571, \"tpr\": 0.9996425507577924, \"n\": 5328}, {\"threshold\": 0.254, \"p\": 27976, \"fpr\": 0.9945570570570571, \"tpr\": 0.9996425507577924, \"n\": 5328}, {\"threshold\": 0.255, \"p\": 27976, \"fpr\": 0.9945570570570571, \"tpr\": 0.9996425507577924, \"n\": 5328}, {\"threshold\": 0.256, \"p\": 27976, \"fpr\": 0.9945570570570571, \"tpr\": 0.9996425507577924, \"n\": 5328}, {\"threshold\": 0.257, \"p\": 27976, \"fpr\": 0.9945570570570571, \"tpr\": 0.9996425507577924, \"n\": 5328}, {\"threshold\": 0.258, \"p\": 27976, \"fpr\": 0.9945570570570571, \"tpr\": 0.9996425507577924, \"n\": 5328}, {\"threshold\": 0.259, \"p\": 27976, \"fpr\": 0.9945570570570571, \"tpr\": 0.9996425507577924, \"n\": 5328}, {\"threshold\": 0.26, \"p\": 27976, \"fpr\": 0.9945570570570571, \"tpr\": 0.9996425507577924, \"n\": 5328}, {\"threshold\": 0.261, \"p\": 27976, \"fpr\": 0.9945570570570571, \"tpr\": 0.9996425507577924, \"n\": 5328}, {\"threshold\": 0.262, \"p\": 27976, \"fpr\": 0.9945570570570571, \"tpr\": 0.9996425507577924, \"n\": 5328}, {\"threshold\": 0.263, \"p\": 27976, \"fpr\": 0.9945570570570571, \"tpr\": 0.9996425507577924, \"n\": 5328}, {\"threshold\": 0.264, \"p\": 27976, \"fpr\": 0.9938063063063063, \"tpr\": 0.9996068058335716, \"n\": 5328}, {\"threshold\": 0.265, \"p\": 27976, \"fpr\": 0.9938063063063063, \"tpr\": 0.9996068058335716, \"n\": 5328}, {\"threshold\": 0.266, \"p\": 27976, \"fpr\": 0.9938063063063063, \"tpr\": 0.9996068058335716, \"n\": 5328}, {\"threshold\": 0.267, \"p\": 27976, \"fpr\": 0.9938063063063063, \"tpr\": 0.9996068058335716, \"n\": 5328}, {\"threshold\": 0.268, \"p\": 27976, \"fpr\": 0.9938063063063063, \"tpr\": 0.9996068058335716, \"n\": 5328}, {\"threshold\": 0.269, \"p\": 27976, \"fpr\": 0.9938063063063063, \"tpr\": 0.9996068058335716, \"n\": 5328}, {\"threshold\": 0.27, \"p\": 27976, \"fpr\": 0.9938063063063063, \"tpr\": 0.9996068058335716, \"n\": 5328}, {\"threshold\": 0.271, \"p\": 27976, \"fpr\": 0.9938063063063063, \"tpr\": 0.9996068058335716, \"n\": 5328}, {\"threshold\": 0.272, \"p\": 27976, \"fpr\": 0.9938063063063063, \"tpr\": 0.9996068058335716, \"n\": 5328}, {\"threshold\": 0.273, \"p\": 27976, \"fpr\": 0.9938063063063063, \"tpr\": 0.9996068058335716, \"n\": 5328}, {\"threshold\": 0.274, \"p\": 27976, \"fpr\": 0.9938063063063063, \"tpr\": 0.9996068058335716, \"n\": 5328}, {\"threshold\": 0.275, \"p\": 27976, \"fpr\": 0.9938063063063063, \"tpr\": 0.9996068058335716, \"n\": 5328}, {\"threshold\": 0.276, \"p\": 27976, \"fpr\": 0.9938063063063063, \"tpr\": 0.9996068058335716, \"n\": 5328}, {\"threshold\": 0.277, \"p\": 27976, \"fpr\": 0.9938063063063063, \"tpr\": 0.9996068058335716, \"n\": 5328}, {\"threshold\": 0.278, \"p\": 27976, \"fpr\": 0.9938063063063063, \"tpr\": 0.9996068058335716, \"n\": 5328}, {\"threshold\": 0.279, \"p\": 27976, \"fpr\": 0.9938063063063063, \"tpr\": 0.9996068058335716, \"n\": 5328}, {\"threshold\": 0.28, \"p\": 27976, \"fpr\": 0.9938063063063063, \"tpr\": 0.9996068058335716, \"n\": 5328}, {\"threshold\": 0.281, \"p\": 27976, \"fpr\": 0.9938063063063063, \"tpr\": 0.9996068058335716, \"n\": 5328}, {\"threshold\": 0.282, \"p\": 27976, \"fpr\": 0.9938063063063063, \"tpr\": 0.9996068058335716, \"n\": 5328}, {\"threshold\": 0.283, \"p\": 27976, \"fpr\": 0.9938063063063063, \"tpr\": 0.9996068058335716, \"n\": 5328}, {\"threshold\": 0.284, \"p\": 27976, \"fpr\": 0.9938063063063063, \"tpr\": 0.9996068058335716, \"n\": 5328}, {\"threshold\": 0.285, \"p\": 27976, \"fpr\": 0.9938063063063063, \"tpr\": 0.9996068058335716, \"n\": 5328}, {\"threshold\": 0.286, \"p\": 27976, \"fpr\": 0.9938063063063063, \"tpr\": 0.9996068058335716, \"n\": 5328}, {\"threshold\": 0.287, \"p\": 27976, \"fpr\": 0.9938063063063063, \"tpr\": 0.9996068058335716, \"n\": 5328}, {\"threshold\": 0.288, \"p\": 27976, \"fpr\": 0.9938063063063063, \"tpr\": 0.9996068058335716, \"n\": 5328}, {\"threshold\": 0.289, \"p\": 27976, \"fpr\": 0.9938063063063063, \"tpr\": 0.9996068058335716, \"n\": 5328}, {\"threshold\": 0.29, \"p\": 27976, \"fpr\": 0.9938063063063063, \"tpr\": 0.9996068058335716, \"n\": 5328}, {\"threshold\": 0.291, \"p\": 27976, \"fpr\": 0.9938063063063063, \"tpr\": 0.9996068058335716, \"n\": 5328}, {\"threshold\": 0.292, \"p\": 27976, \"fpr\": 0.9938063063063063, \"tpr\": 0.9996068058335716, \"n\": 5328}, {\"threshold\": 0.293, \"p\": 27976, \"fpr\": 0.9938063063063063, \"tpr\": 0.9996068058335716, \"n\": 5328}, {\"threshold\": 0.294, \"p\": 27976, \"fpr\": 0.9938063063063063, \"tpr\": 0.9996068058335716, \"n\": 5328}, {\"threshold\": 0.295, \"p\": 27976, \"fpr\": 0.9938063063063063, \"tpr\": 0.9996068058335716, \"n\": 5328}, {\"threshold\": 0.296, \"p\": 27976, \"fpr\": 0.9938063063063063, \"tpr\": 0.9996068058335716, \"n\": 5328}, {\"threshold\": 0.297, \"p\": 27976, \"fpr\": 0.9938063063063063, \"tpr\": 0.9996068058335716, \"n\": 5328}, {\"threshold\": 0.298, \"p\": 27976, \"fpr\": 0.9938063063063063, \"tpr\": 0.9996068058335716, \"n\": 5328}, {\"threshold\": 0.299, \"p\": 27976, \"fpr\": 0.9938063063063063, \"tpr\": 0.9996068058335716, \"n\": 5328}, {\"threshold\": 0.3, \"p\": 27976, \"fpr\": 0.9938063063063063, \"tpr\": 0.9996068058335716, \"n\": 5328}, {\"threshold\": 0.301, \"p\": 27976, \"fpr\": 0.9938063063063063, \"tpr\": 0.9996068058335716, \"n\": 5328}, {\"threshold\": 0.302, \"p\": 27976, \"fpr\": 0.9938063063063063, \"tpr\": 0.9996068058335716, \"n\": 5328}, {\"threshold\": 0.303, \"p\": 27976, \"fpr\": 0.9938063063063063, \"tpr\": 0.9996068058335716, \"n\": 5328}, {\"threshold\": 0.304, \"p\": 27976, \"fpr\": 0.9938063063063063, \"tpr\": 0.9996068058335716, \"n\": 5328}, {\"threshold\": 0.305, \"p\": 27976, \"fpr\": 0.9938063063063063, \"tpr\": 0.9996068058335716, \"n\": 5328}, {\"threshold\": 0.306, \"p\": 27976, \"fpr\": 0.9938063063063063, \"tpr\": 0.9996068058335716, \"n\": 5328}, {\"threshold\": 0.307, \"p\": 27976, \"fpr\": 0.9938063063063063, \"tpr\": 0.9996068058335716, \"n\": 5328}, {\"threshold\": 0.308, \"p\": 27976, \"fpr\": 0.9938063063063063, \"tpr\": 0.9996068058335716, \"n\": 5328}, {\"threshold\": 0.309, \"p\": 27976, \"fpr\": 0.9938063063063063, \"tpr\": 0.9996068058335716, \"n\": 5328}, {\"threshold\": 0.31, \"p\": 27976, \"fpr\": 0.9938063063063063, \"tpr\": 0.9996068058335716, \"n\": 5328}, {\"threshold\": 0.311, \"p\": 27976, \"fpr\": 0.9938063063063063, \"tpr\": 0.9996068058335716, \"n\": 5328}, {\"threshold\": 0.312, \"p\": 27976, \"fpr\": 0.9938063063063063, \"tpr\": 0.9996068058335716, \"n\": 5328}, {\"threshold\": 0.313, \"p\": 27976, \"fpr\": 0.9938063063063063, \"tpr\": 0.9996068058335716, \"n\": 5328}, {\"threshold\": 0.314, \"p\": 27976, \"fpr\": 0.9938063063063063, \"tpr\": 0.9996068058335716, \"n\": 5328}, {\"threshold\": 0.315, \"p\": 27976, \"fpr\": 0.9938063063063063, \"tpr\": 0.9996068058335716, \"n\": 5328}, {\"threshold\": 0.316, \"p\": 27976, \"fpr\": 0.9938063063063063, \"tpr\": 0.9996068058335716, \"n\": 5328}, {\"threshold\": 0.317, \"p\": 27976, \"fpr\": 0.9938063063063063, \"tpr\": 0.9996068058335716, \"n\": 5328}, {\"threshold\": 0.318, \"p\": 27976, \"fpr\": 0.9938063063063063, \"tpr\": 0.9996068058335716, \"n\": 5328}, {\"threshold\": 0.319, \"p\": 27976, \"fpr\": 0.9938063063063063, \"tpr\": 0.9996068058335716, \"n\": 5328}, {\"threshold\": 0.32, \"p\": 27976, \"fpr\": 0.9938063063063063, \"tpr\": 0.9996068058335716, \"n\": 5328}, {\"threshold\": 0.321, \"p\": 27976, \"fpr\": 0.9938063063063063, \"tpr\": 0.9996068058335716, \"n\": 5328}, {\"threshold\": 0.322, \"p\": 27976, \"fpr\": 0.9938063063063063, \"tpr\": 0.9996068058335716, \"n\": 5328}, {\"threshold\": 0.323, \"p\": 27976, \"fpr\": 0.9938063063063063, \"tpr\": 0.9996068058335716, \"n\": 5328}, {\"threshold\": 0.324, \"p\": 27976, \"fpr\": 0.9938063063063063, \"tpr\": 0.9996068058335716, \"n\": 5328}, {\"threshold\": 0.325, \"p\": 27976, \"fpr\": 0.9938063063063063, \"tpr\": 0.9996068058335716, \"n\": 5328}, {\"threshold\": 0.326, \"p\": 27976, \"fpr\": 0.9938063063063063, \"tpr\": 0.9996068058335716, \"n\": 5328}, {\"threshold\": 0.327, \"p\": 27976, \"fpr\": 0.9840465465465466, \"tpr\": 0.9987846725764942, \"n\": 5328}, {\"threshold\": 0.328, \"p\": 27976, \"fpr\": 0.9840465465465466, \"tpr\": 0.9987846725764942, \"n\": 5328}, {\"threshold\": 0.329, \"p\": 27976, \"fpr\": 0.9840465465465466, \"tpr\": 0.9987846725764942, \"n\": 5328}, {\"threshold\": 0.33, \"p\": 27976, \"fpr\": 0.9840465465465466, \"tpr\": 0.9987846725764942, \"n\": 5328}, {\"threshold\": 0.331, \"p\": 27976, \"fpr\": 0.9840465465465466, \"tpr\": 0.9987846725764942, \"n\": 5328}, {\"threshold\": 0.332, \"p\": 27976, \"fpr\": 0.9840465465465466, \"tpr\": 0.9987846725764942, \"n\": 5328}, {\"threshold\": 0.333, \"p\": 27976, \"fpr\": 0.9840465465465466, \"tpr\": 0.9987846725764942, \"n\": 5328}, {\"threshold\": 0.334, \"p\": 27976, \"fpr\": 0.9840465465465466, \"tpr\": 0.9987846725764942, \"n\": 5328}, {\"threshold\": 0.335, \"p\": 27976, \"fpr\": 0.9840465465465466, \"tpr\": 0.9987846725764942, \"n\": 5328}, {\"threshold\": 0.336, \"p\": 27976, \"fpr\": 0.9840465465465466, \"tpr\": 0.9987846725764942, \"n\": 5328}, {\"threshold\": 0.337, \"p\": 27976, \"fpr\": 0.9840465465465466, \"tpr\": 0.9987846725764942, \"n\": 5328}, {\"threshold\": 0.338, \"p\": 27976, \"fpr\": 0.9840465465465466, \"tpr\": 0.9987846725764942, \"n\": 5328}, {\"threshold\": 0.339, \"p\": 27976, \"fpr\": 0.9840465465465466, \"tpr\": 0.9987846725764942, \"n\": 5328}, {\"threshold\": 0.34, \"p\": 27976, \"fpr\": 0.9840465465465466, \"tpr\": 0.9987846725764942, \"n\": 5328}, {\"threshold\": 0.341, \"p\": 27976, \"fpr\": 0.9840465465465466, \"tpr\": 0.9987846725764942, \"n\": 5328}, {\"threshold\": 0.342, \"p\": 27976, \"fpr\": 0.9840465465465466, \"tpr\": 0.9987846725764942, \"n\": 5328}, {\"threshold\": 0.343, \"p\": 27976, \"fpr\": 0.9840465465465466, \"tpr\": 0.9987846725764942, \"n\": 5328}, {\"threshold\": 0.344, \"p\": 27976, \"fpr\": 0.9840465465465466, \"tpr\": 0.9987846725764942, \"n\": 5328}, {\"threshold\": 0.345, \"p\": 27976, \"fpr\": 0.9840465465465466, \"tpr\": 0.9987846725764942, \"n\": 5328}, {\"threshold\": 0.346, \"p\": 27976, \"fpr\": 0.9840465465465466, \"tpr\": 0.9987846725764942, \"n\": 5328}, {\"threshold\": 0.347, \"p\": 27976, \"fpr\": 0.9840465465465466, \"tpr\": 0.9987846725764942, \"n\": 5328}, {\"threshold\": 0.348, \"p\": 27976, \"fpr\": 0.9750375375375375, \"tpr\": 0.998069774092079, \"n\": 5328}, {\"threshold\": 0.349, \"p\": 27976, \"fpr\": 0.9750375375375375, \"tpr\": 0.998069774092079, \"n\": 5328}, {\"threshold\": 0.35, \"p\": 27976, \"fpr\": 0.9750375375375375, \"tpr\": 0.998069774092079, \"n\": 5328}, {\"threshold\": 0.351, \"p\": 27976, \"fpr\": 0.9750375375375375, \"tpr\": 0.998069774092079, \"n\": 5328}, {\"threshold\": 0.352, \"p\": 27976, \"fpr\": 0.9750375375375375, \"tpr\": 0.998069774092079, \"n\": 5328}, {\"threshold\": 0.353, \"p\": 27976, \"fpr\": 0.9750375375375375, \"tpr\": 0.998069774092079, \"n\": 5328}, {\"threshold\": 0.354, \"p\": 27976, \"fpr\": 0.972972972972973, \"tpr\": 0.997748069774092, \"n\": 5328}, {\"threshold\": 0.355, \"p\": 27976, \"fpr\": 0.972972972972973, \"tpr\": 0.997748069774092, \"n\": 5328}, {\"threshold\": 0.356, \"p\": 27976, \"fpr\": 0.972972972972973, \"tpr\": 0.997748069774092, \"n\": 5328}, {\"threshold\": 0.357, \"p\": 27976, \"fpr\": 0.972972972972973, \"tpr\": 0.997748069774092, \"n\": 5328}, {\"threshold\": 0.358, \"p\": 27976, \"fpr\": 0.972972972972973, \"tpr\": 0.997748069774092, \"n\": 5328}, {\"threshold\": 0.359, \"p\": 27976, \"fpr\": 0.972972972972973, \"tpr\": 0.997748069774092, \"n\": 5328}, {\"threshold\": 0.36, \"p\": 27976, \"fpr\": 0.972972972972973, \"tpr\": 0.997748069774092, \"n\": 5328}, {\"threshold\": 0.361, \"p\": 27976, \"fpr\": 0.972972972972973, \"tpr\": 0.997748069774092, \"n\": 5328}, {\"threshold\": 0.362, \"p\": 27976, \"fpr\": 0.9727852852852853, \"tpr\": 0.997748069774092, \"n\": 5328}, {\"threshold\": 0.363, \"p\": 27976, \"fpr\": 0.9727852852852853, \"tpr\": 0.997748069774092, \"n\": 5328}, {\"threshold\": 0.364, \"p\": 27976, \"fpr\": 0.9727852852852853, \"tpr\": 0.997748069774092, \"n\": 5328}, {\"threshold\": 0.365, \"p\": 27976, \"fpr\": 0.9727852852852853, \"tpr\": 0.997748069774092, \"n\": 5328}, {\"threshold\": 0.366, \"p\": 27976, \"fpr\": 0.9727852852852853, \"tpr\": 0.997748069774092, \"n\": 5328}, {\"threshold\": 0.367, \"p\": 27976, \"fpr\": 0.9727852852852853, \"tpr\": 0.997748069774092, \"n\": 5328}, {\"threshold\": 0.368, \"p\": 27976, \"fpr\": 0.9727852852852853, \"tpr\": 0.997748069774092, \"n\": 5328}, {\"threshold\": 0.369, \"p\": 27976, \"fpr\": 0.9727852852852853, \"tpr\": 0.997748069774092, \"n\": 5328}, {\"threshold\": 0.37, \"p\": 27976, \"fpr\": 0.9727852852852853, \"tpr\": 0.997748069774092, \"n\": 5328}, {\"threshold\": 0.371, \"p\": 27976, \"fpr\": 0.9727852852852853, \"tpr\": 0.997748069774092, \"n\": 5328}, {\"threshold\": 0.372, \"p\": 27976, \"fpr\": 0.9727852852852853, \"tpr\": 0.997748069774092, \"n\": 5328}, {\"threshold\": 0.373, \"p\": 27976, \"fpr\": 0.9727852852852853, \"tpr\": 0.997748069774092, \"n\": 5328}, {\"threshold\": 0.374, \"p\": 27976, \"fpr\": 0.9727852852852853, \"tpr\": 0.997748069774092, \"n\": 5328}, {\"threshold\": 0.375, \"p\": 27976, \"fpr\": 0.9727852852852853, \"tpr\": 0.997748069774092, \"n\": 5328}, {\"threshold\": 0.376, \"p\": 27976, \"fpr\": 0.9727852852852853, \"tpr\": 0.997748069774092, \"n\": 5328}, {\"threshold\": 0.377, \"p\": 27976, \"fpr\": 0.9727852852852853, \"tpr\": 0.997748069774092, \"n\": 5328}, {\"threshold\": 0.378, \"p\": 27976, \"fpr\": 0.9727852852852853, \"tpr\": 0.997748069774092, \"n\": 5328}, {\"threshold\": 0.379, \"p\": 27976, \"fpr\": 0.9727852852852853, \"tpr\": 0.997748069774092, \"n\": 5328}, {\"threshold\": 0.38, \"p\": 27976, \"fpr\": 0.9727852852852853, \"tpr\": 0.997748069774092, \"n\": 5328}, {\"threshold\": 0.381, \"p\": 27976, \"fpr\": 0.9727852852852853, \"tpr\": 0.997748069774092, \"n\": 5328}, {\"threshold\": 0.382, \"p\": 27976, \"fpr\": 0.9727852852852853, \"tpr\": 0.997748069774092, \"n\": 5328}, {\"threshold\": 0.383, \"p\": 27976, \"fpr\": 0.9727852852852853, \"tpr\": 0.997748069774092, \"n\": 5328}, {\"threshold\": 0.384, \"p\": 27976, \"fpr\": 0.9727852852852853, \"tpr\": 0.997748069774092, \"n\": 5328}, {\"threshold\": 0.385, \"p\": 27976, \"fpr\": 0.9727852852852853, \"tpr\": 0.997748069774092, \"n\": 5328}, {\"threshold\": 0.386, \"p\": 27976, \"fpr\": 0.9727852852852853, \"tpr\": 0.997748069774092, \"n\": 5328}, {\"threshold\": 0.387, \"p\": 27976, \"fpr\": 0.9727852852852853, \"tpr\": 0.997748069774092, \"n\": 5328}, {\"threshold\": 0.388, \"p\": 27976, \"fpr\": 0.9727852852852853, \"tpr\": 0.997748069774092, \"n\": 5328}, {\"threshold\": 0.389, \"p\": 27976, \"fpr\": 0.9727852852852853, \"tpr\": 0.997748069774092, \"n\": 5328}, {\"threshold\": 0.39, \"p\": 27976, \"fpr\": 0.9727852852852853, \"tpr\": 0.997748069774092, \"n\": 5328}, {\"threshold\": 0.391, \"p\": 27976, \"fpr\": 0.9727852852852853, \"tpr\": 0.997748069774092, \"n\": 5328}, {\"threshold\": 0.392, \"p\": 27976, \"fpr\": 0.9727852852852853, \"tpr\": 0.997748069774092, \"n\": 5328}, {\"threshold\": 0.393, \"p\": 27976, \"fpr\": 0.9727852852852853, \"tpr\": 0.997748069774092, \"n\": 5328}, {\"threshold\": 0.394, \"p\": 27976, \"fpr\": 0.9727852852852853, \"tpr\": 0.997748069774092, \"n\": 5328}, {\"threshold\": 0.395, \"p\": 27976, \"fpr\": 0.9727852852852853, \"tpr\": 0.997748069774092, \"n\": 5328}, {\"threshold\": 0.396, \"p\": 27976, \"fpr\": 0.9727852852852853, \"tpr\": 0.997748069774092, \"n\": 5328}, {\"threshold\": 0.397, \"p\": 27976, \"fpr\": 0.9727852852852853, \"tpr\": 0.997748069774092, \"n\": 5328}, {\"threshold\": 0.398, \"p\": 27976, \"fpr\": 0.9727852852852853, \"tpr\": 0.997748069774092, \"n\": 5328}, {\"threshold\": 0.399, \"p\": 27976, \"fpr\": 0.9727852852852853, \"tpr\": 0.997748069774092, \"n\": 5328}, {\"threshold\": 0.4, \"p\": 27976, \"fpr\": 0.9727852852852853, \"tpr\": 0.997748069774092, \"n\": 5328}, {\"threshold\": 0.401, \"p\": 27976, \"fpr\": 0.9727852852852853, \"tpr\": 0.997748069774092, \"n\": 5328}, {\"threshold\": 0.402, \"p\": 27976, \"fpr\": 0.9680930930930931, \"tpr\": 0.9972476408350014, \"n\": 5328}, {\"threshold\": 0.403, \"p\": 27976, \"fpr\": 0.9680930930930931, \"tpr\": 0.9972476408350014, \"n\": 5328}, {\"threshold\": 0.404, \"p\": 27976, \"fpr\": 0.9680930930930931, \"tpr\": 0.9972476408350014, \"n\": 5328}, {\"threshold\": 0.405, \"p\": 27976, \"fpr\": 0.9680930930930931, \"tpr\": 0.9972476408350014, \"n\": 5328}, {\"threshold\": 0.406, \"p\": 27976, \"fpr\": 0.9680930930930931, \"tpr\": 0.9972476408350014, \"n\": 5328}, {\"threshold\": 0.407, \"p\": 27976, \"fpr\": 0.9680930930930931, \"tpr\": 0.9972476408350014, \"n\": 5328}, {\"threshold\": 0.408, \"p\": 27976, \"fpr\": 0.9680930930930931, \"tpr\": 0.9972476408350014, \"n\": 5328}, {\"threshold\": 0.409, \"p\": 27976, \"fpr\": 0.9680930930930931, \"tpr\": 0.9972476408350014, \"n\": 5328}, {\"threshold\": 0.41, \"p\": 27976, \"fpr\": 0.9680930930930931, \"tpr\": 0.9972476408350014, \"n\": 5328}, {\"threshold\": 0.411, \"p\": 27976, \"fpr\": 0.9680930930930931, \"tpr\": 0.9972476408350014, \"n\": 5328}, {\"threshold\": 0.412, \"p\": 27976, \"fpr\": 0.9680930930930931, \"tpr\": 0.9972476408350014, \"n\": 5328}, {\"threshold\": 0.413, \"p\": 27976, \"fpr\": 0.9680930930930931, \"tpr\": 0.9972476408350014, \"n\": 5328}, {\"threshold\": 0.414, \"p\": 27976, \"fpr\": 0.9680930930930931, \"tpr\": 0.9972476408350014, \"n\": 5328}, {\"threshold\": 0.415, \"p\": 27976, \"fpr\": 0.9680930930930931, \"tpr\": 0.9972476408350014, \"n\": 5328}, {\"threshold\": 0.416, \"p\": 27976, \"fpr\": 0.9680930930930931, \"tpr\": 0.9972476408350014, \"n\": 5328}, {\"threshold\": 0.417, \"p\": 27976, \"fpr\": 0.9680930930930931, \"tpr\": 0.9972476408350014, \"n\": 5328}, {\"threshold\": 0.418, \"p\": 27976, \"fpr\": 0.9680930930930931, \"tpr\": 0.9972476408350014, \"n\": 5328}, {\"threshold\": 0.419, \"p\": 27976, \"fpr\": 0.9680930930930931, \"tpr\": 0.9972476408350014, \"n\": 5328}, {\"threshold\": 0.42, \"p\": 27976, \"fpr\": 0.9680930930930931, \"tpr\": 0.9972476408350014, \"n\": 5328}, {\"threshold\": 0.421, \"p\": 27976, \"fpr\": 0.9680930930930931, \"tpr\": 0.9972476408350014, \"n\": 5328}, {\"threshold\": 0.422, \"p\": 27976, \"fpr\": 0.9680930930930931, \"tpr\": 0.9972476408350014, \"n\": 5328}, {\"threshold\": 0.423, \"p\": 27976, \"fpr\": 0.9680930930930931, \"tpr\": 0.9972476408350014, \"n\": 5328}, {\"threshold\": 0.424, \"p\": 27976, \"fpr\": 0.9680930930930931, \"tpr\": 0.9972476408350014, \"n\": 5328}, {\"threshold\": 0.425, \"p\": 27976, \"fpr\": 0.9680930930930931, \"tpr\": 0.9972476408350014, \"n\": 5328}, {\"threshold\": 0.426, \"p\": 27976, \"fpr\": 0.9680930930930931, \"tpr\": 0.9972476408350014, \"n\": 5328}, {\"threshold\": 0.427, \"p\": 27976, \"fpr\": 0.9680930930930931, \"tpr\": 0.9972476408350014, \"n\": 5328}, {\"threshold\": 0.428, \"p\": 27976, \"fpr\": 0.9680930930930931, \"tpr\": 0.9972476408350014, \"n\": 5328}, {\"threshold\": 0.429, \"p\": 27976, \"fpr\": 0.9680930930930931, \"tpr\": 0.9972476408350014, \"n\": 5328}, {\"threshold\": 0.43, \"p\": 27976, \"fpr\": 0.9680930930930931, \"tpr\": 0.9972476408350014, \"n\": 5328}, {\"threshold\": 0.431, \"p\": 27976, \"fpr\": 0.9680930930930931, \"tpr\": 0.9972476408350014, \"n\": 5328}, {\"threshold\": 0.432, \"p\": 27976, \"fpr\": 0.9680930930930931, \"tpr\": 0.9972476408350014, \"n\": 5328}, {\"threshold\": 0.433, \"p\": 27976, \"fpr\": 0.9680930930930931, \"tpr\": 0.9972476408350014, \"n\": 5328}, {\"threshold\": 0.434, \"p\": 27976, \"fpr\": 0.9680930930930931, \"tpr\": 0.9972476408350014, \"n\": 5328}, {\"threshold\": 0.435, \"p\": 27976, \"fpr\": 0.9680930930930931, \"tpr\": 0.9972476408350014, \"n\": 5328}, {\"threshold\": 0.436, \"p\": 27976, \"fpr\": 0.9680930930930931, \"tpr\": 0.9972476408350014, \"n\": 5328}, {\"threshold\": 0.437, \"p\": 27976, \"fpr\": 0.9680930930930931, \"tpr\": 0.9972476408350014, \"n\": 5328}, {\"threshold\": 0.438, \"p\": 27976, \"fpr\": 0.9680930930930931, \"tpr\": 0.9972476408350014, \"n\": 5328}, {\"threshold\": 0.439, \"p\": 27976, \"fpr\": 0.9680930930930931, \"tpr\": 0.9972476408350014, \"n\": 5328}, {\"threshold\": 0.44, \"p\": 27976, \"fpr\": 0.9680930930930931, \"tpr\": 0.9972476408350014, \"n\": 5328}, {\"threshold\": 0.441, \"p\": 27976, \"fpr\": 0.9680930930930931, \"tpr\": 0.9972476408350014, \"n\": 5328}, {\"threshold\": 0.442, \"p\": 27976, \"fpr\": 0.9680930930930931, \"tpr\": 0.9972476408350014, \"n\": 5328}, {\"threshold\": 0.443, \"p\": 27976, \"fpr\": 0.9680930930930931, \"tpr\": 0.9972476408350014, \"n\": 5328}, {\"threshold\": 0.444, \"p\": 27976, \"fpr\": 0.9680930930930931, \"tpr\": 0.9972476408350014, \"n\": 5328}, {\"threshold\": 0.445, \"p\": 27976, \"fpr\": 0.9680930930930931, \"tpr\": 0.9972476408350014, \"n\": 5328}, {\"threshold\": 0.446, \"p\": 27976, \"fpr\": 0.9680930930930931, \"tpr\": 0.9972476408350014, \"n\": 5328}, {\"threshold\": 0.447, \"p\": 27976, \"fpr\": 0.9680930930930931, \"tpr\": 0.9972476408350014, \"n\": 5328}, {\"threshold\": 0.448, \"p\": 27976, \"fpr\": 0.9680930930930931, \"tpr\": 0.9972476408350014, \"n\": 5328}, {\"threshold\": 0.449, \"p\": 27976, \"fpr\": 0.9680930930930931, \"tpr\": 0.9972476408350014, \"n\": 5328}, {\"threshold\": 0.45, \"p\": 27976, \"fpr\": 0.9680930930930931, \"tpr\": 0.9972476408350014, \"n\": 5328}, {\"threshold\": 0.451, \"p\": 27976, \"fpr\": 0.9680930930930931, \"tpr\": 0.9972476408350014, \"n\": 5328}, {\"threshold\": 0.452, \"p\": 27976, \"fpr\": 0.9680930930930931, \"tpr\": 0.9972476408350014, \"n\": 5328}, {\"threshold\": 0.453, \"p\": 27976, \"fpr\": 0.9680930930930931, \"tpr\": 0.9972476408350014, \"n\": 5328}, {\"threshold\": 0.454, \"p\": 27976, \"fpr\": 0.9680930930930931, \"tpr\": 0.9972476408350014, \"n\": 5328}, {\"threshold\": 0.455, \"p\": 27976, \"fpr\": 0.9680930930930931, \"tpr\": 0.9972476408350014, \"n\": 5328}, {\"threshold\": 0.456, \"p\": 27976, \"fpr\": 0.9680930930930931, \"tpr\": 0.9972476408350014, \"n\": 5328}, {\"threshold\": 0.457, \"p\": 27976, \"fpr\": 0.9680930930930931, \"tpr\": 0.9972476408350014, \"n\": 5328}, {\"threshold\": 0.458, \"p\": 27976, \"fpr\": 0.9680930930930931, \"tpr\": 0.9972476408350014, \"n\": 5328}, {\"threshold\": 0.459, \"p\": 27976, \"fpr\": 0.9680930930930931, \"tpr\": 0.9972476408350014, \"n\": 5328}, {\"threshold\": 0.46, \"p\": 27976, \"fpr\": 0.9680930930930931, \"tpr\": 0.9972476408350014, \"n\": 5328}, {\"threshold\": 0.461, \"p\": 27976, \"fpr\": 0.9680930930930931, \"tpr\": 0.9972476408350014, \"n\": 5328}, {\"threshold\": 0.462, \"p\": 27976, \"fpr\": 0.9680930930930931, \"tpr\": 0.9972118959107806, \"n\": 5328}, {\"threshold\": 0.463, \"p\": 27976, \"fpr\": 0.9680930930930931, \"tpr\": 0.9972118959107806, \"n\": 5328}, {\"threshold\": 0.464, \"p\": 27976, \"fpr\": 0.9680930930930931, \"tpr\": 0.9972118959107806, \"n\": 5328}, {\"threshold\": 0.465, \"p\": 27976, \"fpr\": 0.9680930930930931, \"tpr\": 0.9971761509865599, \"n\": 5328}, {\"threshold\": 0.466, \"p\": 27976, \"fpr\": 0.9680930930930931, \"tpr\": 0.9971761509865599, \"n\": 5328}, {\"threshold\": 0.467, \"p\": 27976, \"fpr\": 0.9680930930930931, \"tpr\": 0.9971761509865599, \"n\": 5328}, {\"threshold\": 0.468, \"p\": 27976, \"fpr\": 0.9679054054054054, \"tpr\": 0.9971761509865599, \"n\": 5328}, {\"threshold\": 0.469, \"p\": 27976, \"fpr\": 0.9679054054054054, \"tpr\": 0.9971761509865599, \"n\": 5328}, {\"threshold\": 0.47, \"p\": 27976, \"fpr\": 0.9679054054054054, \"tpr\": 0.9971761509865599, \"n\": 5328}, {\"threshold\": 0.471, \"p\": 27976, \"fpr\": 0.9679054054054054, \"tpr\": 0.9971761509865599, \"n\": 5328}, {\"threshold\": 0.472, \"p\": 27976, \"fpr\": 0.9679054054054054, \"tpr\": 0.9971761509865599, \"n\": 5328}, {\"threshold\": 0.473, \"p\": 27976, \"fpr\": 0.9679054054054054, \"tpr\": 0.9971761509865599, \"n\": 5328}, {\"threshold\": 0.474, \"p\": 27976, \"fpr\": 0.9679054054054054, \"tpr\": 0.9971761509865599, \"n\": 5328}, {\"threshold\": 0.475, \"p\": 27976, \"fpr\": 0.9679054054054054, \"tpr\": 0.9971761509865599, \"n\": 5328}, {\"threshold\": 0.476, \"p\": 27976, \"fpr\": 0.9679054054054054, \"tpr\": 0.9971761509865599, \"n\": 5328}, {\"threshold\": 0.477, \"p\": 27976, \"fpr\": 0.9679054054054054, \"tpr\": 0.9971761509865599, \"n\": 5328}, {\"threshold\": 0.478, \"p\": 27976, \"fpr\": 0.9679054054054054, \"tpr\": 0.9971761509865599, \"n\": 5328}, {\"threshold\": 0.479, \"p\": 27976, \"fpr\": 0.9679054054054054, \"tpr\": 0.9971761509865599, \"n\": 5328}, {\"threshold\": 0.48, \"p\": 27976, \"fpr\": 0.9679054054054054, \"tpr\": 0.9971761509865599, \"n\": 5328}, {\"threshold\": 0.481, \"p\": 27976, \"fpr\": 0.9679054054054054, \"tpr\": 0.9971761509865599, \"n\": 5328}, {\"threshold\": 0.482, \"p\": 27976, \"fpr\": 0.9679054054054054, \"tpr\": 0.9971761509865599, \"n\": 5328}, {\"threshold\": 0.483, \"p\": 27976, \"fpr\": 0.9679054054054054, \"tpr\": 0.9971761509865599, \"n\": 5328}, {\"threshold\": 0.484, \"p\": 27976, \"fpr\": 0.9679054054054054, \"tpr\": 0.9971761509865599, \"n\": 5328}, {\"threshold\": 0.485, \"p\": 27976, \"fpr\": 0.9679054054054054, \"tpr\": 0.9971761509865599, \"n\": 5328}, {\"threshold\": 0.486, \"p\": 27976, \"fpr\": 0.9679054054054054, \"tpr\": 0.9971761509865599, \"n\": 5328}, {\"threshold\": 0.487, \"p\": 27976, \"fpr\": 0.9679054054054054, \"tpr\": 0.9971761509865599, \"n\": 5328}, {\"threshold\": 0.488, \"p\": 27976, \"fpr\": 0.9673423423423423, \"tpr\": 0.9971046611381184, \"n\": 5328}, {\"threshold\": 0.489, \"p\": 27976, \"fpr\": 0.9673423423423423, \"tpr\": 0.9971046611381184, \"n\": 5328}, {\"threshold\": 0.49, \"p\": 27976, \"fpr\": 0.9562687687687688, \"tpr\": 0.9953531598513011, \"n\": 5328}, {\"threshold\": 0.491, \"p\": 27976, \"fpr\": 0.9562687687687688, \"tpr\": 0.9953531598513011, \"n\": 5328}, {\"threshold\": 0.492, \"p\": 27976, \"fpr\": 0.9562687687687688, \"tpr\": 0.9953531598513011, \"n\": 5328}, {\"threshold\": 0.493, \"p\": 27976, \"fpr\": 0.9562687687687688, \"tpr\": 0.9953531598513011, \"n\": 5328}, {\"threshold\": 0.494, \"p\": 27976, \"fpr\": 0.9562687687687688, \"tpr\": 0.9953531598513011, \"n\": 5328}, {\"threshold\": 0.495, \"p\": 27976, \"fpr\": 0.9562687687687688, \"tpr\": 0.9953531598513011, \"n\": 5328}, {\"threshold\": 0.496, \"p\": 27976, \"fpr\": 0.9562687687687688, \"tpr\": 0.9953531598513011, \"n\": 5328}, {\"threshold\": 0.497, \"p\": 27976, \"fpr\": 0.956081081081081, \"tpr\": 0.9953531598513011, \"n\": 5328}, {\"threshold\": 0.498, \"p\": 27976, \"fpr\": 0.956081081081081, \"tpr\": 0.9953531598513011, \"n\": 5328}, {\"threshold\": 0.499, \"p\": 27976, \"fpr\": 0.956081081081081, \"tpr\": 0.9953531598513011, \"n\": 5328}, {\"threshold\": 0.5, \"p\": 27976, \"fpr\": 0.956081081081081, \"tpr\": 0.9953531598513011, \"n\": 5328}, {\"threshold\": 0.501, \"p\": 27976, \"fpr\": 0.956081081081081, \"tpr\": 0.9953531598513011, \"n\": 5328}, {\"threshold\": 0.502, \"p\": 27976, \"fpr\": 0.956081081081081, \"tpr\": 0.9953531598513011, \"n\": 5328}, {\"threshold\": 0.503, \"p\": 27976, \"fpr\": 0.956081081081081, \"tpr\": 0.9953531598513011, \"n\": 5328}, {\"threshold\": 0.504, \"p\": 27976, \"fpr\": 0.956081081081081, \"tpr\": 0.9953531598513011, \"n\": 5328}, {\"threshold\": 0.505, \"p\": 27976, \"fpr\": 0.956081081081081, \"tpr\": 0.9953531598513011, \"n\": 5328}, {\"threshold\": 0.506, \"p\": 27976, \"fpr\": 0.956081081081081, \"tpr\": 0.9953531598513011, \"n\": 5328}, {\"threshold\": 0.507, \"p\": 27976, \"fpr\": 0.956081081081081, \"tpr\": 0.9953531598513011, \"n\": 5328}, {\"threshold\": 0.508, \"p\": 27976, \"fpr\": 0.956081081081081, \"tpr\": 0.9953531598513011, \"n\": 5328}, {\"threshold\": 0.509, \"p\": 27976, \"fpr\": 0.956081081081081, \"tpr\": 0.9953531598513011, \"n\": 5328}, {\"threshold\": 0.51, \"p\": 27976, \"fpr\": 0.956081081081081, \"tpr\": 0.9953531598513011, \"n\": 5328}, {\"threshold\": 0.511, \"p\": 27976, \"fpr\": 0.956081081081081, \"tpr\": 0.9953531598513011, \"n\": 5328}, {\"threshold\": 0.512, \"p\": 27976, \"fpr\": 0.956081081081081, \"tpr\": 0.9953531598513011, \"n\": 5328}, {\"threshold\": 0.513, \"p\": 27976, \"fpr\": 0.956081081081081, \"tpr\": 0.9953531598513011, \"n\": 5328}, {\"threshold\": 0.514, \"p\": 27976, \"fpr\": 0.956081081081081, \"tpr\": 0.9953531598513011, \"n\": 5328}, {\"threshold\": 0.515, \"p\": 27976, \"fpr\": 0.956081081081081, \"tpr\": 0.9953531598513011, \"n\": 5328}, {\"threshold\": 0.516, \"p\": 27976, \"fpr\": 0.956081081081081, \"tpr\": 0.9953531598513011, \"n\": 5328}, {\"threshold\": 0.517, \"p\": 27976, \"fpr\": 0.956081081081081, \"tpr\": 0.9953531598513011, \"n\": 5328}, {\"threshold\": 0.518, \"p\": 27976, \"fpr\": 0.956081081081081, \"tpr\": 0.9953531598513011, \"n\": 5328}, {\"threshold\": 0.519, \"p\": 27976, \"fpr\": 0.956081081081081, \"tpr\": 0.9953531598513011, \"n\": 5328}, {\"threshold\": 0.52, \"p\": 27976, \"fpr\": 0.956081081081081, \"tpr\": 0.9953531598513011, \"n\": 5328}, {\"threshold\": 0.521, \"p\": 27976, \"fpr\": 0.956081081081081, \"tpr\": 0.9953531598513011, \"n\": 5328}, {\"threshold\": 0.522, \"p\": 27976, \"fpr\": 0.956081081081081, \"tpr\": 0.9953531598513011, \"n\": 5328}, {\"threshold\": 0.523, \"p\": 27976, \"fpr\": 0.956081081081081, \"tpr\": 0.9953531598513011, \"n\": 5328}, {\"threshold\": 0.524, \"p\": 27976, \"fpr\": 0.956081081081081, \"tpr\": 0.9953531598513011, \"n\": 5328}, {\"threshold\": 0.525, \"p\": 27976, \"fpr\": 0.956081081081081, \"tpr\": 0.9953531598513011, \"n\": 5328}, {\"threshold\": 0.526, \"p\": 27976, \"fpr\": 0.956081081081081, \"tpr\": 0.9953531598513011, \"n\": 5328}, {\"threshold\": 0.527, \"p\": 27976, \"fpr\": 0.956081081081081, \"tpr\": 0.9953531598513011, \"n\": 5328}, {\"threshold\": 0.528, \"p\": 27976, \"fpr\": 0.956081081081081, \"tpr\": 0.9953531598513011, \"n\": 5328}, {\"threshold\": 0.529, \"p\": 27976, \"fpr\": 0.956081081081081, \"tpr\": 0.9953531598513011, \"n\": 5328}, {\"threshold\": 0.53, \"p\": 27976, \"fpr\": 0.956081081081081, \"tpr\": 0.9953531598513011, \"n\": 5328}, {\"threshold\": 0.531, \"p\": 27976, \"fpr\": 0.956081081081081, \"tpr\": 0.9953531598513011, \"n\": 5328}, {\"threshold\": 0.532, \"p\": 27976, \"fpr\": 0.956081081081081, \"tpr\": 0.9953531598513011, \"n\": 5328}, {\"threshold\": 0.533, \"p\": 27976, \"fpr\": 0.956081081081081, \"tpr\": 0.9953531598513011, \"n\": 5328}, {\"threshold\": 0.534, \"p\": 27976, \"fpr\": 0.956081081081081, \"tpr\": 0.9953531598513011, \"n\": 5328}, {\"threshold\": 0.535, \"p\": 27976, \"fpr\": 0.956081081081081, \"tpr\": 0.9953531598513011, \"n\": 5328}, {\"threshold\": 0.536, \"p\": 27976, \"fpr\": 0.956081081081081, \"tpr\": 0.9953531598513011, \"n\": 5328}, {\"threshold\": 0.537, \"p\": 27976, \"fpr\": 0.956081081081081, \"tpr\": 0.9953531598513011, \"n\": 5328}, {\"threshold\": 0.538, \"p\": 27976, \"fpr\": 0.956081081081081, \"tpr\": 0.9953531598513011, \"n\": 5328}, {\"threshold\": 0.539, \"p\": 27976, \"fpr\": 0.956081081081081, \"tpr\": 0.9953531598513011, \"n\": 5328}, {\"threshold\": 0.54, \"p\": 27976, \"fpr\": 0.956081081081081, \"tpr\": 0.9953531598513011, \"n\": 5328}, {\"threshold\": 0.541, \"p\": 27976, \"fpr\": 0.954954954954955, \"tpr\": 0.9951744352301973, \"n\": 5328}, {\"threshold\": 0.542, \"p\": 27976, \"fpr\": 0.954954954954955, \"tpr\": 0.9951744352301973, \"n\": 5328}, {\"threshold\": 0.543, \"p\": 27976, \"fpr\": 0.954954954954955, \"tpr\": 0.9951386903059766, \"n\": 5328}, {\"threshold\": 0.544, \"p\": 27976, \"fpr\": 0.954954954954955, \"tpr\": 0.9951386903059766, \"n\": 5328}, {\"threshold\": 0.545, \"p\": 27976, \"fpr\": 0.954954954954955, \"tpr\": 0.9951386903059766, \"n\": 5328}, {\"threshold\": 0.546, \"p\": 27976, \"fpr\": 0.954954954954955, \"tpr\": 0.9951386903059766, \"n\": 5328}, {\"threshold\": 0.547, \"p\": 27976, \"fpr\": 0.954954954954955, \"tpr\": 0.9951386903059766, \"n\": 5328}, {\"threshold\": 0.548, \"p\": 27976, \"fpr\": 0.954954954954955, \"tpr\": 0.9951386903059766, \"n\": 5328}, {\"threshold\": 0.549, \"p\": 27976, \"fpr\": 0.954954954954955, \"tpr\": 0.9951386903059766, \"n\": 5328}, {\"threshold\": 0.55, \"p\": 27976, \"fpr\": 0.954954954954955, \"tpr\": 0.9951386903059766, \"n\": 5328}, {\"threshold\": 0.551, \"p\": 27976, \"fpr\": 0.954954954954955, \"tpr\": 0.9951386903059766, \"n\": 5328}, {\"threshold\": 0.552, \"p\": 27976, \"fpr\": 0.954954954954955, \"tpr\": 0.9951386903059766, \"n\": 5328}, {\"threshold\": 0.553, \"p\": 27976, \"fpr\": 0.954954954954955, \"tpr\": 0.9951386903059766, \"n\": 5328}, {\"threshold\": 0.554, \"p\": 27976, \"fpr\": 0.954954954954955, \"tpr\": 0.9951386903059766, \"n\": 5328}, {\"threshold\": 0.555, \"p\": 27976, \"fpr\": 0.954954954954955, \"tpr\": 0.9951386903059766, \"n\": 5328}, {\"threshold\": 0.556, \"p\": 27976, \"fpr\": 0.954954954954955, \"tpr\": 0.9951386903059766, \"n\": 5328}, {\"threshold\": 0.557, \"p\": 27976, \"fpr\": 0.954954954954955, \"tpr\": 0.9951386903059766, \"n\": 5328}, {\"threshold\": 0.558, \"p\": 27976, \"fpr\": 0.954954954954955, \"tpr\": 0.9951386903059766, \"n\": 5328}, {\"threshold\": 0.559, \"p\": 27976, \"fpr\": 0.954954954954955, \"tpr\": 0.9951386903059766, \"n\": 5328}, {\"threshold\": 0.56, \"p\": 27976, \"fpr\": 0.954954954954955, \"tpr\": 0.9951386903059766, \"n\": 5328}, {\"threshold\": 0.561, \"p\": 27976, \"fpr\": 0.954954954954955, \"tpr\": 0.9951386903059766, \"n\": 5328}, {\"threshold\": 0.562, \"p\": 27976, \"fpr\": 0.954954954954955, \"tpr\": 0.9951386903059766, \"n\": 5328}, {\"threshold\": 0.563, \"p\": 27976, \"fpr\": 0.954954954954955, \"tpr\": 0.9951386903059766, \"n\": 5328}, {\"threshold\": 0.564, \"p\": 27976, \"fpr\": 0.9538288288288288, \"tpr\": 0.9949957106090935, \"n\": 5328}, {\"threshold\": 0.565, \"p\": 27976, \"fpr\": 0.9538288288288288, \"tpr\": 0.9949957106090935, \"n\": 5328}, {\"threshold\": 0.566, \"p\": 27976, \"fpr\": 0.9538288288288288, \"tpr\": 0.9949599656848728, \"n\": 5328}, {\"threshold\": 0.567, \"p\": 27976, \"fpr\": 0.9538288288288288, \"tpr\": 0.9949599656848728, \"n\": 5328}, {\"threshold\": 0.568, \"p\": 27976, \"fpr\": 0.9538288288288288, \"tpr\": 0.9949599656848728, \"n\": 5328}, {\"threshold\": 0.569, \"p\": 27976, \"fpr\": 0.9538288288288288, \"tpr\": 0.9949599656848728, \"n\": 5328}, {\"threshold\": 0.57, \"p\": 27976, \"fpr\": 0.9538288288288288, \"tpr\": 0.9948527309122105, \"n\": 5328}, {\"threshold\": 0.571, \"p\": 27976, \"fpr\": 0.9538288288288288, \"tpr\": 0.9948527309122105, \"n\": 5328}, {\"threshold\": 0.572, \"p\": 27976, \"fpr\": 0.9538288288288288, \"tpr\": 0.9948527309122105, \"n\": 5328}, {\"threshold\": 0.573, \"p\": 27976, \"fpr\": 0.9538288288288288, \"tpr\": 0.9948527309122105, \"n\": 5328}, {\"threshold\": 0.574, \"p\": 27976, \"fpr\": 0.9538288288288288, \"tpr\": 0.9948527309122105, \"n\": 5328}, {\"threshold\": 0.575, \"p\": 27976, \"fpr\": 0.9538288288288288, \"tpr\": 0.9948527309122105, \"n\": 5328}, {\"threshold\": 0.576, \"p\": 27976, \"fpr\": 0.9538288288288288, \"tpr\": 0.9948527309122105, \"n\": 5328}, {\"threshold\": 0.577, \"p\": 27976, \"fpr\": 0.9538288288288288, \"tpr\": 0.9948527309122105, \"n\": 5328}, {\"threshold\": 0.578, \"p\": 27976, \"fpr\": 0.9538288288288288, \"tpr\": 0.9948527309122105, \"n\": 5328}, {\"threshold\": 0.579, \"p\": 27976, \"fpr\": 0.9538288288288288, \"tpr\": 0.9948527309122105, \"n\": 5328}, {\"threshold\": 0.58, \"p\": 27976, \"fpr\": 0.9538288288288288, \"tpr\": 0.9948527309122105, \"n\": 5328}, {\"threshold\": 0.581, \"p\": 27976, \"fpr\": 0.9538288288288288, \"tpr\": 0.9948527309122105, \"n\": 5328}, {\"threshold\": 0.582, \"p\": 27976, \"fpr\": 0.9538288288288288, \"tpr\": 0.9948169859879897, \"n\": 5328}, {\"threshold\": 0.583, \"p\": 27976, \"fpr\": 0.9538288288288288, \"tpr\": 0.9948169859879897, \"n\": 5328}, {\"threshold\": 0.584, \"p\": 27976, \"fpr\": 0.9538288288288288, \"tpr\": 0.9948169859879897, \"n\": 5328}, {\"threshold\": 0.585, \"p\": 27976, \"fpr\": 0.9538288288288288, \"tpr\": 0.9948169859879897, \"n\": 5328}, {\"threshold\": 0.586, \"p\": 27976, \"fpr\": 0.9538288288288288, \"tpr\": 0.9948169859879897, \"n\": 5328}, {\"threshold\": 0.587, \"p\": 27976, \"fpr\": 0.9538288288288288, \"tpr\": 0.9948169859879897, \"n\": 5328}, {\"threshold\": 0.588, \"p\": 27976, \"fpr\": 0.9538288288288288, \"tpr\": 0.9948169859879897, \"n\": 5328}, {\"threshold\": 0.589, \"p\": 27976, \"fpr\": 0.9538288288288288, \"tpr\": 0.9948169859879897, \"n\": 5328}, {\"threshold\": 0.59, \"p\": 27976, \"fpr\": 0.9538288288288288, \"tpr\": 0.9948169859879897, \"n\": 5328}, {\"threshold\": 0.591, \"p\": 27976, \"fpr\": 0.9538288288288288, \"tpr\": 0.9948169859879897, \"n\": 5328}, {\"threshold\": 0.592, \"p\": 27976, \"fpr\": 0.9536411411411412, \"tpr\": 0.994781241063769, \"n\": 5328}, {\"threshold\": 0.593, \"p\": 27976, \"fpr\": 0.9536411411411412, \"tpr\": 0.994781241063769, \"n\": 5328}, {\"threshold\": 0.594, \"p\": 27976, \"fpr\": 0.9536411411411412, \"tpr\": 0.994781241063769, \"n\": 5328}, {\"threshold\": 0.595, \"p\": 27976, \"fpr\": 0.9294294294294294, \"tpr\": 0.9873820417500715, \"n\": 5328}, {\"threshold\": 0.596, \"p\": 27976, \"fpr\": 0.9294294294294294, \"tpr\": 0.9873820417500715, \"n\": 5328}, {\"threshold\": 0.597, \"p\": 27976, \"fpr\": 0.9294294294294294, \"tpr\": 0.9873820417500715, \"n\": 5328}, {\"threshold\": 0.598, \"p\": 27976, \"fpr\": 0.9294294294294294, \"tpr\": 0.9873820417500715, \"n\": 5328}, {\"threshold\": 0.599, \"p\": 27976, \"fpr\": 0.9294294294294294, \"tpr\": 0.9873820417500715, \"n\": 5328}, {\"threshold\": 0.6, \"p\": 27976, \"fpr\": 0.9294294294294294, \"tpr\": 0.9873820417500715, \"n\": 5328}, {\"threshold\": 0.601, \"p\": 27976, \"fpr\": 0.9294294294294294, \"tpr\": 0.9873820417500715, \"n\": 5328}, {\"threshold\": 0.602, \"p\": 27976, \"fpr\": 0.9294294294294294, \"tpr\": 0.9873820417500715, \"n\": 5328}, {\"threshold\": 0.603, \"p\": 27976, \"fpr\": 0.9294294294294294, \"tpr\": 0.9873820417500715, \"n\": 5328}, {\"threshold\": 0.604, \"p\": 27976, \"fpr\": 0.9294294294294294, \"tpr\": 0.9873820417500715, \"n\": 5328}, {\"threshold\": 0.605, \"p\": 27976, \"fpr\": 0.9294294294294294, \"tpr\": 0.9873820417500715, \"n\": 5328}, {\"threshold\": 0.606, \"p\": 27976, \"fpr\": 0.9294294294294294, \"tpr\": 0.9873820417500715, \"n\": 5328}, {\"threshold\": 0.607, \"p\": 27976, \"fpr\": 0.9294294294294294, \"tpr\": 0.9873820417500715, \"n\": 5328}, {\"threshold\": 0.608, \"p\": 27976, \"fpr\": 0.9294294294294294, \"tpr\": 0.9873820417500715, \"n\": 5328}, {\"threshold\": 0.609, \"p\": 27976, \"fpr\": 0.9294294294294294, \"tpr\": 0.9873820417500715, \"n\": 5328}, {\"threshold\": 0.61, \"p\": 27976, \"fpr\": 0.9294294294294294, \"tpr\": 0.9873820417500715, \"n\": 5328}, {\"threshold\": 0.611, \"p\": 27976, \"fpr\": 0.9294294294294294, \"tpr\": 0.9873820417500715, \"n\": 5328}, {\"threshold\": 0.612, \"p\": 27976, \"fpr\": 0.9294294294294294, \"tpr\": 0.9873820417500715, \"n\": 5328}, {\"threshold\": 0.613, \"p\": 27976, \"fpr\": 0.9294294294294294, \"tpr\": 0.9873820417500715, \"n\": 5328}, {\"threshold\": 0.614, \"p\": 27976, \"fpr\": 0.9294294294294294, \"tpr\": 0.9873820417500715, \"n\": 5328}, {\"threshold\": 0.615, \"p\": 27976, \"fpr\": 0.9294294294294294, \"tpr\": 0.9873820417500715, \"n\": 5328}, {\"threshold\": 0.616, \"p\": 27976, \"fpr\": 0.9294294294294294, \"tpr\": 0.9873820417500715, \"n\": 5328}, {\"threshold\": 0.617, \"p\": 27976, \"fpr\": 0.9294294294294294, \"tpr\": 0.9873820417500715, \"n\": 5328}, {\"threshold\": 0.618, \"p\": 27976, \"fpr\": 0.9294294294294294, \"tpr\": 0.9873820417500715, \"n\": 5328}, {\"threshold\": 0.619, \"p\": 27976, \"fpr\": 0.9294294294294294, \"tpr\": 0.9873820417500715, \"n\": 5328}, {\"threshold\": 0.62, \"p\": 27976, \"fpr\": 0.9294294294294294, \"tpr\": 0.9872390620531885, \"n\": 5328}, {\"threshold\": 0.621, \"p\": 27976, \"fpr\": 0.9294294294294294, \"tpr\": 0.9872390620531885, \"n\": 5328}, {\"threshold\": 0.622, \"p\": 27976, \"fpr\": 0.9294294294294294, \"tpr\": 0.9871675722047469, \"n\": 5328}, {\"threshold\": 0.623, \"p\": 27976, \"fpr\": 0.9294294294294294, \"tpr\": 0.9871675722047469, \"n\": 5328}, {\"threshold\": 0.624, \"p\": 27976, \"fpr\": 0.9294294294294294, \"tpr\": 0.9871675722047469, \"n\": 5328}, {\"threshold\": 0.625, \"p\": 27976, \"fpr\": 0.9294294294294294, \"tpr\": 0.9871675722047469, \"n\": 5328}, {\"threshold\": 0.626, \"p\": 27976, \"fpr\": 0.9294294294294294, \"tpr\": 0.9871675722047469, \"n\": 5328}, {\"threshold\": 0.627, \"p\": 27976, \"fpr\": 0.9294294294294294, \"tpr\": 0.9871675722047469, \"n\": 5328}, {\"threshold\": 0.628, \"p\": 27976, \"fpr\": 0.9294294294294294, \"tpr\": 0.9871675722047469, \"n\": 5328}, {\"threshold\": 0.629, \"p\": 27976, \"fpr\": 0.9294294294294294, \"tpr\": 0.9871675722047469, \"n\": 5328}, {\"threshold\": 0.63, \"p\": 27976, \"fpr\": 0.9294294294294294, \"tpr\": 0.9871675722047469, \"n\": 5328}, {\"threshold\": 0.631, \"p\": 27976, \"fpr\": 0.9294294294294294, \"tpr\": 0.9871675722047469, \"n\": 5328}, {\"threshold\": 0.632, \"p\": 27976, \"fpr\": 0.9294294294294294, \"tpr\": 0.9871675722047469, \"n\": 5328}, {\"threshold\": 0.633, \"p\": 27976, \"fpr\": 0.9294294294294294, \"tpr\": 0.9871675722047469, \"n\": 5328}, {\"threshold\": 0.634, \"p\": 27976, \"fpr\": 0.9294294294294294, \"tpr\": 0.9871675722047469, \"n\": 5328}, {\"threshold\": 0.635, \"p\": 27976, \"fpr\": 0.9294294294294294, \"tpr\": 0.9871675722047469, \"n\": 5328}, {\"threshold\": 0.636, \"p\": 27976, \"fpr\": 0.9294294294294294, \"tpr\": 0.9871675722047469, \"n\": 5328}, {\"threshold\": 0.637, \"p\": 27976, \"fpr\": 0.9294294294294294, \"tpr\": 0.9871675722047469, \"n\": 5328}, {\"threshold\": 0.638, \"p\": 27976, \"fpr\": 0.9294294294294294, \"tpr\": 0.9871675722047469, \"n\": 5328}, {\"threshold\": 0.639, \"p\": 27976, \"fpr\": 0.9294294294294294, \"tpr\": 0.9871675722047469, \"n\": 5328}, {\"threshold\": 0.64, \"p\": 27976, \"fpr\": 0.9294294294294294, \"tpr\": 0.9871675722047469, \"n\": 5328}, {\"threshold\": 0.641, \"p\": 27976, \"fpr\": 0.9294294294294294, \"tpr\": 0.9871675722047469, \"n\": 5328}, {\"threshold\": 0.642, \"p\": 27976, \"fpr\": 0.9294294294294294, \"tpr\": 0.9871675722047469, \"n\": 5328}, {\"threshold\": 0.643, \"p\": 27976, \"fpr\": 0.9294294294294294, \"tpr\": 0.9871675722047469, \"n\": 5328}, {\"threshold\": 0.644, \"p\": 27976, \"fpr\": 0.9294294294294294, \"tpr\": 0.9871675722047469, \"n\": 5328}, {\"threshold\": 0.645, \"p\": 27976, \"fpr\": 0.9294294294294294, \"tpr\": 0.9871675722047469, \"n\": 5328}, {\"threshold\": 0.646, \"p\": 27976, \"fpr\": 0.9294294294294294, \"tpr\": 0.9871675722047469, \"n\": 5328}, {\"threshold\": 0.647, \"p\": 27976, \"fpr\": 0.9294294294294294, \"tpr\": 0.9871675722047469, \"n\": 5328}, {\"threshold\": 0.648, \"p\": 27976, \"fpr\": 0.9294294294294294, \"tpr\": 0.9871675722047469, \"n\": 5328}, {\"threshold\": 0.649, \"p\": 27976, \"fpr\": 0.9294294294294294, \"tpr\": 0.9871675722047469, \"n\": 5328}, {\"threshold\": 0.65, \"p\": 27976, \"fpr\": 0.9294294294294294, \"tpr\": 0.9871675722047469, \"n\": 5328}, {\"threshold\": 0.651, \"p\": 27976, \"fpr\": 0.9294294294294294, \"tpr\": 0.9871675722047469, \"n\": 5328}, {\"threshold\": 0.652, \"p\": 27976, \"fpr\": 0.9294294294294294, \"tpr\": 0.9871675722047469, \"n\": 5328}, {\"threshold\": 0.653, \"p\": 27976, \"fpr\": 0.9294294294294294, \"tpr\": 0.9871675722047469, \"n\": 5328}, {\"threshold\": 0.654, \"p\": 27976, \"fpr\": 0.9294294294294294, \"tpr\": 0.9871675722047469, \"n\": 5328}, {\"threshold\": 0.655, \"p\": 27976, \"fpr\": 0.9294294294294294, \"tpr\": 0.9871675722047469, \"n\": 5328}, {\"threshold\": 0.656, \"p\": 27976, \"fpr\": 0.9294294294294294, \"tpr\": 0.9871675722047469, \"n\": 5328}, {\"threshold\": 0.657, \"p\": 27976, \"fpr\": 0.9294294294294294, \"tpr\": 0.9871675722047469, \"n\": 5328}, {\"threshold\": 0.658, \"p\": 27976, \"fpr\": 0.9294294294294294, \"tpr\": 0.9871675722047469, \"n\": 5328}, {\"threshold\": 0.659, \"p\": 27976, \"fpr\": 0.9294294294294294, \"tpr\": 0.9871675722047469, \"n\": 5328}, {\"threshold\": 0.66, \"p\": 27976, \"fpr\": 0.9294294294294294, \"tpr\": 0.9871318272805262, \"n\": 5328}, {\"threshold\": 0.661, \"p\": 27976, \"fpr\": 0.9294294294294294, \"tpr\": 0.9871318272805262, \"n\": 5328}, {\"threshold\": 0.662, \"p\": 27976, \"fpr\": 0.9294294294294294, \"tpr\": 0.9871318272805262, \"n\": 5328}, {\"threshold\": 0.663, \"p\": 27976, \"fpr\": 0.9290540540540541, \"tpr\": 0.9868458678867601, \"n\": 5328}, {\"threshold\": 0.664, \"p\": 27976, \"fpr\": 0.9290540540540541, \"tpr\": 0.9868458678867601, \"n\": 5328}, {\"threshold\": 0.665, \"p\": 27976, \"fpr\": 0.9290540540540541, \"tpr\": 0.9868458678867601, \"n\": 5328}, {\"threshold\": 0.666, \"p\": 27976, \"fpr\": 0.9290540540540541, \"tpr\": 0.9868458678867601, \"n\": 5328}, {\"threshold\": 0.667, \"p\": 27976, \"fpr\": 0.9290540540540541, \"tpr\": 0.9868458678867601, \"n\": 5328}, {\"threshold\": 0.668, \"p\": 27976, \"fpr\": 0.9290540540540541, \"tpr\": 0.9868458678867601, \"n\": 5328}, {\"threshold\": 0.669, \"p\": 27976, \"fpr\": 0.9290540540540541, \"tpr\": 0.9868101229625393, \"n\": 5328}, {\"threshold\": 0.67, \"p\": 27976, \"fpr\": 0.9290540540540541, \"tpr\": 0.9868101229625393, \"n\": 5328}, {\"threshold\": 0.671, \"p\": 27976, \"fpr\": 0.9290540540540541, \"tpr\": 0.9868101229625393, \"n\": 5328}, {\"threshold\": 0.672, \"p\": 27976, \"fpr\": 0.9290540540540541, \"tpr\": 0.9867743780383186, \"n\": 5328}, {\"threshold\": 0.673, \"p\": 27976, \"fpr\": 0.9290540540540541, \"tpr\": 0.9867743780383186, \"n\": 5328}, {\"threshold\": 0.674, \"p\": 27976, \"fpr\": 0.9290540540540541, \"tpr\": 0.9867743780383186, \"n\": 5328}, {\"threshold\": 0.675, \"p\": 27976, \"fpr\": 0.9290540540540541, \"tpr\": 0.9867743780383186, \"n\": 5328}, {\"threshold\": 0.676, \"p\": 27976, \"fpr\": 0.9290540540540541, \"tpr\": 0.9867743780383186, \"n\": 5328}, {\"threshold\": 0.677, \"p\": 27976, \"fpr\": 0.9290540540540541, \"tpr\": 0.9867743780383186, \"n\": 5328}, {\"threshold\": 0.678, \"p\": 27976, \"fpr\": 0.9290540540540541, \"tpr\": 0.9867743780383186, \"n\": 5328}, {\"threshold\": 0.679, \"p\": 27976, \"fpr\": 0.9290540540540541, \"tpr\": 0.9867743780383186, \"n\": 5328}, {\"threshold\": 0.68, \"p\": 27976, \"fpr\": 0.9290540540540541, \"tpr\": 0.9867743780383186, \"n\": 5328}, {\"threshold\": 0.681, \"p\": 27976, \"fpr\": 0.9290540540540541, \"tpr\": 0.9867743780383186, \"n\": 5328}, {\"threshold\": 0.682, \"p\": 27976, \"fpr\": 0.9290540540540541, \"tpr\": 0.9867743780383186, \"n\": 5328}, {\"threshold\": 0.683, \"p\": 27976, \"fpr\": 0.9290540540540541, \"tpr\": 0.9867743780383186, \"n\": 5328}, {\"threshold\": 0.684, \"p\": 27976, \"fpr\": 0.9290540540540541, \"tpr\": 0.9866313983414355, \"n\": 5328}, {\"threshold\": 0.685, \"p\": 27976, \"fpr\": 0.9290540540540541, \"tpr\": 0.9866313983414355, \"n\": 5328}, {\"threshold\": 0.686, \"p\": 27976, \"fpr\": 0.9290540540540541, \"tpr\": 0.9866313983414355, \"n\": 5328}, {\"threshold\": 0.687, \"p\": 27976, \"fpr\": 0.9290540540540541, \"tpr\": 0.9866313983414355, \"n\": 5328}, {\"threshold\": 0.688, \"p\": 27976, \"fpr\": 0.9290540540540541, \"tpr\": 0.9866313983414355, \"n\": 5328}, {\"threshold\": 0.689, \"p\": 27976, \"fpr\": 0.9290540540540541, \"tpr\": 0.9866313983414355, \"n\": 5328}, {\"threshold\": 0.69, \"p\": 27976, \"fpr\": 0.9290540540540541, \"tpr\": 0.986559908492994, \"n\": 5328}, {\"threshold\": 0.691, \"p\": 27976, \"fpr\": 0.9290540540540541, \"tpr\": 0.986559908492994, \"n\": 5328}, {\"threshold\": 0.692, \"p\": 27976, \"fpr\": 0.9290540540540541, \"tpr\": 0.986559908492994, \"n\": 5328}, {\"threshold\": 0.693, \"p\": 27976, \"fpr\": 0.9290540540540541, \"tpr\": 0.986559908492994, \"n\": 5328}, {\"threshold\": 0.694, \"p\": 27976, \"fpr\": 0.9290540540540541, \"tpr\": 0.986559908492994, \"n\": 5328}, {\"threshold\": 0.695, \"p\": 27976, \"fpr\": 0.9290540540540541, \"tpr\": 0.986559908492994, \"n\": 5328}, {\"threshold\": 0.696, \"p\": 27976, \"fpr\": 0.9290540540540541, \"tpr\": 0.986559908492994, \"n\": 5328}, {\"threshold\": 0.697, \"p\": 27976, \"fpr\": 0.9290540540540541, \"tpr\": 0.986559908492994, \"n\": 5328}, {\"threshold\": 0.698, \"p\": 27976, \"fpr\": 0.9290540540540541, \"tpr\": 0.986559908492994, \"n\": 5328}, {\"threshold\": 0.699, \"p\": 27976, \"fpr\": 0.9271771771771772, \"tpr\": 0.9861309694023449, \"n\": 5328}, {\"threshold\": 0.7, \"p\": 27976, \"fpr\": 0.9271771771771772, \"tpr\": 0.9861309694023449, \"n\": 5328}, {\"threshold\": 0.701, \"p\": 27976, \"fpr\": 0.9271771771771772, \"tpr\": 0.9860594795539034, \"n\": 5328}, {\"threshold\": 0.702, \"p\": 27976, \"fpr\": 0.9271771771771772, \"tpr\": 0.9860594795539034, \"n\": 5328}, {\"threshold\": 0.703, \"p\": 27976, \"fpr\": 0.9271771771771772, \"tpr\": 0.9860594795539034, \"n\": 5328}, {\"threshold\": 0.704, \"p\": 27976, \"fpr\": 0.9271771771771772, \"tpr\": 0.9860594795539034, \"n\": 5328}, {\"threshold\": 0.705, \"p\": 27976, \"fpr\": 0.9271771771771772, \"tpr\": 0.9860594795539034, \"n\": 5328}, {\"threshold\": 0.706, \"p\": 27976, \"fpr\": 0.9271771771771772, \"tpr\": 0.9860594795539034, \"n\": 5328}, {\"threshold\": 0.707, \"p\": 27976, \"fpr\": 0.9271771771771772, \"tpr\": 0.9860594795539034, \"n\": 5328}, {\"threshold\": 0.708, \"p\": 27976, \"fpr\": 0.9271771771771772, \"tpr\": 0.9860594795539034, \"n\": 5328}, {\"threshold\": 0.709, \"p\": 27976, \"fpr\": 0.9271771771771772, \"tpr\": 0.9860594795539034, \"n\": 5328}, {\"threshold\": 0.71, \"p\": 27976, \"fpr\": 0.9271771771771772, \"tpr\": 0.9860594795539034, \"n\": 5328}, {\"threshold\": 0.711, \"p\": 27976, \"fpr\": 0.9271771771771772, \"tpr\": 0.9860594795539034, \"n\": 5328}, {\"threshold\": 0.712, \"p\": 27976, \"fpr\": 0.9271771771771772, \"tpr\": 0.9860594795539034, \"n\": 5328}, {\"threshold\": 0.713, \"p\": 27976, \"fpr\": 0.9271771771771772, \"tpr\": 0.9860594795539034, \"n\": 5328}, {\"threshold\": 0.714, \"p\": 27976, \"fpr\": 0.9271771771771772, \"tpr\": 0.9860594795539034, \"n\": 5328}, {\"threshold\": 0.715, \"p\": 27976, \"fpr\": 0.9271771771771772, \"tpr\": 0.9860594795539034, \"n\": 5328}, {\"threshold\": 0.716, \"p\": 27976, \"fpr\": 0.9271771771771772, \"tpr\": 0.9860594795539034, \"n\": 5328}, {\"threshold\": 0.717, \"p\": 27976, \"fpr\": 0.9271771771771772, \"tpr\": 0.9860594795539034, \"n\": 5328}, {\"threshold\": 0.718, \"p\": 27976, \"fpr\": 0.9271771771771772, \"tpr\": 0.9860594795539034, \"n\": 5328}, {\"threshold\": 0.719, \"p\": 27976, \"fpr\": 0.9271771771771772, \"tpr\": 0.9860594795539034, \"n\": 5328}, {\"threshold\": 0.72, \"p\": 27976, \"fpr\": 0.9271771771771772, \"tpr\": 0.9860594795539034, \"n\": 5328}, {\"threshold\": 0.721, \"p\": 27976, \"fpr\": 0.9271771771771772, \"tpr\": 0.9860594795539034, \"n\": 5328}, {\"threshold\": 0.722, \"p\": 27976, \"fpr\": 0.9271771771771772, \"tpr\": 0.9860594795539034, \"n\": 5328}, {\"threshold\": 0.723, \"p\": 27976, \"fpr\": 0.9271771771771772, \"tpr\": 0.9860594795539034, \"n\": 5328}, {\"threshold\": 0.724, \"p\": 27976, \"fpr\": 0.9271771771771772, \"tpr\": 0.9860594795539034, \"n\": 5328}, {\"threshold\": 0.725, \"p\": 27976, \"fpr\": 0.9271771771771772, \"tpr\": 0.9860594795539034, \"n\": 5328}, {\"threshold\": 0.726, \"p\": 27976, \"fpr\": 0.9271771771771772, \"tpr\": 0.9860594795539034, \"n\": 5328}, {\"threshold\": 0.727, \"p\": 27976, \"fpr\": 0.9271771771771772, \"tpr\": 0.9860594795539034, \"n\": 5328}, {\"threshold\": 0.728, \"p\": 27976, \"fpr\": 0.9271771771771772, \"tpr\": 0.9860594795539034, \"n\": 5328}, {\"threshold\": 0.729, \"p\": 27976, \"fpr\": 0.9271771771771772, \"tpr\": 0.9860594795539034, \"n\": 5328}, {\"threshold\": 0.73, \"p\": 27976, \"fpr\": 0.9271771771771772, \"tpr\": 0.9860594795539034, \"n\": 5328}, {\"threshold\": 0.731, \"p\": 27976, \"fpr\": 0.9271771771771772, \"tpr\": 0.9860594795539034, \"n\": 5328}, {\"threshold\": 0.732, \"p\": 27976, \"fpr\": 0.9271771771771772, \"tpr\": 0.9859879897054619, \"n\": 5328}, {\"threshold\": 0.733, \"p\": 27976, \"fpr\": 0.9271771771771772, \"tpr\": 0.9859879897054619, \"n\": 5328}, {\"threshold\": 0.734, \"p\": 27976, \"fpr\": 0.9271771771771772, \"tpr\": 0.9859879897054619, \"n\": 5328}, {\"threshold\": 0.735, \"p\": 27976, \"fpr\": 0.9269894894894894, \"tpr\": 0.9859522447812411, \"n\": 5328}, {\"threshold\": 0.736, \"p\": 27976, \"fpr\": 0.9269894894894894, \"tpr\": 0.9859522447812411, \"n\": 5328}, {\"threshold\": 0.737, \"p\": 27976, \"fpr\": 0.9269894894894894, \"tpr\": 0.9859522447812411, \"n\": 5328}, {\"threshold\": 0.738, \"p\": 27976, \"fpr\": 0.9269894894894894, \"tpr\": 0.9859522447812411, \"n\": 5328}, {\"threshold\": 0.739, \"p\": 27976, \"fpr\": 0.9269894894894894, \"tpr\": 0.9859522447812411, \"n\": 5328}, {\"threshold\": 0.74, \"p\": 27976, \"fpr\": 0.9268018018018018, \"tpr\": 0.9858807549327996, \"n\": 5328}, {\"threshold\": 0.741, \"p\": 27976, \"fpr\": 0.9268018018018018, \"tpr\": 0.9858807549327996, \"n\": 5328}, {\"threshold\": 0.742, \"p\": 27976, \"fpr\": 0.9268018018018018, \"tpr\": 0.9858807549327996, \"n\": 5328}, {\"threshold\": 0.743, \"p\": 27976, \"fpr\": 0.9268018018018018, \"tpr\": 0.9858807549327996, \"n\": 5328}, {\"threshold\": 0.744, \"p\": 27976, \"fpr\": 0.9268018018018018, \"tpr\": 0.9858807549327996, \"n\": 5328}, {\"threshold\": 0.745, \"p\": 27976, \"fpr\": 0.9268018018018018, \"tpr\": 0.9858807549327996, \"n\": 5328}, {\"threshold\": 0.746, \"p\": 27976, \"fpr\": 0.9268018018018018, \"tpr\": 0.9858807549327996, \"n\": 5328}, {\"threshold\": 0.747, \"p\": 27976, \"fpr\": 0.9268018018018018, \"tpr\": 0.9858807549327996, \"n\": 5328}, {\"threshold\": 0.748, \"p\": 27976, \"fpr\": 0.9268018018018018, \"tpr\": 0.9858807549327996, \"n\": 5328}, {\"threshold\": 0.749, \"p\": 27976, \"fpr\": 0.9268018018018018, \"tpr\": 0.9858807549327996, \"n\": 5328}, {\"threshold\": 0.75, \"p\": 27976, \"fpr\": 0.9268018018018018, \"tpr\": 0.9858807549327996, \"n\": 5328}, {\"threshold\": 0.751, \"p\": 27976, \"fpr\": 0.9268018018018018, \"tpr\": 0.9858807549327996, \"n\": 5328}, {\"threshold\": 0.752, \"p\": 27976, \"fpr\": 0.9268018018018018, \"tpr\": 0.9858807549327996, \"n\": 5328}, {\"threshold\": 0.753, \"p\": 27976, \"fpr\": 0.9268018018018018, \"tpr\": 0.9858807549327996, \"n\": 5328}, {\"threshold\": 0.754, \"p\": 27976, \"fpr\": 0.9268018018018018, \"tpr\": 0.9858807549327996, \"n\": 5328}, {\"threshold\": 0.755, \"p\": 27976, \"fpr\": 0.9268018018018018, \"tpr\": 0.9858807549327996, \"n\": 5328}, {\"threshold\": 0.756, \"p\": 27976, \"fpr\": 0.9268018018018018, \"tpr\": 0.9858807549327996, \"n\": 5328}, {\"threshold\": 0.757, \"p\": 27976, \"fpr\": 0.9268018018018018, \"tpr\": 0.9858807549327996, \"n\": 5328}, {\"threshold\": 0.758, \"p\": 27976, \"fpr\": 0.9268018018018018, \"tpr\": 0.9858450100085788, \"n\": 5328}, {\"threshold\": 0.759, \"p\": 27976, \"fpr\": 0.9268018018018018, \"tpr\": 0.9858450100085788, \"n\": 5328}, {\"threshold\": 0.76, \"p\": 27976, \"fpr\": 0.9268018018018018, \"tpr\": 0.9858450100085788, \"n\": 5328}, {\"threshold\": 0.761, \"p\": 27976, \"fpr\": 0.9268018018018018, \"tpr\": 0.9858450100085788, \"n\": 5328}, {\"threshold\": 0.762, \"p\": 27976, \"fpr\": 0.9268018018018018, \"tpr\": 0.9857735201601373, \"n\": 5328}, {\"threshold\": 0.763, \"p\": 27976, \"fpr\": 0.9268018018018018, \"tpr\": 0.9857735201601373, \"n\": 5328}, {\"threshold\": 0.764, \"p\": 27976, \"fpr\": 0.9268018018018018, \"tpr\": 0.9857735201601373, \"n\": 5328}, {\"threshold\": 0.765, \"p\": 27976, \"fpr\": 0.9268018018018018, \"tpr\": 0.9857735201601373, \"n\": 5328}, {\"threshold\": 0.766, \"p\": 27976, \"fpr\": 0.9268018018018018, \"tpr\": 0.9857735201601373, \"n\": 5328}, {\"threshold\": 0.767, \"p\": 27976, \"fpr\": 0.9268018018018018, \"tpr\": 0.9857735201601373, \"n\": 5328}, {\"threshold\": 0.768, \"p\": 27976, \"fpr\": 0.9268018018018018, \"tpr\": 0.9857735201601373, \"n\": 5328}, {\"threshold\": 0.769, \"p\": 27976, \"fpr\": 0.9268018018018018, \"tpr\": 0.9857735201601373, \"n\": 5328}, {\"threshold\": 0.77, \"p\": 27976, \"fpr\": 0.9268018018018018, \"tpr\": 0.9857735201601373, \"n\": 5328}, {\"threshold\": 0.771, \"p\": 27976, \"fpr\": 0.9268018018018018, \"tpr\": 0.9857735201601373, \"n\": 5328}, {\"threshold\": 0.772, \"p\": 27976, \"fpr\": 0.9268018018018018, \"tpr\": 0.9857377752359165, \"n\": 5328}, {\"threshold\": 0.773, \"p\": 27976, \"fpr\": 0.9268018018018018, \"tpr\": 0.9857377752359165, \"n\": 5328}, {\"threshold\": 0.774, \"p\": 27976, \"fpr\": 0.9268018018018018, \"tpr\": 0.9857377752359165, \"n\": 5328}, {\"threshold\": 0.775, \"p\": 27976, \"fpr\": 0.9268018018018018, \"tpr\": 0.9857377752359165, \"n\": 5328}, {\"threshold\": 0.776, \"p\": 27976, \"fpr\": 0.9268018018018018, \"tpr\": 0.9857377752359165, \"n\": 5328}, {\"threshold\": 0.777, \"p\": 27976, \"fpr\": 0.9268018018018018, \"tpr\": 0.9857377752359165, \"n\": 5328}, {\"threshold\": 0.778, \"p\": 27976, \"fpr\": 0.9268018018018018, \"tpr\": 0.9857377752359165, \"n\": 5328}, {\"threshold\": 0.779, \"p\": 27976, \"fpr\": 0.9268018018018018, \"tpr\": 0.9857377752359165, \"n\": 5328}, {\"threshold\": 0.78, \"p\": 27976, \"fpr\": 0.9234234234234234, \"tpr\": 0.9838432942522162, \"n\": 5328}, {\"threshold\": 0.781, \"p\": 27976, \"fpr\": 0.9234234234234234, \"tpr\": 0.9838432942522162, \"n\": 5328}, {\"threshold\": 0.782, \"p\": 27976, \"fpr\": 0.9234234234234234, \"tpr\": 0.9837718044037747, \"n\": 5328}, {\"threshold\": 0.783, \"p\": 27976, \"fpr\": 0.9234234234234234, \"tpr\": 0.9837718044037747, \"n\": 5328}, {\"threshold\": 0.784, \"p\": 27976, \"fpr\": 0.9234234234234234, \"tpr\": 0.9837718044037747, \"n\": 5328}, {\"threshold\": 0.785, \"p\": 27976, \"fpr\": 0.9234234234234234, \"tpr\": 0.9837718044037747, \"n\": 5328}, {\"threshold\": 0.786, \"p\": 27976, \"fpr\": 0.9234234234234234, \"tpr\": 0.9837718044037747, \"n\": 5328}, {\"threshold\": 0.787, \"p\": 27976, \"fpr\": 0.9234234234234234, \"tpr\": 0.9837718044037747, \"n\": 5328}, {\"threshold\": 0.788, \"p\": 27976, \"fpr\": 0.9234234234234234, \"tpr\": 0.9837718044037747, \"n\": 5328}, {\"threshold\": 0.789, \"p\": 27976, \"fpr\": 0.9232357357357357, \"tpr\": 0.9835573348584501, \"n\": 5328}, {\"threshold\": 0.79, \"p\": 27976, \"fpr\": 0.9232357357357357, \"tpr\": 0.9835573348584501, \"n\": 5328}, {\"threshold\": 0.791, \"p\": 27976, \"fpr\": 0.9232357357357357, \"tpr\": 0.9835573348584501, \"n\": 5328}, {\"threshold\": 0.792, \"p\": 27976, \"fpr\": 0.9232357357357357, \"tpr\": 0.9835573348584501, \"n\": 5328}, {\"threshold\": 0.793, \"p\": 27976, \"fpr\": 0.9232357357357357, \"tpr\": 0.9835573348584501, \"n\": 5328}, {\"threshold\": 0.794, \"p\": 27976, \"fpr\": 0.9232357357357357, \"tpr\": 0.9835573348584501, \"n\": 5328}, {\"threshold\": 0.795, \"p\": 27976, \"fpr\": 0.9232357357357357, \"tpr\": 0.9835573348584501, \"n\": 5328}, {\"threshold\": 0.796, \"p\": 27976, \"fpr\": 0.9222972972972973, \"tpr\": 0.9829496711466972, \"n\": 5328}, {\"threshold\": 0.797, \"p\": 27976, \"fpr\": 0.1313813813813814, \"tpr\": 0.41446239633971976, \"n\": 5328}, {\"threshold\": 0.798, \"p\": 27976, \"fpr\": 0.1313813813813814, \"tpr\": 0.41446239633971976, \"n\": 5328}, {\"threshold\": 0.799, \"p\": 27976, \"fpr\": 0.1313813813813814, \"tpr\": 0.41446239633971976, \"n\": 5328}, {\"threshold\": 0.8, \"p\": 27976, \"fpr\": 0.1313813813813814, \"tpr\": 0.41446239633971976, \"n\": 5328}, {\"threshold\": 0.801, \"p\": 27976, \"fpr\": 0.1313813813813814, \"tpr\": 0.41446239633971976, \"n\": 5328}, {\"threshold\": 0.802, \"p\": 27976, \"fpr\": 0.1313813813813814, \"tpr\": 0.41446239633971976, \"n\": 5328}, {\"threshold\": 0.803, \"p\": 27976, \"fpr\": 0.1313813813813814, \"tpr\": 0.41446239633971976, \"n\": 5328}, {\"threshold\": 0.804, \"p\": 27976, \"fpr\": 0.1313813813813814, \"tpr\": 0.41446239633971976, \"n\": 5328}, {\"threshold\": 0.805, \"p\": 27976, \"fpr\": 0.1313813813813814, \"tpr\": 0.41446239633971976, \"n\": 5328}, {\"threshold\": 0.806, \"p\": 27976, \"fpr\": 0.1313813813813814, \"tpr\": 0.41446239633971976, \"n\": 5328}, {\"threshold\": 0.807, \"p\": 27976, \"fpr\": 0.1313813813813814, \"tpr\": 0.41446239633971976, \"n\": 5328}, {\"threshold\": 0.808, \"p\": 27976, \"fpr\": 0.1313813813813814, \"tpr\": 0.41446239633971976, \"n\": 5328}, {\"threshold\": 0.809, \"p\": 27976, \"fpr\": 0.131006006006006, \"tpr\": 0.41428367171861596, \"n\": 5328}, {\"threshold\": 0.81, \"p\": 27976, \"fpr\": 0.131006006006006, \"tpr\": 0.41428367171861596, \"n\": 5328}, {\"threshold\": 0.811, \"p\": 27976, \"fpr\": 0.131006006006006, \"tpr\": 0.41428367171861596, \"n\": 5328}, {\"threshold\": 0.812, \"p\": 27976, \"fpr\": 0.131006006006006, \"tpr\": 0.41428367171861596, \"n\": 5328}, {\"threshold\": 0.813, \"p\": 27976, \"fpr\": 0.131006006006006, \"tpr\": 0.41428367171861596, \"n\": 5328}, {\"threshold\": 0.814, \"p\": 27976, \"fpr\": 0.131006006006006, \"tpr\": 0.41428367171861596, \"n\": 5328}, {\"threshold\": 0.815, \"p\": 27976, \"fpr\": 0.131006006006006, \"tpr\": 0.41428367171861596, \"n\": 5328}, {\"threshold\": 0.816, \"p\": 27976, \"fpr\": 0.131006006006006, \"tpr\": 0.41428367171861596, \"n\": 5328}, {\"threshold\": 0.817, \"p\": 27976, \"fpr\": 0.131006006006006, \"tpr\": 0.41428367171861596, \"n\": 5328}, {\"threshold\": 0.818, \"p\": 27976, \"fpr\": 0.131006006006006, \"tpr\": 0.41428367171861596, \"n\": 5328}, {\"threshold\": 0.819, \"p\": 27976, \"fpr\": 0.131006006006006, \"tpr\": 0.41428367171861596, \"n\": 5328}, {\"threshold\": 0.82, \"p\": 27976, \"fpr\": 0.131006006006006, \"tpr\": 0.41428367171861596, \"n\": 5328}, {\"threshold\": 0.821, \"p\": 27976, \"fpr\": 0.131006006006006, \"tpr\": 0.41428367171861596, \"n\": 5328}, {\"threshold\": 0.822, \"p\": 27976, \"fpr\": 0.131006006006006, \"tpr\": 0.41428367171861596, \"n\": 5328}, {\"threshold\": 0.823, \"p\": 27976, \"fpr\": 0.131006006006006, \"tpr\": 0.41428367171861596, \"n\": 5328}, {\"threshold\": 0.824, \"p\": 27976, \"fpr\": 0.131006006006006, \"tpr\": 0.41428367171861596, \"n\": 5328}, {\"threshold\": 0.825, \"p\": 27976, \"fpr\": 0.131006006006006, \"tpr\": 0.41428367171861596, \"n\": 5328}, {\"threshold\": 0.826, \"p\": 27976, \"fpr\": 0.131006006006006, \"tpr\": 0.41428367171861596, \"n\": 5328}, {\"threshold\": 0.827, \"p\": 27976, \"fpr\": 0.1308183183183183, \"tpr\": 0.4141764369459537, \"n\": 5328}, {\"threshold\": 0.828, \"p\": 27976, \"fpr\": 0.1308183183183183, \"tpr\": 0.4141764369459537, \"n\": 5328}, {\"threshold\": 0.829, \"p\": 27976, \"fpr\": 0.1308183183183183, \"tpr\": 0.4141764369459537, \"n\": 5328}, {\"threshold\": 0.83, \"p\": 27976, \"fpr\": 0.1308183183183183, \"tpr\": 0.4141764369459537, \"n\": 5328}, {\"threshold\": 0.831, \"p\": 27976, \"fpr\": 0.1308183183183183, \"tpr\": 0.4141764369459537, \"n\": 5328}, {\"threshold\": 0.832, \"p\": 27976, \"fpr\": 0.1308183183183183, \"tpr\": 0.4141764369459537, \"n\": 5328}, {\"threshold\": 0.833, \"p\": 27976, \"fpr\": 0.1308183183183183, \"tpr\": 0.4141764369459537, \"n\": 5328}, {\"threshold\": 0.834, \"p\": 27976, \"fpr\": 0.1308183183183183, \"tpr\": 0.4141764369459537, \"n\": 5328}, {\"threshold\": 0.835, \"p\": 27976, \"fpr\": 0.1308183183183183, \"tpr\": 0.4141764369459537, \"n\": 5328}, {\"threshold\": 0.836, \"p\": 27976, \"fpr\": 0.1308183183183183, \"tpr\": 0.4141764369459537, \"n\": 5328}, {\"threshold\": 0.837, \"p\": 27976, \"fpr\": 0.1308183183183183, \"tpr\": 0.4141764369459537, \"n\": 5328}, {\"threshold\": 0.838, \"p\": 27976, \"fpr\": 0.1308183183183183, \"tpr\": 0.4141764369459537, \"n\": 5328}, {\"threshold\": 0.839, \"p\": 27976, \"fpr\": 0.1308183183183183, \"tpr\": 0.4141764369459537, \"n\": 5328}, {\"threshold\": 0.84, \"p\": 27976, \"fpr\": 0.13063063063063063, \"tpr\": 0.41410494709751217, \"n\": 5328}, {\"threshold\": 0.841, \"p\": 27976, \"fpr\": 0.13063063063063063, \"tpr\": 0.4140692021732914, \"n\": 5328}, {\"threshold\": 0.842, \"p\": 27976, \"fpr\": 0.13063063063063063, \"tpr\": 0.4140692021732914, \"n\": 5328}, {\"threshold\": 0.843, \"p\": 27976, \"fpr\": 0.13044294294294295, \"tpr\": 0.41403345724907065, \"n\": 5328}, {\"threshold\": 0.844, \"p\": 27976, \"fpr\": 0.13044294294294295, \"tpr\": 0.41403345724907065, \"n\": 5328}, {\"threshold\": 0.845, \"p\": 27976, \"fpr\": 0.13044294294294295, \"tpr\": 0.41403345724907065, \"n\": 5328}, {\"threshold\": 0.846, \"p\": 27976, \"fpr\": 0.13044294294294295, \"tpr\": 0.41403345724907065, \"n\": 5328}, {\"threshold\": 0.847, \"p\": 27976, \"fpr\": 0.13044294294294295, \"tpr\": 0.41403345724907065, \"n\": 5328}, {\"threshold\": 0.848, \"p\": 27976, \"fpr\": 0.13044294294294295, \"tpr\": 0.4139977123248499, \"n\": 5328}, {\"threshold\": 0.849, \"p\": 27976, \"fpr\": 0.13044294294294295, \"tpr\": 0.41385473262796685, \"n\": 5328}, {\"threshold\": 0.85, \"p\": 27976, \"fpr\": 0.13044294294294295, \"tpr\": 0.41385473262796685, \"n\": 5328}, {\"threshold\": 0.851, \"p\": 27976, \"fpr\": 0.13044294294294295, \"tpr\": 0.41385473262796685, \"n\": 5328}, {\"threshold\": 0.852, \"p\": 27976, \"fpr\": 0.13044294294294295, \"tpr\": 0.41385473262796685, \"n\": 5328}, {\"threshold\": 0.853, \"p\": 27976, \"fpr\": 0.13044294294294295, \"tpr\": 0.41385473262796685, \"n\": 5328}, {\"threshold\": 0.854, \"p\": 27976, \"fpr\": 0.13044294294294295, \"tpr\": 0.41385473262796685, \"n\": 5328}, {\"threshold\": 0.855, \"p\": 27976, \"fpr\": 0.13044294294294295, \"tpr\": 0.4138189877037461, \"n\": 5328}, {\"threshold\": 0.856, \"p\": 27976, \"fpr\": 0.12894144144144143, \"tpr\": 0.41149556762939665, \"n\": 5328}, {\"threshold\": 0.857, \"p\": 27976, \"fpr\": 0.12894144144144143, \"tpr\": 0.41149556762939665, \"n\": 5328}, {\"threshold\": 0.858, \"p\": 27976, \"fpr\": 0.12894144144144143, \"tpr\": 0.41149556762939665, \"n\": 5328}, {\"threshold\": 0.859, \"p\": 27976, \"fpr\": 0.12894144144144143, \"tpr\": 0.41149556762939665, \"n\": 5328}, {\"threshold\": 0.86, \"p\": 27976, \"fpr\": 0.12894144144144143, \"tpr\": 0.41149556762939665, \"n\": 5328}, {\"threshold\": 0.861, \"p\": 27976, \"fpr\": 0.12894144144144143, \"tpr\": 0.41149556762939665, \"n\": 5328}, {\"threshold\": 0.862, \"p\": 27976, \"fpr\": 0.12894144144144143, \"tpr\": 0.4114598227051759, \"n\": 5328}, {\"threshold\": 0.863, \"p\": 27976, \"fpr\": 0.12894144144144143, \"tpr\": 0.4114598227051759, \"n\": 5328}, {\"threshold\": 0.864, \"p\": 27976, \"fpr\": 0.12894144144144143, \"tpr\": 0.4114598227051759, \"n\": 5328}, {\"threshold\": 0.865, \"p\": 27976, \"fpr\": 0.12894144144144143, \"tpr\": 0.4114598227051759, \"n\": 5328}, {\"threshold\": 0.866, \"p\": 27976, \"fpr\": 0.12894144144144143, \"tpr\": 0.4114598227051759, \"n\": 5328}, {\"threshold\": 0.867, \"p\": 27976, \"fpr\": 0.12894144144144143, \"tpr\": 0.4114598227051759, \"n\": 5328}, {\"threshold\": 0.868, \"p\": 27976, \"fpr\": 0.12894144144144143, \"tpr\": 0.4114598227051759, \"n\": 5328}, {\"threshold\": 0.869, \"p\": 27976, \"fpr\": 0.12875375375375375, \"tpr\": 0.4114598227051759, \"n\": 5328}, {\"threshold\": 0.87, \"p\": 27976, \"fpr\": 0.12875375375375375, \"tpr\": 0.4114598227051759, \"n\": 5328}, {\"threshold\": 0.871, \"p\": 27976, \"fpr\": 0.12875375375375375, \"tpr\": 0.4114598227051759, \"n\": 5328}, {\"threshold\": 0.872, \"p\": 27976, \"fpr\": 0.12875375375375375, \"tpr\": 0.4114598227051759, \"n\": 5328}, {\"threshold\": 0.873, \"p\": 27976, \"fpr\": 0.12875375375375375, \"tpr\": 0.4114598227051759, \"n\": 5328}, {\"threshold\": 0.874, \"p\": 27976, \"fpr\": 0.12875375375375375, \"tpr\": 0.4114598227051759, \"n\": 5328}, {\"threshold\": 0.875, \"p\": 27976, \"fpr\": 0.12875375375375375, \"tpr\": 0.4114598227051759, \"n\": 5328}, {\"threshold\": 0.876, \"p\": 27976, \"fpr\": 0.12875375375375375, \"tpr\": 0.4114598227051759, \"n\": 5328}, {\"threshold\": 0.877, \"p\": 27976, \"fpr\": 0.12875375375375375, \"tpr\": 0.4114598227051759, \"n\": 5328}, {\"threshold\": 0.878, \"p\": 27976, \"fpr\": 0.12875375375375375, \"tpr\": 0.4114598227051759, \"n\": 5328}, {\"threshold\": 0.879, \"p\": 27976, \"fpr\": 0.12875375375375375, \"tpr\": 0.4114598227051759, \"n\": 5328}, {\"threshold\": 0.88, \"p\": 27976, \"fpr\": 0.12875375375375375, \"tpr\": 0.4114598227051759, \"n\": 5328}, {\"threshold\": 0.881, \"p\": 27976, \"fpr\": 0.12875375375375375, \"tpr\": 0.4114598227051759, \"n\": 5328}, {\"threshold\": 0.882, \"p\": 27976, \"fpr\": 0.12875375375375375, \"tpr\": 0.4114598227051759, \"n\": 5328}, {\"threshold\": 0.883, \"p\": 27976, \"fpr\": 0.12875375375375375, \"tpr\": 0.4114598227051759, \"n\": 5328}, {\"threshold\": 0.884, \"p\": 27976, \"fpr\": 0.12875375375375375, \"tpr\": 0.4114598227051759, \"n\": 5328}, {\"threshold\": 0.885, \"p\": 27976, \"fpr\": 0.12875375375375375, \"tpr\": 0.4114598227051759, \"n\": 5328}, {\"threshold\": 0.886, \"p\": 27976, \"fpr\": 0.12875375375375375, \"tpr\": 0.4114598227051759, \"n\": 5328}, {\"threshold\": 0.887, \"p\": 27976, \"fpr\": 0.12875375375375375, \"tpr\": 0.4114598227051759, \"n\": 5328}, {\"threshold\": 0.888, \"p\": 27976, \"fpr\": 0.12875375375375375, \"tpr\": 0.4114598227051759, \"n\": 5328}, {\"threshold\": 0.889, \"p\": 27976, \"fpr\": 0.12875375375375375, \"tpr\": 0.4113883328567343, \"n\": 5328}, {\"threshold\": 0.89, \"p\": 27976, \"fpr\": 0.12875375375375375, \"tpr\": 0.4113883328567343, \"n\": 5328}, {\"threshold\": 0.891, \"p\": 27976, \"fpr\": 0.12875375375375375, \"tpr\": 0.4113883328567343, \"n\": 5328}, {\"threshold\": 0.892, \"p\": 27976, \"fpr\": 0.12875375375375375, \"tpr\": 0.4113883328567343, \"n\": 5328}, {\"threshold\": 0.893, \"p\": 27976, \"fpr\": 0.12875375375375375, \"tpr\": 0.4113883328567343, \"n\": 5328}, {\"threshold\": 0.894, \"p\": 27976, \"fpr\": 0.12875375375375375, \"tpr\": 0.4113883328567343, \"n\": 5328}, {\"threshold\": 0.895, \"p\": 27976, \"fpr\": 0.12875375375375375, \"tpr\": 0.4113883328567343, \"n\": 5328}, {\"threshold\": 0.896, \"p\": 27976, \"fpr\": 0.12856606606606608, \"tpr\": 0.41099513869030596, \"n\": 5328}, {\"threshold\": 0.897, \"p\": 27976, \"fpr\": 0.12856606606606608, \"tpr\": 0.4109593937660852, \"n\": 5328}, {\"threshold\": 0.898, \"p\": 27976, \"fpr\": 0.12837837837837837, \"tpr\": 0.41081641406920216, \"n\": 5328}, {\"threshold\": 0.899, \"p\": 27976, \"fpr\": 0.12837837837837837, \"tpr\": 0.41081641406920216, \"n\": 5328}, {\"threshold\": 0.9, \"p\": 27976, \"fpr\": 0.1281906906906907, \"tpr\": 0.41074492422076064, \"n\": 5328}, {\"threshold\": 0.901, \"p\": 27976, \"fpr\": 0.1281906906906907, \"tpr\": 0.4107091792965399, \"n\": 5328}, {\"threshold\": 0.902, \"p\": 27976, \"fpr\": 0.1281906906906907, \"tpr\": 0.4107091792965399, \"n\": 5328}, {\"threshold\": 0.903, \"p\": 27976, \"fpr\": 0.1281906906906907, \"tpr\": 0.4107091792965399, \"n\": 5328}, {\"threshold\": 0.904, \"p\": 27976, \"fpr\": 0.1281906906906907, \"tpr\": 0.41056619959965684, \"n\": 5328}, {\"threshold\": 0.905, \"p\": 27976, \"fpr\": 0.05442942942942943, \"tpr\": 0.26594223620245927, \"n\": 5328}, {\"threshold\": 0.906, \"p\": 27976, \"fpr\": 0.05105105105105105, \"tpr\": 0.2600800686302545, \"n\": 5328}, {\"threshold\": 0.907, \"p\": 27976, \"fpr\": 0.05105105105105105, \"tpr\": 0.2600800686302545, \"n\": 5328}, {\"threshold\": 0.908, \"p\": 27976, \"fpr\": 0.05105105105105105, \"tpr\": 0.2600800686302545, \"n\": 5328}, {\"threshold\": 0.909, \"p\": 27976, \"fpr\": 0.05105105105105105, \"tpr\": 0.2600800686302545, \"n\": 5328}, {\"threshold\": 0.91, \"p\": 27976, \"fpr\": 0.05105105105105105, \"tpr\": 0.2600800686302545, \"n\": 5328}, {\"threshold\": 0.911, \"p\": 27976, \"fpr\": 0.05105105105105105, \"tpr\": 0.260008578781813, \"n\": 5328}, {\"threshold\": 0.912, \"p\": 27976, \"fpr\": 0.05105105105105105, \"tpr\": 0.260008578781813, \"n\": 5328}, {\"threshold\": 0.913, \"p\": 27976, \"fpr\": 0.05105105105105105, \"tpr\": 0.260008578781813, \"n\": 5328}, {\"threshold\": 0.914, \"p\": 27976, \"fpr\": 0.05105105105105105, \"tpr\": 0.260008578781813, \"n\": 5328}, {\"threshold\": 0.915, \"p\": 27976, \"fpr\": 0.05105105105105105, \"tpr\": 0.260008578781813, \"n\": 5328}, {\"threshold\": 0.916, \"p\": 27976, \"fpr\": 0.05105105105105105, \"tpr\": 0.260008578781813, \"n\": 5328}, {\"threshold\": 0.917, \"p\": 27976, \"fpr\": 0.05105105105105105, \"tpr\": 0.260008578781813, \"n\": 5328}, {\"threshold\": 0.918, \"p\": 27976, \"fpr\": 0.05105105105105105, \"tpr\": 0.260008578781813, \"n\": 5328}, {\"threshold\": 0.919, \"p\": 27976, \"fpr\": 0.04973723723723724, \"tpr\": 0.25439662567915355, \"n\": 5328}, {\"threshold\": 0.92, \"p\": 27976, \"fpr\": 0.04973723723723724, \"tpr\": 0.25439662567915355, \"n\": 5328}, {\"threshold\": 0.921, \"p\": 27976, \"fpr\": 0.04973723723723724, \"tpr\": 0.2543608807549328, \"n\": 5328}, {\"threshold\": 0.922, \"p\": 27976, \"fpr\": 0.04973723723723724, \"tpr\": 0.2543608807549328, \"n\": 5328}, {\"threshold\": 0.923, \"p\": 27976, \"fpr\": 0.04973723723723724, \"tpr\": 0.2543608807549328, \"n\": 5328}, {\"threshold\": 0.924, \"p\": 27976, \"fpr\": 0.04973723723723724, \"tpr\": 0.2543608807549328, \"n\": 5328}, {\"threshold\": 0.925, \"p\": 27976, \"fpr\": 0.04973723723723724, \"tpr\": 0.2543608807549328, \"n\": 5328}, {\"threshold\": 0.926, \"p\": 27976, \"fpr\": 0.04973723723723724, \"tpr\": 0.2543608807549328, \"n\": 5328}, {\"threshold\": 0.927, \"p\": 27976, \"fpr\": 0.04973723723723724, \"tpr\": 0.2543608807549328, \"n\": 5328}, {\"threshold\": 0.928, \"p\": 27976, \"fpr\": 0.04973723723723724, \"tpr\": 0.2543608807549328, \"n\": 5328}, {\"threshold\": 0.929, \"p\": 27976, \"fpr\": 0.04973723723723724, \"tpr\": 0.2543608807549328, \"n\": 5328}, {\"threshold\": 0.93, \"p\": 27976, \"fpr\": 0.04973723723723724, \"tpr\": 0.2543608807549328, \"n\": 5328}, {\"threshold\": 0.931, \"p\": 27976, \"fpr\": 0.04973723723723724, \"tpr\": 0.2543608807549328, \"n\": 5328}, {\"threshold\": 0.932, \"p\": 27976, \"fpr\": 0.04954954954954955, \"tpr\": 0.2543608807549328, \"n\": 5328}, {\"threshold\": 0.933, \"p\": 27976, \"fpr\": 0.04954954954954955, \"tpr\": 0.2543608807549328, \"n\": 5328}, {\"threshold\": 0.934, \"p\": 27976, \"fpr\": 0.04954954954954955, \"tpr\": 0.2543608807549328, \"n\": 5328}, {\"threshold\": 0.935, \"p\": 27976, \"fpr\": 0.048986486486486486, \"tpr\": 0.2538961967400629, \"n\": 5328}, {\"threshold\": 0.936, \"p\": 27976, \"fpr\": 0.048986486486486486, \"tpr\": 0.2538247068916214, \"n\": 5328}, {\"threshold\": 0.937, \"p\": 27976, \"fpr\": 0.048986486486486486, \"tpr\": 0.2538247068916214, \"n\": 5328}, {\"threshold\": 0.938, \"p\": 27976, \"fpr\": 0.048986486486486486, \"tpr\": 0.2536459822705176, \"n\": 5328}, {\"threshold\": 0.939, \"p\": 27976, \"fpr\": 0.048986486486486486, \"tpr\": 0.2536459822705176, \"n\": 5328}, {\"threshold\": 0.94, \"p\": 27976, \"fpr\": 0.048986486486486486, \"tpr\": 0.2536459822705176, \"n\": 5328}, {\"threshold\": 0.941, \"p\": 27976, \"fpr\": 0.016516516516516516, \"tpr\": 0.11749356591364027, \"n\": 5328}, {\"threshold\": 0.942, \"p\": 27976, \"fpr\": 0.016516516516516516, \"tpr\": 0.11749356591364027, \"n\": 5328}, {\"threshold\": 0.943, \"p\": 27976, \"fpr\": 0.016516516516516516, \"tpr\": 0.11749356591364027, \"n\": 5328}, {\"threshold\": 0.944, \"p\": 27976, \"fpr\": 0.016516516516516516, \"tpr\": 0.11749356591364027, \"n\": 5328}, {\"threshold\": 0.945, \"p\": 27976, \"fpr\": 0.016516516516516516, \"tpr\": 0.11749356591364027, \"n\": 5328}, {\"threshold\": 0.946, \"p\": 27976, \"fpr\": 0.016516516516516516, \"tpr\": 0.11749356591364027, \"n\": 5328}, {\"threshold\": 0.947, \"p\": 27976, \"fpr\": 0.016516516516516516, \"tpr\": 0.11749356591364027, \"n\": 5328}, {\"threshold\": 0.948, \"p\": 27976, \"fpr\": 0.016516516516516516, \"tpr\": 0.11749356591364027, \"n\": 5328}, {\"threshold\": 0.949, \"p\": 27976, \"fpr\": 0.016516516516516516, \"tpr\": 0.11749356591364027, \"n\": 5328}, {\"threshold\": 0.95, \"p\": 27976, \"fpr\": 0.016516516516516516, \"tpr\": 0.11749356591364027, \"n\": 5328}, {\"threshold\": 0.951, \"p\": 27976, \"fpr\": 0.016516516516516516, \"tpr\": 0.11749356591364027, \"n\": 5328}, {\"threshold\": 0.952, \"p\": 27976, \"fpr\": 0.016516516516516516, \"tpr\": 0.11749356591364027, \"n\": 5328}, {\"threshold\": 0.953, \"p\": 27976, \"fpr\": 0.016516516516516516, \"tpr\": 0.11749356591364027, \"n\": 5328}, {\"threshold\": 0.954, \"p\": 27976, \"fpr\": 0.016516516516516516, \"tpr\": 0.11749356591364027, \"n\": 5328}, {\"threshold\": 0.955, \"p\": 27976, \"fpr\": 0.01632882882882883, \"tpr\": 0.11738633114097798, \"n\": 5328}, {\"threshold\": 0.956, \"p\": 27976, \"fpr\": 0.01632882882882883, \"tpr\": 0.11738633114097798, \"n\": 5328}, {\"threshold\": 0.957, \"p\": 27976, \"fpr\": 0.01632882882882883, \"tpr\": 0.11738633114097798, \"n\": 5328}, {\"threshold\": 0.958, \"p\": 27976, \"fpr\": 0.01632882882882883, \"tpr\": 0.11735058621675722, \"n\": 5328}, {\"threshold\": 0.959, \"p\": 27976, \"fpr\": 0.01126126126126126, \"tpr\": 0.09318701744352302, \"n\": 5328}, {\"threshold\": 0.96, \"p\": 27976, \"fpr\": 0.011073573573573574, \"tpr\": 0.09307978267086074, \"n\": 5328}, {\"threshold\": 0.961, \"p\": 27976, \"fpr\": 0.011073573573573574, \"tpr\": 0.09265084358021161, \"n\": 5328}, {\"threshold\": 0.962, \"p\": 27976, \"fpr\": 0.011073573573573574, \"tpr\": 0.09261509865599085, \"n\": 5328}, {\"threshold\": 0.963, \"p\": 27976, \"fpr\": 0.011073573573573574, \"tpr\": 0.09261509865599085, \"n\": 5328}, {\"threshold\": 0.964, \"p\": 27976, \"fpr\": 0.011073573573573574, \"tpr\": 0.09261509865599085, \"n\": 5328}, {\"threshold\": 0.965, \"p\": 27976, \"fpr\": 0.010885885885885885, \"tpr\": 0.0905776379754075, \"n\": 5328}, {\"threshold\": 0.966, \"p\": 27976, \"fpr\": 0.010885885885885885, \"tpr\": 0.09043465827852445, \"n\": 5328}, {\"threshold\": 0.967, \"p\": 27976, \"fpr\": 0.010885885885885885, \"tpr\": 0.09043465827852445, \"n\": 5328}, {\"threshold\": 0.968, \"p\": 27976, \"fpr\": 0.010885885885885885, \"tpr\": 0.09043465827852445, \"n\": 5328}, {\"threshold\": 0.969, \"p\": 27976, \"fpr\": 0.010885885885885885, \"tpr\": 0.09043465827852445, \"n\": 5328}, {\"threshold\": 0.97, \"p\": 27976, \"fpr\": 0.010885885885885885, \"tpr\": 0.0903989133543037, \"n\": 5328}, {\"threshold\": 0.971, \"p\": 27976, \"fpr\": 0.010885885885885885, \"tpr\": 0.0902916785816414, \"n\": 5328}, {\"threshold\": 0.972, \"p\": 27976, \"fpr\": 0.010885885885885885, \"tpr\": 0.09025593365742064, \"n\": 5328}, {\"threshold\": 0.973, \"p\": 27976, \"fpr\": 0.010698198198198198, \"tpr\": 0.0901129539605376, \"n\": 5328}, {\"threshold\": 0.974, \"p\": 27976, \"fpr\": 0.010698198198198198, \"tpr\": 0.0901129539605376, \"n\": 5328}, {\"threshold\": 0.975, \"p\": 27976, \"fpr\": 0.00487987987987988, \"tpr\": 0.05461824420932228, \"n\": 5328}, {\"threshold\": 0.976, \"p\": 27976, \"fpr\": 0.00487987987987988, \"tpr\": 0.05461824420932228, \"n\": 5328}, {\"threshold\": 0.977, \"p\": 27976, \"fpr\": 0.00487987987987988, \"tpr\": 0.05458249928510152, \"n\": 5328}, {\"threshold\": 0.978, \"p\": 27976, \"fpr\": 0.00487987987987988, \"tpr\": 0.05458249928510152, \"n\": 5328}, {\"threshold\": 0.979, \"p\": 27976, \"fpr\": 0.004316816816816817, \"tpr\": 0.052294824134972835, \"n\": 5328}, {\"threshold\": 0.98, \"p\": 27976, \"fpr\": 0.004316816816816817, \"tpr\": 0.052294824134972835, \"n\": 5328}, {\"threshold\": 0.981, \"p\": 27976, \"fpr\": 0.004316816816816817, \"tpr\": 0.052223334286531316, \"n\": 5328}, {\"threshold\": 0.982, \"p\": 27976, \"fpr\": 0.004316816816816817, \"tpr\": 0.052223334286531316, \"n\": 5328}, {\"threshold\": 0.983, \"p\": 27976, \"fpr\": 0.003941441441441441, \"tpr\": 0.04818415784958536, \"n\": 5328}, {\"threshold\": 0.984, \"p\": 27976, \"fpr\": 0.003941441441441441, \"tpr\": 0.0481484129253646, \"n\": 5328}, {\"threshold\": 0.985, \"p\": 27976, \"fpr\": 0.0018768768768768769, \"tpr\": 0.02802402058907635, \"n\": 5328}, {\"threshold\": 0.986, \"p\": 27976, \"fpr\": 0.0016891891891891893, \"tpr\": 0.027630826422647983, \"n\": 5328}, {\"threshold\": 0.987, \"p\": 27976, \"fpr\": 0.0016891891891891893, \"tpr\": 0.027595081498427224, \"n\": 5328}, {\"threshold\": 0.988, \"p\": 27976, \"fpr\": 0.0016891891891891893, \"tpr\": 0.027559336574206464, \"n\": 5328}, {\"threshold\": 0.989, \"p\": 27976, \"fpr\": 0.0016891891891891893, \"tpr\": 0.027559336574206464, \"n\": 5328}, {\"threshold\": 0.99, \"p\": 27976, \"fpr\": 0.001313813813813814, \"tpr\": 0.021053760366028025, \"n\": 5328}, {\"threshold\": 0.991, \"p\": 27976, \"fpr\": 0.001313813813813814, \"tpr\": 0.021018015441807262, \"n\": 5328}, {\"threshold\": 0.992, \"p\": 27976, \"fpr\": 0.001313813813813814, \"tpr\": 0.020589076351158135, \"n\": 5328}, {\"threshold\": 0.993, \"p\": 27976, \"fpr\": 0.0009384384384384384, \"tpr\": 0.019909922790963683, \"n\": 5328}, {\"threshold\": 0.994, \"p\": 27976, \"fpr\": 0.0005630630630630631, \"tpr\": 0.013046897340577637, \"n\": 5328}, {\"threshold\": 0.995, \"p\": 27976, \"fpr\": 0.0005630630630630631, \"tpr\": 0.01254646840148699, \"n\": 5328}, {\"threshold\": 0.996, \"p\": 27976, \"fpr\": 0.00037537537537537537, \"tpr\": 0.011402630826422648, \"n\": 5328}, {\"threshold\": 0.997, \"p\": 27976, \"fpr\": 0.00037537537537537537, \"tpr\": 0.007041750071489848, \"n\": 5328}, {\"threshold\": 0.998, \"p\": 27976, \"fpr\": 0.00018768768768768769, \"tpr\": 0.00546897340577638, \"n\": 5328}, {\"threshold\": 0.999, \"p\": 27976, \"fpr\": 0.00018768768768768769, \"tpr\": 0.0030383185587646556, \"n\": 5328}, {\"threshold\": 1.0, \"p\": 27976, \"fpr\": 0.0, \"tpr\": 0.0, \"n\": 5328}]}]], \"type\": \"Model\"}, \"ipython\": true, \"view_params\": {\"model_type\": \"regression\", \"view\": \"Evaluation\"}, \"model_type\": \"regression\", \"attributes\": {\"section_titles\": [\"Schema\", \"Hyperparameters\", \"Training Summary\", \"Settings\", \"Highest Positive Coefficients\", \"Lowest Negative Coefficients\"], \"sections\": [[[\"Number of coefficients\", 12], [\"Number of examples\", 133448], [\"Number of classes\", 2], [\"Number of feature columns\", 11], [\"Number of unpacked features\", 11]], [[\"L1 penalty\", 0.0], [\"L2 penalty\", 0.01]], [[\"Solver\", \"newton\"], [\"Solver iterations\", 6], [\"Solver status\", \"SUCCESS: Optimal solution found.\"], [\"Training time (sec)\", 1.784]], [[\"Log-likelihood\", 54057.6401]], [[\"love\", 1.3999], [\"(intercept)\", 1.3673], [\"awesome\", 1.058], [\"amazing\", 0.8928], [\"fantastic\", 0.8913]], [[\"terrible\", -2.0905], [\"horrible\", -1.9965], [\"awful\", -1.7647], [\"hate\", -1.4092], [\"bad\", -0.9858]]]}, \"evaluations\": [[\"test_data\", {\"roc_curve\": [{\"threshold\": 0.0, \"p\": 27976, \"fpr\": 1.0, \"tpr\": 1.0, \"n\": 5328}, {\"threshold\": 0.001, \"p\": 27976, \"fpr\": 0.9998123123123123, \"tpr\": 1.0, \"n\": 5328}, {\"threshold\": 0.002, \"p\": 27976, \"fpr\": 0.9996246246246246, \"tpr\": 1.0, \"n\": 5328}, {\"threshold\": 0.003, \"p\": 27976, \"fpr\": 0.9996246246246246, \"tpr\": 1.0, \"n\": 5328}, {\"threshold\": 0.004, \"p\": 27976, \"fpr\": 0.9994369369369369, \"tpr\": 1.0, \"n\": 5328}, {\"threshold\": 0.005, \"p\": 27976, \"fpr\": 0.9994369369369369, \"tpr\": 1.0, \"n\": 5328}, {\"threshold\": 0.006, \"p\": 27976, \"fpr\": 0.9992492492492493, \"tpr\": 1.0, \"n\": 5328}, {\"threshold\": 0.007, \"p\": 27976, \"fpr\": 0.9992492492492493, \"tpr\": 1.0, \"n\": 5328}, {\"threshold\": 0.008, \"p\": 27976, \"fpr\": 0.9992492492492493, \"tpr\": 1.0, \"n\": 5328}, {\"threshold\": 0.009, \"p\": 27976, \"fpr\": 0.9992492492492493, \"tpr\": 1.0, \"n\": 5328}, {\"threshold\": 0.01, \"p\": 27976, \"fpr\": 0.9990615615615616, \"tpr\": 1.0, \"n\": 5328}, {\"threshold\": 0.011, \"p\": 27976, \"fpr\": 0.9990615615615616, \"tpr\": 1.0, \"n\": 5328}, {\"threshold\": 0.012, \"p\": 27976, \"fpr\": 0.9990615615615616, \"tpr\": 1.0, \"n\": 5328}, {\"threshold\": 0.013, \"p\": 27976, \"fpr\": 0.9990615615615616, \"tpr\": 1.0, \"n\": 5328}, {\"threshold\": 0.014, \"p\": 27976, \"fpr\": 0.9990615615615616, \"tpr\": 1.0, \"n\": 5328}, {\"threshold\": 0.015, \"p\": 27976, \"fpr\": 0.9990615615615616, \"tpr\": 1.0, \"n\": 5328}, {\"threshold\": 0.016, \"p\": 27976, \"fpr\": 0.9990615615615616, \"tpr\": 1.0, \"n\": 5328}, {\"threshold\": 0.017, \"p\": 27976, \"fpr\": 0.9990615615615616, \"tpr\": 1.0, \"n\": 5328}, {\"threshold\": 0.018, \"p\": 27976, \"fpr\": 0.9990615615615616, \"tpr\": 1.0, \"n\": 5328}, {\"threshold\": 0.019, \"p\": 27976, \"fpr\": 0.9990615615615616, \"tpr\": 1.0, \"n\": 5328}, {\"threshold\": 0.02, \"p\": 27976, \"fpr\": 0.9988738738738738, \"tpr\": 1.0, \"n\": 5328}, {\"threshold\": 0.021, \"p\": 27976, \"fpr\": 0.9988738738738738, \"tpr\": 1.0, \"n\": 5328}, {\"threshold\": 0.022, \"p\": 27976, \"fpr\": 0.9988738738738738, \"tpr\": 1.0, \"n\": 5328}, {\"threshold\": 0.023, \"p\": 27976, \"fpr\": 0.9988738738738738, \"tpr\": 1.0, \"n\": 5328}, {\"threshold\": 0.024, \"p\": 27976, \"fpr\": 0.9988738738738738, \"tpr\": 1.0, \"n\": 5328}, {\"threshold\": 0.025, \"p\": 27976, \"fpr\": 0.9988738738738738, \"tpr\": 1.0, \"n\": 5328}, {\"threshold\": 0.026, \"p\": 27976, \"fpr\": 0.9988738738738738, \"tpr\": 1.0, \"n\": 5328}, {\"threshold\": 0.027, \"p\": 27976, \"fpr\": 0.9988738738738738, \"tpr\": 1.0, \"n\": 5328}, {\"threshold\": 0.028, \"p\": 27976, \"fpr\": 0.9988738738738738, \"tpr\": 1.0, \"n\": 5328}, {\"threshold\": 0.029, \"p\": 27976, \"fpr\": 0.9988738738738738, \"tpr\": 1.0, \"n\": 5328}, {\"threshold\": 0.03, \"p\": 27976, \"fpr\": 0.9988738738738738, \"tpr\": 1.0, \"n\": 5328}, {\"threshold\": 0.031, \"p\": 27976, \"fpr\": 0.9986861861861862, \"tpr\": 1.0, \"n\": 5328}, {\"threshold\": 0.032, \"p\": 27976, \"fpr\": 0.9986861861861862, \"tpr\": 1.0, \"n\": 5328}, {\"threshold\": 0.033, \"p\": 27976, \"fpr\": 0.9986861861861862, \"tpr\": 1.0, \"n\": 5328}, {\"threshold\": 0.034, \"p\": 27976, \"fpr\": 0.9986861861861862, \"tpr\": 1.0, \"n\": 5328}, {\"threshold\": 0.035, \"p\": 27976, \"fpr\": 0.9986861861861862, \"tpr\": 1.0, \"n\": 5328}, {\"threshold\": 0.036, \"p\": 27976, \"fpr\": 0.9986861861861862, \"tpr\": 1.0, \"n\": 5328}, {\"threshold\": 0.037, \"p\": 27976, \"fpr\": 0.9986861861861862, \"tpr\": 1.0, \"n\": 5328}, {\"threshold\": 0.038, \"p\": 27976, \"fpr\": 0.9986861861861862, \"tpr\": 1.0, \"n\": 5328}, {\"threshold\": 0.039, \"p\": 27976, \"fpr\": 0.9986861861861862, \"tpr\": 1.0, \"n\": 5328}, {\"threshold\": 0.04, \"p\": 27976, \"fpr\": 0.9986861861861862, \"tpr\": 1.0, \"n\": 5328}, {\"threshold\": 0.041, \"p\": 27976, \"fpr\": 0.9986861861861862, \"tpr\": 1.0, \"n\": 5328}, {\"threshold\": 0.042, \"p\": 27976, \"fpr\": 0.9986861861861862, \"tpr\": 1.0, \"n\": 5328}, {\"threshold\": 0.043, \"p\": 27976, \"fpr\": 0.9986861861861862, \"tpr\": 1.0, \"n\": 5328}, {\"threshold\": 0.044, \"p\": 27976, \"fpr\": 0.9986861861861862, \"tpr\": 1.0, \"n\": 5328}, {\"threshold\": 0.045, \"p\": 27976, \"fpr\": 0.9986861861861862, \"tpr\": 1.0, \"n\": 5328}, {\"threshold\": 0.046, \"p\": 27976, \"fpr\": 0.9986861861861862, \"tpr\": 1.0, \"n\": 5328}, {\"threshold\": 0.047, \"p\": 27976, \"fpr\": 0.9986861861861862, \"tpr\": 1.0, \"n\": 5328}, {\"threshold\": 0.048, \"p\": 27976, \"fpr\": 0.9986861861861862, \"tpr\": 1.0, \"n\": 5328}, {\"threshold\": 0.049, \"p\": 27976, \"fpr\": 0.9986861861861862, \"tpr\": 1.0, \"n\": 5328}, {\"threshold\": 0.05, \"p\": 27976, \"fpr\": 0.9986861861861862, \"tpr\": 1.0, \"n\": 5328}, {\"threshold\": 0.051, \"p\": 27976, \"fpr\": 0.9986861861861862, \"tpr\": 1.0, \"n\": 5328}, {\"threshold\": 0.052, \"p\": 27976, \"fpr\": 0.9986861861861862, \"tpr\": 1.0, \"n\": 5328}, {\"threshold\": 0.053, \"p\": 27976, \"fpr\": 0.9986861861861862, \"tpr\": 1.0, \"n\": 5328}, {\"threshold\": 0.054, \"p\": 27976, \"fpr\": 0.9986861861861862, \"tpr\": 1.0, \"n\": 5328}, {\"threshold\": 0.055, \"p\": 27976, \"fpr\": 0.9986861861861862, \"tpr\": 1.0, \"n\": 5328}, {\"threshold\": 0.056, \"p\": 27976, \"fpr\": 0.9986861861861862, \"tpr\": 1.0, \"n\": 5328}, {\"threshold\": 0.057, \"p\": 27976, \"fpr\": 0.9984984984984985, \"tpr\": 0.9999642550757792, \"n\": 5328}, {\"threshold\": 0.058, \"p\": 27976, \"fpr\": 0.9984984984984985, \"tpr\": 0.9999642550757792, \"n\": 5328}, {\"threshold\": 0.059, \"p\": 27976, \"fpr\": 0.9984984984984985, \"tpr\": 0.9999642550757792, \"n\": 5328}, {\"threshold\": 0.06, \"p\": 27976, \"fpr\": 0.9984984984984985, \"tpr\": 0.9999642550757792, \"n\": 5328}, {\"threshold\": 0.061, \"p\": 27976, \"fpr\": 0.9984984984984985, \"tpr\": 0.9999642550757792, \"n\": 5328}, {\"threshold\": 0.062, \"p\": 27976, \"fpr\": 0.9979354354354354, \"tpr\": 0.9999642550757792, \"n\": 5328}, {\"threshold\": 0.063, \"p\": 27976, \"fpr\": 0.9979354354354354, \"tpr\": 0.9999642550757792, \"n\": 5328}, {\"threshold\": 0.064, \"p\": 27976, \"fpr\": 0.9977477477477478, \"tpr\": 0.9999642550757792, \"n\": 5328}, {\"threshold\": 0.065, \"p\": 27976, \"fpr\": 0.9977477477477478, \"tpr\": 0.9999642550757792, \"n\": 5328}, {\"threshold\": 0.066, \"p\": 27976, \"fpr\": 0.9977477477477478, \"tpr\": 0.9999642550757792, \"n\": 5328}, {\"threshold\": 0.067, \"p\": 27976, \"fpr\": 0.9977477477477478, \"tpr\": 0.9999642550757792, \"n\": 5328}, {\"threshold\": 0.068, \"p\": 27976, \"fpr\": 0.9973723723723724, \"tpr\": 0.9999642550757792, \"n\": 5328}, {\"threshold\": 0.069, \"p\": 27976, \"fpr\": 0.9973723723723724, \"tpr\": 0.9999642550757792, \"n\": 5328}, {\"threshold\": 0.07, \"p\": 27976, \"fpr\": 0.9973723723723724, \"tpr\": 0.9999285101515585, \"n\": 5328}, {\"threshold\": 0.071, \"p\": 27976, \"fpr\": 0.9973723723723724, \"tpr\": 0.9999285101515585, \"n\": 5328}, {\"threshold\": 0.072, \"p\": 27976, \"fpr\": 0.9973723723723724, \"tpr\": 0.9999285101515585, \"n\": 5328}, {\"threshold\": 0.073, \"p\": 27976, \"fpr\": 0.9973723723723724, \"tpr\": 0.9999285101515585, \"n\": 5328}, {\"threshold\": 0.074, \"p\": 27976, \"fpr\": 0.9973723723723724, \"tpr\": 0.9999285101515585, \"n\": 5328}, {\"threshold\": 0.075, \"p\": 27976, \"fpr\": 0.9973723723723724, \"tpr\": 0.9999285101515585, \"n\": 5328}, {\"threshold\": 0.076, \"p\": 27976, \"fpr\": 0.9973723723723724, \"tpr\": 0.9999285101515585, \"n\": 5328}, {\"threshold\": 0.077, \"p\": 27976, \"fpr\": 0.9973723723723724, \"tpr\": 0.9999285101515585, \"n\": 5328}, {\"threshold\": 0.078, \"p\": 27976, \"fpr\": 0.9973723723723724, \"tpr\": 0.9999285101515585, \"n\": 5328}, {\"threshold\": 0.079, \"p\": 27976, \"fpr\": 0.9973723723723724, \"tpr\": 0.9999285101515585, \"n\": 5328}, {\"threshold\": 0.08, \"p\": 27976, \"fpr\": 0.9973723723723724, \"tpr\": 0.9999285101515585, \"n\": 5328}, {\"threshold\": 0.081, \"p\": 27976, \"fpr\": 0.9973723723723724, \"tpr\": 0.9999285101515585, \"n\": 5328}, {\"threshold\": 0.082, \"p\": 27976, \"fpr\": 0.9973723723723724, \"tpr\": 0.9999285101515585, \"n\": 5328}, {\"threshold\": 0.083, \"p\": 27976, \"fpr\": 0.9973723723723724, \"tpr\": 0.9999285101515585, \"n\": 5328}, {\"threshold\": 0.084, \"p\": 27976, \"fpr\": 0.9971846846846847, \"tpr\": 0.9998927652273377, \"n\": 5328}, {\"threshold\": 0.085, \"p\": 27976, \"fpr\": 0.9971846846846847, \"tpr\": 0.9998927652273377, \"n\": 5328}, {\"threshold\": 0.086, \"p\": 27976, \"fpr\": 0.9971846846846847, \"tpr\": 0.9998927652273377, \"n\": 5328}, {\"threshold\": 0.087, \"p\": 27976, \"fpr\": 0.9971846846846847, \"tpr\": 0.9998927652273377, \"n\": 5328}, {\"threshold\": 0.088, \"p\": 27976, \"fpr\": 0.9971846846846847, \"tpr\": 0.9998927652273377, \"n\": 5328}, {\"threshold\": 0.089, \"p\": 27976, \"fpr\": 0.9971846846846847, \"tpr\": 0.9998927652273377, \"n\": 5328}, {\"threshold\": 0.09, \"p\": 27976, \"fpr\": 0.9971846846846847, \"tpr\": 0.9998927652273377, \"n\": 5328}, {\"threshold\": 0.091, \"p\": 27976, \"fpr\": 0.9971846846846847, \"tpr\": 0.9998927652273377, \"n\": 5328}, {\"threshold\": 0.092, \"p\": 27976, \"fpr\": 0.9971846846846847, \"tpr\": 0.9998927652273377, \"n\": 5328}, {\"threshold\": 0.093, \"p\": 27976, \"fpr\": 0.9971846846846847, \"tpr\": 0.9998927652273377, \"n\": 5328}, {\"threshold\": 0.094, \"p\": 27976, \"fpr\": 0.9971846846846847, \"tpr\": 0.9998927652273377, \"n\": 5328}, {\"threshold\": 0.095, \"p\": 27976, \"fpr\": 0.9971846846846847, \"tpr\": 0.9998927652273377, \"n\": 5328}, {\"threshold\": 0.096, \"p\": 27976, \"fpr\": 0.9971846846846847, \"tpr\": 0.9998927652273377, \"n\": 5328}, {\"threshold\": 0.097, \"p\": 27976, \"fpr\": 0.9971846846846847, \"tpr\": 0.9998927652273377, \"n\": 5328}, {\"threshold\": 0.098, \"p\": 27976, \"fpr\": 0.9971846846846847, \"tpr\": 0.9998927652273377, \"n\": 5328}, {\"threshold\": 0.099, \"p\": 27976, \"fpr\": 0.9971846846846847, \"tpr\": 0.9998927652273377, \"n\": 5328}, {\"threshold\": 0.1, \"p\": 27976, \"fpr\": 0.9971846846846847, \"tpr\": 0.9998927652273377, \"n\": 5328}, {\"threshold\": 0.101, \"p\": 27976, \"fpr\": 0.9971846846846847, \"tpr\": 0.9998927652273377, \"n\": 5328}, {\"threshold\": 0.102, \"p\": 27976, \"fpr\": 0.9971846846846847, \"tpr\": 0.9998927652273377, \"n\": 5328}, {\"threshold\": 0.103, \"p\": 27976, \"fpr\": 0.9971846846846847, \"tpr\": 0.9998927652273377, \"n\": 5328}, {\"threshold\": 0.104, \"p\": 27976, \"fpr\": 0.9971846846846847, \"tpr\": 0.9998927652273377, \"n\": 5328}, {\"threshold\": 0.105, \"p\": 27976, \"fpr\": 0.9971846846846847, \"tpr\": 0.9998927652273377, \"n\": 5328}, {\"threshold\": 0.106, \"p\": 27976, \"fpr\": 0.9971846846846847, \"tpr\": 0.9998927652273377, \"n\": 5328}, {\"threshold\": 0.107, \"p\": 27976, \"fpr\": 0.9971846846846847, \"tpr\": 0.9998927652273377, \"n\": 5328}, {\"threshold\": 0.108, \"p\": 27976, \"fpr\": 0.9971846846846847, \"tpr\": 0.9998927652273377, \"n\": 5328}, {\"threshold\": 0.109, \"p\": 27976, \"fpr\": 0.9971846846846847, \"tpr\": 0.9998927652273377, \"n\": 5328}, {\"threshold\": 0.11, \"p\": 27976, \"fpr\": 0.9971846846846847, \"tpr\": 0.9998927652273377, \"n\": 5328}, {\"threshold\": 0.111, \"p\": 27976, \"fpr\": 0.9971846846846847, \"tpr\": 0.9998927652273377, \"n\": 5328}, {\"threshold\": 0.112, \"p\": 27976, \"fpr\": 0.9971846846846847, \"tpr\": 0.9998927652273377, \"n\": 5328}, {\"threshold\": 0.113, \"p\": 27976, \"fpr\": 0.9971846846846847, \"tpr\": 0.9998927652273377, \"n\": 5328}, {\"threshold\": 0.114, \"p\": 27976, \"fpr\": 0.9971846846846847, \"tpr\": 0.9998927652273377, \"n\": 5328}, {\"threshold\": 0.115, \"p\": 27976, \"fpr\": 0.9971846846846847, \"tpr\": 0.9998927652273377, \"n\": 5328}, {\"threshold\": 0.116, \"p\": 27976, \"fpr\": 0.9971846846846847, \"tpr\": 0.9998927652273377, \"n\": 5328}, {\"threshold\": 0.117, \"p\": 27976, \"fpr\": 0.9971846846846847, \"tpr\": 0.9998927652273377, \"n\": 5328}, {\"threshold\": 0.118, \"p\": 27976, \"fpr\": 0.9971846846846847, \"tpr\": 0.9998927652273377, \"n\": 5328}, {\"threshold\": 0.119, \"p\": 27976, \"fpr\": 0.9971846846846847, \"tpr\": 0.9998927652273377, \"n\": 5328}, {\"threshold\": 0.12, \"p\": 27976, \"fpr\": 0.9971846846846847, \"tpr\": 0.9998927652273377, \"n\": 5328}, {\"threshold\": 0.121, \"p\": 27976, \"fpr\": 0.9971846846846847, \"tpr\": 0.9998927652273377, \"n\": 5328}, {\"threshold\": 0.122, \"p\": 27976, \"fpr\": 0.9971846846846847, \"tpr\": 0.9998927652273377, \"n\": 5328}, {\"threshold\": 0.123, \"p\": 27976, \"fpr\": 0.9971846846846847, \"tpr\": 0.9998927652273377, \"n\": 5328}, {\"threshold\": 0.124, \"p\": 27976, \"fpr\": 0.9971846846846847, \"tpr\": 0.9998927652273377, \"n\": 5328}, {\"threshold\": 0.125, \"p\": 27976, \"fpr\": 0.9971846846846847, \"tpr\": 0.9998927652273377, \"n\": 5328}, {\"threshold\": 0.126, \"p\": 27976, \"fpr\": 0.9971846846846847, \"tpr\": 0.9998927652273377, \"n\": 5328}, {\"threshold\": 0.127, \"p\": 27976, \"fpr\": 0.9971846846846847, \"tpr\": 0.9998927652273377, \"n\": 5328}, {\"threshold\": 0.128, \"p\": 27976, \"fpr\": 0.9971846846846847, \"tpr\": 0.9998927652273377, \"n\": 5328}, {\"threshold\": 0.129, \"p\": 27976, \"fpr\": 0.9971846846846847, \"tpr\": 0.9998927652273377, \"n\": 5328}, {\"threshold\": 0.13, \"p\": 27976, \"fpr\": 0.9971846846846847, \"tpr\": 0.9998927652273377, \"n\": 5328}, {\"threshold\": 0.131, \"p\": 27976, \"fpr\": 0.9971846846846847, \"tpr\": 0.9998927652273377, \"n\": 5328}, {\"threshold\": 0.132, \"p\": 27976, \"fpr\": 0.9971846846846847, \"tpr\": 0.9998927652273377, \"n\": 5328}, {\"threshold\": 0.133, \"p\": 27976, \"fpr\": 0.9971846846846847, \"tpr\": 0.9998927652273377, \"n\": 5328}, {\"threshold\": 0.134, \"p\": 27976, \"fpr\": 0.9971846846846847, \"tpr\": 0.9998927652273377, \"n\": 5328}, {\"threshold\": 0.135, \"p\": 27976, \"fpr\": 0.9971846846846847, \"tpr\": 0.9998927652273377, \"n\": 5328}, {\"threshold\": 0.136, \"p\": 27976, \"fpr\": 0.9971846846846847, \"tpr\": 0.9998927652273377, \"n\": 5328}, {\"threshold\": 0.137, \"p\": 27976, \"fpr\": 0.9971846846846847, \"tpr\": 0.9998927652273377, \"n\": 5328}, {\"threshold\": 0.138, \"p\": 27976, \"fpr\": 0.9971846846846847, \"tpr\": 0.9998927652273377, \"n\": 5328}, {\"threshold\": 0.139, \"p\": 27976, \"fpr\": 0.9971846846846847, \"tpr\": 0.9998927652273377, \"n\": 5328}, {\"threshold\": 0.14, \"p\": 27976, \"fpr\": 0.9971846846846847, \"tpr\": 0.9998927652273377, \"n\": 5328}, {\"threshold\": 0.141, \"p\": 27976, \"fpr\": 0.9971846846846847, \"tpr\": 0.9998927652273377, \"n\": 5328}, {\"threshold\": 0.142, \"p\": 27976, \"fpr\": 0.996996996996997, \"tpr\": 0.9998927652273377, \"n\": 5328}, {\"threshold\": 0.143, \"p\": 27976, \"fpr\": 0.996996996996997, \"tpr\": 0.9998927652273377, \"n\": 5328}, {\"threshold\": 0.144, \"p\": 27976, \"fpr\": 0.996996996996997, \"tpr\": 0.9998927652273377, \"n\": 5328}, {\"threshold\": 0.145, \"p\": 27976, \"fpr\": 0.996996996996997, \"tpr\": 0.9998927652273377, \"n\": 5328}, {\"threshold\": 0.146, \"p\": 27976, \"fpr\": 0.996996996996997, \"tpr\": 0.9998927652273377, \"n\": 5328}, {\"threshold\": 0.147, \"p\": 27976, \"fpr\": 0.996996996996997, \"tpr\": 0.9998927652273377, \"n\": 5328}, {\"threshold\": 0.148, \"p\": 27976, \"fpr\": 0.996996996996997, \"tpr\": 0.9998927652273377, \"n\": 5328}, {\"threshold\": 0.149, \"p\": 27976, \"fpr\": 0.996996996996997, \"tpr\": 0.9998927652273377, \"n\": 5328}, {\"threshold\": 0.15, \"p\": 27976, \"fpr\": 0.996996996996997, \"tpr\": 0.9998927652273377, \"n\": 5328}, {\"threshold\": 0.151, \"p\": 27976, \"fpr\": 0.996996996996997, \"tpr\": 0.9998927652273377, \"n\": 5328}, {\"threshold\": 0.152, \"p\": 27976, \"fpr\": 0.996996996996997, \"tpr\": 0.9998927652273377, \"n\": 5328}, {\"threshold\": 0.153, \"p\": 27976, \"fpr\": 0.996996996996997, \"tpr\": 0.9998927652273377, \"n\": 5328}, {\"threshold\": 0.154, \"p\": 27976, \"fpr\": 0.996433933933934, \"tpr\": 0.999857020303117, \"n\": 5328}, {\"threshold\": 0.155, \"p\": 27976, \"fpr\": 0.996433933933934, \"tpr\": 0.999857020303117, \"n\": 5328}, {\"threshold\": 0.156, \"p\": 27976, \"fpr\": 0.996433933933934, \"tpr\": 0.999857020303117, \"n\": 5328}, {\"threshold\": 0.157, \"p\": 27976, \"fpr\": 0.996433933933934, \"tpr\": 0.999857020303117, \"n\": 5328}, {\"threshold\": 0.158, \"p\": 27976, \"fpr\": 0.996433933933934, \"tpr\": 0.999857020303117, \"n\": 5328}, {\"threshold\": 0.159, \"p\": 27976, \"fpr\": 0.996433933933934, \"tpr\": 0.999857020303117, \"n\": 5328}, {\"threshold\": 0.16, \"p\": 27976, \"fpr\": 0.996433933933934, \"tpr\": 0.999857020303117, \"n\": 5328}, {\"threshold\": 0.161, \"p\": 27976, \"fpr\": 0.996433933933934, \"tpr\": 0.999857020303117, \"n\": 5328}, {\"threshold\": 0.162, \"p\": 27976, \"fpr\": 0.996433933933934, \"tpr\": 0.999857020303117, \"n\": 5328}, {\"threshold\": 0.163, \"p\": 27976, \"fpr\": 0.996433933933934, \"tpr\": 0.999857020303117, \"n\": 5328}, {\"threshold\": 0.164, \"p\": 27976, \"fpr\": 0.996433933933934, \"tpr\": 0.999857020303117, \"n\": 5328}, {\"threshold\": 0.165, \"p\": 27976, \"fpr\": 0.996433933933934, \"tpr\": 0.999857020303117, \"n\": 5328}, {\"threshold\": 0.166, \"p\": 27976, \"fpr\": 0.9958708708708709, \"tpr\": 0.999857020303117, \"n\": 5328}, {\"threshold\": 0.167, \"p\": 27976, \"fpr\": 0.9958708708708709, \"tpr\": 0.999857020303117, \"n\": 5328}, {\"threshold\": 0.168, \"p\": 27976, \"fpr\": 0.9958708708708709, \"tpr\": 0.999857020303117, \"n\": 5328}, {\"threshold\": 0.169, \"p\": 27976, \"fpr\": 0.9958708708708709, \"tpr\": 0.999857020303117, \"n\": 5328}, {\"threshold\": 0.17, \"p\": 27976, \"fpr\": 0.9958708708708709, \"tpr\": 0.999857020303117, \"n\": 5328}, {\"threshold\": 0.171, \"p\": 27976, \"fpr\": 0.9958708708708709, \"tpr\": 0.999857020303117, \"n\": 5328}, {\"threshold\": 0.172, \"p\": 27976, \"fpr\": 0.9958708708708709, \"tpr\": 0.999857020303117, \"n\": 5328}, {\"threshold\": 0.173, \"p\": 27976, \"fpr\": 0.9958708708708709, \"tpr\": 0.999857020303117, \"n\": 5328}, {\"threshold\": 0.174, \"p\": 27976, \"fpr\": 0.9958708708708709, \"tpr\": 0.999857020303117, \"n\": 5328}, {\"threshold\": 0.175, \"p\": 27976, \"fpr\": 0.9958708708708709, \"tpr\": 0.999857020303117, \"n\": 5328}, {\"threshold\": 0.176, \"p\": 27976, \"fpr\": 0.9958708708708709, \"tpr\": 0.999857020303117, \"n\": 5328}, {\"threshold\": 0.177, \"p\": 27976, \"fpr\": 0.9958708708708709, \"tpr\": 0.999857020303117, \"n\": 5328}, {\"threshold\": 0.178, \"p\": 27976, \"fpr\": 0.9958708708708709, \"tpr\": 0.999857020303117, \"n\": 5328}, {\"threshold\": 0.179, \"p\": 27976, \"fpr\": 0.9958708708708709, \"tpr\": 0.999857020303117, \"n\": 5328}, {\"threshold\": 0.18, \"p\": 27976, \"fpr\": 0.9958708708708709, \"tpr\": 0.999857020303117, \"n\": 5328}, {\"threshold\": 0.181, \"p\": 27976, \"fpr\": 0.9958708708708709, \"tpr\": 0.999857020303117, \"n\": 5328}, {\"threshold\": 0.182, \"p\": 27976, \"fpr\": 0.9958708708708709, \"tpr\": 0.999857020303117, \"n\": 5328}, {\"threshold\": 0.183, \"p\": 27976, \"fpr\": 0.9958708708708709, \"tpr\": 0.999857020303117, \"n\": 5328}, {\"threshold\": 0.184, \"p\": 27976, \"fpr\": 0.9958708708708709, \"tpr\": 0.999857020303117, \"n\": 5328}, {\"threshold\": 0.185, \"p\": 27976, \"fpr\": 0.9958708708708709, \"tpr\": 0.999857020303117, \"n\": 5328}, {\"threshold\": 0.186, \"p\": 27976, \"fpr\": 0.9958708708708709, \"tpr\": 0.999857020303117, \"n\": 5328}, {\"threshold\": 0.187, \"p\": 27976, \"fpr\": 0.9958708708708709, \"tpr\": 0.999857020303117, \"n\": 5328}, {\"threshold\": 0.188, \"p\": 27976, \"fpr\": 0.9958708708708709, \"tpr\": 0.999857020303117, \"n\": 5328}, {\"threshold\": 0.189, \"p\": 27976, \"fpr\": 0.9958708708708709, \"tpr\": 0.999857020303117, \"n\": 5328}, {\"threshold\": 0.19, \"p\": 27976, \"fpr\": 0.9949324324324325, \"tpr\": 0.9998212753788962, \"n\": 5328}, {\"threshold\": 0.191, \"p\": 27976, \"fpr\": 0.9949324324324325, \"tpr\": 0.9998212753788962, \"n\": 5328}, {\"threshold\": 0.192, \"p\": 27976, \"fpr\": 0.9949324324324325, \"tpr\": 0.9998212753788962, \"n\": 5328}, {\"threshold\": 0.193, \"p\": 27976, \"fpr\": 0.9949324324324325, \"tpr\": 0.9998212753788962, \"n\": 5328}, {\"threshold\": 0.194, \"p\": 27976, \"fpr\": 0.9949324324324325, \"tpr\": 0.9998212753788962, \"n\": 5328}, {\"threshold\": 0.195, \"p\": 27976, \"fpr\": 0.9949324324324325, \"tpr\": 0.9998212753788962, \"n\": 5328}, {\"threshold\": 0.196, \"p\": 27976, \"fpr\": 0.9949324324324325, \"tpr\": 0.9997855304546754, \"n\": 5328}, {\"threshold\": 0.197, \"p\": 27976, \"fpr\": 0.9949324324324325, \"tpr\": 0.9997855304546754, \"n\": 5328}, {\"threshold\": 0.198, \"p\": 27976, \"fpr\": 0.9949324324324325, \"tpr\": 0.9997855304546754, \"n\": 5328}, {\"threshold\": 0.199, \"p\": 27976, \"fpr\": 0.9949324324324325, \"tpr\": 0.9997855304546754, \"n\": 5328}, {\"threshold\": 0.2, \"p\": 27976, \"fpr\": 0.9949324324324325, \"tpr\": 0.9997855304546754, \"n\": 5328}, {\"threshold\": 0.201, \"p\": 27976, \"fpr\": 0.9945570570570571, \"tpr\": 0.9997497855304547, \"n\": 5328}, {\"threshold\": 0.202, \"p\": 27976, \"fpr\": 0.9945570570570571, \"tpr\": 0.9997497855304547, \"n\": 5328}, {\"threshold\": 0.203, \"p\": 27976, \"fpr\": 0.9945570570570571, \"tpr\": 0.9997497855304547, \"n\": 5328}, {\"threshold\": 0.204, \"p\": 27976, \"fpr\": 0.9945570570570571, \"tpr\": 0.9997497855304547, \"n\": 5328}, {\"threshold\": 0.205, \"p\": 27976, \"fpr\": 0.9945570570570571, \"tpr\": 0.9997497855304547, \"n\": 5328}, {\"threshold\": 0.206, \"p\": 27976, \"fpr\": 0.9945570570570571, \"tpr\": 0.9997497855304547, \"n\": 5328}, {\"threshold\": 0.207, \"p\": 27976, \"fpr\": 0.9945570570570571, \"tpr\": 0.9997497855304547, \"n\": 5328}, {\"threshold\": 0.208, \"p\": 27976, \"fpr\": 0.9945570570570571, \"tpr\": 0.9997497855304547, \"n\": 5328}, {\"threshold\": 0.209, \"p\": 27976, \"fpr\": 0.9945570570570571, \"tpr\": 0.9997497855304547, \"n\": 5328}, {\"threshold\": 0.21, \"p\": 27976, \"fpr\": 0.9945570570570571, \"tpr\": 0.9997497855304547, \"n\": 5328}, {\"threshold\": 0.211, \"p\": 27976, \"fpr\": 0.9945570570570571, \"tpr\": 0.9997140406062339, \"n\": 5328}, {\"threshold\": 0.212, \"p\": 27976, \"fpr\": 0.9945570570570571, \"tpr\": 0.9997140406062339, \"n\": 5328}, {\"threshold\": 0.213, \"p\": 27976, \"fpr\": 0.9945570570570571, \"tpr\": 0.9997140406062339, \"n\": 5328}, {\"threshold\": 0.214, \"p\": 27976, \"fpr\": 0.9945570570570571, \"tpr\": 0.9997140406062339, \"n\": 5328}, {\"threshold\": 0.215, \"p\": 27976, \"fpr\": 0.9945570570570571, \"tpr\": 0.9997140406062339, \"n\": 5328}, {\"threshold\": 0.216, \"p\": 27976, \"fpr\": 0.9945570570570571, \"tpr\": 0.9997140406062339, \"n\": 5328}, {\"threshold\": 0.217, \"p\": 27976, \"fpr\": 0.9945570570570571, \"tpr\": 0.9997140406062339, \"n\": 5328}, {\"threshold\": 0.218, \"p\": 27976, \"fpr\": 0.9945570570570571, \"tpr\": 0.9996782956820132, \"n\": 5328}, {\"threshold\": 0.219, \"p\": 27976, \"fpr\": 0.9945570570570571, \"tpr\": 0.9996782956820132, \"n\": 5328}, {\"threshold\": 0.22, \"p\": 27976, \"fpr\": 0.9945570570570571, \"tpr\": 0.9996425507577924, \"n\": 5328}, {\"threshold\": 0.221, \"p\": 27976, \"fpr\": 0.9945570570570571, \"tpr\": 0.9996425507577924, \"n\": 5328}, {\"threshold\": 0.222, \"p\": 27976, \"fpr\": 0.9945570570570571, \"tpr\": 0.9996425507577924, \"n\": 5328}, {\"threshold\": 0.223, \"p\": 27976, \"fpr\": 0.9945570570570571, \"tpr\": 0.9996425507577924, \"n\": 5328}, {\"threshold\": 0.224, \"p\": 27976, \"fpr\": 0.9945570570570571, \"tpr\": 0.9996425507577924, \"n\": 5328}, {\"threshold\": 0.225, \"p\": 27976, \"fpr\": 0.9945570570570571, \"tpr\": 0.9996425507577924, \"n\": 5328}, {\"threshold\": 0.226, \"p\": 27976, \"fpr\": 0.9945570570570571, \"tpr\": 0.9996425507577924, \"n\": 5328}, {\"threshold\": 0.227, \"p\": 27976, \"fpr\": 0.9945570570570571, \"tpr\": 0.9996425507577924, \"n\": 5328}, {\"threshold\": 0.228, \"p\": 27976, \"fpr\": 0.9945570570570571, \"tpr\": 0.9996425507577924, \"n\": 5328}, {\"threshold\": 0.229, \"p\": 27976, \"fpr\": 0.9945570570570571, \"tpr\": 0.9996425507577924, \"n\": 5328}, {\"threshold\": 0.23, \"p\": 27976, \"fpr\": 0.9945570570570571, \"tpr\": 0.9996425507577924, \"n\": 5328}, {\"threshold\": 0.231, \"p\": 27976, \"fpr\": 0.9945570570570571, \"tpr\": 0.9996425507577924, \"n\": 5328}, {\"threshold\": 0.232, \"p\": 27976, \"fpr\": 0.9945570570570571, \"tpr\": 0.9996425507577924, \"n\": 5328}, {\"threshold\": 0.233, \"p\": 27976, \"fpr\": 0.9945570570570571, \"tpr\": 0.9996425507577924, \"n\": 5328}, {\"threshold\": 0.234, \"p\": 27976, \"fpr\": 0.9945570570570571, \"tpr\": 0.9996425507577924, \"n\": 5328}, {\"threshold\": 0.235, \"p\": 27976, \"fpr\": 0.9945570570570571, \"tpr\": 0.9996425507577924, \"n\": 5328}, {\"threshold\": 0.236, \"p\": 27976, \"fpr\": 0.9945570570570571, \"tpr\": 0.9996425507577924, \"n\": 5328}, {\"threshold\": 0.237, \"p\": 27976, \"fpr\": 0.9945570570570571, \"tpr\": 0.9996425507577924, \"n\": 5328}, {\"threshold\": 0.238, \"p\": 27976, \"fpr\": 0.9945570570570571, \"tpr\": 0.9996425507577924, \"n\": 5328}, {\"threshold\": 0.239, \"p\": 27976, \"fpr\": 0.9945570570570571, \"tpr\": 0.9996425507577924, \"n\": 5328}, {\"threshold\": 0.24, \"p\": 27976, \"fpr\": 0.9945570570570571, \"tpr\": 0.9996425507577924, \"n\": 5328}, {\"threshold\": 0.241, \"p\": 27976, \"fpr\": 0.9945570570570571, \"tpr\": 0.9996425507577924, \"n\": 5328}, {\"threshold\": 0.242, \"p\": 27976, \"fpr\": 0.9945570570570571, \"tpr\": 0.9996425507577924, \"n\": 5328}, {\"threshold\": 0.243, \"p\": 27976, \"fpr\": 0.9945570570570571, \"tpr\": 0.9996425507577924, \"n\": 5328}, {\"threshold\": 0.244, \"p\": 27976, \"fpr\": 0.9945570570570571, \"tpr\": 0.9996425507577924, \"n\": 5328}, {\"threshold\": 0.245, \"p\": 27976, \"fpr\": 0.9945570570570571, \"tpr\": 0.9996425507577924, \"n\": 5328}, {\"threshold\": 0.246, \"p\": 27976, \"fpr\": 0.9945570570570571, \"tpr\": 0.9996425507577924, \"n\": 5328}, {\"threshold\": 0.247, \"p\": 27976, \"fpr\": 0.9945570570570571, \"tpr\": 0.9996425507577924, \"n\": 5328}, {\"threshold\": 0.248, \"p\": 27976, \"fpr\": 0.9945570570570571, \"tpr\": 0.9996425507577924, \"n\": 5328}, {\"threshold\": 0.249, \"p\": 27976, \"fpr\": 0.9945570570570571, \"tpr\": 0.9996425507577924, \"n\": 5328}, {\"threshold\": 0.25, \"p\": 27976, \"fpr\": 0.9945570570570571, \"tpr\": 0.9996425507577924, \"n\": 5328}, {\"threshold\": 0.251, \"p\": 27976, \"fpr\": 0.9945570570570571, \"tpr\": 0.9996425507577924, \"n\": 5328}, {\"threshold\": 0.252, \"p\": 27976, \"fpr\": 0.9945570570570571, \"tpr\": 0.9996425507577924, \"n\": 5328}, {\"threshold\": 0.253, \"p\": 27976, \"fpr\": 0.9945570570570571, \"tpr\": 0.9996425507577924, \"n\": 5328}, {\"threshold\": 0.254, \"p\": 27976, \"fpr\": 0.9945570570570571, \"tpr\": 0.9996425507577924, \"n\": 5328}, {\"threshold\": 0.255, \"p\": 27976, \"fpr\": 0.9945570570570571, \"tpr\": 0.9996425507577924, \"n\": 5328}, {\"threshold\": 0.256, \"p\": 27976, \"fpr\": 0.9945570570570571, \"tpr\": 0.9996425507577924, \"n\": 5328}, {\"threshold\": 0.257, \"p\": 27976, \"fpr\": 0.9945570570570571, \"tpr\": 0.9996425507577924, \"n\": 5328}, {\"threshold\": 0.258, \"p\": 27976, \"fpr\": 0.9945570570570571, \"tpr\": 0.9996425507577924, \"n\": 5328}, {\"threshold\": 0.259, \"p\": 27976, \"fpr\": 0.9945570570570571, \"tpr\": 0.9996425507577924, \"n\": 5328}, {\"threshold\": 0.26, \"p\": 27976, \"fpr\": 0.9945570570570571, \"tpr\": 0.9996425507577924, \"n\": 5328}, {\"threshold\": 0.261, \"p\": 27976, \"fpr\": 0.9945570570570571, \"tpr\": 0.9996425507577924, \"n\": 5328}, {\"threshold\": 0.262, \"p\": 27976, \"fpr\": 0.9945570570570571, \"tpr\": 0.9996425507577924, \"n\": 5328}, {\"threshold\": 0.263, \"p\": 27976, \"fpr\": 0.9945570570570571, \"tpr\": 0.9996425507577924, \"n\": 5328}, {\"threshold\": 0.264, \"p\": 27976, \"fpr\": 0.9938063063063063, \"tpr\": 0.9996068058335716, \"n\": 5328}, {\"threshold\": 0.265, \"p\": 27976, \"fpr\": 0.9938063063063063, \"tpr\": 0.9996068058335716, \"n\": 5328}, {\"threshold\": 0.266, \"p\": 27976, \"fpr\": 0.9938063063063063, \"tpr\": 0.9996068058335716, \"n\": 5328}, {\"threshold\": 0.267, \"p\": 27976, \"fpr\": 0.9938063063063063, \"tpr\": 0.9996068058335716, \"n\": 5328}, {\"threshold\": 0.268, \"p\": 27976, \"fpr\": 0.9938063063063063, \"tpr\": 0.9996068058335716, \"n\": 5328}, {\"threshold\": 0.269, \"p\": 27976, \"fpr\": 0.9938063063063063, \"tpr\": 0.9996068058335716, \"n\": 5328}, {\"threshold\": 0.27, \"p\": 27976, \"fpr\": 0.9938063063063063, \"tpr\": 0.9996068058335716, \"n\": 5328}, {\"threshold\": 0.271, \"p\": 27976, \"fpr\": 0.9938063063063063, \"tpr\": 0.9996068058335716, \"n\": 5328}, {\"threshold\": 0.272, \"p\": 27976, \"fpr\": 0.9938063063063063, \"tpr\": 0.9996068058335716, \"n\": 5328}, {\"threshold\": 0.273, \"p\": 27976, \"fpr\": 0.9938063063063063, \"tpr\": 0.9996068058335716, \"n\": 5328}, {\"threshold\": 0.274, \"p\": 27976, \"fpr\": 0.9938063063063063, \"tpr\": 0.9996068058335716, \"n\": 5328}, {\"threshold\": 0.275, \"p\": 27976, \"fpr\": 0.9938063063063063, \"tpr\": 0.9996068058335716, \"n\": 5328}, {\"threshold\": 0.276, \"p\": 27976, \"fpr\": 0.9938063063063063, \"tpr\": 0.9996068058335716, \"n\": 5328}, {\"threshold\": 0.277, \"p\": 27976, \"fpr\": 0.9938063063063063, \"tpr\": 0.9996068058335716, \"n\": 5328}, {\"threshold\": 0.278, \"p\": 27976, \"fpr\": 0.9938063063063063, \"tpr\": 0.9996068058335716, \"n\": 5328}, {\"threshold\": 0.279, \"p\": 27976, \"fpr\": 0.9938063063063063, \"tpr\": 0.9996068058335716, \"n\": 5328}, {\"threshold\": 0.28, \"p\": 27976, \"fpr\": 0.9938063063063063, \"tpr\": 0.9996068058335716, \"n\": 5328}, {\"threshold\": 0.281, \"p\": 27976, \"fpr\": 0.9938063063063063, \"tpr\": 0.9996068058335716, \"n\": 5328}, {\"threshold\": 0.282, \"p\": 27976, \"fpr\": 0.9938063063063063, \"tpr\": 0.9996068058335716, \"n\": 5328}, {\"threshold\": 0.283, \"p\": 27976, \"fpr\": 0.9938063063063063, \"tpr\": 0.9996068058335716, \"n\": 5328}, {\"threshold\": 0.284, \"p\": 27976, \"fpr\": 0.9938063063063063, \"tpr\": 0.9996068058335716, \"n\": 5328}, {\"threshold\": 0.285, \"p\": 27976, \"fpr\": 0.9938063063063063, \"tpr\": 0.9996068058335716, \"n\": 5328}, {\"threshold\": 0.286, \"p\": 27976, \"fpr\": 0.9938063063063063, \"tpr\": 0.9996068058335716, \"n\": 5328}, {\"threshold\": 0.287, \"p\": 27976, \"fpr\": 0.9938063063063063, \"tpr\": 0.9996068058335716, \"n\": 5328}, {\"threshold\": 0.288, \"p\": 27976, \"fpr\": 0.9938063063063063, \"tpr\": 0.9996068058335716, \"n\": 5328}, {\"threshold\": 0.289, \"p\": 27976, \"fpr\": 0.9938063063063063, \"tpr\": 0.9996068058335716, \"n\": 5328}, {\"threshold\": 0.29, \"p\": 27976, \"fpr\": 0.9938063063063063, \"tpr\": 0.9996068058335716, \"n\": 5328}, {\"threshold\": 0.291, \"p\": 27976, \"fpr\": 0.9938063063063063, \"tpr\": 0.9996068058335716, \"n\": 5328}, {\"threshold\": 0.292, \"p\": 27976, \"fpr\": 0.9938063063063063, \"tpr\": 0.9996068058335716, \"n\": 5328}, {\"threshold\": 0.293, \"p\": 27976, \"fpr\": 0.9938063063063063, \"tpr\": 0.9996068058335716, \"n\": 5328}, {\"threshold\": 0.294, \"p\": 27976, \"fpr\": 0.9938063063063063, \"tpr\": 0.9996068058335716, \"n\": 5328}, {\"threshold\": 0.295, \"p\": 27976, \"fpr\": 0.9938063063063063, \"tpr\": 0.9996068058335716, \"n\": 5328}, {\"threshold\": 0.296, \"p\": 27976, \"fpr\": 0.9938063063063063, \"tpr\": 0.9996068058335716, \"n\": 5328}, {\"threshold\": 0.297, \"p\": 27976, \"fpr\": 0.9938063063063063, \"tpr\": 0.9996068058335716, \"n\": 5328}, {\"threshold\": 0.298, \"p\": 27976, \"fpr\": 0.9938063063063063, \"tpr\": 0.9996068058335716, \"n\": 5328}, {\"threshold\": 0.299, \"p\": 27976, \"fpr\": 0.9938063063063063, \"tpr\": 0.9996068058335716, \"n\": 5328}, {\"threshold\": 0.3, \"p\": 27976, \"fpr\": 0.9938063063063063, \"tpr\": 0.9996068058335716, \"n\": 5328}, {\"threshold\": 0.301, \"p\": 27976, \"fpr\": 0.9938063063063063, \"tpr\": 0.9996068058335716, \"n\": 5328}, {\"threshold\": 0.302, \"p\": 27976, \"fpr\": 0.9938063063063063, \"tpr\": 0.9996068058335716, \"n\": 5328}, {\"threshold\": 0.303, \"p\": 27976, \"fpr\": 0.9938063063063063, \"tpr\": 0.9996068058335716, \"n\": 5328}, {\"threshold\": 0.304, \"p\": 27976, \"fpr\": 0.9938063063063063, \"tpr\": 0.9996068058335716, \"n\": 5328}, {\"threshold\": 0.305, \"p\": 27976, \"fpr\": 0.9938063063063063, \"tpr\": 0.9996068058335716, \"n\": 5328}, {\"threshold\": 0.306, \"p\": 27976, \"fpr\": 0.9938063063063063, \"tpr\": 0.9996068058335716, \"n\": 5328}, {\"threshold\": 0.307, \"p\": 27976, \"fpr\": 0.9938063063063063, \"tpr\": 0.9996068058335716, \"n\": 5328}, {\"threshold\": 0.308, \"p\": 27976, \"fpr\": 0.9938063063063063, \"tpr\": 0.9996068058335716, \"n\": 5328}, {\"threshold\": 0.309, \"p\": 27976, \"fpr\": 0.9938063063063063, \"tpr\": 0.9996068058335716, \"n\": 5328}, {\"threshold\": 0.31, \"p\": 27976, \"fpr\": 0.9938063063063063, \"tpr\": 0.9996068058335716, \"n\": 5328}, {\"threshold\": 0.311, \"p\": 27976, \"fpr\": 0.9938063063063063, \"tpr\": 0.9996068058335716, \"n\": 5328}, {\"threshold\": 0.312, \"p\": 27976, \"fpr\": 0.9938063063063063, \"tpr\": 0.9996068058335716, \"n\": 5328}, {\"threshold\": 0.313, \"p\": 27976, \"fpr\": 0.9938063063063063, \"tpr\": 0.9996068058335716, \"n\": 5328}, {\"threshold\": 0.314, \"p\": 27976, \"fpr\": 0.9938063063063063, \"tpr\": 0.9996068058335716, \"n\": 5328}, {\"threshold\": 0.315, \"p\": 27976, \"fpr\": 0.9938063063063063, \"tpr\": 0.9996068058335716, \"n\": 5328}, {\"threshold\": 0.316, \"p\": 27976, \"fpr\": 0.9938063063063063, \"tpr\": 0.9996068058335716, \"n\": 5328}, {\"threshold\": 0.317, \"p\": 27976, \"fpr\": 0.9938063063063063, \"tpr\": 0.9996068058335716, \"n\": 5328}, {\"threshold\": 0.318, \"p\": 27976, \"fpr\": 0.9938063063063063, \"tpr\": 0.9996068058335716, \"n\": 5328}, {\"threshold\": 0.319, \"p\": 27976, \"fpr\": 0.9938063063063063, \"tpr\": 0.9996068058335716, \"n\": 5328}, {\"threshold\": 0.32, \"p\": 27976, \"fpr\": 0.9938063063063063, \"tpr\": 0.9996068058335716, \"n\": 5328}, {\"threshold\": 0.321, \"p\": 27976, \"fpr\": 0.9938063063063063, \"tpr\": 0.9996068058335716, \"n\": 5328}, {\"threshold\": 0.322, \"p\": 27976, \"fpr\": 0.9938063063063063, \"tpr\": 0.9996068058335716, \"n\": 5328}, {\"threshold\": 0.323, \"p\": 27976, \"fpr\": 0.9938063063063063, \"tpr\": 0.9996068058335716, \"n\": 5328}, {\"threshold\": 0.324, \"p\": 27976, \"fpr\": 0.9938063063063063, \"tpr\": 0.9996068058335716, \"n\": 5328}, {\"threshold\": 0.325, \"p\": 27976, \"fpr\": 0.9938063063063063, \"tpr\": 0.9996068058335716, \"n\": 5328}, {\"threshold\": 0.326, \"p\": 27976, \"fpr\": 0.9938063063063063, \"tpr\": 0.9996068058335716, \"n\": 5328}, {\"threshold\": 0.327, \"p\": 27976, \"fpr\": 0.9840465465465466, \"tpr\": 0.9987846725764942, \"n\": 5328}, {\"threshold\": 0.328, \"p\": 27976, \"fpr\": 0.9840465465465466, \"tpr\": 0.9987846725764942, \"n\": 5328}, {\"threshold\": 0.329, \"p\": 27976, \"fpr\": 0.9840465465465466, \"tpr\": 0.9987846725764942, \"n\": 5328}, {\"threshold\": 0.33, \"p\": 27976, \"fpr\": 0.9840465465465466, \"tpr\": 0.9987846725764942, \"n\": 5328}, {\"threshold\": 0.331, \"p\": 27976, \"fpr\": 0.9840465465465466, \"tpr\": 0.9987846725764942, \"n\": 5328}, {\"threshold\": 0.332, \"p\": 27976, \"fpr\": 0.9840465465465466, \"tpr\": 0.9987846725764942, \"n\": 5328}, {\"threshold\": 0.333, \"p\": 27976, \"fpr\": 0.9840465465465466, \"tpr\": 0.9987846725764942, \"n\": 5328}, {\"threshold\": 0.334, \"p\": 27976, \"fpr\": 0.9840465465465466, \"tpr\": 0.9987846725764942, \"n\": 5328}, {\"threshold\": 0.335, \"p\": 27976, \"fpr\": 0.9840465465465466, \"tpr\": 0.9987846725764942, \"n\": 5328}, {\"threshold\": 0.336, \"p\": 27976, \"fpr\": 0.9840465465465466, \"tpr\": 0.9987846725764942, \"n\": 5328}, {\"threshold\": 0.337, \"p\": 27976, \"fpr\": 0.9840465465465466, \"tpr\": 0.9987846725764942, \"n\": 5328}, {\"threshold\": 0.338, \"p\": 27976, \"fpr\": 0.9840465465465466, \"tpr\": 0.9987846725764942, \"n\": 5328}, {\"threshold\": 0.339, \"p\": 27976, \"fpr\": 0.9840465465465466, \"tpr\": 0.9987846725764942, \"n\": 5328}, {\"threshold\": 0.34, \"p\": 27976, \"fpr\": 0.9840465465465466, \"tpr\": 0.9987846725764942, \"n\": 5328}, {\"threshold\": 0.341, \"p\": 27976, \"fpr\": 0.9840465465465466, \"tpr\": 0.9987846725764942, \"n\": 5328}, {\"threshold\": 0.342, \"p\": 27976, \"fpr\": 0.9840465465465466, \"tpr\": 0.9987846725764942, \"n\": 5328}, {\"threshold\": 0.343, \"p\": 27976, \"fpr\": 0.9840465465465466, \"tpr\": 0.9987846725764942, \"n\": 5328}, {\"threshold\": 0.344, \"p\": 27976, \"fpr\": 0.9840465465465466, \"tpr\": 0.9987846725764942, \"n\": 5328}, {\"threshold\": 0.345, \"p\": 27976, \"fpr\": 0.9840465465465466, \"tpr\": 0.9987846725764942, \"n\": 5328}, {\"threshold\": 0.346, \"p\": 27976, \"fpr\": 0.9840465465465466, \"tpr\": 0.9987846725764942, \"n\": 5328}, {\"threshold\": 0.347, \"p\": 27976, \"fpr\": 0.9840465465465466, \"tpr\": 0.9987846725764942, \"n\": 5328}, {\"threshold\": 0.348, \"p\": 27976, \"fpr\": 0.9750375375375375, \"tpr\": 0.998069774092079, \"n\": 5328}, {\"threshold\": 0.349, \"p\": 27976, \"fpr\": 0.9750375375375375, \"tpr\": 0.998069774092079, \"n\": 5328}, {\"threshold\": 0.35, \"p\": 27976, \"fpr\": 0.9750375375375375, \"tpr\": 0.998069774092079, \"n\": 5328}, {\"threshold\": 0.351, \"p\": 27976, \"fpr\": 0.9750375375375375, \"tpr\": 0.998069774092079, \"n\": 5328}, {\"threshold\": 0.352, \"p\": 27976, \"fpr\": 0.9750375375375375, \"tpr\": 0.998069774092079, \"n\": 5328}, {\"threshold\": 0.353, \"p\": 27976, \"fpr\": 0.9750375375375375, \"tpr\": 0.998069774092079, \"n\": 5328}, {\"threshold\": 0.354, \"p\": 27976, \"fpr\": 0.972972972972973, \"tpr\": 0.997748069774092, \"n\": 5328}, {\"threshold\": 0.355, \"p\": 27976, \"fpr\": 0.972972972972973, \"tpr\": 0.997748069774092, \"n\": 5328}, {\"threshold\": 0.356, \"p\": 27976, \"fpr\": 0.972972972972973, \"tpr\": 0.997748069774092, \"n\": 5328}, {\"threshold\": 0.357, \"p\": 27976, \"fpr\": 0.972972972972973, \"tpr\": 0.997748069774092, \"n\": 5328}, {\"threshold\": 0.358, \"p\": 27976, \"fpr\": 0.972972972972973, \"tpr\": 0.997748069774092, \"n\": 5328}, {\"threshold\": 0.359, \"p\": 27976, \"fpr\": 0.972972972972973, \"tpr\": 0.997748069774092, \"n\": 5328}, {\"threshold\": 0.36, \"p\": 27976, \"fpr\": 0.972972972972973, \"tpr\": 0.997748069774092, \"n\": 5328}, {\"threshold\": 0.361, \"p\": 27976, \"fpr\": 0.972972972972973, \"tpr\": 0.997748069774092, \"n\": 5328}, {\"threshold\": 0.362, \"p\": 27976, \"fpr\": 0.9727852852852853, \"tpr\": 0.997748069774092, \"n\": 5328}, {\"threshold\": 0.363, \"p\": 27976, \"fpr\": 0.9727852852852853, \"tpr\": 0.997748069774092, \"n\": 5328}, {\"threshold\": 0.364, \"p\": 27976, \"fpr\": 0.9727852852852853, \"tpr\": 0.997748069774092, \"n\": 5328}, {\"threshold\": 0.365, \"p\": 27976, \"fpr\": 0.9727852852852853, \"tpr\": 0.997748069774092, \"n\": 5328}, {\"threshold\": 0.366, \"p\": 27976, \"fpr\": 0.9727852852852853, \"tpr\": 0.997748069774092, \"n\": 5328}, {\"threshold\": 0.367, \"p\": 27976, \"fpr\": 0.9727852852852853, \"tpr\": 0.997748069774092, \"n\": 5328}, {\"threshold\": 0.368, \"p\": 27976, \"fpr\": 0.9727852852852853, \"tpr\": 0.997748069774092, \"n\": 5328}, {\"threshold\": 0.369, \"p\": 27976, \"fpr\": 0.9727852852852853, \"tpr\": 0.997748069774092, \"n\": 5328}, {\"threshold\": 0.37, \"p\": 27976, \"fpr\": 0.9727852852852853, \"tpr\": 0.997748069774092, \"n\": 5328}, {\"threshold\": 0.371, \"p\": 27976, \"fpr\": 0.9727852852852853, \"tpr\": 0.997748069774092, \"n\": 5328}, {\"threshold\": 0.372, \"p\": 27976, \"fpr\": 0.9727852852852853, \"tpr\": 0.997748069774092, \"n\": 5328}, {\"threshold\": 0.373, \"p\": 27976, \"fpr\": 0.9727852852852853, \"tpr\": 0.997748069774092, \"n\": 5328}, {\"threshold\": 0.374, \"p\": 27976, \"fpr\": 0.9727852852852853, \"tpr\": 0.997748069774092, \"n\": 5328}, {\"threshold\": 0.375, \"p\": 27976, \"fpr\": 0.9727852852852853, \"tpr\": 0.997748069774092, \"n\": 5328}, {\"threshold\": 0.376, \"p\": 27976, \"fpr\": 0.9727852852852853, \"tpr\": 0.997748069774092, \"n\": 5328}, {\"threshold\": 0.377, \"p\": 27976, \"fpr\": 0.9727852852852853, \"tpr\": 0.997748069774092, \"n\": 5328}, {\"threshold\": 0.378, \"p\": 27976, \"fpr\": 0.9727852852852853, \"tpr\": 0.997748069774092, \"n\": 5328}, {\"threshold\": 0.379, \"p\": 27976, \"fpr\": 0.9727852852852853, \"tpr\": 0.997748069774092, \"n\": 5328}, {\"threshold\": 0.38, \"p\": 27976, \"fpr\": 0.9727852852852853, \"tpr\": 0.997748069774092, \"n\": 5328}, {\"threshold\": 0.381, \"p\": 27976, \"fpr\": 0.9727852852852853, \"tpr\": 0.997748069774092, \"n\": 5328}, {\"threshold\": 0.382, \"p\": 27976, \"fpr\": 0.9727852852852853, \"tpr\": 0.997748069774092, \"n\": 5328}, {\"threshold\": 0.383, \"p\": 27976, \"fpr\": 0.9727852852852853, \"tpr\": 0.997748069774092, \"n\": 5328}, {\"threshold\": 0.384, \"p\": 27976, \"fpr\": 0.9727852852852853, \"tpr\": 0.997748069774092, \"n\": 5328}, {\"threshold\": 0.385, \"p\": 27976, \"fpr\": 0.9727852852852853, \"tpr\": 0.997748069774092, \"n\": 5328}, {\"threshold\": 0.386, \"p\": 27976, \"fpr\": 0.9727852852852853, \"tpr\": 0.997748069774092, \"n\": 5328}, {\"threshold\": 0.387, \"p\": 27976, \"fpr\": 0.9727852852852853, \"tpr\": 0.997748069774092, \"n\": 5328}, {\"threshold\": 0.388, \"p\": 27976, \"fpr\": 0.9727852852852853, \"tpr\": 0.997748069774092, \"n\": 5328}, {\"threshold\": 0.389, \"p\": 27976, \"fpr\": 0.9727852852852853, \"tpr\": 0.997748069774092, \"n\": 5328}, {\"threshold\": 0.39, \"p\": 27976, \"fpr\": 0.9727852852852853, \"tpr\": 0.997748069774092, \"n\": 5328}, {\"threshold\": 0.391, \"p\": 27976, \"fpr\": 0.9727852852852853, \"tpr\": 0.997748069774092, \"n\": 5328}, {\"threshold\": 0.392, \"p\": 27976, \"fpr\": 0.9727852852852853, \"tpr\": 0.997748069774092, \"n\": 5328}, {\"threshold\": 0.393, \"p\": 27976, \"fpr\": 0.9727852852852853, \"tpr\": 0.997748069774092, \"n\": 5328}, {\"threshold\": 0.394, \"p\": 27976, \"fpr\": 0.9727852852852853, \"tpr\": 0.997748069774092, \"n\": 5328}, {\"threshold\": 0.395, \"p\": 27976, \"fpr\": 0.9727852852852853, \"tpr\": 0.997748069774092, \"n\": 5328}, {\"threshold\": 0.396, \"p\": 27976, \"fpr\": 0.9727852852852853, \"tpr\": 0.997748069774092, \"n\": 5328}, {\"threshold\": 0.397, \"p\": 27976, \"fpr\": 0.9727852852852853, \"tpr\": 0.997748069774092, \"n\": 5328}, {\"threshold\": 0.398, \"p\": 27976, \"fpr\": 0.9727852852852853, \"tpr\": 0.997748069774092, \"n\": 5328}, {\"threshold\": 0.399, \"p\": 27976, \"fpr\": 0.9727852852852853, \"tpr\": 0.997748069774092, \"n\": 5328}, {\"threshold\": 0.4, \"p\": 27976, \"fpr\": 0.9727852852852853, \"tpr\": 0.997748069774092, \"n\": 5328}, {\"threshold\": 0.401, \"p\": 27976, \"fpr\": 0.9727852852852853, \"tpr\": 0.997748069774092, \"n\": 5328}, {\"threshold\": 0.402, \"p\": 27976, \"fpr\": 0.9680930930930931, \"tpr\": 0.9972476408350014, \"n\": 5328}, {\"threshold\": 0.403, \"p\": 27976, \"fpr\": 0.9680930930930931, \"tpr\": 0.9972476408350014, \"n\": 5328}, {\"threshold\": 0.404, \"p\": 27976, \"fpr\": 0.9680930930930931, \"tpr\": 0.9972476408350014, \"n\": 5328}, {\"threshold\": 0.405, \"p\": 27976, \"fpr\": 0.9680930930930931, \"tpr\": 0.9972476408350014, \"n\": 5328}, {\"threshold\": 0.406, \"p\": 27976, \"fpr\": 0.9680930930930931, \"tpr\": 0.9972476408350014, \"n\": 5328}, {\"threshold\": 0.407, \"p\": 27976, \"fpr\": 0.9680930930930931, \"tpr\": 0.9972476408350014, \"n\": 5328}, {\"threshold\": 0.408, \"p\": 27976, \"fpr\": 0.9680930930930931, \"tpr\": 0.9972476408350014, \"n\": 5328}, {\"threshold\": 0.409, \"p\": 27976, \"fpr\": 0.9680930930930931, \"tpr\": 0.9972476408350014, \"n\": 5328}, {\"threshold\": 0.41, \"p\": 27976, \"fpr\": 0.9680930930930931, \"tpr\": 0.9972476408350014, \"n\": 5328}, {\"threshold\": 0.411, \"p\": 27976, \"fpr\": 0.9680930930930931, \"tpr\": 0.9972476408350014, \"n\": 5328}, {\"threshold\": 0.412, \"p\": 27976, \"fpr\": 0.9680930930930931, \"tpr\": 0.9972476408350014, \"n\": 5328}, {\"threshold\": 0.413, \"p\": 27976, \"fpr\": 0.9680930930930931, \"tpr\": 0.9972476408350014, \"n\": 5328}, {\"threshold\": 0.414, \"p\": 27976, \"fpr\": 0.9680930930930931, \"tpr\": 0.9972476408350014, \"n\": 5328}, {\"threshold\": 0.415, \"p\": 27976, \"fpr\": 0.9680930930930931, \"tpr\": 0.9972476408350014, \"n\": 5328}, {\"threshold\": 0.416, \"p\": 27976, \"fpr\": 0.9680930930930931, \"tpr\": 0.9972476408350014, \"n\": 5328}, {\"threshold\": 0.417, \"p\": 27976, \"fpr\": 0.9680930930930931, \"tpr\": 0.9972476408350014, \"n\": 5328}, {\"threshold\": 0.418, \"p\": 27976, \"fpr\": 0.9680930930930931, \"tpr\": 0.9972476408350014, \"n\": 5328}, {\"threshold\": 0.419, \"p\": 27976, \"fpr\": 0.9680930930930931, \"tpr\": 0.9972476408350014, \"n\": 5328}, {\"threshold\": 0.42, \"p\": 27976, \"fpr\": 0.9680930930930931, \"tpr\": 0.9972476408350014, \"n\": 5328}, {\"threshold\": 0.421, \"p\": 27976, \"fpr\": 0.9680930930930931, \"tpr\": 0.9972476408350014, \"n\": 5328}, {\"threshold\": 0.422, \"p\": 27976, \"fpr\": 0.9680930930930931, \"tpr\": 0.9972476408350014, \"n\": 5328}, {\"threshold\": 0.423, \"p\": 27976, \"fpr\": 0.9680930930930931, \"tpr\": 0.9972476408350014, \"n\": 5328}, {\"threshold\": 0.424, \"p\": 27976, \"fpr\": 0.9680930930930931, \"tpr\": 0.9972476408350014, \"n\": 5328}, {\"threshold\": 0.425, \"p\": 27976, \"fpr\": 0.9680930930930931, \"tpr\": 0.9972476408350014, \"n\": 5328}, {\"threshold\": 0.426, \"p\": 27976, \"fpr\": 0.9680930930930931, \"tpr\": 0.9972476408350014, \"n\": 5328}, {\"threshold\": 0.427, \"p\": 27976, \"fpr\": 0.9680930930930931, \"tpr\": 0.9972476408350014, \"n\": 5328}, {\"threshold\": 0.428, \"p\": 27976, \"fpr\": 0.9680930930930931, \"tpr\": 0.9972476408350014, \"n\": 5328}, {\"threshold\": 0.429, \"p\": 27976, \"fpr\": 0.9680930930930931, \"tpr\": 0.9972476408350014, \"n\": 5328}, {\"threshold\": 0.43, \"p\": 27976, \"fpr\": 0.9680930930930931, \"tpr\": 0.9972476408350014, \"n\": 5328}, {\"threshold\": 0.431, \"p\": 27976, \"fpr\": 0.9680930930930931, \"tpr\": 0.9972476408350014, \"n\": 5328}, {\"threshold\": 0.432, \"p\": 27976, \"fpr\": 0.9680930930930931, \"tpr\": 0.9972476408350014, \"n\": 5328}, {\"threshold\": 0.433, \"p\": 27976, \"fpr\": 0.9680930930930931, \"tpr\": 0.9972476408350014, \"n\": 5328}, {\"threshold\": 0.434, \"p\": 27976, \"fpr\": 0.9680930930930931, \"tpr\": 0.9972476408350014, \"n\": 5328}, {\"threshold\": 0.435, \"p\": 27976, \"fpr\": 0.9680930930930931, \"tpr\": 0.9972476408350014, \"n\": 5328}, {\"threshold\": 0.436, \"p\": 27976, \"fpr\": 0.9680930930930931, \"tpr\": 0.9972476408350014, \"n\": 5328}, {\"threshold\": 0.437, \"p\": 27976, \"fpr\": 0.9680930930930931, \"tpr\": 0.9972476408350014, \"n\": 5328}, {\"threshold\": 0.438, \"p\": 27976, \"fpr\": 0.9680930930930931, \"tpr\": 0.9972476408350014, \"n\": 5328}, {\"threshold\": 0.439, \"p\": 27976, \"fpr\": 0.9680930930930931, \"tpr\": 0.9972476408350014, \"n\": 5328}, {\"threshold\": 0.44, \"p\": 27976, \"fpr\": 0.9680930930930931, \"tpr\": 0.9972476408350014, \"n\": 5328}, {\"threshold\": 0.441, \"p\": 27976, \"fpr\": 0.9680930930930931, \"tpr\": 0.9972476408350014, \"n\": 5328}, {\"threshold\": 0.442, \"p\": 27976, \"fpr\": 0.9680930930930931, \"tpr\": 0.9972476408350014, \"n\": 5328}, {\"threshold\": 0.443, \"p\": 27976, \"fpr\": 0.9680930930930931, \"tpr\": 0.9972476408350014, \"n\": 5328}, {\"threshold\": 0.444, \"p\": 27976, \"fpr\": 0.9680930930930931, \"tpr\": 0.9972476408350014, \"n\": 5328}, {\"threshold\": 0.445, \"p\": 27976, \"fpr\": 0.9680930930930931, \"tpr\": 0.9972476408350014, \"n\": 5328}, {\"threshold\": 0.446, \"p\": 27976, \"fpr\": 0.9680930930930931, \"tpr\": 0.9972476408350014, \"n\": 5328}, {\"threshold\": 0.447, \"p\": 27976, \"fpr\": 0.9680930930930931, \"tpr\": 0.9972476408350014, \"n\": 5328}, {\"threshold\": 0.448, \"p\": 27976, \"fpr\": 0.9680930930930931, \"tpr\": 0.9972476408350014, \"n\": 5328}, {\"threshold\": 0.449, \"p\": 27976, \"fpr\": 0.9680930930930931, \"tpr\": 0.9972476408350014, \"n\": 5328}, {\"threshold\": 0.45, \"p\": 27976, \"fpr\": 0.9680930930930931, \"tpr\": 0.9972476408350014, \"n\": 5328}, {\"threshold\": 0.451, \"p\": 27976, \"fpr\": 0.9680930930930931, \"tpr\": 0.9972476408350014, \"n\": 5328}, {\"threshold\": 0.452, \"p\": 27976, \"fpr\": 0.9680930930930931, \"tpr\": 0.9972476408350014, \"n\": 5328}, {\"threshold\": 0.453, \"p\": 27976, \"fpr\": 0.9680930930930931, \"tpr\": 0.9972476408350014, \"n\": 5328}, {\"threshold\": 0.454, \"p\": 27976, \"fpr\": 0.9680930930930931, \"tpr\": 0.9972476408350014, \"n\": 5328}, {\"threshold\": 0.455, \"p\": 27976, \"fpr\": 0.9680930930930931, \"tpr\": 0.9972476408350014, \"n\": 5328}, {\"threshold\": 0.456, \"p\": 27976, \"fpr\": 0.9680930930930931, \"tpr\": 0.9972476408350014, \"n\": 5328}, {\"threshold\": 0.457, \"p\": 27976, \"fpr\": 0.9680930930930931, \"tpr\": 0.9972476408350014, \"n\": 5328}, {\"threshold\": 0.458, \"p\": 27976, \"fpr\": 0.9680930930930931, \"tpr\": 0.9972476408350014, \"n\": 5328}, {\"threshold\": 0.459, \"p\": 27976, \"fpr\": 0.9680930930930931, \"tpr\": 0.9972476408350014, \"n\": 5328}, {\"threshold\": 0.46, \"p\": 27976, \"fpr\": 0.9680930930930931, \"tpr\": 0.9972476408350014, \"n\": 5328}, {\"threshold\": 0.461, \"p\": 27976, \"fpr\": 0.9680930930930931, \"tpr\": 0.9972476408350014, \"n\": 5328}, {\"threshold\": 0.462, \"p\": 27976, \"fpr\": 0.9680930930930931, \"tpr\": 0.9972118959107806, \"n\": 5328}, {\"threshold\": 0.463, \"p\": 27976, \"fpr\": 0.9680930930930931, \"tpr\": 0.9972118959107806, \"n\": 5328}, {\"threshold\": 0.464, \"p\": 27976, \"fpr\": 0.9680930930930931, \"tpr\": 0.9972118959107806, \"n\": 5328}, {\"threshold\": 0.465, \"p\": 27976, \"fpr\": 0.9680930930930931, \"tpr\": 0.9971761509865599, \"n\": 5328}, {\"threshold\": 0.466, \"p\": 27976, \"fpr\": 0.9680930930930931, \"tpr\": 0.9971761509865599, \"n\": 5328}, {\"threshold\": 0.467, \"p\": 27976, \"fpr\": 0.9680930930930931, \"tpr\": 0.9971761509865599, \"n\": 5328}, {\"threshold\": 0.468, \"p\": 27976, \"fpr\": 0.9679054054054054, \"tpr\": 0.9971761509865599, \"n\": 5328}, {\"threshold\": 0.469, \"p\": 27976, \"fpr\": 0.9679054054054054, \"tpr\": 0.9971761509865599, \"n\": 5328}, {\"threshold\": 0.47, \"p\": 27976, \"fpr\": 0.9679054054054054, \"tpr\": 0.9971761509865599, \"n\": 5328}, {\"threshold\": 0.471, \"p\": 27976, \"fpr\": 0.9679054054054054, \"tpr\": 0.9971761509865599, \"n\": 5328}, {\"threshold\": 0.472, \"p\": 27976, \"fpr\": 0.9679054054054054, \"tpr\": 0.9971761509865599, \"n\": 5328}, {\"threshold\": 0.473, \"p\": 27976, \"fpr\": 0.9679054054054054, \"tpr\": 0.9971761509865599, \"n\": 5328}, {\"threshold\": 0.474, \"p\": 27976, \"fpr\": 0.9679054054054054, \"tpr\": 0.9971761509865599, \"n\": 5328}, {\"threshold\": 0.475, \"p\": 27976, \"fpr\": 0.9679054054054054, \"tpr\": 0.9971761509865599, \"n\": 5328}, {\"threshold\": 0.476, \"p\": 27976, \"fpr\": 0.9679054054054054, \"tpr\": 0.9971761509865599, \"n\": 5328}, {\"threshold\": 0.477, \"p\": 27976, \"fpr\": 0.9679054054054054, \"tpr\": 0.9971761509865599, \"n\": 5328}, {\"threshold\": 0.478, \"p\": 27976, \"fpr\": 0.9679054054054054, \"tpr\": 0.9971761509865599, \"n\": 5328}, {\"threshold\": 0.479, \"p\": 27976, \"fpr\": 0.9679054054054054, \"tpr\": 0.9971761509865599, \"n\": 5328}, {\"threshold\": 0.48, \"p\": 27976, \"fpr\": 0.9679054054054054, \"tpr\": 0.9971761509865599, \"n\": 5328}, {\"threshold\": 0.481, \"p\": 27976, \"fpr\": 0.9679054054054054, \"tpr\": 0.9971761509865599, \"n\": 5328}, {\"threshold\": 0.482, \"p\": 27976, \"fpr\": 0.9679054054054054, \"tpr\": 0.9971761509865599, \"n\": 5328}, {\"threshold\": 0.483, \"p\": 27976, \"fpr\": 0.9679054054054054, \"tpr\": 0.9971761509865599, \"n\": 5328}, {\"threshold\": 0.484, \"p\": 27976, \"fpr\": 0.9679054054054054, \"tpr\": 0.9971761509865599, \"n\": 5328}, {\"threshold\": 0.485, \"p\": 27976, \"fpr\": 0.9679054054054054, \"tpr\": 0.9971761509865599, \"n\": 5328}, {\"threshold\": 0.486, \"p\": 27976, \"fpr\": 0.9679054054054054, \"tpr\": 0.9971761509865599, \"n\": 5328}, {\"threshold\": 0.487, \"p\": 27976, \"fpr\": 0.9679054054054054, \"tpr\": 0.9971761509865599, \"n\": 5328}, {\"threshold\": 0.488, \"p\": 27976, \"fpr\": 0.9673423423423423, \"tpr\": 0.9971046611381184, \"n\": 5328}, {\"threshold\": 0.489, \"p\": 27976, \"fpr\": 0.9673423423423423, \"tpr\": 0.9971046611381184, \"n\": 5328}, {\"threshold\": 0.49, \"p\": 27976, \"fpr\": 0.9562687687687688, \"tpr\": 0.9953531598513011, \"n\": 5328}, {\"threshold\": 0.491, \"p\": 27976, \"fpr\": 0.9562687687687688, \"tpr\": 0.9953531598513011, \"n\": 5328}, {\"threshold\": 0.492, \"p\": 27976, \"fpr\": 0.9562687687687688, \"tpr\": 0.9953531598513011, \"n\": 5328}, {\"threshold\": 0.493, \"p\": 27976, \"fpr\": 0.9562687687687688, \"tpr\": 0.9953531598513011, \"n\": 5328}, {\"threshold\": 0.494, \"p\": 27976, \"fpr\": 0.9562687687687688, \"tpr\": 0.9953531598513011, \"n\": 5328}, {\"threshold\": 0.495, \"p\": 27976, \"fpr\": 0.9562687687687688, \"tpr\": 0.9953531598513011, \"n\": 5328}, {\"threshold\": 0.496, \"p\": 27976, \"fpr\": 0.9562687687687688, \"tpr\": 0.9953531598513011, \"n\": 5328}, {\"threshold\": 0.497, \"p\": 27976, \"fpr\": 0.956081081081081, \"tpr\": 0.9953531598513011, \"n\": 5328}, {\"threshold\": 0.498, \"p\": 27976, \"fpr\": 0.956081081081081, \"tpr\": 0.9953531598513011, \"n\": 5328}, {\"threshold\": 0.499, \"p\": 27976, \"fpr\": 0.956081081081081, \"tpr\": 0.9953531598513011, \"n\": 5328}, {\"threshold\": 0.5, \"p\": 27976, \"fpr\": 0.956081081081081, \"tpr\": 0.9953531598513011, \"n\": 5328}, {\"threshold\": 0.501, \"p\": 27976, \"fpr\": 0.956081081081081, \"tpr\": 0.9953531598513011, \"n\": 5328}, {\"threshold\": 0.502, \"p\": 27976, \"fpr\": 0.956081081081081, \"tpr\": 0.9953531598513011, \"n\": 5328}, {\"threshold\": 0.503, \"p\": 27976, \"fpr\": 0.956081081081081, \"tpr\": 0.9953531598513011, \"n\": 5328}, {\"threshold\": 0.504, \"p\": 27976, \"fpr\": 0.956081081081081, \"tpr\": 0.9953531598513011, \"n\": 5328}, {\"threshold\": 0.505, \"p\": 27976, \"fpr\": 0.956081081081081, \"tpr\": 0.9953531598513011, \"n\": 5328}, {\"threshold\": 0.506, \"p\": 27976, \"fpr\": 0.956081081081081, \"tpr\": 0.9953531598513011, \"n\": 5328}, {\"threshold\": 0.507, \"p\": 27976, \"fpr\": 0.956081081081081, \"tpr\": 0.9953531598513011, \"n\": 5328}, {\"threshold\": 0.508, \"p\": 27976, \"fpr\": 0.956081081081081, \"tpr\": 0.9953531598513011, \"n\": 5328}, {\"threshold\": 0.509, \"p\": 27976, \"fpr\": 0.956081081081081, \"tpr\": 0.9953531598513011, \"n\": 5328}, {\"threshold\": 0.51, \"p\": 27976, \"fpr\": 0.956081081081081, \"tpr\": 0.9953531598513011, \"n\": 5328}, {\"threshold\": 0.511, \"p\": 27976, \"fpr\": 0.956081081081081, \"tpr\": 0.9953531598513011, \"n\": 5328}, {\"threshold\": 0.512, \"p\": 27976, \"fpr\": 0.956081081081081, \"tpr\": 0.9953531598513011, \"n\": 5328}, {\"threshold\": 0.513, \"p\": 27976, \"fpr\": 0.956081081081081, \"tpr\": 0.9953531598513011, \"n\": 5328}, {\"threshold\": 0.514, \"p\": 27976, \"fpr\": 0.956081081081081, \"tpr\": 0.9953531598513011, \"n\": 5328}, {\"threshold\": 0.515, \"p\": 27976, \"fpr\": 0.956081081081081, \"tpr\": 0.9953531598513011, \"n\": 5328}, {\"threshold\": 0.516, \"p\": 27976, \"fpr\": 0.956081081081081, \"tpr\": 0.9953531598513011, \"n\": 5328}, {\"threshold\": 0.517, \"p\": 27976, \"fpr\": 0.956081081081081, \"tpr\": 0.9953531598513011, \"n\": 5328}, {\"threshold\": 0.518, \"p\": 27976, \"fpr\": 0.956081081081081, \"tpr\": 0.9953531598513011, \"n\": 5328}, {\"threshold\": 0.519, \"p\": 27976, \"fpr\": 0.956081081081081, \"tpr\": 0.9953531598513011, \"n\": 5328}, {\"threshold\": 0.52, \"p\": 27976, \"fpr\": 0.956081081081081, \"tpr\": 0.9953531598513011, \"n\": 5328}, {\"threshold\": 0.521, \"p\": 27976, \"fpr\": 0.956081081081081, \"tpr\": 0.9953531598513011, \"n\": 5328}, {\"threshold\": 0.522, \"p\": 27976, \"fpr\": 0.956081081081081, \"tpr\": 0.9953531598513011, \"n\": 5328}, {\"threshold\": 0.523, \"p\": 27976, \"fpr\": 0.956081081081081, \"tpr\": 0.9953531598513011, \"n\": 5328}, {\"threshold\": 0.524, \"p\": 27976, \"fpr\": 0.956081081081081, \"tpr\": 0.9953531598513011, \"n\": 5328}, {\"threshold\": 0.525, \"p\": 27976, \"fpr\": 0.956081081081081, \"tpr\": 0.9953531598513011, \"n\": 5328}, {\"threshold\": 0.526, \"p\": 27976, \"fpr\": 0.956081081081081, \"tpr\": 0.9953531598513011, \"n\": 5328}, {\"threshold\": 0.527, \"p\": 27976, \"fpr\": 0.956081081081081, \"tpr\": 0.9953531598513011, \"n\": 5328}, {\"threshold\": 0.528, \"p\": 27976, \"fpr\": 0.956081081081081, \"tpr\": 0.9953531598513011, \"n\": 5328}, {\"threshold\": 0.529, \"p\": 27976, \"fpr\": 0.956081081081081, \"tpr\": 0.9953531598513011, \"n\": 5328}, {\"threshold\": 0.53, \"p\": 27976, \"fpr\": 0.956081081081081, \"tpr\": 0.9953531598513011, \"n\": 5328}, {\"threshold\": 0.531, \"p\": 27976, \"fpr\": 0.956081081081081, \"tpr\": 0.9953531598513011, \"n\": 5328}, {\"threshold\": 0.532, \"p\": 27976, \"fpr\": 0.956081081081081, \"tpr\": 0.9953531598513011, \"n\": 5328}, {\"threshold\": 0.533, \"p\": 27976, \"fpr\": 0.956081081081081, \"tpr\": 0.9953531598513011, \"n\": 5328}, {\"threshold\": 0.534, \"p\": 27976, \"fpr\": 0.956081081081081, \"tpr\": 0.9953531598513011, \"n\": 5328}, {\"threshold\": 0.535, \"p\": 27976, \"fpr\": 0.956081081081081, \"tpr\": 0.9953531598513011, \"n\": 5328}, {\"threshold\": 0.536, \"p\": 27976, \"fpr\": 0.956081081081081, \"tpr\": 0.9953531598513011, \"n\": 5328}, {\"threshold\": 0.537, \"p\": 27976, \"fpr\": 0.956081081081081, \"tpr\": 0.9953531598513011, \"n\": 5328}, {\"threshold\": 0.538, \"p\": 27976, \"fpr\": 0.956081081081081, \"tpr\": 0.9953531598513011, \"n\": 5328}, {\"threshold\": 0.539, \"p\": 27976, \"fpr\": 0.956081081081081, \"tpr\": 0.9953531598513011, \"n\": 5328}, {\"threshold\": 0.54, \"p\": 27976, \"fpr\": 0.956081081081081, \"tpr\": 0.9953531598513011, \"n\": 5328}, {\"threshold\": 0.541, \"p\": 27976, \"fpr\": 0.954954954954955, \"tpr\": 0.9951744352301973, \"n\": 5328}, {\"threshold\": 0.542, \"p\": 27976, \"fpr\": 0.954954954954955, \"tpr\": 0.9951744352301973, \"n\": 5328}, {\"threshold\": 0.543, \"p\": 27976, \"fpr\": 0.954954954954955, \"tpr\": 0.9951386903059766, \"n\": 5328}, {\"threshold\": 0.544, \"p\": 27976, \"fpr\": 0.954954954954955, \"tpr\": 0.9951386903059766, \"n\": 5328}, {\"threshold\": 0.545, \"p\": 27976, \"fpr\": 0.954954954954955, \"tpr\": 0.9951386903059766, \"n\": 5328}, {\"threshold\": 0.546, \"p\": 27976, \"fpr\": 0.954954954954955, \"tpr\": 0.9951386903059766, \"n\": 5328}, {\"threshold\": 0.547, \"p\": 27976, \"fpr\": 0.954954954954955, \"tpr\": 0.9951386903059766, \"n\": 5328}, {\"threshold\": 0.548, \"p\": 27976, \"fpr\": 0.954954954954955, \"tpr\": 0.9951386903059766, \"n\": 5328}, {\"threshold\": 0.549, \"p\": 27976, \"fpr\": 0.954954954954955, \"tpr\": 0.9951386903059766, \"n\": 5328}, {\"threshold\": 0.55, \"p\": 27976, \"fpr\": 0.954954954954955, \"tpr\": 0.9951386903059766, \"n\": 5328}, {\"threshold\": 0.551, \"p\": 27976, \"fpr\": 0.954954954954955, \"tpr\": 0.9951386903059766, \"n\": 5328}, {\"threshold\": 0.552, \"p\": 27976, \"fpr\": 0.954954954954955, \"tpr\": 0.9951386903059766, \"n\": 5328}, {\"threshold\": 0.553, \"p\": 27976, \"fpr\": 0.954954954954955, \"tpr\": 0.9951386903059766, \"n\": 5328}, {\"threshold\": 0.554, \"p\": 27976, \"fpr\": 0.954954954954955, \"tpr\": 0.9951386903059766, \"n\": 5328}, {\"threshold\": 0.555, \"p\": 27976, \"fpr\": 0.954954954954955, \"tpr\": 0.9951386903059766, \"n\": 5328}, {\"threshold\": 0.556, \"p\": 27976, \"fpr\": 0.954954954954955, \"tpr\": 0.9951386903059766, \"n\": 5328}, {\"threshold\": 0.557, \"p\": 27976, \"fpr\": 0.954954954954955, \"tpr\": 0.9951386903059766, \"n\": 5328}, {\"threshold\": 0.558, \"p\": 27976, \"fpr\": 0.954954954954955, \"tpr\": 0.9951386903059766, \"n\": 5328}, {\"threshold\": 0.559, \"p\": 27976, \"fpr\": 0.954954954954955, \"tpr\": 0.9951386903059766, \"n\": 5328}, {\"threshold\": 0.56, \"p\": 27976, \"fpr\": 0.954954954954955, \"tpr\": 0.9951386903059766, \"n\": 5328}, {\"threshold\": 0.561, \"p\": 27976, \"fpr\": 0.954954954954955, \"tpr\": 0.9951386903059766, \"n\": 5328}, {\"threshold\": 0.562, \"p\": 27976, \"fpr\": 0.954954954954955, \"tpr\": 0.9951386903059766, \"n\": 5328}, {\"threshold\": 0.563, \"p\": 27976, \"fpr\": 0.954954954954955, \"tpr\": 0.9951386903059766, \"n\": 5328}, {\"threshold\": 0.564, \"p\": 27976, \"fpr\": 0.9538288288288288, \"tpr\": 0.9949957106090935, \"n\": 5328}, {\"threshold\": 0.565, \"p\": 27976, \"fpr\": 0.9538288288288288, \"tpr\": 0.9949957106090935, \"n\": 5328}, {\"threshold\": 0.566, \"p\": 27976, \"fpr\": 0.9538288288288288, \"tpr\": 0.9949599656848728, \"n\": 5328}, {\"threshold\": 0.567, \"p\": 27976, \"fpr\": 0.9538288288288288, \"tpr\": 0.9949599656848728, \"n\": 5328}, {\"threshold\": 0.568, \"p\": 27976, \"fpr\": 0.9538288288288288, \"tpr\": 0.9949599656848728, \"n\": 5328}, {\"threshold\": 0.569, \"p\": 27976, \"fpr\": 0.9538288288288288, \"tpr\": 0.9949599656848728, \"n\": 5328}, {\"threshold\": 0.57, \"p\": 27976, \"fpr\": 0.9538288288288288, \"tpr\": 0.9948527309122105, \"n\": 5328}, {\"threshold\": 0.571, \"p\": 27976, \"fpr\": 0.9538288288288288, \"tpr\": 0.9948527309122105, \"n\": 5328}, {\"threshold\": 0.572, \"p\": 27976, \"fpr\": 0.9538288288288288, \"tpr\": 0.9948527309122105, \"n\": 5328}, {\"threshold\": 0.573, \"p\": 27976, \"fpr\": 0.9538288288288288, \"tpr\": 0.9948527309122105, \"n\": 5328}, {\"threshold\": 0.574, \"p\": 27976, \"fpr\": 0.9538288288288288, \"tpr\": 0.9948527309122105, \"n\": 5328}, {\"threshold\": 0.575, \"p\": 27976, \"fpr\": 0.9538288288288288, \"tpr\": 0.9948527309122105, \"n\": 5328}, {\"threshold\": 0.576, \"p\": 27976, \"fpr\": 0.9538288288288288, \"tpr\": 0.9948527309122105, \"n\": 5328}, {\"threshold\": 0.577, \"p\": 27976, \"fpr\": 0.9538288288288288, \"tpr\": 0.9948527309122105, \"n\": 5328}, {\"threshold\": 0.578, \"p\": 27976, \"fpr\": 0.9538288288288288, \"tpr\": 0.9948527309122105, \"n\": 5328}, {\"threshold\": 0.579, \"p\": 27976, \"fpr\": 0.9538288288288288, \"tpr\": 0.9948527309122105, \"n\": 5328}, {\"threshold\": 0.58, \"p\": 27976, \"fpr\": 0.9538288288288288, \"tpr\": 0.9948527309122105, \"n\": 5328}, {\"threshold\": 0.581, \"p\": 27976, \"fpr\": 0.9538288288288288, \"tpr\": 0.9948527309122105, \"n\": 5328}, {\"threshold\": 0.582, \"p\": 27976, \"fpr\": 0.9538288288288288, \"tpr\": 0.9948169859879897, \"n\": 5328}, {\"threshold\": 0.583, \"p\": 27976, \"fpr\": 0.9538288288288288, \"tpr\": 0.9948169859879897, \"n\": 5328}, {\"threshold\": 0.584, \"p\": 27976, \"fpr\": 0.9538288288288288, \"tpr\": 0.9948169859879897, \"n\": 5328}, {\"threshold\": 0.585, \"p\": 27976, \"fpr\": 0.9538288288288288, \"tpr\": 0.9948169859879897, \"n\": 5328}, {\"threshold\": 0.586, \"p\": 27976, \"fpr\": 0.9538288288288288, \"tpr\": 0.9948169859879897, \"n\": 5328}, {\"threshold\": 0.587, \"p\": 27976, \"fpr\": 0.9538288288288288, \"tpr\": 0.9948169859879897, \"n\": 5328}, {\"threshold\": 0.588, \"p\": 27976, \"fpr\": 0.9538288288288288, \"tpr\": 0.9948169859879897, \"n\": 5328}, {\"threshold\": 0.589, \"p\": 27976, \"fpr\": 0.9538288288288288, \"tpr\": 0.9948169859879897, \"n\": 5328}, {\"threshold\": 0.59, \"p\": 27976, \"fpr\": 0.9538288288288288, \"tpr\": 0.9948169859879897, \"n\": 5328}, {\"threshold\": 0.591, \"p\": 27976, \"fpr\": 0.9538288288288288, \"tpr\": 0.9948169859879897, \"n\": 5328}, {\"threshold\": 0.592, \"p\": 27976, \"fpr\": 0.9536411411411412, \"tpr\": 0.994781241063769, \"n\": 5328}, {\"threshold\": 0.593, \"p\": 27976, \"fpr\": 0.9536411411411412, \"tpr\": 0.994781241063769, \"n\": 5328}, {\"threshold\": 0.594, \"p\": 27976, \"fpr\": 0.9536411411411412, \"tpr\": 0.994781241063769, \"n\": 5328}, {\"threshold\": 0.595, \"p\": 27976, \"fpr\": 0.9294294294294294, \"tpr\": 0.9873820417500715, \"n\": 5328}, {\"threshold\": 0.596, \"p\": 27976, \"fpr\": 0.9294294294294294, \"tpr\": 0.9873820417500715, \"n\": 5328}, {\"threshold\": 0.597, \"p\": 27976, \"fpr\": 0.9294294294294294, \"tpr\": 0.9873820417500715, \"n\": 5328}, {\"threshold\": 0.598, \"p\": 27976, \"fpr\": 0.9294294294294294, \"tpr\": 0.9873820417500715, \"n\": 5328}, {\"threshold\": 0.599, \"p\": 27976, \"fpr\": 0.9294294294294294, \"tpr\": 0.9873820417500715, \"n\": 5328}, {\"threshold\": 0.6, \"p\": 27976, \"fpr\": 0.9294294294294294, \"tpr\": 0.9873820417500715, \"n\": 5328}, {\"threshold\": 0.601, \"p\": 27976, \"fpr\": 0.9294294294294294, \"tpr\": 0.9873820417500715, \"n\": 5328}, {\"threshold\": 0.602, \"p\": 27976, \"fpr\": 0.9294294294294294, \"tpr\": 0.9873820417500715, \"n\": 5328}, {\"threshold\": 0.603, \"p\": 27976, \"fpr\": 0.9294294294294294, \"tpr\": 0.9873820417500715, \"n\": 5328}, {\"threshold\": 0.604, \"p\": 27976, \"fpr\": 0.9294294294294294, \"tpr\": 0.9873820417500715, \"n\": 5328}, {\"threshold\": 0.605, \"p\": 27976, \"fpr\": 0.9294294294294294, \"tpr\": 0.9873820417500715, \"n\": 5328}, {\"threshold\": 0.606, \"p\": 27976, \"fpr\": 0.9294294294294294, \"tpr\": 0.9873820417500715, \"n\": 5328}, {\"threshold\": 0.607, \"p\": 27976, \"fpr\": 0.9294294294294294, \"tpr\": 0.9873820417500715, \"n\": 5328}, {\"threshold\": 0.608, \"p\": 27976, \"fpr\": 0.9294294294294294, \"tpr\": 0.9873820417500715, \"n\": 5328}, {\"threshold\": 0.609, \"p\": 27976, \"fpr\": 0.9294294294294294, \"tpr\": 0.9873820417500715, \"n\": 5328}, {\"threshold\": 0.61, \"p\": 27976, \"fpr\": 0.9294294294294294, \"tpr\": 0.9873820417500715, \"n\": 5328}, {\"threshold\": 0.611, \"p\": 27976, \"fpr\": 0.9294294294294294, \"tpr\": 0.9873820417500715, \"n\": 5328}, {\"threshold\": 0.612, \"p\": 27976, \"fpr\": 0.9294294294294294, \"tpr\": 0.9873820417500715, \"n\": 5328}, {\"threshold\": 0.613, \"p\": 27976, \"fpr\": 0.9294294294294294, \"tpr\": 0.9873820417500715, \"n\": 5328}, {\"threshold\": 0.614, \"p\": 27976, \"fpr\": 0.9294294294294294, \"tpr\": 0.9873820417500715, \"n\": 5328}, {\"threshold\": 0.615, \"p\": 27976, \"fpr\": 0.9294294294294294, \"tpr\": 0.9873820417500715, \"n\": 5328}, {\"threshold\": 0.616, \"p\": 27976, \"fpr\": 0.9294294294294294, \"tpr\": 0.9873820417500715, \"n\": 5328}, {\"threshold\": 0.617, \"p\": 27976, \"fpr\": 0.9294294294294294, \"tpr\": 0.9873820417500715, \"n\": 5328}, {\"threshold\": 0.618, \"p\": 27976, \"fpr\": 0.9294294294294294, \"tpr\": 0.9873820417500715, \"n\": 5328}, {\"threshold\": 0.619, \"p\": 27976, \"fpr\": 0.9294294294294294, \"tpr\": 0.9873820417500715, \"n\": 5328}, {\"threshold\": 0.62, \"p\": 27976, \"fpr\": 0.9294294294294294, \"tpr\": 0.9872390620531885, \"n\": 5328}, {\"threshold\": 0.621, \"p\": 27976, \"fpr\": 0.9294294294294294, \"tpr\": 0.9872390620531885, \"n\": 5328}, {\"threshold\": 0.622, \"p\": 27976, \"fpr\": 0.9294294294294294, \"tpr\": 0.9871675722047469, \"n\": 5328}, {\"threshold\": 0.623, \"p\": 27976, \"fpr\": 0.9294294294294294, \"tpr\": 0.9871675722047469, \"n\": 5328}, {\"threshold\": 0.624, \"p\": 27976, \"fpr\": 0.9294294294294294, \"tpr\": 0.9871675722047469, \"n\": 5328}, {\"threshold\": 0.625, \"p\": 27976, \"fpr\": 0.9294294294294294, \"tpr\": 0.9871675722047469, \"n\": 5328}, {\"threshold\": 0.626, \"p\": 27976, \"fpr\": 0.9294294294294294, \"tpr\": 0.9871675722047469, \"n\": 5328}, {\"threshold\": 0.627, \"p\": 27976, \"fpr\": 0.9294294294294294, \"tpr\": 0.9871675722047469, \"n\": 5328}, {\"threshold\": 0.628, \"p\": 27976, \"fpr\": 0.9294294294294294, \"tpr\": 0.9871675722047469, \"n\": 5328}, {\"threshold\": 0.629, \"p\": 27976, \"fpr\": 0.9294294294294294, \"tpr\": 0.9871675722047469, \"n\": 5328}, {\"threshold\": 0.63, \"p\": 27976, \"fpr\": 0.9294294294294294, \"tpr\": 0.9871675722047469, \"n\": 5328}, {\"threshold\": 0.631, \"p\": 27976, \"fpr\": 0.9294294294294294, \"tpr\": 0.9871675722047469, \"n\": 5328}, {\"threshold\": 0.632, \"p\": 27976, \"fpr\": 0.9294294294294294, \"tpr\": 0.9871675722047469, \"n\": 5328}, {\"threshold\": 0.633, \"p\": 27976, \"fpr\": 0.9294294294294294, \"tpr\": 0.9871675722047469, \"n\": 5328}, {\"threshold\": 0.634, \"p\": 27976, \"fpr\": 0.9294294294294294, \"tpr\": 0.9871675722047469, \"n\": 5328}, {\"threshold\": 0.635, \"p\": 27976, \"fpr\": 0.9294294294294294, \"tpr\": 0.9871675722047469, \"n\": 5328}, {\"threshold\": 0.636, \"p\": 27976, \"fpr\": 0.9294294294294294, \"tpr\": 0.9871675722047469, \"n\": 5328}, {\"threshold\": 0.637, \"p\": 27976, \"fpr\": 0.9294294294294294, \"tpr\": 0.9871675722047469, \"n\": 5328}, {\"threshold\": 0.638, \"p\": 27976, \"fpr\": 0.9294294294294294, \"tpr\": 0.9871675722047469, \"n\": 5328}, {\"threshold\": 0.639, \"p\": 27976, \"fpr\": 0.9294294294294294, \"tpr\": 0.9871675722047469, \"n\": 5328}, {\"threshold\": 0.64, \"p\": 27976, \"fpr\": 0.9294294294294294, \"tpr\": 0.9871675722047469, \"n\": 5328}, {\"threshold\": 0.641, \"p\": 27976, \"fpr\": 0.9294294294294294, \"tpr\": 0.9871675722047469, \"n\": 5328}, {\"threshold\": 0.642, \"p\": 27976, \"fpr\": 0.9294294294294294, \"tpr\": 0.9871675722047469, \"n\": 5328}, {\"threshold\": 0.643, \"p\": 27976, \"fpr\": 0.9294294294294294, \"tpr\": 0.9871675722047469, \"n\": 5328}, {\"threshold\": 0.644, \"p\": 27976, \"fpr\": 0.9294294294294294, \"tpr\": 0.9871675722047469, \"n\": 5328}, {\"threshold\": 0.645, \"p\": 27976, \"fpr\": 0.9294294294294294, \"tpr\": 0.9871675722047469, \"n\": 5328}, {\"threshold\": 0.646, \"p\": 27976, \"fpr\": 0.9294294294294294, \"tpr\": 0.9871675722047469, \"n\": 5328}, {\"threshold\": 0.647, \"p\": 27976, \"fpr\": 0.9294294294294294, \"tpr\": 0.9871675722047469, \"n\": 5328}, {\"threshold\": 0.648, \"p\": 27976, \"fpr\": 0.9294294294294294, \"tpr\": 0.9871675722047469, \"n\": 5328}, {\"threshold\": 0.649, \"p\": 27976, \"fpr\": 0.9294294294294294, \"tpr\": 0.9871675722047469, \"n\": 5328}, {\"threshold\": 0.65, \"p\": 27976, \"fpr\": 0.9294294294294294, \"tpr\": 0.9871675722047469, \"n\": 5328}, {\"threshold\": 0.651, \"p\": 27976, \"fpr\": 0.9294294294294294, \"tpr\": 0.9871675722047469, \"n\": 5328}, {\"threshold\": 0.652, \"p\": 27976, \"fpr\": 0.9294294294294294, \"tpr\": 0.9871675722047469, \"n\": 5328}, {\"threshold\": 0.653, \"p\": 27976, \"fpr\": 0.9294294294294294, \"tpr\": 0.9871675722047469, \"n\": 5328}, {\"threshold\": 0.654, \"p\": 27976, \"fpr\": 0.9294294294294294, \"tpr\": 0.9871675722047469, \"n\": 5328}, {\"threshold\": 0.655, \"p\": 27976, \"fpr\": 0.9294294294294294, \"tpr\": 0.9871675722047469, \"n\": 5328}, {\"threshold\": 0.656, \"p\": 27976, \"fpr\": 0.9294294294294294, \"tpr\": 0.9871675722047469, \"n\": 5328}, {\"threshold\": 0.657, \"p\": 27976, \"fpr\": 0.9294294294294294, \"tpr\": 0.9871675722047469, \"n\": 5328}, {\"threshold\": 0.658, \"p\": 27976, \"fpr\": 0.9294294294294294, \"tpr\": 0.9871675722047469, \"n\": 5328}, {\"threshold\": 0.659, \"p\": 27976, \"fpr\": 0.9294294294294294, \"tpr\": 0.9871675722047469, \"n\": 5328}, {\"threshold\": 0.66, \"p\": 27976, \"fpr\": 0.9294294294294294, \"tpr\": 0.9871318272805262, \"n\": 5328}, {\"threshold\": 0.661, \"p\": 27976, \"fpr\": 0.9294294294294294, \"tpr\": 0.9871318272805262, \"n\": 5328}, {\"threshold\": 0.662, \"p\": 27976, \"fpr\": 0.9294294294294294, \"tpr\": 0.9871318272805262, \"n\": 5328}, {\"threshold\": 0.663, \"p\": 27976, \"fpr\": 0.9290540540540541, \"tpr\": 0.9868458678867601, \"n\": 5328}, {\"threshold\": 0.664, \"p\": 27976, \"fpr\": 0.9290540540540541, \"tpr\": 0.9868458678867601, \"n\": 5328}, {\"threshold\": 0.665, \"p\": 27976, \"fpr\": 0.9290540540540541, \"tpr\": 0.9868458678867601, \"n\": 5328}, {\"threshold\": 0.666, \"p\": 27976, \"fpr\": 0.9290540540540541, \"tpr\": 0.9868458678867601, \"n\": 5328}, {\"threshold\": 0.667, \"p\": 27976, \"fpr\": 0.9290540540540541, \"tpr\": 0.9868458678867601, \"n\": 5328}, {\"threshold\": 0.668, \"p\": 27976, \"fpr\": 0.9290540540540541, \"tpr\": 0.9868458678867601, \"n\": 5328}, {\"threshold\": 0.669, \"p\": 27976, \"fpr\": 0.9290540540540541, \"tpr\": 0.9868101229625393, \"n\": 5328}, {\"threshold\": 0.67, \"p\": 27976, \"fpr\": 0.9290540540540541, \"tpr\": 0.9868101229625393, \"n\": 5328}, {\"threshold\": 0.671, \"p\": 27976, \"fpr\": 0.9290540540540541, \"tpr\": 0.9868101229625393, \"n\": 5328}, {\"threshold\": 0.672, \"p\": 27976, \"fpr\": 0.9290540540540541, \"tpr\": 0.9867743780383186, \"n\": 5328}, {\"threshold\": 0.673, \"p\": 27976, \"fpr\": 0.9290540540540541, \"tpr\": 0.9867743780383186, \"n\": 5328}, {\"threshold\": 0.674, \"p\": 27976, \"fpr\": 0.9290540540540541, \"tpr\": 0.9867743780383186, \"n\": 5328}, {\"threshold\": 0.675, \"p\": 27976, \"fpr\": 0.9290540540540541, \"tpr\": 0.9867743780383186, \"n\": 5328}, {\"threshold\": 0.676, \"p\": 27976, \"fpr\": 0.9290540540540541, \"tpr\": 0.9867743780383186, \"n\": 5328}, {\"threshold\": 0.677, \"p\": 27976, \"fpr\": 0.9290540540540541, \"tpr\": 0.9867743780383186, \"n\": 5328}, {\"threshold\": 0.678, \"p\": 27976, \"fpr\": 0.9290540540540541, \"tpr\": 0.9867743780383186, \"n\": 5328}, {\"threshold\": 0.679, \"p\": 27976, \"fpr\": 0.9290540540540541, \"tpr\": 0.9867743780383186, \"n\": 5328}, {\"threshold\": 0.68, \"p\": 27976, \"fpr\": 0.9290540540540541, \"tpr\": 0.9867743780383186, \"n\": 5328}, {\"threshold\": 0.681, \"p\": 27976, \"fpr\": 0.9290540540540541, \"tpr\": 0.9867743780383186, \"n\": 5328}, {\"threshold\": 0.682, \"p\": 27976, \"fpr\": 0.9290540540540541, \"tpr\": 0.9867743780383186, \"n\": 5328}, {\"threshold\": 0.683, \"p\": 27976, \"fpr\": 0.9290540540540541, \"tpr\": 0.9867743780383186, \"n\": 5328}, {\"threshold\": 0.684, \"p\": 27976, \"fpr\": 0.9290540540540541, \"tpr\": 0.9866313983414355, \"n\": 5328}, {\"threshold\": 0.685, \"p\": 27976, \"fpr\": 0.9290540540540541, \"tpr\": 0.9866313983414355, \"n\": 5328}, {\"threshold\": 0.686, \"p\": 27976, \"fpr\": 0.9290540540540541, \"tpr\": 0.9866313983414355, \"n\": 5328}, {\"threshold\": 0.687, \"p\": 27976, \"fpr\": 0.9290540540540541, \"tpr\": 0.9866313983414355, \"n\": 5328}, {\"threshold\": 0.688, \"p\": 27976, \"fpr\": 0.9290540540540541, \"tpr\": 0.9866313983414355, \"n\": 5328}, {\"threshold\": 0.689, \"p\": 27976, \"fpr\": 0.9290540540540541, \"tpr\": 0.9866313983414355, \"n\": 5328}, {\"threshold\": 0.69, \"p\": 27976, \"fpr\": 0.9290540540540541, \"tpr\": 0.986559908492994, \"n\": 5328}, {\"threshold\": 0.691, \"p\": 27976, \"fpr\": 0.9290540540540541, \"tpr\": 0.986559908492994, \"n\": 5328}, {\"threshold\": 0.692, \"p\": 27976, \"fpr\": 0.9290540540540541, \"tpr\": 0.986559908492994, \"n\": 5328}, {\"threshold\": 0.693, \"p\": 27976, \"fpr\": 0.9290540540540541, \"tpr\": 0.986559908492994, \"n\": 5328}, {\"threshold\": 0.694, \"p\": 27976, \"fpr\": 0.9290540540540541, \"tpr\": 0.986559908492994, \"n\": 5328}, {\"threshold\": 0.695, \"p\": 27976, \"fpr\": 0.9290540540540541, \"tpr\": 0.986559908492994, \"n\": 5328}, {\"threshold\": 0.696, \"p\": 27976, \"fpr\": 0.9290540540540541, \"tpr\": 0.986559908492994, \"n\": 5328}, {\"threshold\": 0.697, \"p\": 27976, \"fpr\": 0.9290540540540541, \"tpr\": 0.986559908492994, \"n\": 5328}, {\"threshold\": 0.698, \"p\": 27976, \"fpr\": 0.9290540540540541, \"tpr\": 0.986559908492994, \"n\": 5328}, {\"threshold\": 0.699, \"p\": 27976, \"fpr\": 0.9271771771771772, \"tpr\": 0.9861309694023449, \"n\": 5328}, {\"threshold\": 0.7, \"p\": 27976, \"fpr\": 0.9271771771771772, \"tpr\": 0.9861309694023449, \"n\": 5328}, {\"threshold\": 0.701, \"p\": 27976, \"fpr\": 0.9271771771771772, \"tpr\": 0.9860594795539034, \"n\": 5328}, {\"threshold\": 0.702, \"p\": 27976, \"fpr\": 0.9271771771771772, \"tpr\": 0.9860594795539034, \"n\": 5328}, {\"threshold\": 0.703, \"p\": 27976, \"fpr\": 0.9271771771771772, \"tpr\": 0.9860594795539034, \"n\": 5328}, {\"threshold\": 0.704, \"p\": 27976, \"fpr\": 0.9271771771771772, \"tpr\": 0.9860594795539034, \"n\": 5328}, {\"threshold\": 0.705, \"p\": 27976, \"fpr\": 0.9271771771771772, \"tpr\": 0.9860594795539034, \"n\": 5328}, {\"threshold\": 0.706, \"p\": 27976, \"fpr\": 0.9271771771771772, \"tpr\": 0.9860594795539034, \"n\": 5328}, {\"threshold\": 0.707, \"p\": 27976, \"fpr\": 0.9271771771771772, \"tpr\": 0.9860594795539034, \"n\": 5328}, {\"threshold\": 0.708, \"p\": 27976, \"fpr\": 0.9271771771771772, \"tpr\": 0.9860594795539034, \"n\": 5328}, {\"threshold\": 0.709, \"p\": 27976, \"fpr\": 0.9271771771771772, \"tpr\": 0.9860594795539034, \"n\": 5328}, {\"threshold\": 0.71, \"p\": 27976, \"fpr\": 0.9271771771771772, \"tpr\": 0.9860594795539034, \"n\": 5328}, {\"threshold\": 0.711, \"p\": 27976, \"fpr\": 0.9271771771771772, \"tpr\": 0.9860594795539034, \"n\": 5328}, {\"threshold\": 0.712, \"p\": 27976, \"fpr\": 0.9271771771771772, \"tpr\": 0.9860594795539034, \"n\": 5328}, {\"threshold\": 0.713, \"p\": 27976, \"fpr\": 0.9271771771771772, \"tpr\": 0.9860594795539034, \"n\": 5328}, {\"threshold\": 0.714, \"p\": 27976, \"fpr\": 0.9271771771771772, \"tpr\": 0.9860594795539034, \"n\": 5328}, {\"threshold\": 0.715, \"p\": 27976, \"fpr\": 0.9271771771771772, \"tpr\": 0.9860594795539034, \"n\": 5328}, {\"threshold\": 0.716, \"p\": 27976, \"fpr\": 0.9271771771771772, \"tpr\": 0.9860594795539034, \"n\": 5328}, {\"threshold\": 0.717, \"p\": 27976, \"fpr\": 0.9271771771771772, \"tpr\": 0.9860594795539034, \"n\": 5328}, {\"threshold\": 0.718, \"p\": 27976, \"fpr\": 0.9271771771771772, \"tpr\": 0.9860594795539034, \"n\": 5328}, {\"threshold\": 0.719, \"p\": 27976, \"fpr\": 0.9271771771771772, \"tpr\": 0.9860594795539034, \"n\": 5328}, {\"threshold\": 0.72, \"p\": 27976, \"fpr\": 0.9271771771771772, \"tpr\": 0.9860594795539034, \"n\": 5328}, {\"threshold\": 0.721, \"p\": 27976, \"fpr\": 0.9271771771771772, \"tpr\": 0.9860594795539034, \"n\": 5328}, {\"threshold\": 0.722, \"p\": 27976, \"fpr\": 0.9271771771771772, \"tpr\": 0.9860594795539034, \"n\": 5328}, {\"threshold\": 0.723, \"p\": 27976, \"fpr\": 0.9271771771771772, \"tpr\": 0.9860594795539034, \"n\": 5328}, {\"threshold\": 0.724, \"p\": 27976, \"fpr\": 0.9271771771771772, \"tpr\": 0.9860594795539034, \"n\": 5328}, {\"threshold\": 0.725, \"p\": 27976, \"fpr\": 0.9271771771771772, \"tpr\": 0.9860594795539034, \"n\": 5328}, {\"threshold\": 0.726, \"p\": 27976, \"fpr\": 0.9271771771771772, \"tpr\": 0.9860594795539034, \"n\": 5328}, {\"threshold\": 0.727, \"p\": 27976, \"fpr\": 0.9271771771771772, \"tpr\": 0.9860594795539034, \"n\": 5328}, {\"threshold\": 0.728, \"p\": 27976, \"fpr\": 0.9271771771771772, \"tpr\": 0.9860594795539034, \"n\": 5328}, {\"threshold\": 0.729, \"p\": 27976, \"fpr\": 0.9271771771771772, \"tpr\": 0.9860594795539034, \"n\": 5328}, {\"threshold\": 0.73, \"p\": 27976, \"fpr\": 0.9271771771771772, \"tpr\": 0.9860594795539034, \"n\": 5328}, {\"threshold\": 0.731, \"p\": 27976, \"fpr\": 0.9271771771771772, \"tpr\": 0.9860594795539034, \"n\": 5328}, {\"threshold\": 0.732, \"p\": 27976, \"fpr\": 0.9271771771771772, \"tpr\": 0.9859879897054619, \"n\": 5328}, {\"threshold\": 0.733, \"p\": 27976, \"fpr\": 0.9271771771771772, \"tpr\": 0.9859879897054619, \"n\": 5328}, {\"threshold\": 0.734, \"p\": 27976, \"fpr\": 0.9271771771771772, \"tpr\": 0.9859879897054619, \"n\": 5328}, {\"threshold\": 0.735, \"p\": 27976, \"fpr\": 0.9269894894894894, \"tpr\": 0.9859522447812411, \"n\": 5328}, {\"threshold\": 0.736, \"p\": 27976, \"fpr\": 0.9269894894894894, \"tpr\": 0.9859522447812411, \"n\": 5328}, {\"threshold\": 0.737, \"p\": 27976, \"fpr\": 0.9269894894894894, \"tpr\": 0.9859522447812411, \"n\": 5328}, {\"threshold\": 0.738, \"p\": 27976, \"fpr\": 0.9269894894894894, \"tpr\": 0.9859522447812411, \"n\": 5328}, {\"threshold\": 0.739, \"p\": 27976, \"fpr\": 0.9269894894894894, \"tpr\": 0.9859522447812411, \"n\": 5328}, {\"threshold\": 0.74, \"p\": 27976, \"fpr\": 0.9268018018018018, \"tpr\": 0.9858807549327996, \"n\": 5328}, {\"threshold\": 0.741, \"p\": 27976, \"fpr\": 0.9268018018018018, \"tpr\": 0.9858807549327996, \"n\": 5328}, {\"threshold\": 0.742, \"p\": 27976, \"fpr\": 0.9268018018018018, \"tpr\": 0.9858807549327996, \"n\": 5328}, {\"threshold\": 0.743, \"p\": 27976, \"fpr\": 0.9268018018018018, \"tpr\": 0.9858807549327996, \"n\": 5328}, {\"threshold\": 0.744, \"p\": 27976, \"fpr\": 0.9268018018018018, \"tpr\": 0.9858807549327996, \"n\": 5328}, {\"threshold\": 0.745, \"p\": 27976, \"fpr\": 0.9268018018018018, \"tpr\": 0.9858807549327996, \"n\": 5328}, {\"threshold\": 0.746, \"p\": 27976, \"fpr\": 0.9268018018018018, \"tpr\": 0.9858807549327996, \"n\": 5328}, {\"threshold\": 0.747, \"p\": 27976, \"fpr\": 0.9268018018018018, \"tpr\": 0.9858807549327996, \"n\": 5328}, {\"threshold\": 0.748, \"p\": 27976, \"fpr\": 0.9268018018018018, \"tpr\": 0.9858807549327996, \"n\": 5328}, {\"threshold\": 0.749, \"p\": 27976, \"fpr\": 0.9268018018018018, \"tpr\": 0.9858807549327996, \"n\": 5328}, {\"threshold\": 0.75, \"p\": 27976, \"fpr\": 0.9268018018018018, \"tpr\": 0.9858807549327996, \"n\": 5328}, {\"threshold\": 0.751, \"p\": 27976, \"fpr\": 0.9268018018018018, \"tpr\": 0.9858807549327996, \"n\": 5328}, {\"threshold\": 0.752, \"p\": 27976, \"fpr\": 0.9268018018018018, \"tpr\": 0.9858807549327996, \"n\": 5328}, {\"threshold\": 0.753, \"p\": 27976, \"fpr\": 0.9268018018018018, \"tpr\": 0.9858807549327996, \"n\": 5328}, {\"threshold\": 0.754, \"p\": 27976, \"fpr\": 0.9268018018018018, \"tpr\": 0.9858807549327996, \"n\": 5328}, {\"threshold\": 0.755, \"p\": 27976, \"fpr\": 0.9268018018018018, \"tpr\": 0.9858807549327996, \"n\": 5328}, {\"threshold\": 0.756, \"p\": 27976, \"fpr\": 0.9268018018018018, \"tpr\": 0.9858807549327996, \"n\": 5328}, {\"threshold\": 0.757, \"p\": 27976, \"fpr\": 0.9268018018018018, \"tpr\": 0.9858807549327996, \"n\": 5328}, {\"threshold\": 0.758, \"p\": 27976, \"fpr\": 0.9268018018018018, \"tpr\": 0.9858450100085788, \"n\": 5328}, {\"threshold\": 0.759, \"p\": 27976, \"fpr\": 0.9268018018018018, \"tpr\": 0.9858450100085788, \"n\": 5328}, {\"threshold\": 0.76, \"p\": 27976, \"fpr\": 0.9268018018018018, \"tpr\": 0.9858450100085788, \"n\": 5328}, {\"threshold\": 0.761, \"p\": 27976, \"fpr\": 0.9268018018018018, \"tpr\": 0.9858450100085788, \"n\": 5328}, {\"threshold\": 0.762, \"p\": 27976, \"fpr\": 0.9268018018018018, \"tpr\": 0.9857735201601373, \"n\": 5328}, {\"threshold\": 0.763, \"p\": 27976, \"fpr\": 0.9268018018018018, \"tpr\": 0.9857735201601373, \"n\": 5328}, {\"threshold\": 0.764, \"p\": 27976, \"fpr\": 0.9268018018018018, \"tpr\": 0.9857735201601373, \"n\": 5328}, {\"threshold\": 0.765, \"p\": 27976, \"fpr\": 0.9268018018018018, \"tpr\": 0.9857735201601373, \"n\": 5328}, {\"threshold\": 0.766, \"p\": 27976, \"fpr\": 0.9268018018018018, \"tpr\": 0.9857735201601373, \"n\": 5328}, {\"threshold\": 0.767, \"p\": 27976, \"fpr\": 0.9268018018018018, \"tpr\": 0.9857735201601373, \"n\": 5328}, {\"threshold\": 0.768, \"p\": 27976, \"fpr\": 0.9268018018018018, \"tpr\": 0.9857735201601373, \"n\": 5328}, {\"threshold\": 0.769, \"p\": 27976, \"fpr\": 0.9268018018018018, \"tpr\": 0.9857735201601373, \"n\": 5328}, {\"threshold\": 0.77, \"p\": 27976, \"fpr\": 0.9268018018018018, \"tpr\": 0.9857735201601373, \"n\": 5328}, {\"threshold\": 0.771, \"p\": 27976, \"fpr\": 0.9268018018018018, \"tpr\": 0.9857735201601373, \"n\": 5328}, {\"threshold\": 0.772, \"p\": 27976, \"fpr\": 0.9268018018018018, \"tpr\": 0.9857377752359165, \"n\": 5328}, {\"threshold\": 0.773, \"p\": 27976, \"fpr\": 0.9268018018018018, \"tpr\": 0.9857377752359165, \"n\": 5328}, {\"threshold\": 0.774, \"p\": 27976, \"fpr\": 0.9268018018018018, \"tpr\": 0.9857377752359165, \"n\": 5328}, {\"threshold\": 0.775, \"p\": 27976, \"fpr\": 0.9268018018018018, \"tpr\": 0.9857377752359165, \"n\": 5328}, {\"threshold\": 0.776, \"p\": 27976, \"fpr\": 0.9268018018018018, \"tpr\": 0.9857377752359165, \"n\": 5328}, {\"threshold\": 0.777, \"p\": 27976, \"fpr\": 0.9268018018018018, \"tpr\": 0.9857377752359165, \"n\": 5328}, {\"threshold\": 0.778, \"p\": 27976, \"fpr\": 0.9268018018018018, \"tpr\": 0.9857377752359165, \"n\": 5328}, {\"threshold\": 0.779, \"p\": 27976, \"fpr\": 0.9268018018018018, \"tpr\": 0.9857377752359165, \"n\": 5328}, {\"threshold\": 0.78, \"p\": 27976, \"fpr\": 0.9234234234234234, \"tpr\": 0.9838432942522162, \"n\": 5328}, {\"threshold\": 0.781, \"p\": 27976, \"fpr\": 0.9234234234234234, \"tpr\": 0.9838432942522162, \"n\": 5328}, {\"threshold\": 0.782, \"p\": 27976, \"fpr\": 0.9234234234234234, \"tpr\": 0.9837718044037747, \"n\": 5328}, {\"threshold\": 0.783, \"p\": 27976, \"fpr\": 0.9234234234234234, \"tpr\": 0.9837718044037747, \"n\": 5328}, {\"threshold\": 0.784, \"p\": 27976, \"fpr\": 0.9234234234234234, \"tpr\": 0.9837718044037747, \"n\": 5328}, {\"threshold\": 0.785, \"p\": 27976, \"fpr\": 0.9234234234234234, \"tpr\": 0.9837718044037747, \"n\": 5328}, {\"threshold\": 0.786, \"p\": 27976, \"fpr\": 0.9234234234234234, \"tpr\": 0.9837718044037747, \"n\": 5328}, {\"threshold\": 0.787, \"p\": 27976, \"fpr\": 0.9234234234234234, \"tpr\": 0.9837718044037747, \"n\": 5328}, {\"threshold\": 0.788, \"p\": 27976, \"fpr\": 0.9234234234234234, \"tpr\": 0.9837718044037747, \"n\": 5328}, {\"threshold\": 0.789, \"p\": 27976, \"fpr\": 0.9232357357357357, \"tpr\": 0.9835573348584501, \"n\": 5328}, {\"threshold\": 0.79, \"p\": 27976, \"fpr\": 0.9232357357357357, \"tpr\": 0.9835573348584501, \"n\": 5328}, {\"threshold\": 0.791, \"p\": 27976, \"fpr\": 0.9232357357357357, \"tpr\": 0.9835573348584501, \"n\": 5328}, {\"threshold\": 0.792, \"p\": 27976, \"fpr\": 0.9232357357357357, \"tpr\": 0.9835573348584501, \"n\": 5328}, {\"threshold\": 0.793, \"p\": 27976, \"fpr\": 0.9232357357357357, \"tpr\": 0.9835573348584501, \"n\": 5328}, {\"threshold\": 0.794, \"p\": 27976, \"fpr\": 0.9232357357357357, \"tpr\": 0.9835573348584501, \"n\": 5328}, {\"threshold\": 0.795, \"p\": 27976, \"fpr\": 0.9232357357357357, \"tpr\": 0.9835573348584501, \"n\": 5328}, {\"threshold\": 0.796, \"p\": 27976, \"fpr\": 0.9222972972972973, \"tpr\": 0.9829496711466972, \"n\": 5328}, {\"threshold\": 0.797, \"p\": 27976, \"fpr\": 0.1313813813813814, \"tpr\": 0.41446239633971976, \"n\": 5328}, {\"threshold\": 0.798, \"p\": 27976, \"fpr\": 0.1313813813813814, \"tpr\": 0.41446239633971976, \"n\": 5328}, {\"threshold\": 0.799, \"p\": 27976, \"fpr\": 0.1313813813813814, \"tpr\": 0.41446239633971976, \"n\": 5328}, {\"threshold\": 0.8, \"p\": 27976, \"fpr\": 0.1313813813813814, \"tpr\": 0.41446239633971976, \"n\": 5328}, {\"threshold\": 0.801, \"p\": 27976, \"fpr\": 0.1313813813813814, \"tpr\": 0.41446239633971976, \"n\": 5328}, {\"threshold\": 0.802, \"p\": 27976, \"fpr\": 0.1313813813813814, \"tpr\": 0.41446239633971976, \"n\": 5328}, {\"threshold\": 0.803, \"p\": 27976, \"fpr\": 0.1313813813813814, \"tpr\": 0.41446239633971976, \"n\": 5328}, {\"threshold\": 0.804, \"p\": 27976, \"fpr\": 0.1313813813813814, \"tpr\": 0.41446239633971976, \"n\": 5328}, {\"threshold\": 0.805, \"p\": 27976, \"fpr\": 0.1313813813813814, \"tpr\": 0.41446239633971976, \"n\": 5328}, {\"threshold\": 0.806, \"p\": 27976, \"fpr\": 0.1313813813813814, \"tpr\": 0.41446239633971976, \"n\": 5328}, {\"threshold\": 0.807, \"p\": 27976, \"fpr\": 0.1313813813813814, \"tpr\": 0.41446239633971976, \"n\": 5328}, {\"threshold\": 0.808, \"p\": 27976, \"fpr\": 0.1313813813813814, \"tpr\": 0.41446239633971976, \"n\": 5328}, {\"threshold\": 0.809, \"p\": 27976, \"fpr\": 0.131006006006006, \"tpr\": 0.41428367171861596, \"n\": 5328}, {\"threshold\": 0.81, \"p\": 27976, \"fpr\": 0.131006006006006, \"tpr\": 0.41428367171861596, \"n\": 5328}, {\"threshold\": 0.811, \"p\": 27976, \"fpr\": 0.131006006006006, \"tpr\": 0.41428367171861596, \"n\": 5328}, {\"threshold\": 0.812, \"p\": 27976, \"fpr\": 0.131006006006006, \"tpr\": 0.41428367171861596, \"n\": 5328}, {\"threshold\": 0.813, \"p\": 27976, \"fpr\": 0.131006006006006, \"tpr\": 0.41428367171861596, \"n\": 5328}, {\"threshold\": 0.814, \"p\": 27976, \"fpr\": 0.131006006006006, \"tpr\": 0.41428367171861596, \"n\": 5328}, {\"threshold\": 0.815, \"p\": 27976, \"fpr\": 0.131006006006006, \"tpr\": 0.41428367171861596, \"n\": 5328}, {\"threshold\": 0.816, \"p\": 27976, \"fpr\": 0.131006006006006, \"tpr\": 0.41428367171861596, \"n\": 5328}, {\"threshold\": 0.817, \"p\": 27976, \"fpr\": 0.131006006006006, \"tpr\": 0.41428367171861596, \"n\": 5328}, {\"threshold\": 0.818, \"p\": 27976, \"fpr\": 0.131006006006006, \"tpr\": 0.41428367171861596, \"n\": 5328}, {\"threshold\": 0.819, \"p\": 27976, \"fpr\": 0.131006006006006, \"tpr\": 0.41428367171861596, \"n\": 5328}, {\"threshold\": 0.82, \"p\": 27976, \"fpr\": 0.131006006006006, \"tpr\": 0.41428367171861596, \"n\": 5328}, {\"threshold\": 0.821, \"p\": 27976, \"fpr\": 0.131006006006006, \"tpr\": 0.41428367171861596, \"n\": 5328}, {\"threshold\": 0.822, \"p\": 27976, \"fpr\": 0.131006006006006, \"tpr\": 0.41428367171861596, \"n\": 5328}, {\"threshold\": 0.823, \"p\": 27976, \"fpr\": 0.131006006006006, \"tpr\": 0.41428367171861596, \"n\": 5328}, {\"threshold\": 0.824, \"p\": 27976, \"fpr\": 0.131006006006006, \"tpr\": 0.41428367171861596, \"n\": 5328}, {\"threshold\": 0.825, \"p\": 27976, \"fpr\": 0.131006006006006, \"tpr\": 0.41428367171861596, \"n\": 5328}, {\"threshold\": 0.826, \"p\": 27976, \"fpr\": 0.131006006006006, \"tpr\": 0.41428367171861596, \"n\": 5328}, {\"threshold\": 0.827, \"p\": 27976, \"fpr\": 0.1308183183183183, \"tpr\": 0.4141764369459537, \"n\": 5328}, {\"threshold\": 0.828, \"p\": 27976, \"fpr\": 0.1308183183183183, \"tpr\": 0.4141764369459537, \"n\": 5328}, {\"threshold\": 0.829, \"p\": 27976, \"fpr\": 0.1308183183183183, \"tpr\": 0.4141764369459537, \"n\": 5328}, {\"threshold\": 0.83, \"p\": 27976, \"fpr\": 0.1308183183183183, \"tpr\": 0.4141764369459537, \"n\": 5328}, {\"threshold\": 0.831, \"p\": 27976, \"fpr\": 0.1308183183183183, \"tpr\": 0.4141764369459537, \"n\": 5328}, {\"threshold\": 0.832, \"p\": 27976, \"fpr\": 0.1308183183183183, \"tpr\": 0.4141764369459537, \"n\": 5328}, {\"threshold\": 0.833, \"p\": 27976, \"fpr\": 0.1308183183183183, \"tpr\": 0.4141764369459537, \"n\": 5328}, {\"threshold\": 0.834, \"p\": 27976, \"fpr\": 0.1308183183183183, \"tpr\": 0.4141764369459537, \"n\": 5328}, {\"threshold\": 0.835, \"p\": 27976, \"fpr\": 0.1308183183183183, \"tpr\": 0.4141764369459537, \"n\": 5328}, {\"threshold\": 0.836, \"p\": 27976, \"fpr\": 0.1308183183183183, \"tpr\": 0.4141764369459537, \"n\": 5328}, {\"threshold\": 0.837, \"p\": 27976, \"fpr\": 0.1308183183183183, \"tpr\": 0.4141764369459537, \"n\": 5328}, {\"threshold\": 0.838, \"p\": 27976, \"fpr\": 0.1308183183183183, \"tpr\": 0.4141764369459537, \"n\": 5328}, {\"threshold\": 0.839, \"p\": 27976, \"fpr\": 0.1308183183183183, \"tpr\": 0.4141764369459537, \"n\": 5328}, {\"threshold\": 0.84, \"p\": 27976, \"fpr\": 0.13063063063063063, \"tpr\": 0.41410494709751217, \"n\": 5328}, {\"threshold\": 0.841, \"p\": 27976, \"fpr\": 0.13063063063063063, \"tpr\": 0.4140692021732914, \"n\": 5328}, {\"threshold\": 0.842, \"p\": 27976, \"fpr\": 0.13063063063063063, \"tpr\": 0.4140692021732914, \"n\": 5328}, {\"threshold\": 0.843, \"p\": 27976, \"fpr\": 0.13044294294294295, \"tpr\": 0.41403345724907065, \"n\": 5328}, {\"threshold\": 0.844, \"p\": 27976, \"fpr\": 0.13044294294294295, \"tpr\": 0.41403345724907065, \"n\": 5328}, {\"threshold\": 0.845, \"p\": 27976, \"fpr\": 0.13044294294294295, \"tpr\": 0.41403345724907065, \"n\": 5328}, {\"threshold\": 0.846, \"p\": 27976, \"fpr\": 0.13044294294294295, \"tpr\": 0.41403345724907065, \"n\": 5328}, {\"threshold\": 0.847, \"p\": 27976, \"fpr\": 0.13044294294294295, \"tpr\": 0.41403345724907065, \"n\": 5328}, {\"threshold\": 0.848, \"p\": 27976, \"fpr\": 0.13044294294294295, \"tpr\": 0.4139977123248499, \"n\": 5328}, {\"threshold\": 0.849, \"p\": 27976, \"fpr\": 0.13044294294294295, \"tpr\": 0.41385473262796685, \"n\": 5328}, {\"threshold\": 0.85, \"p\": 27976, \"fpr\": 0.13044294294294295, \"tpr\": 0.41385473262796685, \"n\": 5328}, {\"threshold\": 0.851, \"p\": 27976, \"fpr\": 0.13044294294294295, \"tpr\": 0.41385473262796685, \"n\": 5328}, {\"threshold\": 0.852, \"p\": 27976, \"fpr\": 0.13044294294294295, \"tpr\": 0.41385473262796685, \"n\": 5328}, {\"threshold\": 0.853, \"p\": 27976, \"fpr\": 0.13044294294294295, \"tpr\": 0.41385473262796685, \"n\": 5328}, {\"threshold\": 0.854, \"p\": 27976, \"fpr\": 0.13044294294294295, \"tpr\": 0.41385473262796685, \"n\": 5328}, {\"threshold\": 0.855, \"p\": 27976, \"fpr\": 0.13044294294294295, \"tpr\": 0.4138189877037461, \"n\": 5328}, {\"threshold\": 0.856, \"p\": 27976, \"fpr\": 0.12894144144144143, \"tpr\": 0.41149556762939665, \"n\": 5328}, {\"threshold\": 0.857, \"p\": 27976, \"fpr\": 0.12894144144144143, \"tpr\": 0.41149556762939665, \"n\": 5328}, {\"threshold\": 0.858, \"p\": 27976, \"fpr\": 0.12894144144144143, \"tpr\": 0.41149556762939665, \"n\": 5328}, {\"threshold\": 0.859, \"p\": 27976, \"fpr\": 0.12894144144144143, \"tpr\": 0.41149556762939665, \"n\": 5328}, {\"threshold\": 0.86, \"p\": 27976, \"fpr\": 0.12894144144144143, \"tpr\": 0.41149556762939665, \"n\": 5328}, {\"threshold\": 0.861, \"p\": 27976, \"fpr\": 0.12894144144144143, \"tpr\": 0.41149556762939665, \"n\": 5328}, {\"threshold\": 0.862, \"p\": 27976, \"fpr\": 0.12894144144144143, \"tpr\": 0.4114598227051759, \"n\": 5328}, {\"threshold\": 0.863, \"p\": 27976, \"fpr\": 0.12894144144144143, \"tpr\": 0.4114598227051759, \"n\": 5328}, {\"threshold\": 0.864, \"p\": 27976, \"fpr\": 0.12894144144144143, \"tpr\": 0.4114598227051759, \"n\": 5328}, {\"threshold\": 0.865, \"p\": 27976, \"fpr\": 0.12894144144144143, \"tpr\": 0.4114598227051759, \"n\": 5328}, {\"threshold\": 0.866, \"p\": 27976, \"fpr\": 0.12894144144144143, \"tpr\": 0.4114598227051759, \"n\": 5328}, {\"threshold\": 0.867, \"p\": 27976, \"fpr\": 0.12894144144144143, \"tpr\": 0.4114598227051759, \"n\": 5328}, {\"threshold\": 0.868, \"p\": 27976, \"fpr\": 0.12894144144144143, \"tpr\": 0.4114598227051759, \"n\": 5328}, {\"threshold\": 0.869, \"p\": 27976, \"fpr\": 0.12875375375375375, \"tpr\": 0.4114598227051759, \"n\": 5328}, {\"threshold\": 0.87, \"p\": 27976, \"fpr\": 0.12875375375375375, \"tpr\": 0.4114598227051759, \"n\": 5328}, {\"threshold\": 0.871, \"p\": 27976, \"fpr\": 0.12875375375375375, \"tpr\": 0.4114598227051759, \"n\": 5328}, {\"threshold\": 0.872, \"p\": 27976, \"fpr\": 0.12875375375375375, \"tpr\": 0.4114598227051759, \"n\": 5328}, {\"threshold\": 0.873, \"p\": 27976, \"fpr\": 0.12875375375375375, \"tpr\": 0.4114598227051759, \"n\": 5328}, {\"threshold\": 0.874, \"p\": 27976, \"fpr\": 0.12875375375375375, \"tpr\": 0.4114598227051759, \"n\": 5328}, {\"threshold\": 0.875, \"p\": 27976, \"fpr\": 0.12875375375375375, \"tpr\": 0.4114598227051759, \"n\": 5328}, {\"threshold\": 0.876, \"p\": 27976, \"fpr\": 0.12875375375375375, \"tpr\": 0.4114598227051759, \"n\": 5328}, {\"threshold\": 0.877, \"p\": 27976, \"fpr\": 0.12875375375375375, \"tpr\": 0.4114598227051759, \"n\": 5328}, {\"threshold\": 0.878, \"p\": 27976, \"fpr\": 0.12875375375375375, \"tpr\": 0.4114598227051759, \"n\": 5328}, {\"threshold\": 0.879, \"p\": 27976, \"fpr\": 0.12875375375375375, \"tpr\": 0.4114598227051759, \"n\": 5328}, {\"threshold\": 0.88, \"p\": 27976, \"fpr\": 0.12875375375375375, \"tpr\": 0.4114598227051759, \"n\": 5328}, {\"threshold\": 0.881, \"p\": 27976, \"fpr\": 0.12875375375375375, \"tpr\": 0.4114598227051759, \"n\": 5328}, {\"threshold\": 0.882, \"p\": 27976, \"fpr\": 0.12875375375375375, \"tpr\": 0.4114598227051759, \"n\": 5328}, {\"threshold\": 0.883, \"p\": 27976, \"fpr\": 0.12875375375375375, \"tpr\": 0.4114598227051759, \"n\": 5328}, {\"threshold\": 0.884, \"p\": 27976, \"fpr\": 0.12875375375375375, \"tpr\": 0.4114598227051759, \"n\": 5328}, {\"threshold\": 0.885, \"p\": 27976, \"fpr\": 0.12875375375375375, \"tpr\": 0.4114598227051759, \"n\": 5328}, {\"threshold\": 0.886, \"p\": 27976, \"fpr\": 0.12875375375375375, \"tpr\": 0.4114598227051759, \"n\": 5328}, {\"threshold\": 0.887, \"p\": 27976, \"fpr\": 0.12875375375375375, \"tpr\": 0.4114598227051759, \"n\": 5328}, {\"threshold\": 0.888, \"p\": 27976, \"fpr\": 0.12875375375375375, \"tpr\": 0.4114598227051759, \"n\": 5328}, {\"threshold\": 0.889, \"p\": 27976, \"fpr\": 0.12875375375375375, \"tpr\": 0.4113883328567343, \"n\": 5328}, {\"threshold\": 0.89, \"p\": 27976, \"fpr\": 0.12875375375375375, \"tpr\": 0.4113883328567343, \"n\": 5328}, {\"threshold\": 0.891, \"p\": 27976, \"fpr\": 0.12875375375375375, \"tpr\": 0.4113883328567343, \"n\": 5328}, {\"threshold\": 0.892, \"p\": 27976, \"fpr\": 0.12875375375375375, \"tpr\": 0.4113883328567343, \"n\": 5328}, {\"threshold\": 0.893, \"p\": 27976, \"fpr\": 0.12875375375375375, \"tpr\": 0.4113883328567343, \"n\": 5328}, {\"threshold\": 0.894, \"p\": 27976, \"fpr\": 0.12875375375375375, \"tpr\": 0.4113883328567343, \"n\": 5328}, {\"threshold\": 0.895, \"p\": 27976, \"fpr\": 0.12875375375375375, \"tpr\": 0.4113883328567343, \"n\": 5328}, {\"threshold\": 0.896, \"p\": 27976, \"fpr\": 0.12856606606606608, \"tpr\": 0.41099513869030596, \"n\": 5328}, {\"threshold\": 0.897, \"p\": 27976, \"fpr\": 0.12856606606606608, \"tpr\": 0.4109593937660852, \"n\": 5328}, {\"threshold\": 0.898, \"p\": 27976, \"fpr\": 0.12837837837837837, \"tpr\": 0.41081641406920216, \"n\": 5328}, {\"threshold\": 0.899, \"p\": 27976, \"fpr\": 0.12837837837837837, \"tpr\": 0.41081641406920216, \"n\": 5328}, {\"threshold\": 0.9, \"p\": 27976, \"fpr\": 0.1281906906906907, \"tpr\": 0.41074492422076064, \"n\": 5328}, {\"threshold\": 0.901, \"p\": 27976, \"fpr\": 0.1281906906906907, \"tpr\": 0.4107091792965399, \"n\": 5328}, {\"threshold\": 0.902, \"p\": 27976, \"fpr\": 0.1281906906906907, \"tpr\": 0.4107091792965399, \"n\": 5328}, {\"threshold\": 0.903, \"p\": 27976, \"fpr\": 0.1281906906906907, \"tpr\": 0.4107091792965399, \"n\": 5328}, {\"threshold\": 0.904, \"p\": 27976, \"fpr\": 0.1281906906906907, \"tpr\": 0.41056619959965684, \"n\": 5328}, {\"threshold\": 0.905, \"p\": 27976, \"fpr\": 0.05442942942942943, \"tpr\": 0.26594223620245927, \"n\": 5328}, {\"threshold\": 0.906, \"p\": 27976, \"fpr\": 0.05105105105105105, \"tpr\": 0.2600800686302545, \"n\": 5328}, {\"threshold\": 0.907, \"p\": 27976, \"fpr\": 0.05105105105105105, \"tpr\": 0.2600800686302545, \"n\": 5328}, {\"threshold\": 0.908, \"p\": 27976, \"fpr\": 0.05105105105105105, \"tpr\": 0.2600800686302545, \"n\": 5328}, {\"threshold\": 0.909, \"p\": 27976, \"fpr\": 0.05105105105105105, \"tpr\": 0.2600800686302545, \"n\": 5328}, {\"threshold\": 0.91, \"p\": 27976, \"fpr\": 0.05105105105105105, \"tpr\": 0.2600800686302545, \"n\": 5328}, {\"threshold\": 0.911, \"p\": 27976, \"fpr\": 0.05105105105105105, \"tpr\": 0.260008578781813, \"n\": 5328}, {\"threshold\": 0.912, \"p\": 27976, \"fpr\": 0.05105105105105105, \"tpr\": 0.260008578781813, \"n\": 5328}, {\"threshold\": 0.913, \"p\": 27976, \"fpr\": 0.05105105105105105, \"tpr\": 0.260008578781813, \"n\": 5328}, {\"threshold\": 0.914, \"p\": 27976, \"fpr\": 0.05105105105105105, \"tpr\": 0.260008578781813, \"n\": 5328}, {\"threshold\": 0.915, \"p\": 27976, \"fpr\": 0.05105105105105105, \"tpr\": 0.260008578781813, \"n\": 5328}, {\"threshold\": 0.916, \"p\": 27976, \"fpr\": 0.05105105105105105, \"tpr\": 0.260008578781813, \"n\": 5328}, {\"threshold\": 0.917, \"p\": 27976, \"fpr\": 0.05105105105105105, \"tpr\": 0.260008578781813, \"n\": 5328}, {\"threshold\": 0.918, \"p\": 27976, \"fpr\": 0.05105105105105105, \"tpr\": 0.260008578781813, \"n\": 5328}, {\"threshold\": 0.919, \"p\": 27976, \"fpr\": 0.04973723723723724, \"tpr\": 0.25439662567915355, \"n\": 5328}, {\"threshold\": 0.92, \"p\": 27976, \"fpr\": 0.04973723723723724, \"tpr\": 0.25439662567915355, \"n\": 5328}, {\"threshold\": 0.921, \"p\": 27976, \"fpr\": 0.04973723723723724, \"tpr\": 0.2543608807549328, \"n\": 5328}, {\"threshold\": 0.922, \"p\": 27976, \"fpr\": 0.04973723723723724, \"tpr\": 0.2543608807549328, \"n\": 5328}, {\"threshold\": 0.923, \"p\": 27976, \"fpr\": 0.04973723723723724, \"tpr\": 0.2543608807549328, \"n\": 5328}, {\"threshold\": 0.924, \"p\": 27976, \"fpr\": 0.04973723723723724, \"tpr\": 0.2543608807549328, \"n\": 5328}, {\"threshold\": 0.925, \"p\": 27976, \"fpr\": 0.04973723723723724, \"tpr\": 0.2543608807549328, \"n\": 5328}, {\"threshold\": 0.926, \"p\": 27976, \"fpr\": 0.04973723723723724, \"tpr\": 0.2543608807549328, \"n\": 5328}, {\"threshold\": 0.927, \"p\": 27976, \"fpr\": 0.04973723723723724, \"tpr\": 0.2543608807549328, \"n\": 5328}, {\"threshold\": 0.928, \"p\": 27976, \"fpr\": 0.04973723723723724, \"tpr\": 0.2543608807549328, \"n\": 5328}, {\"threshold\": 0.929, \"p\": 27976, \"fpr\": 0.04973723723723724, \"tpr\": 0.2543608807549328, \"n\": 5328}, {\"threshold\": 0.93, \"p\": 27976, \"fpr\": 0.04973723723723724, \"tpr\": 0.2543608807549328, \"n\": 5328}, {\"threshold\": 0.931, \"p\": 27976, \"fpr\": 0.04973723723723724, \"tpr\": 0.2543608807549328, \"n\": 5328}, {\"threshold\": 0.932, \"p\": 27976, \"fpr\": 0.04954954954954955, \"tpr\": 0.2543608807549328, \"n\": 5328}, {\"threshold\": 0.933, \"p\": 27976, \"fpr\": 0.04954954954954955, \"tpr\": 0.2543608807549328, \"n\": 5328}, {\"threshold\": 0.934, \"p\": 27976, \"fpr\": 0.04954954954954955, \"tpr\": 0.2543608807549328, \"n\": 5328}, {\"threshold\": 0.935, \"p\": 27976, \"fpr\": 0.048986486486486486, \"tpr\": 0.2538961967400629, \"n\": 5328}, {\"threshold\": 0.936, \"p\": 27976, \"fpr\": 0.048986486486486486, \"tpr\": 0.2538247068916214, \"n\": 5328}, {\"threshold\": 0.937, \"p\": 27976, \"fpr\": 0.048986486486486486, \"tpr\": 0.2538247068916214, \"n\": 5328}, {\"threshold\": 0.938, \"p\": 27976, \"fpr\": 0.048986486486486486, \"tpr\": 0.2536459822705176, \"n\": 5328}, {\"threshold\": 0.939, \"p\": 27976, \"fpr\": 0.048986486486486486, \"tpr\": 0.2536459822705176, \"n\": 5328}, {\"threshold\": 0.94, \"p\": 27976, \"fpr\": 0.048986486486486486, \"tpr\": 0.2536459822705176, \"n\": 5328}, {\"threshold\": 0.941, \"p\": 27976, \"fpr\": 0.016516516516516516, \"tpr\": 0.11749356591364027, \"n\": 5328}, {\"threshold\": 0.942, \"p\": 27976, \"fpr\": 0.016516516516516516, \"tpr\": 0.11749356591364027, \"n\": 5328}, {\"threshold\": 0.943, \"p\": 27976, \"fpr\": 0.016516516516516516, \"tpr\": 0.11749356591364027, \"n\": 5328}, {\"threshold\": 0.944, \"p\": 27976, \"fpr\": 0.016516516516516516, \"tpr\": 0.11749356591364027, \"n\": 5328}, {\"threshold\": 0.945, \"p\": 27976, \"fpr\": 0.016516516516516516, \"tpr\": 0.11749356591364027, \"n\": 5328}, {\"threshold\": 0.946, \"p\": 27976, \"fpr\": 0.016516516516516516, \"tpr\": 0.11749356591364027, \"n\": 5328}, {\"threshold\": 0.947, \"p\": 27976, \"fpr\": 0.016516516516516516, \"tpr\": 0.11749356591364027, \"n\": 5328}, {\"threshold\": 0.948, \"p\": 27976, \"fpr\": 0.016516516516516516, \"tpr\": 0.11749356591364027, \"n\": 5328}, {\"threshold\": 0.949, \"p\": 27976, \"fpr\": 0.016516516516516516, \"tpr\": 0.11749356591364027, \"n\": 5328}, {\"threshold\": 0.95, \"p\": 27976, \"fpr\": 0.016516516516516516, \"tpr\": 0.11749356591364027, \"n\": 5328}, {\"threshold\": 0.951, \"p\": 27976, \"fpr\": 0.016516516516516516, \"tpr\": 0.11749356591364027, \"n\": 5328}, {\"threshold\": 0.952, \"p\": 27976, \"fpr\": 0.016516516516516516, \"tpr\": 0.11749356591364027, \"n\": 5328}, {\"threshold\": 0.953, \"p\": 27976, \"fpr\": 0.016516516516516516, \"tpr\": 0.11749356591364027, \"n\": 5328}, {\"threshold\": 0.954, \"p\": 27976, \"fpr\": 0.016516516516516516, \"tpr\": 0.11749356591364027, \"n\": 5328}, {\"threshold\": 0.955, \"p\": 27976, \"fpr\": 0.01632882882882883, \"tpr\": 0.11738633114097798, \"n\": 5328}, {\"threshold\": 0.956, \"p\": 27976, \"fpr\": 0.01632882882882883, \"tpr\": 0.11738633114097798, \"n\": 5328}, {\"threshold\": 0.957, \"p\": 27976, \"fpr\": 0.01632882882882883, \"tpr\": 0.11738633114097798, \"n\": 5328}, {\"threshold\": 0.958, \"p\": 27976, \"fpr\": 0.01632882882882883, \"tpr\": 0.11735058621675722, \"n\": 5328}, {\"threshold\": 0.959, \"p\": 27976, \"fpr\": 0.01126126126126126, \"tpr\": 0.09318701744352302, \"n\": 5328}, {\"threshold\": 0.96, \"p\": 27976, \"fpr\": 0.011073573573573574, \"tpr\": 0.09307978267086074, \"n\": 5328}, {\"threshold\": 0.961, \"p\": 27976, \"fpr\": 0.011073573573573574, \"tpr\": 0.09265084358021161, \"n\": 5328}, {\"threshold\": 0.962, \"p\": 27976, \"fpr\": 0.011073573573573574, \"tpr\": 0.09261509865599085, \"n\": 5328}, {\"threshold\": 0.963, \"p\": 27976, \"fpr\": 0.011073573573573574, \"tpr\": 0.09261509865599085, \"n\": 5328}, {\"threshold\": 0.964, \"p\": 27976, \"fpr\": 0.011073573573573574, \"tpr\": 0.09261509865599085, \"n\": 5328}, {\"threshold\": 0.965, \"p\": 27976, \"fpr\": 0.010885885885885885, \"tpr\": 0.0905776379754075, \"n\": 5328}, {\"threshold\": 0.966, \"p\": 27976, \"fpr\": 0.010885885885885885, \"tpr\": 0.09043465827852445, \"n\": 5328}, {\"threshold\": 0.967, \"p\": 27976, \"fpr\": 0.010885885885885885, \"tpr\": 0.09043465827852445, \"n\": 5328}, {\"threshold\": 0.968, \"p\": 27976, \"fpr\": 0.010885885885885885, \"tpr\": 0.09043465827852445, \"n\": 5328}, {\"threshold\": 0.969, \"p\": 27976, \"fpr\": 0.010885885885885885, \"tpr\": 0.09043465827852445, \"n\": 5328}, {\"threshold\": 0.97, \"p\": 27976, \"fpr\": 0.010885885885885885, \"tpr\": 0.0903989133543037, \"n\": 5328}, {\"threshold\": 0.971, \"p\": 27976, \"fpr\": 0.010885885885885885, \"tpr\": 0.0902916785816414, \"n\": 5328}, {\"threshold\": 0.972, \"p\": 27976, \"fpr\": 0.010885885885885885, \"tpr\": 0.09025593365742064, \"n\": 5328}, {\"threshold\": 0.973, \"p\": 27976, \"fpr\": 0.010698198198198198, \"tpr\": 0.0901129539605376, \"n\": 5328}, {\"threshold\": 0.974, \"p\": 27976, \"fpr\": 0.010698198198198198, \"tpr\": 0.0901129539605376, \"n\": 5328}, {\"threshold\": 0.975, \"p\": 27976, \"fpr\": 0.00487987987987988, \"tpr\": 0.05461824420932228, \"n\": 5328}, {\"threshold\": 0.976, \"p\": 27976, \"fpr\": 0.00487987987987988, \"tpr\": 0.05461824420932228, \"n\": 5328}, {\"threshold\": 0.977, \"p\": 27976, \"fpr\": 0.00487987987987988, \"tpr\": 0.05458249928510152, \"n\": 5328}, {\"threshold\": 0.978, \"p\": 27976, \"fpr\": 0.00487987987987988, \"tpr\": 0.05458249928510152, \"n\": 5328}, {\"threshold\": 0.979, \"p\": 27976, \"fpr\": 0.004316816816816817, \"tpr\": 0.052294824134972835, \"n\": 5328}, {\"threshold\": 0.98, \"p\": 27976, \"fpr\": 0.004316816816816817, \"tpr\": 0.052294824134972835, \"n\": 5328}, {\"threshold\": 0.981, \"p\": 27976, \"fpr\": 0.004316816816816817, \"tpr\": 0.052223334286531316, \"n\": 5328}, {\"threshold\": 0.982, \"p\": 27976, \"fpr\": 0.004316816816816817, \"tpr\": 0.052223334286531316, \"n\": 5328}, {\"threshold\": 0.983, \"p\": 27976, \"fpr\": 0.003941441441441441, \"tpr\": 0.04818415784958536, \"n\": 5328}, {\"threshold\": 0.984, \"p\": 27976, \"fpr\": 0.003941441441441441, \"tpr\": 0.0481484129253646, \"n\": 5328}, {\"threshold\": 0.985, \"p\": 27976, \"fpr\": 0.0018768768768768769, \"tpr\": 0.02802402058907635, \"n\": 5328}, {\"threshold\": 0.986, \"p\": 27976, \"fpr\": 0.0016891891891891893, \"tpr\": 0.027630826422647983, \"n\": 5328}, {\"threshold\": 0.987, \"p\": 27976, \"fpr\": 0.0016891891891891893, \"tpr\": 0.027595081498427224, \"n\": 5328}, {\"threshold\": 0.988, \"p\": 27976, \"fpr\": 0.0016891891891891893, \"tpr\": 0.027559336574206464, \"n\": 5328}, {\"threshold\": 0.989, \"p\": 27976, \"fpr\": 0.0016891891891891893, \"tpr\": 0.027559336574206464, \"n\": 5328}, {\"threshold\": 0.99, \"p\": 27976, \"fpr\": 0.001313813813813814, \"tpr\": 0.021053760366028025, \"n\": 5328}, {\"threshold\": 0.991, \"p\": 27976, \"fpr\": 0.001313813813813814, \"tpr\": 0.021018015441807262, \"n\": 5328}, {\"threshold\": 0.992, \"p\": 27976, \"fpr\": 0.001313813813813814, \"tpr\": 0.020589076351158135, \"n\": 5328}, {\"threshold\": 0.993, \"p\": 27976, \"fpr\": 0.0009384384384384384, \"tpr\": 0.019909922790963683, \"n\": 5328}, {\"threshold\": 0.994, \"p\": 27976, \"fpr\": 0.0005630630630630631, \"tpr\": 0.013046897340577637, \"n\": 5328}, {\"threshold\": 0.995, \"p\": 27976, \"fpr\": 0.0005630630630630631, \"tpr\": 0.01254646840148699, \"n\": 5328}, {\"threshold\": 0.996, \"p\": 27976, \"fpr\": 0.00037537537537537537, \"tpr\": 0.011402630826422648, \"n\": 5328}, {\"threshold\": 0.997, \"p\": 27976, \"fpr\": 0.00037537537537537537, \"tpr\": 0.007041750071489848, \"n\": 5328}, {\"threshold\": 0.998, \"p\": 27976, \"fpr\": 0.00018768768768768769, \"tpr\": 0.00546897340577638, \"n\": 5328}, {\"threshold\": 0.999, \"p\": 27976, \"fpr\": 0.00018768768768768769, \"tpr\": 0.0030383185587646556, \"n\": 5328}, {\"threshold\": 1.0, \"p\": 27976, \"fpr\": 0.0, \"tpr\": 0.0, \"n\": 5328}]}]]}, e);\n",
       "                });\n",
       "            })();\n",
       "        "
      ]
     },
     "metadata": {},
     "output_type": "display_data"
    }
   ],
   "source": [
    "sentiment_model_se.show(view='Evaluation')"
   ]
  },
  {
   "cell_type": "code",
   "execution_count": null,
   "metadata": {
    "collapsed": true
   },
   "outputs": [],
   "source": []
  }
 ],
 "metadata": {
  "kernelspec": {
   "display_name": "Python 2",
   "language": "python",
   "name": "python2"
  },
  "language_info": {
   "codemirror_mode": {
    "name": "ipython",
    "version": 2
   },
   "file_extension": ".py",
   "mimetype": "text/x-python",
   "name": "python",
   "nbconvert_exporter": "python",
   "pygments_lexer": "ipython2",
   "version": "2.7.11"
  }
 },
 "nbformat": 4,
 "nbformat_minor": 0
}
